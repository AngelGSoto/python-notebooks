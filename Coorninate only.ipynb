{
 "cells": [
  {
   "cell_type": "markdown",
   "metadata": {},
   "source": [
    "# A simple code to write a file with and coordinates"
   ]
  },
  {
   "cell_type": "code",
   "execution_count": 1,
   "metadata": {},
   "outputs": [],
   "source": [
    "from astroquery.simbad import Simbad\n",
    "import astropy.coordinates as coord\n",
    "import astropy.units as u\n",
    "from astropy.io import ascii\n",
    "from astropy.table import Table\n",
    "from astropy.coordinates import SkyCoord \n",
    "from astroquery.sdss import SDSS\n",
    "import numpy as np\n",
    "from astropy.io import fits"
   ]
  },
  {
   "cell_type": "code",
   "execution_count": 2,
   "metadata": {},
   "outputs": [
    {
     "data": {
      "text/plain": [
       "[<astropy.io.fits.hdu.image.PrimaryHDU object at 0x7f38eb918550>, <astropy.io.fits.hdu.table.BinTableHDU object at 0x7f38eb92c390>]"
      ]
     },
     "execution_count": 2,
     "metadata": {},
     "output_type": "execute_result"
    }
   ],
   "source": [
    "# Read the table\n",
    "#tab = fits.open(\"../SDSS/Skyserver_SQL11_24_2020_PNstars_colors.fits\")\n",
    "tab = fits.open(\"../SDSS/Skyserver_SQL11_24_2020_PNGalaxies_color.fits\")\n",
    "tab"
   ]
  },
  {
   "cell_type": "code",
   "execution_count": 3,
   "metadata": {},
   "outputs": [
    {
     "data": {
      "text/plain": [
       "array([4., 4., 4., ..., 4., 4., 4.])"
      ]
     },
     "execution_count": 3,
     "metadata": {},
     "output_type": "execute_result"
    }
   ],
   "source": [
    "n = len(tab[1].data[\"ra\"])\n",
    "sep = np.linspace(4.0, 4.0, num=n)\n",
    "sep"
   ]
  },
  {
   "cell_type": "code",
   "execution_count": 4,
   "metadata": {},
   "outputs": [],
   "source": [
    "objid = tab[1].data['objID']\n",
    "ra = tab[1].data[\"ra\"]\n",
    "dec = tab[1].data[\"dec\"]\n",
    "table = Table([ra, dec, sep], names=('ra', 'dec', 'radius'), meta={'name': 'first table'}) \n"
   ]
  },
  {
   "cell_type": "code",
   "execution_count": 5,
   "metadata": {},
   "outputs": [
    {
     "name": "stderr",
     "output_type": "stream",
     "text": [
      "WARNING: AstropyDeprecationWarning: ../SDSS/Skyserver_SQL11_24_2020_PNGalaxies_color_coor.dat already exists. Automatically overwriting ASCII files is deprecated. Use the argument 'overwrite=True' in the future. [astropy.io.ascii.ui]\n"
     ]
    }
   ],
   "source": [
    "#asciifile = \"../SDSS/Skyserver_SQL11_24_2020_PNstars_colors_coor.dat\" \n",
    "asciifile = \"../SDSS/Skyserver_SQL11_24_2020_PNGalaxies_color_coor.dat\" \n",
    "table.write(asciifile, format=\"ascii.commented_header\", delimiter=',') "
   ]
  },
  {
   "cell_type": "code",
   "execution_count": 6,
   "metadata": {},
   "outputs": [
    {
     "data": {
      "text/html": [
       "<i>Table length=3564</i>\n",
       "<table id=\"table139882446860432\" class=\"table-striped table-bordered table-condensed\">\n",
       "<thead><tr><th>idPNMain</th><th>PNG</th><th>Name</th><th>PNstat</th><th>RAJ2000</th><th>DECJ2000</th><th>DRAJ2000</th><th>DDECJ2000</th></tr></thead>\n",
       "<thead><tr><th>int64</th><th>str11</th><th>str31</th><th>str1</th><th>str13</th><th>str13</th><th>float64</th><th>float64</th></tr></thead>\n",
       "<tr><td>8</td><td>000.0+02.0</td><td>K 6-4</td><td>T</td><td>17:37:42.9</td><td>-27:49:09.55</td><td>264.42886</td><td>-27.81932</td></tr>\n",
       "<tr><td>9</td><td>000.1-01.9</td><td>JaSt 93</td><td>T</td><td>17:53:23.9</td><td>-29:49:47.68</td><td>268.3495</td><td>-29.82991</td></tr>\n",
       "<tr><td>10</td><td>000.1-08.0</td><td>SB 1</td><td>T</td><td>18:18:48.5</td><td>-32:47:55.32</td><td>274.702</td><td>-32.7987</td></tr>\n",
       "<tr><td>11</td><td>000.1-01.1</td><td>M 3-43</td><td>T</td><td>17:50:24.3</td><td>-29:25:18.70</td><td>267.60123</td><td>-29.42186</td></tr>\n",
       "<tr><td>12</td><td>000.1+02.6</td><td>Al 2-J</td><td>T</td><td>17:35:35.4</td><td>-27:24:04.97</td><td>263.89753</td><td>-27.40138</td></tr>\n",
       "<tr><td>13</td><td>000.1-05.6</td><td>H 2-40</td><td>T</td><td>18:08:30.7</td><td>-31:36:35.64</td><td>272.128</td><td>-31.6099</td></tr>\n",
       "<tr><td>14</td><td>000.1+17.2</td><td>PC 12</td><td>T</td><td>16:43:53.8</td><td>-18:57:11.88</td><td>250.97409</td><td>-18.9533</td></tr>\n",
       "<tr><td>15</td><td>000.0-01.0</td><td>JaSt 69</td><td>T</td><td>17:50:10.0</td><td>-29:19:05.38</td><td>267.54154</td><td>-29.31816</td></tr>\n",
       "<tr><td>16</td><td>000.1+04.3</td><td>H 1-16</td><td>T</td><td>17:29:23.4</td><td>-26:26:04.38</td><td>262.34732</td><td>-26.43455</td></tr>\n",
       "<tr><td>17</td><td>000.1-02.3</td><td>Bl 3-10</td><td>T</td><td>17:55:20.5</td><td>-29:57:36.14</td><td>268.83557</td><td>-29.96004</td></tr>\n",
       "<tr><td>...</td><td>...</td><td>...</td><td>...</td><td>...</td><td>...</td><td>...</td><td>...</td></tr>\n",
       "<tr><td>31928</td><td>061.5-02.6</td><td>--</td><td>L</td><td>19:57:23.3</td><td>23:52:48.36</td><td>299.347</td><td>23.8801</td></tr>\n",
       "<tr><td>31929</td><td>084.3+03.1</td><td>Ra 67</td><td>L</td><td>20:36:07.2</td><td>46:01:50.88</td><td>309.03</td><td>46.0308</td></tr>\n",
       "<tr><td>31930</td><td>102.5+02.6</td><td>--</td><td>P</td><td>22:03:06.0</td><td>58:39:11.88</td><td>330.775</td><td>58.6533</td></tr>\n",
       "<tr><td>31931</td><td>290.8+00.5</td><td>Pre 43</td><td>L</td><td>11:12:27.35</td><td>-59:58:38.0</td><td>168.11396</td><td>-59.97722</td></tr>\n",
       "<tr><td>31970</td><td>103.9+05.5</td><td>Dr 5</td><td>L</td><td>21:57:35.52</td><td>+61:51:28.95</td><td>329.398</td><td>61.85804</td></tr>\n",
       "<tr><td>32022</td><td>023.1-02.5</td><td>Pre 48</td><td>T</td><td>18:42:46.75</td><td>-09:50:48.0</td><td>280.69479</td><td>-9.84667</td></tr>\n",
       "<tr><td>32192</td><td>027.3-01.1</td><td>Tan 1</td><td>T</td><td>18:45:28.1</td><td>-05:31:02.31</td><td>281.36708</td><td>-5.51731</td></tr>\n",
       "<tr><td>32193</td><td>014.0-02.5</td><td>Tan 2</td><td>T</td><td>18:25:17.06</td><td>-17:56:30.0</td><td>276.32108</td><td>-17.94167</td></tr>\n",
       "<tr><td>32238</td><td>060.7+48.9</td><td>Pa J1601.8+3804</td><td>P</td><td>16:01:25.0</td><td>+38:03:00</td><td>240.35417</td><td>38.05</td></tr>\n",
       "<tr><td>32249</td><td>204.4-00.4</td><td>StDr 13</td><td>L</td><td>06:34:22.65</td><td>+07:22:20.24</td><td>98.59438</td><td>7.37229</td></tr>\n",
       "</table>"
      ],
      "text/plain": [
       "<Table length=3564>\n",
       "idPNMain    PNG           Name      PNstat ...   DECJ2000    DRAJ2000 DDECJ2000\n",
       " int64     str11         str31       str1  ...    str13      float64   float64 \n",
       "-------- ---------- --------------- ------ ... ------------ --------- ---------\n",
       "       8 000.0+02.0           K 6-4      T ... -27:49:09.55 264.42886 -27.81932\n",
       "       9 000.1-01.9         JaSt 93      T ... -29:49:47.68  268.3495 -29.82991\n",
       "      10 000.1-08.0            SB 1      T ... -32:47:55.32   274.702  -32.7987\n",
       "      11 000.1-01.1          M 3-43      T ... -29:25:18.70 267.60123 -29.42186\n",
       "      12 000.1+02.6          Al 2-J      T ... -27:24:04.97 263.89753 -27.40138\n",
       "      13 000.1-05.6          H 2-40      T ... -31:36:35.64   272.128  -31.6099\n",
       "      14 000.1+17.2           PC 12      T ... -18:57:11.88 250.97409  -18.9533\n",
       "      15 000.0-01.0         JaSt 69      T ... -29:19:05.38 267.54154 -29.31816\n",
       "      16 000.1+04.3          H 1-16      T ... -26:26:04.38 262.34732 -26.43455\n",
       "      17 000.1-02.3         Bl 3-10      T ... -29:57:36.14 268.83557 -29.96004\n",
       "     ...        ...             ...    ... ...          ...       ...       ...\n",
       "   31928 061.5-02.6              --      L ...  23:52:48.36   299.347   23.8801\n",
       "   31929 084.3+03.1           Ra 67      L ...  46:01:50.88    309.03   46.0308\n",
       "   31930 102.5+02.6              --      P ...  58:39:11.88   330.775   58.6533\n",
       "   31931 290.8+00.5          Pre 43      L ...  -59:58:38.0 168.11396 -59.97722\n",
       "   31970 103.9+05.5            Dr 5      L ... +61:51:28.95   329.398  61.85804\n",
       "   32022 023.1-02.5          Pre 48      T ...  -09:50:48.0 280.69479  -9.84667\n",
       "   32192 027.3-01.1           Tan 1      T ... -05:31:02.31 281.36708  -5.51731\n",
       "   32193 014.0-02.5           Tan 2      T ...  -17:56:30.0 276.32108 -17.94167\n",
       "   32238 060.7+48.9 Pa J1601.8+3804      P ...    +38:03:00 240.35417     38.05\n",
       "   32249 204.4-00.4         StDr 13      L ... +07:22:20.24  98.59438   7.37229"
      ]
     },
     "execution_count": 6,
     "metadata": {},
     "output_type": "execute_result"
    }
   ],
   "source": [
    "tab1 = Table.read(\"../angel_wn79ie4gjw.csv\", format=\"ascii.csv\")\n",
    "tab1"
   ]
  },
  {
   "cell_type": "code",
   "execution_count": 7,
   "metadata": {},
   "outputs": [
    {
     "data": {
      "text/plain": [
       "array([ 4.        ,  4.00168397,  4.00336795, ...,  9.99663205,\n",
       "        9.99831603, 10.        ])"
      ]
     },
     "execution_count": 7,
     "metadata": {},
     "output_type": "execute_result"
    }
   ],
   "source": [
    "n1 = len(tab1[\"DRAJ2000\"])\n",
    "sep1 = np.linspace(4.0, 10.0, num=n1)\n",
    "sep1"
   ]
  },
  {
   "cell_type": "code",
   "execution_count": 8,
   "metadata": {},
   "outputs": [],
   "source": [
    "Name = tab1['Name']\n",
    "ra1 = tab1[\"DRAJ2000\"]\n",
    "dec1 = tab1[\"DDECJ2000\"]\n",
    "table1 = Table([ra1, dec1, sep1], names=('ra', 'dec', 'radius'), meta={'name': 'first table'}) \n"
   ]
  },
  {
   "cell_type": "code",
   "execution_count": 9,
   "metadata": {},
   "outputs": [
    {
     "name": "stderr",
     "output_type": "stream",
     "text": [
      "WARNING: AstropyDeprecationWarning: ../angel_wn79ie4gjw_coor.dat already exists. Automatically overwriting ASCII files is deprecated. Use the argument 'overwrite=True' in the future. [astropy.io.ascii.ui]\n"
     ]
    }
   ],
   "source": [
    "asciifile1 = \"../angel_wn79ie4gjw_coor.dat\" \n",
    "table1.write(asciifile1, format=\"ascii.commented_header\", delimiter=',') "
   ]
  },
  {
   "cell_type": "markdown",
   "metadata": {},
   "source": [
    "# Symbiotic stars from http://astronomy.science.upjs.sk/symbiotics/galactic-symbiotic-stars/"
   ]
  },
  {
   "cell_type": "code",
   "execution_count": 10,
   "metadata": {},
   "outputs": [
    {
     "data": {
      "text/html": [
       "<i>Table length=408</i>\n",
       "<table id=\"table139882446864144\" class=\"table-striped table-bordered table-condensed\">\n",
       "<thead><tr><th>Star Name</th><th>Confirmed</th><th>Ra</th><th>DEC</th><th>B (mag)</th><th>V (mag)</th><th>R (mag)</th><th>I (mag)</th></tr></thead>\n",
       "<thead><tr><th>str26</th><th>str1</th><th>float64</th><th>float64</th><th>str5</th><th>str5</th><th>str5</th><th>str5</th></tr></thead>\n",
       "<tr><td>[ALS88] 1</td><td>y</td><td>289.067</td><td>-8.2961</td><td>14.74</td><td>13.28</td><td>-</td><td>-</td></tr>\n",
       "<tr><td>[ALS88] 2</td><td>y</td><td>267.713</td><td>-17.7993</td><td>16.58</td><td>14.54</td><td>-</td><td>-</td></tr>\n",
       "<tr><td>[KRL2007b] 194</td><td>y</td><td>249.125</td><td>-47.625</td><td>-</td><td>-</td><td>-</td><td>-</td></tr>\n",
       "<tr><td>[MMU2013] 000.49â01.45</td><td>y</td><td>268.13</td><td>-29.2597</td><td>-</td><td>-</td><td>-</td><td>-</td></tr>\n",
       "<tr><td>[MMU2013] 001.70â03.67</td><td>y</td><td>271.0206</td><td>-29.313</td><td>-</td><td>-</td><td>-</td><td>-</td></tr>\n",
       "<tr><td>[MMU2013] 002.86â01.88</td><td>y</td><td>269.8949</td><td>-27.4288</td><td>-</td><td>14.9</td><td>-</td><td>13.82</td></tr>\n",
       "<tr><td>[MMU2013] 003.46â01.92</td><td>y</td><td>270.2764</td><td>-26.933</td><td>-</td><td>16.56</td><td>-</td><td>13.08</td></tr>\n",
       "<tr><td>[MMU2013] 354.98â02.87</td><td>y</td><td>266.2213</td><td>-34.7111</td><td>-</td><td>-</td><td>-</td><td>-</td></tr>\n",
       "<tr><td>[MMU2013] 355.28â03.15</td><td>y</td><td>266.701</td><td>-34.6008</td><td>-</td><td>18.31</td><td>-</td><td>13.5</td></tr>\n",
       "<tr><td>[MMU2013] 355.39â02.63</td><td>y</td><td>266.232</td><td>-34.2383</td><td>-</td><td>17.58</td><td>-</td><td>13.52</td></tr>\n",
       "<tr><td>...</td><td>...</td><td>...</td><td>...</td><td>...</td><td>...</td><td>...</td><td>...</td></tr>\n",
       "<tr><td>V893 Cen</td><td>n</td><td>210.1221</td><td>-62.7859</td><td>-</td><td>-</td><td>-</td><td>-</td></tr>\n",
       "<tr><td>V957 Cen</td><td>n</td><td>198.6515</td><td>-31.4196</td><td>13.52</td><td>11.77</td><td>-</td><td>-</td></tr>\n",
       "<tr><td>VX Crv</td><td>n</td><td>185.4687</td><td>-13.8862</td><td>14.39</td><td>12.83</td><td>13.82</td><td>-</td></tr>\n",
       "<tr><td>WISE J192140.40+155354.6</td><td>n</td><td>290.4183</td><td>15.8986</td><td>-</td><td>-</td><td>-</td><td>-</td></tr>\n",
       "<tr><td>WRAY 15-906</td><td>n</td><td>178.6813</td><td>-63.2253</td><td>14.06</td><td>12.35</td><td>11.92</td><td>-</td></tr>\n",
       "<tr><td>WRAY 16-294</td><td>n</td><td>264.8075</td><td>-25.6348</td><td>-</td><td>14.5</td><td>14.71</td><td>12.44</td></tr>\n",
       "<tr><td>WRAY 16-51</td><td>n</td><td>143.3731</td><td>-46.5808</td><td>15.31</td><td>13.74</td><td>13.89</td><td>9.57</td></tr>\n",
       "<tr><td>WSTB 19W032</td><td>n</td><td>264.7621</td><td>-28.9432</td><td>-</td><td>17.2</td><td>-</td><td>-</td></tr>\n",
       "<tr><td>XMMU J174554.1-291542</td><td>n</td><td>266.7256</td><td>-29.2618</td><td>-</td><td>-</td><td>-</td><td>-</td></tr>\n",
       "<tr><td>XX Oph</td><td>n</td><td>265.9854</td><td>-6.2691</td><td>10.05</td><td>8.91</td><td>-</td><td>-</td></tr>\n",
       "</table>"
      ],
      "text/plain": [
       "<Table length=408>\n",
       "       Star Name         Confirmed    Ra      DEC    ... V (mag) R (mag) I (mag)\n",
       "         str26              str1   float64  float64  ...   str5    str5    str5 \n",
       "------------------------ --------- -------- -------- ... ------- ------- -------\n",
       "               [ALS88] 1         y  289.067  -8.2961 ...   13.28       -       -\n",
       "               [ALS88] 2         y  267.713 -17.7993 ...   14.54       -       -\n",
       "          [KRL2007b] 194         y  249.125  -47.625 ...       -       -       -\n",
       "[MMU2013] 000.49â01.45         y   268.13 -29.2597 ...       -       -       -\n",
       "[MMU2013] 001.70â03.67         y 271.0206  -29.313 ...       -       -       -\n",
       "[MMU2013] 002.86â01.88         y 269.8949 -27.4288 ...    14.9       -   13.82\n",
       "[MMU2013] 003.46â01.92         y 270.2764  -26.933 ...   16.56       -   13.08\n",
       "[MMU2013] 354.98â02.87         y 266.2213 -34.7111 ...       -       -       -\n",
       "[MMU2013] 355.28â03.15         y  266.701 -34.6008 ...   18.31       -    13.5\n",
       "[MMU2013] 355.39â02.63         y  266.232 -34.2383 ...   17.58       -   13.52\n",
       "                     ...       ...      ...      ... ...     ...     ...     ...\n",
       "                V893 Cen         n 210.1221 -62.7859 ...       -       -       -\n",
       "                V957 Cen         n 198.6515 -31.4196 ...   11.77       -       -\n",
       "                  VX Crv         n 185.4687 -13.8862 ...   12.83   13.82       -\n",
       "WISE J192140.40+155354.6         n 290.4183  15.8986 ...       -       -       -\n",
       "             WRAY 15-906         n 178.6813 -63.2253 ...   12.35   11.92       -\n",
       "             WRAY 16-294         n 264.8075 -25.6348 ...    14.5   14.71   12.44\n",
       "              WRAY 16-51         n 143.3731 -46.5808 ...   13.74   13.89    9.57\n",
       "             WSTB 19W032         n 264.7621 -28.9432 ...    17.2       -       -\n",
       "   XMMU J174554.1-291542         n 266.7256 -29.2618 ...       -       -       -\n",
       "                  XX Oph         n 265.9854  -6.2691 ...    8.91       -       -"
      ]
     },
     "execution_count": 10,
     "metadata": {},
     "output_type": "execute_result"
    }
   ],
   "source": [
    "tab2 = Table.read(\"../Galactic-SySt-merc-2019.csv\", format=\"ascii.csv\")\n",
    "tab2"
   ]
  },
  {
   "cell_type": "code",
   "execution_count": 11,
   "metadata": {},
   "outputs": [
    {
     "data": {
      "text/plain": [
       "array([2., 2., 2., 2., 2., 2., 2., 2., 2., 2., 2., 2., 2., 2., 2., 2., 2.,\n",
       "       2., 2., 2., 2., 2., 2., 2., 2., 2., 2., 2., 2., 2., 2., 2., 2., 2.,\n",
       "       2., 2., 2., 2., 2., 2., 2., 2., 2., 2., 2., 2., 2., 2., 2., 2., 2.,\n",
       "       2., 2., 2., 2., 2., 2., 2., 2., 2., 2., 2., 2., 2., 2., 2., 2., 2.,\n",
       "       2., 2., 2., 2., 2., 2., 2., 2., 2., 2., 2., 2., 2., 2., 2., 2., 2.,\n",
       "       2., 2., 2., 2., 2., 2., 2., 2., 2., 2., 2., 2., 2., 2., 2., 2., 2.,\n",
       "       2., 2., 2., 2., 2., 2., 2., 2., 2., 2., 2., 2., 2., 2., 2., 2., 2.,\n",
       "       2., 2., 2., 2., 2., 2., 2., 2., 2., 2., 2., 2., 2., 2., 2., 2., 2.,\n",
       "       2., 2., 2., 2., 2., 2., 2., 2., 2., 2., 2., 2., 2., 2., 2., 2., 2.,\n",
       "       2., 2., 2., 2., 2., 2., 2., 2., 2., 2., 2., 2., 2., 2., 2., 2., 2.,\n",
       "       2., 2., 2., 2., 2., 2., 2., 2., 2., 2., 2., 2., 2., 2., 2., 2., 2.,\n",
       "       2., 2., 2., 2., 2., 2., 2., 2., 2., 2., 2., 2., 2., 2., 2., 2., 2.,\n",
       "       2., 2., 2., 2., 2., 2., 2., 2., 2., 2., 2., 2., 2., 2., 2., 2., 2.,\n",
       "       2., 2., 2., 2., 2., 2., 2., 2., 2., 2., 2., 2., 2., 2., 2., 2., 2.,\n",
       "       2., 2., 2., 2., 2., 2., 2., 2., 2., 2., 2., 2., 2., 2., 2., 2., 2.,\n",
       "       2., 2., 2., 2., 2., 2., 2., 2., 2., 2., 2., 2., 2., 2., 2., 2., 2.,\n",
       "       2., 2., 2., 2., 2., 2., 2., 2., 2., 2., 2., 2., 2., 2., 2., 2., 2.,\n",
       "       2., 2., 2., 2., 2., 2., 2., 2., 2., 2., 2., 2., 2., 2., 2., 2., 2.,\n",
       "       2., 2., 2., 2., 2., 2., 2., 2., 2., 2., 2., 2., 2., 2., 2., 2., 2.,\n",
       "       2., 2., 2., 2., 2., 2., 2., 2., 2., 2., 2., 2., 2., 2., 2., 2., 2.,\n",
       "       2., 2., 2., 2., 2., 2., 2., 2., 2., 2., 2., 2., 2., 2., 2., 2., 2.,\n",
       "       2., 2., 2., 2., 2., 2., 2., 2., 2., 2., 2., 2., 2., 2., 2., 2., 2.,\n",
       "       2., 2., 2., 2., 2., 2., 2., 2., 2., 2., 2., 2., 2., 2., 2., 2., 2.,\n",
       "       2., 2., 2., 2., 2., 2., 2., 2., 2., 2., 2., 2., 2., 2., 2., 2., 2.])"
      ]
     },
     "execution_count": 11,
     "metadata": {},
     "output_type": "execute_result"
    }
   ],
   "source": [
    "n2 = len(tab2[\"Ra\"])\n",
    "sep2 = np.linspace(2.0, 2.0, num=n2)\n",
    "sep2"
   ]
  },
  {
   "cell_type": "code",
   "execution_count": 12,
   "metadata": {},
   "outputs": [],
   "source": [
    "SName = tab2['Star Name']\n",
    "ra2 = tab2[\"Ra\"]\n",
    "dec2 = tab2[\"DEC\"]\n",
    "table2 = Table([ra2, dec2, sep2], names=('ra', 'dec', 'radius'), meta={'name': 'first table'}) \n"
   ]
  },
  {
   "cell_type": "code",
   "execution_count": 13,
   "metadata": {},
   "outputs": [
    {
     "name": "stderr",
     "output_type": "stream",
     "text": [
      "WARNING: AstropyDeprecationWarning: ../Galactic-SySt-merc-2019_coor.dat already exists. Automatically overwriting ASCII files is deprecated. Use the argument 'overwrite=True' in the future. [astropy.io.ascii.ui]\n"
     ]
    }
   ],
   "source": [
    "asciifile2 = \"../Galactic-SySt-merc-2019_coor.dat\" \n",
    "table2.write(asciifile2, format=\"ascii.commented_header\", delimiter=',') "
   ]
  },
  {
   "cell_type": "code",
   "execution_count": 14,
   "metadata": {},
   "outputs": [
    {
     "data": {
      "text/html": [
       "<i>Table length=157</i>\n",
       "<table id=\"table139882446862224\" class=\"table-striped table-bordered table-condensed\">\n",
       "<thead><tr><th>Star Name</th><th>Confirmed</th><th>Galaxy</th><th>RA</th><th>DEC</th><th>B (mag)</th><th>V (mag)</th><th>R (mag)</th><th>I (mag)</th></tr></thead>\n",
       "<thead><tr><th>str30</th><th>str3</th><th>str11</th><th>float64</th><th>str12</th><th>float64</th><th>float64</th><th>float64</th><th>float64</th></tr></thead>\n",
       "<tr><td>Draco C-1</td><td>â</td><td>Draco Dwarf</td><td>259.990238</td><td>57.834856</td><td>18.43</td><td>17.0</td><td>16.11</td><td>15.67</td></tr>\n",
       "<tr><td>XMMU J171919.8+575943</td><td>â</td><td>Draco Dwarf</td><td>259.83331</td><td>57.995308</td><td>19.04</td><td>18.41</td><td>17.73</td><td>17.15</td></tr>\n",
       "<tr><td>XMMU J172005.6+575759</td><td>â</td><td>Draco Dwarf</td><td>260.023549</td><td>57.966232</td><td>20.2</td><td>19.53</td><td>19.11</td><td>18.59</td></tr>\n",
       "<tr><td>XMMU J172013.3+575051</td><td>â</td><td>Draco Dwarf</td><td>260.055778</td><td>57.847688</td><td>19.13</td><td>18.18</td><td>--</td><td>16.94</td></tr>\n",
       "<tr><td>IC10 SySt-1</td><td>â</td><td>IC10</td><td>5.13996</td><td>59.312750</td><td>26.79</td><td>24.62</td><td>21.85</td><td>19.46</td></tr>\n",
       "<tr><td>[RP2006] 490</td><td>â</td><td>LMC</td><td>84.381322</td><td>-71.179952</td><td>--</td><td>16.98</td><td>15.91</td><td>--</td></tr>\n",
       "<tr><td>LMC N19</td><td>â</td><td>LMC</td><td>75.84897</td><td>-67.942676</td><td>--</td><td>16.4</td><td>15.34</td><td>14.27</td></tr>\n",
       "<tr><td>LMC N67</td><td>â</td><td>LMC</td><td>84.031584</td><td>-64.722593</td><td>16.9</td><td>15.9</td><td>14.7</td><td>12.7</td></tr>\n",
       "<tr><td>LMC S147</td><td>â</td><td>LMC</td><td>73.514465</td><td>-70.992264</td><td>12.8</td><td>15.47</td><td>15.57</td><td>13.9</td></tr>\n",
       "<tr><td>LMC S154</td><td>â</td><td>LMC</td><td>72.96029</td><td>-75.059813</td><td>12.8</td><td>15.7</td><td>14.2</td><td>13.2</td></tr>\n",
       "<tr><td>...</td><td>...</td><td>...</td><td>...</td><td>...</td><td>...</td><td>...</td><td>...</td><td>...</td></tr>\n",
       "<tr><td>[LDB2002] 769</td><td>â</td><td>NGC 6822</td><td>296.31088</td><td>-14.736450</td><td>--</td><td>--</td><td>--</td><td>--</td></tr>\n",
       "<tr><td>[LDB2002] 96</td><td>â</td><td>NGC 6822</td><td>296.12738</td><td>-14.733690</td><td>--</td><td>--</td><td>--</td><td>--</td></tr>\n",
       "<tr><td>2MASS J01032236-7204109</td><td>â</td><td>SMC</td><td>15.84309</td><td>-72.069692</td><td>17.75</td><td>16.78</td><td>--</td><td>15.74</td></tr>\n",
       "<tr><td>2MASS J01033631-7204041</td><td>â</td><td>SMC</td><td>15.901259</td><td>-72.067836</td><td>17.04</td><td>16.7</td><td>--</td><td>15.8</td></tr>\n",
       "<tr><td>LIN 183</td><td>â</td><td>SMC</td><td>12.926032</td><td>-72.841035</td><td>15.88</td><td>15.04</td><td>--</td><td>14.17</td></tr>\n",
       "<tr><td>LIN 250</td><td>â</td><td>SMC</td><td>13.539757</td><td>-72.695359</td><td>13.48</td><td>13.82</td><td>12.79</td><td>12.55</td></tr>\n",
       "<tr><td>LIN 521</td><td>â</td><td>SMC</td><td>19.648781</td><td>-72.705950</td><td>16.5</td><td>15.97</td><td>14.9</td><td>14.01</td></tr>\n",
       "<tr><td>SMC V0534</td><td>â</td><td>SMC</td><td>12.306827</td><td>-72.908015</td><td>17.8</td><td>16.24</td><td>--</td><td>13.65</td></tr>\n",
       "<tr><td>SSTISAGEMA J010442.60-721007.4</td><td>â</td><td>SMC</td><td>16.17752</td><td>-72.168736</td><td>18.32</td><td>17.66</td><td>--</td><td>16.83</td></tr>\n",
       "<tr><td>SSTISAGEMC J010405.73-720700.5</td><td>â</td><td>SMC</td><td>16.023892</td><td>-72.116808</td><td>19.23</td><td>19.08</td><td>--</td><td>18.15</td></tr>\n",
       "</table>"
      ],
      "text/plain": [
       "<Table length=157>\n",
       "          Star Name            Confirmed    Galaxy   ... V (mag) R (mag) I (mag)\n",
       "            str30                 str3      str11    ... float64 float64 float64\n",
       "------------------------------ --------- ----------- ... ------- ------- -------\n",
       "                     Draco C-1       â Draco Dwarf ...    17.0   16.11   15.67\n",
       "         XMMU J171919.8+575943       â Draco Dwarf ...   18.41   17.73   17.15\n",
       "         XMMU J172005.6+575759       â Draco Dwarf ...   19.53   19.11   18.59\n",
       "         XMMU J172013.3+575051       â Draco Dwarf ...   18.18      --   16.94\n",
       "                   IC10 SySt-1       â        IC10 ...   24.62   21.85   19.46\n",
       "                  [RP2006] 490       â         LMC ...   16.98   15.91      --\n",
       "                       LMC N19       â         LMC ...    16.4   15.34   14.27\n",
       "                       LMC N67       â         LMC ...    15.9    14.7    12.7\n",
       "                      LMC S147       â         LMC ...   15.47   15.57    13.9\n",
       "                      LMC S154       â         LMC ...    15.7    14.2    13.2\n",
       "                           ...       ...         ... ...     ...     ...     ...\n",
       "                 [LDB2002] 769       â    NGC 6822 ...      --      --      --\n",
       "                  [LDB2002] 96       â    NGC 6822 ...      --      --      --\n",
       "       2MASS J01032236-7204109       â         SMC ...   16.78      --   15.74\n",
       "       2MASS J01033631-7204041       â         SMC ...    16.7      --    15.8\n",
       "                       LIN 183       â         SMC ...   15.04      --   14.17\n",
       "                       LIN 250       â         SMC ...   13.82   12.79   12.55\n",
       "                       LIN 521       â         SMC ...   15.97    14.9   14.01\n",
       "                     SMC V0534       â         SMC ...   16.24      --   13.65\n",
       "SSTISAGEMA J010442.60-721007.4       â         SMC ...   17.66      --   16.83\n",
       "SSTISAGEMC J010405.73-720700.5       â         SMC ...   19.08      --   18.15"
      ]
     },
     "execution_count": 14,
     "metadata": {},
     "output_type": "execute_result"
    }
   ],
   "source": [
    "#Extragalactic SySt\n",
    "tab3 = Table.read(\"../Extragalactic_symbioticstars_NewOnline_Database_Symbiotic_Variables.csv\", format=\"ascii.csv\")\n",
    "tab3"
   ]
  },
  {
   "cell_type": "code",
   "execution_count": 15,
   "metadata": {},
   "outputs": [
    {
     "data": {
      "text/plain": [
       "array([2., 2., 2., 2., 2., 2., 2., 2., 2., 2., 2., 2., 2., 2., 2., 2., 2.,\n",
       "       2., 2., 2., 2., 2., 2., 2., 2., 2., 2., 2., 2., 2., 2., 2., 2., 2.,\n",
       "       2., 2., 2., 2., 2., 2., 2., 2., 2., 2., 2., 2., 2., 2., 2., 2., 2.,\n",
       "       2., 2., 2., 2., 2., 2., 2., 2., 2., 2., 2., 2., 2., 2., 2., 2., 2.,\n",
       "       2., 2., 2., 2., 2., 2., 2., 2., 2., 2., 2., 2., 2., 2., 2., 2., 2.,\n",
       "       2., 2., 2., 2., 2., 2., 2., 2., 2., 2., 2., 2., 2., 2., 2., 2., 2.,\n",
       "       2., 2., 2., 2., 2., 2., 2., 2., 2., 2., 2., 2., 2., 2., 2., 2., 2.,\n",
       "       2., 2., 2., 2., 2., 2., 2., 2., 2., 2., 2., 2., 2., 2., 2., 2., 2.,\n",
       "       2., 2., 2., 2., 2., 2., 2., 2., 2., 2., 2., 2., 2., 2., 2., 2., 2.,\n",
       "       2., 2., 2., 2.])"
      ]
     },
     "execution_count": 15,
     "metadata": {},
     "output_type": "execute_result"
    }
   ],
   "source": [
    "n3 = len(tab3[\"RA\"])\n",
    "sep3 = np.linspace(2.0, 2.0, num=n3)\n",
    "sep3"
   ]
  },
  {
   "cell_type": "code",
   "execution_count": 16,
   "metadata": {},
   "outputs": [],
   "source": [
    "SName3 = tab3['Star Name']\n",
    "ra3 = tab3[\"RA\"]\n",
    "dec3 = tab3[\"DEC\"]\n",
    "table3 = Table([ra3, dec3, sep3], names=('ra', 'dec', 'radius'), meta={'name': 'first table'}) "
   ]
  },
  {
   "cell_type": "code",
   "execution_count": 17,
   "metadata": {},
   "outputs": [
    {
     "name": "stderr",
     "output_type": "stream",
     "text": [
      "WARNING: AstropyDeprecationWarning: ../Extragalactic_symbioticstars_NewOnline_Database_Symbiotic_Variables_coor.dat already exists. Automatically overwriting ASCII files is deprecated. Use the argument 'overwrite=True' in the future. [astropy.io.ascii.ui]\n"
     ]
    }
   ],
   "source": [
    "asciifile3 = \"../Extragalactic_symbioticstars_NewOnline_Database_Symbiotic_Variables_coor.dat\" \n",
    "table3.write(asciifile3, format=\"ascii.commented_header\", delimiter=',') "
   ]
  },
  {
   "cell_type": "markdown",
   "metadata": {},
   "source": [
    "# Emission line objects from (2020A&A...643A.122S)"
   ]
  },
  {
   "cell_type": "code",
   "execution_count": 18,
   "metadata": {},
   "outputs": [
    {
     "data": {
      "text/plain": [
       "[<astropy.io.fits.hdu.image.PrimaryHDU object at 0x7f38eaec8bd0>, <astropy.io.fits.hdu.table.BinTableHDU object at 0x7f38eaeab890>]"
      ]
     },
     "execution_count": 18,
     "metadata": {},
     "output_type": "execute_result"
    }
   ],
   "source": [
    "tab4 = fits.open(\"../Emission-line-lamost-spec/TAP_1_J_A+A_643_A122_cans-new.fits\")\n",
    "tab4"
   ]
  },
  {
   "cell_type": "code",
   "execution_count": 19,
   "metadata": {},
   "outputs": [
    {
     "data": {
      "text/plain": [
       "array([2., 2., 2., ..., 2., 2., 2.])"
      ]
     },
     "execution_count": 19,
     "metadata": {},
     "output_type": "execute_result"
    }
   ],
   "source": [
    "n4 = len(tab4[1].data[\"RAJ2000\"])\n",
    "sep4 = np.linspace(2.0, 2.0, num=n4)\n",
    "sep4"
   ]
  },
  {
   "cell_type": "code",
   "execution_count": 20,
   "metadata": {},
   "outputs": [],
   "source": [
    "objid4 = tab4[1].data['LAMOST']\n",
    "ra4 = tab4[1].data[\"RAJ2000\"]\n",
    "dec4 = tab4[1].data[\"DEJ2000\"]\n",
    "table4 = Table([ra4, dec4, sep4], names=('ra', 'dec', 'radius'), meta={'name': 'first table'}) "
   ]
  },
  {
   "cell_type": "code",
   "execution_count": 21,
   "metadata": {},
   "outputs": [
    {
     "name": "stderr",
     "output_type": "stream",
     "text": [
      "WARNING: AstropyDeprecationWarning: ../Emission-line-lamost-spec/TAP_1_J_A+A_643_A122_cans-new_coor.dat already exists. Automatically overwriting ASCII files is deprecated. Use the argument 'overwrite=True' in the future. [astropy.io.ascii.ui]\n"
     ]
    }
   ],
   "source": [
    "asciifile4 = \"../Emission-line-lamost-spec/TAP_1_J_A+A_643_A122_cans-new_coor.dat\" \n",
    "table4.write(asciifile4, format=\"ascii.commented_header\", delimiter=',') "
   ]
  },
  {
   "cell_type": "markdown",
   "metadata": {},
   "source": [
    "# PNe candidates J-PLUS"
   ]
  },
  {
   "cell_type": "code",
   "execution_count": 22,
   "metadata": {},
   "outputs": [
    {
     "data": {
      "text/html": [
       "<i>Table length=22</i>\n",
       "<table id=\"table139882436342992\" class=\"table-striped table-bordered table-condensed\">\n",
       "<thead><tr><th>Seq</th><th>Tile</th><th>Number</th><th>RA</th><th>Dec</th><th>rSDSS_MAG_APER_6_0</th><th>gSDSS_MAG_APER_6_0</th><th>iSDSS_MAG_APER_6_0</th><th>zSDSS_MAG_APER_6_0</th><th>uJAVA_MAG_APER_6_0</th><th>J0378_MAG_APER_6_0</th><th>J0395_MAG_APER_6_0</th><th>J0410_MAG_APER_6_0</th><th>J0430_MAG_APER_6_0</th><th>J0515_MAG_APER_6_0</th><th>J0660_MAG_APER_6_0</th><th>J0861_MAG_APER_6_0</th><th>rSDSS_MAG_APER_6_0_err</th><th>gSDSS_MAG_APER_6_0_err</th><th>iSDSS_MAG_APER_6_0_err</th><th>zSDSS_MAG_APER_6_0_err</th><th>uJAVA_MAG_APER_6_0_err</th><th>J0378_MAG_APER_6_0_err</th><th>J0395_MAG_APER_6_0_err</th><th>J0410_MAG_APER_6_0_err</th><th>J0430_MAG_APER_6_0_err</th><th>J0515_MAG_APER_6_0_err</th><th>J0660_MAG_APER_6_0_err</th><th>J0861_MAG_APER_6_0_err</th><th>P(PN)</th><th>P(SySt)</th><th>P(all-else)</th></tr></thead>\n",
       "<thead><tr><th>int64</th><th>int64</th><th>int64</th><th>float64</th><th>float64</th><th>float64</th><th>float64</th><th>float64</th><th>float64</th><th>float64</th><th>float64</th><th>float64</th><th>float64</th><th>float64</th><th>float64</th><th>float64</th><th>float64</th><th>float64</th><th>float64</th><th>float64</th><th>float64</th><th>float64</th><th>float64</th><th>float64</th><th>float64</th><th>float64</th><th>float64</th><th>float64</th><th>float64</th><th>float64</th><th>float64</th><th>float64</th></tr></thead>\n",
       "<tr><td>1</td><td>71690</td><td>18758</td><td>16.2599953258</td><td>2.14481960376</td><td>17.794</td><td>18.816</td><td>18.924</td><td>19.067</td><td>18.495</td><td>18.032</td><td>18.552</td><td>18.906</td><td>18.626</td><td>19.342</td><td>15.929</td><td>18.806</td><td>0.018</td><td>0.044</td><td>0.06</td><td>0.131</td><td>0.073</td><td>0.051</td><td>0.078</td><td>0.085</td><td>0.066</td><td>0.117</td><td>0.009</td><td>0.128</td><td>0.9905304665671423</td><td>0.009464419603947569</td><td>5.113828910136492e-06</td></tr>\n",
       "<tr><td>2</td><td>70455</td><td>1485</td><td>149.076360434</td><td>68.8286145796</td><td>18.765</td><td>18.721</td><td>19.643</td><td>19.247</td><td>19.23</td><td>18.663</td><td>19.169</td><td>19.553</td><td>19.242</td><td>19.385</td><td>16.928</td><td>19.463</td><td>0.033</td><td>0.036</td><td>0.076</td><td>0.12</td><td>0.135</td><td>0.081</td><td>0.121</td><td>0.149</td><td>0.105</td><td>0.119</td><td>0.015</td><td>0.179</td><td>0.9733038672950391</td><td>0.02661521209972814</td><td>8.092060523254204e-05</td></tr>\n",
       "<tr><td>3</td><td>70466</td><td>9220</td><td>184.043068903</td><td>69.5575174471</td><td>18.609</td><td>18.427</td><td>18.872</td><td>18.992</td><td>18.731</td><td>18.454</td><td>18.704</td><td>18.851</td><td>18.77</td><td>18.925</td><td>17.212</td><td>18.83</td><td>0.031</td><td>0.031</td><td>0.044</td><td>0.112</td><td>0.089</td><td>0.072</td><td>0.089</td><td>0.089</td><td>0.074</td><td>0.1</td><td>0.019</td><td>0.117</td><td>0.779763645859664</td><td>0.1871367530413858</td><td>0.03309960109895029</td></tr>\n",
       "<tr><td>4</td><td>70466</td><td>18549</td><td>184.115994969</td><td>69.4120038902</td><td>18.717</td><td>18.632</td><td>19.448</td><td>19.232</td><td>18.889</td><td>18.504</td><td>18.934</td><td>19.083</td><td>19.174</td><td>19.693</td><td>16.981</td><td>19.481</td><td>0.031</td><td>0.034</td><td>0.067</td><td>0.127</td><td>0.095</td><td>0.07</td><td>0.101</td><td>0.1</td><td>0.097</td><td>0.156</td><td>0.015</td><td>0.194</td><td>0.9878493814311692</td><td>0.01210884543372106</td><td>4.177313510980547e-05</td></tr>\n",
       "<tr><td>5</td><td>69221</td><td>9002</td><td>106.20610262</td><td>56.5146615822</td><td>18.642</td><td>18.644</td><td>19.192</td><td>19.053</td><td>19.498</td><td>18.46</td><td>19.264</td><td>19.101</td><td>19.191</td><td>18.533</td><td>16.893</td><td>19.353</td><td>0.03</td><td>0.034</td><td>0.057</td><td>0.122</td><td>0.15</td><td>0.064</td><td>0.129</td><td>0.09</td><td>0.096</td><td>0.053</td><td>0.015</td><td>0.197</td><td>0.8551700739442176</td><td>0.14064151601606406</td><td>0.004188410039718324</td></tr>\n",
       "<tr><td>6</td><td>70525</td><td>9777</td><td>124.70775403</td><td>70.7471772852</td><td>17.822</td><td>17.754</td><td>18.774</td><td>18.755</td><td>18.195</td><td>17.988</td><td>18.214</td><td>18.567</td><td>18.225</td><td>18.671</td><td>15.934</td><td>18.681</td><td>0.017</td><td>0.018</td><td>0.052</td><td>0.104</td><td>0.06</td><td>0.052</td><td>0.063</td><td>0.073</td><td>0.048</td><td>0.073</td><td>0.008</td><td>0.127</td><td>0.9917036174181496</td><td>0.008278142563106931</td><td>1.8240018743296413e-05</td></tr>\n",
       "<tr><td>7</td><td>63728</td><td>10889</td><td>186.494024865</td><td>33.604858222</td><td>18.613</td><td>18.837</td><td>18.957</td><td>18.982</td><td>18.698</td><td>18.36</td><td>18.811</td><td>18.985</td><td>18.918</td><td>19.035</td><td>17.237</td><td>19.095</td><td>0.027</td><td>0.033</td><td>0.043</td><td>0.094</td><td>0.076</td><td>0.062</td><td>0.094</td><td>0.082</td><td>0.071</td><td>0.087</td><td>0.02</td><td>0.133</td><td>0.8506094965992972</td><td>0.13480587151983955</td><td>0.014584631880863216</td></tr>\n",
       "<tr><td>8</td><td>63728</td><td>15748</td><td>186.398923916</td><td>33.5218142927</td><td>19.057</td><td>18.986</td><td>19.573</td><td>19.599</td><td>19.263</td><td>18.776</td><td>19.397</td><td>19.409</td><td>19.378</td><td>19.495</td><td>17.795</td><td>19.573</td><td>0.038</td><td>0.037</td><td>0.072</td><td>0.161</td><td>0.102</td><td>0.074</td><td>0.132</td><td>0.105</td><td>0.094</td><td>0.116</td><td>0.028</td><td>0.194</td><td>0.8961660099042394</td><td>0.09452631596800828</td><td>0.009307674127752222</td></tr>\n",
       "<tr><td>9</td><td>68634</td><td>5210</td><td>211.241344444</td><td>53.6910228765</td><td>17.402</td><td>17.391</td><td>17.917</td><td>17.902</td><td>17.379</td><td>17.006</td><td>17.577</td><td>17.6</td><td>17.548</td><td>17.783</td><td>16.06</td><td>18.043</td><td>0.011</td><td>0.011</td><td>0.018</td><td>0.039</td><td>0.027</td><td>0.021</td><td>0.032</td><td>0.027</td><td>0.024</td><td>0.029</td><td>0.009</td><td>0.054</td><td>0.9574401495186362</td><td>0.038832340656022306</td><td>0.003727509825341406</td></tr>\n",
       "<tr><td>10</td><td>68634</td><td>14415</td><td>210.614163617</td><td>54.2276561707</td><td>18.444</td><td>18.266</td><td>19.159</td><td>19.22</td><td>18.31</td><td>18.05</td><td>18.508</td><td>18.794</td><td>18.551</td><td>18.89</td><td>16.755</td><td>19.515</td><td>0.023</td><td>0.022</td><td>0.051</td><td>0.123</td><td>0.051</td><td>0.043</td><td>0.063</td><td>0.067</td><td>0.051</td><td>0.07</td><td>0.013</td><td>0.197</td><td>0.9960270540018574</td><td>0.003913515951458421</td><td>5.943004668408892e-05</td></tr>\n",
       "<tr><td>11</td><td>68634</td><td>15941</td><td>211.211404007</td><td>54.4686524191</td><td>19.347</td><td>19.249</td><td>19.654</td><td>19.744</td><td>19.499</td><td>19.322</td><td>19.318</td><td>19.966</td><td>19.543</td><td>19.993</td><td>17.899</td><td>19.438</td><td>0.049</td><td>0.049</td><td>0.079</td><td>0.197</td><td>0.14</td><td>0.125</td><td>0.127</td><td>0.188</td><td>0.12</td><td>0.185</td><td>0.029</td><td>0.183</td><td>0.7756619390918703</td><td>0.21113253766420562</td><td>0.013205523243924074</td></tr>\n",
       "<tr><td>12</td><td>68634</td><td>16616</td><td>210.588126978</td><td>54.3631851511</td><td>18.391</td><td>18.526</td><td>19.064</td><td>19.115</td><td>18.331</td><td>17.836</td><td>18.521</td><td>18.632</td><td>18.529</td><td>18.794</td><td>16.95</td><td>19.102</td><td>0.022</td><td>0.027</td><td>0.047</td><td>0.112</td><td>0.052</td><td>0.036</td><td>0.064</td><td>0.059</td><td>0.05</td><td>0.066</td><td>0.015</td><td>0.137</td><td>0.9809506818662965</td><td>0.01769145169888007</td><td>0.0013578664348233723</td></tr>\n",
       "<tr><td>13</td><td>68634</td><td>16639</td><td>210.591906578</td><td>54.3660885942</td><td>18.852</td><td>18.808</td><td>19.434</td><td>19.385</td><td>18.911</td><td>18.577</td><td>18.809</td><td>18.982</td><td>18.992</td><td>19.155</td><td>17.472</td><td>19.501</td><td>0.033</td><td>0.034</td><td>0.066</td><td>0.144</td><td>0.084</td><td>0.065</td><td>0.081</td><td>0.08</td><td>0.074</td><td>0.089</td><td>0.021</td><td>0.195</td><td>0.9571065051178884</td><td>0.03806783497665467</td><td>0.00482565990545696</td></tr>\n",
       "<tr><td>14</td><td>68634</td><td>16776</td><td>211.121464442</td><td>54.3967439986</td><td>15.532</td><td>15.122</td><td>16.228</td><td>16.135</td><td>15.562</td><td>15.367</td><td>15.532</td><td>15.811</td><td>15.672</td><td>16.038</td><td>13.803</td><td>16.403</td><td>0.004</td><td>0.003</td><td>0.006</td><td>0.009</td><td>0.01</td><td>0.01</td><td>0.011</td><td>0.01</td><td>0.008</td><td>0.011</td><td>0.003</td><td>0.015</td><td>0.9941147150779898</td><td>0.005833037736088809</td><td>5.224718592144075e-05</td></tr>\n",
       "<tr><td>15</td><td>68634</td><td>17965</td><td>210.545088275</td><td>54.3085052947</td><td>18.577</td><td>18.417</td><td>18.992</td><td>19.064</td><td>18.675</td><td>18.255</td><td>18.652</td><td>18.78</td><td>18.667</td><td>18.983</td><td>17.081</td><td>19.177</td><td>0.026</td><td>0.025</td><td>0.044</td><td>0.107</td><td>0.07</td><td>0.05</td><td>0.071</td><td>0.067</td><td>0.056</td><td>0.077</td><td>0.016</td><td>0.145</td><td>0.9559171338902833</td><td>0.04159210551901957</td><td>0.002490760590697078</td></tr>\n",
       "<tr><td>16</td><td>68634</td><td>18526</td><td>210.695001864</td><td>54.4192441333</td><td>19.261</td><td>19.481</td><td>19.758</td><td>19.727</td><td>19.175</td><td>18.852</td><td>19.584</td><td>19.878</td><td>19.48</td><td>19.672</td><td>17.706</td><td>19.51</td><td>0.044</td><td>0.057</td><td>0.084</td><td>0.188</td><td>0.1</td><td>0.078</td><td>0.15</td><td>0.167</td><td>0.108</td><td>0.134</td><td>0.024</td><td>0.189</td><td>0.8748908354776743</td><td>0.11671975734523123</td><td>0.00838940717709427</td></tr>\n",
       "<tr><td>17</td><td>63308</td><td>6151</td><td>147.587160227</td><td>31.4863936422</td><td>18.095</td><td>17.919</td><td>18.671</td><td>18.839</td><td>18.197</td><td>17.908</td><td>18.154</td><td>18.475</td><td>18.259</td><td>18.345</td><td>16.319</td><td>18.665</td><td>0.014</td><td>0.01</td><td>0.052</td><td>0.134</td><td>0.039</td><td>0.032</td><td>0.04</td><td>0.052</td><td>0.043</td><td>0.048</td><td>0.012</td><td>0.099</td><td>0.9735872721696012</td><td>0.02545641029283841</td><td>0.0009563175375604854</td></tr>\n",
       "<tr><td>18</td><td>70362</td><td>24746</td><td>157.337720658</td><td>68.4771055461</td><td>18.703</td><td>18.563</td><td>19.316</td><td>19.364</td><td>18.711</td><td>18.714</td><td>18.798</td><td>18.917</td><td>18.883</td><td>18.908</td><td>17.156</td><td>19.41</td><td>0.027</td><td>0.025</td><td>0.055</td><td>0.145</td><td>0.079</td><td>0.081</td><td>0.086</td><td>0.072</td><td>0.066</td><td>0.07</td><td>0.019</td><td>0.185</td><td>0.9629357026583387</td><td>0.03375865034775281</td><td>0.00330564699390842</td></tr>\n",
       "<tr><td>19</td><td>70431</td><td>16825</td><td>112.179163033</td><td>69.1893505811</td><td>14.89</td><td>14.476</td><td>15.771</td><td>15.787</td><td>15.346</td><td>15.258</td><td>15.309</td><td>15.582</td><td>15.229</td><td>15.926</td><td>12.998</td><td>15.941</td><td>0.002</td><td>0.002</td><td>0.004</td><td>0.007</td><td>0.008</td><td>0.008</td><td>0.008</td><td>0.008</td><td>0.006</td><td>0.009</td><td>0.002</td><td>0.011</td><td>0.9962632991758267</td><td>0.003734222504849262</td><td>2.4783193240305955e-06</td></tr>\n",
       "<tr><td>20</td><td>75572</td><td>15626</td><td>154.679463255</td><td>46.0505559068</td><td>17.625</td><td>17.542</td><td>18.086</td><td>18.041</td><td>18.02</td><td>17.668</td><td>17.854</td><td>18.099</td><td>17.934</td><td>18.152</td><td>16.102</td><td>18.096</td><td>0.013</td><td>0.014</td><td>0.021</td><td>0.045</td><td>0.039</td><td>0.031</td><td>0.035</td><td>0.034</td><td>0.029</td><td>0.035</td><td>0.009</td><td>0.056</td><td>0.8901726475605337</td><td>0.10673594800914703</td><td>0.0030914044303192215</td></tr>\n",
       "<tr><td>21</td><td>66536</td><td>15026</td><td>187.179275606</td><td>43.2424874012</td><td>18.606</td><td>18.212</td><td>19.386</td><td>19.454</td><td>18.873</td><td>18.573</td><td>18.575</td><td>19.055</td><td>18.748</td><td>19.409</td><td>16.61</td><td>19.509</td><td>0.027</td><td>0.022</td><td>0.058</td><td>0.139</td><td>0.08</td><td>0.069</td><td>0.07</td><td>0.083</td><td>0.06</td><td>0.111</td><td>0.012</td><td>0.181</td><td>0.9964898832238639</td><td>0.0035025947967294727</td><td>7.52197940660131e-06</td></tr>\n",
       "<tr><td>22</td><td>66608</td><td>6957</td><td>221.047622585</td><td>42.6265792238</td><td>17.758</td><td>17.57</td><td>18.137</td><td>18.082</td><td>18.184</td><td>17.974</td><td>17.897</td><td>18.007</td><td>17.861</td><td>18.083</td><td>16.396</td><td>18.279</td><td>0.015</td><td>0.015</td><td>0.027</td><td>0.05</td><td>0.051</td><td>0.045</td><td>0.043</td><td>0.036</td><td>0.031</td><td>0.036</td><td>0.011</td><td>0.069</td><td>0.8306565357687886</td><td>0.1541518953582888</td><td>0.015191568872922617</td></tr>\n",
       "</table>"
      ],
      "text/plain": [
       "<Table length=22>\n",
       " Seq   Tile Number ...        P(SySt)             P(all-else)      \n",
       "int64 int64 int64  ...        float64               float64        \n",
       "----- ----- ------ ... --------------------- ----------------------\n",
       "    1 71690  18758 ...  0.009464419603947569  5.113828910136492e-06\n",
       "    2 70455   1485 ...   0.02661521209972814  8.092060523254204e-05\n",
       "    3 70466   9220 ...    0.1871367530413858    0.03309960109895029\n",
       "    4 70466  18549 ...   0.01210884543372106  4.177313510980547e-05\n",
       "    5 69221   9002 ...   0.14064151601606406   0.004188410039718324\n",
       "    6 70525   9777 ...  0.008278142563106931 1.8240018743296413e-05\n",
       "    7 63728  10889 ...   0.13480587151983955   0.014584631880863216\n",
       "    8 63728  15748 ...   0.09452631596800828   0.009307674127752222\n",
       "    9 68634   5210 ...  0.038832340656022306   0.003727509825341406\n",
       "   10 68634  14415 ...  0.003913515951458421  5.943004668408892e-05\n",
       "   11 68634  15941 ...   0.21113253766420562   0.013205523243924074\n",
       "   12 68634  16616 ...   0.01769145169888007  0.0013578664348233723\n",
       "   13 68634  16639 ...   0.03806783497665467    0.00482565990545696\n",
       "   14 68634  16776 ...  0.005833037736088809  5.224718592144075e-05\n",
       "   15 68634  17965 ...   0.04159210551901957   0.002490760590697078\n",
       "   16 68634  18526 ...   0.11671975734523123    0.00838940717709427\n",
       "   17 63308   6151 ...   0.02545641029283841  0.0009563175375604854\n",
       "   18 70362  24746 ...   0.03375865034775281    0.00330564699390842\n",
       "   19 70431  16825 ...  0.003734222504849262 2.4783193240305955e-06\n",
       "   20 75572  15626 ...   0.10673594800914703  0.0030914044303192215\n",
       "   21 66536  15026 ... 0.0035025947967294727   7.52197940660131e-06\n",
       "   22 66608   6957 ...    0.1541518953582888   0.015191568872922617"
      ]
     },
     "execution_count": 22,
     "metadata": {},
     "output_type": "execute_result"
    }
   ],
   "source": [
    "tab5 = Table.read(\"../JPLUS-DR2/aper6_mag_idr/RemainingPNC.dat\", format=\"ascii\")\n",
    "tab5"
   ]
  },
  {
   "cell_type": "code",
   "execution_count": 23,
   "metadata": {},
   "outputs": [],
   "source": [
    "seq = tab5['Seq'] \n",
    "ra5 = tab5[\"RA\"]\n",
    "dec5 = tab5[\"Dec\"]\n",
    "table5 = Table([ra5, dec5], names=('ra', 'dec',), meta={'name': 'first table'}) "
   ]
  },
  {
   "cell_type": "code",
   "execution_count": 24,
   "metadata": {},
   "outputs": [
    {
     "name": "stderr",
     "output_type": "stream",
     "text": [
      "WARNING: AstropyDeprecationWarning: ../JPLUS-DR2/aper6_mag_idr/RemainingPNC_coor.dat already exists. Automatically overwriting ASCII files is deprecated. Use the argument 'overwrite=True' in the future. [astropy.io.ascii.ui]\n"
     ]
    }
   ],
   "source": [
    "asciifile5 = \"../JPLUS-DR2/aper6_mag_idr/RemainingPNC_coor.dat\" \n",
    "table5.write(asciifile5, format=\"ascii.no_header\") "
   ]
  },
  {
   "cell_type": "markdown",
   "metadata": {},
   "source": [
    "# Emission line early objects from (2016RAA....16..138H)"
   ]
  },
  {
   "cell_type": "code",
   "execution_count": 29,
   "metadata": {},
   "outputs": [
    {
     "data": {
      "text/html": [
       "<i>Table length=11204</i>\n",
       "<table id=\"table139882416388688\" class=\"table-striped table-bordered table-condensed\">\n",
       "<thead><tr><th>designation</th><th>ra</th><th>dec</th><th>w1</th><th>w1_err</th><th>h</th><th>h_err</th><th>k</th><th>k_err</th><th>Halpha_type</th><th>objtype_Hou</th><th>objtype_SIMBAD</th></tr></thead>\n",
       "<thead><tr><th>str19</th><th>float64</th><th>float64</th><th>str6</th><th>str5</th><th>str6</th><th>str5</th><th>str6</th><th>str5</th><th>str3</th><th>str12</th><th>str43</th></tr></thead>\n",
       "<tr><td>J035358.25+465351.8</td><td>58.492717</td><td>46.897724</td><td>8.341</td><td>0.022</td><td>9.049</td><td>0.028</td><td>8.826</td><td>0.023</td><td>I</td><td>CBe</td><td>BeStar</td></tr>\n",
       "<tr><td>J035358.25+465351.8</td><td>58.492717</td><td>46.897724</td><td>8.341</td><td>0.022</td><td>9.049</td><td>0.028</td><td>8.826</td><td>0.023</td><td>I</td><td>CBe</td><td>BeStar</td></tr>\n",
       "<tr><td>J035358.25+465351.8</td><td>58.492717</td><td>46.897724</td><td>8.341</td><td>0.022</td><td>9.049</td><td>0.028</td><td>8.826</td><td>0.023</td><td>I</td><td>CBe</td><td>BeStar</td></tr>\n",
       "<tr><td>J044231.14+383046.9</td><td>70.629754</td><td>38.513054</td><td>10.256</td><td>0.022</td><td>10.455</td><td>0.018</td><td>10.344</td><td>0.018</td><td>I</td><td>CBe</td><td>BeStar</td></tr>\n",
       "<tr><td>J041805.77+533707.2</td><td>64.524051</td><td>53.618671</td><td>9.305</td><td>0.023</td><td>10.605</td><td>0.031</td><td>10.444</td><td>0.022</td><td>I</td><td>CBe</td><td>Emission-lineStar</td></tr>\n",
       "<tr><td>J063337.49+044847.0</td><td>98.406229</td><td>4.813058</td><td>7.111</td><td>0.052</td><td>8.946</td><td>0.023</td><td>8.644</td><td>0.023</td><td>I</td><td>CBe</td><td>Emission-lineStar</td></tr>\n",
       "<tr><td>J063337.49+044847.0</td><td>98.406229</td><td>4.813058</td><td>7.111</td><td>0.052</td><td>8.946</td><td>0.023</td><td>8.644</td><td>0.023</td><td>I</td><td>CBe</td><td>Emission-lineStar</td></tr>\n",
       "<tr><td>J055517.56+292036.3</td><td>88.823167</td><td>29.343444</td><td>13.395</td><td>0.027</td><td>13.625</td><td>0.029</td><td>13.482</td><td>0.032</td><td>I</td><td>CBe</td><td>WhiteDwarfCandidate</td></tr>\n",
       "<tr><td>J055926.02+271328.8</td><td>89.858458</td><td>27.224667</td><td>13.102</td><td>0.026</td><td>13.371</td><td>0.030</td><td>13.249</td><td>0.029</td><td>I</td><td>CBe</td><td>-</td></tr>\n",
       "<tr><td>J055517.56+292036.3</td><td>88.823171</td><td>29.343427</td><td>13.395</td><td>0.027</td><td>13.625</td><td>0.029</td><td>13.482</td><td>0.032</td><td>I</td><td>CBe</td><td>WhiteDwarfCandidate</td></tr>\n",
       "<tr><td>...</td><td>...</td><td>...</td><td>...</td><td>...</td><td>...</td><td>...</td><td>...</td><td>...</td><td>...</td><td>...</td><td>...</td></tr>\n",
       "<tr><td>J053212.92+292620.6</td><td>83.05386</td><td>29.439069</td><td>13.956</td><td>0.029</td><td>14.253</td><td>0.043</td><td>14.253</td><td>0.063</td><td>VI</td><td>unknown</td><td>-</td></tr>\n",
       "<tr><td>J053106.19+302814.5</td><td>82.775813</td><td>30.47071</td><td>14.527</td><td>0.033</td><td>14.840</td><td>0.066</td><td>14.548</td><td>0.079</td><td>VI</td><td>unknown</td><td>-</td></tr>\n",
       "<tr><td>J042440.37+343102.3</td><td>66.168211</td><td>34.517324</td><td>-</td><td>-</td><td>-</td><td>-</td><td>-</td><td>-</td><td>VI</td><td>unknown</td><td>-</td></tr>\n",
       "<tr><td>J063745.28+255717.4</td><td>99.438693</td><td>25.954852</td><td>15.442</td><td>0.047</td><td>15.540</td><td>0.103</td><td>15.277</td><td>0.132</td><td>VI</td><td>unknown</td><td>-</td></tr>\n",
       "<tr><td>J051014.10+205409.4</td><td>77.558777</td><td>20.902613</td><td>15.738</td><td>0.054</td><td>15.720</td><td>-</td><td>15.461</td><td>0.213</td><td>VI</td><td>unknown</td><td>-</td></tr>\n",
       "<tr><td>J024918.55+560106.4</td><td>42.327303</td><td>56.01846</td><td>13.428</td><td>0.027</td><td>13.791</td><td>0.033</td><td>13.566</td><td>0.037</td><td>VI</td><td>unknown</td><td>-</td></tr>\n",
       "<tr><td>J052219.56+070050.2</td><td>80.581531</td><td>7.013955</td><td>-</td><td>-</td><td>-</td><td>-</td><td>-</td><td>-</td><td>VI</td><td>unknown</td><td>-</td></tr>\n",
       "<tr><td>J045811.22+571826.1</td><td>74.546776</td><td>57.307266</td><td>-</td><td>-</td><td>-</td><td>-</td><td>-</td><td>-</td><td>VI</td><td>unknown</td><td>-</td></tr>\n",
       "<tr><td>J065427.29+272724.7</td><td>103.61372</td><td>27.456869</td><td>-</td><td>-</td><td>-</td><td>-</td><td>-</td><td>-</td><td>VI</td><td>unknown</td><td>-</td></tr>\n",
       "<tr><td>J070641.11+281037.7</td><td>106.67133</td><td>28.177149</td><td>15.059</td><td>0.041</td><td>15.104</td><td>0.078</td><td>15.175</td><td>0.116</td><td>II</td><td>unknown</td><td>-</td></tr>\n",
       "</table>"
      ],
      "text/plain": [
       "<Table length=11204>\n",
       "    designation         ra       dec    ... objtype_Hou    objtype_SIMBAD  \n",
       "       str19         float64   float64  ...    str12           str43       \n",
       "------------------- --------- --------- ... ----------- -------------------\n",
       "J035358.25+465351.8 58.492717 46.897724 ...         CBe              BeStar\n",
       "J035358.25+465351.8 58.492717 46.897724 ...         CBe              BeStar\n",
       "J035358.25+465351.8 58.492717 46.897724 ...         CBe              BeStar\n",
       "J044231.14+383046.9 70.629754 38.513054 ...         CBe              BeStar\n",
       "J041805.77+533707.2 64.524051 53.618671 ...         CBe   Emission-lineStar\n",
       "J063337.49+044847.0 98.406229  4.813058 ...         CBe   Emission-lineStar\n",
       "J063337.49+044847.0 98.406229  4.813058 ...         CBe   Emission-lineStar\n",
       "J055517.56+292036.3 88.823167 29.343444 ...         CBe WhiteDwarfCandidate\n",
       "J055926.02+271328.8 89.858458 27.224667 ...         CBe                   -\n",
       "J055517.56+292036.3 88.823171 29.343427 ...         CBe WhiteDwarfCandidate\n",
       "                ...       ...       ... ...         ...                 ...\n",
       "J053212.92+292620.6  83.05386 29.439069 ...     unknown                   -\n",
       "J053106.19+302814.5 82.775813  30.47071 ...     unknown                   -\n",
       "J042440.37+343102.3 66.168211 34.517324 ...     unknown                   -\n",
       "J063745.28+255717.4 99.438693 25.954852 ...     unknown                   -\n",
       "J051014.10+205409.4 77.558777 20.902613 ...     unknown                   -\n",
       "J024918.55+560106.4 42.327303  56.01846 ...     unknown                   -\n",
       "J052219.56+070050.2 80.581531  7.013955 ...     unknown                   -\n",
       "J045811.22+571826.1 74.546776 57.307266 ...     unknown                   -\n",
       "J065427.29+272724.7 103.61372 27.456869 ...     unknown                   -\n",
       "J070641.11+281037.7 106.67133 28.177149 ...     unknown                   -"
      ]
     },
     "execution_count": 29,
     "metadata": {},
     "output_type": "execute_result"
    }
   ],
   "source": [
    "tab6 = Table.read(\"../HouEmission2016/CATALOGUE_final.txt\", format=\"ascii\")\n",
    "tab6"
   ]
  },
  {
   "cell_type": "code",
   "execution_count": 35,
   "metadata": {},
   "outputs": [
    {
     "data": {
      "text/plain": [
       "11204"
      ]
     },
     "execution_count": 35,
     "metadata": {},
     "output_type": "execute_result"
    }
   ],
   "source": [
    "n6 = len(tab6[\"ra\"])\n",
    "sep6 = np.linspace(2.0, 2.0, num=n6)\n",
    "len(sep6)"
   ]
  },
  {
   "cell_type": "code",
   "execution_count": 37,
   "metadata": {},
   "outputs": [],
   "source": [
    "desig = tab6['designation'] \n",
    "ra6 = tab6[\"ra\"]\n",
    "dec6 = tab6[\"dec\"]\n",
    "table6 = Table([ra6, dec6, sep6 ], names=('ra', 'dec', 'sep'), meta={'name': 'first table'}) "
   ]
  },
  {
   "cell_type": "code",
   "execution_count": 38,
   "metadata": {},
   "outputs": [],
   "source": [
    "asciifile6 = \"../HouEmission2016/CATALOGUE_final_coor.dat\" \n",
    "table6.write(asciifile6, format=\"ascii.commented_header\", delimiter=',') "
   ]
  },
  {
   "cell_type": "code",
   "execution_count": null,
   "metadata": {},
   "outputs": [],
   "source": []
  }
 ],
 "metadata": {
  "kernelspec": {
   "display_name": "Python 3",
   "language": "python",
   "name": "python3"
  },
  "language_info": {
   "codemirror_mode": {
    "name": "ipython",
    "version": 3
   },
   "file_extension": ".py",
   "mimetype": "text/x-python",
   "name": "python",
   "nbconvert_exporter": "python",
   "pygments_lexer": "ipython3",
   "version": "3.7.4"
  }
 },
 "nbformat": 4,
 "nbformat_minor": 2
}
