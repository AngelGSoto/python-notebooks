{
 "cells": [
  {
   "cell_type": "markdown",
   "metadata": {},
   "source": [
    "# A simple code to write a file with and coordinates"
   ]
  },
  {
   "cell_type": "code",
   "execution_count": 2,
   "metadata": {},
   "outputs": [],
   "source": [
    "from astroquery.simbad import Simbad\n",
    "import astropy.coordinates as coord\n",
    "import astropy.units as u\n",
    "from astropy.io import ascii\n",
    "from astropy.table import Table\n",
    "from astropy.coordinates import SkyCoord \n",
    "from astroquery.sdss import SDSS\n",
    "import numpy as np\n",
    "from astropy.io import fits"
   ]
  },
  {
   "cell_type": "code",
   "execution_count": 11,
   "metadata": {},
   "outputs": [
    {
     "data": {
      "text/plain": [
       "[<astropy.io.fits.hdu.image.PrimaryHDU object at 0x7f5c7edd7590>, <astropy.io.fits.hdu.table.BinTableHDU object at 0x7f5c7ede63d0>]"
      ]
     },
     "execution_count": 11,
     "metadata": {},
     "output_type": "execute_result"
    }
   ],
   "source": [
    "# Read the table\n",
    "#tab = fits.open(\"../SDSS/Skyserver_SQL11_24_2020_PNstars_colors.fits\")\n",
    "tab = fits.open(\"../SDSS/Skyserver_SQL11_24_2020_PNGalaxies_color.fits\")\n",
    "tab"
   ]
  },
  {
   "cell_type": "code",
   "execution_count": 12,
   "metadata": {},
   "outputs": [
    {
     "data": {
      "text/plain": [
       "array([4., 4., 4., ..., 4., 4., 4.])"
      ]
     },
     "execution_count": 12,
     "metadata": {},
     "output_type": "execute_result"
    }
   ],
   "source": [
    "n = len(tab[1].data[\"ra\"])\n",
    "sep = np.linspace(4.0, 4.0, num=n)\n",
    "sep"
   ]
  },
  {
   "cell_type": "code",
   "execution_count": 13,
   "metadata": {},
   "outputs": [],
   "source": [
    "objid = tab[1].data['objID']\n",
    "ra = tab[1].data[\"ra\"]\n",
    "dec = tab[1].data[\"dec\"]\n",
    "table = Table([ra, dec, sep], names=('ra', 'dec', 'radius'), meta={'name': 'first table'}) \n"
   ]
  },
  {
   "cell_type": "code",
   "execution_count": 14,
   "metadata": {},
   "outputs": [
    {
     "name": "stderr",
     "output_type": "stream",
     "text": [
      "WARNING: AstropyDeprecationWarning: ../SDSS/Skyserver_SQL11_24_2020_PNGalaxies_color_coor.dat already exists. Automatically overwriting ASCII files is deprecated. Use the argument 'overwrite=True' in the future. [astropy.io.ascii.ui]\n"
     ]
    }
   ],
   "source": [
    "#asciifile = \"../SDSS/Skyserver_SQL11_24_2020_PNstars_colors_coor.dat\" \n",
    "asciifile = \"../SDSS/Skyserver_SQL11_24_2020_PNGalaxies_color_coor.dat\" \n",
    "table.write(asciifile, format=\"ascii.commented_header\", delimiter=',') "
   ]
  },
  {
   "cell_type": "code",
   "execution_count": 16,
   "metadata": {},
   "outputs": [
    {
     "data": {
      "text/html": [
       "<i>Table length=3564</i>\n",
       "<table id=\"table140035098496208\" class=\"table-striped table-bordered table-condensed\">\n",
       "<thead><tr><th>idPNMain</th><th>PNG</th><th>Name</th><th>PNstat</th><th>RAJ2000</th><th>DECJ2000</th><th>DRAJ2000</th><th>DDECJ2000</th></tr></thead>\n",
       "<thead><tr><th>int64</th><th>str11</th><th>str31</th><th>str1</th><th>str13</th><th>str13</th><th>float64</th><th>float64</th></tr></thead>\n",
       "<tr><td>8</td><td>000.0+02.0</td><td>K 6-4</td><td>T</td><td>17:37:42.9</td><td>-27:49:09.55</td><td>264.42886</td><td>-27.81932</td></tr>\n",
       "<tr><td>9</td><td>000.1-01.9</td><td>JaSt 93</td><td>T</td><td>17:53:23.9</td><td>-29:49:47.68</td><td>268.3495</td><td>-29.82991</td></tr>\n",
       "<tr><td>10</td><td>000.1-08.0</td><td>SB 1</td><td>T</td><td>18:18:48.5</td><td>-32:47:55.32</td><td>274.702</td><td>-32.7987</td></tr>\n",
       "<tr><td>11</td><td>000.1-01.1</td><td>M 3-43</td><td>T</td><td>17:50:24.3</td><td>-29:25:18.70</td><td>267.60123</td><td>-29.42186</td></tr>\n",
       "<tr><td>12</td><td>000.1+02.6</td><td>Al 2-J</td><td>T</td><td>17:35:35.4</td><td>-27:24:04.97</td><td>263.89753</td><td>-27.40138</td></tr>\n",
       "<tr><td>13</td><td>000.1-05.6</td><td>H 2-40</td><td>T</td><td>18:08:30.7</td><td>-31:36:35.64</td><td>272.128</td><td>-31.6099</td></tr>\n",
       "<tr><td>14</td><td>000.1+17.2</td><td>PC 12</td><td>T</td><td>16:43:53.8</td><td>-18:57:11.88</td><td>250.97409</td><td>-18.9533</td></tr>\n",
       "<tr><td>15</td><td>000.0-01.0</td><td>JaSt 69</td><td>T</td><td>17:50:10.0</td><td>-29:19:05.38</td><td>267.54154</td><td>-29.31816</td></tr>\n",
       "<tr><td>16</td><td>000.1+04.3</td><td>H 1-16</td><td>T</td><td>17:29:23.4</td><td>-26:26:04.38</td><td>262.34732</td><td>-26.43455</td></tr>\n",
       "<tr><td>17</td><td>000.1-02.3</td><td>Bl 3-10</td><td>T</td><td>17:55:20.5</td><td>-29:57:36.14</td><td>268.83557</td><td>-29.96004</td></tr>\n",
       "<tr><td>...</td><td>...</td><td>...</td><td>...</td><td>...</td><td>...</td><td>...</td><td>...</td></tr>\n",
       "<tr><td>31928</td><td>061.5-02.6</td><td>--</td><td>L</td><td>19:57:23.3</td><td>23:52:48.36</td><td>299.347</td><td>23.8801</td></tr>\n",
       "<tr><td>31929</td><td>084.3+03.1</td><td>Ra 67</td><td>L</td><td>20:36:07.2</td><td>46:01:50.88</td><td>309.03</td><td>46.0308</td></tr>\n",
       "<tr><td>31930</td><td>102.5+02.6</td><td>--</td><td>P</td><td>22:03:06.0</td><td>58:39:11.88</td><td>330.775</td><td>58.6533</td></tr>\n",
       "<tr><td>31931</td><td>290.8+00.5</td><td>Pre 43</td><td>L</td><td>11:12:27.35</td><td>-59:58:38.0</td><td>168.11396</td><td>-59.97722</td></tr>\n",
       "<tr><td>31970</td><td>103.9+05.5</td><td>Dr 5</td><td>L</td><td>21:57:35.52</td><td>+61:51:28.95</td><td>329.398</td><td>61.85804</td></tr>\n",
       "<tr><td>32022</td><td>023.1-02.5</td><td>Pre 48</td><td>T</td><td>18:42:46.75</td><td>-09:50:48.0</td><td>280.69479</td><td>-9.84667</td></tr>\n",
       "<tr><td>32192</td><td>027.3-01.1</td><td>Tan 1</td><td>T</td><td>18:45:28.1</td><td>-05:31:02.31</td><td>281.36708</td><td>-5.51731</td></tr>\n",
       "<tr><td>32193</td><td>014.0-02.5</td><td>Tan 2</td><td>T</td><td>18:25:17.06</td><td>-17:56:30.0</td><td>276.32108</td><td>-17.94167</td></tr>\n",
       "<tr><td>32238</td><td>060.7+48.9</td><td>Pa J1601.8+3804</td><td>P</td><td>16:01:25.0</td><td>+38:03:00</td><td>240.35417</td><td>38.05</td></tr>\n",
       "<tr><td>32249</td><td>204.4-00.4</td><td>StDr 13</td><td>L</td><td>06:34:22.65</td><td>+07:22:20.24</td><td>98.59438</td><td>7.37229</td></tr>\n",
       "</table>"
      ],
      "text/plain": [
       "<Table length=3564>\n",
       "idPNMain    PNG           Name      PNstat ...   DECJ2000    DRAJ2000 DDECJ2000\n",
       " int64     str11         str31       str1  ...    str13      float64   float64 \n",
       "-------- ---------- --------------- ------ ... ------------ --------- ---------\n",
       "       8 000.0+02.0           K 6-4      T ... -27:49:09.55 264.42886 -27.81932\n",
       "       9 000.1-01.9         JaSt 93      T ... -29:49:47.68  268.3495 -29.82991\n",
       "      10 000.1-08.0            SB 1      T ... -32:47:55.32   274.702  -32.7987\n",
       "      11 000.1-01.1          M 3-43      T ... -29:25:18.70 267.60123 -29.42186\n",
       "      12 000.1+02.6          Al 2-J      T ... -27:24:04.97 263.89753 -27.40138\n",
       "      13 000.1-05.6          H 2-40      T ... -31:36:35.64   272.128  -31.6099\n",
       "      14 000.1+17.2           PC 12      T ... -18:57:11.88 250.97409  -18.9533\n",
       "      15 000.0-01.0         JaSt 69      T ... -29:19:05.38 267.54154 -29.31816\n",
       "      16 000.1+04.3          H 1-16      T ... -26:26:04.38 262.34732 -26.43455\n",
       "      17 000.1-02.3         Bl 3-10      T ... -29:57:36.14 268.83557 -29.96004\n",
       "     ...        ...             ...    ... ...          ...       ...       ...\n",
       "   31928 061.5-02.6              --      L ...  23:52:48.36   299.347   23.8801\n",
       "   31929 084.3+03.1           Ra 67      L ...  46:01:50.88    309.03   46.0308\n",
       "   31930 102.5+02.6              --      P ...  58:39:11.88   330.775   58.6533\n",
       "   31931 290.8+00.5          Pre 43      L ...  -59:58:38.0 168.11396 -59.97722\n",
       "   31970 103.9+05.5            Dr 5      L ... +61:51:28.95   329.398  61.85804\n",
       "   32022 023.1-02.5          Pre 48      T ...  -09:50:48.0 280.69479  -9.84667\n",
       "   32192 027.3-01.1           Tan 1      T ... -05:31:02.31 281.36708  -5.51731\n",
       "   32193 014.0-02.5           Tan 2      T ...  -17:56:30.0 276.32108 -17.94167\n",
       "   32238 060.7+48.9 Pa J1601.8+3804      P ...    +38:03:00 240.35417     38.05\n",
       "   32249 204.4-00.4         StDr 13      L ... +07:22:20.24  98.59438   7.37229"
      ]
     },
     "execution_count": 16,
     "metadata": {},
     "output_type": "execute_result"
    }
   ],
   "source": [
    "tab1 = Table.read(\"../angel_wn79ie4gjw.csv\", format=\"ascii.csv\")\n",
    "tab1"
   ]
  },
  {
   "cell_type": "code",
   "execution_count": 29,
   "metadata": {},
   "outputs": [
    {
     "data": {
      "text/plain": [
       "array([ 4.        ,  4.00168397,  4.00336795, ...,  9.99663205,\n",
       "        9.99831603, 10.        ])"
      ]
     },
     "execution_count": 29,
     "metadata": {},
     "output_type": "execute_result"
    }
   ],
   "source": [
    "n1 = len(tab1[\"DRAJ2000\"])\n",
    "sep1 = np.linspace(4.0, 10.0, num=n1)\n",
    "sep1"
   ]
  },
  {
   "cell_type": "code",
   "execution_count": 30,
   "metadata": {},
   "outputs": [],
   "source": [
    "Name = tab1['Name']\n",
    "ra1 = tab1[\"DRAJ2000\"]\n",
    "dec1 = tab1[\"DDECJ2000\"]\n",
    "table1 = Table([ra1, dec1, sep1], names=('ra', 'dec', 'radius'), meta={'name': 'first table'}) \n"
   ]
  },
  {
   "cell_type": "code",
   "execution_count": 31,
   "metadata": {},
   "outputs": [],
   "source": [
    "asciifile1 = \"../angel_wn79ie4gjw_coor.dat\" \n",
    "table1.write(asciifile1, format=\"ascii.commented_header\", delimiter=',') "
   ]
  },
  {
   "cell_type": "markdown",
   "metadata": {},
   "source": [
    "# Symbiotic stars from http://astronomy.science.upjs.sk/symbiotics/galactic-symbiotic-stars/"
   ]
  },
  {
   "cell_type": "code",
   "execution_count": 32,
   "metadata": {},
   "outputs": [
    {
     "data": {
      "text/html": [
       "<i>Table length=408</i>\n",
       "<table id=\"table140035101103120\" class=\"table-striped table-bordered table-condensed\">\n",
       "<thead><tr><th>Star Name</th><th>Confirmed</th><th>Ra</th><th>DEC</th><th>B (mag)</th><th>V (mag)</th><th>R (mag)</th><th>I (mag)</th></tr></thead>\n",
       "<thead><tr><th>str26</th><th>str1</th><th>float64</th><th>float64</th><th>str5</th><th>str5</th><th>str5</th><th>str5</th></tr></thead>\n",
       "<tr><td>[ALS88] 1</td><td>y</td><td>289.067</td><td>-8.2961</td><td>14.74</td><td>13.28</td><td>-</td><td>-</td></tr>\n",
       "<tr><td>[ALS88] 2</td><td>y</td><td>267.713</td><td>-17.7993</td><td>16.58</td><td>14.54</td><td>-</td><td>-</td></tr>\n",
       "<tr><td>[KRL2007b] 194</td><td>y</td><td>249.125</td><td>-47.625</td><td>-</td><td>-</td><td>-</td><td>-</td></tr>\n",
       "<tr><td>[MMU2013] 000.49â01.45</td><td>y</td><td>268.13</td><td>-29.2597</td><td>-</td><td>-</td><td>-</td><td>-</td></tr>\n",
       "<tr><td>[MMU2013] 001.70â03.67</td><td>y</td><td>271.0206</td><td>-29.313</td><td>-</td><td>-</td><td>-</td><td>-</td></tr>\n",
       "<tr><td>[MMU2013] 002.86â01.88</td><td>y</td><td>269.8949</td><td>-27.4288</td><td>-</td><td>14.9</td><td>-</td><td>13.82</td></tr>\n",
       "<tr><td>[MMU2013] 003.46â01.92</td><td>y</td><td>270.2764</td><td>-26.933</td><td>-</td><td>16.56</td><td>-</td><td>13.08</td></tr>\n",
       "<tr><td>[MMU2013] 354.98â02.87</td><td>y</td><td>266.2213</td><td>-34.7111</td><td>-</td><td>-</td><td>-</td><td>-</td></tr>\n",
       "<tr><td>[MMU2013] 355.28â03.15</td><td>y</td><td>266.701</td><td>-34.6008</td><td>-</td><td>18.31</td><td>-</td><td>13.5</td></tr>\n",
       "<tr><td>[MMU2013] 355.39â02.63</td><td>y</td><td>266.232</td><td>-34.2383</td><td>-</td><td>17.58</td><td>-</td><td>13.52</td></tr>\n",
       "<tr><td>...</td><td>...</td><td>...</td><td>...</td><td>...</td><td>...</td><td>...</td><td>...</td></tr>\n",
       "<tr><td>V893 Cen</td><td>n</td><td>210.1221</td><td>-62.7859</td><td>-</td><td>-</td><td>-</td><td>-</td></tr>\n",
       "<tr><td>V957 Cen</td><td>n</td><td>198.6515</td><td>-31.4196</td><td>13.52</td><td>11.77</td><td>-</td><td>-</td></tr>\n",
       "<tr><td>VX Crv</td><td>n</td><td>185.4687</td><td>-13.8862</td><td>14.39</td><td>12.83</td><td>13.82</td><td>-</td></tr>\n",
       "<tr><td>WISE J192140.40+155354.6</td><td>n</td><td>290.4183</td><td>15.8986</td><td>-</td><td>-</td><td>-</td><td>-</td></tr>\n",
       "<tr><td>WRAY 15-906</td><td>n</td><td>178.6813</td><td>-63.2253</td><td>14.06</td><td>12.35</td><td>11.92</td><td>-</td></tr>\n",
       "<tr><td>WRAY 16-294</td><td>n</td><td>264.8075</td><td>-25.6348</td><td>-</td><td>14.5</td><td>14.71</td><td>12.44</td></tr>\n",
       "<tr><td>WRAY 16-51</td><td>n</td><td>143.3731</td><td>-46.5808</td><td>15.31</td><td>13.74</td><td>13.89</td><td>9.57</td></tr>\n",
       "<tr><td>WSTB 19W032</td><td>n</td><td>264.7621</td><td>-28.9432</td><td>-</td><td>17.2</td><td>-</td><td>-</td></tr>\n",
       "<tr><td>XMMU J174554.1-291542</td><td>n</td><td>266.7256</td><td>-29.2618</td><td>-</td><td>-</td><td>-</td><td>-</td></tr>\n",
       "<tr><td>XX Oph</td><td>n</td><td>265.9854</td><td>-6.2691</td><td>10.05</td><td>8.91</td><td>-</td><td>-</td></tr>\n",
       "</table>"
      ],
      "text/plain": [
       "<Table length=408>\n",
       "       Star Name         Confirmed    Ra      DEC    ... V (mag) R (mag) I (mag)\n",
       "         str26              str1   float64  float64  ...   str5    str5    str5 \n",
       "------------------------ --------- -------- -------- ... ------- ------- -------\n",
       "               [ALS88] 1         y  289.067  -8.2961 ...   13.28       -       -\n",
       "               [ALS88] 2         y  267.713 -17.7993 ...   14.54       -       -\n",
       "          [KRL2007b] 194         y  249.125  -47.625 ...       -       -       -\n",
       "[MMU2013] 000.49â01.45         y   268.13 -29.2597 ...       -       -       -\n",
       "[MMU2013] 001.70â03.67         y 271.0206  -29.313 ...       -       -       -\n",
       "[MMU2013] 002.86â01.88         y 269.8949 -27.4288 ...    14.9       -   13.82\n",
       "[MMU2013] 003.46â01.92         y 270.2764  -26.933 ...   16.56       -   13.08\n",
       "[MMU2013] 354.98â02.87         y 266.2213 -34.7111 ...       -       -       -\n",
       "[MMU2013] 355.28â03.15         y  266.701 -34.6008 ...   18.31       -    13.5\n",
       "[MMU2013] 355.39â02.63         y  266.232 -34.2383 ...   17.58       -   13.52\n",
       "                     ...       ...      ...      ... ...     ...     ...     ...\n",
       "                V893 Cen         n 210.1221 -62.7859 ...       -       -       -\n",
       "                V957 Cen         n 198.6515 -31.4196 ...   11.77       -       -\n",
       "                  VX Crv         n 185.4687 -13.8862 ...   12.83   13.82       -\n",
       "WISE J192140.40+155354.6         n 290.4183  15.8986 ...       -       -       -\n",
       "             WRAY 15-906         n 178.6813 -63.2253 ...   12.35   11.92       -\n",
       "             WRAY 16-294         n 264.8075 -25.6348 ...    14.5   14.71   12.44\n",
       "              WRAY 16-51         n 143.3731 -46.5808 ...   13.74   13.89    9.57\n",
       "             WSTB 19W032         n 264.7621 -28.9432 ...    17.2       -       -\n",
       "   XMMU J174554.1-291542         n 266.7256 -29.2618 ...       -       -       -\n",
       "                  XX Oph         n 265.9854  -6.2691 ...    8.91       -       -"
      ]
     },
     "execution_count": 32,
     "metadata": {},
     "output_type": "execute_result"
    }
   ],
   "source": [
    "tab2 = Table.read(\"../Galactic-SySt-merc-2019.csv\", format=\"ascii.csv\")\n",
    "tab2"
   ]
  },
  {
   "cell_type": "code",
   "execution_count": 38,
   "metadata": {},
   "outputs": [
    {
     "data": {
      "text/plain": [
       "array([2., 2., 2., 2., 2., 2., 2., 2., 2., 2., 2., 2., 2., 2., 2., 2., 2.,\n",
       "       2., 2., 2., 2., 2., 2., 2., 2., 2., 2., 2., 2., 2., 2., 2., 2., 2.,\n",
       "       2., 2., 2., 2., 2., 2., 2., 2., 2., 2., 2., 2., 2., 2., 2., 2., 2.,\n",
       "       2., 2., 2., 2., 2., 2., 2., 2., 2., 2., 2., 2., 2., 2., 2., 2., 2.,\n",
       "       2., 2., 2., 2., 2., 2., 2., 2., 2., 2., 2., 2., 2., 2., 2., 2., 2.,\n",
       "       2., 2., 2., 2., 2., 2., 2., 2., 2., 2., 2., 2., 2., 2., 2., 2., 2.,\n",
       "       2., 2., 2., 2., 2., 2., 2., 2., 2., 2., 2., 2., 2., 2., 2., 2., 2.,\n",
       "       2., 2., 2., 2., 2., 2., 2., 2., 2., 2., 2., 2., 2., 2., 2., 2., 2.,\n",
       "       2., 2., 2., 2., 2., 2., 2., 2., 2., 2., 2., 2., 2., 2., 2., 2., 2.,\n",
       "       2., 2., 2., 2., 2., 2., 2., 2., 2., 2., 2., 2., 2., 2., 2., 2., 2.,\n",
       "       2., 2., 2., 2., 2., 2., 2., 2., 2., 2., 2., 2., 2., 2., 2., 2., 2.,\n",
       "       2., 2., 2., 2., 2., 2., 2., 2., 2., 2., 2., 2., 2., 2., 2., 2., 2.,\n",
       "       2., 2., 2., 2., 2., 2., 2., 2., 2., 2., 2., 2., 2., 2., 2., 2., 2.,\n",
       "       2., 2., 2., 2., 2., 2., 2., 2., 2., 2., 2., 2., 2., 2., 2., 2., 2.,\n",
       "       2., 2., 2., 2., 2., 2., 2., 2., 2., 2., 2., 2., 2., 2., 2., 2., 2.,\n",
       "       2., 2., 2., 2., 2., 2., 2., 2., 2., 2., 2., 2., 2., 2., 2., 2., 2.,\n",
       "       2., 2., 2., 2., 2., 2., 2., 2., 2., 2., 2., 2., 2., 2., 2., 2., 2.,\n",
       "       2., 2., 2., 2., 2., 2., 2., 2., 2., 2., 2., 2., 2., 2., 2., 2., 2.,\n",
       "       2., 2., 2., 2., 2., 2., 2., 2., 2., 2., 2., 2., 2., 2., 2., 2., 2.,\n",
       "       2., 2., 2., 2., 2., 2., 2., 2., 2., 2., 2., 2., 2., 2., 2., 2., 2.,\n",
       "       2., 2., 2., 2., 2., 2., 2., 2., 2., 2., 2., 2., 2., 2., 2., 2., 2.,\n",
       "       2., 2., 2., 2., 2., 2., 2., 2., 2., 2., 2., 2., 2., 2., 2., 2., 2.,\n",
       "       2., 2., 2., 2., 2., 2., 2., 2., 2., 2., 2., 2., 2., 2., 2., 2., 2.,\n",
       "       2., 2., 2., 2., 2., 2., 2., 2., 2., 2., 2., 2., 2., 2., 2., 2., 2.])"
      ]
     },
     "execution_count": 38,
     "metadata": {},
     "output_type": "execute_result"
    }
   ],
   "source": [
    "n2 = len(tab2[\"Ra\"])\n",
    "sep2 = np.linspace(2.0, 2.0, num=n2)\n",
    "sep2"
   ]
  },
  {
   "cell_type": "code",
   "execution_count": 39,
   "metadata": {},
   "outputs": [],
   "source": [
    "SName = tab2['Star Name']\n",
    "ra2 = tab2[\"Ra\"]\n",
    "dec2 = tab2[\"DEC\"]\n",
    "table2 = Table([ra2, dec2, sep2], names=('ra', 'dec', 'radius'), meta={'name': 'first table'}) \n"
   ]
  },
  {
   "cell_type": "code",
   "execution_count": 40,
   "metadata": {},
   "outputs": [
    {
     "name": "stderr",
     "output_type": "stream",
     "text": [
      "WARNING: AstropyDeprecationWarning: ../Galactic-SySt-merc-2019_coor.dat already exists. Automatically overwriting ASCII files is deprecated. Use the argument 'overwrite=True' in the future. [astropy.io.ascii.ui]\n"
     ]
    }
   ],
   "source": [
    "asciifile2 = \"../Galactic-SySt-merc-2019_coor.dat\" \n",
    "table2.write(asciifile2, format=\"ascii.commented_header\", delimiter=',') "
   ]
  },
  {
   "cell_type": "code",
   "execution_count": null,
   "metadata": {},
   "outputs": [],
   "source": []
  }
 ],
 "metadata": {
  "kernelspec": {
   "display_name": "Python 3",
   "language": "python",
   "name": "python3"
  },
  "language_info": {
   "codemirror_mode": {
    "name": "ipython",
    "version": 3
   },
   "file_extension": ".py",
   "mimetype": "text/x-python",
   "name": "python",
   "nbconvert_exporter": "python",
   "pygments_lexer": "ipython3",
   "version": "3.7.4"
  }
 },
 "nbformat": 4,
 "nbformat_minor": 2
}
