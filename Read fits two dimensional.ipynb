{
 "cells": [
  {
   "cell_type": "code",
   "execution_count": 2,
   "metadata": {},
   "outputs": [],
   "source": [
    "from astropy.io import fits\n",
    "import os\n",
    "import numpy as np\n",
    "import glob\n",
    "import matplotlib.pyplot as plt\n",
    "from astropy.wcs import WCS\n",
    "%matplotlib inline"
   ]
  },
  {
   "cell_type": "code",
   "execution_count": 3,
   "metadata": {},
   "outputs": [
    {
     "name": "stderr",
     "output_type": "stream",
     "text": [
      "WARNING: AstropyDeprecationWarning: Config parameter 'enabled_record_valued_keyword_cards' in section [io.fits] of the file '/home/angel/.astropy/config/astropy.cfg' is deprecated. Use 'enable_record_valued_keyword_cards' in section [io.fits] instead. [astropy.config.configuration]\n",
      "WARNING:astropy:AstropyDeprecationWarning: Config parameter 'enabled_record_valued_keyword_cards' in section [io.fits] of the file '/home/angel/.astropy/config/astropy.cfg' is deprecated. Use 'enable_record_valued_keyword_cards' in section [io.fits] instead.\n"
     ]
    }
   ],
   "source": [
    "datadir = \"../Disk_PNe-spectros\"\n",
    "fitsfile = \"NGC7009_f10m.fits\"\n",
    "hdulist = fits.open(os.path.join(datadir, fitsfile))"
   ]
  },
  {
   "cell_type": "code",
   "execution_count": 4,
   "metadata": {},
   "outputs": [
    {
     "name": "stdout",
     "output_type": "stream",
     "text": [
      "Filename: ../Disk_PNe-spectros/NGC7009_f10m.fits\n",
      "No.    Name         Type      Cards   Dimensions   Format\n",
      "0    PRIMARY     PrimaryHDU     179   (1026, 296)   float32   \n"
     ]
    }
   ],
   "source": [
    "hdulist.info()"
   ]
  },
  {
   "cell_type": "code",
   "execution_count": 5,
   "metadata": {},
   "outputs": [
    {
     "data": {
      "text/plain": [
       "SIMPLE  =                    T / Fits standard                                  \n",
       "BITPIX  =                  -32 / Bits per pixel                                 \n",
       "NAXIS   =                    2 / Number of axes                                 \n",
       "NAXIS1  =                 1026 / Axis length                                    \n",
       "NAXIS2  =                  296 / Axis length                                    \n",
       "ORIGIN  = 'NOAO-IRAF FITS Image Kernel July 1999' / FITS file originator        \n",
       "EXTEND  =                    F / File may contain extensions                    \n",
       "DATE    = '2002-01-13T18:34:26' / Date FITS file was generated                  \n",
       "IRAF-TLM= '16:20:47 (12/01/2002)' / Time of last modification                   \n",
       "OBJECT  = 'ngc7009 pa79 10m'   / Name of the object observed                    \n",
       "IMAGEID =                    1 /                                                \n",
       "DASCHAN =                    1 / Number of readout channel                      \n",
       "WINNO   =                    1 / Number of readout window                       \n",
       "CHIPNAME= 'TEK5              ' / Name of detector chip.                         \n",
       "CCDNAME = 'TEK5              ' / Name of detector chip.                         \n",
       "CCDTYPE = 'TEK1024           ' / Type of detector chip.                         \n",
       "CCDXPIXE=             0.000024 / [m] Size of pixels in x.                       \n",
       "CCDYPIXE=             0.000024 / [m] Size of pixels in y.                       \n",
       "AMPNAME = 'A                 ' / Name of output amplifier.                      \n",
       "GAIN    =             3.500000 / Photo-electrons per ADU.                       \n",
       "READNOIS=             6.000000 / Readout noise in electrons.                    \n",
       "SATURATE=         65535.000000 / Highest value that is unsaturated              \n",
       "DATE-OBS= '2001-08-30        ' / Date at start of integration                   \n",
       "UTSTART = '00:03:38.755      ' / UT at start of integration                     \n",
       "EXPOSED =           600.010000 / [s] Exposure time                              \n",
       "EXPTIME =               600.01 / [s] Exposure time                              \n",
       "ELAPSED =           600.311680 / [s] Integration time                           \n",
       "DARKTIME=           600.311680 / [s] Integration time                           \n",
       "CRVAL1  =      3630.3058421875 / Reference value on 1st axis in primary WCS     \n",
       "CRVAL2  =                   1. / Reference value on 2nd axis in primary WCS     \n",
       "CRPIX1  =                   1. / Reference pixel on 1st axis in primary WCS     \n",
       "CRPIX2  =                   1. / Reference pixel on 2nd axis in primary WCS     \n",
       "CUNIT1  = 'pixel             ' / Units of  1st axis in primary WCS              \n",
       "CUNIT2  = 'pixel             ' / Units of  2nd axis in primary WCS              \n",
       "CD1_1   =     3.31130909919739 / Transformation matrix for primary WCS          \n",
       "CD2_2   =             1.000000 / Transformation matrix for primary WCS          \n",
       "PROJP1  =             1.000000 / Projection coefficient for primary WCS         \n",
       "PROJP3  =             0.000000 / Projection coefficient for primary WCS         \n",
       "PV1_1   =             1.000000 / Projection coefficient for primary WCS         \n",
       "PV1_2   =             0.000000 / Projection coefficient for primary WCS         \n",
       "PV2_1   =             1.000000 / Projection coefficient for primary WCS         \n",
       "PV2_2   =             1.000000 / Projection coefficient for primary WCS         \n",
       "RUN     =               278314 / Run number                                     \n",
       "RUNSET  = '1:1:278314        ' / i:n:r => Run i of n runs starting at #r        \n",
       "SYSVER  = '/int/s9-1         ' / Version of observing system                    \n",
       "OBSERVAT= 'LAPALMA           ' / Name of observatory (IRAF style)               \n",
       "OBSERVER= 'Goncalves         ' / Name of principal investigator                 \n",
       "PROPOSAL= 'CAT               ' / Code for grant of observing time               \n",
       "OBSTYPE = 'TARGET            ' / Type of observation, e.g. TARGET               \n",
       "IMAGETYP= 'object            ' / Type of observation, e.g. object               \n",
       "LATITUDE=            28.762000 / Telescope latitude  (degrees), +28:45:43.2     \n",
       "LONGITUD=            17.877639 / Telescope longitude (degrees), +17:52:39.5     \n",
       "HEIGHT  =                 2348 / [m] Height above sea level.                    \n",
       "SLATEL  = 'LPO2.5  '           / Telescope name known to SLALIB                 \n",
       "TELESCOP= 'INT     '           / 2.5m Isaac Newton Telescope                    \n",
       "TELSTAT = 'GUIDING '           / Telescope status: TRACKING or GUIDING normally.\n",
       "RA      = '21:04:10.69'         /  RA  (316.0445200368199600 degrees)           \n",
       "DEC     = '-11:21:43.51'        /  DEC (-11.3620849323838620 degrees)           \n",
       "EQUINOX = 'J2000.00'           / Equinox of coordinates                         \n",
       "RADECSYS= 'FK5     '           / mean place new (after the 1976 IAU) system     \n",
       "XAPNOM  =         0.0000000000 / nominal aperture in x (0.00 arcsec)            \n",
       "YAPNOM  =         0.0000000000 / nominal aperture in y (0.00 arcsec)            \n",
       "XAPOFF  =         0.0000000000 / total aperture offset in x (0.00 arcsec)       \n",
       "YAPOFF  =         0.0001388889 / total aperture offset in y (0.50 arcsec)       \n",
       "MJD-OBS =        52151.0060005 / Modified Julian Date of midtime of observation \n",
       "JD      =      2452151.5060005 / Julian Date of midtime of observation          \n",
       "STSTART = ' 21:25:08.2'        / Local sidereal time at start of observation    \n",
       "ST      = '21:25:08.20'         /  Local sidereal time at start of observation  \n",
       "AZIMUTH =           189.732062 / Mean azimuth of observation (degrees)          \n",
       "ZD      =            40.616880 / Mean zenith-distance of observation (degrees)  \n",
       "FSTATION= 'CASSEGRAIN'         / Focal station of observation                   \n",
       "PLATESCA=             1.502645 / [d/m] Platescale (  5.41arcsec/mm)             \n",
       "TELFOCUS=             0.014586 / Telescope focus (metres)                       \n",
       "ROTTRACK=                    T / Rotator always tracks sky on equatorial mount  \n",
       "ROTSKYPA=            78.708204 / Turntable position angle (degrees)             \n",
       "PARANGLE=             8.754622 / Parallactic angle at observation midpoint      \n",
       "VIGNETTE=                    F / Can we see out?                                \n",
       "DOMEAZ  =           188.750557 / Mean dome azimuth during observation           \n",
       "AIRMASS =              1.31619 / Effective mean airmass                         \n",
       "TEMPTUBE=            15.164345 / Truss Temperature (degrees Celsius)            \n",
       "CAT-NAME= 'NGC7009 '           / Target input-catalogue name                    \n",
       "CAT-RA  = ' 21:04:10.900'      / Target Right Ascension                         \n",
       "CAT-DEC = '-11:21:50.00'       / Target Declination                             \n",
       "CAT-EQUI= 'J2000.00'           / Equinox of target coordinates                  \n",
       "CAT-EPOC=              2000.00 / Target epoch of proper motions                 \n",
       "PM-RA   =             0.000000 / Target proper-motion RA (sec time/year)        \n",
       "PM-DEC  =             0.000000 / Target proper-motion (sec arc/year)            \n",
       "PARALLAX=             0.000000 / Target Parallax (arcsec)                       \n",
       "RADVEL  =             0.000000 / Target radial velocity (km/s)                  \n",
       "RATRACK =             0.000000 / Differential-tracking rate RA (arcsec/sec)     \n",
       "DECTRACK=             0.000000 / Differential-tracking rate Dec (arcsec/sec)    \n",
       "AGTVPOSX= 0.499998             / TV X position in meters                        \n",
       "AGTVPOSY= 0.499997             / TV Y position in meters                        \n",
       "AGTVFILT= 'F0 Clear          ' / TV filter name                                 \n",
       "AGTVSHUT= 'OPEN              ' / State of TV shutter                            \n",
       "AGPOSX  = 0.502914             / Autoguider X position in meters                \n",
       "AGPOSY  = 0.581746             / Autoguider Y position in meters                \n",
       "ASNDFILT= 'F0 Clear          ' / ND filter name in beam above the slit          \n",
       "ASCFILT = 'F0 Clear          ' / Colour filter name in beam above the slit      \n",
       "AGARCLMP= '                  ' / Arc lamps in use                               \n",
       "COMPMPOS= 'OUT               ' / Comparison mirror position                     \n",
       "AUTOFILT= 'F0 Clear          ' / Autoguider filter name                         \n",
       "AGCFILNA= 'F0 Clear          ' / Comparison ND filter A name                    \n",
       "AGCFILNB= 'F0 Clear          ' / Comparison ND filter B name                    \n",
       "INSTRUME= 'IDS              '  / Name of the instrument                         \n",
       "CAMERA  = '235               ' / Focal length of camera in use                  \n",
       "SLITWID =         2.800000E-04 / Slit width in meters                           \n",
       "PSLITWID=                0.049 / Slit width projected onto detector in mm       \n",
       "SLTWDSKY=                1.515 / Slit width projected onto sky in arcseconds    \n",
       "DEKKERID= 'D-FOS             ' / Dekker slide name                              \n",
       "DEKPOS  = 'P0 Clear          ' / Name of Dekker position in the beam            \n",
       "BSCFILT = 'F0 empty          ' / Name of colour filter in beam below the slit   \n",
       "BSNDFILT= 'F0 empty          ' / Name of ND filter in beam below the slit       \n",
       "COLLNAME= 'Al-wide           ' / Collimator name                                \n",
       "COLLFOC =                  241 / Collimator focus in encoder units              \n",
       "HARTMANR= 'OPEN              ' / State of right Hartmann shutter                \n",
       "HARTMANL= 'OPEN              ' / State of left  Hartmann shutter                \n",
       "GRATNAME= 'R300V             ' / Grating name                                   \n",
       "GLINESMM=                  300 / Grating rulings in lines/mm                    \n",
       "GRATBLAZ=             5460.000 / Grating blaze in Angstroms                     \n",
       "GRATANGL=               67.150 / Grating angle in degrees                       \n",
       "GRATSHUT= 'OPEN              ' / State of grating shutter                       \n",
       "CENWAVE =             5334.146 / Central wavelength in Angstroms                \n",
       "DETECTOR= 'TEK5              ' / Formal name of camera                          \n",
       "CCDSPEED= 'FAST              ' / Readout speed                                  \n",
       "CCDXBIN =                    1 / Binning factor in x axis                       \n",
       "CCDYBIN =                    1 / Binning factor in y axis                       \n",
       "CCDSUM  = '1 1               ' / Binning factors (IRAF style)                   \n",
       "CCDTEMP =           156.200000 / [K] Cryostat temperature                       \n",
       "NWINDOWS=                    1 / Number of readout windows                      \n",
       "WINSEC1 = '[1:1100,375:710], enabled       ' / Readout window 1 (d-space)       \n",
       "WINSEC2 = '[0:0,0:0], disabled             ' / Readout window 2 (d-space)       \n",
       "WINSEC3 = '[0:0,0:0], disabled             ' / Readout window 3 (d-space)       \n",
       "WINSEC4 = '[0:0,0:0], disabled             ' / Readout window 4 (d-space)       \n",
       "WCSDIM  =                    2                                                  \n",
       "CTYPE1  = 'LINEAR  '                                                            \n",
       "CTYPE2  = 'LINEAR  '                                                            \n",
       "CDELT1  =     3.31130909919739                                                  \n",
       "CDELT2  =                   1.                                                  \n",
       "LTM1_1  =                   1.                                                  \n",
       "LTM2_2  =                   1.                                                  \n",
       "WAT0_001= 'system=world'                                                        \n",
       "TRIM    = 'Oct 16 22:50 Trim data section is [53:1078,30:325]'                  \n",
       "CCDSEC  = '[53:1078,30:325]'                                                    \n",
       "BIASSEC = '[1:1026,1:296]'                                                      \n",
       "CCDPROC = 'Oct 16 22:50 CCD processing done'                                    \n",
       "NCOMBINE=                    3                                                  \n",
       "DCLOG1  = 'Transform'                                                           \n",
       "DISPAXIS=                    1                                                  \n",
       "DC-FLAG =                    0                                                  \n",
       "WAT1_001= 'wtype=linear label=Wavelength units=angstroms'                       \n",
       "WAT2_001= 'wtype=linear'                                                        \n",
       "EX-FLAG =                    0                                                  \n",
       "CA-FLAG =                    0                                                  \n",
       "BUNIT   = 'erg/cm2/s/A'                                                         \n",
       "                                                                                \n",
       "                                                                                \n",
       "                                                                                \n",
       "                                                                                \n",
       "                                                                                \n",
       "                                                                                \n",
       "                                                                                \n",
       "                                                                                \n",
       "                                                                                \n",
       "                                                                                \n",
       "                                                                                \n",
       "                                                                                \n",
       "                                                                                \n",
       "                                                                                \n",
       "                                                                                \n",
       "                                                                                \n",
       "                                                                                \n",
       "                                                                                \n",
       "                                                                                \n",
       "                                                                                \n",
       "                                                                                \n",
       "                                                                                \n",
       "                                                                                \n",
       "                                                                                "
      ]
     },
     "execution_count": 5,
     "metadata": {},
     "output_type": "execute_result"
    }
   ],
   "source": [
    "hdulist[0].header"
   ]
  },
  {
   "cell_type": "code",
   "execution_count": 6,
   "metadata": {},
   "outputs": [],
   "source": [
    "\n",
    "\n",
    "hdu = hdulist[0]\n",
    "\n"
   ]
  },
  {
   "cell_type": "code",
   "execution_count": 7,
   "metadata": {},
   "outputs": [],
   "source": [
    "nx, wav0, i0, dwav = [hdulist[0].header[k] for k in (\"NAXIS1\", \"CRVAL1\", \"CRPIX1\", \"CD1_1\")]\n",
    "wavelenght = wav0 + (np.arange(nx) - (i0 - 1))*dwav "
   ]
  },
  {
   "cell_type": "code",
   "execution_count": 8,
   "metadata": {},
   "outputs": [
    {
     "data": {
      "text/plain": [
       "array([ 3630.30584219,  3633.61715129,  3636.92846039, ...,  7017.77505067,\n",
       "        7021.08635977,  7024.39766886])"
      ]
     },
     "execution_count": 8,
     "metadata": {},
     "output_type": "execute_result"
    }
   ],
   "source": [
    "wavelenght"
   ]
  },
  {
   "cell_type": "code",
   "execution_count": 9,
   "metadata": {},
   "outputs": [
    {
     "data": {
      "text/plain": [
       "array([[ -4.17952427e-17,   7.51145046e-17,   2.27359707e-17, ...,\n",
       "         -4.05814436e-18,   7.51337663e-18,   7.23944667e-18],\n",
       "       [  1.32084730e-17,  -4.56585045e-18,  -2.60384860e-17, ...,\n",
       "         -5.61078264e-18,   1.21369187e-19,  -1.11769813e-18],\n",
       "       [  1.25551508e-17,  -1.07125866e-18,  -5.44526049e-18, ...,\n",
       "          8.47160664e-18,  -2.35589269e-18,   1.07509491e-18],\n",
       "       ..., \n",
       "       [  2.23533351e-17,  -2.37220626e-17,  -5.90766901e-17, ...,\n",
       "         -2.40547861e-17,  -2.15739639e-17,  -2.20388129e-17],\n",
       "       [ -2.08985693e-17,  -5.06504403e-19,  -2.66181890e-17, ...,\n",
       "         -2.88772259e-17,  -3.16341693e-17,  -3.09372497e-17],\n",
       "       [ -2.50058420e-17,  -7.79828328e-18,  -9.71655234e-18, ...,\n",
       "         -4.73923768e-17,  -4.10709534e-17,  -4.43472504e-17]], dtype=float32)"
      ]
     },
     "execution_count": 9,
     "metadata": {},
     "output_type": "execute_result"
    }
   ],
   "source": [
    "hdu.data"
   ]
  },
  {
   "cell_type": "code",
   "execution_count": 17,
   "metadata": {},
   "outputs": [
    {
     "data": {
      "text/plain": [
       "array([ -4.17952427e-17,   1.32084730e-17,   1.25551508e-17,\n",
       "        -5.89139249e-18,   1.79007406e-18,   2.13635172e-18,\n",
       "         4.42094578e-18,  -8.98513691e-18,   1.62465072e-17,\n",
       "         1.72415360e-17,   2.99765423e-17,   5.27283552e-18,\n",
       "        -1.16116854e-18,   2.16096766e-17,   2.51421961e-17,\n",
       "        -3.40747756e-17,  -5.05745837e-17,  -1.93878993e-17,\n",
       "         3.88556409e-19,   4.86577613e-17,   2.24112775e-17,\n",
       "        -3.37993046e-17,  -1.00855270e-17,   8.01069829e-19,\n",
       "         7.89591044e-18,   1.06542575e-17,   2.49424237e-17,\n",
       "        -2.14398349e-17,  -3.88186961e-17,   2.09891356e-17,\n",
       "        -9.43110554e-18,  -4.01980661e-17,  -1.17198109e-17,\n",
       "        -1.27055199e-17,  -4.65014768e-17,   6.92342033e-17,\n",
       "         6.67431456e-17,   2.58331194e-18,  -1.87171584e-17,\n",
       "        -2.43108614e-17,   1.21754187e-17,   1.55811347e-17,\n",
       "        -1.76955142e-17,   1.02554233e-17,  -2.25222752e-17,\n",
       "        -3.85797104e-17,   5.59608066e-17,  -3.48124089e-17,\n",
       "        -2.17565012e-17,  -3.75361493e-17,  -6.73121400e-17,\n",
       "        -2.85566281e-18,  -2.17991704e-17,  -5.24816783e-17,\n",
       "         2.92572989e-17,  -1.01753654e-17,  -6.53185197e-18,\n",
       "         3.49542373e-17,   3.61147320e-17,  -1.66500900e-18,\n",
       "        -1.72521322e-17,  -1.19152588e-17,  -1.87323967e-17,\n",
       "         9.18855882e-18,  -1.47980676e-17,  -4.23965798e-17,\n",
       "         1.35456078e-17,   1.39377435e-17,  -4.14427281e-17,\n",
       "         2.15938725e-18,   2.28779794e-17,   5.40626430e-19,\n",
       "         1.60631444e-17,  -3.97884066e-17,  -1.10111669e-17,\n",
       "        -3.21200849e-17,  -1.85297192e-17,  -1.69920786e-18,\n",
       "         9.54139188e-18,  -5.35863400e-18,   3.02838002e-17,\n",
       "        -5.07256806e-18,   3.04312601e-17,   2.07107248e-18,\n",
       "        -1.61153105e-18,   3.45448094e-17,   4.14908733e-17,\n",
       "         5.02524928e-17,  -4.86667478e-17,   2.43017541e-17,\n",
       "         3.51139262e-17,   1.72746000e-17,  -2.42518189e-18,\n",
       "         1.79899078e-17,   1.11296390e-17,  -3.41839998e-17,\n",
       "         2.47500943e-17,   4.74873107e-17,   6.36611633e-17,\n",
       "         5.60054611e-17,   3.71486747e-17,   2.87261364e-17,\n",
       "         3.62019499e-17,   1.47182338e-16,   1.73134209e-16,\n",
       "         1.70531687e-16,   1.40337544e-16,   1.58013335e-16,\n",
       "         1.24337634e-16,   1.39808201e-16,   1.09194915e-16,\n",
       "         1.04610455e-16,   1.23136700e-16,   1.76377432e-16,\n",
       "         1.65091579e-16,   1.66717101e-16,   1.67485863e-16,\n",
       "         2.21395050e-16,   3.51570819e-16,   5.24624838e-16,\n",
       "         7.95770302e-16,   1.05354858e-15,   1.34677910e-15,\n",
       "         1.35655217e-15,   1.58198607e-15,   1.81064050e-15,\n",
       "         1.88174235e-15,   2.24499222e-15,   2.41412839e-15,\n",
       "         2.22614340e-15,   2.14817317e-15,   2.45093854e-15,\n",
       "         2.73622728e-15,   2.63632758e-15,   2.63170913e-15,\n",
       "         2.41673641e-15,   2.78999270e-15,   3.11322788e-15,\n",
       "         5.68104871e-15,   2.15783202e-14,   1.48228919e-14,\n",
       "         4.09632460e-15,   2.91445614e-15,   2.74654732e-15,\n",
       "         2.33921955e-15,   2.40571418e-15,   2.79391213e-15,\n",
       "         3.27746418e-15,   3.51639884e-15,   3.09955190e-15,\n",
       "         2.57543290e-15,   2.20276784e-15,   1.84432043e-15,\n",
       "         1.73052145e-15,   1.37435490e-15,   1.37711082e-15,\n",
       "         1.37538372e-15,   1.13852642e-15,   8.93228007e-16,\n",
       "         5.79391976e-16,   3.69497503e-16,   3.44162007e-16,\n",
       "         3.06210166e-16,   2.34188252e-16,   1.75090604e-16,\n",
       "         2.27217382e-16,   1.62119711e-16,   1.43560583e-16,\n",
       "         1.52572895e-16,   1.39598931e-16,   1.64880509e-16,\n",
       "         1.09843312e-16,   1.27941309e-16,   1.00727974e-16,\n",
       "         7.52158640e-17,   1.17399084e-16,   1.06847376e-16,\n",
       "         1.45458215e-16,   6.25935907e-17,   9.53690542e-17,\n",
       "         1.25827035e-16,   7.51177008e-17,   3.27266631e-17,\n",
       "         3.88233581e-17,  -1.64545348e-17,   4.03932476e-17,\n",
       "         5.15539324e-17,   2.96243785e-17,   4.40078416e-17,\n",
       "         6.43364950e-18,   2.23660572e-17,  -3.63972208e-18,\n",
       "         5.34757708e-18,  -2.66165744e-17,  -3.04969332e-18,\n",
       "         2.14586698e-17,   3.16505871e-17,   1.48587049e-17,\n",
       "        -4.21714146e-17,  -1.50805183e-17,  -9.28027495e-18,\n",
       "        -3.98255800e-17,   2.45883854e-17,   2.76681658e-18,\n",
       "         2.44077507e-18,   3.03276044e-17,   6.37953411e-18,\n",
       "        -2.66368122e-17,   1.12594899e-17,   1.91474958e-17,\n",
       "         1.55596925e-17,  -2.38081192e-18,   4.18385704e-17,\n",
       "        -3.61682638e-17,  -5.15872099e-18,  -2.25117865e-17,\n",
       "         3.65333086e-18,   2.79424655e-17,  -1.78437549e-17,\n",
       "        -6.38531023e-17,  -3.80049059e-17,   2.68356631e-17,\n",
       "        -3.46333343e-17,   1.00061433e-17,  -1.59308848e-17,\n",
       "         1.92840798e-17,   5.03004105e-18,   2.51276642e-17,\n",
       "        -9.75502058e-19,   6.87377039e-18,  -3.08194989e-17,\n",
       "         2.02435630e-17,  -9.24937231e-18,   4.22315540e-17,\n",
       "        -4.16709240e-17,   3.87276368e-17,  -1.58800298e-17,\n",
       "        -3.76107312e-17,  -6.23254717e-17,   6.65858266e-18,\n",
       "         1.99838994e-17,  -9.92899217e-18,   1.12419114e-17,\n",
       "        -2.54090876e-17,   2.07048419e-17,   3.11184850e-17,\n",
       "        -2.47882455e-17,   5.34107378e-18,   2.17831165e-17,\n",
       "        -2.25068599e-17,   1.42891414e-17,   3.41306467e-17,\n",
       "         8.01819420e-18,   5.59629904e-17,   5.78848287e-17,\n",
       "         3.42386124e-18,   7.32988299e-17,   6.49734158e-17,\n",
       "         4.65595218e-17,  -4.02943003e-18,   3.86318790e-17,\n",
       "         2.80292731e-17,   9.78067869e-18,  -1.71227958e-17,\n",
       "        -3.04205762e-17,  -3.20812426e-18,  -4.77278879e-17,\n",
       "         6.09583539e-17,   2.52588434e-17,  -2.11963146e-17,\n",
       "         6.85817721e-18,  -3.45001545e-18,   2.60758266e-17,\n",
       "        -1.76869198e-17,   2.46514149e-17,  -2.85917150e-18,\n",
       "        -1.41749558e-17,   2.03465503e-17,  -8.71562161e-18,\n",
       "        -1.79411417e-19,   1.27759725e-17,   1.34718051e-17,\n",
       "         9.33765151e-18,   1.41329780e-17,   1.40053622e-17,\n",
       "         9.11211658e-18,   5.04379127e-18,   2.50417780e-17,\n",
       "         9.10903285e-18,  -2.12407904e-17,  -1.28823611e-17,\n",
       "        -6.71381475e-18,  -1.49365459e-17,   2.23533351e-17,\n",
       "        -2.08985693e-17,  -2.50058420e-17], dtype=float32)"
      ]
     },
     "execution_count": 17,
     "metadata": {},
     "output_type": "execute_result"
    }
   ],
   "source": [
    "hdu.data[:,0]"
   ]
  },
  {
   "cell_type": "code",
   "execution_count": 25,
   "metadata": {},
   "outputs": [
    {
     "data": {
      "text/plain": [
       "array([  4.37513720e-16,   4.35426683e-16,   4.61878808e-16, ...,\n",
       "         8.18700092e-17,   7.93554463e-17,   7.90113458e-17], dtype=float32)"
      ]
     },
     "execution_count": 25,
     "metadata": {},
     "output_type": "execute_result"
    }
   ],
   "source": [
    "hdu.data.mean(axis=0)"
   ]
  },
  {
   "cell_type": "code",
   "execution_count": 16,
   "metadata": {},
   "outputs": [
    {
     "ename": "TypeError",
     "evalue": "Invalid dimensions for image data",
     "output_type": "error",
     "traceback": [
      "\u001b[1;31m---------------------------------------------------------------------------\u001b[0m",
      "\u001b[1;31mTypeError\u001b[0m                                 Traceback (most recent call last)",
      "\u001b[1;32m<ipython-input-16-ff1354e57b71>\u001b[0m in \u001b[0;36m<module>\u001b[1;34m()\u001b[0m\n\u001b[0;32m      1\u001b[0m \u001b[0mplt\u001b[0m\u001b[1;33m.\u001b[0m\u001b[0mclf\u001b[0m\u001b[1;33m(\u001b[0m\u001b[1;33m)\u001b[0m\u001b[1;33m\u001b[0m\u001b[0m\n\u001b[1;32m----> 2\u001b[1;33m \u001b[0mplt\u001b[0m\u001b[1;33m.\u001b[0m\u001b[0mimshow\u001b[0m\u001b[1;33m(\u001b[0m\u001b[0mhdu\u001b[0m\u001b[1;33m.\u001b[0m\u001b[0mdata\u001b[0m\u001b[1;33m[\u001b[0m\u001b[1;36m1\u001b[0m\u001b[1;33m]\u001b[0m\u001b[1;33m)\u001b[0m\u001b[1;33m\u001b[0m\u001b[0m\n\u001b[0m\u001b[0;32m      3\u001b[0m \u001b[0mplt\u001b[0m\u001b[1;33m.\u001b[0m\u001b[0mcolorbar\u001b[0m\u001b[1;33m(\u001b[0m\u001b[1;33m)\u001b[0m\u001b[1;33m\u001b[0m\u001b[0m\n",
      "\u001b[1;32m/home/angel/anaconda2/lib/python2.7/site-packages/matplotlib/pyplot.pyc\u001b[0m in \u001b[0;36mimshow\u001b[1;34m(X, cmap, norm, aspect, interpolation, alpha, vmin, vmax, origin, extent, shape, filternorm, filterrad, imlim, resample, url, hold, data, **kwargs)\u001b[0m\n\u001b[0;32m   3020\u001b[0m                         \u001b[0mfilternorm\u001b[0m\u001b[1;33m=\u001b[0m\u001b[0mfilternorm\u001b[0m\u001b[1;33m,\u001b[0m \u001b[0mfilterrad\u001b[0m\u001b[1;33m=\u001b[0m\u001b[0mfilterrad\u001b[0m\u001b[1;33m,\u001b[0m\u001b[1;33m\u001b[0m\u001b[0m\n\u001b[0;32m   3021\u001b[0m                         \u001b[0mimlim\u001b[0m\u001b[1;33m=\u001b[0m\u001b[0mimlim\u001b[0m\u001b[1;33m,\u001b[0m \u001b[0mresample\u001b[0m\u001b[1;33m=\u001b[0m\u001b[0mresample\u001b[0m\u001b[1;33m,\u001b[0m \u001b[0murl\u001b[0m\u001b[1;33m=\u001b[0m\u001b[0murl\u001b[0m\u001b[1;33m,\u001b[0m \u001b[0mdata\u001b[0m\u001b[1;33m=\u001b[0m\u001b[0mdata\u001b[0m\u001b[1;33m,\u001b[0m\u001b[1;33m\u001b[0m\u001b[0m\n\u001b[1;32m-> 3022\u001b[1;33m                         **kwargs)\n\u001b[0m\u001b[0;32m   3023\u001b[0m     \u001b[1;32mfinally\u001b[0m\u001b[1;33m:\u001b[0m\u001b[1;33m\u001b[0m\u001b[0m\n\u001b[0;32m   3024\u001b[0m         \u001b[0max\u001b[0m\u001b[1;33m.\u001b[0m\u001b[0mhold\u001b[0m\u001b[1;33m(\u001b[0m\u001b[0mwashold\u001b[0m\u001b[1;33m)\u001b[0m\u001b[1;33m\u001b[0m\u001b[0m\n",
      "\u001b[1;32m/home/angel/anaconda2/lib/python2.7/site-packages/matplotlib/__init__.pyc\u001b[0m in \u001b[0;36minner\u001b[1;34m(ax, *args, **kwargs)\u001b[0m\n\u001b[0;32m   1810\u001b[0m                     warnings.warn(msg % (label_namer, func.__name__),\n\u001b[0;32m   1811\u001b[0m                                   RuntimeWarning, stacklevel=2)\n\u001b[1;32m-> 1812\u001b[1;33m             \u001b[1;32mreturn\u001b[0m \u001b[0mfunc\u001b[0m\u001b[1;33m(\u001b[0m\u001b[0max\u001b[0m\u001b[1;33m,\u001b[0m \u001b[1;33m*\u001b[0m\u001b[0margs\u001b[0m\u001b[1;33m,\u001b[0m \u001b[1;33m**\u001b[0m\u001b[0mkwargs\u001b[0m\u001b[1;33m)\u001b[0m\u001b[1;33m\u001b[0m\u001b[0m\n\u001b[0m\u001b[0;32m   1813\u001b[0m         \u001b[0mpre_doc\u001b[0m \u001b[1;33m=\u001b[0m \u001b[0minner\u001b[0m\u001b[1;33m.\u001b[0m\u001b[0m__doc__\u001b[0m\u001b[1;33m\u001b[0m\u001b[0m\n\u001b[0;32m   1814\u001b[0m         \u001b[1;32mif\u001b[0m \u001b[0mpre_doc\u001b[0m \u001b[1;32mis\u001b[0m \u001b[0mNone\u001b[0m\u001b[1;33m:\u001b[0m\u001b[1;33m\u001b[0m\u001b[0m\n",
      "\u001b[1;32m/home/angel/anaconda2/lib/python2.7/site-packages/matplotlib/axes/_axes.pyc\u001b[0m in \u001b[0;36mimshow\u001b[1;34m(self, X, cmap, norm, aspect, interpolation, alpha, vmin, vmax, origin, extent, shape, filternorm, filterrad, imlim, resample, url, **kwargs)\u001b[0m\n\u001b[0;32m   4945\u001b[0m                               resample=resample, **kwargs)\n\u001b[0;32m   4946\u001b[0m \u001b[1;33m\u001b[0m\u001b[0m\n\u001b[1;32m-> 4947\u001b[1;33m         \u001b[0mim\u001b[0m\u001b[1;33m.\u001b[0m\u001b[0mset_data\u001b[0m\u001b[1;33m(\u001b[0m\u001b[0mX\u001b[0m\u001b[1;33m)\u001b[0m\u001b[1;33m\u001b[0m\u001b[0m\n\u001b[0m\u001b[0;32m   4948\u001b[0m         \u001b[0mim\u001b[0m\u001b[1;33m.\u001b[0m\u001b[0mset_alpha\u001b[0m\u001b[1;33m(\u001b[0m\u001b[0malpha\u001b[0m\u001b[1;33m)\u001b[0m\u001b[1;33m\u001b[0m\u001b[0m\n\u001b[0;32m   4949\u001b[0m         \u001b[1;32mif\u001b[0m \u001b[0mim\u001b[0m\u001b[1;33m.\u001b[0m\u001b[0mget_clip_path\u001b[0m\u001b[1;33m(\u001b[0m\u001b[1;33m)\u001b[0m \u001b[1;32mis\u001b[0m \u001b[0mNone\u001b[0m\u001b[1;33m:\u001b[0m\u001b[1;33m\u001b[0m\u001b[0m\n",
      "\u001b[1;32m/home/angel/anaconda2/lib/python2.7/site-packages/matplotlib/image.pyc\u001b[0m in \u001b[0;36mset_data\u001b[1;34m(self, A)\u001b[0m\n\u001b[0;32m    451\u001b[0m         if (self._A.ndim not in (2, 3) or\n\u001b[0;32m    452\u001b[0m                 (self._A.ndim == 3 and self._A.shape[-1] not in (3, 4))):\n\u001b[1;32m--> 453\u001b[1;33m             \u001b[1;32mraise\u001b[0m \u001b[0mTypeError\u001b[0m\u001b[1;33m(\u001b[0m\u001b[1;34m\"Invalid dimensions for image data\"\u001b[0m\u001b[1;33m)\u001b[0m\u001b[1;33m\u001b[0m\u001b[0m\n\u001b[0m\u001b[0;32m    454\u001b[0m \u001b[1;33m\u001b[0m\u001b[0m\n\u001b[0;32m    455\u001b[0m         \u001b[0mself\u001b[0m\u001b[1;33m.\u001b[0m\u001b[0m_imcache\u001b[0m \u001b[1;33m=\u001b[0m \u001b[0mNone\u001b[0m\u001b[1;33m\u001b[0m\u001b[0m\n",
      "\u001b[1;31mTypeError\u001b[0m: Invalid dimensions for image data"
     ]
    },
    {
     "data": {
      "image/png": "[encoded data removed]",
      "text/plain": [
       "<matplotlib.figure.Figure at 0x7f5a768b2a10>"
      ]
     },
     "metadata": {},
     "output_type": "display_data"
    }
   ],
   "source": [
    "plt.clf()\n",
    "plt.imshow(hdu.data[1])\n",
    "plt.colorbar()"
   ]
  },
  {
   "cell_type": "code",
   "execution_count": 75,
   "metadata": {},
   "outputs": [],
   "source": [
    "image_data = hdulist[0].data"
   ]
  },
  {
   "cell_type": "code",
   "execution_count": 76,
   "metadata": {},
   "outputs": [
    {
     "name": "stdout",
     "output_type": "stream",
     "text": [
      "<type 'numpy.ndarray'>\n",
      "(296, 1026)\n"
     ]
    }
   ],
   "source": [
    "print(type(image_data))\n",
    "print(image_data.shape)"
   ]
  },
  {
   "cell_type": "code",
   "execution_count": 35,
   "metadata": {
    "collapsed": true
   },
   "outputs": [],
   "source": [
    "hdulist.close()"
   ]
  },
  {
   "cell_type": "code",
   "execution_count": 36,
   "metadata": {
    "collapsed": true
   },
   "outputs": [],
   "source": [
    "image_data = fits.getdata(os.path.join(datadir, fitsfile))"
   ]
  },
  {
   "cell_type": "code",
   "execution_count": 37,
   "metadata": {},
   "outputs": [
    {
     "name": "stdout",
     "output_type": "stream",
     "text": [
      "<type 'numpy.ndarray'>\n",
      "(296, 1026)\n"
     ]
    }
   ],
   "source": [
    "print(type(image_data))\n",
    "print(image_data.shape)"
   ]
  },
  {
   "cell_type": "code",
   "execution_count": 38,
   "metadata": {},
   "outputs": [
    {
     "data": {
      "text/plain": [
       "<matplotlib.colorbar.Colorbar at 0x7ff7675b7f10>"
      ]
     },
     "execution_count": 38,
     "metadata": {},
     "output_type": "execute_result"
    },
    {
     "data": {
      "image/png": "[encoded data removed]",
      "text/plain": [
       "<matplotlib.figure.Figure at 0x7ff76794b150>"
      ]
     },
     "metadata": {},
     "output_type": "display_data"
    }
   ],
   "source": [
    "plt.imshow(image_data, cmap='gray')\n",
    "plt.colorbar()"
   ]
  },
  {
   "cell_type": "code",
   "execution_count": 39,
   "metadata": {},
   "outputs": [
    {
     "name": "stdout",
     "output_type": "stream",
     "text": [
      "('Min:', -6.5104473e-15)\n",
      "('Max:', 1.8142111e-13)\n",
      "('Mean:', 5.5727891e-16)\n",
      "('Stdev:', 6.4411905e-15)\n"
     ]
    }
   ],
   "source": [
    "print('Min:', np.min(image_data))\n",
    "print('Max:', np.max(image_data))\n",
    "print('Mean:', np.mean(image_data))\n",
    "print('Stdev:', np.std(image_data))"
   ]
  },
  {
   "cell_type": "code",
   "execution_count": 40,
   "metadata": {},
   "outputs": [
    {
     "name": "stdout",
     "output_type": "stream",
     "text": [
      "<type 'numpy.flatiter'>\n"
     ]
    }
   ],
   "source": [
    "print(type(image_data.flat))"
   ]
  },
  {
   "cell_type": "code",
   "execution_count": 41,
   "metadata": {},
   "outputs": [
    {
     "data": {
      "text/plain": [
       "array([[ -4.17952427e-17,   7.51145046e-17,   2.27359707e-17, ...,\n",
       "         -4.05814436e-18,   7.51337663e-18,   7.23944667e-18],\n",
       "       [  1.32084730e-17,  -4.56585045e-18,  -2.60384860e-17, ...,\n",
       "         -5.61078264e-18,   1.21369187e-19,  -1.11769813e-18],\n",
       "       [  1.25551508e-17,  -1.07125866e-18,  -5.44526049e-18, ...,\n",
       "          8.47160664e-18,  -2.35589269e-18,   1.07509491e-18],\n",
       "       ..., \n",
       "       [  2.23533351e-17,  -2.37220626e-17,  -5.90766901e-17, ...,\n",
       "         -2.40547861e-17,  -2.15739639e-17,  -2.20388129e-17],\n",
       "       [ -2.08985693e-17,  -5.06504403e-19,  -2.66181890e-17, ...,\n",
       "         -2.88772259e-17,  -3.16341693e-17,  -3.09372497e-17],\n",
       "       [ -2.50058420e-17,  -7.79828328e-18,  -9.71655234e-18, ...,\n",
       "         -4.73923768e-17,  -4.10709534e-17,  -4.43472504e-17]], dtype=float32)"
      ]
     },
     "execution_count": 41,
     "metadata": {},
     "output_type": "execute_result"
    }
   ],
   "source": [
    "image_data"
   ]
  },
  {
   "cell_type": "code",
   "execution_count": 45,
   "metadata": {},
   "outputs": [
    {
     "data": {
      "text/plain": [
       "array([  4.37513720e-16,   4.35426683e-16,   4.61878808e-16, ...,\n",
       "         8.18700092e-17,   7.93554463e-17,   7.90113458e-17], dtype=float32)"
      ]
     },
     "execution_count": 45,
     "metadata": {},
     "output_type": "execute_result"
    }
   ],
   "source": [
    "image_data.mean(axis=0)"
   ]
  },
  {
   "cell_type": "code",
   "execution_count": 46,
   "metadata": {},
   "outputs": [
    {
     "ename": "ValueError",
     "evalue": "I/O operation on closed file",
     "output_type": "error",
     "traceback": [
      "\u001b[1;31m---------------------------------------------------------------------------\u001b[0m",
      "\u001b[1;31mValueError\u001b[0m                                Traceback (most recent call last)",
      "\u001b[1;32m<ipython-input-46-85f1e1246d6c>\u001b[0m in \u001b[0;36m<module>\u001b[1;34m()\u001b[0m\n\u001b[0;32m      1\u001b[0m \u001b[0mplt\u001b[0m\u001b[1;33m.\u001b[0m\u001b[0mclf\u001b[0m\u001b[1;33m(\u001b[0m\u001b[1;33m)\u001b[0m\u001b[1;33m\u001b[0m\u001b[0m\n\u001b[1;32m----> 2\u001b[1;33m \u001b[0mplt\u001b[0m\u001b[1;33m.\u001b[0m\u001b[0mimshow\u001b[0m\u001b[1;33m(\u001b[0m\u001b[0mhdu\u001b[0m\u001b[1;33m.\u001b[0m\u001b[0mdata\u001b[0m\u001b[1;33m[\u001b[0m\u001b[1;36m1\u001b[0m\u001b[1;33m]\u001b[0m\u001b[1;33m,\u001b[0m \u001b[0morigin\u001b[0m \u001b[1;33m=\u001b[0m \u001b[1;34m'lower'\u001b[0m\u001b[1;33m,\u001b[0m \u001b[0mvmin\u001b[0m \u001b[1;33m=\u001b[0m \u001b[1;33m-\u001b[0m\u001b[1;36m10\u001b[0m\u001b[1;33m,\u001b[0m \u001b[0mvmax\u001b[0m \u001b[1;33m=\u001b[0m \u001b[1;36m65\u001b[0m\u001b[1;33m)\u001b[0m\u001b[1;33m\u001b[0m\u001b[0m\n\u001b[0m\u001b[0;32m      3\u001b[0m \u001b[0mplt\u001b[0m\u001b[1;33m.\u001b[0m\u001b[0mcolorbar\u001b[0m\u001b[1;33m(\u001b[0m\u001b[1;33m)\u001b[0m\u001b[1;33m\u001b[0m\u001b[0m\n",
      "\u001b[1;32m/home/angel/anaconda2/lib/python2.7/site-packages/astropy/utils/decorators.pyc\u001b[0m in \u001b[0;36m__get__\u001b[1;34m(self, obj, owner)\u001b[0m\n\u001b[0;32m    509\u001b[0m             \u001b[1;32mreturn\u001b[0m \u001b[0mobj\u001b[0m\u001b[1;33m.\u001b[0m\u001b[0m__dict__\u001b[0m\u001b[1;33m[\u001b[0m\u001b[0mself\u001b[0m\u001b[1;33m.\u001b[0m\u001b[0m_key\u001b[0m\u001b[1;33m]\u001b[0m\u001b[1;33m\u001b[0m\u001b[0m\n\u001b[0;32m    510\u001b[0m         \u001b[1;32mexcept\u001b[0m \u001b[0mKeyError\u001b[0m\u001b[1;33m:\u001b[0m\u001b[1;33m\u001b[0m\u001b[0m\n\u001b[1;32m--> 511\u001b[1;33m             \u001b[0mval\u001b[0m \u001b[1;33m=\u001b[0m \u001b[0mself\u001b[0m\u001b[1;33m.\u001b[0m\u001b[0mfget\u001b[0m\u001b[1;33m(\u001b[0m\u001b[0mobj\u001b[0m\u001b[1;33m)\u001b[0m\u001b[1;33m\u001b[0m\u001b[0m\n\u001b[0m\u001b[0;32m    512\u001b[0m             \u001b[0mobj\u001b[0m\u001b[1;33m.\u001b[0m\u001b[0m__dict__\u001b[0m\u001b[1;33m[\u001b[0m\u001b[0mself\u001b[0m\u001b[1;33m.\u001b[0m\u001b[0m_key\u001b[0m\u001b[1;33m]\u001b[0m \u001b[1;33m=\u001b[0m \u001b[0mval\u001b[0m\u001b[1;33m\u001b[0m\u001b[0m\n\u001b[0;32m    513\u001b[0m             \u001b[1;32mreturn\u001b[0m \u001b[0mval\u001b[0m\u001b[1;33m\u001b[0m\u001b[0m\n",
      "\u001b[1;32m/home/angel/anaconda2/lib/python2.7/site-packages/astropy/io/fits/hdu/image.pyc\u001b[0m in \u001b[0;36mdata\u001b[1;34m(self)\u001b[0m\n\u001b[0;32m    206\u001b[0m             \u001b[1;32mreturn\u001b[0m\u001b[1;33m\u001b[0m\u001b[0m\n\u001b[0;32m    207\u001b[0m \u001b[1;33m\u001b[0m\u001b[0m\n\u001b[1;32m--> 208\u001b[1;33m         \u001b[0mdata\u001b[0m \u001b[1;33m=\u001b[0m \u001b[0mself\u001b[0m\u001b[1;33m.\u001b[0m\u001b[0m_get_scaled_image_data\u001b[0m\u001b[1;33m(\u001b[0m\u001b[0mself\u001b[0m\u001b[1;33m.\u001b[0m\u001b[0m_data_offset\u001b[0m\u001b[1;33m,\u001b[0m \u001b[0mself\u001b[0m\u001b[1;33m.\u001b[0m\u001b[0mshape\u001b[0m\u001b[1;33m)\u001b[0m\u001b[1;33m\u001b[0m\u001b[0m\n\u001b[0m\u001b[0;32m    209\u001b[0m         \u001b[0mself\u001b[0m\u001b[1;33m.\u001b[0m\u001b[0m_update_header_scale_info\u001b[0m\u001b[1;33m(\u001b[0m\u001b[0mdata\u001b[0m\u001b[1;33m.\u001b[0m\u001b[0mdtype\u001b[0m\u001b[1;33m)\u001b[0m\u001b[1;33m\u001b[0m\u001b[0m\n\u001b[0;32m    210\u001b[0m \u001b[1;33m\u001b[0m\u001b[0m\n",
      "\u001b[1;32m/home/angel/anaconda2/lib/python2.7/site-packages/astropy/io/fits/hdu/image.pyc\u001b[0m in \u001b[0;36m_get_scaled_image_data\u001b[1;34m(self, offset, shape)\u001b[0m\n\u001b[0;32m    619\u001b[0m         \u001b[0mcode\u001b[0m \u001b[1;33m=\u001b[0m \u001b[0mBITPIX2DTYPE\u001b[0m\u001b[1;33m[\u001b[0m\u001b[0mself\u001b[0m\u001b[1;33m.\u001b[0m\u001b[0m_orig_bitpix\u001b[0m\u001b[1;33m]\u001b[0m\u001b[1;33m\u001b[0m\u001b[0m\n\u001b[0;32m    620\u001b[0m \u001b[1;33m\u001b[0m\u001b[0m\n\u001b[1;32m--> 621\u001b[1;33m         \u001b[0mraw_data\u001b[0m \u001b[1;33m=\u001b[0m \u001b[0mself\u001b[0m\u001b[1;33m.\u001b[0m\u001b[0m_get_raw_data\u001b[0m\u001b[1;33m(\u001b[0m\u001b[0mshape\u001b[0m\u001b[1;33m,\u001b[0m \u001b[0mcode\u001b[0m\u001b[1;33m,\u001b[0m \u001b[0moffset\u001b[0m\u001b[1;33m)\u001b[0m\u001b[1;33m\u001b[0m\u001b[0m\n\u001b[0m\u001b[0;32m    622\u001b[0m         \u001b[0mraw_data\u001b[0m\u001b[1;33m.\u001b[0m\u001b[0mdtype\u001b[0m \u001b[1;33m=\u001b[0m \u001b[0mraw_data\u001b[0m\u001b[1;33m.\u001b[0m\u001b[0mdtype\u001b[0m\u001b[1;33m.\u001b[0m\u001b[0mnewbyteorder\u001b[0m\u001b[1;33m(\u001b[0m\u001b[1;34m'>'\u001b[0m\u001b[1;33m)\u001b[0m\u001b[1;33m\u001b[0m\u001b[0m\n\u001b[0;32m    623\u001b[0m \u001b[1;33m\u001b[0m\u001b[0m\n",
      "\u001b[1;32m/home/angel/anaconda2/lib/python2.7/site-packages/astropy/io/fits/hdu/base.pyc\u001b[0m in \u001b[0;36m_get_raw_data\u001b[1;34m(self, shape, code, offset)\u001b[0m\n\u001b[0;32m    565\u001b[0m                               offset=offset)\n\u001b[0;32m    566\u001b[0m         \u001b[1;32melif\u001b[0m \u001b[0mself\u001b[0m\u001b[1;33m.\u001b[0m\u001b[0m_file\u001b[0m\u001b[1;33m:\u001b[0m\u001b[1;33m\u001b[0m\u001b[0m\n\u001b[1;32m--> 567\u001b[1;33m             \u001b[1;32mreturn\u001b[0m \u001b[0mself\u001b[0m\u001b[1;33m.\u001b[0m\u001b[0m_file\u001b[0m\u001b[1;33m.\u001b[0m\u001b[0mreadarray\u001b[0m\u001b[1;33m(\u001b[0m\u001b[0moffset\u001b[0m\u001b[1;33m=\u001b[0m\u001b[0moffset\u001b[0m\u001b[1;33m,\u001b[0m \u001b[0mdtype\u001b[0m\u001b[1;33m=\u001b[0m\u001b[0mcode\u001b[0m\u001b[1;33m,\u001b[0m \u001b[0mshape\u001b[0m\u001b[1;33m=\u001b[0m\u001b[0mshape\u001b[0m\u001b[1;33m)\u001b[0m\u001b[1;33m\u001b[0m\u001b[0m\n\u001b[0m\u001b[0;32m    568\u001b[0m         \u001b[1;32melse\u001b[0m\u001b[1;33m:\u001b[0m\u001b[1;33m\u001b[0m\u001b[0m\n\u001b[0;32m    569\u001b[0m             \u001b[1;32mreturn\u001b[0m \u001b[0mNone\u001b[0m\u001b[1;33m\u001b[0m\u001b[0m\n",
      "\u001b[1;32m/home/angel/anaconda2/lib/python2.7/site-packages/astropy/io/fits/file.pyc\u001b[0m in \u001b[0;36mreadarray\u001b[1;34m(self, size, offset, dtype, shape)\u001b[0m\n\u001b[0;32m    257\u001b[0m                 memmap = Memmap(self._file,\n\u001b[0;32m    258\u001b[0m                                 \u001b[0mmode\u001b[0m\u001b[1;33m=\u001b[0m\u001b[0mMEMMAP_MODES\u001b[0m\u001b[1;33m[\u001b[0m\u001b[0mself\u001b[0m\u001b[1;33m.\u001b[0m\u001b[0mmode\u001b[0m\u001b[1;33m]\u001b[0m\u001b[1;33m,\u001b[0m\u001b[1;33m\u001b[0m\u001b[0m\n\u001b[1;32m--> 259\u001b[1;33m                                 dtype=np.uint8)\n\u001b[0m\u001b[0;32m    260\u001b[0m \u001b[1;33m\u001b[0m\u001b[0m\n\u001b[0;32m    261\u001b[0m                 \u001b[1;31m# Now we immediately discard the memmap array; we are really\u001b[0m\u001b[1;33m\u001b[0m\u001b[1;33m\u001b[0m\u001b[0m\n",
      "\u001b[1;32m/home/angel/anaconda2/lib/python2.7/site-packages/numpy/core/memmap.pyc\u001b[0m in \u001b[0;36m__new__\u001b[1;34m(subtype, filename, dtype, mode, offset, shape, order)\u001b[0m\n\u001b[0;32m    221\u001b[0m             \u001b[1;32mraise\u001b[0m \u001b[0mValueError\u001b[0m\u001b[1;33m(\u001b[0m\u001b[1;34m\"shape must be given\"\u001b[0m\u001b[1;33m)\u001b[0m\u001b[1;33m\u001b[0m\u001b[0m\n\u001b[0;32m    222\u001b[0m \u001b[1;33m\u001b[0m\u001b[0m\n\u001b[1;32m--> 223\u001b[1;33m         \u001b[0mfid\u001b[0m\u001b[1;33m.\u001b[0m\u001b[0mseek\u001b[0m\u001b[1;33m(\u001b[0m\u001b[1;36m0\u001b[0m\u001b[1;33m,\u001b[0m \u001b[1;36m2\u001b[0m\u001b[1;33m)\u001b[0m\u001b[1;33m\u001b[0m\u001b[0m\n\u001b[0m\u001b[0;32m    224\u001b[0m         \u001b[0mflen\u001b[0m \u001b[1;33m=\u001b[0m \u001b[0mfid\u001b[0m\u001b[1;33m.\u001b[0m\u001b[0mtell\u001b[0m\u001b[1;33m(\u001b[0m\u001b[1;33m)\u001b[0m\u001b[1;33m\u001b[0m\u001b[0m\n\u001b[0;32m    225\u001b[0m         \u001b[0mdescr\u001b[0m \u001b[1;33m=\u001b[0m \u001b[0mdtypedescr\u001b[0m\u001b[1;33m(\u001b[0m\u001b[0mdtype\u001b[0m\u001b[1;33m)\u001b[0m\u001b[1;33m\u001b[0m\u001b[0m\n",
      "\u001b[1;31mValueError\u001b[0m: I/O operation on closed file"
     ]
    },
    {
     "data": {
      "text/plain": [
       "<matplotlib.figure.Figure at 0x7ff767a6cdd0>"
      ]
     },
     "metadata": {},
     "output_type": "display_data"
    }
   ],
   "source": [
    "plt.clf()\n",
    "plt.imshow(hdu.data[1], origin = 'lower', vmin = -10, vmax = 65)\n",
    "plt.colorbar()"
   ]
  },
  {
   "cell_type": "code",
   "execution_count": null,
   "metadata": {
    "collapsed": true
   },
   "outputs": [],
   "source": []
  }
 ],
 "metadata": {
  "anaconda-cloud": {},
  "kernelspec": {
   "display_name": "Python 3",
   "language": "python",
   "name": "python3"
  },
  "language_info": {
   "codemirror_mode": {
    "name": "ipython",
    "version": 3
   },
   "file_extension": ".py",
   "mimetype": "text/x-python",
   "name": "python",
   "nbconvert_exporter": "python",
   "pygments_lexer": "ipython3",
   "version": "3.7.4"
  }
 },
 "nbformat": 4,
 "nbformat_minor": 1
}
