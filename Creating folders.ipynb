{
 "cells": [
  {
   "cell_type": "markdown",
   "metadata": {},
   "source": [
    "Witn this script we can create foders"
   ]
  },
  {
   "cell_type": "code",
   "execution_count": 2,
   "metadata": {},
   "outputs": [],
   "source": [
    "from astropy.table import Table\n",
    "from astropy.io import ascii\n",
    "#from catalog_utils import region_lines_from_table\n",
    "from catalog_utils_v2 import region_lines_from_table \n",
    "import numpy as np\n",
    "from pathlib import Path\n",
    "import os\n",
    "import sys"
   ]
  },
  {
   "cell_type": "code",
   "execution_count": 4,
   "metadata": {},
   "outputs": [],
   "source": [
    "ROOT_PATH = Path(\"..\") # necessary since we are in the `notebooks/` sub-folder\n",
    "table = Table.read(ROOT_PATH / \"JPLUS-DR2/aper6_mag_idr/PN-pc-Halpha_emitters_threeerror-cleaning-limfilter-limcolor-flags-mask-broad-macht.tab\", format=\"ascii\")\n",
    "n = len(table)"
   ]
  },
  {
   "cell_type": "code",
   "execution_count": 6,
   "metadata": {},
   "outputs": [
    {
     "name": "stdout",
     "output_type": "stream",
     "text": [
      "Successfully created the directory ../JPLUS-DR2/aper6_mag_idr/Field_71690 \n",
      "Creation of the directory ../JPLUS-DR2/aper6_mag_idr/Field_71690 failed\n",
      "Creation of the directory ../JPLUS-DR2/aper6_mag_idr/Field_71690 failed\n",
      "Creation of the directory ../JPLUS-DR2/aper6_mag_idr/Field_71690 failed\n",
      "Creation of the directory ../JPLUS-DR2/aper6_mag_idr/Field_71690 failed\n",
      "Creation of the directory ../JPLUS-DR2/aper6_mag_idr/Field_71690 failed\n",
      "Successfully created the directory ../JPLUS-DR2/aper6_mag_idr/Field_70063 \n",
      "Creation of the directory ../JPLUS-DR2/aper6_mag_idr/Field_70063 failed\n",
      "Creation of the directory ../JPLUS-DR2/aper6_mag_idr/Field_70063 failed\n",
      "Successfully created the directory ../JPLUS-DR2/aper6_mag_idr/Field_70455 \n",
      "Successfully created the directory ../JPLUS-DR2/aper6_mag_idr/Field_73268 \n",
      "Successfully created the directory ../JPLUS-DR2/aper6_mag_idr/Field_70466 \n",
      "Creation of the directory ../JPLUS-DR2/aper6_mag_idr/Field_70466 failed\n",
      "Successfully created the directory ../JPLUS-DR2/aper6_mag_idr/Field_71787 \n",
      "Successfully created the directory ../JPLUS-DR2/aper6_mag_idr/Field_67905 \n",
      "Successfully created the directory ../JPLUS-DR2/aper6_mag_idr/Field_69221 \n",
      "Successfully created the directory ../JPLUS-DR2/aper6_mag_idr/Field_70525 \n",
      "Successfully created the directory ../JPLUS-DR2/aper6_mag_idr/Field_64235 \n",
      "Creation of the directory ../JPLUS-DR2/aper6_mag_idr/Field_64235 failed\n",
      "Successfully created the directory ../JPLUS-DR2/aper6_mag_idr/Field_69286 \n",
      "Successfully created the directory ../JPLUS-DR2/aper6_mag_idr/Field_63728 \n",
      "Creation of the directory ../JPLUS-DR2/aper6_mag_idr/Field_63728 failed\n",
      "Successfully created the directory ../JPLUS-DR2/aper6_mag_idr/Field_73559 \n",
      "Successfully created the directory ../JPLUS-DR2/aper6_mag_idr/Field_67002 \n",
      "Successfully created the directory ../JPLUS-DR2/aper6_mag_idr/Field_62617 \n",
      "Successfully created the directory ../JPLUS-DR2/aper6_mag_idr/Field_68450 \n",
      "Successfully created the directory ../JPLUS-DR2/aper6_mag_idr/Field_75211 \n",
      "Creation of the directory ../JPLUS-DR2/aper6_mag_idr/Field_63864 failed\n",
      "Creation of the directory ../JPLUS-DR2/aper6_mag_idr/Field_63864 failed\n",
      "Successfully created the directory ../JPLUS-DR2/aper6_mag_idr/Field_72839 \n",
      "Successfully created the directory ../JPLUS-DR2/aper6_mag_idr/Field_63236 \n",
      "Successfully created the directory ../JPLUS-DR2/aper6_mag_idr/Field_68634 \n",
      "Creation of the directory ../JPLUS-DR2/aper6_mag_idr/Field_68634 failed\n",
      "Creation of the directory ../JPLUS-DR2/aper6_mag_idr/Field_68634 failed\n",
      "Creation of the directory ../JPLUS-DR2/aper6_mag_idr/Field_68634 failed\n",
      "Creation of the directory ../JPLUS-DR2/aper6_mag_idr/Field_68634 failed\n",
      "Creation of the directory ../JPLUS-DR2/aper6_mag_idr/Field_68634 failed\n",
      "Creation of the directory ../JPLUS-DR2/aper6_mag_idr/Field_68634 failed\n",
      "Creation of the directory ../JPLUS-DR2/aper6_mag_idr/Field_68634 failed\n",
      "Creation of the directory ../JPLUS-DR2/aper6_mag_idr/Field_68634 failed\n",
      "Creation of the directory ../JPLUS-DR2/aper6_mag_idr/Field_68634 failed\n",
      "Creation of the directory ../JPLUS-DR2/aper6_mag_idr/Field_68634 failed\n",
      "Creation of the directory ../JPLUS-DR2/aper6_mag_idr/Field_68634 failed\n",
      "Creation of the directory ../JPLUS-DR2/aper6_mag_idr/Field_68634 failed\n",
      "Creation of the directory ../JPLUS-DR2/aper6_mag_idr/Field_68634 failed\n",
      "Creation of the directory ../JPLUS-DR2/aper6_mag_idr/Field_68634 failed\n",
      "Creation of the directory ../JPLUS-DR2/aper6_mag_idr/Field_68634 failed\n",
      "Creation of the directory ../JPLUS-DR2/aper6_mag_idr/Field_68634 failed\n",
      "Creation of the directory ../JPLUS-DR2/aper6_mag_idr/Field_68634 failed\n",
      "Creation of the directory ../JPLUS-DR2/aper6_mag_idr/Field_68634 failed\n",
      "Creation of the directory ../JPLUS-DR2/aper6_mag_idr/Field_68634 failed\n",
      "Creation of the directory ../JPLUS-DR2/aper6_mag_idr/Field_68634 failed\n",
      "Creation of the directory ../JPLUS-DR2/aper6_mag_idr/Field_68634 failed\n",
      "Creation of the directory ../JPLUS-DR2/aper6_mag_idr/Field_68634 failed\n",
      "Creation of the directory ../JPLUS-DR2/aper6_mag_idr/Field_68634 failed\n",
      "Creation of the directory ../JPLUS-DR2/aper6_mag_idr/Field_68634 failed\n",
      "Creation of the directory ../JPLUS-DR2/aper6_mag_idr/Field_68634 failed\n",
      "Creation of the directory ../JPLUS-DR2/aper6_mag_idr/Field_68634 failed\n",
      "Successfully created the directory ../JPLUS-DR2/aper6_mag_idr/Field_67346 \n",
      "Successfully created the directory ../JPLUS-DR2/aper6_mag_idr/Field_63308 \n",
      "Successfully created the directory ../JPLUS-DR2/aper6_mag_idr/Field_70145 \n",
      "Successfully created the directory ../JPLUS-DR2/aper6_mag_idr/Field_63391 \n",
      "Successfully created the directory ../JPLUS-DR2/aper6_mag_idr/Field_64626 \n",
      "Successfully created the directory ../JPLUS-DR2/aper6_mag_idr/Field_67646 \n",
      "Successfully created the directory ../JPLUS-DR2/aper6_mag_idr/Field_70362 \n",
      "Creation of the directory ../JPLUS-DR2/aper6_mag_idr/Field_70362 failed\n",
      "Successfully created the directory ../JPLUS-DR2/aper6_mag_idr/Field_70431 \n",
      "Successfully created the directory ../JPLUS-DR2/aper6_mag_idr/Field_74823 \n",
      "Successfully created the directory ../JPLUS-DR2/aper6_mag_idr/Field_64078 \n",
      "Successfully created the directory ../JPLUS-DR2/aper6_mag_idr/Field_72851 \n",
      "Successfully created the directory ../JPLUS-DR2/aper6_mag_idr/Field_67752 \n",
      "Successfully created the directory ../JPLUS-DR2/aper6_mag_idr/Field_75427 \n",
      "Successfully created the directory ../JPLUS-DR2/aper6_mag_idr/Field_65478 \n",
      "Creation of the directory ../JPLUS-DR2/aper6_mag_idr/Field_65478 failed\n",
      "Successfully created the directory ../JPLUS-DR2/aper6_mag_idr/Field_75572 \n",
      "Successfully created the directory ../JPLUS-DR2/aper6_mag_idr/Field_66536 \n",
      "Creation of the directory ../JPLUS-DR2/aper6_mag_idr/Field_66536 failed\n",
      "Creation of the directory ../JPLUS-DR2/aper6_mag_idr/Field_66536 failed\n",
      "Successfully created the directory ../JPLUS-DR2/aper6_mag_idr/Field_64138 \n",
      "Successfully created the directory ../JPLUS-DR2/aper6_mag_idr/Field_66608 \n"
     ]
    }
   ],
   "source": [
    "# Creating directory in python\n",
    "# define the name of the directory to be created\n",
    "for i in range(n):\n",
    "    path = \"../JPLUS-DR2/aper6_mag_idr/Field_\" + str(table[i][\"Tile\"])\n",
    "    try:\n",
    "        os.mkdir(path)\n",
    "    except OSError:\n",
    "        print (\"Creation of the directory %s failed\" % path)\n",
    "    else:\n",
    "        print (\"Successfully created the directory %s \" % path)\n",
    "\n",
    "    "
   ]
  },
  {
   "cell_type": "code",
   "execution_count": null,
   "metadata": {},
   "outputs": [],
   "source": []
  }
 ],
 "metadata": {
  "kernelspec": {
   "display_name": "Python 3",
   "language": "python",
   "name": "python3"
  },
  "language_info": {
   "codemirror_mode": {
    "name": "ipython",
    "version": 3
   },
   "file_extension": ".py",
   "mimetype": "text/x-python",
   "name": "python",
   "nbconvert_exporter": "python",
   "pygments_lexer": "ipython3",
   "version": "3.7.4"
  }
 },
 "nbformat": 4,
 "nbformat_minor": 2
}
