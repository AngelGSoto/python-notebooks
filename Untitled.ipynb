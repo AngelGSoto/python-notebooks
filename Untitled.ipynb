{
 "cells": [
  {
   "cell_type": "code",
   "execution_count": 17,
   "metadata": {},
   "outputs": [],
   "source": [
    "import scipy\n",
    "import numpy as np\n",
    "from astropy.io import fits\n",
    "import os"
   ]
  },
  {
   "cell_type": "code",
   "execution_count": 18,
   "metadata": {},
   "outputs": [],
   "source": [
    "datadir = \"../Disk_PNe-spectros\"\n",
    "fitsfile = \"NGC7009_f10m.fits\"\n",
    "hdulist_tg = fits.open(os.path.join(datadir, fitsfile))"
   ]
  },
  {
   "cell_type": "code",
   "execution_count": 19,
   "metadata": {
    "collapsed": true
   },
   "outputs": [],
   "source": [
    "hdr_tg = hdulist_tg[0].header\n",
    "flux_tg = hdulist_tg[0].data\n",
    "crval_tg = hdr_tg['CRVAL1']             #Starting wavelength \n",
    "cdel_tg = hdr_tg['CDELT1']              #Wavelength axis width \n",
    "wave_tg = crval_tg + np.arange(3183)*cdel_tg        #Create an x-axis\n",
    "wavelist = [6207,6315,6369,6438,6490,6565,6588]"
   ]
  },
  {
   "cell_type": "code",
   "execution_count": 20,
   "metadata": {
    "collapsed": true
   },
   "outputs": [],
   "source": [
    "wave_flux=[]\n",
    "diff = 10\n",
    "for wave in wave_tg:\n",
    "    for flux in flux_tg:\n",
    "        wave_flux.append((wave,flux))"
   ]
  },
  {
   "cell_type": "code",
   "execution_count": 21,
   "metadata": {
    "collapsed": true
   },
   "outputs": [],
   "source": [
    "for item in wave_flux:\n",
    "    wave = item[0]\n",
    "    flux = item[1]\n",
    "    #Where I got my actual wavelength that exists in wave_tg\n",
    "    diffmatch = np.abs(wave - wavelist[0])\n",
    "    if diffmatch < diff:\n",
    "        flux_wave = flux  \n",
    "        diff = diffmatch \n",
    "        wavematch = wave"
   ]
  },
  {
   "cell_type": "code",
   "execution_count": 22,
   "metadata": {},
   "outputs": [
    {
     "name": "stdout",
     "output_type": "stream",
     "text": [
      "6207 [ -4.17952427e-17   7.51145046e-17   2.27359707e-17 ...,  -4.05814436e-18\n",
      "   7.51337663e-18   7.23944667e-18] 6206.50432136\n"
     ]
    }
   ],
   "source": [
    "print wavelist[0],flux_wave,wavematch"
   ]
  },
  {
   "cell_type": "code",
   "execution_count": 23,
   "metadata": {},
   "outputs": [
    {
     "name": "stdout",
     "output_type": "stream",
     "text": [
      "[ -4.17952427e-17   7.51145046e-17   2.27359707e-17 ...,  -4.05814436e-18\n",
      "   7.51337663e-18   7.23944667e-18] 6206.50432136\n"
     ]
    }
   ],
   "source": [
    "print flux_wave,wavematch"
   ]
  },
  {
   "cell_type": "code",
   "execution_count": null,
   "metadata": {
    "collapsed": true
   },
   "outputs": [],
   "source": []
  },
  {
   "cell_type": "code",
   "execution_count": null,
   "metadata": {
    "collapsed": true
   },
   "outputs": [],
   "source": []
  }
 ],
 "metadata": {
  "kernelspec": {
   "display_name": "Python 3",
   "language": "python",
   "name": "python3"
  },
  "language_info": {
   "codemirror_mode": {
    "name": "ipython",
    "version": 3
   },
   "file_extension": ".py",
   "mimetype": "text/x-python",
   "name": "python",
   "nbconvert_exporter": "python",
   "pygments_lexer": "ipython3",
   "version": "3.6.3"
  }
 },
 "nbformat": 4,
 "nbformat_minor": 1
}
