{
 "cells": [
  {
   "cell_type": "code",
   "execution_count": 1,
   "metadata": {},
   "outputs": [
    {
     "name": "stdout",
     "output_type": "stream",
     "text": [
      "Populating the interactive namespace from numpy and matplotlib\n"
     ]
    }
   ],
   "source": [
    "%pylab inline\n",
    "from __future__ import print_function\n",
    "from astropy.io import fits\n",
    "import os\n",
    "import numpy as np\n",
    "import glob\n",
    "import matplotlib.pyplot as plt\n",
    "from astropy.wcs import WCS\n",
    "%matplotlib inline"
   ]
  },
  {
   "cell_type": "code",
   "execution_count": 2,
   "metadata": {},
   "outputs": [
    {
     "name": "stderr",
     "output_type": "stream",
     "text": [
      "WARNING: AstropyDeprecationWarning: Config parameter 'enabled_record_valued_keyword_cards' in section [io.fits] of the file '/home/angel/.astropy/config/astropy.cfg' is deprecated. Use 'enable_record_valued_keyword_cards' in section [io.fits] instead. [astropy.config.configuration]\n"
     ]
    }
   ],
   "source": [
    "datadir = \"../star-stavros/\"\n",
    "fitsfile = \"ss205_red.fits\"\n",
    "hdulist = fits.open(os.path.join(datadir, fitsfile))"
   ]
  },
  {
   "cell_type": "code",
   "execution_count": 3,
   "metadata": {},
   "outputs": [
    {
     "name": "stdout",
     "output_type": "stream",
     "text": [
      "Filename: ../star-stavros/ss205_red.fits\n",
      "No.    Name         Type      Cards   Dimensions   Format\n",
      "0    PRIMARY     PrimaryHDU      71   (2678,)      float32   \n"
     ]
    }
   ],
   "source": [
    "hdulist.info()"
   ]
  },
  {
   "cell_type": "code",
   "execution_count": 4,
   "metadata": {},
   "outputs": [
    {
     "data": {
      "text/plain": [
       "SIMPLE  =                    T / Fits standard                                  \n",
       "BITPIX  =                  -32 / Bits per pixel                                 \n",
       "NAXIS   =                    1 / Number of axes                                 \n",
       "NAXIS1  =                 2678 / Axis length                                    \n",
       "EXTEND  =                    F / File may contain extensions                    \n",
       "ORIGIN  = 'NOAO-IRAF FITS Image Kernel July 2003' / FITS file originator        \n",
       "OBJECT  = '27      '           / Name of the object observed                    \n",
       "DATE    = '2013-02-12T13:21:37' / Date FITS file was generated                  \n",
       "IRAF-TLM= '2013-02-12T13:21:37' / Time of last modification                     \n",
       "CTYPE1  = 'LINEAR  '           / R.A. in tangent plane projection               \n",
       "CRPIX1  =                   1. / Ref pix of axis 1                              \n",
       "CRVAL1  =     6568.55517578131 / RA at Ref pix in decimal degrees               \n",
       "CD1_1   =      1.3661410788079 / WCS matrix element 1 1                         \n",
       "CCDSUM  = '2 2     '           / CCD sum                                        \n",
       "GAIN    =                   1. / Amplifier gain                                 \n",
       "GAINMULT=                2.337 / Gain multiplication                            \n",
       "RDNOISE =                  3.3 / Readout noise                                  \n",
       "RADECSYS= 'FK5     '           / R.A./DEC. coordinate system reference          \n",
       "EQUINOX =                2000. / Equinox of coordinate system                   \n",
       "MJD-OBS =     55479.2375271767 / MJD of start of obseration                     \n",
       "WCSDIM  =                    1                                                  \n",
       "LTM1_1  =                   1.                                                  \n",
       "WAT0_001= 'system=equispec'    /                                                \n",
       "WAT1_001= 'wtype=linear label=Wavelength units=Angstroms' /                     \n",
       "MDFROW  =                   12 / Corresponding row in MDF                       \n",
       "DETSEC  = '[1151:6216,2597:2666]' / Detector section(s)                         \n",
       "DATASEC = '[1:2533,1:35]'      / Data section(s)                                \n",
       "REFPIX1 =                1777. / Pixel of central wavelength                    \n",
       "EXPTIME =             2399.971 /                                                \n",
       "DCLOG1  = 'Transform'                                                           \n",
       "DC-FLAG =                    0                                                  \n",
       "CDELT1  =      1.3661410788079                                                  \n",
       "WAVTRAN = 'gsN20101009S0355_012' / Name of wavelength transformation            \n",
       "AIRMASS =                1.634                                                  \n",
       "EX-FLAG =                    0                                                  \n",
       "CA-FLAG =                    0                                                  \n",
       "BUNIT   = 'erg/cm2/s/A'                                                         \n",
       "APNUM1  = '19 0 12.00 27.00'                                                    \n",
       "NCOMBINE=                    3                                                  \n",
       "                                                                                \n",
       "                                                                                \n",
       "                                                                                \n",
       "                                                                                \n",
       "                                                                                \n",
       "                                                                                \n",
       "                                                                                \n",
       "                                                                                \n",
       "                                                                                \n",
       "                                                                                \n",
       "                                                                                \n",
       "                                                                                \n",
       "                                                                                \n",
       "                                                                                \n",
       "                                                                                \n",
       "                                                                                \n",
       "                                                                                \n",
       "                                                                                \n",
       "                                                                                \n",
       "                                                                                \n",
       "                                                                                \n",
       "                                                                                \n",
       "                                                                                \n",
       "                                                                                \n",
       "                                                                                \n",
       "                                                                                \n",
       "                                                                                \n",
       "                                                                                \n",
       "                                                                                \n",
       "                                                                                \n",
       "                                                                                \n",
       "                                                                                "
      ]
     },
     "execution_count": 4,
     "metadata": {},
     "output_type": "execute_result"
    }
   ],
   "source": [
    "hdulist[0].header"
   ]
  },
  {
   "cell_type": "code",
   "execution_count": 6,
   "metadata": {},
   "outputs": [
    {
     "data": {
      "text/plain": [
       "array([  8.77641029e-18,   8.27794546e-18,   7.96563680e-18, ...,\n",
       "         5.28106183e-18,   3.96395910e-18,   4.00852717e-18], dtype=float32)"
      ]
     },
     "execution_count": 6,
     "metadata": {},
     "output_type": "execute_result"
    }
   ],
   "source": [
    "hdulist[0].data"
   ]
  },
  {
   "cell_type": "code",
   "execution_count": null,
   "metadata": {
    "collapsed": true
   },
   "outputs": [],
   "source": []
  }
 ],
 "metadata": {
  "anaconda-cloud": {},
  "kernelspec": {
   "display_name": "Python 3",
   "language": "python",
   "name": "python3"
  },
  "language_info": {
   "codemirror_mode": {
    "name": "ipython",
    "version": 3
   },
   "file_extension": ".py",
   "mimetype": "text/x-python",
   "name": "python",
   "nbconvert_exporter": "python",
   "pygments_lexer": "ipython3",
   "version": "3.6.3"
  }
 },
 "nbformat": 4,
 "nbformat_minor": 1
}
