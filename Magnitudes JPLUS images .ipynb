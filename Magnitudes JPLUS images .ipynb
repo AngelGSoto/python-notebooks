{
 "cells": [
  {
   "cell_type": "code",
   "execution_count": 2,
   "metadata": {
    "collapsed": false
   },
   "outputs": [
    {
     "name": "stdout",
     "output_type": "stream",
     "text": [
      "Populating the interactive namespace from numpy and matplotlib\n"
     ]
    }
   ],
   "source": [
    "%pylab inline"
   ]
  },
  {
   "cell_type": "code",
   "execution_count": 3,
   "metadata": {
    "collapsed": true
   },
   "outputs": [],
   "source": [
    "from __future__ import print_function\n",
    "import numpy as np\n",
    "from astropy.io import fits\n",
    "import os\n",
    "import glob\n",
    "import json\n",
    "import matplotlib.pyplot as plt\n",
    "from astropy.table import Table\n",
    "from collections import OrderedDict"
   ]
  },
  {
   "cell_type": "code",
   "execution_count": 4,
   "metadata": {
    "collapsed": true
   },
   "outputs": [],
   "source": [
    "pattern = \"../JPLUS-data/H4-1-phot/*.apdat\"\n",
    "file_list = glob.glob(pattern)"
   ]
  },
  {
   "cell_type": "code",
   "execution_count": 5,
   "metadata": {
    "collapsed": false
   },
   "outputs": [],
   "source": [
    "x = [np.loadtxt(file_name,  delimiter = None, converters = None, skiprows = 0, \n",
    "                         usecols = None, unpack = False, ndmin = 0,) for file_name in file_list]\n",
    "x = np.array(x)\n"
   ]
  },
  {
   "cell_type": "code",
   "execution_count": 6,
   "metadata": {
    "collapsed": false
   },
   "outputs": [],
   "source": [
    "T = {\"Filter\": [file_name.split('-1_')[-1].split('_s')[0] for file_name in file_list], \"6.00\": x[:,7], \n",
    "     \"7.00\": x[:,8] , \"8.00\": x[:,9], \"9.00\": x[:,10], \"10.00\": x[:,11]}\n"
   ]
  },
  {
   "cell_type": "code",
   "execution_count": 7,
   "metadata": {
    "collapsed": false
   },
   "outputs": [],
   "source": [
    "t = Table(T)"
   ]
  },
  {
   "cell_type": "code",
   "execution_count": 8,
   "metadata": {
    "collapsed": false,
    "scrolled": true
   },
   "outputs": [
    {
     "name": "stderr",
     "output_type": "stream",
     "text": [
      "WARNING: AstropyDeprecationWarning: Config parameter 'max_lines' in section [table.pprint] of the file '/home/angel/.astropy/config/astropy.cfg' is deprecated. Use 'max_lines' at the top-level instead. [astropy.config.configuration]\n",
      "WARNING: AstropyDeprecationWarning: Config parameter 'max_width' in section [table.pprint] of the file '/home/angel/.astropy/config/astropy.cfg' is deprecated. Use 'max_width' at the top-level instead. [astropy.config.configuration]\n"
     ]
    },
    {
     "data": {
      "text/html": [
       "&lt;Table length=12&gt;\n",
       "<table id=\"table139994057461136\" class=\"table-striped table-bordered table-condensed\">\n",
       "<thead><tr><th>7.00</th><th>6.00</th><th>9.00</th><th>Filter</th><th>8.00</th><th>10.00</th></tr></thead>\n",
       "<thead><tr><th>float64</th><th>float64</th><th>float64</th><th>str11</th><th>float64</th><th>float64</th></tr></thead>\n",
       "<tr><td>20.161</td><td>20.191</td><td>20.13</td><td>J0348_uJAVA</td><td>20.141</td><td>20.123</td></tr>\n",
       "<tr><td>17.405</td><td>17.436</td><td>17.373</td><td>J0625_rSDSS</td><td>17.387</td><td>17.364</td></tr>\n",
       "<tr><td>19.699</td><td>19.735</td><td>19.638</td><td>J0911_zSDSS</td><td>19.666</td><td>19.604</td></tr>\n",
       "<tr><td>17.283</td><td>17.312</td><td>17.256</td><td>J0480_gSDSS</td><td>17.265</td><td>17.25</td></tr>\n",
       "<tr><td>21.821</td><td>21.871</td><td>21.751</td><td>J0395</td><td>21.777</td><td>21.734</td></tr>\n",
       "<tr><td>19.092</td><td>19.121</td><td>19.047</td><td>J0766_iSDSS</td><td>19.065</td><td>19.042</td></tr>\n",
       "<tr><td>21.112</td><td>21.135</td><td>21.107</td><td>J0410</td><td>21.096</td><td>21.12</td></tr>\n",
       "<tr><td>21.416</td><td>21.426</td><td>21.387</td><td>J0515</td><td>21.41</td><td>21.369</td></tr>\n",
       "<tr><td>20.378</td><td>20.414</td><td>20.347</td><td>J0378</td><td>20.357</td><td>20.335</td></tr>\n",
       "<tr><td>20.576</td><td>20.602</td><td>20.573</td><td>J0430</td><td>20.569</td><td>20.57</td></tr>\n",
       "<tr><td>21.115</td><td>21.19</td><td>21.104</td><td>J0861</td><td>21.098</td><td>21.118</td></tr>\n",
       "<tr><td>17.581</td><td>17.609</td><td>17.552</td><td>J0660</td><td>17.564</td><td>17.544</td></tr>\n",
       "</table>"
      ],
      "text/plain": [
       "<Table length=12>\n",
       "  7.00    6.00    9.00     Filter     8.00   10.00 \n",
       "float64 float64 float64    str11    float64 float64\n",
       "------- ------- ------- ----------- ------- -------\n",
       " 20.161  20.191   20.13 J0348_uJAVA  20.141  20.123\n",
       " 17.405  17.436  17.373 J0625_rSDSS  17.387  17.364\n",
       " 19.699  19.735  19.638 J0911_zSDSS  19.666  19.604\n",
       " 17.283  17.312  17.256 J0480_gSDSS  17.265   17.25\n",
       " 21.821  21.871  21.751       J0395  21.777  21.734\n",
       " 19.092  19.121  19.047 J0766_iSDSS  19.065  19.042\n",
       " 21.112  21.135  21.107       J0410  21.096   21.12\n",
       " 21.416  21.426  21.387       J0515   21.41  21.369\n",
       " 20.378  20.414  20.347       J0378  20.357  20.335\n",
       " 20.576  20.602  20.573       J0430  20.569   20.57\n",
       " 21.115   21.19  21.104       J0861  21.098  21.118\n",
       " 17.581  17.609  17.552       J0660  17.564  17.544"
      ]
     },
     "execution_count": 8,
     "metadata": {},
     "output_type": "execute_result"
    }
   ],
   "source": [
    "t"
   ]
  },
  {
   "cell_type": "code",
   "execution_count": 9,
   "metadata": {
    "collapsed": false
   },
   "outputs": [],
   "source": [
    "t.write(\"Magnitude-JPLUS-images.dat\", format=\"ascii.tab\")\n"
   ]
  },
  {
   "cell_type": "code",
   "execution_count": 10,
   "metadata": {
    "collapsed": false
   },
   "outputs": [
    {
     "data": {
      "text/plain": [
       "[<matplotlib.lines.Line2D at 0x7f52e5d74050>]"
      ]
     },
     "execution_count": 10,
     "metadata": {},
     "output_type": "execute_result"
    },
    {
     "data": {
      "image/png": "[encoded data removed]",
      "text/plain": [
       "<matplotlib.figure.Figure at 0x7f52e811a650>"
      ]
     },
     "metadata": {},
     "output_type": "display_data"
    }
   ],
   "source": [
    "plt.plot(t['6.00'], t['10.00'], 'o')"
   ]
  },
  {
   "cell_type": "code",
   "execution_count": 10,
   "metadata": {
    "collapsed": false
   },
   "outputs": [],
   "source": [
    "pattern = \"../JPLUS-data/PNG135coadded-phot/*.apdat\"\n",
    "file_list = glob.glob(pattern)"
   ]
  },
  {
   "cell_type": "code",
   "execution_count": 11,
   "metadata": {
    "collapsed": true
   },
   "outputs": [],
   "source": [
    "x = [np.loadtxt(file_name,  delimiter = None, converters = None, skiprows = 0, \n",
    "                         usecols = None, unpack = False, ndmin = 0,) for file_name in file_list]\n",
    "x = np.array(x)"
   ]
  },
  {
   "cell_type": "code",
   "execution_count": 12,
   "metadata": {
    "collapsed": false
   },
   "outputs": [],
   "source": [
    "T = {\"Filter\": [file_name.split('ot/')[-1].split('_s')[0] for file_name in file_list], \"6.00\": x[:,7], \n",
    "     \"7.00\": x[:,8] , \"8.00\": x[:,9], \"9.00\": x[:,10], \"10.00\": x[:,11]}\n",
    "t = Table(T)"
   ]
  },
  {
   "cell_type": "code",
   "execution_count": 13,
   "metadata": {
    "collapsed": false
   },
   "outputs": [
    {
     "data": {
      "text/html": [
       "&lt;Table length=12&gt;\n",
       "<table id=\"table140391553141968\" class=\"table-striped table-bordered table-condensed\">\n",
       "<thead><tr><th>7.00</th><th>6.00</th><th>9.00</th><th>Filter</th><th>8.00</th><th>10.00</th></tr></thead>\n",
       "<thead><tr><th>float64</th><th>float64</th><th>float64</th><th>str11</th><th>float64</th><th>float64</th></tr></thead>\n",
       "<tr><td>21.334</td><td>21.358</td><td>21.31</td><td>J0515</td><td>21.33</td><td>21.266</td></tr>\n",
       "<tr><td>21.022</td><td>21.077</td><td>21.017</td><td>J0911_zSDSS</td><td>21.014</td><td>21.059</td></tr>\n",
       "<tr><td>21.199</td><td>21.227</td><td>21.166</td><td>J0348_uJAVA</td><td>21.168</td><td>21.164</td></tr>\n",
       "<tr><td>21.324</td><td>21.326</td><td>21.334</td><td>J0410</td><td>21.339</td><td>21.343</td></tr>\n",
       "<tr><td>19.328</td><td>19.352</td><td>19.306</td><td>J0625_rSDSS</td><td>19.303</td><td>19.296</td></tr>\n",
       "<tr><td>21.246</td><td>21.259</td><td>21.416</td><td>J0430</td><td>21.332</td><td>21.454</td></tr>\n",
       "<tr><td>19.271</td><td>19.317</td><td>19.234</td><td>J0480_gSDSS</td><td>19.246</td><td>19.215</td></tr>\n",
       "<tr><td>20.125</td><td>20.141</td><td>20.176</td><td>J0766_iSDSS</td><td>20.146</td><td>20.217</td></tr>\n",
       "<tr><td>21.9</td><td>21.931</td><td>21.836</td><td>J0378</td><td>21.882</td><td>21.814</td></tr>\n",
       "<tr><td>20.556</td><td>20.599</td><td>20.508</td><td>J0660</td><td>20.525</td><td>20.503</td></tr>\n",
       "<tr><td>22.115</td><td>22.151</td><td>22.039</td><td>J0395</td><td>22.055</td><td>22.035</td></tr>\n",
       "<tr><td>21.985</td><td>22.015</td><td>21.915</td><td>J0861</td><td>22.005</td><td>21.863</td></tr>\n",
       "</table>"
      ],
      "text/plain": [
       "<Table length=12>\n",
       "  7.00    6.00    9.00     Filter     8.00   10.00 \n",
       "float64 float64 float64    str11    float64 float64\n",
       "------- ------- ------- ----------- ------- -------\n",
       " 21.334  21.358   21.31       J0515   21.33  21.266\n",
       " 21.022  21.077  21.017 J0911_zSDSS  21.014  21.059\n",
       " 21.199  21.227  21.166 J0348_uJAVA  21.168  21.164\n",
       " 21.324  21.326  21.334       J0410  21.339  21.343\n",
       " 19.328  19.352  19.306 J0625_rSDSS  19.303  19.296\n",
       " 21.246  21.259  21.416       J0430  21.332  21.454\n",
       " 19.271  19.317  19.234 J0480_gSDSS  19.246  19.215\n",
       " 20.125  20.141  20.176 J0766_iSDSS  20.146  20.217\n",
       "   21.9  21.931  21.836       J0378  21.882  21.814\n",
       " 20.556  20.599  20.508       J0660  20.525  20.503\n",
       " 22.115  22.151  22.039       J0395  22.055  22.035\n",
       " 21.985  22.015  21.915       J0861  22.005  21.863"
      ]
     },
     "execution_count": 13,
     "metadata": {},
     "output_type": "execute_result"
    }
   ],
   "source": [
    "t"
   ]
  },
  {
   "cell_type": "markdown",
   "metadata": {
    "collapsed": false
   },
   "source": []
  },
  {
   "cell_type": "markdown",
   "metadata": {},
   "source": [
    "# --- Fit line"
   ]
  },
  {
   "cell_type": "markdown",
   "metadata": {},
   "source": [
    "# H4 1 "
   ]
  },
  {
   "cell_type": "code",
   "execution_count": 14,
   "metadata": {
    "collapsed": false
   },
   "outputs": [
    {
     "name": "stdout",
     "output_type": "stream",
     "text": [
      "0.862507819751 1.26399360875\n"
     ]
    }
   ],
   "source": [
    "#6 pixel aperture\n",
    "M_s = [16.12, 16.32, 17.99, 18.11]\n",
    "M_j = [17.312, 17.436, 19.121, 19.735 ]\n",
    "a = np.polyfit(M_j, M_s, 1)\n",
    "p = np.poly1d(a)\n",
    "yfit = p(M_j)\n",
    "print(a[0], a[1])\n"
   ]
  },
  {
   "cell_type": "code",
   "execution_count": 15,
   "metadata": {
    "collapsed": false
   },
   "outputs": [
    {
     "data": {
      "image/png": "[encoded data removed]",
      "text/plain": [
       "<matplotlib.figure.Figure at 0x7faf74b72d90>"
      ]
     },
     "metadata": {},
     "output_type": "display_data"
    }
   ],
   "source": [
    "plt.plot(M_j, M_s, 'o'  )\n",
    "plt.plot(M_j, yfit, '-'  )\n",
    "plt.xlabel('m_inst, jplus survey')\n",
    "plt.ylabel('m, SLOAN ')\n",
    "plt.savefig(\"H4-1-fit-lineal.jpg\")"
   ]
  },
  {
   "cell_type": "code",
   "execution_count": 16,
   "metadata": {
    "collapsed": false
   },
   "outputs": [
    {
     "name": "stdout",
     "output_type": "stream",
     "text": [
      "best fit line:\n",
      "y = 1.26 + 0.86x\n"
     ]
    },
    {
     "data": {
      "text/plain": [
       "[<matplotlib.lines.Line2D at 0x7faf74483fd0>]"
      ]
     },
     "execution_count": 16,
     "metadata": {},
     "output_type": "execute_result"
    },
    {
     "data": {
      "image/png": "[encoded data removed]",
      "text/plain": [
       "<matplotlib.figure.Figure at 0x7faf74b59d50>"
      ]
     },
     "metadata": {},
     "output_type": "display_data"
    }
   ],
   "source": [
    "M_s = [16.12, 16.32, 17.99, 18.11]\n",
    "M_j = [17.312, 17.436, 19.121, 19.735]\n",
    "def best_fit(X, Y):\n",
    "\n",
    "    xbar = sum(X)/len(X)\n",
    "    ybar = sum(Y)/len(Y)\n",
    "    n = len(X) # or len(Y)\n",
    "\n",
    "    numer = sum([xi*yi for xi,yi in zip(X, Y)]) - n * xbar * ybar\n",
    "    denum = sum([xi**2 for xi in X]) - n * xbar**2\n",
    "\n",
    "    b = numer / denum\n",
    "    a = ybar - b * xbar\n",
    "\n",
    "    print('best fit line:\\ny = {:.2f} + {:.2f}x'.format(a, b))\n",
    "\n",
    "    return a, b\n",
    "\n",
    "# solution\n",
    "a, b = best_fit(M_j, M_s)\n",
    "#best fit linej\n",
    "#y = 1.26 + 0.86x\n",
    "\n",
    "# plot points and fit line\n",
    "import matplotlib.pyplot as plt\n",
    "plt.scatter(M_j, M_s)\n",
    "yfit = [a + b * xi for xi in M_j]\n",
    "plt.plot(M_j, yfit)\n"
   ]
  },
  {
   "cell_type": "markdown",
   "metadata": {},
   "source": [
    "# PNG 135"
   ]
  },
  {
   "cell_type": "code",
   "execution_count": 17,
   "metadata": {
    "collapsed": true
   },
   "outputs": [],
   "source": [
    "#6 pixel aperture\n",
    "M_j1 =[19.317, 19.352, 20.141, 21.077]\n",
    "M_s1 = [17.95, 18.19, 18.73, 18.98]"
   ]
  },
  {
   "cell_type": "code",
   "execution_count": 20,
   "metadata": {
    "collapsed": false
   },
   "outputs": [
    {
     "name": "stdout",
     "output_type": "stream",
     "text": [
      "best fit line:\n",
      "y = 7.60 + 0.54x\n"
     ]
    },
    {
     "data": {
      "image/png": "[encoded data removed]",
      "text/plain": [
       "<matplotlib.figure.Figure at 0x7faf74308610>"
      ]
     },
     "metadata": {},
     "output_type": "display_data"
    }
   ],
   "source": [
    "a1 = np.polyfit(M_j1, M_s1, 1)\n",
    "p1 = np.poly1d(a1)\n",
    "yfit1 = p1(M_j1)\n",
    "print('best fit line:\\ny = {:.2f} + {:.2f}x'.format(a1[1], a1[0]))\n",
    "plt.plot(M_j1, M_s1, 'o'  )\n",
    "plt.plot(M_j1, yfit1, '-')\n",
    "plt.xlabel('m_inst, jplus survey')\n",
    "plt.ylabel('m, SLOAN ')\n",
    "plt.savefig(\"PNG135-fit-lineal.jpg\")"
   ]
  },
  {
   "cell_type": "markdown",
   "metadata": {
    "collapsed": true
   },
   "source": [
    "# fit combined dataset"
   ]
  },
  {
   "cell_type": "code",
   "execution_count": 21,
   "metadata": {
    "collapsed": true
   },
   "outputs": [],
   "source": [
    "x = np.concatenate((M_j, M_j1))\n",
    "y = np.concatenate((M_s, M_s1))"
   ]
  },
  {
   "cell_type": "code",
   "execution_count": 22,
   "metadata": {
    "collapsed": false
   },
   "outputs": [
    {
     "name": "stdout",
     "output_type": "stream",
     "text": [
      "best fit line:\n",
      "y = 2.50 + 0.80x\n"
     ]
    },
    {
     "data": {
      "image/png": "[encoded data removed]",
      "text/plain": [
       "<matplotlib.figure.Figure at 0x7faf743fd350>"
      ]
     },
     "metadata": {},
     "output_type": "display_data"
    }
   ],
   "source": [
    "a2 = np.polyfit(x, y, 1)\n",
    "p2 = np.poly1d(a2)\n",
    "yfit2 = p2(x)\n",
    "print('best fit line:\\ny = {:.2f} + {:.2f}x'.format(a2[1], a2[0]))\n",
    "plt.plot(x, y, 'o'  )\n",
    "plt.plot(x, yfit2, '-'  )\n",
    "plt.xlabel('m_inst, jplus survey')\n",
    "plt.ylabel('m, SLOAN ')\n",
    "plt.savefig(\"H4-1+PNG135-fit-lineal.jpg\")"
   ]
  },
  {
   "cell_type": "code",
   "execution_count": null,
   "metadata": {
    "collapsed": true
   },
   "outputs": [],
   "source": []
  },
  {
   "cell_type": "code",
   "execution_count": null,
   "metadata": {
    "collapsed": true
   },
   "outputs": [],
   "source": []
  },
  {
   "cell_type": "code",
   "execution_count": null,
   "metadata": {
    "collapsed": true
   },
   "outputs": [],
   "source": []
  }
 ],
 "metadata": {
  "anaconda-cloud": {},
  "kernelspec": {
   "display_name": "Python [default]",
   "language": "python",
   "name": "python2"
  },
  "language_info": {
   "codemirror_mode": {
    "name": "ipython",
    "version": 2
   },
   "file_extension": ".py",
   "mimetype": "text/x-python",
   "name": "python",
   "nbconvert_exporter": "python",
   "pygments_lexer": "ipython2",
   "version": "2.7.12"
  }
 },
 "nbformat": 4,
 "nbformat_minor": 0
}
