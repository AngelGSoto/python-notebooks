{
 "cells": [
  {
   "cell_type": "markdown",
   "metadata": {},
   "source": [
    "# Code to implement astroquery on simbad and Vizier"
   ]
  },
  {
   "cell_type": "code",
   "execution_count": 1,
   "metadata": {},
   "outputs": [],
   "source": [
    "from astroquery.simbad import Simbad\n",
    "import astropy.coordinates as coord\n",
    "import astropy.units as u\n",
    "from astropy.io import ascii\n",
    "from astropy.table import Table\n",
    "from astropy.coordinates import SkyCoord \n",
    "import numpy as np"
   ]
  },
  {
   "cell_type": "code",
   "execution_count": 2,
   "metadata": {},
   "outputs": [
    {
     "data": {
      "text/plain": [
       "<Table length=80>\n",
       "         name           dtype \n",
       "---------------------- -------\n",
       "                  Tile   int64\n",
       "                Number   int64\n",
       "                    RA float64\n",
       "                   Dec float64\n",
       "            rSDSS_auto float64\n",
       "            gSDSS_auto float64\n",
       "            iSDSS_auto float64\n",
       "            zSDSS_auto float64\n",
       "            uJAVA_auto float64\n",
       "            J0378_auto float64\n",
       "            J0395_auto float64\n",
       "            J0410_auto float64\n",
       "            J0430_auto float64\n",
       "            J0515_auto float64\n",
       "            J0660_auto float64\n",
       "            J0861_auto float64\n",
       "           rSDSS_PETRO float64\n",
       "           gSDSS_PETRO float64\n",
       "           iSDSS_PETRO float64\n",
       "           zSDSS_PETRO float64\n",
       "           uJAVA_PETRO float64\n",
       "           J0378_PETRO float64\n",
       "           J0395_PETRO float64\n",
       "           J0410_PETRO float64\n",
       "           J0430_PETRO float64\n",
       "           J0515_PETRO float64\n",
       "           J0660_PETRO float64\n",
       "           J0861_PETRO float64\n",
       "    rSDSS_MAG_APER_6_0 float64\n",
       "    gSDSS_MAG_APER_6_0 float64\n",
       "    iSDSS_MAG_APER_6_0 float64\n",
       "    zSDSS_MAG_APER_6_0 float64\n",
       "    uJAVA_MAG_APER_6_0 float64\n",
       "    J0378_MAG_APER_6_0 float64\n",
       "    J0395_MAG_APER_6_0 float64\n",
       "    J0410_MAG_APER_6_0 float64\n",
       "    J0430_MAG_APER_6_0 float64\n",
       "    J0515_MAG_APER_6_0 float64\n",
       "    J0660_MAG_APER_6_0 float64\n",
       "    J0861_MAG_APER_6_0 float64\n",
       "        rSDSS_auto_err float64\n",
       "        gSDSS_auto_err float64\n",
       "        iSDSS_auto_err float64\n",
       "        zSDSS_auto_err float64\n",
       "        uJAVA_auto_err float64\n",
       "        J0378_auto_err float64\n",
       "        J0395_auto_err float64\n",
       "        J0410_auto_err float64\n",
       "        J0430_auto_err float64\n",
       "        J0515_auto_err float64\n",
       "        J0660_auto_err float64\n",
       "        J0861_auto_err float64\n",
       "       rSDSS_PETRO_err float64\n",
       "       gSDSS_PETRO_err float64\n",
       "       iSDSS_PETRO_err float64\n",
       "       zSDSS_PETRO_err float64\n",
       "       uJAVA_PETRO_err float64\n",
       "       J0378_PETRO_err float64\n",
       "       J0395_PETRO_err float64\n",
       "       J0410_PETRO_err float64\n",
       "       J0430_PETRO_err float64\n",
       "       J0515_PETRO_err float64\n",
       "       J0660_PETRO_err float64\n",
       "       J0861_PETRO_err float64\n",
       "rSDSS_MAG_APER_6_0_err float64\n",
       "gSDSS_MAG_APER_6_0_err float64\n",
       "iSDSS_MAG_APER_6_0_err float64\n",
       "zSDSS_MAG_APER_6_0_err float64\n",
       "uJAVA_MAG_APER_6_0_err float64\n",
       "J0378_MAG_APER_6_0_err float64\n",
       "J0395_MAG_APER_6_0_err float64\n",
       "J0410_MAG_APER_6_0_err float64\n",
       "J0430_MAG_APER_6_0_err float64\n",
       "J0515_MAG_APER_6_0_err float64\n",
       "J0660_MAG_APER_6_0_err float64\n",
       "J0861_MAG_APER_6_0_err float64\n",
       "           rSDSS_FLAGS   int64\n",
       "           gSDSS_FLAGS   int64\n",
       "           iSDSS_FLAGS   int64\n",
       "           zSDSS_FLAGS   int64\n",
       "           uJAVA_FLAGS   int64\n",
       "           J0378_FLAGS   int64\n",
       "           J0395_FLAGS   int64\n",
       "           J0410_FLAGS   int64\n",
       "           J0430_FLAGS   int64\n",
       "           J0515_FLAGS   int64\n",
       "           J0660_FLAGS   int64\n",
       "           J0861_FLAGS   int64\n",
       "      rSDSS_MASK_FLAGS   int64\n",
       "      gSDSS_MASK_FLAGS   int64\n",
       "      iSDSS_MASK_FLAGS   int64\n",
       "      zSDSS_MASK_FLAGS   int64\n",
       "      uJAVA_MASK_FLAGS   int64\n",
       "      J0378_MASK_FLAGS   int64\n",
       "      J0395_MASK_FLAGS   int64\n",
       "      J0410_MASK_FLAGS   int64\n",
       "      J0430_MASK_FLAGS   int64\n",
       "      J0515_MASK_FLAGS   int64\n",
       "      J0660_MASK_FLAGS   int64\n",
       "      J0861_MASK_FLAGS   int64\n",
       "                 P(PN) float64\n",
       "               P(SySt) float64\n",
       "           P(all else) float64"
      ]
     },
     "execution_count": 2,
     "metadata": {},
     "output_type": "execute_result"
    }
   ],
   "source": [
    "# Read the table\n",
    "tab = Table.read(\"../JPLUS-DR2/aper6_mag_idr/PN-pc-Halpha_emitters_threeerror-cleaning-limfilter-limcolor-flags-mask-broad.tab\", format=\"ascii.tab\")\n",
    "tab.info"
   ]
  },
  {
   "cell_type": "code",
   "execution_count": 3,
   "metadata": {},
   "outputs": [
    {
     "name": "stderr",
     "output_type": "stream",
     "text": [
      "/home/lgutierrez/anaconda3/lib/python3.7/site-packages/astroquery/simbad/core.py:138: UserWarning: Warning: The script line number 9 raised an error (recorded in the `errors` attribute of the result table): '7:36:49.3911 +65:41:16.2059': No astronomical object found :  \n",
      "  (error.line, error.msg))\n",
      "/home/lgutierrez/anaconda3/lib/python3.7/site-packages/astroquery/simbad/core.py:138: UserWarning: Warning: The script line number 11 raised an error (recorded in the `errors` attribute of the result table): '7:35:51.6367 +65:34:59.8058': No astronomical object found :  \n",
      "  (error.line, error.msg))\n",
      "/home/lgutierrez/anaconda3/lib/python3.7/site-packages/astroquery/simbad/core.py:138: UserWarning: Warning: The script line number 15 raised an error (recorded in the `errors` attribute of the result table): '12:16:27.8388 +69:24:43.214': No astronomical object found :  \n",
      "  (error.line, error.msg))\n",
      "/home/lgutierrez/anaconda3/lib/python3.7/site-packages/astroquery/simbad/core.py:138: UserWarning: Warning: The script line number 28 raised an error (recorded in the `errors` attribute of the result table): '15:01:15.2215 +52:35:55.684': No astronomical object found :  \n",
      "  (error.line, error.msg))\n",
      "/home/lgutierrez/anaconda3/lib/python3.7/site-packages/astroquery/simbad/core.py:138: UserWarning: Warning: The script line number 31 raised an error (recorded in the `errors` attribute of the result table): '18:53:36.0389 +33:01:25.7197': No astronomical object found :  \n",
      "  (error.line, error.msg))\n",
      "/home/lgutierrez/anaconda3/lib/python3.7/site-packages/astroquery/simbad/core.py:138: UserWarning: Warning: The script line number 33 raised an error (recorded in the `errors` attribute of the result table): '9:15:26.4327 +31:23:54.9766': No astronomical object found :  \n",
      "  (error.line, error.msg))\n",
      "/home/lgutierrez/anaconda3/lib/python3.7/site-packages/astroquery/simbad/core.py:138: UserWarning: Warning: The script line number 41 raised an error (recorded in the `errors` attribute of the result table): '14:04:50.737 +54:28:07.1487': No astronomical object found :  \n",
      "  (error.line, error.msg))\n",
      "/home/lgutierrez/anaconda3/lib/python3.7/site-packages/astroquery/simbad/core.py:138: UserWarning: Warning: The script line number 61 raised an error (recorded in the `errors` attribute of the result table): '15:46:30.8649 +46:00:07.6946': No astronomical object found :  \n",
      "  (error.line, error.msg))\n",
      "/home/lgutierrez/anaconda3/lib/python3.7/site-packages/astroquery/simbad/core.py:138: UserWarning: Warning: The script line number 63 raised an error (recorded in the `errors` attribute of the result table): '18:41:41.8905 +65:11:58.1956': No astronomical object found :  \n",
      "  (error.line, error.msg))\n",
      "/home/lgutierrez/anaconda3/lib/python3.7/site-packages/astroquery/simbad/core.py:138: UserWarning: Warning: The script line number 71 raised an error (recorded in the `errors` attribute of the result table): '18:50:01.8517 +35:14:33.001': No astronomical object found :  \n",
      "  (error.line, error.msg))\n",
      "/home/lgutierrez/anaconda3/lib/python3.7/site-packages/astroquery/simbad/core.py:138: UserWarning: Warning: The script line number 76 raised an error (recorded in the `errors` attribute of the result table): '9:16:32.7864 +39:51:57.9556': No astronomical object found :  \n",
      "  (error.line, error.msg))\n",
      "/home/lgutierrez/anaconda3/lib/python3.7/site-packages/astroquery/simbad/core.py:138: UserWarning: Warning: The script line number 79 raised an error (recorded in the `errors` attribute of the result table): '12:28:46.6668 +43:13:45.1022': No astronomical object found :  \n",
      "  (error.line, error.msg))\n"
     ]
    }
   ],
   "source": [
    "#Looking the objects of the table in Simbad and specifying the column wanted of Simbad \n",
    "customSimbad = Simbad()\n",
    "customSimbad.get_votable_fields()\n",
    "#customSimbad.list_votable_fields()\n",
    "customSimbad.add_votable_fields('sptype', 'otype','distance', \"velocity\", \"otypes\")\n",
    "customSimbad.add_votable_fields(\"uvby\")\n",
    "customSimbad.add_votable_fields('ra(d)', 'dec(d)')\n",
    "customSimbad.add_votable_fields('bibcodelist(1990-2020)')#, 'biblio')\n",
    "result_table = customSimbad.query_region(coord.SkyCoord(tab[\"RA\"], tab[\"Dec\"], \n",
    "                                                 unit=(u.deg, u.deg)), radius = 4.0 * u.arcsec) "
   ]
  },
  {
   "cell_type": "code",
   "execution_count": 4,
   "metadata": {},
   "outputs": [
    {
     "data": {
      "text/html": [
       "<i>Table length=173</i>\n",
       "<table id=\"table139977252032400\" class=\"table-striped table-bordered table-condensed\">\n",
       "<thead><tr><th>MAIN_ID</th><th>RA</th><th>DEC</th><th>RA_PREC</th><th>DEC_PREC</th><th>COO_ERR_MAJA</th><th>COO_ERR_MINA</th><th>COO_ERR_ANGLE</th><th>COO_QUAL</th><th>COO_WAVELENGTH</th><th>COO_BIBCODE</th><th>SP_TYPE</th><th>SP_QUAL</th><th>SP_BIBCODE</th><th>OTYPE</th><th>Distance_distance</th><th>Distance_Q</th><th>Distance_unit</th><th>Distance_merr</th><th>Distance_perr</th><th>Distance_method</th><th>Distance_bibcode</th><th>RVZ_TYPE</th><th>RVZ_RADVEL</th><th>RVZ_ERROR</th><th>RVZ_QUAL</th><th>RVZ_WAVELENGTH</th><th>RVZ_BIBCODE</th><th>OTYPES</th><th>RA_d</th><th>DEC_d</th><th>BIBLIST_1990_2020</th></tr></thead>\n",
       "<thead><tr><th></th><th>&quot;h:m:s&quot;</th><th>&quot;d:m:s&quot;</th><th></th><th></th><th>mas</th><th>mas</th><th>deg</th><th></th><th></th><th></th><th></th><th></th><th></th><th></th><th></th><th></th><th></th><th></th><th></th><th></th><th></th><th></th><th>km / s</th><th>km / s</th><th></th><th></th><th></th><th></th><th>deg</th><th>deg</th><th></th></tr></thead>\n",
       "<thead><tr><th>object</th><th>str13</th><th>str13</th><th>int16</th><th>int16</th><th>float32</th><th>float32</th><th>int16</th><th>str1</th><th>str1</th><th>object</th><th>object</th><th>str1</th><th>object</th><th>object</th><th>float64</th><th>str1</th><th>str4</th><th>float64</th><th>float64</th><th>str8</th><th>str19</th><th>str1</th><th>float64</th><th>float32</th><th>str1</th><th>str1</th><th>object</th><th>object</th><th>float64</th><th>float64</th><th>int32</th></tr></thead>\n",
       "<tr><td>[BKG2004] G44</td><td>01 05 01.78</td><td>+02 06 19.1</td><td>6</td><td>6</td><td>--</td><td>--</td><td>0</td><td>D</td><td></td><td>2004A&amp;A...413..889B</td><td></td><td></td><td></td><td>Assoc*</td><td>--</td><td></td><td></td><td>--</td><td>--</td><td></td><td></td><td></td><td>--</td><td>--</td><td></td><td></td><td></td><td>As*</td><td>16.25742000</td><td>2.10531000</td><td>3</td></tr>\n",
       "<tr><td>[SK76] J 46</td><td>01 05 01.72</td><td>+02 06 20.7</td><td>6</td><td>6</td><td>--</td><td>--</td><td>0</td><td>D</td><td></td><td>2007ApJ...671.2028B</td><td></td><td></td><td></td><td>Star</td><td>--</td><td></td><td></td><td>--</td><td>--</td><td></td><td></td><td></td><td>--</td><td>--</td><td></td><td></td><td></td><td>*</td><td>16.25717000</td><td>2.10575000</td><td>2</td></tr>\n",
       "<tr><td>[GHV2009] Star 68456</td><td>01 05 05.567</td><td>+02 09 14.23</td><td>7</td><td>7</td><td>--</td><td>--</td><td>0</td><td>D</td><td></td><td>2013A&amp;A...551A..74G</td><td></td><td></td><td></td><td>Star</td><td>--</td><td></td><td></td><td>--</td><td>--</td><td></td><td></td><td></td><td>--</td><td>--</td><td></td><td></td><td></td><td>*</td><td>16.27319700</td><td>2.15395200</td><td>1</td></tr>\n",
       "<tr><td>[HLG90] 47</td><td>01 05 02</td><td>+02 08.9</td><td>4</td><td>4</td><td>--</td><td>--</td><td>0</td><td>E</td><td></td><td>1990PASP..102.1245H</td><td></td><td></td><td></td><td>HII</td><td>--</td><td></td><td></td><td>--</td><td>--</td><td></td><td></td><td></td><td>--</td><td>--</td><td></td><td></td><td></td><td>HII</td><td>16.25800000</td><td>2.14800000</td><td>2</td></tr>\n",
       "<tr><td>[HLG90] 40b</td><td>01 05 02</td><td>+02 08.9</td><td>4</td><td>4</td><td>--</td><td>--</td><td>0</td><td>E</td><td></td><td>1990PASP..102.1245H</td><td></td><td></td><td></td><td>HII</td><td>--</td><td></td><td></td><td>--</td><td>--</td><td></td><td></td><td></td><td>--</td><td>--</td><td></td><td></td><td></td><td>HII</td><td>16.25800000</td><td>2.14800000</td><td>2</td></tr>\n",
       "<tr><td>[HLG90] 48</td><td>01 05 02</td><td>+02 08.8</td><td>4</td><td>4</td><td>--</td><td>--</td><td>0</td><td>E</td><td></td><td>1990PASP..102.1245H</td><td></td><td></td><td></td><td>HII</td><td>--</td><td></td><td></td><td>--</td><td>--</td><td></td><td></td><td></td><td>--</td><td>--</td><td></td><td></td><td></td><td>HII</td><td>16.25800000</td><td>2.14700000</td><td>2</td></tr>\n",
       "<tr><td>[BKG2004] G15</td><td>01 05 02.22</td><td>+02 08 03.1</td><td>6</td><td>6</td><td>--</td><td>--</td><td>0</td><td>D</td><td></td><td>2004A&amp;A...413..889B</td><td></td><td></td><td></td><td>Assoc*</td><td>--</td><td></td><td></td><td>--</td><td>--</td><td></td><td></td><td></td><td>--</td><td>--</td><td></td><td></td><td></td><td>As*</td><td>16.25925000</td><td>2.13419000</td><td>4</td></tr>\n",
       "<tr><td>[AM85] IC 1613 8</td><td>01 05 02.5</td><td>+02 08 43</td><td>5</td><td>5</td><td>--</td><td>--</td><td>0</td><td>D</td><td></td><td></td><td>WN</td><td>D</td><td></td><td>WR*</td><td>--</td><td></td><td></td><td>--</td><td>--</td><td></td><td></td><td></td><td>--</td><td>--</td><td></td><td></td><td></td><td>Pe*|WR*</td><td>16.26040000</td><td>2.14530000</td><td>1</td></tr>\n",
       "<tr><td>[BKG2004] G10</td><td>01 05 00.59</td><td>+02 10 42.8</td><td>6</td><td>6</td><td>--</td><td>--</td><td>0</td><td>D</td><td></td><td>2004A&amp;A...413..889B</td><td></td><td></td><td></td><td>Assoc*</td><td>--</td><td></td><td></td><td>--</td><td>--</td><td></td><td></td><td></td><td>--</td><td>--</td><td></td><td></td><td></td><td>As*</td><td>16.25246000</td><td>2.17856000</td><td>5</td></tr>\n",
       "<tr><td>...</td><td>...</td><td>...</td><td>...</td><td>...</td><td>...</td><td>...</td><td>...</td><td>...</td><td>...</td><td>...</td><td>...</td><td>...</td><td>...</td><td>...</td><td>...</td><td>...</td><td>...</td><td>...</td><td>...</td><td>...</td><td>...</td><td>...</td><td>...</td><td>...</td><td>...</td><td>...</td><td>...</td><td>...</td><td>...</td><td>...</td><td>...</td></tr>\n",
       "<tr><td>[DRR96] NGC 2363 V1</td><td>07 28 43.37</td><td>+69 11 23.9</td><td>6</td><td>6</td><td>--</td><td>--</td><td>0</td><td>D</td><td></td><td>1997ApJ...474L..35D</td><td></td><td></td><td></td><td>V*</td><td>--</td><td></td><td></td><td>--</td><td>--</td><td></td><td></td><td></td><td>--</td><td>--</td><td></td><td></td><td></td><td>V*</td><td>112.18071000</td><td>69.18997000</td><td>33</td></tr>\n",
       "<tr><td>[CW2009] N2366-11</td><td>07 28 43.71</td><td>+69 11 22.4</td><td>6</td><td>6</td><td>--</td><td>--</td><td>0</td><td>D</td><td>R</td><td>2009AJ....137.3869C</td><td></td><td></td><td></td><td>HII</td><td>--</td><td></td><td></td><td>--</td><td>--</td><td></td><td></td><td></td><td>--</td><td>--</td><td></td><td></td><td></td><td>Cl*|HII|Rad</td><td>112.18213000</td><td>69.18956000</td><td>3</td></tr>\n",
       "<tr><td>[VH2006] UGC  2023 B -008+025</td><td>02 33 18.0</td><td>+33 29 54</td><td>5</td><td>5</td><td>--</td><td>--</td><td>0</td><td>D</td><td>O</td><td>2006ApJ...636..214V</td><td></td><td></td><td></td><td>HII</td><td>--</td><td></td><td></td><td>--</td><td>--</td><td></td><td></td><td></td><td>--</td><td>--</td><td></td><td></td><td></td><td>HII|HII</td><td>38.32500000</td><td>33.49830000</td><td>2</td></tr>\n",
       "<tr><td>[VH2006] UGC  2023 C -006+022</td><td>02 33 18.1</td><td>+33 29 51</td><td>5</td><td>5</td><td>--</td><td>--</td><td>0</td><td>D</td><td>O</td><td>2006ApJ...636..214V</td><td></td><td></td><td></td><td>HII</td><td>--</td><td></td><td></td><td>--</td><td>--</td><td></td><td></td><td></td><td>--</td><td>--</td><td></td><td></td><td></td><td>HII|HII</td><td>38.32540000</td><td>33.49750000</td><td>2</td></tr>\n",
       "<tr><td>UGC   993</td><td>01 25 34.1909</td><td>+07 59 24.711</td><td>14</td><td>14</td><td>3.109</td><td>3.300</td><td>90</td><td>C</td><td>O</td><td>2018yCat.1345....0G</td><td></td><td></td><td></td><td>HII_G</td><td>--</td><td></td><td></td><td>--</td><td>--</td><td></td><td></td><td>z</td><td>0.010</td><td>0.000</td><td>C</td><td>O</td><td>2011yCat.2306....0A</td><td>*|G|GiC|GiC|H2G</td><td>21.39246230</td><td>7.99019771</td><td>35</td></tr>\n",
       "<tr><td>SDSSCGB 222.4</td><td>14 09 02.5796</td><td>+48 00 46.734</td><td>14</td><td>14</td><td>2.038</td><td>2.263</td><td>90</td><td>C</td><td>O</td><td>2018yCat.1345....0G</td><td></td><td></td><td></td><td>Galaxy</td><td>--</td><td></td><td></td><td>--</td><td>--</td><td></td><td></td><td></td><td>--</td><td>--</td><td></td><td></td><td></td><td>*|G|GiG</td><td>212.26074842</td><td>48.01298178</td><td>1</td></tr>\n",
       "<tr><td>2MFGC 14518</td><td>18 39 31.340</td><td>+73 34 58.99</td><td>7</td><td>7</td><td>--</td><td>--</td><td>0</td><td>C</td><td>I</td><td>2006AJ....131.1163S</td><td></td><td></td><td></td><td>Galaxy</td><td>--</td><td></td><td></td><td>--</td><td>--</td><td></td><td></td><td></td><td>--</td><td>--</td><td></td><td></td><td></td><td>G</td><td>279.88058300</td><td>73.58305300</td><td>0</td></tr>\n",
       "<tr><td>MCG+08-19-016a</td><td>10 18 43.1</td><td>+46 03 01</td><td>5</td><td>5</td><td>3000.000</td><td>3000.000</td><td>90</td><td>D</td><td></td><td>1997NEDR....1....1P</td><td></td><td></td><td></td><td>PairG</td><td>--</td><td></td><td></td><td>--</td><td>--</td><td></td><td></td><td></td><td>--</td><td>--</td><td></td><td></td><td></td><td>PaG|IG|G</td><td>154.67960000</td><td>46.05030000</td><td>6</td></tr>\n",
       "<tr><td>LEDA 2790884</td><td>08 25 55.521</td><td>+35 32 31.96</td><td>7</td><td>7</td><td>7.000</td><td>7.000</td><td>90</td><td>C</td><td>O</td><td>2012ApJS..203...21A</td><td></td><td></td><td></td><td>BlueCompG</td><td>10.0000</td><td></td><td>Mpc</td><td>--</td><td>--</td><td></td><td>2007ApJS..173..185G</td><td>z</td><td>0.003</td><td>0.001</td><td>C</td><td>O</td><td>2009yCat.2294....0A</td><td>G|G|G|EmG|bCG</td><td>126.48133600</td><td>35.54221100</td><td>106</td></tr>\n",
       "<tr><td>LEDA  101522</td><td>14 44 11.7</td><td>+42 37 38</td><td>5</td><td>5</td><td>--</td><td>--</td><td>0</td><td>D</td><td>O</td><td>2003A&amp;A...412...45P</td><td></td><td></td><td></td><td>Galaxy</td><td>--</td><td></td><td></td><td>--</td><td>--</td><td></td><td></td><td></td><td>--</td><td>--</td><td></td><td></td><td></td><td>G</td><td>221.04870000</td><td>42.62720000</td><td>1</td></tr>\n",
       "</table>"
      ],
      "text/plain": [
       "<Table length=173>\n",
       "           MAIN_ID                  RA      ...    DEC_d     BIBLIST_1990_2020\n",
       "                                 \"h:m:s\"    ...     deg                       \n",
       "            object                str13     ...   float64          int32      \n",
       "----------------------------- ------------- ... ------------ -----------------\n",
       "                [BKG2004] G44   01 05 01.78 ...   2.10531000                 3\n",
       "                  [SK76] J 46   01 05 01.72 ...   2.10575000                 2\n",
       "         [GHV2009] Star 68456  01 05 05.567 ...   2.15395200                 1\n",
       "                   [HLG90] 47      01 05 02 ...   2.14800000                 2\n",
       "                  [HLG90] 40b      01 05 02 ...   2.14800000                 2\n",
       "                   [HLG90] 48      01 05 02 ...   2.14700000                 2\n",
       "                [BKG2004] G15   01 05 02.22 ...   2.13419000                 4\n",
       "             [AM85] IC 1613 8    01 05 02.5 ...   2.14530000                 1\n",
       "                [BKG2004] G10   01 05 00.59 ...   2.17856000                 5\n",
       "                          ...           ... ...          ...               ...\n",
       "          [DRR96] NGC 2363 V1   07 28 43.37 ...  69.18997000                33\n",
       "            [CW2009] N2366-11   07 28 43.71 ...  69.18956000                 3\n",
       "[VH2006] UGC  2023 B -008+025    02 33 18.0 ...  33.49830000                 2\n",
       "[VH2006] UGC  2023 C -006+022    02 33 18.1 ...  33.49750000                 2\n",
       "                    UGC   993 01 25 34.1909 ...   7.99019771                35\n",
       "                SDSSCGB 222.4 14 09 02.5796 ...  48.01298178                 1\n",
       "                  2MFGC 14518  18 39 31.340 ...  73.58305300                 0\n",
       "               MCG+08-19-016a    10 18 43.1 ...  46.05030000                 6\n",
       "                 LEDA 2790884  08 25 55.521 ...  35.54221100               106\n",
       "                 LEDA  101522    14 44 11.7 ...  42.62720000                 1"
      ]
     },
     "execution_count": 4,
     "metadata": {},
     "output_type": "execute_result"
    }
   ],
   "source": [
    "result_table"
   ]
  },
  {
   "cell_type": "code",
   "execution_count": 5,
   "metadata": {},
   "outputs": [
    {
     "name": "stderr",
     "output_type": "stream",
     "text": [
      "WARNING: AstropyDeprecationWarning: ../JPLUS-DR2/aper6_mag_idr/Simbad-PN-pc-Halpha_emitters_threeerror-cleaning-limfilter-limcolor-flags-mask-broad.dat already exists. Automatically overwriting ASCII files is deprecated. Use the argument 'overwrite=True' in the future. [astropy.io.ascii.ui]\n"
     ]
    }
   ],
   "source": [
    "# Save the table result Simbad\n",
    "asciifile = \"../JPLUS-DR2/aper6_mag_idr/Simbad-PN-pc-Halpha_emitters_threeerror-cleaning-limfilter-limcolor-flags-mask-broad.dat\" \n",
    "result_table.write(asciifile, format=\"ascii\")  "
   ]
  },
  {
   "cell_type": "code",
   "execution_count": 6,
   "metadata": {},
   "outputs": [],
   "source": [
    "from astroquery.vizier import Vizier"
   ]
  },
  {
   "cell_type": "code",
   "execution_count": 7,
   "metadata": {},
   "outputs": [
    {
     "name": "stderr",
     "output_type": "stream",
     "text": [
      "WARNING: MergeConflictWarning: Cannot merge meta key 'null' types <class 'float'> and <class 'float'>, choosing null=nan [astropy.utils.metadata]\n"
     ]
    }
   ],
   "source": [
    "# Looking for the objects of tab in 2MASS through ViZier\n",
    "result_vizier_2mass = Vizier.query_region(coord.SkyCoord(ra=tab[\"RA\"], dec=tab[\"Dec\"],\n",
    "                                                        unit=(u.deg, u.deg),\n",
    "                                                                       frame='icrs'),\n",
    "                                                                           radius=5.0*u.arcsec,\n",
    "                                                                              catalog=[\"2MASS\"])"
   ]
  },
  {
   "cell_type": "code",
   "execution_count": 8,
   "metadata": {},
   "outputs": [
    {
     "data": {
      "text/plain": [
       "TableList with 3 tables:\n",
       "\t'0:II/246/out' with 16 column(s) and 13 row(s) \n",
       "\t'1:VII/233/xsc' with 14 column(s) and 4 row(s) \n",
       "\t'2:II/281/2mass6x' with 16 column(s) and 3 row(s) "
      ]
     },
     "execution_count": 8,
     "metadata": {},
     "output_type": "execute_result"
    }
   ],
   "source": [
    "# print the tables of 2mass that have the objects\n",
    "result_vizier_2mass"
   ]
  },
  {
   "cell_type": "code",
   "execution_count": 9,
   "metadata": {},
   "outputs": [
    {
     "data": {
      "text/html": [
       "<i>Table length=13</i>\n",
       "<table id=\"table139977246909008\" class=\"table-striped table-bordered table-condensed\">\n",
       "<thead><tr><th>_q</th><th>RAJ2000</th><th>DEJ2000</th><th>_2MASS</th><th>Jmag</th><th>e_Jmag</th><th>Hmag</th><th>e_Hmag</th><th>Kmag</th><th>e_Kmag</th><th>Qflg</th><th>Rflg</th><th>Bflg</th><th>Cflg</th><th>Xflg</th><th>Aflg</th></tr></thead>\n",
       "<thead><tr><th></th><th>deg</th><th>deg</th><th></th><th>mag</th><th>mag</th><th>mag</th><th>mag</th><th>mag</th><th>mag</th><th></th><th></th><th></th><th></th><th></th><th></th></tr></thead>\n",
       "<thead><tr><th>int32</th><th>float64</th><th>float64</th><th>bytes17</th><th>float32</th><th>float32</th><th>float32</th><th>float32</th><th>float32</th><th>float32</th><th>bytes3</th><th>bytes3</th><th>bytes3</th><th>bytes3</th><th>uint8</th><th>uint8</th></tr></thead>\n",
       "<tr><td>55</td><td>183.911343</td><td>36.327789</td><td>12153872+3619400</td><td>14.885</td><td>--</td><td>15.362</td><td>0.245</td><td>13.860</td><td>--</td><td>UDU</td><td>020</td><td>010</td><td>000</td><td>2</td><td>0</td></tr>\n",
       "<tr><td>55</td><td>183.913574</td><td>36.326923</td><td>12153925+3619369</td><td>14.337</td><td>--</td><td>13.752</td><td>--</td><td>14.404</td><td>0.147</td><td>UUB</td><td>002</td><td>001</td><td>000</td><td>2</td><td>0</td></tr>\n",
       "<tr><td>73</td><td>194.865700</td><td>27.636242</td><td>12592776+2738104</td><td>16.539</td><td>0.120</td><td>16.232</td><td>--</td><td>15.625</td><td>0.175</td><td>BUC</td><td>202</td><td>101</td><td>000</td><td>0</td><td>0</td></tr>\n",
       "<tr><td>79</td><td>131.065925</td><td>41.718742</td><td>08441582+4143074</td><td>16.278</td><td>0.111</td><td>15.460</td><td>--</td><td>15.206</td><td>--</td><td>BUU</td><td>200</td><td>100</td><td>000</td><td>0</td><td>0</td></tr>\n",
       "<tr><td>85</td><td>283.399962</td><td>33.022461</td><td>18533599+3301208</td><td>14.454</td><td>--</td><td>14.404</td><td>--</td><td>14.332</td><td>0.119</td><td>UUB</td><td>002</td><td>001</td><td>000</td><td>2</td><td>0</td></tr>\n",
       "<tr><td>127</td><td>211.046522</td><td>54.421646</td><td>14041116+5425179</td><td>16.803</td><td>0.175</td><td>15.709</td><td>--</td><td>14.789</td><td>--</td><td>CUU</td><td>200</td><td>100</td><td>000</td><td>0</td><td>0</td></tr>\n",
       "<tr><td>130</td><td>211.046522</td><td>54.421646</td><td>14041116+5425179</td><td>16.803</td><td>0.175</td><td>15.709</td><td>--</td><td>14.789</td><td>--</td><td>CUU</td><td>200</td><td>100</td><td>000</td><td>0</td><td>0</td></tr>\n",
       "<tr><td>145</td><td>211.121501</td><td>54.397858</td><td>14042916+5423522</td><td>16.422</td><td>0.157</td><td>14.944</td><td>--</td><td>14.701</td><td>--</td><td>CUU</td><td>260</td><td>200</td><td>c00</td><td>0</td><td>0</td></tr>\n",
       "<tr><td>145</td><td>211.122557</td><td>54.396355</td><td>14042941+5423468</td><td>15.897</td><td>0.106</td><td>15.703</td><td>0.180</td><td>15.071</td><td>0.144</td><td>ACB</td><td>222</td><td>111</td><td>000</td><td>0</td><td>0</td></tr>\n",
       "<tr><td>148</td><td>211.121501</td><td>54.397858</td><td>14042916+5423522</td><td>16.422</td><td>0.157</td><td>14.944</td><td>--</td><td>14.701</td><td>--</td><td>CUU</td><td>260</td><td>200</td><td>c00</td><td>0</td><td>0</td></tr>\n",
       "<tr><td>184</td><td>190.986095</td><td>32.170502</td><td>12435666+3210138</td><td>15.895</td><td>0.094</td><td>15.726</td><td>0.165</td><td>15.395</td><td>0.168</td><td>ACC</td><td>222</td><td>111</td><td>000</td><td>2</td><td>0</td></tr>\n",
       "<tr><td>199</td><td>112.181225</td><td>69.189766</td><td>07284349+6911231</td><td>15.881</td><td>0.118</td><td>14.880</td><td>--</td><td>14.122</td><td>--</td><td>BUU</td><td>200</td><td>100</td><td>c00</td><td>2</td><td>0</td></tr>\n",
       "<tr><td>199</td><td>112.178005</td><td>69.189308</td><td>07284272+6911215</td><td>15.361</td><td>0.101</td><td>15.245</td><td>0.169</td><td>14.628</td><td>0.125</td><td>ACB</td><td>222</td><td>111</td><td>000</td><td>2</td><td>0</td></tr>\n",
       "</table>"
      ],
      "text/plain": [
       "<Table length=13>\n",
       "  _q   RAJ2000    DEJ2000        _2MASS      ...  Bflg   Cflg   Xflg  Aflg\n",
       "         deg        deg                      ...                          \n",
       "int32  float64    float64       bytes17      ... bytes3 bytes3 uint8 uint8\n",
       "----- ---------- ---------- ---------------- ... ------ ------ ----- -----\n",
       "   55 183.911343  36.327789 12153872+3619400 ...    010    000     2     0\n",
       "   55 183.913574  36.326923 12153925+3619369 ...    001    000     2     0\n",
       "   73 194.865700  27.636242 12592776+2738104 ...    101    000     0     0\n",
       "   79 131.065925  41.718742 08441582+4143074 ...    100    000     0     0\n",
       "   85 283.399962  33.022461 18533599+3301208 ...    001    000     2     0\n",
       "  127 211.046522  54.421646 14041116+5425179 ...    100    000     0     0\n",
       "  130 211.046522  54.421646 14041116+5425179 ...    100    000     0     0\n",
       "  145 211.121501  54.397858 14042916+5423522 ...    200    c00     0     0\n",
       "  145 211.122557  54.396355 14042941+5423468 ...    111    000     0     0\n",
       "  148 211.121501  54.397858 14042916+5423522 ...    200    c00     0     0\n",
       "  184 190.986095  32.170502 12435666+3210138 ...    111    000     2     0\n",
       "  199 112.181225  69.189766 07284349+6911231 ...    100    c00     2     0\n",
       "  199 112.178005  69.189308 07284272+6911215 ...    111    000     2     0"
      ]
     },
     "execution_count": 9,
     "metadata": {},
     "output_type": "execute_result"
    }
   ],
   "source": [
    "result_vizier_2mass['II/246/out']"
   ]
  },
  {
   "cell_type": "code",
   "execution_count": 10,
   "metadata": {},
   "outputs": [
    {
     "name": "stderr",
     "output_type": "stream",
     "text": [
      "WARNING: AstropyDeprecationWarning: ../JPLUS-DR2/aper6_mag_idr/2MASS-PN-pc-Halpha_emitters_threeerror-cleaning-limfilter-limcolor-flags-mask-broad.dat already exists. Automatically overwriting ASCII files is deprecated. Use the argument 'overwrite=True' in the future. [astropy.io.ascii.ui]\n"
     ]
    }
   ],
   "source": [
    "# Save the table result 2MASS\n",
    "asciifile1 = \"../JPLUS-DR2/aper6_mag_idr/2MASS-PN-pc-Halpha_emitters_threeerror-cleaning-limfilter-limcolor-flags-mask-broad.dat\" \n",
    "result_vizier_2mass['II/246/out'].write(asciifile1, format=\"ascii\")  "
   ]
  },
  {
   "cell_type": "code",
   "execution_count": 11,
   "metadata": {},
   "outputs": [],
   "source": [
    "#Looking for the objects of tab in WISE through ViZier\n",
    "result_vizier_wise = Vizier.query_region(coord.SkyCoord(ra=tab[\"RA\"], dec=tab[\"Dec\"],\n",
    "                                                        unit=(u.deg, u.deg),\n",
    "                                                                       frame='icrs'),\n",
    "                                                                           radius=4.0*u.arcsec,\n",
    "                                                                              catalog=[\"allwise\"])"
   ]
  },
  {
   "cell_type": "code",
   "execution_count": 12,
   "metadata": {},
   "outputs": [
    {
     "data": {
      "text/plain": [
       "TableList with 1 tables:\n",
       "\t'0:II/328/allwise' with 29 column(s) and 55 row(s) "
      ]
     },
     "execution_count": 12,
     "metadata": {},
     "output_type": "execute_result"
    }
   ],
   "source": [
    "result_vizier_wise"
   ]
  },
  {
   "cell_type": "code",
   "execution_count": 13,
   "metadata": {},
   "outputs": [
    {
     "data": {
      "text/html": [
       "<i>Table length=55</i>\n",
       "<table id=\"table139977247340688\" class=\"table-striped table-bordered table-condensed\">\n",
       "<thead><tr><th>_q</th><th>AllWISE</th><th>RAJ2000</th><th>DEJ2000</th><th>Im</th><th>W1mag</th><th>e_W1mag</th><th>W2mag</th><th>e_W2mag</th><th>W3mag</th><th>e_W3mag</th><th>W4mag</th><th>e_W4mag</th><th>Jmag</th><th>e_Jmag</th><th>Hmag</th><th>e_Hmag</th><th>Kmag</th><th>e_Kmag</th><th>ccf</th><th>ex</th><th>var</th><th>pmRA</th><th>e_pmRA</th><th>pmDE</th><th>e_pmDE</th><th>qph</th><th>d2M</th><th>_2M</th></tr></thead>\n",
       "<thead><tr><th></th><th></th><th>deg</th><th>deg</th><th></th><th>mag</th><th>mag</th><th>mag</th><th>mag</th><th>mag</th><th>mag</th><th>mag</th><th>mag</th><th>mag</th><th>mag</th><th>mag</th><th>mag</th><th>mag</th><th>mag</th><th></th><th></th><th></th><th>mas / yr</th><th>mas / yr</th><th>mas / yr</th><th>mas / yr</th><th></th><th>arcsec</th><th></th></tr></thead>\n",
       "<thead><tr><th>int32</th><th>bytes19</th><th>float64</th><th>float64</th><th>bytes2</th><th>float32</th><th>float32</th><th>float32</th><th>float32</th><th>float32</th><th>float32</th><th>float32</th><th>float32</th><th>float32</th><th>float32</th><th>float32</th><th>float32</th><th>float32</th><th>float32</th><th>bytes4</th><th>uint8</th><th>bytes4</th><th>int32</th><th>int32</th><th>int32</th><th>int32</th><th>bytes4</th><th>float32</th><th>bytes2</th></tr></thead>\n",
       "<tr><td>2</td><td>J010505.38+020919.8</td><td>16.2724301</td><td>2.1555059</td><td>Im</td><td>17.327</td><td>0.175</td><td>16.260</td><td>0.226</td><td>12.499</td><td>--</td><td>8.914</td><td>--</td><td>--</td><td>--</td><td>--</td><td>--</td><td>--</td><td>--</td><td>0000</td><td>0</td><td>nnnn</td><td>7962</td><td>2067</td><td>-357</td><td>2027</td><td>BBUU</td><td>--</td><td>2M</td></tr>\n",
       "<tr><td>3</td><td>J010501.96+020850.7</td><td>16.2581764</td><td>2.1474324</td><td>Im</td><td>15.938</td><td>0.062</td><td>14.919</td><td>0.076</td><td>10.783</td><td>0.114</td><td>7.151</td><td>0.125</td><td>--</td><td>--</td><td>--</td><td>--</td><td>--</td><td>--</td><td>0000</td><td>0</td><td>0000</td><td>622</td><td>560</td><td>123</td><td>591</td><td>AABB</td><td>--</td><td>2M</td></tr>\n",
       "<tr><td>8</td><td>J073657.03+653950.1</td><td>114.2376269</td><td>65.6639169</td><td>Im</td><td>16.090</td><td>0.056</td><td>16.295</td><td>0.230</td><td>12.494</td><td>--</td><td>8.647</td><td>--</td><td>--</td><td>--</td><td>--</td><td>--</td><td>--</td><td>--</td><td>0000</td><td>2</td><td>0nnn</td><td>-496</td><td>500</td><td>-20</td><td>552</td><td>ABUU</td><td>--</td><td>2M</td></tr>\n",
       "<tr><td>9</td><td>J073551.83+653502.1</td><td>113.9659975</td><td>65.5839310</td><td>Im</td><td>17.547</td><td>0.158</td><td>16.667</td><td>0.249</td><td>11.938</td><td>--</td><td>8.653</td><td>--</td><td>--</td><td>--</td><td>--</td><td>--</td><td>--</td><td>--</td><td>0000</td><td>0</td><td>nnnn</td><td>-451</td><td>1842</td><td>696</td><td>2024</td><td>BBUU</td><td>--</td><td>2M</td></tr>\n",
       "<tr><td>10</td><td>J095618.27+684943.2</td><td>149.0761492</td><td>68.8286722</td><td>Im</td><td>16.277</td><td>0.053</td><td>15.518</td><td>0.083</td><td>10.945</td><td>0.101</td><td>8.593</td><td>0.301</td><td>--</td><td>--</td><td>--</td><td>--</td><td>--</td><td>--</td><td>0000</td><td>2</td><td>0n0n</td><td>27</td><td>493</td><td>-78</td><td>528</td><td>AAAB</td><td>--</td><td>2M</td></tr>\n",
       "<tr><td>11</td><td>J225342.37+111630.2</td><td>343.4265456</td><td>11.2750828</td><td>Im</td><td>14.994</td><td>0.037</td><td>14.144</td><td>0.043</td><td>9.075</td><td>0.030</td><td>5.830</td><td>0.048</td><td>--</td><td>--</td><td>--</td><td>--</td><td>--</td><td>--</td><td>0000</td><td>0</td><td>nnnn</td><td>-2363</td><td>222</td><td>-561</td><td>231</td><td>AAAA</td><td>--</td><td>2M</td></tr>\n",
       "<tr><td>12</td><td>J121610.35+693327.3</td><td>184.0431426</td><td>69.5575983</td><td>Im</td><td>16.520</td><td>0.059</td><td>15.846</td><td>0.101</td><td>12.460</td><td>0.319</td><td>8.670</td><td>0.293</td><td>--</td><td>--</td><td>--</td><td>--</td><td>--</td><td>--</td><td>0000</td><td>0</td><td>0nnn</td><td>611</td><td>598</td><td>1329</td><td>603</td><td>AABB</td><td>--</td><td>2M</td></tr>\n",
       "<tr><td>13</td><td>J121627.59+692443.3</td><td>184.1149591</td><td>69.4120439</td><td>Im</td><td>16.119</td><td>0.052</td><td>15.728</td><td>0.095</td><td>12.110</td><td>0.240</td><td>8.952</td><td>--</td><td>--</td><td>--</td><td>--</td><td>--</td><td>--</td><td>--</td><td>0000</td><td>0</td><td>0nnn</td><td>-107</td><td>462</td><td>-343</td><td>465</td><td>AABU</td><td>--</td><td>2M</td></tr>\n",
       "<tr><td>15</td><td>J185920.03+482756.0</td><td>284.8334861</td><td>48.4655744</td><td>Im</td><td>15.870</td><td>0.061</td><td>14.512</td><td>0.040</td><td>9.859</td><td>0.035</td><td>6.001</td><td>0.039</td><td>--</td><td>--</td><td>--</td><td>--</td><td>--</td><td>--</td><td>0000</td><td>0</td><td>1100</td><td>1650</td><td>200</td><td>1986</td><td>210</td><td>AAAA</td><td>--</td><td>2M</td></tr>\n",
       "<tr><td>...</td><td>...</td><td>...</td><td>...</td><td>...</td><td>...</td><td>...</td><td>...</td><td>...</td><td>...</td><td>...</td><td>...</td><td>...</td><td>...</td><td>...</td><td>...</td><td>...</td><td>...</td><td>...</td><td>...</td><td>...</td><td>...</td><td>...</td><td>...</td><td>...</td><td>...</td><td>...</td><td>...</td><td>...</td></tr>\n",
       "<tr><td>67</td><td>J072842.80+691121.6</td><td>112.1783652</td><td>69.1893514</td><td>Im</td><td>12.722</td><td>0.024</td><td>11.578</td><td>0.022</td><td>6.264</td><td>0.013</td><td>2.950</td><td>0.027</td><td>15.361</td><td>0.101</td><td>15.245</td><td>0.169</td><td>14.628</td><td>0.125</td><td>0000</td><td>3</td><td>00nn</td><td>1067</td><td>42</td><td>-450</td><td>43</td><td>AAAA</td><td>0.486</td><td>2M</td></tr>\n",
       "<tr><td>68</td><td>J023317.94+332953.0</td><td>38.3247762</td><td>33.4980768</td><td>Im</td><td>15.265</td><td>0.040</td><td>14.884</td><td>0.066</td><td>10.664</td><td>0.096</td><td>7.253</td><td>0.138</td><td>--</td><td>--</td><td>--</td><td>--</td><td>--</td><td>--</td><td>0000</td><td>0</td><td>0110</td><td>42</td><td>342</td><td>-36</td><td>341</td><td>AAAB</td><td>--</td><td>2M</td></tr>\n",
       "<tr><td>70</td><td>J012534.23+075922.3</td><td>21.3926605</td><td>7.9895411</td><td>Im</td><td>15.485</td><td>0.042</td><td>14.798</td><td>0.070</td><td>10.254</td><td>0.064</td><td>6.659</td><td>0.070</td><td>--</td><td>--</td><td>--</td><td>--</td><td>--</td><td>--</td><td>0000</td><td>0</td><td>0000</td><td>240</td><td>250</td><td>-1409</td><td>264</td><td>AAAA</td><td>--</td><td>2M</td></tr>\n",
       "<tr><td>72</td><td>J183931.53+733457.3</td><td>279.8813781</td><td>73.5825918</td><td>Im</td><td>13.882</td><td>0.025</td><td>13.382</td><td>0.025</td><td>8.770</td><td>0.021</td><td>5.340</td><td>0.033</td><td>--</td><td>--</td><td>--</td><td>--</td><td>--</td><td>--</td><td>0000</td><td>5</td><td>1100</td><td>0</td><td>41</td><td>0</td><td>43</td><td>AAAA</td><td>--</td><td>2M</td></tr>\n",
       "<tr><td>73</td><td>J091632.65+395202.6</td><td>139.1360449</td><td>39.8673991</td><td>Im</td><td>15.463</td><td>0.051</td><td>14.693</td><td>0.060</td><td>9.960</td><td>0.051</td><td>6.408</td><td>0.065</td><td>--</td><td>--</td><td>--</td><td>--</td><td>--</td><td>--</td><td>0000</td><td>2</td><td>0000</td><td>607</td><td>366</td><td>185</td><td>400</td><td>AAAA</td><td>--</td><td>2M</td></tr>\n",
       "<tr><td>75</td><td>J101843.13+460302.7</td><td>154.6797180</td><td>46.0507632</td><td>Im</td><td>15.192</td><td>0.035</td><td>14.444</td><td>0.048</td><td>10.039</td><td>0.051</td><td>6.541</td><td>0.065</td><td>--</td><td>--</td><td>--</td><td>--</td><td>--</td><td>--</td><td>0000</td><td>0</td><td>0000</td><td>-390</td><td>258</td><td>-350</td><td>270</td><td>AAAA</td><td>--</td><td>2M</td></tr>\n",
       "<tr><td>77</td><td>J122846.57+431346.3</td><td>187.1940758</td><td>43.2295292</td><td>Im</td><td>16.252</td><td>0.060</td><td>15.594</td><td>0.104</td><td>12.099</td><td>0.313</td><td>8.303</td><td>0.252</td><td>--</td><td>--</td><td>--</td><td>--</td><td>--</td><td>--</td><td>0000</td><td>0</td><td>1nnn</td><td>58</td><td>603</td><td>94</td><td>648</td><td>AABB</td><td>--</td><td>2M</td></tr>\n",
       "<tr><td>78</td><td>J122843.03+431433.4</td><td>187.1792955</td><td>43.2426204</td><td>Im</td><td>17.142</td><td>0.120</td><td>16.656</td><td>0.263</td><td>12.208</td><td>--</td><td>8.944</td><td>--</td><td>--</td><td>--</td><td>--</td><td>--</td><td>--</td><td>--</td><td>0000</td><td>0</td><td>nnnn</td><td>1499</td><td>1382</td><td>1343</td><td>1486</td><td>BBUU</td><td>--</td><td>2M</td></tr>\n",
       "<tr><td>79</td><td>J082555.51+353233.0</td><td>126.4813056</td><td>35.5425187</td><td>Im</td><td>16.145</td><td>0.064</td><td>15.738</td><td>0.143</td><td>12.353</td><td>0.470</td><td>8.256</td><td>0.300</td><td>--</td><td>--</td><td>--</td><td>--</td><td>--</td><td>--</td><td>0000</td><td>0</td><td>0nnn</td><td>863</td><td>619</td><td>1789</td><td>690</td><td>ABCB</td><td>--</td><td>2M</td></tr>\n",
       "<tr><td>80</td><td>J144411.57+423735.6</td><td>221.0482407</td><td>42.6265579</td><td>Im</td><td>15.722</td><td>0.040</td><td>15.251</td><td>0.074</td><td>11.604</td><td>0.170</td><td>8.071</td><td>0.166</td><td>--</td><td>--</td><td>--</td><td>--</td><td>--</td><td>--</td><td>0000</td><td>0</td><td>00nn</td><td>0</td><td>268</td><td>0</td><td>281</td><td>AABB</td><td>--</td><td>2M</td></tr>\n",
       "</table>"
      ],
      "text/plain": [
       "<Table length=55>\n",
       "  _q        AllWISE         RAJ2000     DEJ2000   ...  qph     d2M    _2M  \n",
       "                              deg         deg     ...         arcsec       \n",
       "int32       bytes19         float64     float64   ... bytes4 float32 bytes2\n",
       "----- ------------------- ----------- ----------- ... ------ ------- ------\n",
       "    2 J010505.38+020919.8  16.2724301   2.1555059 ...   BBUU      --     2M\n",
       "    3 J010501.96+020850.7  16.2581764   2.1474324 ...   AABB      --     2M\n",
       "    8 J073657.03+653950.1 114.2376269  65.6639169 ...   ABUU      --     2M\n",
       "    9 J073551.83+653502.1 113.9659975  65.5839310 ...   BBUU      --     2M\n",
       "   10 J095618.27+684943.2 149.0761492  68.8286722 ...   AAAB      --     2M\n",
       "   11 J225342.37+111630.2 343.4265456  11.2750828 ...   AAAA      --     2M\n",
       "   12 J121610.35+693327.3 184.0431426  69.5575983 ...   AABB      --     2M\n",
       "   13 J121627.59+692443.3 184.1149591  69.4120439 ...   AABU      --     2M\n",
       "   15 J185920.03+482756.0 284.8334861  48.4655744 ...   AAAA      --     2M\n",
       "  ...                 ...         ...         ... ...    ...     ...    ...\n",
       "   67 J072842.80+691121.6 112.1783652  69.1893514 ...   AAAA   0.486     2M\n",
       "   68 J023317.94+332953.0  38.3247762  33.4980768 ...   AAAB      --     2M\n",
       "   70 J012534.23+075922.3  21.3926605   7.9895411 ...   AAAA      --     2M\n",
       "   72 J183931.53+733457.3 279.8813781  73.5825918 ...   AAAA      --     2M\n",
       "   73 J091632.65+395202.6 139.1360449  39.8673991 ...   AAAA      --     2M\n",
       "   75 J101843.13+460302.7 154.6797180  46.0507632 ...   AAAA      --     2M\n",
       "   77 J122846.57+431346.3 187.1940758  43.2295292 ...   AABB      --     2M\n",
       "   78 J122843.03+431433.4 187.1792955  43.2426204 ...   BBUU      --     2M\n",
       "   79 J082555.51+353233.0 126.4813056  35.5425187 ...   ABCB      --     2M\n",
       "   80 J144411.57+423735.6 221.0482407  42.6265579 ...   AABB      --     2M"
      ]
     },
     "execution_count": 13,
     "metadata": {},
     "output_type": "execute_result"
    }
   ],
   "source": [
    "result_vizier_wise['II/328/allwise']"
   ]
  },
  {
   "cell_type": "code",
   "execution_count": 14,
   "metadata": {},
   "outputs": [
    {
     "name": "stderr",
     "output_type": "stream",
     "text": [
      "WARNING: AstropyDeprecationWarning: ../JPLUS-DR2/aper6_mag_idr/WISE-PN-pc-Halpha_emitters_threeerror-cleaning-limfilter-limcolor-flags-mask-broad.dat already exists. Automatically overwriting ASCII files is deprecated. Use the argument 'overwrite=True' in the future. [astropy.io.ascii.ui]\n"
     ]
    }
   ],
   "source": [
    "# Save the table result WISE\n",
    "asciifile2 = \"../JPLUS-DR2/aper6_mag_idr/WISE-PN-pc-Halpha_emitters_threeerror-cleaning-limfilter-limcolor-flags-mask-broad.dat\" \n",
    "result_vizier_wise['II/328/allwise'].write(asciifile2, format=\"ascii\")  "
   ]
  },
  {
   "cell_type": "code",
   "execution_count": 15,
   "metadata": {},
   "outputs": [
    {
     "data": {
      "text/plain": [
       "<Table length=54>\n",
       "         name           dtype \n",
       "---------------------- -------\n",
       "                  Tile   int64\n",
       "                Number   int64\n",
       "                    RA float64\n",
       "                   Dec float64\n",
       "            rSDSS_auto float64\n",
       "            gSDSS_auto float64\n",
       "            iSDSS_auto float64\n",
       "            zSDSS_auto float64\n",
       "            uJAVA_auto float64\n",
       "            J0378_auto float64\n",
       "            J0395_auto float64\n",
       "            J0410_auto float64\n",
       "            J0430_auto float64\n",
       "            J0515_auto float64\n",
       "            J0660_auto float64\n",
       "            J0861_auto float64\n",
       "           rSDSS_PETRO float64\n",
       "           gSDSS_PETRO float64\n",
       "           iSDSS_PETRO float64\n",
       "           zSDSS_PETRO float64\n",
       "           uJAVA_PETRO float64\n",
       "           J0378_PETRO float64\n",
       "           J0395_PETRO float64\n",
       "           J0410_PETRO float64\n",
       "           J0430_PETRO float64\n",
       "           J0515_PETRO float64\n",
       "           J0660_PETRO float64\n",
       "           J0861_PETRO float64\n",
       "    rSDSS_MAG_APER_6_0 float64\n",
       "    gSDSS_MAG_APER_6_0 float64\n",
       "    iSDSS_MAG_APER_6_0 float64\n",
       "    zSDSS_MAG_APER_6_0 float64\n",
       "    uJAVA_MAG_APER_6_0 float64\n",
       "    J0378_MAG_APER_6_0 float64\n",
       "    J0395_MAG_APER_6_0 float64\n",
       "    J0410_MAG_APER_6_0 float64\n",
       "    J0430_MAG_APER_6_0 float64\n",
       "    J0515_MAG_APER_6_0 float64\n",
       "    J0660_MAG_APER_6_0 float64\n",
       "    J0861_MAG_APER_6_0 float64\n",
       "        rSDSS_auto_err float64\n",
       "        gSDSS_auto_err float64\n",
       "        iSDSS_auto_err float64\n",
       "        zSDSS_auto_err float64\n",
       "        uJAVA_auto_err float64\n",
       "        J0378_auto_err float64\n",
       "        J0395_auto_err float64\n",
       "        J0410_auto_err float64\n",
       "        J0430_auto_err float64\n",
       "        J0515_auto_err float64\n",
       "        J0660_auto_err float64\n",
       "        J0861_auto_err float64\n",
       "       rSDSS_PETRO_err float64\n",
       "       gSDSS_PETRO_err float64\n",
       "       iSDSS_PETRO_err float64\n",
       "       zSDSS_PETRO_err float64\n",
       "       uJAVA_PETRO_err float64\n",
       "       J0378_PETRO_err float64\n",
       "       J0395_PETRO_err float64\n",
       "       J0410_PETRO_err float64\n",
       "       J0430_PETRO_err float64\n",
       "       J0515_PETRO_err float64\n",
       "       J0660_PETRO_err float64\n",
       "       J0861_PETRO_err float64\n",
       "rSDSS_MAG_APER_6_0_err float64\n",
       "gSDSS_MAG_APER_6_0_err float64\n",
       "iSDSS_MAG_APER_6_0_err float64\n",
       "zSDSS_MAG_APER_6_0_err float64\n",
       "uJAVA_MAG_APER_6_0_err float64\n",
       "J0378_MAG_APER_6_0_err float64\n",
       "J0395_MAG_APER_6_0_err float64\n",
       "J0410_MAG_APER_6_0_err float64\n",
       "J0430_MAG_APER_6_0_err float64\n",
       "J0515_MAG_APER_6_0_err float64\n",
       "J0660_MAG_APER_6_0_err float64\n",
       "J0861_MAG_APER_6_0_err float64\n",
       "           rSDSS_FLAGS   int64\n",
       "           gSDSS_FLAGS   int64\n",
       "           iSDSS_FLAGS   int64\n",
       "           zSDSS_FLAGS   int64\n",
       "           uJAVA_FLAGS   int64\n",
       "           J0378_FLAGS   int64\n",
       "           J0395_FLAGS   int64\n",
       "           J0410_FLAGS   int64\n",
       "           J0430_FLAGS   int64\n",
       "           J0515_FLAGS   int64\n",
       "           J0660_FLAGS   int64\n",
       "           J0861_FLAGS   int64\n",
       "      rSDSS_MASK_FLAGS   int64\n",
       "      gSDSS_MASK_FLAGS   int64\n",
       "      iSDSS_MASK_FLAGS   int64\n",
       "      zSDSS_MASK_FLAGS   int64\n",
       "      uJAVA_MASK_FLAGS   int64\n",
       "      J0378_MASK_FLAGS   int64\n",
       "      J0395_MASK_FLAGS   int64\n",
       "      J0410_MASK_FLAGS   int64\n",
       "      J0430_MASK_FLAGS   int64\n",
       "      J0515_MASK_FLAGS   int64\n",
       "      J0660_MASK_FLAGS   int64\n",
       "      J0861_MASK_FLAGS   int64\n",
       "                 P(PN) float64\n",
       "               P(SySt) float64\n",
       "           P(all else) float64"
      ]
     },
     "execution_count": 15,
     "metadata": {},
     "output_type": "execute_result"
    }
   ],
   "source": [
    "# Read the table\n",
    "tab1 = Table.read(\"../JPLUS-DR2/aper6_mag_idr/PN-pc-Halpha_emitters_threeerror-cleaning-limfilter-limcolor-flags-mask-broad-prob.tab\", format=\"ascii.tab\")\n",
    "tab1.info"
   ]
  },
  {
   "cell_type": "code",
   "execution_count": 16,
   "metadata": {},
   "outputs": [
    {
     "data": {
      "text/html": [
       "<i>Table length=54</i>\n",
       "<table id=\"table139977246933712\" class=\"table-striped table-bordered table-condensed\">\n",
       "<thead><tr><th>Tile</th><th>Number</th><th>RA</th><th>Dec</th><th>rSDSS_auto</th><th>gSDSS_auto</th><th>iSDSS_auto</th><th>zSDSS_auto</th><th>uJAVA_auto</th><th>J0378_auto</th><th>J0395_auto</th><th>J0410_auto</th><th>J0430_auto</th><th>J0515_auto</th><th>J0660_auto</th><th>J0861_auto</th><th>rSDSS_PETRO</th><th>gSDSS_PETRO</th><th>iSDSS_PETRO</th><th>zSDSS_PETRO</th><th>uJAVA_PETRO</th><th>J0378_PETRO</th><th>J0395_PETRO</th><th>J0410_PETRO</th><th>J0430_PETRO</th><th>J0515_PETRO</th><th>J0660_PETRO</th><th>J0861_PETRO</th><th>rSDSS_MAG_APER_6_0</th><th>gSDSS_MAG_APER_6_0</th><th>iSDSS_MAG_APER_6_0</th><th>zSDSS_MAG_APER_6_0</th><th>uJAVA_MAG_APER_6_0</th><th>J0378_MAG_APER_6_0</th><th>J0395_MAG_APER_6_0</th><th>J0410_MAG_APER_6_0</th><th>J0430_MAG_APER_6_0</th><th>J0515_MAG_APER_6_0</th><th>J0660_MAG_APER_6_0</th><th>J0861_MAG_APER_6_0</th><th>rSDSS_auto_err</th><th>gSDSS_auto_err</th><th>iSDSS_auto_err</th><th>zSDSS_auto_err</th><th>uJAVA_auto_err</th><th>J0378_auto_err</th><th>J0395_auto_err</th><th>J0410_auto_err</th><th>J0430_auto_err</th><th>J0515_auto_err</th><th>J0660_auto_err</th><th>J0861_auto_err</th><th>rSDSS_PETRO_err</th><th>gSDSS_PETRO_err</th><th>iSDSS_PETRO_err</th><th>zSDSS_PETRO_err</th><th>uJAVA_PETRO_err</th><th>J0378_PETRO_err</th><th>J0395_PETRO_err</th><th>J0410_PETRO_err</th><th>J0430_PETRO_err</th><th>J0515_PETRO_err</th><th>J0660_PETRO_err</th><th>J0861_PETRO_err</th><th>rSDSS_MAG_APER_6_0_err</th><th>gSDSS_MAG_APER_6_0_err</th><th>iSDSS_MAG_APER_6_0_err</th><th>zSDSS_MAG_APER_6_0_err</th><th>uJAVA_MAG_APER_6_0_err</th><th>J0378_MAG_APER_6_0_err</th><th>J0395_MAG_APER_6_0_err</th><th>J0410_MAG_APER_6_0_err</th><th>J0430_MAG_APER_6_0_err</th><th>J0515_MAG_APER_6_0_err</th><th>J0660_MAG_APER_6_0_err</th><th>J0861_MAG_APER_6_0_err</th><th>rSDSS_FLAGS</th><th>gSDSS_FLAGS</th><th>iSDSS_FLAGS</th><th>zSDSS_FLAGS</th><th>uJAVA_FLAGS</th><th>J0378_FLAGS</th><th>J0395_FLAGS</th><th>J0410_FLAGS</th><th>J0430_FLAGS</th><th>J0515_FLAGS</th><th>J0660_FLAGS</th><th>J0861_FLAGS</th><th>rSDSS_MASK_FLAGS</th><th>gSDSS_MASK_FLAGS</th><th>iSDSS_MASK_FLAGS</th><th>zSDSS_MASK_FLAGS</th><th>uJAVA_MASK_FLAGS</th><th>J0378_MASK_FLAGS</th><th>J0395_MASK_FLAGS</th><th>J0410_MASK_FLAGS</th><th>J0430_MASK_FLAGS</th><th>J0515_MASK_FLAGS</th><th>J0660_MASK_FLAGS</th><th>J0861_MASK_FLAGS</th><th>P(PN)</th><th>P(SySt)</th><th>P(all else)</th></tr></thead>\n",
       "<thead><tr><th>int64</th><th>int64</th><th>float64</th><th>float64</th><th>float64</th><th>float64</th><th>float64</th><th>float64</th><th>float64</th><th>float64</th><th>float64</th><th>float64</th><th>float64</th><th>float64</th><th>float64</th><th>float64</th><th>float64</th><th>float64</th><th>float64</th><th>float64</th><th>float64</th><th>float64</th><th>float64</th><th>float64</th><th>float64</th><th>float64</th><th>float64</th><th>float64</th><th>float64</th><th>float64</th><th>float64</th><th>float64</th><th>float64</th><th>float64</th><th>float64</th><th>float64</th><th>float64</th><th>float64</th><th>float64</th><th>float64</th><th>float64</th><th>float64</th><th>float64</th><th>float64</th><th>float64</th><th>float64</th><th>float64</th><th>float64</th><th>float64</th><th>float64</th><th>float64</th><th>float64</th><th>float64</th><th>float64</th><th>float64</th><th>float64</th><th>float64</th><th>float64</th><th>float64</th><th>float64</th><th>float64</th><th>float64</th><th>float64</th><th>float64</th><th>float64</th><th>float64</th><th>float64</th><th>float64</th><th>float64</th><th>float64</th><th>float64</th><th>float64</th><th>float64</th><th>float64</th><th>float64</th><th>float64</th><th>int64</th><th>int64</th><th>int64</th><th>int64</th><th>int64</th><th>int64</th><th>int64</th><th>int64</th><th>int64</th><th>int64</th><th>int64</th><th>int64</th><th>int64</th><th>int64</th><th>int64</th><th>int64</th><th>int64</th><th>int64</th><th>int64</th><th>int64</th><th>int64</th><th>int64</th><th>int64</th><th>int64</th><th>float64</th><th>float64</th><th>float64</th></tr></thead>\n",
       "<tr><td>71690</td><td>17355</td><td>16.2730098396</td><td>2.15494073647</td><td>16.677</td><td>16.647</td><td>16.904</td><td>16.682</td><td>17.222</td><td>17.411</td><td>16.611</td><td>16.767</td><td>16.424</td><td>16.277</td><td>15.757</td><td>17.481</td><td>99.0</td><td>19.566</td><td>18.006</td><td>16.834</td><td>99.0</td><td>99.0</td><td>18.274</td><td>99.0</td><td>18.402</td><td>16.54</td><td>99.0</td><td>99.0</td><td>19.232</td><td>19.797</td><td>19.659</td><td>19.217</td><td>19.04</td><td>18.884</td><td>20.212</td><td>19.765</td><td>19.677</td><td>20.054</td><td>17.752</td><td>19.689</td><td>0.093</td><td>0.089</td><td>0.166</td><td>0.265</td><td>0.313</td><td>0.407</td><td>0.192</td><td>0.171</td><td>0.131</td><td>0.105</td><td>0.072</td><td>0.676</td><td>99.0</td><td>2.062</td><td>0.749</td><td>0.499</td><td>99.0</td><td>99.0</td><td>1.377</td><td>99.0</td><td>1.281</td><td>0.205</td><td>99.0</td><td>99.0</td><td>0.059</td><td>0.101</td><td>0.116</td><td>0.15</td><td>0.116</td><td>0.104</td><td>0.334</td><td>0.18</td><td>0.161</td><td>0.218</td><td>0.032</td><td>0.286</td><td>3</td><td>3</td><td>3</td><td>3</td><td>3</td><td>3</td><td>3</td><td>3</td><td>3</td><td>3</td><td>3</td><td>3</td><td>0</td><td>0</td><td>0</td><td>0</td><td>0</td><td>0</td><td>0</td><td>0</td><td>0</td><td>0</td><td>0</td><td>0</td><td>0.8000012219187547</td><td>0.19574758490856595</td><td>0.004251193172679516</td></tr>\n",
       "<tr><td>71690</td><td>18758</td><td>16.2599953258</td><td>2.14481960376</td><td>17.587</td><td>18.574</td><td>18.644</td><td>18.524</td><td>18.403</td><td>17.702</td><td>18.45</td><td>19.033</td><td>18.137</td><td>19.18</td><td>15.795</td><td>18.597</td><td>17.655</td><td>18.888</td><td>18.761</td><td>18.814</td><td>18.587</td><td>17.866</td><td>18.504</td><td>19.606</td><td>18.353</td><td>19.447</td><td>15.822</td><td>18.488</td><td>17.794</td><td>18.816</td><td>18.924</td><td>19.067</td><td>18.495</td><td>18.032</td><td>18.552</td><td>18.906</td><td>18.626</td><td>19.342</td><td>15.929</td><td>18.806</td><td>0.024</td><td>0.06</td><td>0.084</td><td>0.146</td><td>0.115</td><td>0.063</td><td>0.122</td><td>0.165</td><td>0.072</td><td>0.178</td><td>0.011</td><td>0.194</td><td>0.033</td><td>0.104</td><td>0.125</td><td>0.255</td><td>0.177</td><td>0.095</td><td>0.168</td><td>0.366</td><td>0.115</td><td>0.299</td><td>0.013</td><td>0.233</td><td>0.018</td><td>0.044</td><td>0.06</td><td>0.131</td><td>0.073</td><td>0.051</td><td>0.078</td><td>0.085</td><td>0.066</td><td>0.117</td><td>0.009</td><td>0.128</td><td>3</td><td>3</td><td>3</td><td>3</td><td>3</td><td>3</td><td>3</td><td>3</td><td>3</td><td>3</td><td>3</td><td>3</td><td>0</td><td>0</td><td>0</td><td>0</td><td>0</td><td>0</td><td>0</td><td>0</td><td>0</td><td>0</td><td>0</td><td>0</td><td>0.9905304665671423</td><td>0.009464419603947569</td><td>5.113828910136492e-06</td></tr>\n",
       "<tr><td>70063</td><td>24151</td><td>114.205796131</td><td>65.6878349645</td><td>18.416</td><td>18.201</td><td>18.821</td><td>18.726</td><td>17.839</td><td>17.563</td><td>18.344</td><td>18.299</td><td>18.388</td><td>18.721</td><td>16.691</td><td>19.0</td><td>18.335</td><td>18.141</td><td>18.716</td><td>19.068</td><td>17.897</td><td>17.498</td><td>18.124</td><td>18.23</td><td>18.288</td><td>18.74</td><td>16.623</td><td>19.044</td><td>18.866</td><td>18.768</td><td>19.547</td><td>19.403</td><td>18.725</td><td>18.352</td><td>19.012</td><td>19.043</td><td>19.085</td><td>19.434</td><td>17.095</td><td>19.878</td><td>0.066</td><td>0.061</td><td>0.11</td><td>0.246</td><td>0.09</td><td>0.075</td><td>0.151</td><td>0.114</td><td>0.118</td><td>0.167</td><td>0.026</td><td>0.367</td><td>0.078</td><td>0.073</td><td>0.128</td><td>0.43</td><td>0.119</td><td>0.088</td><td>0.154</td><td>0.134</td><td>0.135</td><td>0.213</td><td>0.031</td><td>0.485</td><td>0.033</td><td>0.036</td><td>0.064</td><td>0.138</td><td>0.07</td><td>0.056</td><td>0.094</td><td>0.077</td><td>0.075</td><td>0.104</td><td>0.016</td><td>0.253</td><td>3</td><td>3</td><td>3</td><td>3</td><td>3</td><td>3</td><td>3</td><td>3</td><td>3</td><td>3</td><td>3</td><td>3</td><td>0</td><td>0</td><td>0</td><td>0</td><td>0</td><td>0</td><td>0</td><td>0</td><td>0</td><td>0</td><td>0</td><td>0</td><td>0.9950930176688998</td><td>0.004862089398604775</td><td>4.489293249546275e-05</td></tr>\n",
       "<tr><td>70063</td><td>26451</td><td>113.965152896</td><td>65.5832793812</td><td>17.74</td><td>17.912</td><td>18.274</td><td>17.531</td><td>17.604</td><td>17.239</td><td>18.278</td><td>17.91</td><td>17.82</td><td>18.874</td><td>16.841</td><td>19.155</td><td>17.448</td><td>17.772</td><td>17.805</td><td>17.2</td><td>17.019</td><td>17.002</td><td>18.896</td><td>17.722</td><td>17.66</td><td>18.722</td><td>16.863</td><td>99.0</td><td>19.165</td><td>19.185</td><td>19.694</td><td>19.737</td><td>18.854</td><td>18.633</td><td>19.094</td><td>19.125</td><td>19.087</td><td>19.471</td><td>17.969</td><td>20.276</td><td>0.072</td><td>0.092</td><td>0.139</td><td>0.168</td><td>0.14</td><td>0.105</td><td>0.271</td><td>0.153</td><td>0.137</td><td>0.377</td><td>0.059</td><td>0.853</td><td>0.092</td><td>0.13</td><td>0.152</td><td>0.205</td><td>0.128</td><td>0.129</td><td>0.737</td><td>0.199</td><td>0.186</td><td>0.52</td><td>0.098</td><td>99.0</td><td>0.042</td><td>0.049</td><td>0.072</td><td>0.186</td><td>0.077</td><td>0.069</td><td>0.101</td><td>0.081</td><td>0.074</td><td>0.108</td><td>0.03</td><td>0.361</td><td>2</td><td>2</td><td>2</td><td>2</td><td>2</td><td>2</td><td>2</td><td>2</td><td>2</td><td>2</td><td>2</td><td>2</td><td>0</td><td>0</td><td>0</td><td>0</td><td>0</td><td>0</td><td>0</td><td>0</td><td>0</td><td>0</td><td>0</td><td>0</td><td>0.988502339486529</td><td>0.009587145205249671</td><td>0.0019105153082214178</td></tr>\n",
       "<tr><td>70455</td><td>1485</td><td>149.076360434</td><td>68.8286145796</td><td>18.478</td><td>18.453</td><td>19.333</td><td>19.069</td><td>18.951</td><td>18.36</td><td>18.819</td><td>19.42</td><td>18.706</td><td>19.32</td><td>16.622</td><td>18.656</td><td>18.46</td><td>18.365</td><td>19.26</td><td>19.037</td><td>18.438</td><td>18.358</td><td>18.735</td><td>19.808</td><td>18.439</td><td>19.346</td><td>16.572</td><td>18.556</td><td>18.765</td><td>18.721</td><td>19.643</td><td>19.247</td><td>19.23</td><td>18.663</td><td>19.169</td><td>19.553</td><td>19.242</td><td>19.385</td><td>16.928</td><td>19.463</td><td>0.051</td><td>0.055</td><td>0.121</td><td>0.216</td><td>0.212</td><td>0.122</td><td>0.177</td><td>0.272</td><td>0.13</td><td>0.229</td><td>0.019</td><td>0.18</td><td>0.079</td><td>0.078</td><td>0.181</td><td>0.331</td><td>0.204</td><td>0.188</td><td>0.254</td><td>0.605</td><td>0.157</td><td>0.363</td><td>0.026</td><td>0.258</td><td>0.033</td><td>0.036</td><td>0.076</td><td>0.12</td><td>0.135</td><td>0.081</td><td>0.121</td><td>0.149</td><td>0.105</td><td>0.119</td><td>0.015</td><td>0.179</td><td>0</td><td>0</td><td>0</td><td>0</td><td>0</td><td>0</td><td>0</td><td>0</td><td>0</td><td>0</td><td>0</td><td>0</td><td>0</td><td>0</td><td>0</td><td>0</td><td>0</td><td>0</td><td>0</td><td>0</td><td>0</td><td>0</td><td>0</td><td>0</td><td>0.9733038672950391</td><td>0.02661521209972814</td><td>8.092060523254204e-05</td></tr>\n",
       "<tr><td>70466</td><td>9220</td><td>184.043068903</td><td>69.5575174471</td><td>17.841</td><td>17.482</td><td>18.046</td><td>17.325</td><td>17.034</td><td>17.237</td><td>17.252</td><td>17.185</td><td>16.949</td><td>17.945</td><td>16.019</td><td>17.507</td><td>18.344</td><td>17.596</td><td>18.21</td><td>17.064</td><td>16.809</td><td>17.166</td><td>16.653</td><td>17.328</td><td>16.683</td><td>18.506</td><td>16.127</td><td>17.148</td><td>18.609</td><td>18.427</td><td>18.872</td><td>18.992</td><td>18.731</td><td>18.454</td><td>18.704</td><td>18.851</td><td>18.77</td><td>18.925</td><td>17.212</td><td>18.83</td><td>0.192</td><td>0.146</td><td>0.276</td><td>0.307</td><td>0.195</td><td>0.27</td><td>0.255</td><td>0.214</td><td>0.157</td><td>0.455</td><td>0.064</td><td>0.481</td><td>0.414</td><td>0.214</td><td>0.438</td><td>0.322</td><td>0.202</td><td>0.334</td><td>0.191</td><td>0.319</td><td>0.162</td><td>0.995</td><td>0.095</td><td>0.463</td><td>0.031</td><td>0.031</td><td>0.044</td><td>0.112</td><td>0.089</td><td>0.072</td><td>0.089</td><td>0.089</td><td>0.074</td><td>0.1</td><td>0.019</td><td>0.117</td><td>3</td><td>3</td><td>3</td><td>3</td><td>3</td><td>3</td><td>3</td><td>3</td><td>3</td><td>3</td><td>3</td><td>3</td><td>0</td><td>0</td><td>0</td><td>0</td><td>0</td><td>0</td><td>0</td><td>0</td><td>0</td><td>0</td><td>0</td><td>0</td><td>0.779763645859664</td><td>0.1871367530413858</td><td>0.03309960109895029</td></tr>\n",
       "<tr><td>70466</td><td>18549</td><td>184.115994969</td><td>69.4120038902</td><td>18.925</td><td>18.788</td><td>19.974</td><td>19.661</td><td>19.065</td><td>18.506</td><td>18.979</td><td>19.326</td><td>19.379</td><td>20.352</td><td>16.973</td><td>20.026</td><td>19.045</td><td>19.119</td><td>20.155</td><td>19.929</td><td>18.978</td><td>18.693</td><td>19.292</td><td>19.445</td><td>19.93</td><td>20.403</td><td>16.982</td><td>19.656</td><td>18.717</td><td>18.632</td><td>19.448</td><td>19.232</td><td>18.889</td><td>18.504</td><td>18.934</td><td>19.083</td><td>19.174</td><td>19.693</td><td>16.981</td><td>19.481</td><td>0.047</td><td>0.049</td><td>0.138</td><td>0.238</td><td>0.136</td><td>0.086</td><td>0.129</td><td>0.155</td><td>0.145</td><td>0.356</td><td>0.018</td><td>0.404</td><td>0.085</td><td>0.106</td><td>0.272</td><td>0.509</td><td>0.203</td><td>0.164</td><td>0.278</td><td>0.282</td><td>0.395</td><td>0.618</td><td>0.026</td><td>0.481</td><td>0.031</td><td>0.034</td><td>0.067</td><td>0.127</td><td>0.095</td><td>0.07</td><td>0.101</td><td>0.1</td><td>0.097</td><td>0.156</td><td>0.015</td><td>0.194</td><td>3</td><td>3</td><td>3</td><td>3</td><td>3</td><td>3</td><td>3</td><td>3</td><td>3</td><td>3</td><td>3</td><td>3</td><td>0</td><td>0</td><td>0</td><td>0</td><td>0</td><td>0</td><td>0</td><td>0</td><td>0</td><td>0</td><td>0</td><td>0</td><td>0.9878493814311692</td><td>0.01210884543372106</td><td>4.177313510980547e-05</td></tr>\n",
       "<tr><td>67905</td><td>25070</td><td>284.833521439</td><td>48.4656040554</td><td>14.719</td><td>13.931</td><td>16.03</td><td>15.796</td><td>14.893</td><td>14.422</td><td>15.297</td><td>16.207</td><td>15.63</td><td>16.733</td><td>12.496</td><td>16.129</td><td>14.719</td><td>13.937</td><td>15.993</td><td>15.893</td><td>14.824</td><td>14.433</td><td>15.213</td><td>16.188</td><td>15.62</td><td>16.685</td><td>12.496</td><td>16.058</td><td>17.982</td><td>17.035</td><td>19.33</td><td>19.16</td><td>18.265</td><td>17.804</td><td>18.575</td><td>19.508</td><td>18.81</td><td>20.056</td><td>15.719</td><td>19.584</td><td>0.01</td><td>0.005</td><td>0.042</td><td>0.072</td><td>0.027</td><td>0.019</td><td>0.041</td><td>0.07</td><td>0.037</td><td>0.108</td><td>0.003</td><td>0.103</td><td>0.017</td><td>0.008</td><td>0.071</td><td>0.138</td><td>0.039</td><td>0.029</td><td>0.059</td><td>0.108</td><td>0.058</td><td>0.171</td><td>0.004</td><td>0.161</td><td>0.02</td><td>0.013</td><td>0.071</td><td>0.133</td><td>0.069</td><td>0.052</td><td>0.095</td><td>0.155</td><td>0.079</td><td>0.22</td><td>0.009</td><td>0.227</td><td>3</td><td>3</td><td>3</td><td>3</td><td>3</td><td>3</td><td>3</td><td>3</td><td>3</td><td>3</td><td>3</td><td>3</td><td>0</td><td>0</td><td>0</td><td>0</td><td>0</td><td>0</td><td>0</td><td>0</td><td>0</td><td>0</td><td>0</td><td>0</td><td>0.9999405605014077</td><td>5.943942532422558e-05</td><td>7.326818217169198e-11</td></tr>\n",
       "<tr><td>69221</td><td>9002</td><td>106.20610262</td><td>56.5146615822</td><td>18.212</td><td>18.323</td><td>18.835</td><td>18.681</td><td>20.441</td><td>18.297</td><td>19.19</td><td>18.471</td><td>18.83</td><td>18.443</td><td>16.719</td><td>18.881</td><td>99.0</td><td>21.791</td><td>99.0</td><td>99.0</td><td>99.0</td><td>19.589</td><td>99.0</td><td>20.403</td><td>99.0</td><td>99.0</td><td>17.373</td><td>99.0</td><td>18.642</td><td>18.644</td><td>19.192</td><td>19.053</td><td>19.498</td><td>18.46</td><td>19.264</td><td>19.101</td><td>19.191</td><td>18.533</td><td>16.893</td><td>19.353</td><td>0.038</td><td>0.044</td><td>0.082</td><td>0.173</td><td>0.667</td><td>0.099</td><td>0.227</td><td>0.094</td><td>0.129</td><td>0.089</td><td>0.02</td><td>0.253</td><td>99.0</td><td>1.26</td><td>99.0</td><td>99.0</td><td>99.0</td><td>0.364</td><td>99.0</td><td>0.633</td><td>99.0</td><td>99.0</td><td>0.043</td><td>99.0</td><td>0.03</td><td>0.034</td><td>0.057</td><td>0.122</td><td>0.15</td><td>0.064</td><td>0.129</td><td>0.09</td><td>0.096</td><td>0.053</td><td>0.015</td><td>0.197</td><td>3</td><td>3</td><td>3</td><td>3</td><td>3</td><td>3</td><td>3</td><td>3</td><td>3</td><td>3</td><td>3</td><td>3</td><td>0</td><td>0</td><td>0</td><td>0</td><td>0</td><td>0</td><td>0</td><td>0</td><td>0</td><td>0</td><td>0</td><td>0</td><td>0.8551700739442176</td><td>0.14064151601606406</td><td>0.004188410039718324</td></tr>\n",
       "<tr><td>70525</td><td>9777</td><td>124.70775403</td><td>70.7471772852</td><td>17.236</td><td>17.265</td><td>17.958</td><td>18.147</td><td>17.769</td><td>17.367</td><td>18.081</td><td>17.914</td><td>17.425</td><td>17.889</td><td>15.485</td><td>17.787</td><td>17.261</td><td>17.307</td><td>17.903</td><td>18.091</td><td>17.86</td><td>17.35</td><td>17.859</td><td>17.912</td><td>17.512</td><td>17.867</td><td>15.515</td><td>17.932</td><td>17.822</td><td>17.754</td><td>18.774</td><td>18.755</td><td>18.195</td><td>17.988</td><td>18.214</td><td>18.567</td><td>18.225</td><td>18.671</td><td>15.934</td><td>18.681</td><td>0.04</td><td>0.043</td><td>0.104</td><td>0.261</td><td>0.152</td><td>0.108</td><td>0.206</td><td>0.157</td><td>0.088</td><td>0.141</td><td>0.016</td><td>0.228</td><td>0.035</td><td>0.039</td><td>0.084</td><td>0.21</td><td>0.142</td><td>0.092</td><td>0.145</td><td>0.135</td><td>0.083</td><td>0.119</td><td>0.014</td><td>0.223</td><td>0.017</td><td>0.018</td><td>0.052</td><td>0.104</td><td>0.06</td><td>0.052</td><td>0.063</td><td>0.073</td><td>0.048</td><td>0.073</td><td>0.008</td><td>0.127</td><td>2</td><td>2</td><td>2</td><td>2</td><td>2</td><td>2</td><td>2</td><td>2</td><td>2</td><td>2</td><td>2</td><td>2</td><td>0</td><td>0</td><td>0</td><td>0</td><td>0</td><td>0</td><td>0</td><td>0</td><td>0</td><td>0</td><td>0</td><td>0</td><td>0.9917036174181496</td><td>0.008278142563106931</td><td>1.8240018743296413e-05</td></tr>\n",
       "<tr><td>...</td><td>...</td><td>...</td><td>...</td><td>...</td><td>...</td><td>...</td><td>...</td><td>...</td><td>...</td><td>...</td><td>...</td><td>...</td><td>...</td><td>...</td><td>...</td><td>...</td><td>...</td><td>...</td><td>...</td><td>...</td><td>...</td><td>...</td><td>...</td><td>...</td><td>...</td><td>...</td><td>...</td><td>...</td><td>...</td><td>...</td><td>...</td><td>...</td><td>...</td><td>...</td><td>...</td><td>...</td><td>...</td><td>...</td><td>...</td><td>...</td><td>...</td><td>...</td><td>...</td><td>...</td><td>...</td><td>...</td><td>...</td><td>...</td><td>...</td><td>...</td><td>...</td><td>...</td><td>...</td><td>...</td><td>...</td><td>...</td><td>...</td><td>...</td><td>...</td><td>...</td><td>...</td><td>...</td><td>...</td><td>...</td><td>...</td><td>...</td><td>...</td><td>...</td><td>...</td><td>...</td><td>...</td><td>...</td><td>...</td><td>...</td><td>...</td><td>...</td><td>...</td><td>...</td><td>...</td><td>...</td><td>...</td><td>...</td><td>...</td><td>...</td><td>...</td><td>...</td><td>...</td><td>...</td><td>...</td><td>...</td><td>...</td><td>...</td><td>...</td><td>...</td><td>...</td><td>...</td><td>...</td><td>...</td><td>...</td><td>...</td><td>...</td><td>...</td></tr>\n",
       "<tr><td>70362</td><td>24746</td><td>157.337720658</td><td>68.4771055461</td><td>17.753</td><td>17.57</td><td>18.051</td><td>18.642</td><td>17.876</td><td>17.704</td><td>17.671</td><td>18.044</td><td>18.297</td><td>18.041</td><td>16.065</td><td>18.565</td><td>17.783</td><td>17.509</td><td>17.875</td><td>99.0</td><td>17.997</td><td>17.217</td><td>17.61</td><td>18.433</td><td>19.739</td><td>17.94</td><td>16.044</td><td>18.311</td><td>18.703</td><td>18.563</td><td>19.316</td><td>19.364</td><td>18.711</td><td>18.714</td><td>18.798</td><td>18.917</td><td>18.883</td><td>18.908</td><td>17.156</td><td>19.41</td><td>0.06</td><td>0.046</td><td>0.106</td><td>0.444</td><td>0.182</td><td>0.156</td><td>0.155</td><td>0.164</td><td>0.196</td><td>0.161</td><td>0.027</td><td>0.489</td><td>0.114</td><td>0.077</td><td>0.172</td><td>99.0</td><td>0.35</td><td>0.17</td><td>0.255</td><td>0.412</td><td>1.305</td><td>0.257</td><td>0.048</td><td>0.693</td><td>0.027</td><td>0.025</td><td>0.055</td><td>0.145</td><td>0.079</td><td>0.081</td><td>0.086</td><td>0.072</td><td>0.066</td><td>0.07</td><td>0.019</td><td>0.185</td><td>2</td><td>2</td><td>2</td><td>2</td><td>2</td><td>2</td><td>2</td><td>2</td><td>2</td><td>2</td><td>2</td><td>2</td><td>0</td><td>0</td><td>0</td><td>0</td><td>0</td><td>0</td><td>0</td><td>0</td><td>0</td><td>0</td><td>0</td><td>0</td><td>0.9629357026583387</td><td>0.03375865034775281</td><td>0.00330564699390842</td></tr>\n",
       "<tr><td>70362</td><td>24916</td><td>157.183847409</td><td>68.4739821886</td><td>14.729</td><td>14.667</td><td>15.127</td><td>15.019</td><td>15.075</td><td>14.973</td><td>14.989</td><td>14.973</td><td>15.024</td><td>15.249</td><td>13.519</td><td>15.183</td><td>14.928</td><td>14.831</td><td>16.017</td><td>15.728</td><td>15.29</td><td>15.46</td><td>15.275</td><td>15.256</td><td>15.516</td><td>16.219</td><td>13.786</td><td>16.939</td><td>16.678</td><td>16.434</td><td>17.031</td><td>17.124</td><td>16.666</td><td>16.56</td><td>16.638</td><td>16.645</td><td>16.603</td><td>16.882</td><td>15.57</td><td>17.174</td><td>0.007</td><td>0.006</td><td>0.014</td><td>0.028</td><td>0.024</td><td>0.022</td><td>0.023</td><td>0.017</td><td>0.018</td><td>0.023</td><td>0.005</td><td>0.038</td><td>0.024</td><td>0.018</td><td>0.099</td><td>0.157</td><td>0.068</td><td>0.077</td><td>0.073</td><td>0.056</td><td>0.069</td><td>0.136</td><td>0.017</td><td>0.518</td><td>0.007</td><td>0.007</td><td>0.009</td><td>0.02</td><td>0.019</td><td>0.018</td><td>0.019</td><td>0.015</td><td>0.014</td><td>0.017</td><td>0.008</td><td>0.027</td><td>3</td><td>3</td><td>3</td><td>3</td><td>3</td><td>3</td><td>3</td><td>3</td><td>3</td><td>3</td><td>3</td><td>3</td><td>0</td><td>0</td><td>0</td><td>0</td><td>0</td><td>0</td><td>0</td><td>0</td><td>0</td><td>0</td><td>0</td><td>0</td><td>0.8708704114384461</td><td>0.08500825380852368</td><td>0.04412133475303024</td></tr>\n",
       "<tr><td>70431</td><td>16825</td><td>112.179163033</td><td>69.1893505811</td><td>13.01</td><td>12.767</td><td>13.061</td><td>12.973</td><td>13.204</td><td>13.256</td><td>13.278</td><td>13.147</td><td>13.183</td><td>13.158</td><td>11.649</td><td>12.932</td><td>13.421</td><td>13.121</td><td>13.68</td><td>13.584</td><td>13.744</td><td>13.661</td><td>13.726</td><td>13.755</td><td>13.674</td><td>13.849</td><td>11.788</td><td>13.638</td><td>14.89</td><td>14.476</td><td>15.771</td><td>15.787</td><td>15.346</td><td>15.258</td><td>15.309</td><td>15.582</td><td>15.229</td><td>15.926</td><td>12.998</td><td>15.941</td><td>0.013</td><td>0.011</td><td>0.02</td><td>0.04</td><td>0.025</td><td>0.028</td><td>0.033</td><td>0.021</td><td>0.018</td><td>0.025</td><td>0.008</td><td>0.036</td><td>0.008</td><td>0.007</td><td>0.014</td><td>0.028</td><td>0.02</td><td>0.02</td><td>0.023</td><td>0.018</td><td>0.014</td><td>0.022</td><td>0.004</td><td>0.03</td><td>0.002</td><td>0.002</td><td>0.004</td><td>0.007</td><td>0.008</td><td>0.008</td><td>0.008</td><td>0.008</td><td>0.006</td><td>0.009</td><td>0.002</td><td>0.011</td><td>3</td><td>3</td><td>3</td><td>3</td><td>3</td><td>3</td><td>3</td><td>3</td><td>3</td><td>3</td><td>3</td><td>3</td><td>0</td><td>0</td><td>0</td><td>0</td><td>0</td><td>0</td><td>0</td><td>0</td><td>0</td><td>0</td><td>0</td><td>0</td><td>0.9962632991758267</td><td>0.003734222504849262</td><td>2.4783193240305955e-06</td></tr>\n",
       "<tr><td>64078</td><td>73697</td><td>282.507715505</td><td>35.2425002663</td><td>14.127</td><td>14.934</td><td>15.931</td><td>15.715</td><td>14.577</td><td>13.853</td><td>15.356</td><td>16.269</td><td>15.901</td><td>16.13</td><td>11.964</td><td>16.368</td><td>14.101</td><td>14.918</td><td>15.857</td><td>15.664</td><td>14.564</td><td>13.846</td><td>15.304</td><td>16.173</td><td>15.841</td><td>16.083</td><td>11.939</td><td>16.23</td><td>15.912</td><td>16.385</td><td>17.821</td><td>17.546</td><td>16.296</td><td>15.628</td><td>17.028</td><td>17.931</td><td>17.53</td><td>17.894</td><td>13.697</td><td>18.341</td><td>0.003</td><td>0.006</td><td>0.02</td><td>0.032</td><td>0.009</td><td>0.006</td><td>0.019</td><td>0.032</td><td>0.021</td><td>0.028</td><td>0.001</td><td>0.062</td><td>0.004</td><td>0.008</td><td>0.026</td><td>0.044</td><td>0.011</td><td>0.007</td><td>0.023</td><td>0.039</td><td>0.027</td><td>0.036</td><td>0.002</td><td>0.076</td><td>0.005</td><td>0.008</td><td>0.023</td><td>0.033</td><td>0.015</td><td>0.011</td><td>0.026</td><td>0.038</td><td>0.027</td><td>0.036</td><td>0.003</td><td>0.079</td><td>3</td><td>3</td><td>3</td><td>3</td><td>3</td><td>3</td><td>3</td><td>3</td><td>3</td><td>3</td><td>3</td><td>3</td><td>0</td><td>0</td><td>0</td><td>0</td><td>0</td><td>0</td><td>0</td><td>0</td><td>0</td><td>0</td><td>0</td><td>0</td><td>0.9999823430617886</td><td>1.7656925731537056e-05</td><td>1.247979855441127e-11</td></tr>\n",
       "<tr><td>75572</td><td>15626</td><td>154.679463255</td><td>46.0505559068</td><td>15.372</td><td>15.635</td><td>15.323</td><td>15.363</td><td>16.278</td><td>16.073</td><td>15.793</td><td>15.841</td><td>15.58</td><td>15.606</td><td>14.74</td><td>15.202</td><td>15.571</td><td>15.976</td><td>15.562</td><td>15.813</td><td>15.949</td><td>16.46</td><td>15.672</td><td>16.106</td><td>15.476</td><td>15.664</td><td>14.769</td><td>15.283</td><td>17.625</td><td>17.542</td><td>18.086</td><td>18.041</td><td>18.02</td><td>17.668</td><td>17.854</td><td>18.099</td><td>17.934</td><td>18.152</td><td>16.102</td><td>18.096</td><td>0.018</td><td>0.022</td><td>0.02</td><td>0.052</td><td>0.076</td><td>0.067</td><td>0.055</td><td>0.042</td><td>0.033</td><td>0.037</td><td>0.018</td><td>0.051</td><td>0.046</td><td>0.063</td><td>0.055</td><td>0.172</td><td>0.106</td><td>0.187</td><td>0.099</td><td>0.104</td><td>0.059</td><td>0.081</td><td>0.04</td><td>0.117</td><td>0.013</td><td>0.014</td><td>0.021</td><td>0.045</td><td>0.039</td><td>0.031</td><td>0.035</td><td>0.034</td><td>0.029</td><td>0.035</td><td>0.009</td><td>0.056</td><td>3</td><td>3</td><td>3</td><td>3</td><td>3</td><td>3</td><td>3</td><td>3</td><td>3</td><td>3</td><td>3</td><td>3</td><td>0</td><td>0</td><td>0</td><td>0</td><td>0</td><td>0</td><td>0</td><td>0</td><td>0</td><td>0</td><td>0</td><td>0</td><td>0.8901726475605337</td><td>0.10673594800914703</td><td>0.0030914044303192215</td></tr>\n",
       "<tr><td>66536</td><td>12008</td><td>187.20049073</td><td>43.230197756</td><td>18.15</td><td>18.724</td><td>18.652</td><td>17.714</td><td>17.904</td><td>17.328</td><td>17.694</td><td>19.597</td><td>17.982</td><td>20.379</td><td>16.638</td><td>18.135</td><td>99.0</td><td>99.0</td><td>99.0</td><td>18.047</td><td>17.198</td><td>16.785</td><td>17.23</td><td>99.0</td><td>17.843</td><td>99.0</td><td>17.064</td><td>18.638</td><td>18.738</td><td>18.686</td><td>19.515</td><td>19.588</td><td>18.956</td><td>18.645</td><td>19.109</td><td>19.311</td><td>19.132</td><td>19.573</td><td>16.907</td><td>20.136</td><td>0.126</td><td>0.217</td><td>0.229</td><td>0.206</td><td>0.21</td><td>0.142</td><td>0.191</td><td>0.917</td><td>0.188</td><td>1.854</td><td>0.055</td><td>0.38</td><td>99.0</td><td>99.0</td><td>99.0</td><td>0.488</td><td>0.183</td><td>0.146</td><td>0.204</td><td>99.0</td><td>0.278</td><td>99.0</td><td>0.14</td><td>1.056</td><td>0.031</td><td>0.032</td><td>0.065</td><td>0.157</td><td>0.086</td><td>0.073</td><td>0.11</td><td>0.104</td><td>0.083</td><td>0.129</td><td>0.015</td><td>0.323</td><td>3</td><td>3</td><td>3</td><td>3</td><td>3</td><td>3</td><td>3</td><td>3</td><td>3</td><td>3</td><td>3</td><td>3</td><td>0</td><td>0</td><td>0</td><td>0</td><td>0</td><td>0</td><td>0</td><td>0</td><td>0</td><td>0</td><td>0</td><td>0</td><td>0.9973550975774266</td><td>0.0026404017273573724</td><td>4.500695215890298e-06</td></tr>\n",
       "<tr><td>66536</td><td>12037</td><td>187.194444923</td><td>43.2291950512</td><td>19.294</td><td>20.485</td><td>99.0</td><td>99.0</td><td>18.373</td><td>18.91</td><td>19.13</td><td>19.588</td><td>19.968</td><td>19.342</td><td>17.482</td><td>99.0</td><td>99.0</td><td>99.0</td><td>99.0</td><td>99.0</td><td>18.107</td><td>19.649</td><td>19.228</td><td>99.0</td><td>99.0</td><td>99.0</td><td>18.277</td><td>99.0</td><td>19.143</td><td>19.21</td><td>19.863</td><td>19.728</td><td>19.255</td><td>19.105</td><td>19.574</td><td>19.697</td><td>19.428</td><td>19.61</td><td>17.526</td><td>20.136</td><td>0.145</td><td>0.455</td><td>99.0</td><td>99.0</td><td>0.136</td><td>0.252</td><td>0.307</td><td>0.379</td><td>0.495</td><td>0.298</td><td>0.05</td><td>99.0</td><td>99.0</td><td>99.0</td><td>99.0</td><td>99.0</td><td>0.162</td><td>0.781</td><td>0.509</td><td>99.0</td><td>99.0</td><td>99.0</td><td>0.16</td><td>99.0</td><td>0.044</td><td>0.05</td><td>0.09</td><td>0.179</td><td>0.11</td><td>0.108</td><td>0.165</td><td>0.145</td><td>0.108</td><td>0.134</td><td>0.022</td><td>0.323</td><td>3</td><td>3</td><td>3</td><td>3</td><td>3</td><td>3</td><td>3</td><td>3</td><td>3</td><td>3</td><td>3</td><td>3</td><td>0</td><td>0</td><td>0</td><td>0</td><td>0</td><td>0</td><td>0</td><td>0</td><td>0</td><td>0</td><td>0</td><td>0</td><td>0.9791614763444164</td><td>0.02051257031446898</td><td>0.00032595334111458013</td></tr>\n",
       "<tr><td>66536</td><td>15026</td><td>187.179275606</td><td>43.2424874012</td><td>18.064</td><td>17.86</td><td>18.681</td><td>18.824</td><td>18.548</td><td>18.266</td><td>17.979</td><td>18.777</td><td>18.166</td><td>19.241</td><td>16.17</td><td>18.26</td><td>17.974</td><td>17.82</td><td>18.517</td><td>18.717</td><td>18.294</td><td>18.18</td><td>18.152</td><td>18.958</td><td>18.133</td><td>19.43</td><td>16.116</td><td>18.2</td><td>18.606</td><td>18.212</td><td>19.386</td><td>19.454</td><td>18.873</td><td>18.573</td><td>18.575</td><td>19.055</td><td>18.748</td><td>19.409</td><td>16.61</td><td>19.509</td><td>0.059</td><td>0.051</td><td>0.115</td><td>0.295</td><td>0.203</td><td>0.178</td><td>0.136</td><td>0.227</td><td>0.119</td><td>0.342</td><td>0.019</td><td>0.218</td><td>0.067</td><td>0.061</td><td>0.124</td><td>0.333</td><td>0.199</td><td>0.203</td><td>0.195</td><td>0.332</td><td>0.142</td><td>0.505</td><td>0.022</td><td>0.258</td><td>0.027</td><td>0.022</td><td>0.058</td><td>0.139</td><td>0.08</td><td>0.069</td><td>0.07</td><td>0.083</td><td>0.06</td><td>0.111</td><td>0.012</td><td>0.181</td><td>0</td><td>0</td><td>0</td><td>0</td><td>0</td><td>0</td><td>0</td><td>0</td><td>0</td><td>0</td><td>0</td><td>0</td><td>0</td><td>0</td><td>0</td><td>0</td><td>0</td><td>0</td><td>0</td><td>0</td><td>0</td><td>0</td><td>0</td><td>0</td><td>0.9964898832238639</td><td>0.0035025947967294727</td><td>7.52197940660131e-06</td></tr>\n",
       "<tr><td>64138</td><td>3942</td><td>126.48124639</td><td>35.5422314816</td><td>17.899</td><td>17.832</td><td>18.178</td><td>18.205</td><td>18.402</td><td>18.311</td><td>18.139</td><td>18.292</td><td>18.115</td><td>18.451</td><td>16.348</td><td>18.377</td><td>17.875</td><td>17.752</td><td>17.972</td><td>18.449</td><td>18.224</td><td>18.212</td><td>17.968</td><td>18.097</td><td>17.993</td><td>18.412</td><td>16.228</td><td>17.723</td><td>18.222</td><td>18.131</td><td>18.714</td><td>18.978</td><td>18.694</td><td>18.637</td><td>18.497</td><td>18.647</td><td>18.522</td><td>18.84</td><td>16.51</td><td>19.022</td><td>0.032</td><td>0.028</td><td>0.061</td><td>0.114</td><td>0.098</td><td>0.092</td><td>0.08</td><td>0.077</td><td>0.065</td><td>0.088</td><td>0.015</td><td>0.183</td><td>0.057</td><td>0.046</td><td>0.096</td><td>0.271</td><td>0.151</td><td>0.152</td><td>0.123</td><td>0.116</td><td>0.104</td><td>0.155</td><td>0.023</td><td>0.189</td><td>0.024</td><td>0.022</td><td>0.052</td><td>0.118</td><td>0.071</td><td>0.069</td><td>0.063</td><td>0.059</td><td>0.053</td><td>0.068</td><td>0.012</td><td>0.169</td><td>0</td><td>0</td><td>0</td><td>0</td><td>0</td><td>0</td><td>0</td><td>0</td><td>0</td><td>0</td><td>0</td><td>0</td><td>0</td><td>0</td><td>0</td><td>0</td><td>0</td><td>0</td><td>0</td><td>0</td><td>0</td><td>0</td><td>0</td><td>0</td><td>0.9569377640249241</td><td>0.04242833902413856</td><td>0.0006338969509372439</td></tr>\n",
       "<tr><td>66608</td><td>6957</td><td>221.047622585</td><td>42.6265792238</td><td>15.908</td><td>15.949</td><td>16.063</td><td>15.849</td><td>16.679</td><td>16.435</td><td>16.227</td><td>16.139</td><td>16.108</td><td>16.014</td><td>15.207</td><td>16.081</td><td>15.867</td><td>15.926</td><td>16.05</td><td>15.735</td><td>16.645</td><td>16.495</td><td>16.209</td><td>16.143</td><td>16.1</td><td>15.96</td><td>15.175</td><td>16.161</td><td>17.758</td><td>17.57</td><td>18.137</td><td>18.082</td><td>18.184</td><td>17.974</td><td>17.897</td><td>18.007</td><td>17.861</td><td>18.083</td><td>16.396</td><td>18.279</td><td>0.017</td><td>0.018</td><td>0.03</td><td>0.052</td><td>0.084</td><td>0.069</td><td>0.058</td><td>0.04</td><td>0.036</td><td>0.035</td><td>0.018</td><td>0.069</td><td>0.021</td><td>0.021</td><td>0.038</td><td>0.06</td><td>0.101</td><td>0.09</td><td>0.071</td><td>0.051</td><td>0.045</td><td>0.042</td><td>0.022</td><td>0.093</td><td>0.015</td><td>0.015</td><td>0.027</td><td>0.05</td><td>0.051</td><td>0.045</td><td>0.043</td><td>0.036</td><td>0.031</td><td>0.036</td><td>0.011</td><td>0.069</td><td>3</td><td>3</td><td>3</td><td>3</td><td>3</td><td>3</td><td>3</td><td>3</td><td>3</td><td>3</td><td>3</td><td>3</td><td>0</td><td>0</td><td>0</td><td>0</td><td>0</td><td>0</td><td>0</td><td>0</td><td>0</td><td>0</td><td>0</td><td>0</td><td>0.8306565357687886</td><td>0.1541518953582888</td><td>0.015191568872922617</td></tr>\n",
       "</table>"
      ],
      "text/plain": [
       "<Table length=54>\n",
       " Tile Number       RA      ...        P(SySt)              P(all else)      \n",
       "int64 int64     float64    ...        float64                float64        \n",
       "----- ------ ------------- ... ---------------------- ----------------------\n",
       "71690  17355 16.2730098396 ...    0.19574758490856595   0.004251193172679516\n",
       "71690  18758 16.2599953258 ...   0.009464419603947569  5.113828910136492e-06\n",
       "70063  24151 114.205796131 ...   0.004862089398604775  4.489293249546275e-05\n",
       "70063  26451 113.965152896 ...   0.009587145205249671  0.0019105153082214178\n",
       "70455   1485 149.076360434 ...    0.02661521209972814  8.092060523254204e-05\n",
       "70466   9220 184.043068903 ...     0.1871367530413858    0.03309960109895029\n",
       "70466  18549 184.115994969 ...    0.01210884543372106  4.177313510980547e-05\n",
       "67905  25070 284.833521439 ...  5.943942532422558e-05  7.326818217169198e-11\n",
       "69221   9002  106.20610262 ...    0.14064151601606406   0.004188410039718324\n",
       "70525   9777  124.70775403 ...   0.008278142563106931 1.8240018743296413e-05\n",
       "  ...    ...           ... ...                    ...                    ...\n",
       "70362  24746 157.337720658 ...    0.03375865034775281    0.00330564699390842\n",
       "70362  24916 157.183847409 ...    0.08500825380852368    0.04412133475303024\n",
       "70431  16825 112.179163033 ...   0.003734222504849262 2.4783193240305955e-06\n",
       "64078  73697 282.507715505 ... 1.7656925731537056e-05  1.247979855441127e-11\n",
       "75572  15626 154.679463255 ...    0.10673594800914703  0.0030914044303192215\n",
       "66536  12008  187.20049073 ...  0.0026404017273573724  4.500695215890298e-06\n",
       "66536  12037 187.194444923 ...    0.02051257031446898 0.00032595334111458013\n",
       "66536  15026 187.179275606 ...  0.0035025947967294727   7.52197940660131e-06\n",
       "64138   3942  126.48124639 ...    0.04242833902413856  0.0006338969509372439\n",
       "66608   6957 221.047622585 ...     0.1541518953582888   0.015191568872922617"
      ]
     },
     "execution_count": 16,
     "metadata": {},
     "output_type": "execute_result"
    }
   ],
   "source": [
    "tab1"
   ]
  },
  {
   "cell_type": "code",
   "execution_count": 17,
   "metadata": {},
   "outputs": [
    {
     "name": "stderr",
     "output_type": "stream",
     "text": [
      "/home/lgutierrez/anaconda3/lib/python3.7/site-packages/astroquery/simbad/core.py:138: UserWarning: Warning: The script line number 3 raised an error (recorded in the `errors` attribute of the result table): '1:05:05.5224 +2:09:17.7867': No astronomical object found :  \n",
      "  (error.line, error.msg))\n",
      "/home/lgutierrez/anaconda3/lib/python3.7/site-packages/astroquery/simbad/core.py:138: UserWarning: Warning: The script line number 5 raised an error (recorded in the `errors` attribute of the result table): '7:36:49.3911 +65:41:16.2059': No astronomical object found :  \n",
      "  (error.line, error.msg))\n",
      "/home/lgutierrez/anaconda3/lib/python3.7/site-packages/astroquery/simbad/core.py:138: UserWarning: Warning: The script line number 8 raised an error (recorded in the `errors` attribute of the result table): '12:16:10.3365 +69:33:27.0628': No astronomical object found :  \n",
      "  (error.line, error.msg))\n",
      "/home/lgutierrez/anaconda3/lib/python3.7/site-packages/astroquery/simbad/core.py:138: UserWarning: Warning: The script line number 12 raised an error (recorded in the `errors` attribute of the result table): '8:18:49.861 +70:44:49.8382': No astronomical object found :  \n",
      "  (error.line, error.msg))\n",
      "/home/lgutierrez/anaconda3/lib/python3.7/site-packages/astroquery/simbad/core.py:138: UserWarning: Warning: The script line number 17 raised an error (recorded in the `errors` attribute of the result table): '18:53:34.3907 +33:02:00.757': No astronomical object found :  \n",
      "  (error.line, error.msg))\n",
      "/home/lgutierrez/anaconda3/lib/python3.7/site-packages/astroquery/simbad/core.py:138: UserWarning: Warning: The script line number 19 raised an error (recorded in the `errors` attribute of the result table): '1:23:31.0571 +6:57:36.9155': No astronomical object found :  \n",
      "  (error.line, error.msg))\n",
      "/home/lgutierrez/anaconda3/lib/python3.7/site-packages/astroquery/simbad/core.py:138: UserWarning: Warning: The script line number 22 raised an error (recorded in the `errors` attribute of the result table): '14:03:43.3965 +54:29:49.4768': No astronomical object found :  \n",
      "  (error.line, error.msg))\n",
      "/home/lgutierrez/anaconda3/lib/python3.7/site-packages/astroquery/simbad/core.py:138: UserWarning: Warning: The script line number 24 raised an error (recorded in the `errors` attribute of the result table): '14:02:23.804 +54:27:53.6707': No astronomical object found :  \n",
      "  (error.line, error.msg))\n",
      "/home/lgutierrez/anaconda3/lib/python3.7/site-packages/astroquery/simbad/core.py:138: UserWarning: Warning: The script line number 31 raised an error (recorded in the `errors` attribute of the result table): '14:02:21.1505 +54:21:47.4665': No astronomical object found :  \n",
      "  (error.line, error.msg))\n",
      "/home/lgutierrez/anaconda3/lib/python3.7/site-packages/astroquery/simbad/core.py:138: UserWarning: Warning: The script line number 36 raised an error (recorded in the `errors` attribute of the result table): '14:02:32.4372 +54:25:34.6151': No astronomical object found :  \n",
      "  (error.line, error.msg))\n",
      "/home/lgutierrez/anaconda3/lib/python3.7/site-packages/astroquery/simbad/core.py:138: UserWarning: Warning: The script line number 39 raised an error (recorded in the `errors` attribute of the result table): '14:02:46.8004 +54:25:09.2789': No astronomical object found :  \n",
      "  (error.line, error.msg))\n",
      "/home/lgutierrez/anaconda3/lib/python3.7/site-packages/astroquery/simbad/core.py:138: UserWarning: Warning: The script line number 43 raised an error (recorded in the `errors` attribute of the result table): '9:50:20.9185 +31:29:11.0171': No astronomical object found :  \n",
      "  (error.line, error.msg))\n",
      "/home/lgutierrez/anaconda3/lib/python3.7/site-packages/astroquery/simbad/core.py:138: UserWarning: Warning: The script line number 50 raised an error (recorded in the `errors` attribute of the result table): '18:50:01.8517 +35:14:33.001': No astronomical object found :  \n",
      "  (error.line, error.msg))\n",
      "/home/lgutierrez/anaconda3/lib/python3.7/site-packages/astroquery/simbad/core.py:138: UserWarning: Warning: The script line number 53 raised an error (recorded in the `errors` attribute of the result table): '12:28:46.6668 +43:13:45.1022': No astronomical object found :  \n",
      "  (error.line, error.msg))\n",
      "/home/lgutierrez/anaconda3/lib/python3.7/site-packages/astroquery/simbad/core.py:138: UserWarning: Warning: The script line number 56 raised an error (recorded in the `errors` attribute of the result table): '14:44:11.4294 +42:37:35.6852': No astronomical object found :\n",
      "  (error.line, error.msg))\n"
     ]
    },
    {
     "data": {
      "text/html": [
       "<i>Table length=60</i>\n",
       "<table id=\"table139977251873616\" class=\"table-striped table-bordered table-condensed\">\n",
       "<thead><tr><th>MAIN_ID</th><th>RA</th><th>DEC</th><th>RA_PREC</th><th>DEC_PREC</th><th>COO_ERR_MAJA</th><th>COO_ERR_MINA</th><th>COO_ERR_ANGLE</th><th>COO_QUAL</th><th>COO_WAVELENGTH</th><th>COO_BIBCODE</th><th>SP_TYPE</th><th>SP_QUAL</th><th>SP_BIBCODE</th><th>OTYPE</th><th>Distance_distance</th><th>Distance_Q</th><th>Distance_unit</th><th>Distance_merr</th><th>Distance_perr</th><th>Distance_method</th><th>Distance_bibcode</th><th>RVZ_TYPE</th><th>RVZ_RADVEL</th><th>RVZ_ERROR</th><th>RVZ_QUAL</th><th>RVZ_WAVELENGTH</th><th>RVZ_BIBCODE</th><th>OTYPES</th><th>RA_d</th><th>DEC_d</th><th>BIBLIST_1990_2020</th></tr></thead>\n",
       "<thead><tr><th></th><th>&quot;h:m:s&quot;</th><th>&quot;d:m:s&quot;</th><th></th><th></th><th>mas</th><th>mas</th><th>deg</th><th></th><th></th><th></th><th></th><th></th><th></th><th></th><th></th><th></th><th></th><th></th><th></th><th></th><th></th><th></th><th>km / s</th><th>km / s</th><th></th><th></th><th></th><th></th><th>deg</th><th>deg</th><th></th></tr></thead>\n",
       "<thead><tr><th>object</th><th>str13</th><th>str13</th><th>int16</th><th>int16</th><th>float32</th><th>float32</th><th>int16</th><th>str1</th><th>str1</th><th>object</th><th>object</th><th>str1</th><th>object</th><th>object</th><th>float64</th><th>str1</th><th>str4</th><th>float64</th><th>float64</th><th>str8</th><th>str19</th><th>str1</th><th>float64</th><th>float32</th><th>str1</th><th>str1</th><th>object</th><th>object</th><th>float64</th><th>float64</th><th>int32</th></tr></thead>\n",
       "<tr><td>[GTK91b] 63</td><td>09 56 18.29</td><td>+68 49 41.4</td><td>6</td><td>6</td><td>--</td><td>--</td><td>0</td><td>D</td><td></td><td></td><td></td><td></td><td></td><td>GlCl?</td><td>--</td><td></td><td></td><td>--</td><td>--</td><td></td><td></td><td></td><td>--</td><td>--</td><td></td><td></td><td></td><td>Gl?</td><td>149.07621000</td><td>68.82817000</td><td>1</td></tr>\n",
       "<tr><td>NGC  6742</td><td>18 59 20.030</td><td>+48 27 55.24</td><td>7</td><td>7</td><td>--</td><td>--</td><td>0</td><td>D</td><td></td><td>2003A&amp;A...408.1029K</td><td>O(H)III-V</td><td>E</td><td>2018A&amp;A...614A.135W</td><td>PN</td><td>5091.0000</td><td></td><td>pc</td><td>--</td><td>--</td><td></td><td>2008ApJ...689..194S</td><td>v</td><td>-159.000</td><td>--</td><td>D</td><td></td><td></td><td>PN|*</td><td>284.83345800</td><td>48.46534400</td><td>33</td></tr>\n",
       "<tr><td>[VH2006] UGC  3647 A -006-018</td><td>07 04 49.3</td><td>+56 30 52</td><td>5</td><td>5</td><td>--</td><td>--</td><td>0</td><td>D</td><td>O</td><td>2006ApJ...636..214V</td><td></td><td></td><td></td><td>HII</td><td>--</td><td></td><td></td><td>--</td><td>--</td><td></td><td></td><td></td><td>--</td><td>--</td><td></td><td></td><td></td><td>HII|HII</td><td>106.20540000</td><td>56.51440000</td><td>2</td></tr>\n",
       "<tr><td>MCG+06-27-038</td><td>12 15 01.9</td><td>+35 57 55</td><td>5</td><td>5</td><td>--</td><td>--</td><td>0</td><td>D</td><td>O</td><td>2003A&amp;A...412...45P</td><td></td><td></td><td></td><td>Galaxy</td><td>--</td><td></td><td></td><td>--</td><td>--</td><td></td><td></td><td></td><td>--</td><td>--</td><td></td><td></td><td></td><td>G</td><td>183.75790000</td><td>35.96530000</td><td>4</td></tr>\n",
       "<tr><td>SDSSCGB 8257.1</td><td>12 25 35.6724</td><td>+33 31 19.578</td><td>14</td><td>14</td><td>0.830</td><td>0.537</td><td>90</td><td>A</td><td>O</td><td>2018yCat.1345....0G</td><td></td><td></td><td></td><td>Galaxy</td><td>--</td><td></td><td></td><td>--</td><td>--</td><td></td><td></td><td></td><td>--</td><td>--</td><td></td><td></td><td></td><td>*|G|GiG</td><td>186.39863534</td><td>33.52210506</td><td>1</td></tr>\n",
       "<tr><td>PN H  4-1</td><td>12 59 27.77</td><td>+27 38 10.5</td><td>6</td><td>6</td><td>210.000</td><td>210.000</td><td>90</td><td>C</td><td>I</td><td>2003yCat.2246....0C</td><td></td><td></td><td></td><td>PN</td><td>18050.0000</td><td></td><td>pc</td><td>--</td><td>--</td><td></td><td>2008ApJ...689..194S</td><td>v</td><td>-141.000</td><td>--</td><td>D</td><td></td><td></td><td>EmO|PN|*|Q?|EmG|Rad|IR|blu|UV|X</td><td>194.86571000</td><td>27.63625000</td><td>85</td></tr>\n",
       "<tr><td>LEDA 2448110</td><td>14 04 57.8</td><td>+53 41 28</td><td>5</td><td>5</td><td>--</td><td>--</td><td>0</td><td>D</td><td>O</td><td>2003A&amp;A...412...45P</td><td></td><td></td><td></td><td>Galaxy</td><td>--</td><td></td><td></td><td>--</td><td>--</td><td></td><td></td><td></td><td>--</td><td>--</td><td></td><td></td><td></td><td>G</td><td>211.24080000</td><td>53.69110000</td><td>2</td></tr>\n",
       "<tr><td>HGGK  101</td><td>14 02 25.3</td><td>+54 27 17</td><td>5</td><td>5</td><td>--</td><td>--</td><td>0</td><td>D</td><td></td><td></td><td></td><td></td><td></td><td>HII</td><td>--</td><td></td><td></td><td>--</td><td>--</td><td></td><td></td><td></td><td>--</td><td>--</td><td></td><td></td><td></td><td>HII</td><td>210.60540000</td><td>54.45470000</td><td>1</td></tr>\n",
       "<tr><td>HGGK 1216</td><td>14 04 10.9745</td><td>+54 25 21.314</td><td>14</td><td>14</td><td>0.928</td><td>0.888</td><td>90</td><td>A</td><td>O</td><td>2018yCat.1345....0G</td><td></td><td></td><td></td><td>HII</td><td>--</td><td></td><td></td><td>--</td><td>--</td><td></td><td></td><td>z</td><td>0.001</td><td>0.000</td><td>C</td><td></td><td>2009yCat.2294....0A</td><td>HII|HII|HII|*|PoG|GiG|UV</td><td>211.04572740</td><td>54.42258741</td><td>18</td></tr>\n",
       "<tr><td>...</td><td>...</td><td>...</td><td>...</td><td>...</td><td>...</td><td>...</td><td>...</td><td>...</td><td>...</td><td>...</td><td>...</td><td>...</td><td>...</td><td>...</td><td>...</td><td>...</td><td>...</td><td>...</td><td>...</td><td>...</td><td>...</td><td>...</td><td>...</td><td>...</td><td>...</td><td>...</td><td>...</td><td>...</td><td>...</td><td>...</td><td>...</td></tr>\n",
       "<tr><td>2MASS J12435666+3210138</td><td>12 43 56.663</td><td>+32 10 13.81</td><td>7</td><td>7</td><td>140.000</td><td>130.000</td><td>84</td><td>C</td><td>N</td><td>2003yCat.2246....0C</td><td></td><td></td><td></td><td>AGN</td><td>--</td><td></td><td></td><td>--</td><td>--</td><td></td><td></td><td>z</td><td>0.002</td><td>0.000</td><td>C</td><td>O</td><td>2011yCat.2306....0A</td><td>PoG|PoG|AGN|AGN|IR</td><td>190.98609500</td><td>32.17050200</td><td>3</td></tr>\n",
       "<tr><td>LEDA  101538</td><td>16 16 23.5440</td><td>+47 02 02.288</td><td>14</td><td>14</td><td>0.315</td><td>0.364</td><td>90</td><td>A</td><td>O</td><td>2018yCat.1345....0G</td><td></td><td></td><td></td><td>HII_G</td><td>--</td><td></td><td></td><td>--</td><td>--</td><td></td><td></td><td>z</td><td>0.002</td><td>0.000</td><td>C</td><td>O</td><td>2011yCat.2306....0A</td><td>HII|*|G|G|PoG|H2G</td><td>244.09810033</td><td>47.03396890</td><td>18</td></tr>\n",
       "<tr><td>HK IC 2574   1</td><td>10 29 21.1</td><td>+68 28 39</td><td>5</td><td>5</td><td>--</td><td>--</td><td>0</td><td>D</td><td></td><td></td><td></td><td></td><td></td><td>HII</td><td>--</td><td></td><td></td><td>--</td><td>--</td><td></td><td></td><td></td><td>--</td><td>--</td><td></td><td></td><td></td><td>HII</td><td>157.33790000</td><td>68.47750000</td><td>1</td></tr>\n",
       "<tr><td>[WKD98] B102503.1+684348</td><td>10 28 44.2</td><td>+68 28 27</td><td>5</td><td>5</td><td>--</td><td>--</td><td>0</td><td>D</td><td></td><td>1998ApJ...502L.143W</td><td></td><td></td><td></td><td>HII</td><td>--</td><td></td><td></td><td>--</td><td>--</td><td></td><td></td><td></td><td>--</td><td>--</td><td></td><td></td><td></td><td>HII|Rad</td><td>157.18420000</td><td>68.47420000</td><td>1</td></tr>\n",
       "<tr><td>[PMC2012] 13z</td><td>10 28 43.894</td><td>+68 28 26.17</td><td>7</td><td>7</td><td>--</td><td>--</td><td>0</td><td>D</td><td>O</td><td>2012AJ....144..182P</td><td></td><td></td><td></td><td>Assoc*</td><td>--</td><td></td><td></td><td>--</td><td>--</td><td></td><td></td><td></td><td>--</td><td>--</td><td></td><td></td><td></td><td>As*</td><td>157.18289200</td><td>68.47393600</td><td>2</td></tr>\n",
       "<tr><td>[MCR94]    I</td><td>10 28 44.4</td><td>+68 28 26</td><td>5</td><td>5</td><td>--</td><td>--</td><td>0</td><td>D</td><td></td><td></td><td></td><td></td><td></td><td>HII</td><td>--</td><td></td><td></td><td>--</td><td>--</td><td></td><td></td><td></td><td>--</td><td>--</td><td></td><td></td><td></td><td>HII</td><td>157.18500000</td><td>68.47390000</td><td>3</td></tr>\n",
       "<tr><td>[BHE2002] NGC  2366  1</td><td>07 28 43.23</td><td>+69 11 21.7</td><td>6</td><td>6</td><td>--</td><td>--</td><td>0</td><td>D</td><td></td><td>2002AJ....123.1454B</td><td></td><td></td><td></td><td>Cl*</td><td>--</td><td></td><td></td><td>--</td><td>--</td><td></td><td></td><td></td><td>--</td><td>--</td><td></td><td></td><td></td><td>Cl*</td><td>112.18013000</td><td>69.18936000</td><td>1</td></tr>\n",
       "<tr><td>NGC  2363A</td><td>07 28 42.8</td><td>+69 11 21</td><td>5</td><td>5</td><td>--</td><td>--</td><td>0</td><td>D</td><td></td><td>2006ApJS..164...81M</td><td></td><td></td><td></td><td>HII</td><td>5.3000</td><td></td><td>Mpc</td><td>--</td><td>--</td><td></td><td>2000ApJ...529..786M</td><td></td><td>--</td><td>--</td><td></td><td></td><td></td><td>HII|G</td><td>112.17830000</td><td>69.18920000</td><td>430</td></tr>\n",
       "<tr><td>MCG+08-19-016a</td><td>10 18 43.1</td><td>+46 03 01</td><td>5</td><td>5</td><td>3000.000</td><td>3000.000</td><td>90</td><td>D</td><td></td><td>1997NEDR....1....1P</td><td></td><td></td><td></td><td>PairG</td><td>--</td><td></td><td></td><td>--</td><td>--</td><td></td><td></td><td></td><td>--</td><td>--</td><td></td><td></td><td></td><td>PaG|IG|G</td><td>154.67960000</td><td>46.05030000</td><td>6</td></tr>\n",
       "<tr><td>LEDA 2790884</td><td>08 25 55.521</td><td>+35 32 31.96</td><td>7</td><td>7</td><td>7.000</td><td>7.000</td><td>90</td><td>C</td><td>O</td><td>2012ApJS..203...21A</td><td></td><td></td><td></td><td>BlueCompG</td><td>10.0000</td><td></td><td>Mpc</td><td>--</td><td>--</td><td></td><td>2007ApJS..173..185G</td><td>z</td><td>0.003</td><td>0.001</td><td>C</td><td>O</td><td>2009yCat.2294....0A</td><td>G|G|G|EmG|bCG</td><td>126.48133600</td><td>35.54221100</td><td>106</td></tr>\n",
       "</table>"
      ],
      "text/plain": [
       "<Table length=60>\n",
       "           MAIN_ID                  RA      ...    DEC_d     BIBLIST_1990_2020\n",
       "                                 \"h:m:s\"    ...     deg                       \n",
       "            object                str13     ...   float64          int32      \n",
       "----------------------------- ------------- ... ------------ -----------------\n",
       "                  [GTK91b] 63   09 56 18.29 ...  68.82817000                 1\n",
       "                    NGC  6742  18 59 20.030 ...  48.46534400                33\n",
       "[VH2006] UGC  3647 A -006-018    07 04 49.3 ...  56.51440000                 2\n",
       "                MCG+06-27-038    12 15 01.9 ...  35.96530000                 4\n",
       "               SDSSCGB 8257.1 12 25 35.6724 ...  33.52210506                 1\n",
       "                    PN H  4-1   12 59 27.77 ...  27.63625000                85\n",
       "                 LEDA 2448110    14 04 57.8 ...  53.69110000                 2\n",
       "                    HGGK  101    14 02 25.3 ...  54.45470000                 1\n",
       "                    HGGK 1216 14 04 10.9745 ...  54.42258741                18\n",
       "                          ...           ... ...          ...               ...\n",
       "      2MASS J12435666+3210138  12 43 56.663 ...  32.17050200                 3\n",
       "                 LEDA  101538 16 16 23.5440 ...  47.03396890                18\n",
       "               HK IC 2574   1    10 29 21.1 ...  68.47750000                 1\n",
       "     [WKD98] B102503.1+684348    10 28 44.2 ...  68.47420000                 1\n",
       "                [PMC2012] 13z  10 28 43.894 ...  68.47393600                 2\n",
       "                 [MCR94]    I    10 28 44.4 ...  68.47390000                 3\n",
       "       [BHE2002] NGC  2366  1   07 28 43.23 ...  69.18936000                 1\n",
       "                   NGC  2363A    07 28 42.8 ...  69.18920000               430\n",
       "               MCG+08-19-016a    10 18 43.1 ...  46.05030000                 6\n",
       "                 LEDA 2790884  08 25 55.521 ...  35.54221100               106"
      ]
     },
     "execution_count": 17,
     "metadata": {},
     "output_type": "execute_result"
    }
   ],
   "source": [
    "result_table1 = customSimbad.query_region(coord.SkyCoord(tab1[\"RA\"], tab1[\"Dec\"], \n",
    "                                                 unit=(u.deg, u.deg)), radius = 2.0 * u.arcsec) \n",
    "result_table1"
   ]
  },
  {
   "cell_type": "code",
   "execution_count": 18,
   "metadata": {},
   "outputs": [
    {
     "name": "stderr",
     "output_type": "stream",
     "text": [
      "WARNING: AstropyDeprecationWarning: ../JPLUS-DR2/aper6_mag_idr/Simbad-PN-pc-Halpha_emitters_threeerror-cleaning-limfilter-limcolor-flags-mask-broad-prob.dat already exists. Automatically overwriting ASCII files is deprecated. Use the argument 'overwrite=True' in the future. [astropy.io.ascii.ui]\n"
     ]
    }
   ],
   "source": [
    "# Save the table result Simbad\n",
    "asciifile11 = \"../JPLUS-DR2/aper6_mag_idr/Simbad-PN-pc-Halpha_emitters_threeerror-cleaning-limfilter-limcolor-flags-mask-broad-prob.dat\" \n",
    "result_table1.write(asciifile11, format=\"ascii\")  "
   ]
  },
  {
   "cell_type": "code",
   "execution_count": 19,
   "metadata": {},
   "outputs": [
    {
     "name": "stderr",
     "output_type": "stream",
     "text": [
      "WARNING: MergeConflictWarning: Cannot merge meta key 'null' types <class 'float'> and <class 'float'>, choosing null=nan [astropy.utils.metadata]\n"
     ]
    }
   ],
   "source": [
    "# Looking for the objects of tab in 2MASS through ViZier\n",
    "result_vizier_2mass1 = Vizier.query_region(coord.SkyCoord(ra=tab1[\"RA\"], dec=tab1[\"Dec\"],\n",
    "                                                        unit=(u.deg, u.deg),\n",
    "                                                                       frame='icrs'),\n",
    "                                                                           radius=4.0*u.arcsec,\n",
    "                                                                              catalog=[\"2MASS\"])"
   ]
  },
  {
   "cell_type": "code",
   "execution_count": 20,
   "metadata": {},
   "outputs": [
    {
     "data": {
      "text/plain": [
       "TableList with 2 tables:\n",
       "\t'0:II/246/out' with 16 column(s) and 8 row(s) \n",
       "\t'1:VII/233/xsc' with 14 column(s) and 2 row(s) "
      ]
     },
     "execution_count": 20,
     "metadata": {},
     "output_type": "execute_result"
    }
   ],
   "source": [
    "result_vizier_2mass1"
   ]
  },
  {
   "cell_type": "code",
   "execution_count": 21,
   "metadata": {},
   "outputs": [
    {
     "name": "stderr",
     "output_type": "stream",
     "text": [
      "WARNING: AstropyDeprecationWarning: ../JPLUS-DR2/aper6_mag_idr/2MASS-PN-pc-Halpha_emitters_threeerror-cleaning-limfilter-limcolor-flags-mask-broad-prob.dat already exists. Automatically overwriting ASCII files is deprecated. Use the argument 'overwrite=True' in the future. [astropy.io.ascii.ui]\n"
     ]
    }
   ],
   "source": [
    "# Save the table result 2MASS\n",
    "asciifile22 = \"../JPLUS-DR2/aper6_mag_idr/2MASS-PN-pc-Halpha_emitters_threeerror-cleaning-limfilter-limcolor-flags-mask-broad-prob.dat\" \n",
    "result_vizier_2mass1['II/246/out'].write(asciifile22, format=\"ascii\")  "
   ]
  },
  {
   "cell_type": "code",
   "execution_count": 22,
   "metadata": {},
   "outputs": [],
   "source": [
    "#Looking for the objects of tab in WISE through ViZier\n",
    "result_vizier_wise1 = Vizier.query_region(coord.SkyCoord(ra=tab1[\"RA\"], dec=tab1[\"Dec\"],\n",
    "                                                        unit=(u.deg, u.deg),\n",
    "                                                                       frame='icrs'),\n",
    "                                                                           radius=4.0*u.arcsec,\n",
    "                                                                              catalog=[\"allwise\"])"
   ]
  },
  {
   "cell_type": "code",
   "execution_count": 23,
   "metadata": {},
   "outputs": [
    {
     "data": {
      "text/plain": [
       "TableList with 1 tables:\n",
       "\t'0:II/328/allwise' with 29 column(s) and 39 row(s) "
      ]
     },
     "execution_count": 23,
     "metadata": {},
     "output_type": "execute_result"
    }
   ],
   "source": [
    "result_vizier_wise1"
   ]
  },
  {
   "cell_type": "code",
   "execution_count": 24,
   "metadata": {},
   "outputs": [
    {
     "name": "stderr",
     "output_type": "stream",
     "text": [
      "WARNING: AstropyDeprecationWarning: ../JPLUS-DR2/aper6_mag_idr/WISE-PN-pc-Halpha_emitters_threeerror-cleaning-limfilter-limcolor-flags-mask-broad-prob.dat already exists. Automatically overwriting ASCII files is deprecated. Use the argument 'overwrite=True' in the future. [astropy.io.ascii.ui]\n"
     ]
    }
   ],
   "source": [
    "# Save the table result WISE\n",
    "asciifile33 = \"../JPLUS-DR2/aper6_mag_idr/WISE-PN-pc-Halpha_emitters_threeerror-cleaning-limfilter-limcolor-flags-mask-broad-prob.dat\" \n",
    "result_vizier_wise1['II/328/allwise'].write(asciifile33, format=\"ascii\")  "
   ]
  },
  {
   "cell_type": "code",
   "execution_count": 25,
   "metadata": {},
   "outputs": [
    {
     "data": {
      "text/plain": [
       "<Table length=42>\n",
       "         name           dtype \n",
       "---------------------- -------\n",
       "                  Tile   int64\n",
       "                Number   int64\n",
       "                    RA float64\n",
       "                   Dec float64\n",
       "            rSDSS_auto float64\n",
       "            gSDSS_auto float64\n",
       "            iSDSS_auto float64\n",
       "            zSDSS_auto float64\n",
       "            uJAVA_auto float64\n",
       "            J0378_auto float64\n",
       "            J0395_auto float64\n",
       "            J0410_auto float64\n",
       "            J0430_auto float64\n",
       "            J0515_auto float64\n",
       "            J0660_auto float64\n",
       "            J0861_auto float64\n",
       "           rSDSS_PETRO float64\n",
       "           gSDSS_PETRO float64\n",
       "           iSDSS_PETRO float64\n",
       "           zSDSS_PETRO float64\n",
       "           uJAVA_PETRO float64\n",
       "           J0378_PETRO float64\n",
       "           J0395_PETRO float64\n",
       "           J0410_PETRO float64\n",
       "           J0430_PETRO float64\n",
       "           J0515_PETRO float64\n",
       "           J0660_PETRO float64\n",
       "           J0861_PETRO float64\n",
       "    rSDSS_MAG_APER_6_0 float64\n",
       "    gSDSS_MAG_APER_6_0 float64\n",
       "    iSDSS_MAG_APER_6_0 float64\n",
       "    zSDSS_MAG_APER_6_0 float64\n",
       "    uJAVA_MAG_APER_6_0 float64\n",
       "    J0378_MAG_APER_6_0 float64\n",
       "    J0395_MAG_APER_6_0 float64\n",
       "    J0410_MAG_APER_6_0 float64\n",
       "    J0430_MAG_APER_6_0 float64\n",
       "    J0515_MAG_APER_6_0 float64\n",
       "    J0660_MAG_APER_6_0 float64\n",
       "    J0861_MAG_APER_6_0 float64\n",
       "        rSDSS_auto_err float64\n",
       "        gSDSS_auto_err float64\n",
       "        iSDSS_auto_err float64\n",
       "        zSDSS_auto_err float64\n",
       "        uJAVA_auto_err float64\n",
       "        J0378_auto_err float64\n",
       "        J0395_auto_err float64\n",
       "        J0410_auto_err float64\n",
       "        J0430_auto_err float64\n",
       "        J0515_auto_err float64\n",
       "        J0660_auto_err float64\n",
       "        J0861_auto_err float64\n",
       "       rSDSS_PETRO_err float64\n",
       "       gSDSS_PETRO_err float64\n",
       "       iSDSS_PETRO_err float64\n",
       "       zSDSS_PETRO_err float64\n",
       "       uJAVA_PETRO_err float64\n",
       "       J0378_PETRO_err float64\n",
       "       J0395_PETRO_err float64\n",
       "       J0410_PETRO_err float64\n",
       "       J0430_PETRO_err float64\n",
       "       J0515_PETRO_err float64\n",
       "       J0660_PETRO_err float64\n",
       "       J0861_PETRO_err float64\n",
       "rSDSS_MAG_APER_6_0_err float64\n",
       "gSDSS_MAG_APER_6_0_err float64\n",
       "iSDSS_MAG_APER_6_0_err float64\n",
       "zSDSS_MAG_APER_6_0_err float64\n",
       "uJAVA_MAG_APER_6_0_err float64\n",
       "J0378_MAG_APER_6_0_err float64\n",
       "J0395_MAG_APER_6_0_err float64\n",
       "J0410_MAG_APER_6_0_err float64\n",
       "J0430_MAG_APER_6_0_err float64\n",
       "J0515_MAG_APER_6_0_err float64\n",
       "J0660_MAG_APER_6_0_err float64\n",
       "J0861_MAG_APER_6_0_err float64\n",
       "           rSDSS_FLAGS   int64\n",
       "           gSDSS_FLAGS   int64\n",
       "           iSDSS_FLAGS   int64\n",
       "           zSDSS_FLAGS   int64\n",
       "           uJAVA_FLAGS   int64\n",
       "           J0378_FLAGS   int64\n",
       "           J0395_FLAGS   int64\n",
       "           J0410_FLAGS   int64\n",
       "           J0430_FLAGS   int64\n",
       "           J0515_FLAGS   int64\n",
       "           J0660_FLAGS   int64\n",
       "           J0861_FLAGS   int64\n",
       "      rSDSS_MASK_FLAGS   int64\n",
       "      gSDSS_MASK_FLAGS   int64\n",
       "      iSDSS_MASK_FLAGS   int64\n",
       "      zSDSS_MASK_FLAGS   int64\n",
       "      uJAVA_MASK_FLAGS   int64\n",
       "      J0378_MASK_FLAGS   int64\n",
       "      J0395_MASK_FLAGS   int64\n",
       "      J0410_MASK_FLAGS   int64\n",
       "      J0430_MASK_FLAGS   int64\n",
       "      J0515_MASK_FLAGS   int64\n",
       "      J0660_MASK_FLAGS   int64\n",
       "      J0861_MASK_FLAGS   int64\n",
       "                 P(PN) float64\n",
       "               P(SySt) float64\n",
       "           P(all else) float64"
      ]
     },
     "execution_count": 25,
     "metadata": {},
     "output_type": "execute_result"
    }
   ],
   "source": [
    "# Read the table\n",
    "tab2 = Table.read(\"../JPLUS-DR2/aper6_mag_idr/SySt-pc-Halpha_emitters_threeerror-cleaning-limfilter-limcolor-flags-mask-broad-prob.tab\", format=\"ascii.tab\")\n",
    "tab2.info"
   ]
  },
  {
   "cell_type": "code",
   "execution_count": 26,
   "metadata": {},
   "outputs": [
    {
     "data": {
      "text/html": [
       "<i>Table length=42</i>\n",
       "<table id=\"table139977246290640\" class=\"table-striped table-bordered table-condensed\">\n",
       "<thead><tr><th>Tile</th><th>Number</th><th>RA</th><th>Dec</th><th>rSDSS_auto</th><th>gSDSS_auto</th><th>iSDSS_auto</th><th>zSDSS_auto</th><th>uJAVA_auto</th><th>J0378_auto</th><th>J0395_auto</th><th>J0410_auto</th><th>J0430_auto</th><th>J0515_auto</th><th>J0660_auto</th><th>J0861_auto</th><th>rSDSS_PETRO</th><th>gSDSS_PETRO</th><th>iSDSS_PETRO</th><th>zSDSS_PETRO</th><th>uJAVA_PETRO</th><th>J0378_PETRO</th><th>J0395_PETRO</th><th>J0410_PETRO</th><th>J0430_PETRO</th><th>J0515_PETRO</th><th>J0660_PETRO</th><th>J0861_PETRO</th><th>rSDSS_MAG_APER_6_0</th><th>gSDSS_MAG_APER_6_0</th><th>iSDSS_MAG_APER_6_0</th><th>zSDSS_MAG_APER_6_0</th><th>uJAVA_MAG_APER_6_0</th><th>J0378_MAG_APER_6_0</th><th>J0395_MAG_APER_6_0</th><th>J0410_MAG_APER_6_0</th><th>J0430_MAG_APER_6_0</th><th>J0515_MAG_APER_6_0</th><th>J0660_MAG_APER_6_0</th><th>J0861_MAG_APER_6_0</th><th>rSDSS_auto_err</th><th>gSDSS_auto_err</th><th>iSDSS_auto_err</th><th>zSDSS_auto_err</th><th>uJAVA_auto_err</th><th>J0378_auto_err</th><th>J0395_auto_err</th><th>J0410_auto_err</th><th>J0430_auto_err</th><th>J0515_auto_err</th><th>J0660_auto_err</th><th>J0861_auto_err</th><th>rSDSS_PETRO_err</th><th>gSDSS_PETRO_err</th><th>iSDSS_PETRO_err</th><th>zSDSS_PETRO_err</th><th>uJAVA_PETRO_err</th><th>J0378_PETRO_err</th><th>J0395_PETRO_err</th><th>J0410_PETRO_err</th><th>J0430_PETRO_err</th><th>J0515_PETRO_err</th><th>J0660_PETRO_err</th><th>J0861_PETRO_err</th><th>rSDSS_MAG_APER_6_0_err</th><th>gSDSS_MAG_APER_6_0_err</th><th>iSDSS_MAG_APER_6_0_err</th><th>zSDSS_MAG_APER_6_0_err</th><th>uJAVA_MAG_APER_6_0_err</th><th>J0378_MAG_APER_6_0_err</th><th>J0395_MAG_APER_6_0_err</th><th>J0410_MAG_APER_6_0_err</th><th>J0430_MAG_APER_6_0_err</th><th>J0515_MAG_APER_6_0_err</th><th>J0660_MAG_APER_6_0_err</th><th>J0861_MAG_APER_6_0_err</th><th>rSDSS_FLAGS</th><th>gSDSS_FLAGS</th><th>iSDSS_FLAGS</th><th>zSDSS_FLAGS</th><th>uJAVA_FLAGS</th><th>J0378_FLAGS</th><th>J0395_FLAGS</th><th>J0410_FLAGS</th><th>J0430_FLAGS</th><th>J0515_FLAGS</th><th>J0660_FLAGS</th><th>J0861_FLAGS</th><th>rSDSS_MASK_FLAGS</th><th>gSDSS_MASK_FLAGS</th><th>iSDSS_MASK_FLAGS</th><th>zSDSS_MASK_FLAGS</th><th>uJAVA_MASK_FLAGS</th><th>J0378_MASK_FLAGS</th><th>J0395_MASK_FLAGS</th><th>J0410_MASK_FLAGS</th><th>J0430_MASK_FLAGS</th><th>J0515_MASK_FLAGS</th><th>J0660_MASK_FLAGS</th><th>J0861_MASK_FLAGS</th><th>P(PN)</th><th>P(SySt)</th><th>P(all else)</th></tr></thead>\n",
       "<thead><tr><th>int64</th><th>int64</th><th>float64</th><th>float64</th><th>float64</th><th>float64</th><th>float64</th><th>float64</th><th>float64</th><th>float64</th><th>float64</th><th>float64</th><th>float64</th><th>float64</th><th>float64</th><th>float64</th><th>float64</th><th>float64</th><th>float64</th><th>float64</th><th>float64</th><th>float64</th><th>float64</th><th>float64</th><th>float64</th><th>float64</th><th>float64</th><th>float64</th><th>float64</th><th>float64</th><th>float64</th><th>float64</th><th>float64</th><th>float64</th><th>float64</th><th>float64</th><th>float64</th><th>float64</th><th>float64</th><th>float64</th><th>float64</th><th>float64</th><th>float64</th><th>float64</th><th>float64</th><th>float64</th><th>float64</th><th>float64</th><th>float64</th><th>float64</th><th>float64</th><th>float64</th><th>float64</th><th>float64</th><th>float64</th><th>float64</th><th>float64</th><th>float64</th><th>float64</th><th>float64</th><th>float64</th><th>float64</th><th>float64</th><th>float64</th><th>float64</th><th>float64</th><th>float64</th><th>float64</th><th>float64</th><th>float64</th><th>float64</th><th>float64</th><th>float64</th><th>float64</th><th>float64</th><th>float64</th><th>int64</th><th>int64</th><th>int64</th><th>int64</th><th>int64</th><th>int64</th><th>int64</th><th>int64</th><th>int64</th><th>int64</th><th>int64</th><th>int64</th><th>int64</th><th>int64</th><th>int64</th><th>int64</th><th>int64</th><th>int64</th><th>int64</th><th>int64</th><th>int64</th><th>int64</th><th>int64</th><th>int64</th><th>float64</th><th>float64</th><th>float64</th></tr></thead>\n",
       "<tr><td>74839</td><td>4782</td><td>0.779165135739</td><td>34.7929108294</td><td>12.484</td><td>11.834</td><td>15.049</td><td>9.143</td><td>15.337</td><td>14.86</td><td>14.609</td><td>13.321</td><td>12.695</td><td>11.204</td><td>10.158</td><td>9.091</td><td>12.442</td><td>11.826</td><td>14.458</td><td>9.132</td><td>15.355</td><td>14.86</td><td>14.613</td><td>13.315</td><td>12.69</td><td>11.196</td><td>10.149</td><td>9.081</td><td>14.383</td><td>15.575</td><td>15.477</td><td>12.259</td><td>19.329</td><td>18.73</td><td>18.876</td><td>17.111</td><td>16.65</td><td>14.936</td><td>14.01</td><td>12.701</td><td>0.001</td><td>0.0</td><td>0.005</td><td>0.0</td><td>0.011</td><td>0.008</td><td>0.006</td><td>0.002</td><td>0.001</td><td>0.001</td><td>0.0</td><td>0.0</td><td>0.001</td><td>0.0</td><td>0.004</td><td>0.0</td><td>0.013</td><td>0.008</td><td>0.007</td><td>0.002</td><td>0.001</td><td>0.001</td><td>0.0</td><td>0.0</td><td>0.003</td><td>0.003</td><td>0.005</td><td>0.001</td><td>0.148</td><td>0.09</td><td>0.1</td><td>0.02</td><td>0.014</td><td>0.005</td><td>0.003</td><td>0.002</td><td>3</td><td>3</td><td>3</td><td>3</td><td>3</td><td>3</td><td>3</td><td>3</td><td>3</td><td>3</td><td>3</td><td>3</td><td>0</td><td>0</td><td>0</td><td>0</td><td>0</td><td>0</td><td>0</td><td>0</td><td>0</td><td>0</td><td>0</td><td>0</td><td>4.146649931261536e-09</td><td>0.9845383465113062</td><td>0.015461649342043911</td></tr>\n",
       "<tr><td>70455</td><td>14182</td><td>148.956265718</td><td>69.6785011324</td><td>8.171</td><td>9.002</td><td>7.797</td><td>7.461</td><td>10.594</td><td>10.173</td><td>9.955</td><td>9.551</td><td>9.417</td><td>8.842</td><td>7.774</td><td>7.587</td><td>8.134</td><td>8.958</td><td>7.765</td><td>7.436</td><td>10.487</td><td>10.089</td><td>9.885</td><td>9.492</td><td>9.364</td><td>8.796</td><td>7.737</td><td>7.559</td><td>14.446</td><td>15.659</td><td>13.974</td><td>13.403</td><td>17.373</td><td>16.931</td><td>16.667</td><td>16.298</td><td>16.08</td><td>15.474</td><td>13.443</td><td>13.653</td><td>0.0</td><td>0.001</td><td>0.0</td><td>0.0</td><td>0.005</td><td>0.004</td><td>0.003</td><td>0.002</td><td>0.001</td><td>0.001</td><td>0.0</td><td>0.001</td><td>0.001</td><td>0.001</td><td>0.001</td><td>0.001</td><td>0.007</td><td>0.006</td><td>0.005</td><td>0.003</td><td>0.002</td><td>0.001</td><td>0.001</td><td>0.001</td><td>0.002</td><td>0.005</td><td>0.002</td><td>0.002</td><td>0.034</td><td>0.026</td><td>0.022</td><td>0.014</td><td>0.011</td><td>0.008</td><td>0.003</td><td>0.003</td><td>3</td><td>3</td><td>3</td><td>3</td><td>3</td><td>3</td><td>3</td><td>3</td><td>3</td><td>3</td><td>3</td><td>3</td><td>0</td><td>0</td><td>0</td><td>0</td><td>0</td><td>0</td><td>0</td><td>0</td><td>0</td><td>0</td><td>0</td><td>0</td><td>8.26060506860505e-06</td><td>0.9813053793043722</td><td>0.018686360090559306</td></tr>\n",
       "<tr><td>67905</td><td>24948</td><td>284.827596793</td><td>48.4656137059</td><td>15.598</td><td>15.331</td><td>15.96</td><td>15.925</td><td>16.287</td><td>15.797</td><td>16.703</td><td>16.82</td><td>16.515</td><td>16.544</td><td>13.978</td><td>15.98</td><td>15.598</td><td>15.331</td><td>15.96</td><td>15.925</td><td>16.287</td><td>15.797</td><td>16.703</td><td>16.82</td><td>16.515</td><td>16.544</td><td>13.978</td><td>15.98</td><td>16.243</td><td>16.458</td><td>16.204</td><td>16.175</td><td>17.562</td><td>17.271</td><td>17.609</td><td>17.291</td><td>17.14</td><td>16.752</td><td>15.431</td><td>16.197</td><td>0.007</td><td>0.007</td><td>0.012</td><td>0.025</td><td>0.035</td><td>0.025</td><td>0.054</td><td>0.044</td><td>0.031</td><td>0.031</td><td>0.004</td><td>0.029</td><td>0.007</td><td>0.007</td><td>0.012</td><td>0.025</td><td>0.035</td><td>0.025</td><td>0.054</td><td>0.044</td><td>0.031</td><td>0.031</td><td>0.004</td><td>0.029</td><td>0.006</td><td>0.009</td><td>0.006</td><td>0.01</td><td>0.039</td><td>0.034</td><td>0.044</td><td>0.026</td><td>0.022</td><td>0.016</td><td>0.007</td><td>0.013</td><td>3</td><td>3</td><td>3</td><td>3</td><td>3</td><td>3</td><td>3</td><td>3</td><td>3</td><td>3</td><td>3</td><td>3</td><td>0</td><td>0</td><td>0</td><td>0</td><td>0</td><td>0</td><td>0</td><td>0</td><td>0</td><td>0</td><td>0</td><td>0</td><td>0.008944085953018549</td><td>0.8370492930671047</td><td>0.15400662097987672</td></tr>\n",
       "<tr><td>69256</td><td>3465</td><td>132.904726505</td><td>57.1248416318</td><td>17.482</td><td>17.177</td><td>17.206</td><td>16.654</td><td>19.328</td><td>17.864</td><td>17.822</td><td>17.947</td><td>19.43</td><td>17.664</td><td>16.698</td><td>18.408</td><td>17.438</td><td>17.069</td><td>17.091</td><td>16.574</td><td>19.107</td><td>17.727</td><td>17.763</td><td>18.02</td><td>19.177</td><td>17.537</td><td>16.592</td><td>18.03</td><td>17.6</td><td>17.605</td><td>17.968</td><td>16.992</td><td>19.419</td><td>18.276</td><td>18.128</td><td>17.903</td><td>19.301</td><td>17.784</td><td>17.056</td><td>18.372</td><td>0.042</td><td>0.036</td><td>0.038</td><td>0.031</td><td>0.208</td><td>0.059</td><td>0.084</td><td>0.132</td><td>0.499</td><td>0.088</td><td>0.015</td><td>0.174</td><td>0.049</td><td>0.04</td><td>0.042</td><td>0.035</td><td>0.21</td><td>0.066</td><td>0.098</td><td>0.171</td><td>0.478</td><td>0.094</td><td>0.017</td><td>0.152</td><td>0.03</td><td>0.032</td><td>0.046</td><td>0.025</td><td>0.139</td><td>0.049</td><td>0.068</td><td>0.078</td><td>0.27</td><td>0.061</td><td>0.013</td><td>0.099</td><td>1</td><td>1</td><td>1</td><td>1</td><td>1</td><td>1</td><td>1</td><td>1</td><td>1</td><td>1</td><td>1</td><td>1</td><td>0</td><td>0</td><td>0</td><td>0</td><td>0</td><td>0</td><td>0</td><td>0</td><td>0</td><td>0</td><td>0</td><td>0</td><td>0.05049492749913388</td><td>0.8419562456210409</td><td>0.10754882687982527</td></tr>\n",
       "<tr><td>69256</td><td>9132</td><td>134.999843655</td><td>56.3388068315</td><td>16.084</td><td>15.079</td><td>14.424</td><td>14.004</td><td>18.401</td><td>17.256</td><td>16.744</td><td>16.691</td><td>17.625</td><td>16.246</td><td>14.658</td><td>16.671</td><td>16.094</td><td>15.082</td><td>14.427</td><td>14.007</td><td>18.374</td><td>17.264</td><td>16.731</td><td>16.69</td><td>17.599</td><td>16.254</td><td>14.66</td><td>16.678</td><td>17.365</td><td>16.199</td><td>16.019</td><td>15.142</td><td>19.25</td><td>18.681</td><td>17.919</td><td>19.869</td><td>17.889</td><td>18.38</td><td>16.412</td><td>17.034</td><td>0.019</td><td>0.01</td><td>0.005</td><td>0.005</td><td>0.124</td><td>0.06</td><td>0.056</td><td>0.069</td><td>0.147</td><td>0.039</td><td>0.004</td><td>0.059</td><td>0.019</td><td>0.009</td><td>0.005</td><td>0.005</td><td>0.119</td><td>0.059</td><td>0.054</td><td>0.067</td><td>0.141</td><td>0.039</td><td>0.004</td><td>0.059</td><td>0.024</td><td>0.012</td><td>0.008</td><td>0.006</td><td>0.103</td><td>0.094</td><td>0.066</td><td>0.474</td><td>0.079</td><td>0.105</td><td>0.008</td><td>0.032</td><td>1</td><td>1</td><td>1</td><td>1</td><td>1</td><td>1</td><td>1</td><td>1</td><td>1</td><td>1</td><td>1</td><td>1</td><td>0</td><td>0</td><td>0</td><td>0</td><td>0</td><td>0</td><td>0</td><td>0</td><td>0</td><td>0</td><td>0</td><td>0</td><td>0.0003556356585633632</td><td>0.9989386806048065</td><td>0.0007056837366301494</td></tr>\n",
       "<tr><td>74576</td><td>41319</td><td>330.426069664</td><td>34.1432281781</td><td>17.308</td><td>17.94</td><td>17.064</td><td>16.972</td><td>19.505</td><td>19.519</td><td>19.239</td><td>18.585</td><td>18.404</td><td>17.876</td><td>16.546</td><td>17.001</td><td>17.308</td><td>17.94</td><td>17.064</td><td>16.972</td><td>19.505</td><td>19.519</td><td>19.239</td><td>18.585</td><td>18.404</td><td>17.876</td><td>16.546</td><td>17.001</td><td>17.328</td><td>17.972</td><td>17.105</td><td>16.988</td><td>19.659</td><td>19.353</td><td>19.218</td><td>18.542</td><td>18.394</td><td>17.905</td><td>16.558</td><td>17.019</td><td>0.009</td><td>0.015</td><td>0.022</td><td>0.01</td><td>0.184</td><td>0.216</td><td>0.164</td><td>0.088</td><td>0.07</td><td>0.045</td><td>0.015</td><td>0.013</td><td>0.009</td><td>0.015</td><td>0.022</td><td>0.01</td><td>0.184</td><td>0.216</td><td>0.164</td><td>0.088</td><td>0.07</td><td>0.045</td><td>0.015</td><td>0.013</td><td>0.008</td><td>0.014</td><td>0.02</td><td>0.009</td><td>0.183</td><td>0.16</td><td>0.14</td><td>0.074</td><td>0.061</td><td>0.041</td><td>0.014</td><td>0.012</td><td>3</td><td>3</td><td>3</td><td>3</td><td>3</td><td>3</td><td>3</td><td>3</td><td>3</td><td>3</td><td>3</td><td>3</td><td>0</td><td>0</td><td>0</td><td>0</td><td>0</td><td>0</td><td>0</td><td>0</td><td>0</td><td>0</td><td>0</td><td>0</td><td>0.0001744303959368377</td><td>0.8122860697322621</td><td>0.18753949987180085</td></tr>\n",
       "<tr><td>63045</td><td>37642</td><td>277.096568252</td><td>30.4218513339</td><td>16.14</td><td>16.962</td><td>17.986</td><td>15.715</td><td>19.831</td><td>19.133</td><td>18.651</td><td>17.923</td><td>17.556</td><td>16.811</td><td>16.041</td><td>15.729</td><td>16.14</td><td>16.962</td><td>17.986</td><td>15.715</td><td>19.831</td><td>19.133</td><td>18.651</td><td>17.923</td><td>17.556</td><td>16.811</td><td>16.041</td><td>15.729</td><td>16.198</td><td>17.023</td><td>18.387</td><td>15.787</td><td>19.44</td><td>19.127</td><td>18.881</td><td>17.979</td><td>17.632</td><td>16.875</td><td>16.106</td><td>15.8</td><td>0.006</td><td>0.011</td><td>0.072</td><td>0.005</td><td>0.298</td><td>0.193</td><td>0.126</td><td>0.06</td><td>0.041</td><td>0.023</td><td>0.011</td><td>0.005</td><td>0.006</td><td>0.011</td><td>0.072</td><td>0.005</td><td>0.298</td><td>0.193</td><td>0.126</td><td>0.06</td><td>0.041</td><td>0.023</td><td>0.011</td><td>0.005</td><td>0.005</td><td>0.009</td><td>0.065</td><td>0.004</td><td>0.145</td><td>0.133</td><td>0.108</td><td>0.047</td><td>0.033</td><td>0.02</td><td>0.01</td><td>0.004</td><td>3</td><td>3</td><td>3</td><td>3</td><td>3</td><td>3</td><td>3</td><td>3</td><td>3</td><td>3</td><td>3</td><td>3</td><td>0</td><td>0</td><td>0</td><td>0</td><td>0</td><td>0</td><td>0</td><td>0</td><td>0</td><td>0</td><td>0</td><td>0</td><td>0.0002375801546598133</td><td>0.9308607970986928</td><td>0.06890162274664734</td></tr>\n",
       "<tr><td>74312</td><td>19640</td><td>37.0604344193</td><td>31.3113086447</td><td>12.514</td><td>13.309</td><td>12.113</td><td>11.784</td><td>14.701</td><td>14.38</td><td>14.318</td><td>13.919</td><td>13.78</td><td>13.063</td><td>12.223</td><td>11.886</td><td>12.434</td><td>13.203</td><td>12.038</td><td>11.705</td><td>14.592</td><td>14.221</td><td>14.218</td><td>13.75</td><td>13.678</td><td>12.945</td><td>12.159</td><td>11.82</td><td>14.314</td><td>15.188</td><td>14.022</td><td>13.71</td><td>16.289</td><td>16.047</td><td>16.051</td><td>15.851</td><td>15.709</td><td>14.937</td><td>13.709</td><td>13.741</td><td>0.002</td><td>0.005</td><td>0.002</td><td>0.003</td><td>0.031</td><td>0.024</td><td>0.022</td><td>0.014</td><td>0.012</td><td>0.006</td><td>0.003</td><td>0.004</td><td>0.004</td><td>0.007</td><td>0.004</td><td>0.005</td><td>0.043</td><td>0.032</td><td>0.029</td><td>0.019</td><td>0.017</td><td>0.009</td><td>0.005</td><td>0.006</td><td>0.002</td><td>0.004</td><td>0.002</td><td>0.002</td><td>0.014</td><td>0.012</td><td>0.013</td><td>0.01</td><td>0.008</td><td>0.005</td><td>0.003</td><td>0.003</td><td>2</td><td>2</td><td>2</td><td>2</td><td>2</td><td>2</td><td>2</td><td>2</td><td>2</td><td>2</td><td>2</td><td>2</td><td>0</td><td>0</td><td>0</td><td>0</td><td>0</td><td>0</td><td>0</td><td>0</td><td>0</td><td>0</td><td>0</td><td>0</td><td>8.548658611192771e-05</td><td>0.7851682676088192</td><td>0.21474624580506896</td></tr>\n",
       "<tr><td>70704</td><td>14832</td><td>258.48025248</td><td>72.2005124236</td><td>17.082</td><td>17.858</td><td>16.804</td><td>16.712</td><td>19.719</td><td>19.998</td><td>19.556</td><td>18.624</td><td>18.402</td><td>17.706</td><td>16.354</td><td>16.718</td><td>17.082</td><td>17.858</td><td>16.804</td><td>16.712</td><td>19.719</td><td>19.998</td><td>19.556</td><td>18.624</td><td>18.402</td><td>17.706</td><td>16.354</td><td>16.718</td><td>17.104</td><td>17.884</td><td>16.824</td><td>16.742</td><td>19.808</td><td>20.04</td><td>19.476</td><td>18.578</td><td>18.426</td><td>17.727</td><td>16.475</td><td>16.741</td><td>0.01</td><td>0.019</td><td>0.009</td><td>0.018</td><td>0.215</td><td>0.286</td><td>0.194</td><td>0.08</td><td>0.053</td><td>0.029</td><td>0.011</td><td>0.022</td><td>0.01</td><td>0.019</td><td>0.009</td><td>0.018</td><td>0.215</td><td>0.286</td><td>0.194</td><td>0.08</td><td>0.053</td><td>0.029</td><td>0.011</td><td>0.022</td><td>0.009</td><td>0.018</td><td>0.008</td><td>0.016</td><td>0.2</td><td>0.255</td><td>0.155</td><td>0.065</td><td>0.048</td><td>0.027</td><td>0.012</td><td>0.02</td><td>0</td><td>0</td><td>0</td><td>0</td><td>0</td><td>0</td><td>0</td><td>0</td><td>0</td><td>0</td><td>0</td><td>0</td><td>0</td><td>0</td><td>0</td><td>0</td><td>0</td><td>0</td><td>0</td><td>0</td><td>0</td><td>0</td><td>0</td><td>0</td><td>1.653633048601671e-05</td><td>0.7542186852885152</td><td>0.24576477838099886</td></tr>\n",
       "<tr><td>65620</td><td>4771</td><td>159.809133769</td><td>39.7314721854</td><td>19.651</td><td>19.978</td><td>19.533</td><td>18.894</td><td>20.926</td><td>20.71</td><td>20.516</td><td>20.516</td><td>20.08</td><td>19.994</td><td>18.361</td><td>19.507</td><td>19.58</td><td>19.965</td><td>19.535</td><td>18.808</td><td>20.597</td><td>20.599</td><td>20.614</td><td>20.508</td><td>20.026</td><td>19.93</td><td>18.328</td><td>19.996</td><td>19.706</td><td>20.068</td><td>19.628</td><td>19.206</td><td>20.947</td><td>20.942</td><td>20.808</td><td>20.74</td><td>20.326</td><td>20.079</td><td>18.42</td><td>19.372</td><td>0.058</td><td>0.052</td><td>0.21</td><td>0.183</td><td>0.217</td><td>0.181</td><td>0.152</td><td>0.168</td><td>0.121</td><td>0.133</td><td>0.041</td><td>0.254</td><td>0.071</td><td>0.066</td><td>0.273</td><td>0.22</td><td>0.207</td><td>0.211</td><td>0.214</td><td>0.216</td><td>0.148</td><td>0.162</td><td>0.051</td><td>0.517</td><td>0.043</td><td>0.04</td><td>0.16</td><td>0.169</td><td>0.157</td><td>0.158</td><td>0.141</td><td>0.147</td><td>0.108</td><td>0.102</td><td>0.032</td><td>0.156</td><td>0</td><td>0</td><td>0</td><td>0</td><td>0</td><td>0</td><td>0</td><td>0</td><td>0</td><td>0</td><td>0</td><td>0</td><td>0</td><td>0</td><td>0</td><td>0</td><td>0</td><td>0</td><td>0</td><td>0</td><td>0</td><td>0</td><td>0</td><td>0</td><td>0.004059084109476221</td><td>0.8787074664612841</td><td>0.11723344942923976</td></tr>\n",
       "<tr><td>...</td><td>...</td><td>...</td><td>...</td><td>...</td><td>...</td><td>...</td><td>...</td><td>...</td><td>...</td><td>...</td><td>...</td><td>...</td><td>...</td><td>...</td><td>...</td><td>...</td><td>...</td><td>...</td><td>...</td><td>...</td><td>...</td><td>...</td><td>...</td><td>...</td><td>...</td><td>...</td><td>...</td><td>...</td><td>...</td><td>...</td><td>...</td><td>...</td><td>...</td><td>...</td><td>...</td><td>...</td><td>...</td><td>...</td><td>...</td><td>...</td><td>...</td><td>...</td><td>...</td><td>...</td><td>...</td><td>...</td><td>...</td><td>...</td><td>...</td><td>...</td><td>...</td><td>...</td><td>...</td><td>...</td><td>...</td><td>...</td><td>...</td><td>...</td><td>...</td><td>...</td><td>...</td><td>...</td><td>...</td><td>...</td><td>...</td><td>...</td><td>...</td><td>...</td><td>...</td><td>...</td><td>...</td><td>...</td><td>...</td><td>...</td><td>...</td><td>...</td><td>...</td><td>...</td><td>...</td><td>...</td><td>...</td><td>...</td><td>...</td><td>...</td><td>...</td><td>...</td><td>...</td><td>...</td><td>...</td><td>...</td><td>...</td><td>...</td><td>...</td><td>...</td><td>...</td><td>...</td><td>...</td><td>...</td><td>...</td><td>...</td><td>...</td><td>...</td></tr>\n",
       "<tr><td>70277</td><td>5335</td><td>282.892691892</td><td>66.1306943913</td><td>16.494</td><td>16.989</td><td>16.307</td><td>16.247</td><td>18.523</td><td>18.461</td><td>18.685</td><td>17.619</td><td>17.482</td><td>16.872</td><td>15.303</td><td>16.227</td><td>16.494</td><td>16.989</td><td>16.307</td><td>16.247</td><td>18.523</td><td>18.461</td><td>18.685</td><td>17.619</td><td>17.482</td><td>16.872</td><td>15.303</td><td>16.227</td><td>16.577</td><td>17.052</td><td>16.377</td><td>16.306</td><td>18.69</td><td>18.415</td><td>18.563</td><td>17.677</td><td>17.57</td><td>16.973</td><td>15.319</td><td>16.342</td><td>0.007</td><td>0.021</td><td>0.008</td><td>0.017</td><td>0.095</td><td>0.094</td><td>0.29</td><td>0.034</td><td>0.028</td><td>0.018</td><td>0.007</td><td>0.019</td><td>0.007</td><td>0.021</td><td>0.008</td><td>0.017</td><td>0.095</td><td>0.094</td><td>0.29</td><td>0.034</td><td>0.028</td><td>0.018</td><td>0.007</td><td>0.019</td><td>0.006</td><td>0.017</td><td>0.006</td><td>0.013</td><td>0.075</td><td>0.062</td><td>0.17</td><td>0.026</td><td>0.023</td><td>0.015</td><td>0.006</td><td>0.015</td><td>0</td><td>0</td><td>0</td><td>0</td><td>0</td><td>0</td><td>0</td><td>0</td><td>0</td><td>0</td><td>0</td><td>0</td><td>0</td><td>0</td><td>0</td><td>0</td><td>0</td><td>0</td><td>0</td><td>0</td><td>0</td><td>0</td><td>0</td><td>0</td><td>0.0007745350833365853</td><td>0.929331474862882</td><td>0.06989399005378151</td></tr>\n",
       "<tr><td>66197</td><td>12653</td><td>139.34521779</td><td>41.999932921</td><td>12.07</td><td>12.765</td><td>11.753</td><td>11.482</td><td>14.185</td><td>13.8</td><td>13.637</td><td>13.276</td><td>13.137</td><td>12.612</td><td>11.684</td><td>11.598</td><td>12.046</td><td>12.737</td><td>11.729</td><td>11.459</td><td>14.161</td><td>13.781</td><td>13.613</td><td>13.254</td><td>13.109</td><td>12.587</td><td>11.664</td><td>11.578</td><td>14.651</td><td>15.407</td><td>14.396</td><td>14.069</td><td>16.453</td><td>16.147</td><td>16.023</td><td>15.8</td><td>15.681</td><td>15.277</td><td>13.907</td><td>14.206</td><td>0.001</td><td>0.003</td><td>0.001</td><td>0.002</td><td>0.016</td><td>0.013</td><td>0.011</td><td>0.006</td><td>0.006</td><td>0.004</td><td>0.002</td><td>0.003</td><td>0.002</td><td>0.003</td><td>0.002</td><td>0.002</td><td>0.018</td><td>0.015</td><td>0.012</td><td>0.007</td><td>0.006</td><td>0.004</td><td>0.002</td><td>0.004</td><td>0.003</td><td>0.005</td><td>0.003</td><td>0.003</td><td>0.015</td><td>0.013</td><td>0.013</td><td>0.01</td><td>0.009</td><td>0.007</td><td>0.003</td><td>0.004</td><td>2</td><td>2</td><td>2</td><td>2</td><td>2</td><td>2</td><td>2</td><td>2</td><td>2</td><td>2</td><td>2</td><td>2</td><td>0</td><td>0</td><td>0</td><td>0</td><td>0</td><td>0</td><td>0</td><td>0</td><td>0</td><td>0</td><td>0</td><td>0</td><td>0.00043207180905871056</td><td>0.7994925620799398</td><td>0.20007536611100143</td></tr>\n",
       "<tr><td>70325</td><td>14055</td><td>146.211184883</td><td>68.4468962229</td><td>15.676</td><td>16.451</td><td>15.372</td><td>15.11</td><td>17.795</td><td>17.157</td><td>17.193</td><td>16.97</td><td>16.933</td><td>16.227</td><td>15.029</td><td>15.216</td><td>15.631</td><td>16.406</td><td>15.325</td><td>15.075</td><td>17.849</td><td>17.092</td><td>17.165</td><td>16.971</td><td>16.832</td><td>16.199</td><td>14.993</td><td>15.163</td><td>16.239</td><td>17.025</td><td>15.992</td><td>15.761</td><td>18.297</td><td>17.616</td><td>17.836</td><td>17.482</td><td>17.358</td><td>16.752</td><td>15.446</td><td>15.815</td><td>0.007</td><td>0.015</td><td>0.006</td><td>0.009</td><td>0.129</td><td>0.072</td><td>0.073</td><td>0.051</td><td>0.045</td><td>0.025</td><td>0.008</td><td>0.013</td><td>0.009</td><td>0.019</td><td>0.007</td><td>0.011</td><td>0.178</td><td>0.089</td><td>0.093</td><td>0.066</td><td>0.054</td><td>0.031</td><td>0.01</td><td>0.016</td><td>0.005</td><td>0.01</td><td>0.005</td><td>0.007</td><td>0.068</td><td>0.04</td><td>0.047</td><td>0.029</td><td>0.025</td><td>0.016</td><td>0.007</td><td>0.01</td><td>0</td><td>0</td><td>0</td><td>0</td><td>0</td><td>0</td><td>0</td><td>0</td><td>0</td><td>0</td><td>0</td><td>0</td><td>0</td><td>0</td><td>0</td><td>0</td><td>0</td><td>0</td><td>0</td><td>0</td><td>0</td><td>0</td><td>0</td><td>0</td><td>0.00030818429778234357</td><td>0.8129414767365782</td><td>0.18675033896563936</td></tr>\n",
       "<tr><td>62557</td><td>14374</td><td>261.922282228</td><td>26.0378760732</td><td>17.938</td><td>18.418</td><td>17.8</td><td>17.774</td><td>19.733</td><td>19.718</td><td>19.428</td><td>18.979</td><td>18.864</td><td>18.32</td><td>16.664</td><td>17.805</td><td>17.923</td><td>18.407</td><td>17.8</td><td>17.739</td><td>19.65</td><td>19.672</td><td>19.266</td><td>19.027</td><td>18.871</td><td>18.336</td><td>16.657</td><td>17.79</td><td>17.98</td><td>18.472</td><td>17.852</td><td>17.834</td><td>19.88</td><td>19.94</td><td>19.553</td><td>19.056</td><td>18.907</td><td>18.333</td><td>16.671</td><td>17.8</td><td>0.018</td><td>0.03</td><td>0.02</td><td>0.047</td><td>0.212</td><td>0.228</td><td>0.181</td><td>0.094</td><td>0.079</td><td>0.051</td><td>0.014</td><td>0.057</td><td>0.02</td><td>0.033</td><td>0.022</td><td>0.052</td><td>0.222</td><td>0.247</td><td>0.177</td><td>0.111</td><td>0.089</td><td>0.057</td><td>0.015</td><td>0.064</td><td>0.016</td><td>0.026</td><td>0.017</td><td>0.039</td><td>0.193</td><td>0.221</td><td>0.162</td><td>0.082</td><td>0.067</td><td>0.042</td><td>0.012</td><td>0.045</td><td>0</td><td>0</td><td>0</td><td>0</td><td>0</td><td>0</td><td>0</td><td>0</td><td>0</td><td>0</td><td>0</td><td>0</td><td>0</td><td>0</td><td>0</td><td>0</td><td>0</td><td>0</td><td>0</td><td>0</td><td>0</td><td>0</td><td>0</td><td>0</td><td>0.001380789955491999</td><td>0.8920870747583356</td><td>0.1065321352861724</td></tr>\n",
       "<tr><td>62557</td><td>15606</td><td>260.679878656</td><td>26.0770431592</td><td>16.044</td><td>16.884</td><td>15.77</td><td>15.657</td><td>19.175</td><td>19.383</td><td>18.565</td><td>17.788</td><td>17.51</td><td>16.788</td><td>15.053</td><td>15.684</td><td>16.044</td><td>16.884</td><td>15.77</td><td>15.657</td><td>19.175</td><td>19.383</td><td>18.565</td><td>17.788</td><td>17.51</td><td>16.788</td><td>15.053</td><td>15.684</td><td>16.116</td><td>16.951</td><td>15.822</td><td>15.714</td><td>19.279</td><td>19.432</td><td>18.828</td><td>17.88</td><td>17.585</td><td>16.839</td><td>15.121</td><td>15.737</td><td>0.005</td><td>0.01</td><td>0.005</td><td>0.009</td><td>0.149</td><td>0.194</td><td>0.097</td><td>0.039</td><td>0.029</td><td>0.017</td><td>0.005</td><td>0.011</td><td>0.005</td><td>0.01</td><td>0.005</td><td>0.009</td><td>0.149</td><td>0.194</td><td>0.097</td><td>0.039</td><td>0.029</td><td>0.017</td><td>0.005</td><td>0.011</td><td>0.005</td><td>0.009</td><td>0.004</td><td>0.007</td><td>0.111</td><td>0.137</td><td>0.085</td><td>0.031</td><td>0.024</td><td>0.015</td><td>0.005</td><td>0.009</td><td>0</td><td>0</td><td>0</td><td>0</td><td>0</td><td>0</td><td>0</td><td>0</td><td>0</td><td>0</td><td>0</td><td>0</td><td>0</td><td>0</td><td>0</td><td>0</td><td>0</td><td>0</td><td>0</td><td>0</td><td>0</td><td>0</td><td>0</td><td>0</td><td>1.1964152587473236e-05</td><td>0.9560749489640763</td><td>0.04391308688333621</td></tr>\n",
       "<tr><td>66300</td><td>20624</td><td>199.105920658</td><td>42.2355002218</td><td>17.082</td><td>17.425</td><td>16.952</td><td>16.944</td><td>18.542</td><td>18.39</td><td>18.345</td><td>17.816</td><td>17.758</td><td>17.364</td><td>15.637</td><td>16.931</td><td>17.082</td><td>17.425</td><td>16.952</td><td>16.944</td><td>18.542</td><td>18.39</td><td>18.345</td><td>17.816</td><td>17.758</td><td>17.364</td><td>15.637</td><td>16.931</td><td>17.098</td><td>17.447</td><td>16.977</td><td>16.981</td><td>18.596</td><td>18.404</td><td>18.36</td><td>17.836</td><td>17.783</td><td>17.379</td><td>15.642</td><td>16.946</td><td>0.009</td><td>0.01</td><td>0.011</td><td>0.02</td><td>0.068</td><td>0.057</td><td>0.053</td><td>0.031</td><td>0.03</td><td>0.023</td><td>0.007</td><td>0.028</td><td>0.009</td><td>0.01</td><td>0.011</td><td>0.02</td><td>0.068</td><td>0.057</td><td>0.053</td><td>0.031</td><td>0.03</td><td>0.023</td><td>0.007</td><td>0.028</td><td>0.008</td><td>0.01</td><td>0.01</td><td>0.018</td><td>0.062</td><td>0.051</td><td>0.047</td><td>0.028</td><td>0.027</td><td>0.021</td><td>0.007</td><td>0.024</td><td>0</td><td>0</td><td>0</td><td>0</td><td>0</td><td>0</td><td>0</td><td>0</td><td>0</td><td>0</td><td>0</td><td>0</td><td>0</td><td>0</td><td>0</td><td>0</td><td>0</td><td>0</td><td>0</td><td>0</td><td>0</td><td>0</td><td>0</td><td>0</td><td>0.008995651150292813</td><td>0.8917426971939642</td><td>0.09926165165574295</td></tr>\n",
       "<tr><td>63499</td><td>60838</td><td>279.943946995</td><td>32.1710416381</td><td>15.061</td><td>13.328</td><td>13.792</td><td>10.922</td><td>15.947</td><td>15.578</td><td>15.237</td><td>14.404</td><td>14.178</td><td>12.954</td><td>11.729</td><td>10.899</td><td>14.984</td><td>13.325</td><td>13.704</td><td>10.912</td><td>15.91</td><td>15.59</td><td>15.277</td><td>14.398</td><td>14.169</td><td>12.947</td><td>11.724</td><td>10.892</td><td>16.389</td><td>16.929</td><td>15.135</td><td>14.5</td><td>19.472</td><td>19.389</td><td>18.96</td><td>18.198</td><td>17.848</td><td>16.746</td><td>15.403</td><td>14.528</td><td>0.01</td><td>0.002</td><td>0.005</td><td>0.001</td><td>0.034</td><td>0.03</td><td>0.022</td><td>0.009</td><td>0.007</td><td>0.003</td><td>0.001</td><td>0.001</td><td>0.016</td><td>0.003</td><td>0.008</td><td>0.002</td><td>0.051</td><td>0.047</td><td>0.035</td><td>0.014</td><td>0.011</td><td>0.004</td><td>0.002</td><td>0.001</td><td>0.006</td><td>0.009</td><td>0.004</td><td>0.007</td><td>0.153</td><td>0.175</td><td>0.12</td><td>0.055</td><td>0.038</td><td>0.017</td><td>0.007</td><td>0.007</td><td>3</td><td>3</td><td>3</td><td>3</td><td>3</td><td>3</td><td>3</td><td>3</td><td>3</td><td>3</td><td>3</td><td>3</td><td>0</td><td>0</td><td>0</td><td>0</td><td>0</td><td>0</td><td>0</td><td>0</td><td>0</td><td>0</td><td>0</td><td>0</td><td>2.1677872250072935e-08</td><td>0.7767786065096033</td><td>0.22322137181252447</td></tr>\n",
       "<tr><td>66561</td><td>11439</td><td>198.956000052</td><td>43.5751248308</td><td>19.178</td><td>19.611</td><td>19.704</td><td>19.124</td><td>19.57</td><td>20.527</td><td>20.19</td><td>19.978</td><td>19.835</td><td>19.603</td><td>17.643</td><td>18.367</td><td>19.137</td><td>19.54</td><td>19.731</td><td>18.971</td><td>19.553</td><td>20.559</td><td>20.064</td><td>20.095</td><td>19.987</td><td>19.802</td><td>17.594</td><td>18.431</td><td>19.186</td><td>19.652</td><td>19.74</td><td>19.112</td><td>19.784</td><td>20.499</td><td>20.118</td><td>19.908</td><td>19.919</td><td>19.65</td><td>17.671</td><td>18.476</td><td>0.051</td><td>0.075</td><td>0.113</td><td>0.115</td><td>0.163</td><td>0.406</td><td>0.299</td><td>0.192</td><td>0.164</td><td>0.139</td><td>0.027</td><td>0.077</td><td>0.064</td><td>0.091</td><td>0.154</td><td>0.134</td><td>0.212</td><td>0.555</td><td>0.352</td><td>0.28</td><td>0.249</td><td>0.22</td><td>0.032</td><td>0.108</td><td>0.045</td><td>0.069</td><td>0.102</td><td>0.099</td><td>0.174</td><td>0.346</td><td>0.245</td><td>0.158</td><td>0.156</td><td>0.128</td><td>0.025</td><td>0.075</td><td>0</td><td>0</td><td>0</td><td>0</td><td>0</td><td>0</td><td>0</td><td>0</td><td>0</td><td>0</td><td>0</td><td>0</td><td>0</td><td>0</td><td>0</td><td>0</td><td>0</td><td>0</td><td>0</td><td>0</td><td>0</td><td>0</td><td>0</td><td>0</td><td>0.016221781985427258</td><td>0.8002602879653132</td><td>0.18351793004925948</td></tr>\n",
       "<tr><td>74432</td><td>23458</td><td>344.072999673</td><td>32.5557318866</td><td>13.008</td><td>12.823</td><td>12.577</td><td>11.165</td><td>15.339</td><td>14.995</td><td>14.641</td><td>13.79</td><td>13.483</td><td>12.422</td><td>11.284</td><td>10.719</td><td>13.008</td><td>12.823</td><td>12.577</td><td>11.165</td><td>15.339</td><td>14.995</td><td>14.641</td><td>13.79</td><td>13.483</td><td>12.422</td><td>11.284</td><td>10.719</td><td>14.945</td><td>15.468</td><td>14.24</td><td>13.583</td><td>18.086</td><td>18.136</td><td>17.556</td><td>16.831</td><td>16.47</td><td>15.382</td><td>14.064</td><td>13.494</td><td>0.002</td><td>0.001</td><td>0.002</td><td>0.001</td><td>0.021</td><td>0.017</td><td>0.012</td><td>0.005</td><td>0.004</td><td>0.002</td><td>0.001</td><td>0.001</td><td>0.002</td><td>0.001</td><td>0.002</td><td>0.001</td><td>0.021</td><td>0.017</td><td>0.012</td><td>0.005</td><td>0.004</td><td>0.002</td><td>0.001</td><td>0.001</td><td>0.003</td><td>0.003</td><td>0.002</td><td>0.004</td><td>0.047</td><td>0.053</td><td>0.035</td><td>0.017</td><td>0.014</td><td>0.007</td><td>0.004</td><td>0.004</td><td>3</td><td>3</td><td>3</td><td>3</td><td>3</td><td>3</td><td>3</td><td>3</td><td>3</td><td>3</td><td>3</td><td>3</td><td>0</td><td>0</td><td>0</td><td>0</td><td>0</td><td>0</td><td>0</td><td>0</td><td>0</td><td>0</td><td>0</td><td>0</td><td>1.9287989886934974e-07</td><td>0.856744329531028</td><td>0.14325547758907306</td></tr>\n",
       "<tr><td>74624</td><td>20975</td><td>337.647265751</td><td>33.8335952278</td><td>18.749</td><td>19.071</td><td>18.07</td><td>18.001</td><td>18.139</td><td>19.826</td><td>18.529</td><td>19.775</td><td>19.074</td><td>19.387</td><td>17.526</td><td>18.373</td><td>19.119</td><td>19.579</td><td>18.244</td><td>18.269</td><td>17.748</td><td>18.796</td><td>18.139</td><td>99.0</td><td>19.829</td><td>99.0</td><td>17.631</td><td>19.422</td><td>19.596</td><td>19.849</td><td>19.275</td><td>19.069</td><td>19.663</td><td>19.805</td><td>20.247</td><td>20.45</td><td>19.987</td><td>20.483</td><td>18.585</td><td>19.151</td><td>0.193</td><td>0.236</td><td>0.149</td><td>0.264</td><td>0.242</td><td>1.155</td><td>0.348</td><td>0.868</td><td>0.449</td><td>0.649</td><td>0.119</td><td>0.316</td><td>0.391</td><td>0.525</td><td>0.25</td><td>0.483</td><td>0.227</td><td>0.603</td><td>0.328</td><td>99.0</td><td>1.234</td><td>99.0</td><td>0.184</td><td>1.179</td><td>0.062</td><td>0.078</td><td>0.066</td><td>0.1</td><td>0.169</td><td>0.197</td><td>0.286</td><td>0.273</td><td>0.172</td><td>0.274</td><td>0.053</td><td>0.095</td><td>3</td><td>3</td><td>3</td><td>3</td><td>3</td><td>3</td><td>3</td><td>3</td><td>3</td><td>3</td><td>3</td><td>3</td><td>0</td><td>0</td><td>0</td><td>0</td><td>0</td><td>0</td><td>0</td><td>0</td><td>0</td><td>0</td><td>0</td><td>0</td><td>0.027813524135217992</td><td>0.8141910432400716</td><td>0.1579954326247104</td></tr>\n",
       "</table>"
      ],
      "text/plain": [
       "<Table length=42>\n",
       " Tile Number       RA       ...      P(SySt)            P(all else)     \n",
       "int64 int64     float64     ...      float64              float64       \n",
       "----- ------ -------------- ... ------------------ ---------------------\n",
       "74839   4782 0.779165135739 ... 0.9845383465113062  0.015461649342043911\n",
       "70455  14182  148.956265718 ... 0.9813053793043722  0.018686360090559306\n",
       "67905  24948  284.827596793 ... 0.8370492930671047   0.15400662097987672\n",
       "69256   3465  132.904726505 ... 0.8419562456210409   0.10754882687982527\n",
       "69256   9132  134.999843655 ... 0.9989386806048065 0.0007056837366301494\n",
       "74576  41319  330.426069664 ... 0.8122860697322621   0.18753949987180085\n",
       "63045  37642  277.096568252 ... 0.9308607970986928   0.06890162274664734\n",
       "74312  19640  37.0604344193 ... 0.7851682676088192   0.21474624580506896\n",
       "70704  14832   258.48025248 ... 0.7542186852885152   0.24576477838099886\n",
       "65620   4771  159.809133769 ... 0.8787074664612841   0.11723344942923976\n",
       "  ...    ...            ... ...                ...                   ...\n",
       "70277   5335  282.892691892 ...  0.929331474862882   0.06989399005378151\n",
       "66197  12653   139.34521779 ... 0.7994925620799398   0.20007536611100143\n",
       "70325  14055  146.211184883 ... 0.8129414767365782   0.18675033896563936\n",
       "62557  14374  261.922282228 ... 0.8920870747583356    0.1065321352861724\n",
       "62557  15606  260.679878656 ... 0.9560749489640763   0.04391308688333621\n",
       "66300  20624  199.105920658 ... 0.8917426971939642   0.09926165165574295\n",
       "63499  60838  279.943946995 ... 0.7767786065096033   0.22322137181252447\n",
       "66561  11439  198.956000052 ... 0.8002602879653132   0.18351793004925948\n",
       "74432  23458  344.072999673 ...  0.856744329531028   0.14325547758907306\n",
       "74624  20975  337.647265751 ... 0.8141910432400716    0.1579954326247104"
      ]
     },
     "execution_count": 26,
     "metadata": {},
     "output_type": "execute_result"
    }
   ],
   "source": [
    "tab2"
   ]
  },
  {
   "cell_type": "code",
   "execution_count": 31,
   "metadata": {},
   "outputs": [
    {
     "name": "stderr",
     "output_type": "stream",
     "text": [
      "WARNING: MergeConflictWarning: Cannot merge meta key 'null' types <class 'float'> and <class 'float'>, choosing null=nan [astropy.utils.metadata]\n"
     ]
    }
   ],
   "source": [
    "# Looking for the objects of tab in 2MASS through ViZier\n",
    "result_vizier_2mass_SySt = Vizier.query_region(coord.SkyCoord(ra=tab2[\"RA\"], dec=tab2[\"Dec\"],\n",
    "                                                        unit=(u.deg, u.deg),\n",
    "                                                                       frame='icrs'),\n",
    "                                                                           radius=4.0*u.arcsec,\n",
    "                                                                              catalog=[\"2MASS\"])"
   ]
  },
  {
   "cell_type": "code",
   "execution_count": 32,
   "metadata": {},
   "outputs": [
    {
     "data": {
      "text/plain": [
       "TableList with 2 tables:\n",
       "\t'0:II/246/out' with 16 column(s) and 37 row(s) \n",
       "\t'1:VII/233/xsc' with 14 column(s) and 4 row(s) "
      ]
     },
     "execution_count": 32,
     "metadata": {},
     "output_type": "execute_result"
    }
   ],
   "source": [
    "result_vizier_2mass_SySt"
   ]
  },
  {
   "cell_type": "code",
   "execution_count": 33,
   "metadata": {},
   "outputs": [
    {
     "data": {
      "text/html": [
       "<i>Table length=37</i>\n",
       "<table id=\"table139977252614352\" class=\"table-striped table-bordered table-condensed\">\n",
       "<thead><tr><th>_q</th><th>RAJ2000</th><th>DEJ2000</th><th>_2MASS</th><th>Jmag</th><th>e_Jmag</th><th>Hmag</th><th>e_Hmag</th><th>Kmag</th><th>e_Kmag</th><th>Qflg</th><th>Rflg</th><th>Bflg</th><th>Cflg</th><th>Xflg</th><th>Aflg</th></tr></thead>\n",
       "<thead><tr><th></th><th>deg</th><th>deg</th><th></th><th>mag</th><th>mag</th><th>mag</th><th>mag</th><th>mag</th><th>mag</th><th></th><th></th><th></th><th></th><th></th><th></th></tr></thead>\n",
       "<thead><tr><th>int32</th><th>float64</th><th>float64</th><th>bytes17</th><th>float32</th><th>float32</th><th>float32</th><th>float32</th><th>float32</th><th>float32</th><th>bytes3</th><th>bytes3</th><th>bytes3</th><th>bytes3</th><th>uint8</th><th>uint8</th></tr></thead>\n",
       "<tr><td>7</td><td>284.827582</td><td>48.465580</td><td>18591861+4827560</td><td>15.195</td><td>0.049</td><td>14.874</td><td>0.070</td><td>14.969</td><td>0.181</td><td>AAC</td><td>222</td><td>111</td><td>000</td><td>0</td><td>0</td></tr>\n",
       "<tr><td>10</td><td>132.904937</td><td>57.124916</td><td>08513718+5707296</td><td>15.599</td><td>0.064</td><td>15.428</td><td>0.106</td><td>15.366</td><td>0.139</td><td>AAB</td><td>222</td><td>111</td><td>000</td><td>0</td><td>0</td></tr>\n",
       "<tr><td>13</td><td>135.000900</td><td>56.338799</td><td>09000021+5620196</td><td>12.952</td><td>0.024</td><td>12.445</td><td>0.035</td><td>12.339</td><td>0.023</td><td>AAA</td><td>222</td><td>111</td><td>000</td><td>0</td><td>0</td></tr>\n",
       "<tr><td>16</td><td>330.426118</td><td>34.143234</td><td>22014226+3408356</td><td>15.824</td><td>0.065</td><td>15.449</td><td>0.096</td><td>15.576</td><td>0.236</td><td>AAD</td><td>222</td><td>111</td><td>000</td><td>0</td><td>0</td></tr>\n",
       "<tr><td>19</td><td>277.096575</td><td>30.421886</td><td>18282317+3025187</td><td>14.499</td><td>0.032</td><td>14.057</td><td>0.033</td><td>13.848</td><td>0.051</td><td>AAA</td><td>222</td><td>111</td><td>000</td><td>0</td><td>0</td></tr>\n",
       "<tr><td>22</td><td>37.060312</td><td>31.311527</td><td>02281447+3118414</td><td>12.919</td><td>0.065</td><td>11.917</td><td>0.057</td><td>11.132</td><td>0.044</td><td>EEE</td><td>222</td><td>111</td><td>000</td><td>1</td><td>0</td></tr>\n",
       "<tr><td>25</td><td>258.480186</td><td>72.200485</td><td>17135524+7212017</td><td>15.595</td><td>0.063</td><td>15.057</td><td>0.092</td><td>14.738</td><td>0.124</td><td>AAB</td><td>222</td><td>111</td><td>000</td><td>0</td><td>0</td></tr>\n",
       "<tr><td>31</td><td>276.341094</td><td>43.093708</td><td>18252186+4305373</td><td>16.458</td><td>0.142</td><td>15.783</td><td>0.175</td><td>15.627</td><td>--</td><td>BCU</td><td>220</td><td>110</td><td>000</td><td>0</td><td>0</td></tr>\n",
       "<tr><td>34</td><td>241.115332</td><td>40.682720</td><td>16042767+4040577</td><td>14.927</td><td>0.039</td><td>14.351</td><td>0.044</td><td>14.212</td><td>0.069</td><td>AAA</td><td>222</td><td>111</td><td>000</td><td>0</td><td>0</td></tr>\n",
       "<tr><td>...</td><td>...</td><td>...</td><td>...</td><td>...</td><td>...</td><td>...</td><td>...</td><td>...</td><td>...</td><td>...</td><td>...</td><td>...</td><td>...</td><td>...</td><td>...</td></tr>\n",
       "<tr><td>100</td><td>139.345287</td><td>41.999943</td><td>09172286+4159597</td><td>11.475</td><td>0.025</td><td>10.557</td><td>0.020</td><td>10.131</td><td>0.021</td><td>EEE</td><td>222</td><td>111</td><td>000</td><td>2</td><td>0</td></tr>\n",
       "<tr><td>100</td><td>139.345187</td><td>41.998837</td><td>09172284+4159558</td><td>12.082</td><td>--</td><td>13.000</td><td>0.050</td><td>12.556</td><td>0.038</td><td>UEE</td><td>022</td><td>011</td><td>0cc</td><td>2</td><td>0</td></tr>\n",
       "<tr><td>100</td><td>139.345033</td><td>42.000786</td><td>09172280+4200028</td><td>11.898</td><td>--</td><td>12.848</td><td>0.034</td><td>10.619</td><td>--</td><td>UEU</td><td>020</td><td>010</td><td>0c0</td><td>2</td><td>0</td></tr>\n",
       "<tr><td>100</td><td>139.345735</td><td>42.000870</td><td>09172297+4200031</td><td>13.551</td><td>0.051</td><td>11.155</td><td>--</td><td>10.733</td><td>--</td><td>EUU</td><td>200</td><td>100</td><td>c00</td><td>2</td><td>0</td></tr>\n",
       "<tr><td>103</td><td>146.211172</td><td>68.446869</td><td>09445068+6826487</td><td>14.559</td><td>0.054</td><td>13.869</td><td>0.065</td><td>13.446</td><td>0.049</td><td>AAA</td><td>222</td><td>111</td><td>000</td><td>0</td><td>0</td></tr>\n",
       "<tr><td>109</td><td>260.679939</td><td>26.077093</td><td>17224318+2604375</td><td>14.554</td><td>0.037</td><td>13.988</td><td>0.051</td><td>13.963</td><td>0.046</td><td>AAA</td><td>222</td><td>111</td><td>000</td><td>0</td><td>0</td></tr>\n",
       "<tr><td>112</td><td>199.105866</td><td>42.235504</td><td>13162540+4214078</td><td>16.011</td><td>0.093</td><td>15.569</td><td>0.169</td><td>15.421</td><td>0.196</td><td>ACC</td><td>222</td><td>111</td><td>000</td><td>0</td><td>0</td></tr>\n",
       "<tr><td>115</td><td>279.943587</td><td>32.170593</td><td>18394646+3210141</td><td>9.165</td><td>0.022</td><td>8.505</td><td>0.027</td><td>8.274</td><td>0.018</td><td>AAA</td><td>212</td><td>111</td><td>000</td><td>0</td><td>0</td></tr>\n",
       "<tr><td>121</td><td>344.074251</td><td>32.556042</td><td>22561782+3233217</td><td>9.028</td><td>0.021</td><td>8.371</td><td>0.020</td><td>8.190</td><td>0.016</td><td>AAA</td><td>212</td><td>111</td><td>000</td><td>0</td><td>0</td></tr>\n",
       "<tr><td>121</td><td>344.073346</td><td>32.555912</td><td>22561760+3233212</td><td>13.266</td><td>0.341</td><td>8.750</td><td>--</td><td>8.606</td><td>--</td><td>DUU</td><td>200</td><td>100</td><td>c00</td><td>0</td><td>0</td></tr>\n",
       "</table>"
      ],
      "text/plain": [
       "<Table length=37>\n",
       "  _q   RAJ2000    DEJ2000        _2MASS      ...  Bflg   Cflg   Xflg  Aflg\n",
       "         deg        deg                      ...                          \n",
       "int32  float64    float64       bytes17      ... bytes3 bytes3 uint8 uint8\n",
       "----- ---------- ---------- ---------------- ... ------ ------ ----- -----\n",
       "    7 284.827582  48.465580 18591861+4827560 ...    111    000     0     0\n",
       "   10 132.904937  57.124916 08513718+5707296 ...    111    000     0     0\n",
       "   13 135.000900  56.338799 09000021+5620196 ...    111    000     0     0\n",
       "   16 330.426118  34.143234 22014226+3408356 ...    111    000     0     0\n",
       "   19 277.096575  30.421886 18282317+3025187 ...    111    000     0     0\n",
       "   22  37.060312  31.311527 02281447+3118414 ...    111    000     1     0\n",
       "   25 258.480186  72.200485 17135524+7212017 ...    111    000     0     0\n",
       "   31 276.341094  43.093708 18252186+4305373 ...    110    000     0     0\n",
       "   34 241.115332  40.682720 16042767+4040577 ...    111    000     0     0\n",
       "  ...        ...        ...              ... ...    ...    ...   ...   ...\n",
       "  100 139.345287  41.999943 09172286+4159597 ...    111    000     2     0\n",
       "  100 139.345187  41.998837 09172284+4159558 ...    011    0cc     2     0\n",
       "  100 139.345033  42.000786 09172280+4200028 ...    010    0c0     2     0\n",
       "  100 139.345735  42.000870 09172297+4200031 ...    100    c00     2     0\n",
       "  103 146.211172  68.446869 09445068+6826487 ...    111    000     0     0\n",
       "  109 260.679939  26.077093 17224318+2604375 ...    111    000     0     0\n",
       "  112 199.105866  42.235504 13162540+4214078 ...    111    000     0     0\n",
       "  115 279.943587  32.170593 18394646+3210141 ...    111    000     0     0\n",
       "  121 344.074251  32.556042 22561782+3233217 ...    111    000     0     0\n",
       "  121 344.073346  32.555912 22561760+3233212 ...    100    c00     0     0"
      ]
     },
     "execution_count": 33,
     "metadata": {},
     "output_type": "execute_result"
    }
   ],
   "source": [
    "result_vizier_2mass_SySt[\"II/246/out\"]"
   ]
  },
  {
   "cell_type": "code",
   "execution_count": 34,
   "metadata": {},
   "outputs": [],
   "source": [
    "# Save the table result WISE\n",
    "asciifile_syst = \"../JPLUS-DR2/aper6_mag_idr/2MASS-SySt-pc-Halpha_emitters_threeerror-cleaning-limfilter-limcolor-flags-mask-broad-prob.dat\" \n",
    "result_vizier_2mass_SySt[\"II/246/out\"].write(asciifile_syst, format=\"ascii\")  "
   ]
  },
  {
   "cell_type": "code",
   "execution_count": null,
   "metadata": {},
   "outputs": [],
   "source": []
  }
 ],
 "metadata": {
  "kernelspec": {
   "display_name": "Python 3",
   "language": "python",
   "name": "python3"
  },
  "language_info": {
   "codemirror_mode": {
    "name": "ipython",
    "version": 3
   },
   "file_extension": ".py",
   "mimetype": "text/x-python",
   "name": "python",
   "nbconvert_exporter": "python",
   "pygments_lexer": "ipython3",
   "version": "3.7.4"
  }
 },
 "nbformat": 4,
 "nbformat_minor": 2
}
