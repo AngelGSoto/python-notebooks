{
 "cells": [
  {
   "cell_type": "markdown",
   "metadata": {},
   "source": [
    "# Conver from .tab to .dat mainly to only withe the coordinates of the table"
   ]
  },
  {
   "cell_type": "code",
   "execution_count": 1,
   "metadata": {},
   "outputs": [],
   "source": [
    "from __future__ import print_function\n",
    "import numpy as np\n",
    "import os\n",
    "import glob\n",
    "import json\n",
    "import matplotlib.pyplot as plt\n",
    "import pandas as pd\n",
    "from astropy.table import Table"
   ]
  },
  {
   "cell_type": "code",
   "execution_count": 2,
   "metadata": {},
   "outputs": [],
   "source": [
    "#datadir = \"../SPLUS-DR1/haemiiter-08\"\n",
    "#file_ = \"splus-dr1-rhalpha_08_onlyerror_3filters-editado.tab\"\n",
    "datadir = \"../JPLUS-DR2/aper6_mag_idr\"\n",
    "file_ = \"PN-pc-Halpha_emitters_threeerror-cleaning-limfilter-limcolor-flags.tab\""
   ]
  },
  {
   "cell_type": "code",
   "execution_count": 3,
   "metadata": {},
   "outputs": [
    {
     "name": "stderr",
     "output_type": "stream",
     "text": [
      "WARNING: AstropyDeprecationWarning: Config parameter 'name_resolve_timeout' in section [coordinates.name_resolve] of the file '/home/angel/.astropy/config/astropy.cfg' is deprecated. Use 'remote_timeout' in section [utils.data] instead. [astropy.config.configuration]\n",
      "WARNING: AstropyDeprecationWarning: Config parameter 'remote_timeout' in section [utils.data] of the file '/home/angel/.astropy/config/astropy.cfg' is given by more than one alias (astropy.utils.data.remote_timeout, coordinates.name_resolve.name_resolve_timeout). Using the first. [astropy.config.configuration]\n"
     ]
    }
   ],
   "source": [
    "data = Table.read(os.path.join(datadir, file_), format=\"ascii.tab\")"
   ]
  },
  {
   "cell_type": "code",
   "execution_count": 4,
   "metadata": {},
   "outputs": [
    {
     "name": "stderr",
     "output_type": "stream",
     "text": [
      "WARNING: AstropyDeprecationWarning: Config parameter 'max_lines' in section [table.pprint] of the file '/home/angel/.astropy/config/astropy.cfg' is deprecated. Use 'max_lines' at the top-level instead. [astropy.config.configuration]\n",
      "WARNING: AstropyDeprecationWarning: Config parameter 'max_width' in section [table.pprint] of the file '/home/angel/.astropy/config/astropy.cfg' is deprecated. Use 'max_width' at the top-level instead. [astropy.config.configuration]\n"
     ]
    },
    {
     "data": {
      "text/html": [
       "<i>Table length=236</i>\n",
       "<table id=\"table140359635076936\" class=\"table-striped table-bordered table-condensed\">\n",
       "<thead><tr><th>Tile</th><th>Number</th><th>RA</th><th>Dec</th><th>rSDSS_auto</th><th>gSDSS_auto</th><th>iSDSS_auto</th><th>zSDSS_auto</th><th>uJAVA_auto</th><th>J0378_auto</th><th>J0395_auto</th><th>J0410_auto</th><th>J0430_auto</th><th>J0515_auto</th><th>J0660_auto</th><th>J0861_auto</th><th>rSDSS_PETRO</th><th>gSDSS_PETRO</th><th>iSDSS_PETRO</th><th>zSDSS_PETRO</th><th>uJAVA_PETRO</th><th>J0378_PETRO</th><th>J0395_PETRO</th><th>J0410_PETRO</th><th>J0430_PETRO</th><th>J0515_PETRO</th><th>J0660_PETRO</th><th>J0861_PETRO</th><th>rSDSS_MAG_APER_6_0</th><th>gSDSS_MAG_APER_6_0</th><th>iSDSS_MAG_APER_6_0</th><th>zSDSS_MAG_APER_6_0</th><th>uJAVA_MAG_APER_6_0</th><th>J0378_MAG_APER_6_0</th><th>J0395_MAG_APER_6_0</th><th>J0410_MAG_APER_6_0</th><th>J0430_MAG_APER_6_0</th><th>J0515_MAG_APER_6_0</th><th>J0660_MAG_APER_6_0</th><th>J0861_MAG_APER_6_0</th><th>rSDSS_auto_err</th><th>gSDSS_auto_err</th><th>iSDSS_auto_err</th><th>zSDSS_auto_err</th><th>uJAVA_auto_err</th><th>J0378_auto_err</th><th>J0395_auto_err</th><th>J0410_auto_err</th><th>J0430_auto_err</th><th>J0515_auto_err</th><th>J0660_auto_err</th><th>J0861_auto_err</th><th>rSDSS_PETRO_err</th><th>gSDSS_PETRO_err</th><th>iSDSS_PETRO_err</th><th>zSDSS_PETRO_err</th><th>uJAVA_PETRO_err</th><th>J0378_PETRO_err</th><th>J0395_PETRO_err</th><th>J0410_PETRO_err</th><th>J0430_PETRO_err</th><th>J0515_PETRO_err</th><th>J0660_PETRO_err</th><th>J0861_PETRO_err</th><th>rSDSS_MAG_APER_6_0_err</th><th>gSDSS_MAG_APER_6_0_err</th><th>iSDSS_MAG_APER_6_0_err</th><th>zSDSS_MAG_APER_6_0_err</th><th>uJAVA_MAG_APER_6_0_err</th><th>J0378_MAG_APER_6_0_err</th><th>J0395_MAG_APER_6_0_err</th><th>J0410_MAG_APER_6_0_err</th><th>J0430_MAG_APER_6_0_err</th><th>J0515_MAG_APER_6_0_err</th><th>J0660_MAG_APER_6_0_err</th><th>J0861_MAG_APER_6_0_err</th><th>rSDSS_FLAGS</th><th>gSDSS_FLAGS</th><th>iSDSS_FLAGS</th><th>zSDSS_FLAGS</th><th>uJAVA_FLAGS</th><th>J0378_FLAGS</th><th>J0395_FLAGS</th><th>J0410_FLAGS</th><th>J0430_FLAGS</th><th>J0515_FLAGS</th><th>J0660_FLAGS</th><th>J0861_FLAGS</th><th>rSDSS_MASK_FLAGS</th><th>gSDSS_MASK_FLAGS</th><th>iSDSS_MASK_FLAGS</th><th>zSDSS_MASK_FLAGS</th><th>uJAVA_MASK_FLAGS</th><th>J0378_MASK_FLAGS</th><th>J0395_MASK_FLAGS</th><th>J0410_MASK_FLAGS</th><th>J0430_MASK_FLAGS</th><th>J0515_MASK_FLAGS</th><th>J0660_MASK_FLAGS</th><th>J0861_MASK_FLAGS</th><th>P(PN)</th><th>P(SySt)</th><th>P(all else)</th></tr></thead>\n",
       "<thead><tr><th>int64</th><th>int64</th><th>float64</th><th>float64</th><th>float64</th><th>float64</th><th>float64</th><th>float64</th><th>float64</th><th>float64</th><th>float64</th><th>float64</th><th>float64</th><th>float64</th><th>float64</th><th>float64</th><th>float64</th><th>float64</th><th>float64</th><th>float64</th><th>float64</th><th>float64</th><th>float64</th><th>float64</th><th>float64</th><th>float64</th><th>float64</th><th>float64</th><th>float64</th><th>float64</th><th>float64</th><th>float64</th><th>float64</th><th>float64</th><th>float64</th><th>float64</th><th>float64</th><th>float64</th><th>float64</th><th>float64</th><th>float64</th><th>float64</th><th>float64</th><th>float64</th><th>float64</th><th>float64</th><th>float64</th><th>float64</th><th>float64</th><th>float64</th><th>float64</th><th>float64</th><th>float64</th><th>float64</th><th>float64</th><th>float64</th><th>float64</th><th>float64</th><th>float64</th><th>float64</th><th>float64</th><th>float64</th><th>float64</th><th>float64</th><th>float64</th><th>float64</th><th>float64</th><th>float64</th><th>float64</th><th>float64</th><th>float64</th><th>float64</th><th>float64</th><th>float64</th><th>float64</th><th>float64</th><th>int64</th><th>int64</th><th>int64</th><th>int64</th><th>int64</th><th>int64</th><th>int64</th><th>int64</th><th>int64</th><th>int64</th><th>int64</th><th>int64</th><th>int64</th><th>int64</th><th>int64</th><th>int64</th><th>int64</th><th>int64</th><th>int64</th><th>int64</th><th>int64</th><th>int64</th><th>int64</th><th>int64</th><th>float64</th><th>float64</th><th>float64</th></tr></thead>\n",
       "<tr><td>71690</td><td>16613</td><td>16.2567232493</td><td>2.07235075857</td><td>16.904</td><td>16.52</td><td>17.231</td><td>18.214</td><td>17.199</td><td>16.917</td><td>16.918</td><td>18.249</td><td>17.308</td><td>18.196</td><td>14.728</td><td>99.0</td><td>17.227</td><td>16.802</td><td>16.86</td><td>99.0</td><td>17.136</td><td>17.522</td><td>16.626</td><td>19.313</td><td>17.339</td><td>17.64</td><td>14.918</td><td>99.0</td><td>18.635</td><td>18.318</td><td>19.493</td><td>19.856</td><td>18.826</td><td>18.32</td><td>19.0</td><td>19.346</td><td>18.97</td><td>19.723</td><td>16.773</td><td>20.483</td><td>0.066</td><td>0.046</td><td>0.126</td><td>0.614</td><td>0.187</td><td>0.153</td><td>0.151</td><td>0.403</td><td>0.173</td><td>0.367</td><td>0.016</td><td>99.0</td><td>0.151</td><td>0.101</td><td>0.156</td><td>99.0</td><td>0.287</td><td>0.445</td><td>0.192</td><td>1.761</td><td>0.3</td><td>0.363</td><td>0.033</td><td>99.0</td><td>0.035</td><td>0.03</td><td>0.099</td><td>0.267</td><td>0.097</td><td>0.064</td><td>0.114</td><td>0.123</td><td>0.087</td><td>0.163</td><td>0.016</td><td>0.59</td><td>3</td><td>3</td><td>3</td><td>3</td><td>3</td><td>3</td><td>3</td><td>3</td><td>3</td><td>3</td><td>3</td><td>3</td><td>0</td><td>0</td><td>0</td><td>0</td><td>0</td><td>0</td><td>0</td><td>0</td><td>0</td><td>0</td><td>0</td><td>0</td><td>0.9997381735881038</td><td>0.0002617359499862389</td><td>9.046190989986609e-08</td></tr>\n",
       "<tr><td>71690</td><td>16885</td><td>16.2572506852</td><td>2.10541303211</td><td>18.965</td><td>18.86</td><td>19.266</td><td>19.528</td><td>18.703</td><td>18.642</td><td>18.514</td><td>18.751</td><td>18.744</td><td>18.847</td><td>18.249</td><td>19.957</td><td>18.955</td><td>18.85</td><td>19.15</td><td>19.44</td><td>18.705</td><td>18.732</td><td>18.686</td><td>18.717</td><td>18.739</td><td>18.907</td><td>18.272</td><td>20.086</td><td>19.006</td><td>18.851</td><td>19.177</td><td>19.529</td><td>18.67</td><td>18.815</td><td>18.722</td><td>18.728</td><td>18.77</td><td>18.915</td><td>18.309</td><td>19.924</td><td>0.063</td><td>0.061</td><td>0.114</td><td>0.282</td><td>0.118</td><td>0.113</td><td>0.101</td><td>0.101</td><td>0.098</td><td>0.104</td><td>0.061</td><td>0.52</td><td>0.053</td><td>0.052</td><td>0.087</td><td>0.218</td><td>0.101</td><td>0.105</td><td>0.101</td><td>0.084</td><td>0.083</td><td>0.093</td><td>0.053</td><td>0.492</td><td>0.048</td><td>0.045</td><td>0.075</td><td>0.199</td><td>0.084</td><td>0.097</td><td>0.09</td><td>0.073</td><td>0.074</td><td>0.081</td><td>0.048</td><td>0.356</td><td>3</td><td>3</td><td>3</td><td>3</td><td>3</td><td>3</td><td>3</td><td>3</td><td>3</td><td>3</td><td>3</td><td>3</td><td>0</td><td>0</td><td>0</td><td>0</td><td>0</td><td>0</td><td>0</td><td>0</td><td>0</td><td>0</td><td>0</td><td>0</td><td>0.6375622588858791</td><td>0.050093796178524955</td><td>0.31234394493559586</td></tr>\n",
       "<tr><td>71690</td><td>17355</td><td>16.2730098396</td><td>2.15494073647</td><td>16.677</td><td>16.647</td><td>16.904</td><td>16.682</td><td>17.222</td><td>17.411</td><td>16.611</td><td>16.767</td><td>16.424</td><td>16.277</td><td>15.757</td><td>17.481</td><td>99.0</td><td>19.566</td><td>18.006</td><td>16.834</td><td>99.0</td><td>99.0</td><td>18.274</td><td>99.0</td><td>18.402</td><td>16.54</td><td>99.0</td><td>99.0</td><td>19.232</td><td>19.797</td><td>19.659</td><td>19.217</td><td>19.04</td><td>18.884</td><td>20.212</td><td>19.765</td><td>19.677</td><td>20.054</td><td>17.752</td><td>19.689</td><td>0.093</td><td>0.089</td><td>0.166</td><td>0.265</td><td>0.313</td><td>0.407</td><td>0.192</td><td>0.171</td><td>0.131</td><td>0.105</td><td>0.072</td><td>0.676</td><td>99.0</td><td>2.062</td><td>0.749</td><td>0.499</td><td>99.0</td><td>99.0</td><td>1.377</td><td>99.0</td><td>1.281</td><td>0.205</td><td>99.0</td><td>99.0</td><td>0.059</td><td>0.101</td><td>0.116</td><td>0.15</td><td>0.116</td><td>0.104</td><td>0.334</td><td>0.18</td><td>0.161</td><td>0.218</td><td>0.032</td><td>0.286</td><td>3</td><td>3</td><td>3</td><td>3</td><td>3</td><td>3</td><td>3</td><td>3</td><td>3</td><td>3</td><td>3</td><td>3</td><td>0</td><td>0</td><td>0</td><td>0</td><td>0</td><td>0</td><td>0</td><td>0</td><td>0</td><td>0</td><td>0</td><td>0</td><td>0.8000010438852774</td><td>0.1957477578555598</td><td>0.004251198259162822</td></tr>\n",
       "<tr><td>71690</td><td>17695</td><td>16.2627902395</td><td>2.16803261956</td><td>18.842</td><td>18.448</td><td>20.711</td><td>18.955</td><td>18.282</td><td>17.513</td><td>18.556</td><td>19.786</td><td>18.379</td><td>21.252</td><td>16.522</td><td>18.269</td><td>19.647</td><td>18.266</td><td>22.776</td><td>18.554</td><td>18.675</td><td>17.768</td><td>18.229</td><td>99.0</td><td>18.5</td><td>99.0</td><td>16.578</td><td>17.943</td><td>19.414</td><td>19.118</td><td>20.093</td><td>19.844</td><td>18.775</td><td>18.729</td><td>19.181</td><td>19.304</td><td>18.922</td><td>19.685</td><td>17.924</td><td>20.015</td><td>0.169</td><td>0.12</td><td>1.323</td><td>0.515</td><td>0.229</td><td>0.117</td><td>0.304</td><td>0.748</td><td>0.204</td><td>2.742</td><td>0.037</td><td>0.337</td><td>0.527</td><td>0.149</td><td>13.292</td><td>0.534</td><td>0.479</td><td>0.217</td><td>0.331</td><td>99.0</td><td>0.336</td><td>99.0</td><td>0.058</td><td>0.374</td><td>0.069</td><td>0.056</td><td>0.172</td><td>0.265</td><td>0.092</td><td>0.09</td><td>0.134</td><td>0.119</td><td>0.084</td><td>0.159</td><td>0.036</td><td>0.385</td><td>1</td><td>1</td><td>1</td><td>1</td><td>1</td><td>1</td><td>1</td><td>1</td><td>1</td><td>1</td><td>1</td><td>1</td><td>0</td><td>0</td><td>0</td><td>0</td><td>0</td><td>0</td><td>0</td><td>0</td><td>0</td><td>0</td><td>0</td><td>0</td><td>0.9919350821603392</td><td>0.006987389758047666</td><td>0.001077528081613212</td></tr>\n",
       "<tr><td>71690</td><td>17943</td><td>16.258357097</td><td>2.14767972402</td><td>17.783</td><td>17.862</td><td>18.134</td><td>17.7</td><td>17.937</td><td>16.939</td><td>17.059</td><td>18.295</td><td>18.493</td><td>18.068</td><td>15.946</td><td>17.147</td><td>20.675</td><td>17.796</td><td>17.941</td><td>17.33</td><td>99.0</td><td>16.61</td><td>16.477</td><td>99.0</td><td>99.0</td><td>17.207</td><td>17.117</td><td>16.338</td><td>18.499</td><td>18.601</td><td>18.876</td><td>18.956</td><td>18.499</td><td>18.25</td><td>18.525</td><td>18.587</td><td>18.555</td><td>18.777</td><td>17.364</td><td>18.778</td><td>0.114</td><td>0.123</td><td>0.223</td><td>0.293</td><td>0.286</td><td>0.12</td><td>0.133</td><td>0.327</td><td>0.398</td><td>0.252</td><td>0.039</td><td>0.216</td><td>3.066</td><td>0.214</td><td>0.358</td><td>0.399</td><td>99.0</td><td>0.163</td><td>0.142</td><td>99.0</td><td>99.0</td><td>0.207</td><td>0.212</td><td>0.195</td><td>0.032</td><td>0.038</td><td>0.058</td><td>0.118</td><td>0.074</td><td>0.062</td><td>0.077</td><td>0.066</td><td>0.063</td><td>0.072</td><td>0.024</td><td>0.125</td><td>3</td><td>3</td><td>3</td><td>3</td><td>3</td><td>3</td><td>3</td><td>3</td><td>3</td><td>3</td><td>3</td><td>3</td><td>0</td><td>0</td><td>0</td><td>0</td><td>0</td><td>0</td><td>0</td><td>0</td><td>0</td><td>0</td><td>0</td><td>0</td><td>0.7320158680698526</td><td>0.16026841311179982</td><td>0.10771571881834757</td></tr>\n",
       "<tr><td>71690</td><td>17948</td><td>16.2867838969</td><td>2.15302283039</td><td>19.345</td><td>19.476</td><td>19.878</td><td>19.746</td><td>19.403</td><td>19.445</td><td>19.949</td><td>19.842</td><td>19.773</td><td>19.776</td><td>17.759</td><td>20.493</td><td>19.447</td><td>19.803</td><td>20.134</td><td>20.154</td><td>18.866</td><td>19.33</td><td>20.314</td><td>20.573</td><td>20.003</td><td>20.535</td><td>17.601</td><td>20.525</td><td>19.344</td><td>19.518</td><td>19.934</td><td>19.881</td><td>19.512</td><td>19.357</td><td>19.967</td><td>19.778</td><td>19.8</td><td>19.841</td><td>17.782</td><td>20.397</td><td>0.071</td><td>0.083</td><td>0.157</td><td>0.271</td><td>0.173</td><td>0.184</td><td>0.29</td><td>0.211</td><td>0.193</td><td>0.188</td><td>0.033</td><td>0.666</td><td>0.13</td><td>0.184</td><td>0.338</td><td>0.676</td><td>0.177</td><td>0.276</td><td>0.681</td><td>0.689</td><td>0.401</td><td>0.631</td><td>0.045</td><td>1.173</td><td>0.064</td><td>0.078</td><td>0.148</td><td>0.274</td><td>0.173</td><td>0.154</td><td>0.265</td><td>0.18</td><td>0.179</td><td>0.18</td><td>0.031</td><td>0.545</td><td>0</td><td>0</td><td>0</td><td>0</td><td>0</td><td>0</td><td>0</td><td>0</td><td>0</td><td>0</td><td>0</td><td>0</td><td>0</td><td>0</td><td>0</td><td>0</td><td>0</td><td>0</td><td>0</td><td>0</td><td>0</td><td>0</td><td>0</td><td>0</td><td>0.9636770970888328</td><td>0.035611397803447034</td><td>0.0007115051077203122</td></tr>\n",
       "<tr><td>71690</td><td>18107</td><td>16.2602086665</td><td>2.13418797285</td><td>16.984</td><td>16.583</td><td>16.654</td><td>18.05</td><td>16.927</td><td>15.339</td><td>15.708</td><td>16.532</td><td>16.126</td><td>16.433</td><td>99.0</td><td>16.663</td><td>99.0</td><td>17.783</td><td>17.098</td><td>99.0</td><td>18.851</td><td>15.022</td><td>15.361</td><td>17.306</td><td>16.064</td><td>16.617</td><td>99.0</td><td>16.764</td><td>19.071</td><td>19.073</td><td>19.404</td><td>19.461</td><td>19.133</td><td>18.812</td><td>18.979</td><td>18.883</td><td>18.854</td><td>19.173</td><td>18.48</td><td>19.914</td><td>0.14</td><td>0.095</td><td>0.151</td><td>1.072</td><td>0.269</td><td>0.068</td><td>0.094</td><td>0.155</td><td>0.113</td><td>0.137</td><td>99.0</td><td>0.363</td><td>99.0</td><td>0.419</td><td>0.341</td><td>99.0</td><td>2.218</td><td>0.074</td><td>0.098</td><td>0.448</td><td>0.156</td><td>0.231</td><td>99.0</td><td>0.594</td><td>0.052</td><td>0.056</td><td>0.093</td><td>0.188</td><td>0.129</td><td>0.099</td><td>0.116</td><td>0.087</td><td>0.082</td><td>0.103</td><td>0.057</td><td>0.352</td><td>3</td><td>3</td><td>3</td><td>3</td><td>3</td><td>3</td><td>3</td><td>3</td><td>3</td><td>3</td><td>3</td><td>3</td><td>0</td><td>0</td><td>0</td><td>0</td><td>0</td><td>0</td><td>0</td><td>0</td><td>0</td><td>0</td><td>0</td><td>0</td><td>0.6458717710596938</td><td>0.08465738196973566</td><td>0.2694708469705705</td></tr>\n",
       "<tr><td>71690</td><td>18758</td><td>16.2599953258</td><td>2.14481960376</td><td>17.587</td><td>18.574</td><td>18.644</td><td>18.524</td><td>18.403</td><td>17.702</td><td>18.45</td><td>19.033</td><td>18.137</td><td>19.18</td><td>15.795</td><td>18.597</td><td>17.655</td><td>18.888</td><td>18.761</td><td>18.814</td><td>18.587</td><td>17.866</td><td>18.504</td><td>19.606</td><td>18.353</td><td>19.447</td><td>15.822</td><td>18.488</td><td>17.794</td><td>18.816</td><td>18.924</td><td>19.067</td><td>18.495</td><td>18.032</td><td>18.552</td><td>18.906</td><td>18.626</td><td>19.342</td><td>15.929</td><td>18.806</td><td>0.024</td><td>0.06</td><td>0.084</td><td>0.146</td><td>0.115</td><td>0.063</td><td>0.122</td><td>0.165</td><td>0.072</td><td>0.178</td><td>0.011</td><td>0.194</td><td>0.033</td><td>0.104</td><td>0.125</td><td>0.255</td><td>0.177</td><td>0.095</td><td>0.168</td><td>0.366</td><td>0.115</td><td>0.299</td><td>0.013</td><td>0.233</td><td>0.018</td><td>0.044</td><td>0.06</td><td>0.131</td><td>0.073</td><td>0.051</td><td>0.078</td><td>0.085</td><td>0.066</td><td>0.117</td><td>0.009</td><td>0.128</td><td>3</td><td>3</td><td>3</td><td>3</td><td>3</td><td>3</td><td>3</td><td>3</td><td>3</td><td>3</td><td>3</td><td>3</td><td>0</td><td>0</td><td>0</td><td>0</td><td>0</td><td>0</td><td>0</td><td>0</td><td>0</td><td>0</td><td>0</td><td>0</td><td>0.9905304021233836</td><td>0.009464484021053614</td><td>5.1138555628303225e-06</td></tr>\n",
       "<tr><td>71690</td><td>19796</td><td>16.2521709332</td><td>2.17814202988</td><td>18.965</td><td>19.035</td><td>19.197</td><td>18.732</td><td>18.371</td><td>19.123</td><td>18.642</td><td>18.999</td><td>19.152</td><td>18.769</td><td>17.836</td><td>23.178</td><td>18.945</td><td>18.923</td><td>19.241</td><td>18.636</td><td>18.228</td><td>19.283</td><td>18.585</td><td>18.976</td><td>19.177</td><td>18.755</td><td>17.827</td><td>99.0</td><td>19.255</td><td>19.318</td><td>19.45</td><td>19.372</td><td>19.143</td><td>19.155</td><td>19.332</td><td>19.467</td><td>19.491</td><td>19.379</td><td>18.125</td><td>19.77</td><td>0.103</td><td>0.112</td><td>0.176</td><td>0.225</td><td>0.137</td><td>0.281</td><td>0.181</td><td>0.199</td><td>0.227</td><td>0.153</td><td>0.067</td><td>16.71</td><td>0.111</td><td>0.111</td><td>0.202</td><td>0.227</td><td>0.132</td><td>0.358</td><td>0.188</td><td>0.214</td><td>0.255</td><td>0.166</td><td>0.073</td><td>99.0</td><td>0.059</td><td>0.066</td><td>0.096</td><td>0.172</td><td>0.125</td><td>0.13</td><td>0.151</td><td>0.138</td><td>0.138</td><td>0.12</td><td>0.041</td><td>0.308</td><td>3</td><td>3</td><td>3</td><td>3</td><td>3</td><td>3</td><td>3</td><td>3</td><td>3</td><td>3</td><td>3</td><td>3</td><td>0</td><td>0</td><td>0</td><td>0</td><td>0</td><td>0</td><td>0</td><td>0</td><td>0</td><td>0</td><td>0</td><td>0</td><td>0.6317720577446488</td><td>0.23398896840233907</td><td>0.13423897385301212</td></tr>\n",
       "<tr><td>71690</td><td>23029</td><td>16.2526358051</td><td>2.14737116302</td><td>17.494</td><td>99.0</td><td>17.591</td><td>18.713</td><td>18.656</td><td>99.0</td><td>18.304</td><td>17.777</td><td>18.247</td><td>99.0</td><td>16.022</td><td>99.0</td><td>17.048</td><td>99.0</td><td>17.0</td><td>17.508</td><td>99.0</td><td>99.0</td><td>99.0</td><td>99.0</td><td>19.154</td><td>99.0</td><td>15.598</td><td>99.0</td><td>19.079</td><td>19.27</td><td>19.66</td><td>19.663</td><td>18.609</td><td>18.357</td><td>19.018</td><td>19.366</td><td>19.178</td><td>19.616</td><td>17.654</td><td>19.856</td><td>0.192</td><td>99.0</td><td>0.306</td><td>1.686</td><td>1.14</td><td>99.0</td><td>0.887</td><td>0.421</td><td>0.687</td><td>99.0</td><td>0.09</td><td>99.0</td><td>0.205</td><td>99.0</td><td>0.291</td><td>0.91</td><td>99.0</td><td>99.0</td><td>99.0</td><td>99.0</td><td>2.509</td><td>99.0</td><td>0.097</td><td>99.0</td><td>0.051</td><td>0.064</td><td>0.116</td><td>0.225</td><td>0.081</td><td>0.067</td><td>0.116</td><td>0.128</td><td>0.105</td><td>0.15</td><td>0.03</td><td>0.333</td><td>3</td><td>3</td><td>3</td><td>3</td><td>3</td><td>3</td><td>3</td><td>3</td><td>3</td><td>3</td><td>3</td><td>3</td><td>0</td><td>0</td><td>0</td><td>0</td><td>0</td><td>0</td><td>0</td><td>0</td><td>0</td><td>0</td><td>0</td><td>0</td><td>0.9884825319486351</td><td>0.010793694531070798</td><td>0.000723773520294277</td></tr>\n",
       "<tr><td>...</td><td>...</td><td>...</td><td>...</td><td>...</td><td>...</td><td>...</td><td>...</td><td>...</td><td>...</td><td>...</td><td>...</td><td>...</td><td>...</td><td>...</td><td>...</td><td>...</td><td>...</td><td>...</td><td>...</td><td>...</td><td>...</td><td>...</td><td>...</td><td>...</td><td>...</td><td>...</td><td>...</td><td>...</td><td>...</td><td>...</td><td>...</td><td>...</td><td>...</td><td>...</td><td>...</td><td>...</td><td>...</td><td>...</td><td>...</td><td>...</td><td>...</td><td>...</td><td>...</td><td>...</td><td>...</td><td>...</td><td>...</td><td>...</td><td>...</td><td>...</td><td>...</td><td>...</td><td>...</td><td>...</td><td>...</td><td>...</td><td>...</td><td>...</td><td>...</td><td>...</td><td>...</td><td>...</td><td>...</td><td>...</td><td>...</td><td>...</td><td>...</td><td>...</td><td>...</td><td>...</td><td>...</td><td>...</td><td>...</td><td>...</td><td>...</td><td>...</td><td>...</td><td>...</td><td>...</td><td>...</td><td>...</td><td>...</td><td>...</td><td>...</td><td>...</td><td>...</td><td>...</td><td>...</td><td>...</td><td>...</td><td>...</td><td>...</td><td>...</td><td>...</td><td>...</td><td>...</td><td>...</td><td>...</td><td>...</td><td>...</td><td>...</td><td>...</td></tr>\n",
       "<tr><td>75572</td><td>7008</td><td>154.912806317</td><td>45.5110048023</td><td>18.798</td><td>18.723</td><td>19.468</td><td>17.84</td><td>18.015</td><td>18.002</td><td>17.929</td><td>18.288</td><td>19.37</td><td>18.745</td><td>17.84</td><td>21.404</td><td>18.964</td><td>18.564</td><td>21.969</td><td>17.483</td><td>17.761</td><td>17.745</td><td>17.713</td><td>17.853</td><td>19.388</td><td>18.367</td><td>17.985</td><td>99.0</td><td>19.863</td><td>19.952</td><td>20.049</td><td>20.143</td><td>19.62</td><td>19.425</td><td>19.852</td><td>19.885</td><td>20.089</td><td>19.991</td><td>18.805</td><td>20.193</td><td>0.205</td><td>0.186</td><td>0.458</td><td>0.252</td><td>0.209</td><td>0.217</td><td>0.22</td><td>0.215</td><td>0.573</td><td>0.349</td><td>0.162</td><td>7.727</td><td>0.322</td><td>0.216</td><td>6.196</td><td>0.245</td><td>0.216</td><td>0.225</td><td>0.254</td><td>0.189</td><td>0.77</td><td>0.328</td><td>0.248</td><td>99.0</td><td>0.08</td><td>0.087</td><td>0.111</td><td>0.294</td><td>0.147</td><td>0.128</td><td>0.186</td><td>0.147</td><td>0.173</td><td>0.166</td><td>0.061</td><td>0.36</td><td>3</td><td>3</td><td>3</td><td>3</td><td>3</td><td>3</td><td>3</td><td>3</td><td>3</td><td>3</td><td>3</td><td>3</td><td>0</td><td>0</td><td>0</td><td>0</td><td>0</td><td>0</td><td>0</td><td>0</td><td>0</td><td>0</td><td>0</td><td>0</td><td>0.5598781890128005</td><td>0.18621246702015745</td><td>0.25390934396704207</td></tr>\n",
       "<tr><td>75572</td><td>15626</td><td>154.679463255</td><td>46.0505559068</td><td>15.372</td><td>15.635</td><td>15.323</td><td>15.363</td><td>16.278</td><td>16.073</td><td>15.793</td><td>15.841</td><td>15.58</td><td>15.606</td><td>14.74</td><td>15.202</td><td>15.571</td><td>15.976</td><td>15.562</td><td>15.813</td><td>15.949</td><td>16.46</td><td>15.672</td><td>16.106</td><td>15.476</td><td>15.664</td><td>14.769</td><td>15.283</td><td>17.625</td><td>17.542</td><td>18.086</td><td>18.041</td><td>18.02</td><td>17.668</td><td>17.854</td><td>18.099</td><td>17.934</td><td>18.152</td><td>16.102</td><td>18.096</td><td>0.018</td><td>0.022</td><td>0.02</td><td>0.052</td><td>0.076</td><td>0.067</td><td>0.055</td><td>0.042</td><td>0.033</td><td>0.037</td><td>0.018</td><td>0.051</td><td>0.046</td><td>0.063</td><td>0.055</td><td>0.172</td><td>0.106</td><td>0.187</td><td>0.099</td><td>0.104</td><td>0.059</td><td>0.081</td><td>0.04</td><td>0.117</td><td>0.013</td><td>0.014</td><td>0.021</td><td>0.045</td><td>0.039</td><td>0.031</td><td>0.035</td><td>0.034</td><td>0.029</td><td>0.035</td><td>0.009</td><td>0.056</td><td>3</td><td>3</td><td>3</td><td>3</td><td>3</td><td>3</td><td>3</td><td>3</td><td>3</td><td>3</td><td>3</td><td>3</td><td>0</td><td>0</td><td>0</td><td>0</td><td>0</td><td>0</td><td>0</td><td>0</td><td>0</td><td>0</td><td>0</td><td>0</td><td>0.8901723795601393</td><td>0.10673620670194323</td><td>0.003091413737917453</td></tr>\n",
       "<tr><td>66536</td><td>12008</td><td>187.20049073</td><td>43.230197756</td><td>18.15</td><td>18.724</td><td>18.652</td><td>17.714</td><td>17.904</td><td>17.328</td><td>17.694</td><td>19.597</td><td>17.982</td><td>20.379</td><td>16.638</td><td>18.135</td><td>99.0</td><td>99.0</td><td>99.0</td><td>18.047</td><td>17.198</td><td>16.785</td><td>17.23</td><td>99.0</td><td>17.843</td><td>99.0</td><td>17.064</td><td>18.638</td><td>18.738</td><td>18.686</td><td>19.515</td><td>19.588</td><td>18.956</td><td>18.645</td><td>19.109</td><td>19.311</td><td>19.132</td><td>19.573</td><td>16.907</td><td>20.136</td><td>0.126</td><td>0.217</td><td>0.229</td><td>0.206</td><td>0.21</td><td>0.142</td><td>0.191</td><td>0.917</td><td>0.188</td><td>1.854</td><td>0.055</td><td>0.38</td><td>99.0</td><td>99.0</td><td>99.0</td><td>0.488</td><td>0.183</td><td>0.146</td><td>0.204</td><td>99.0</td><td>0.278</td><td>99.0</td><td>0.14</td><td>1.056</td><td>0.031</td><td>0.032</td><td>0.065</td><td>0.157</td><td>0.086</td><td>0.073</td><td>0.11</td><td>0.104</td><td>0.083</td><td>0.129</td><td>0.015</td><td>0.323</td><td>3</td><td>3</td><td>3</td><td>3</td><td>3</td><td>3</td><td>3</td><td>3</td><td>3</td><td>3</td><td>3</td><td>3</td><td>0</td><td>0</td><td>0</td><td>0</td><td>0</td><td>0</td><td>0</td><td>0</td><td>0</td><td>0</td><td>0</td><td>0</td><td>0.9973550817187602</td><td>0.0026404175610628125</td><td>4.500720176986818e-06</td></tr>\n",
       "<tr><td>66536</td><td>12037</td><td>187.194444923</td><td>43.2291950512</td><td>19.294</td><td>20.485</td><td>99.0</td><td>99.0</td><td>18.373</td><td>18.91</td><td>19.13</td><td>19.588</td><td>19.968</td><td>19.342</td><td>17.482</td><td>99.0</td><td>99.0</td><td>99.0</td><td>99.0</td><td>99.0</td><td>18.107</td><td>19.649</td><td>19.228</td><td>99.0</td><td>99.0</td><td>99.0</td><td>18.277</td><td>99.0</td><td>19.143</td><td>19.21</td><td>19.863</td><td>19.728</td><td>19.255</td><td>19.105</td><td>19.574</td><td>19.697</td><td>19.428</td><td>19.61</td><td>17.526</td><td>20.136</td><td>0.145</td><td>0.455</td><td>99.0</td><td>99.0</td><td>0.136</td><td>0.252</td><td>0.307</td><td>0.379</td><td>0.495</td><td>0.298</td><td>0.05</td><td>99.0</td><td>99.0</td><td>99.0</td><td>99.0</td><td>99.0</td><td>0.162</td><td>0.781</td><td>0.509</td><td>99.0</td><td>99.0</td><td>99.0</td><td>0.16</td><td>99.0</td><td>0.044</td><td>0.05</td><td>0.09</td><td>0.179</td><td>0.11</td><td>0.108</td><td>0.165</td><td>0.145</td><td>0.108</td><td>0.134</td><td>0.022</td><td>0.323</td><td>3</td><td>3</td><td>3</td><td>3</td><td>3</td><td>3</td><td>3</td><td>3</td><td>3</td><td>3</td><td>3</td><td>3</td><td>0</td><td>0</td><td>0</td><td>0</td><td>0</td><td>0</td><td>0</td><td>0</td><td>0</td><td>0</td><td>0</td><td>0</td><td>0.9791614209386692</td><td>0.020512624641173323</td><td>0.00032595442015756254</td></tr>\n",
       "<tr><td>66536</td><td>15026</td><td>187.179275606</td><td>43.2424874012</td><td>18.064</td><td>17.86</td><td>18.681</td><td>18.824</td><td>18.548</td><td>18.266</td><td>17.979</td><td>18.777</td><td>18.166</td><td>19.241</td><td>16.17</td><td>18.26</td><td>17.974</td><td>17.82</td><td>18.517</td><td>18.717</td><td>18.294</td><td>18.18</td><td>18.152</td><td>18.958</td><td>18.133</td><td>19.43</td><td>16.116</td><td>18.2</td><td>18.606</td><td>18.212</td><td>19.386</td><td>19.454</td><td>18.873</td><td>18.573</td><td>18.575</td><td>19.055</td><td>18.748</td><td>19.409</td><td>16.61</td><td>19.509</td><td>0.059</td><td>0.051</td><td>0.115</td><td>0.295</td><td>0.203</td><td>0.178</td><td>0.136</td><td>0.227</td><td>0.119</td><td>0.342</td><td>0.019</td><td>0.218</td><td>0.067</td><td>0.061</td><td>0.124</td><td>0.333</td><td>0.199</td><td>0.203</td><td>0.195</td><td>0.332</td><td>0.142</td><td>0.505</td><td>0.022</td><td>0.258</td><td>0.027</td><td>0.022</td><td>0.058</td><td>0.139</td><td>0.08</td><td>0.069</td><td>0.07</td><td>0.083</td><td>0.06</td><td>0.111</td><td>0.012</td><td>0.181</td><td>0</td><td>0</td><td>0</td><td>0</td><td>0</td><td>0</td><td>0</td><td>0</td><td>0</td><td>0</td><td>0</td><td>0</td><td>0</td><td>0</td><td>0</td><td>0</td><td>0</td><td>0</td><td>0</td><td>0</td><td>0</td><td>0</td><td>0</td><td>0</td><td>0.9964898625425456</td><td>0.003502615436501751</td><td>7.522020952562875e-06</td></tr>\n",
       "<tr><td>66536</td><td>15868</td><td>187.210781084</td><td>43.2170412703</td><td>18.847</td><td>19.098</td><td>19.726</td><td>19.563</td><td>18.797</td><td>18.416</td><td>20.062</td><td>18.921</td><td>19.395</td><td>18.901</td><td>17.606</td><td>19.509</td><td>18.977</td><td>19.172</td><td>19.493</td><td>19.413</td><td>18.611</td><td>17.969</td><td>20.184</td><td>18.653</td><td>19.344</td><td>18.994</td><td>17.526</td><td>18.491</td><td>19.968</td><td>19.735</td><td>20.57</td><td>19.882</td><td>19.881</td><td>19.231</td><td>20.213</td><td>20.161</td><td>20.063</td><td>20.476</td><td>18.365</td><td>20.822</td><td>0.138</td><td>0.181</td><td>0.346</td><td>0.668</td><td>0.291</td><td>0.232</td><td>1.048</td><td>0.294</td><td>0.419</td><td>0.286</td><td>0.078</td><td>0.792</td><td>0.224</td><td>0.276</td><td>0.407</td><td>0.832</td><td>0.345</td><td>0.218</td><td>1.636</td><td>0.326</td><td>0.562</td><td>0.44</td><td>0.103</td><td>0.445</td><td>0.088</td><td>0.078</td><td>0.166</td><td>0.204</td><td>0.191</td><td>0.119</td><td>0.293</td><td>0.218</td><td>0.185</td><td>0.287</td><td>0.041</td><td>0.602</td><td>3</td><td>3</td><td>3</td><td>3</td><td>3</td><td>3</td><td>3</td><td>3</td><td>3</td><td>3</td><td>3</td><td>3</td><td>0</td><td>0</td><td>0</td><td>0</td><td>0</td><td>0</td><td>0</td><td>0</td><td>0</td><td>0</td><td>0</td><td>0</td><td>0.984023732355458</td><td>0.01582401888254793</td><td>0.00015224876199411563</td></tr>\n",
       "<tr><td>75684</td><td>23895</td><td>107.21534089</td><td>50.4520452684</td><td>17.51</td><td>17.791</td><td>18.211</td><td>17.754</td><td>17.409</td><td>17.439</td><td>18.572</td><td>16.865</td><td>16.88</td><td>18.387</td><td>16.958</td><td>16.86</td><td>17.462</td><td>17.791</td><td>18.153</td><td>17.646</td><td>17.421</td><td>17.418</td><td>18.541</td><td>16.841</td><td>16.872</td><td>18.298</td><td>16.96</td><td>16.804</td><td>17.808</td><td>18.062</td><td>19.246</td><td>18.389</td><td>18.499</td><td>18.039</td><td>18.678</td><td>17.445</td><td>17.495</td><td>19.217</td><td>17.225</td><td>17.235</td><td>0.037</td><td>0.049</td><td>0.084</td><td>0.127</td><td>0.073</td><td>0.077</td><td>0.214</td><td>0.038</td><td>0.039</td><td>0.139</td><td>0.043</td><td>0.065</td><td>0.039</td><td>0.055</td><td>0.09</td><td>0.131</td><td>0.081</td><td>0.083</td><td>0.233</td><td>0.041</td><td>0.043</td><td>0.143</td><td>0.048</td><td>0.069</td><td>0.026</td><td>0.035</td><td>0.102</td><td>0.104</td><td>0.107</td><td>0.078</td><td>0.122</td><td>0.042</td><td>0.045</td><td>0.149</td><td>0.032</td><td>0.047</td><td>1</td><td>1</td><td>1</td><td>1</td><td>1</td><td>1</td><td>1</td><td>1</td><td>1</td><td>1</td><td>1</td><td>1</td><td>1</td><td>1</td><td>1</td><td>1</td><td>1</td><td>1</td><td>1</td><td>1</td><td>1</td><td>1</td><td>1</td><td>1</td><td>0.5117324546580617</td><td>0.3331181566453616</td><td>0.1551493886965767</td></tr>\n",
       "<tr><td>64138</td><td>3942</td><td>126.48124639</td><td>35.5422314816</td><td>17.899</td><td>17.832</td><td>18.178</td><td>18.205</td><td>18.402</td><td>18.311</td><td>18.139</td><td>18.292</td><td>18.115</td><td>18.451</td><td>16.348</td><td>18.377</td><td>17.875</td><td>17.752</td><td>17.972</td><td>18.449</td><td>18.224</td><td>18.212</td><td>17.968</td><td>18.097</td><td>17.993</td><td>18.412</td><td>16.228</td><td>17.723</td><td>18.222</td><td>18.131</td><td>18.714</td><td>18.978</td><td>18.694</td><td>18.637</td><td>18.497</td><td>18.647</td><td>18.522</td><td>18.84</td><td>16.51</td><td>19.022</td><td>0.032</td><td>0.028</td><td>0.061</td><td>0.114</td><td>0.098</td><td>0.092</td><td>0.08</td><td>0.077</td><td>0.065</td><td>0.088</td><td>0.015</td><td>0.183</td><td>0.057</td><td>0.046</td><td>0.096</td><td>0.271</td><td>0.151</td><td>0.152</td><td>0.123</td><td>0.116</td><td>0.104</td><td>0.155</td><td>0.023</td><td>0.189</td><td>0.024</td><td>0.022</td><td>0.052</td><td>0.118</td><td>0.071</td><td>0.069</td><td>0.063</td><td>0.059</td><td>0.053</td><td>0.068</td><td>0.012</td><td>0.169</td><td>0</td><td>0</td><td>0</td><td>0</td><td>0</td><td>0</td><td>0</td><td>0</td><td>0</td><td>0</td><td>0</td><td>0</td><td>0</td><td>0</td><td>0</td><td>0</td><td>0</td><td>0</td><td>0</td><td>0</td><td>0</td><td>0</td><td>0</td><td>0</td><td>0.9569376322048876</td><td>0.0424284686593174</td><td>0.0006338991357950123</td></tr>\n",
       "<tr><td>64747</td><td>18105</td><td>104.994489022</td><td>38.7048196736</td><td>15.555</td><td>15.95</td><td>17.293</td><td>15.199</td><td>18.546</td><td>17.028</td><td>16.851</td><td>16.591</td><td>17.154</td><td>18.367</td><td>15.452</td><td>17.93</td><td>15.563</td><td>15.98</td><td>17.349</td><td>15.225</td><td>18.565</td><td>17.044</td><td>16.876</td><td>16.59</td><td>17.183</td><td>18.493</td><td>15.463</td><td>17.966</td><td>15.595</td><td>15.999</td><td>17.391</td><td>15.236</td><td>18.741</td><td>17.081</td><td>16.9</td><td>16.608</td><td>17.222</td><td>18.732</td><td>15.49</td><td>18.362</td><td>0.009</td><td>0.01</td><td>0.076</td><td>0.018</td><td>0.099</td><td>0.033</td><td>0.03</td><td>0.025</td><td>0.036</td><td>0.091</td><td>0.014</td><td>0.14</td><td>0.009</td><td>0.01</td><td>0.075</td><td>0.018</td><td>0.094</td><td>0.032</td><td>0.029</td><td>0.025</td><td>0.035</td><td>0.094</td><td>0.014</td><td>0.131</td><td>0.009</td><td>0.01</td><td>0.066</td><td>0.016</td><td>0.095</td><td>0.03</td><td>0.027</td><td>0.023</td><td>0.033</td><td>0.094</td><td>0.013</td><td>0.139</td><td>1</td><td>1</td><td>1</td><td>1</td><td>1</td><td>1</td><td>1</td><td>1</td><td>1</td><td>1</td><td>1</td><td>1</td><td>1</td><td>1</td><td>1</td><td>1</td><td>1</td><td>1</td><td>1</td><td>1</td><td>1</td><td>1</td><td>1</td><td>1</td><td>0.9846254726631253</td><td>0.015374498909453204</td><td>2.8427421512650468e-08</td></tr>\n",
       "<tr><td>66608</td><td>6957</td><td>221.047622585</td><td>42.6265792238</td><td>15.908</td><td>15.949</td><td>16.063</td><td>15.849</td><td>16.679</td><td>16.435</td><td>16.227</td><td>16.139</td><td>16.108</td><td>16.014</td><td>15.207</td><td>16.081</td><td>15.867</td><td>15.926</td><td>16.05</td><td>15.735</td><td>16.645</td><td>16.495</td><td>16.209</td><td>16.143</td><td>16.1</td><td>15.96</td><td>15.175</td><td>16.161</td><td>17.758</td><td>17.57</td><td>18.137</td><td>18.082</td><td>18.184</td><td>17.974</td><td>17.897</td><td>18.007</td><td>17.861</td><td>18.083</td><td>16.396</td><td>18.279</td><td>0.017</td><td>0.018</td><td>0.03</td><td>0.052</td><td>0.084</td><td>0.069</td><td>0.058</td><td>0.04</td><td>0.036</td><td>0.035</td><td>0.018</td><td>0.069</td><td>0.021</td><td>0.021</td><td>0.038</td><td>0.06</td><td>0.101</td><td>0.09</td><td>0.071</td><td>0.051</td><td>0.045</td><td>0.042</td><td>0.022</td><td>0.093</td><td>0.015</td><td>0.015</td><td>0.027</td><td>0.05</td><td>0.051</td><td>0.045</td><td>0.043</td><td>0.036</td><td>0.031</td><td>0.036</td><td>0.011</td><td>0.069</td><td>3</td><td>3</td><td>3</td><td>3</td><td>3</td><td>3</td><td>3</td><td>3</td><td>3</td><td>3</td><td>3</td><td>3</td><td>0</td><td>0</td><td>0</td><td>0</td><td>0</td><td>0</td><td>0</td><td>0</td><td>0</td><td>0</td><td>0</td><td>0</td><td>0.8306563269877199</td><td>0.154152066681078</td><td>0.015191606331201979</td></tr>\n",
       "</table>"
      ],
      "text/plain": [
       "<Table length=236>\n",
       " Tile Number       RA      ...        P(SySt)             P(all else)      \n",
       "int64 int64     float64    ...        float64               float64        \n",
       "----- ------ ------------- ... --------------------- ----------------------\n",
       "71690  16613 16.2567232493 ... 0.0002617359499862389  9.046190989986609e-08\n",
       "71690  16885 16.2572506852 ...  0.050093796178524955    0.31234394493559586\n",
       "71690  17355 16.2730098396 ...    0.1957477578555598   0.004251198259162822\n",
       "71690  17695 16.2627902395 ...  0.006987389758047666   0.001077528081613212\n",
       "71690  17943  16.258357097 ...   0.16026841311179982    0.10771571881834757\n",
       "71690  17948 16.2867838969 ...  0.035611397803447034  0.0007115051077203122\n",
       "71690  18107 16.2602086665 ...   0.08465738196973566     0.2694708469705705\n",
       "71690  18758 16.2599953258 ...  0.009464484021053614 5.1138555628303225e-06\n",
       "71690  19796 16.2521709332 ...   0.23398896840233907    0.13423897385301212\n",
       "71690  23029 16.2526358051 ...  0.010793694531070798   0.000723773520294277\n",
       "  ...    ...           ... ...                   ...                    ...\n",
       "75572   7008 154.912806317 ...   0.18621246702015745    0.25390934396704207\n",
       "75572  15626 154.679463255 ...   0.10673620670194323   0.003091413737917453\n",
       "66536  12008  187.20049073 ... 0.0026404175610628125  4.500720176986818e-06\n",
       "66536  12037 187.194444923 ...  0.020512624641173323 0.00032595442015756254\n",
       "66536  15026 187.179275606 ...  0.003502615436501751  7.522020952562875e-06\n",
       "66536  15868 187.210781084 ...   0.01582401888254793 0.00015224876199411563\n",
       "75684  23895  107.21534089 ...    0.3331181566453616     0.1551493886965767\n",
       "64138   3942  126.48124639 ...    0.0424284686593174  0.0006338991357950123\n",
       "64747  18105 104.994489022 ...  0.015374498909453204 2.8427421512650468e-08\n",
       "66608   6957 221.047622585 ...     0.154152066681078   0.015191606331201979"
      ]
     },
     "execution_count": 4,
     "metadata": {},
     "output_type": "execute_result"
    }
   ],
   "source": [
    "data"
   ]
  },
  {
   "cell_type": "code",
   "execution_count": 5,
   "metadata": {},
   "outputs": [],
   "source": [
    "idd=data[\"Number\"]\n",
    "ra=data[\"RA\"]\n",
    "dec=data[\"Dec\"]"
   ]
  },
  {
   "cell_type": "code",
   "execution_count": 6,
   "metadata": {},
   "outputs": [],
   "source": [
    "asciifile = \"PN-pc-Halpha_emitters_threeerror-cleaning-limfilter-limcolor-flags-coord.dat\"\n",
    "file=open(os.path.join(datadir, asciifile),'w') #create file  \n",
    "for x,y,z in zip(idd, ra, dec):  \n",
    "    file.write('%s  %f  %f\\n'%(x,y,z))     #assume you separate columns by tabs  \n",
    "file.close()     #close file  "
   ]
  },
  {
   "cell_type": "code",
   "execution_count": null,
   "metadata": {},
   "outputs": [],
   "source": []
  },
  {
   "cell_type": "code",
   "execution_count": null,
   "metadata": {},
   "outputs": [],
   "source": []
  },
  {
   "cell_type": "code",
   "execution_count": null,
   "metadata": {},
   "outputs": [],
   "source": []
  },
  {
   "cell_type": "code",
   "execution_count": null,
   "metadata": {},
   "outputs": [],
   "source": []
  }
 ],
 "metadata": {
  "kernelspec": {
   "display_name": "Python 3",
   "language": "python",
   "name": "python3"
  },
  "language_info": {
   "codemirror_mode": {
    "name": "ipython",
    "version": 3
   },
   "file_extension": ".py",
   "mimetype": "text/x-python",
   "name": "python",
   "nbconvert_exporter": "python",
   "pygments_lexer": "ipython3",
   "version": "3.7.3"
  }
 },
 "nbformat": 4,
 "nbformat_minor": 2
}
