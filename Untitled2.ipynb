{
 "cells": [
  {
   "cell_type": "code",
   "execution_count": 5,
   "metadata": {
    "collapsed": true
   },
   "outputs": [],
   "source": [
    "import scipy\n",
    "import numpy as np\n",
    "from astropy.io import fits\n",
    "import os \n",
    "import matplotlib.pyplot as plt\n",
    "from astropy.wcs import WCS\n",
    "%matplotlib inline"
   ]
  },
  {
   "cell_type": "code",
   "execution_count": 8,
   "metadata": {
    "collapsed": false
   },
   "outputs": [
    {
     "name": "stderr",
     "output_type": "stream",
     "text": [
      "WARNING: AstropyDeprecationWarning: Config parameter 'enabled_record_valued_keyword_cards' in section [io.fits] of the file '/home/angel/.astropy/config/astropy.cfg' is deprecated. Use 'enable_record_valued_keyword_cards' in section [io.fits] instead. [astropy.config.configuration]\n",
      "WARNING:astropy:AstropyDeprecationWarning: Config parameter 'enabled_record_valued_keyword_cards' in section [io.fits] of the file '/home/angel/.astropy/config/astropy.cfg' is deprecated. Use 'enable_record_valued_keyword_cards' in section [io.fits] instead.\n"
     ]
    }
   ],
   "source": [
    "datadir = \"../../../S-PLUS_IAG_Nov16/NGC2242/\"\n",
    "fitsfile = \"1500054-NGC2242_iSDSS_single.catalog\"\n",
    "hdulist= fits.open(os.path.join(datadir, fitsfile))"
   ]
  },
  {
   "cell_type": "code",
   "execution_count": 9,
   "metadata": {
    "collapsed": false
   },
   "outputs": [
    {
     "name": "stdout",
     "output_type": "stream",
     "text": [
      "Filename: ../../../S-PLUS_IAG_Nov16/NGC2242/1500054-NGC2242_iSDSS_single.catalog\n",
      "No.    Name         Type      Cards   Dimensions   Format\n",
      "0    PRIMARY     PrimaryHDU       4   ()              \n",
      "1    LDAC_IMHEAD  BinTableHDU     12   1R x 1C      [9920A]   \n",
      "2    LDAC_OBJECTS  BinTableHDU    119   34454R x 54C   [J, E, E, E, E, E, E, E, E, E, D, D, D, D, E, E, E, E, E, E, I, E, E, E, E, E, E, E, E, J, E, 8E, 8E, 8E, 8E, E, E, E, E, E, E, E, E, E, E, E, E, E, E, E, E, E, E, E]   \n"
     ]
    }
   ],
   "source": [
    "hdulist.info()"
   ]
  },
  {
   "cell_type": "code",
   "execution_count": 12,
   "metadata": {
    "collapsed": false
   },
   "outputs": [
    {
     "data": {
      "text/plain": [
       "XTENSION= 'BINTABLE'           / THIS IS A BINARY TABLE (FROM THE LDACTOOLS)    \n",
       "BITPIX  =                    8 /                                                \n",
       "NAXIS   =                    2 /                                                \n",
       "NAXIS1  =                  342 / BYTES PER ROW                                  \n",
       "NAXIS2  =                34454 / NUMBER OF ROWS                                 \n",
       "PCOUNT  =                    0 / RANDOM PARAMETER COUNT                         \n",
       "GCOUNT  =                    1 / GROUP COUNT                                    \n",
       "TFIELDS =                   54 / FIELDS PER ROWS                                \n",
       "EXTNAME = 'LDAC_OBJECTS'       / TABLE NAME                                     \n",
       "TTYPE1  = 'NUMBER  '                                                            \n",
       "TFORM1  = 'J       '                                                            \n",
       "TTYPE2  = 'X_IMAGE '                                                            \n",
       "TFORM2  = 'E       '                                                            \n",
       "TTYPE3  = 'Y_IMAGE '                                                            \n",
       "TFORM3  = 'E       '                                                            \n",
       "TTYPE4  = 'THETA_WORLD'                                                         \n",
       "TFORM4  = 'E       '                                                            \n",
       "TTYPE5  = 'ERRTHETA_WORLD'                                                      \n",
       "TFORM5  = 'E       '                                                            \n",
       "TTYPE6  = 'ERRA_IMAGE'                                                          \n",
       "TFORM6  = 'E       '                                                            \n",
       "TTYPE7  = 'ERRB_IMAGE'                                                          \n",
       "TFORM7  = 'E       '                                                            \n",
       "TTYPE8  = 'ERRTHETA_IMAGE'                                                      \n",
       "TFORM8  = 'E       '                                                            \n",
       "TTYPE9  = 'FLUX_AUTO'                                                           \n",
       "TFORM9  = 'E       '                                                            \n",
       "TTYPE10 = 'FLUXERR_AUTO'                                                        \n",
       "TFORM10 = 'E       '                                                            \n",
       "TTYPE11 = 'ALPHA_J2000'                                                         \n",
       "TFORM11 = 'D       '                                                            \n",
       "TTYPE12 = 'DELTA_J2000'                                                         \n",
       "TFORM12 = 'D       '                                                            \n",
       "TTYPE13 = 'X_WORLD '                                                            \n",
       "TFORM13 = 'D       '                                                            \n",
       "TTYPE14 = 'Y_WORLD '                                                            \n",
       "TFORM14 = 'D       '                                                            \n",
       "TTYPE15 = 'MAG_AUTO'                                                            \n",
       "TFORM15 = 'E       '                                                            \n",
       "TTYPE16 = 'MAG_BEST'                                                            \n",
       "TFORM16 = 'E       '                                                            \n",
       "TTYPE17 = 'MAGERR_AUTO'                                                         \n",
       "TFORM17 = 'E       '                                                            \n",
       "TTYPE18 = 'MAGERR_BEST'                                                         \n",
       "TFORM18 = 'E       '                                                            \n",
       "TTYPE19 = 'FLUX_MAX'                                                            \n",
       "TFORM19 = 'E       '                                                            \n",
       "TTYPE20 = 'FWHM_IMAGE'                                                          \n",
       "TFORM20 = 'E       '                                                            \n",
       "TTYPE21 = 'FLAGS   '                                                            \n",
       "TFORM21 = 'I       '                                                            \n",
       "TTYPE22 = 'ELLIPTICITY'                                                         \n",
       "TFORM22 = 'E       '                                                            \n",
       "TTYPE23 = 'MU_THRESHOLD'                                                        \n",
       "TFORM23 = 'E       '                                                            \n",
       "TTYPE24 = 'THRESHOLD'                                                           \n",
       "TFORM24 = 'E       '                                                            \n",
       "TTYPE25 = 'BACKGROUND'                                                          \n",
       "TFORM25 = 'E       '                                                            \n",
       "TTYPE26 = 'THETA_IMAGE'                                                         \n",
       "TFORM26 = 'E       '                                                            \n",
       "TTYPE27 = 'A_IMAGE '                                                            \n",
       "TFORM27 = 'E       '                                                            \n",
       "TTYPE28 = 'B_IMAGE '                                                            \n",
       "TFORM28 = 'E       '                                                            \n",
       "TTYPE29 = 'FLUX_RADIUS'                                                         \n",
       "TFORM29 = 'E       '                                                            \n",
       "TTYPE30 = 'ISOAREA_IMAGE'                                                       \n",
       "TFORM30 = 'J       '                                                            \n",
       "TTYPE31 = 'CLASS_STAR'                                                          \n",
       "TFORM31 = 'E       '                                                            \n",
       "TTYPE32 = 'MAG_APER'                                                            \n",
       "TFORM32 = '8E      '                                                            \n",
       "TTYPE33 = 'MAGERR_APER'                                                         \n",
       "TFORM33 = '8E      '                                                            \n",
       "TTYPE34 = 'FLUX_APER'                                                           \n",
       "TFORM34 = '8E      '                                                            \n",
       "TTYPE35 = 'FLUXERR_APER'                                                        \n",
       "TFORM35 = '8E      '                                                            \n",
       "TTYPE36 = 'FWHM_WORLD'                                                          \n",
       "TFORM36 = 'E       '                                                            \n",
       "TTYPE37 = 'MU_MAX  '                                                            \n",
       "TFORM37 = 'E       '                                                            \n",
       "TTYPE38 = 'A_WORLD '                                                            \n",
       "TFORM38 = 'E       '                                                            \n",
       "TTYPE39 = 'B_WORLD '                                                            \n",
       "TFORM39 = 'E       '                                                            \n",
       "TTYPE40 = 'ERRA_WORLD'                                                          \n",
       "TFORM40 = 'E       '                                                            \n",
       "TTYPE41 = 'ERRB_WORLD'                                                          \n",
       "TFORM41 = 'E       '                                                            \n",
       "TTYPE42 = 'KRON_RADIUS'                                                         \n",
       "TFORM42 = 'E       '                                                            \n",
       "TTYPE43 = 'FLUX_ISO'                                                            \n",
       "TFORM43 = 'E       '                                                            \n",
       "TTYPE44 = 'FLUXERR_ISO'                                                         \n",
       "TFORM44 = 'E       '                                                            \n",
       "TTYPE45 = 'FLUX_ISOCOR'                                                         \n",
       "TFORM45 = 'E       '                                                            \n",
       "TTYPE46 = 'FLUXERR_ISOCOR'                                                      \n",
       "TFORM46 = 'E       '                                                            \n",
       "TTYPE47 = 'ISOAREA_WORLD'                                                       \n",
       "TFORM47 = 'E       '                                                            \n",
       "TTYPE48 = 'FLUX_PETRO'                                                          \n",
       "TFORM48 = 'E       '                                                            \n",
       "TTYPE49 = 'FLUXERR_PETRO'                                                       \n",
       "TFORM49 = 'E       '                                                            \n",
       "TTYPE50 = 'PETRO_RADIUS'                                                        \n",
       "TFORM50 = 'E       '                                                            \n",
       "TTYPE51 = 'MAGAPERCOR'                                                          \n",
       "TFORM51 = 'E       '                                                            \n",
       "TTYPE52 = 'FLUXAPERCOR'                                                         \n",
       "TFORM52 = 'E       '                                                            \n",
       "TTYPE53 = 'FLUXERR_APERCOR'                                                     \n",
       "TFORM53 = 'E       '                                                            \n",
       "TTYPE54 = 'PercW   '                                                            \n",
       "TFORM54 = 'E       '                                                            \n",
       "CHECKSUM= 'ZBmOi9mNZAmNf7mN'   / HDU checksum updated 2016-04-15T10:14:31       \n",
       "DATASUM = '301168695'          / data unit checksum updated 2016-04-15T10:14:31 "
      ]
     },
     "execution_count": 12,
     "metadata": {},
     "output_type": "execute_result"
    }
   ],
   "source": [
    "hdulist[2].header"
   ]
  },
  {
   "cell_type": "code",
   "execution_count": 21,
   "metadata": {
    "collapsed": false
   },
   "outputs": [],
   "source": [
    "hdu = hdulist[1]"
   ]
  },
  {
   "cell_type": "code",
   "execution_count": 22,
   "metadata": {
    "collapsed": false
   },
   "outputs": [
    {
     "data": {
      "text/plain": [
       "[(chararray(['SIMPLE  =                    T / This is a FITS file',\n",
       "        'BITPIX  =                  -32 /',\n",
       "        'NAXIS   =                    2 /',\n",
       "        'NAXIS1  =                 9500 / NUMBER OF ELEMENTS ALONG THIS AXIS',\n",
       "        'NAXIS2  =                 9500 / NUMBER OF ELEMENTS ALONG THIS AXIS',\n",
       "        'EXTEND  =                    T / This file may contain FITS extensions',\n",
       "        'EQUINOX =        2000.00000000 / Mean equinox',\n",
       "        'MJD-OBS =   5.747400000000E+04 / Modified Julian date at start',\n",
       "        \"RADESYS = 'ICRS    '           / Astrometric system\",\n",
       "        \"CTYPE1  = 'RA---TAN'           / WCS projection type for this axis\",\n",
       "        \"CUNIT1  = 'deg     '           / Axis unit\",\n",
       "        'CRVAL1  =   9.853066666670E+01 / World coordinate on this axis',\n",
       "        'CRPIX1  =   4.750500000000E+03 / Reference pixel on this axis',\n",
       "        'CD1_1   =  -1.543333333333E-04 / Linear projection matrix',\n",
       "        'CD1_2   =   0.000000000000E+00 / Linear projection matrix',\n",
       "        \"CTYPE2  = 'DEC--TAN'           / WCS projection type for this axis\",\n",
       "        \"CUNIT2  = 'deg     '           / Axis unit\",\n",
       "        'CRVAL2  =   4.477722222220E+01 / World coordinate on this axis',\n",
       "        'CRPIX2  =   4.750500000000E+03 / Reference pixel on this axis',\n",
       "        'CD2_1   =   0.000000000000E+00 / Linear projection matrix',\n",
       "        'CD2_2   =   1.543333333333E-04 / Linear projection matrix',\n",
       "        'EXPTIME =                  1.0 / Normalized exposure time',\n",
       "        'GAIN    =   7.403245829510E+01 / Maximum equivalent gain (e-/ADU)',\n",
       "        'SATURATE=   2.256497535088E+03 / Saturation Level (ADU)',\n",
       "        'COMMENT',\n",
       "        \"SOFTNAME= 'SWarp   '           / The software that processed those data\",\n",
       "        \"SOFTVERS= '2.38.0  '           / Version of the software\",\n",
       "        \"SOFTDATE= '2015-09-25'         / Release date of the software\",\n",
       "        \"SOFTAUTH= '2010-2012 IAP/CNRS/UPMC' / Maintainer of the software\",\n",
       "        \"SOFTINST= 'IAP  http://www.iap.fr' / Institute\", 'COMMENT',\n",
       "        \"AUTHOR  = 'reduc   '           / Who ran the software\",\n",
       "        \"ORIGIN  = 'upad27.upad.lan'    / Where it was done\",\n",
       "        \"DATE    = '2016-04-15T08:11:52' / When it was started (GMT)\",\n",
       "        \"COMBINET= 'WEIGHTED'           / COMBINE_TYPE config parameter for SWarp\",\n",
       "        'COMMENT', 'COMMENT  Propagated FITS keywords',\n",
       "        \"TELESCOP= 'OAJ-T80 '\", \"INSTRUME= 'T80Cam  '\",\n",
       "        \"FILTER  = 'iSDSS   '\", \"PRJ_ID  = '1500054 '\",\n",
       "        \"PRJ_VER = '1       '\", 'COMMENT',\n",
       "        'COMMENT  Axis-dependent config parameters',\n",
       "        \"RESAMPT1= 'LANCZOS3'           / RESAMPLING_TYPE config parameter\",\n",
       "        \"CENTERT1= 'MANUAL  '           / CENTER_TYPE config parameter\",\n",
       "        \"PSCALET1= 'MANUAL  '           / PIXELSCALE_TYPE config parameter\",\n",
       "        \"RESAMPT2= 'LANCZOS3'           / RESAMPLING_TYPE config parameter\",\n",
       "        \"CENTERT2= 'MANUAL  '           / CENTER_TYPE config parameter\",\n",
       "        \"PSCALET2= 'MANUAL  '           / PIXELSCALE_TYPE config parameter\",\n",
       "        '        STATS 2016-04-15T10:11:59.106957',\n",
       "        'HIERARCH OAJ QC NCMODE = 0.0 / Mode (ADU)',\n",
       "        'HIERARCH OAJ QC NCMIDPT = -0.0 / Level estim (ADU)',\n",
       "        'HIERARCH OAJ QC NCMIDRMS = 0.02 / rms level (ADU)',\n",
       "        'HIERARCH OAJ QC NCNOISE = 0.23 / Noise estim (ADU)',\n",
       "        'HIERARCH OAJ QC NCNOIRMS = 0.02 / rms noise estim (ADU)',\n",
       "        \"CHECKSUM= 'baAobRAmbXAmbXAm'   / HDU checksum updated 2016-04-15T10:12:10\",\n",
       "        \"DATASUM = '139045203'          / data unit checksum updated 2016-04-15T10:12:15\",\n",
       "        '        FWHM ESTIM 2016-04-15T10:12:03.430443',\n",
       "        'HIERARCH OAJ PRO FWHMSEXT = 2.025 / FWHM arcsec estimated with SE',\n",
       "        'HIERARCH OAJ PRO FWHMSRMS = 0.118 / rms in FWHM with SE',\n",
       "        'HIERARCH OAJ INS PIXSCALE = 0.5556',\n",
       "        \"FILENAME= '1500054-NGC2242_iSDSS_swp.fits'\",\n",
       "        'NCOMBINE=                    3', 'TEXPOSED=                 78.0',\n",
       "        'EFECTIME=    77.70037833263697',\n",
       "        'TEXPSUM =                 78.0 / Maximum equivalent exposure time (s)',\n",
       "        \"HIERARCH OAJ PRO PIPVERS = '0.8.10  '\",\n",
       "        \"HIERARCH OAJ PRO REFIMAGE = 'j02-20160327T201821-01_prepro' / Reference image fo\",\n",
       "        'HIERARCH OAJ PRO REFAIRMASS = 1.08519 / Reference image airmass',\n",
       "        \"HIERARCH OAJ PRO REFDATEOBS = '2016-03-27T20:18:21.107' / Reference image dateob\",\n",
       "        \"HIERARCH OAJ PRO SWCMB1 = 'j02-20160327T201821-01_prepro'\",\n",
       "        'HIERARCH OAJ PRO SWSCALE1 = 0.03845796084969',\n",
       "        \"HIERARCH OAJ PRO SWCMB2 = 'j02-20160327T201916-01_prepro'\",\n",
       "        'HIERARCH OAJ PRO SWSCALE2 = 0.0379389094652',\n",
       "        \"HIERARCH OAJ PRO SWCMB3 = 'j02-20160327T202010-01_prepro'\",\n",
       "        'HIERARCH OAJ PRO SWSCALE3 = 0.03787887384704',\n",
       "        \"FITSFILE= '1500054-NGC2242_iSDSS_swp.fits' / File name of the analysed image\",\n",
       "        'FITSEXT =                    1 / FITS Extension number',\n",
       "        'FITSNEXT=                    1 / Number of FITS image extensions in file',\n",
       "        \"SEXVERS = 'SExtractor 2.19.5'  / Extraction software\",\n",
       "        \"SEXDATE = '15/04/2016'         / Extraction date\",\n",
       "        \"SEXTIME = '10:13:53'           / Extraction time\",\n",
       "        'SEXELAPS=          32.00000000 / Elapsed time during extraction (s)',\n",
       "        'SEXBKGND=   7.217231672257E-03 / Median background level (ADU)',\n",
       "        'SEXBKDEV=   2.408387064934E-01 / Median background RMS (ADU)',\n",
       "        'SEXTHLD =   3.612580597401E-01 / Extraction threshold (ADU)',\n",
       "        'SEXATHLD=   3.612580597401E-01 / Analysis threshold (ADU)',\n",
       "        'SEXNDET =                36847 / Number of raw detections',\n",
       "        'SEXNFIN =                34454 / Final number of extracted sources',\n",
       "        'SEXNPARA=                   52 / Number of parameters per source',\n",
       "        'SEXPXSCL=   5.555999875069E-01 / Pixel scale used for measurements (arcsec)',\n",
       "        'SEXSFWHM=   2.025000095367E+00 / Source FWHM used for measurements (arcsec)',\n",
       "        \"SEXNNWF = 'default.nnw'        / S/G classification NNW filename\",\n",
       "        'SEXGAIN =   7.403245829510E+01 / Gain used (e-/ADU)',\n",
       "        'SEXFLTR =                    T / Detection filtering activated (flag)',\n",
       "        \"SEXFILTN= 'gauss_3.0_5x5.conv' / Filter filename\",\n",
       "        'SEXMINAR=                    5 / Minimum area used for detection (pixels)',\n",
       "        'SEXDBLDN=                   32 / Number of deblending thresholds',\n",
       "        'SEXDBLDC=           0.00500000 / Minimum contrast used for deblending',\n",
       "        'SEXCLN  =                    T / Cleaning activated (flag)',\n",
       "        'SEXCLNPA=           1.00000000 / Cleaning parameter',\n",
       "        'SEXCLNST=                10000 / Cleaning stack-size',\n",
       "        'SEXAPED1=           1.43988478 / Fixed photometric aperture #1 (pixels)',\n",
       "        'SEXAPED2=           1.79985607 / Fixed photometric aperture #2 (pixels)',\n",
       "        'SEXAPED3=           2.15982723 / Fixed photometric aperture #3 (pixels)',\n",
       "        'SEXAPED4=           2.69978404 / Fixed photometric aperture #4 (pixels)',\n",
       "        'SEXAUTP1=           2.50000000 / Parameter #1 used for automatic magnitudes',\n",
       "        'SEXAUTP2=           3.50000000 / Parameter #2 used for automatic magnitudes',\n",
       "        'SEXPETP1=           2.50000000 / Parameter #1 used for Petronsian magnitudes',\n",
       "        'SEXPETP2=           3.50000000 / Parameter #2 used for Petrosian magnitudes',\n",
       "        'SEXSATLV=   2.256497535088E+03 / Saturation level used for flagging (ADU)',\n",
       "        'SEXMGZPT=          25.00000000 / Zero-point used for magnitudes',\n",
       "        'SEXMGGAM=           4.00000000 / Gamma used for photographic photometry',\n",
       "        'SEXBKGSX=                  512 / Mesh width used for background mapping (pixels)',\n",
       "        'SEXBKGSY=                  512 / Mesh height used for background mapping (pixels',\n",
       "        'SEXBKGFX=                    3 / Mask width used for background map filtering',\n",
       "        'SEXBKGFY=                    3 / Mask height used for background map filtering',\n",
       "        'SEXPBKGS=                   24 / Thickness used for local background (pixels)',\n",
       "        'SEXPIXSK=              3000000 / Pixel stack-size (pixels)',\n",
       "        'SEXFBUFS=                11000 / Image-buffer height (scanlines)',\n",
       "        'SEXMWSCL=   9.005304574966E-01 / Measurement-weight re-scaling factor',\n",
       "        'SEXDWSCL=   9.005304574966E-01 / Detection-weight re-scaling factor',\n",
       "        'END'], \n",
       "       dtype='|S80'))]"
      ]
     },
     "execution_count": 22,
     "metadata": {},
     "output_type": "execute_result"
    }
   ],
   "source": [
    "[i for i in hdu.data]\n"
   ]
  },
  {
   "cell_type": "code",
   "execution_count": null,
   "metadata": {
    "collapsed": true
   },
   "outputs": [],
   "source": []
  }
 ],
 "metadata": {
  "kernelspec": {
   "display_name": "Python 2",
   "language": "python",
   "name": "python2"
  },
  "language_info": {
   "codemirror_mode": {
    "name": "ipython",
    "version": 2
   },
   "file_extension": ".py",
   "mimetype": "text/x-python",
   "name": "python",
   "nbconvert_exporter": "python",
   "pygments_lexer": "ipython2",
   "version": "2.7.10"
  }
 },
 "nbformat": 4,
 "nbformat_minor": 0
}
