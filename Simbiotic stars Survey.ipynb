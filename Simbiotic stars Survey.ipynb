{
 "cells": [
  {
   "cell_type": "markdown",
   "metadata": {},
   "source": [
    "# New simbiotic stars"
   ]
  },
  {
   "cell_type": "code",
   "execution_count": 1,
   "metadata": {
    "collapsed": false
   },
   "outputs": [
    {
     "name": "stdout",
     "output_type": "stream",
     "text": [
      "Populating the interactive namespace from numpy and matplotlib\n"
     ]
    }
   ],
   "source": [
    "%pylab inline"
   ]
  },
  {
   "cell_type": "code",
   "execution_count": 2,
   "metadata": {
    "collapsed": true
   },
   "outputs": [],
   "source": [
    "from __future__ import print_function\n",
    "import numpy as np\n",
    "from astropy.io import fits\n",
    "import os\n",
    "import glob\n",
    "import json\n",
    "import matplotlib.pyplot as plt"
   ]
  },
  {
   "cell_type": "code",
   "execution_count": 3,
   "metadata": {
    "collapsed": false
   },
   "outputs": [
    {
     "name": "stderr",
     "output_type": "stream",
     "text": [
      "WARNING: AstropyDeprecationWarning: Config parameter 'enabled_record_valued_keyword_cards' in section [io.fits] of the file '/home/angel/.astropy/config/astropy.cfg' is deprecated. Use 'enable_record_valued_keyword_cards' in section [io.fits] instead. [astropy.config.configuration]\n",
      "WARNING:astropy:AstropyDeprecationWarning: Config parameter 'enabled_record_valued_keyword_cards' in section [io.fits] of the file '/home/angel/.astropy/config/astropy.cfg' is deprecated. Use 'enable_record_valued_keyword_cards' in section [io.fits] instead.\n"
     ]
    }
   ],
   "source": [
    "datadir = \"../symbiotic-survey/\"\n",
    "fitsfile = \"_agdra_20130403_075_cbuil.fit\"\n",
    "hdulist= fits.open(os.path.join(datadir, fitsfile))"
   ]
  },
  {
   "cell_type": "code",
   "execution_count": 4,
   "metadata": {
    "collapsed": false
   },
   "outputs": [
    {
     "name": "stdout",
     "output_type": "stream",
     "text": [
      "Filename: ../symbiotic-survey/_agdra_20130403_075_cbuil.fit\n",
      "No.    Name         Type      Cards   Dimensions   Format\n",
      "0    PRIMARY     PrimaryHDU      25   (3251,)      float32   \n"
     ]
    }
   ],
   "source": [
    "hdulist.info()"
   ]
  },
  {
   "cell_type": "code",
   "execution_count": 5,
   "metadata": {
    "collapsed": false
   },
   "outputs": [
    {
     "data": {
      "text/plain": [
       "SIMPLE  =                    T / File does conform to FITS standard             \n",
       "BITPIX  =                  -32 / Number of bits per data pixel                  \n",
       "NAXIS   =                    1 / Number of data axes                            \n",
       "NAXIS1  =                 3251 / Length of data axis 1                          \n",
       "CRVAL1  =       3781.503656175 / Coordinate at reference pixel                  \n",
       "CDELT1  =          1.166931475 / Coordinate increment                           \n",
       "VERSION = 'ISIS V5.2.0d'       / Software version                               \n",
       "OBJNAME = 'AG Dra  '           / Current name of the object                     \n",
       "DATE-OBS= '2013-04-03T01:47:37' / Date of observation start                     \n",
       "EXPTIME =                 1635 / [s] Total time of exposure                     \n",
       "EXPTIME2= '4 x 400 s'          / Exposure decomposition                         \n",
       "BSS_INST= 'CN212 ALPY600 ATIK460EX' / Instrument                                \n",
       "BSS_SITE= 'Castanet'           / Observation site                               \n",
       "BSS_ITRP=                  613 / Typical resolving power                        \n",
       "OBSERVER= 'cbuil   '                                                            \n",
       "CUNIT1  = 'Angstrom'           / Wavelength unit                                \n",
       "CTYPE1  = 'Wavelength'         / Axis type                                      \n",
       "CRPIX1  =                    1 / Reference pixel                                \n",
       "BSS_VHEL=                    0 / [km/s] Heliocentric speed                      \n",
       "BSS_COSM= 'Removed '                                                            \n",
       "BSS_TELL= 'None    '                                                            \n",
       "BSS_NORM= 'None    '                                                            \n",
       "JD-OBS  =         2456385.5747 / JD start observation                           \n",
       "JD-MID  =         2456385.5842 / JD mid observation                             \n",
       "JD-HEL  =                    0 / JD heliocentric mid-obs                        "
      ]
     },
     "execution_count": 5,
     "metadata": {},
     "output_type": "execute_result"
    }
   ],
   "source": [
    "hdulist[0].header"
   ]
  },
  {
   "cell_type": "code",
   "execution_count": 6,
   "metadata": {
    "collapsed": true
   },
   "outputs": [],
   "source": [
    "hdu = hdulist[0]"
   ]
  },
  {
   "cell_type": "code",
   "execution_count": 7,
   "metadata": {
    "collapsed": false
   },
   "outputs": [
    {
     "data": {
      "text/plain": [
       "array([ 0.13881108,  0.13804695,  0.13770059, ...,  0.94236386,\n",
       "        0.94093782,  0.93635607], dtype=float32)"
      ]
     },
     "execution_count": 7,
     "metadata": {},
     "output_type": "execute_result"
    }
   ],
   "source": [
    "hdu.data"
   ]
  },
  {
   "cell_type": "code",
   "execution_count": null,
   "metadata": {
    "collapsed": true
   },
   "outputs": [],
   "source": []
  }
 ],
 "metadata": {
  "anaconda-cloud": {},
  "kernelspec": {
   "display_name": "Python [default]",
   "language": "python",
   "name": "python2"
  },
  "language_info": {
   "codemirror_mode": {
    "name": "ipython",
    "version": 2
   },
   "file_extension": ".py",
   "mimetype": "text/x-python",
   "name": "python",
   "nbconvert_exporter": "python",
   "pygments_lexer": "ipython2",
   "version": "2.7.12"
  }
 },
 "nbformat": 4,
 "nbformat_minor": 0
}
