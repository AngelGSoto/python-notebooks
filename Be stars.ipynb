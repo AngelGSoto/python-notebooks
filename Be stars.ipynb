{
 "cells": [
  {
   "cell_type": "code",
   "execution_count": 1,
   "metadata": {},
   "outputs": [
    {
     "name": "stdout",
     "output_type": "stream",
     "text": [
      "Populating the interactive namespace from numpy and matplotlib\n"
     ]
    }
   ],
   "source": [
    "%pylab inline"
   ]
  },
  {
   "cell_type": "code",
   "execution_count": 2,
   "metadata": {
    "collapsed": true
   },
   "outputs": [],
   "source": [
    "from astropy.io import fits\n",
    "import os\n",
    "import numpy as np\n",
    "import glob\n",
    "import matplotlib.pyplot as plt\n",
    "from astropy.wcs import WCS"
   ]
  },
  {
   "cell_type": "code",
   "execution_count": 3,
   "metadata": {},
   "outputs": [
    {
     "name": "stderr",
     "output_type": "stream",
     "text": [
      "WARNING: AstropyDeprecationWarning: Config parameter 'enabled_record_valued_keyword_cards' in section [io.fits] of the file '/home/angel/.astropy/config/astropy.cfg' is deprecated. Use 'enable_record_valued_keyword_cards' in section [io.fits] instead. [astropy.config.configuration]\n"
     ]
    }
   ],
   "source": [
    "datadir = \"../Be-lamost\"\n",
    "fitsfile = \"spec-55960-GAC_071N47_V1_sp04-038.fits\"\n",
    "hdulist = fits.open(os.path.join(datadir, fitsfile))"
   ]
  },
  {
   "cell_type": "code",
   "execution_count": 4,
   "metadata": {},
   "outputs": [
    {
     "name": "stdout",
     "output_type": "stream",
     "text": [
      "Filename: ../Be-lamost/spec-55960-GAC_071N47_V1_sp04-038.fits\n",
      "No.    Name      Ver    Type      Cards   Dimensions   Format\n",
      "  0  Flux          1 PrimaryHDU     126   (3902, 5)   float32   \n"
     ]
    },
    {
     "name": "stderr",
     "output_type": "stream",
     "text": [
      "WARNING: AstropyDeprecationWarning: Config parameter 'enabled_record_valued_keyword_cards' in section [io.fits] of the file '/home/angel/.astropy/config/astropy.cfg' is deprecated. Use 'enable_record_valued_keyword_cards' in section [io.fits] instead. [astropy.config.configuration]\n"
     ]
    }
   ],
   "source": [
    "hdulist.info()"
   ]
  },
  {
   "cell_type": "code",
   "execution_count": 5,
   "metadata": {},
   "outputs": [
    {
     "data": {
      "text/plain": [
       "SIMPLE  =                    T /Primary Header created by MWRFITS v1.11b        \n",
       "BITPIX  =                  -32 /                                                \n",
       "NAXIS   =                    2 / Number of array dimensions                     \n",
       "NAXIS1  =                 3902 /                                                \n",
       "NAXIS2  =                    5 /                                                \n",
       "EXTEND  =                    T /                                                \n",
       "                                                                                \n",
       "COMMENT --------FILE INFORMATION                                                \n",
       "FILENAME= 'spec-55960-GAC_071N47_V1_sp04-038.fits' /                            \n",
       "OBSID   =             36804038 / Unique number ID of this spectrum              \n",
       "AUTHOR  = 'LAMOST Pipeline'    / Who compiled the information                   \n",
       "DATA_V  = 'LAMOST DR5'         / Data release version                           \n",
       "EXTEN0  = 'Flux, Inverse, Wavelength, Andmask, Ormask' /                        \n",
       "N_EXTEN =                    1 / The extension number                           \n",
       "EXTNAME = 'Flux    '           / The extension name                             \n",
       "ORIGIN  = 'NAOC-LAMOST'        / Organization responsible for creating this file\n",
       "DATE    = '2017-12-22T03:45:20' / Time when this HDU is created (UTC)           \n",
       "COMMENT --------TELESCOPE PARAMETERS                                            \n",
       "TELESCOP= 'LAMOST  '           / GuoShouJing Telescope                          \n",
       "LONGITUD=               117.58 / [deg] Longitude of site                        \n",
       "LATITUDE=                40.39 / [deg] Latitude of site                         \n",
       "FOCUS   =                19964 / [mm] Telescope focus                           \n",
       "CAMPRO  = 'NEWCAM  '           / Camera program name                            \n",
       "CAMVER  = 'v2.0    '           / Camera program version                         \n",
       "COMMENT --------OBSERVATION PARAMETERS                                          \n",
       "DATE-OBS= '2012-02-02T12:50:00' / The observation median UTC                    \n",
       "DATE-BEG= '2012-02-02T20:34:06.0' / The observation start local time            \n",
       "DATE-END= '2012-02-02T21:07:54.0' / The observation end local time              \n",
       "LMJD    =                55960 / Local Modified Julian Day                      \n",
       "MJD     =                55959 / Modified Julian Day                            \n",
       "LMJMLIST= '80582201-80582217'  / Local Modified Julian Minute list              \n",
       "PLANID  = 'GAC_071N47_V1'      / Plan ID in use                                 \n",
       "RA      =            70.836085 / [deg] Right ascension of object                \n",
       "DEC     =            47.910702 / [deg] Declination of object                    \n",
       "RA_OBS  =            70.836085 / [deg] Right ascension during observing         \n",
       "DEC_OBS =            47.910702 / [deg] Declination during observing             \n",
       "OFFSET  =                    F / Whether there's a offset during observing      \n",
       "OFFSET_V=                 0.00 / Offset value in arcsecond                      \n",
       "DESIG   = 'LAMOST J044320.66+475438.5' / Designation of LAMOST target           \n",
       "FIBERID =                   38 / Fiber ID of Object                             \n",
       "CELL_ID = 'H3329   '           / Fiber Unit ID on the focal plane               \n",
       "X_VALUE = '125.3969744770'     / [mm] X coordinate of object on the focal plane \n",
       "Y_VALUE = '-149.6627509790'    / [mm] Y coordinate of object on the focal plane \n",
       "OBJNAME = 'T044320.6+475438'   / Name of object                                 \n",
       "OBJTYPE = 'star    '           / Object type from input catalog                 \n",
       "TSOURCE = 'PILOT   '           / Name of input catalog                          \n",
       "TCOMMENT= 'XY0445+4728_V1'     / Target information                             \n",
       "TFROM   = '-       '           / Target catalog                                 \n",
       "FIBERTYP= 'Obj     '           / Fiber type of object                           \n",
       "MAGTYPE = 'ugrijhk '           / Magnitude type of object                       \n",
       "MAG1    =                99.00 / [mag] Mag1 of object                           \n",
       "MAG2    =                99.00 / [mag] Mag2 of object                           \n",
       "MAG3    =                99.00 / [mag] Mag3 of object                           \n",
       "MAG4    =                99.00 / [mag] Mag4 of object                           \n",
       "MAG5    =                10.97 / [mag] Mag5 of object                           \n",
       "MAG6    =                10.90 / [mag] Mag6 of object                           \n",
       "MAG7    =                10.79 / [mag] Mag7 of object                           \n",
       "OBS_TYPE= 'OBJ     '           / The type of target (OBJ, FLAT, ARC or BIAS)    \n",
       "OBSCOMM = 'Science '           / Science or Test                                \n",
       "RADECSYS= 'FK5     '           / Equatorial coordinate system                   \n",
       "EQUINOX =              2000.00 / Equinox in years                               \n",
       "LAMPLIST= 'lamphgcdne.dat'     / Arc lamp emission line list                    \n",
       "SKYLIST = 'skylines.dat'       / Sky emission line list                         \n",
       "NEXP    =                    2 / Number of valid exposures                      \n",
       "NEXP_B  =                    2 / Number of valid blue exposures                 \n",
       "NEXP_R  =                    2 / Number of valid red exposures                  \n",
       "EXPT_B  =              1000.00 / [s] Blue exposure duration time                \n",
       "EXPT_R  =              1000.00 / [s] Red exposure duration time                 \n",
       "EXPTIME =              1000.00 / [s] Minimum of exposure time for all cameras   \n",
       "BESTEXP =             80582201 / MJM of the best exposure                       \n",
       "SCAMEAN =                13.80 / [ADU] Mean level of scatter light              \n",
       "COMMENT --------SPECTROGRAPH PARAMETERS                                         \n",
       "SPID    =                    4 / Spectrograph ID                                \n",
       "SPRA    =           71.3721000 / [deg] Average RA of this spectrograph          \n",
       "SPDEC   =           47.4739981 / [deg] Average DEC of this spectrograph         \n",
       "SLIT_MOD= 'x2/3    '           / Slit mode, x1, x2/3 or x1/2                    \n",
       "COMMENT --------WEATHER CONDITION                                               \n",
       "TEMPCCDB=              -999.00 / [deg] The temperature of blue CCD              \n",
       "TEMPCCDR=              -999.00 / [deg] The temperature of red CCD               \n",
       "SEEING  =                 3.50 / [arcsec] Seeing during exposure                \n",
       "MOONPHA =                 9.23 / [day] Moon phase for a 29.53 days period       \n",
       "TEMP_AIR=               -12.40 / [deg] Temperature outside dome                 \n",
       "TEMP_FP =              -999.00 / [degree celsius] Temprature of the focalplane  \n",
       "DEWPOINT=               -32.20 / [deg]                                          \n",
       "DUST    = '        '           / Reservation                                    \n",
       "HUMIDITY=                 0.20 /                                                \n",
       "WINDD   =               237.70 / [deg] Wind direction                           \n",
       "WINDS   =                 3.10 / [m/s] Wind speed                               \n",
       "SKYLEVEL= '        '           / Reservation                                    \n",
       "COMMENT --------DATA REDUCTION PARAMETERS                                       \n",
       "EXTRACT = 'aperture'           / Extraction method                              \n",
       "SFLATTEN=                    T / Super flat has been applied                    \n",
       "PCASKYSB=                    T / PCA sky-subtraction has been applied           \n",
       "NSKIES  =                   19 / Sky fiber number                               \n",
       "SKYCHI2 =                  1.9 / Mean chi^2 of sky-subtraction                  \n",
       "SCHI2MIN=                  1.8 / Minimum chi^2 of sky-subtraction               \n",
       "SCHI2MAX=                  2.0 / Maximum chi^2 of sky-subtraction               \n",
       "NSTD    =                    6 / Number of (good) standard stars                \n",
       "FSTAR   = '197-113-142-38-99-32' / FiberID of flux standard stars               \n",
       "FCBY    = 'auto    '           / Standard stars origin (auto, manual or catalog)\n",
       "HELIO   =                    T / Heliocentric correction                        \n",
       "HELIO_RV=             22.82213 / [km/s] Heliocentric correction                 \n",
       "VACUUM  =                    T / Wavelengths are in vacuum                      \n",
       "NWORDER =                    2 / Number of linear-log10 coefficients            \n",
       "WFITTYPE= 'LOG-LINEAR'         / Linear-log10 dispersion                        \n",
       "COEFF0  =               3.5682 / Central wavelength (log10) of first pixel      \n",
       "COEFF1  =               0.0001 / Log10 dispersion per pixel                     \n",
       "WAT0_001= 'system=linear'      /                                                \n",
       "WAT1_001= 'wtype=linear label=Wavelength units=Angstroms' /                     \n",
       "CRVAL1  =               3.5682 / Central wavelength (log10) of first pixel      \n",
       "CD1_1   =               0.0001 / Log10 dispersion per pixel                     \n",
       "CRPIX1  =                    1 / Starting pixel (1-indexed)                     \n",
       "CTYPE1  = 'LINEAR  '           /                                                \n",
       "DC-FLAG =                    1 / Log-linear flag                                \n",
       "COMMENT --------SPECTRA ANALYSIS RESULTS                                        \n",
       "VERSPIPE= 'v2.9.7  '           / Version of Pipeline                            \n",
       "CLASS   = 'STAR    '           / Class of object                                \n",
       "SUBCLASS= 'A2V     '           / Subclass of object                             \n",
       "Z       =           0.00009729 / Redshift of object                             \n",
       "Z_ERR   =           0.00000887 / Redshift error of object                       \n",
       "ZFLAG   = 'PIPELINE'           / Which method computes the redshift             \n",
       "SNRU    = '4.82    '           / SNR of u filter                                \n",
       "SNRG    = '16.90   '           / SNR of g filter                                \n",
       "SNRR    = '19.53   '           / SNR of r filter                                \n",
       "SNRI    = '21.49   '           / SNR of i filter                                \n",
       "SNRZ    = '13.84   '           / SNR of z filter                                "
      ]
     },
     "execution_count": 5,
     "metadata": {},
     "output_type": "execute_result"
    }
   ],
   "source": [
    "hdulist[0].header"
   ]
  },
  {
   "cell_type": "code",
   "execution_count": 15,
   "metadata": {},
   "outputs": [
    {
     "data": {
      "text/plain": [
       "array([ 3699.98632812,  3700.83837891,  3701.69067383, ...,  9080.29785156,\n",
       "        9082.38964844,  9084.48046875], dtype=float32)"
      ]
     },
     "execution_count": 15,
     "metadata": {},
     "output_type": "execute_result"
    }
   ],
   "source": [
    "hdulist[0].data[2]\n"
   ]
  },
  {
   "cell_type": "code",
   "execution_count": 16,
   "metadata": {},
   "outputs": [
    {
     "ename": "SyntaxError",
     "evalue": "invalid syntax (<ipython-input-16-255eaf4f638d>, line 2)",
     "output_type": "error",
     "traceback": [
      "\u001b[0;36m  File \u001b[0;32m\"<ipython-input-16-255eaf4f638d>\"\u001b[0;36m, line \u001b[0;32m2\u001b[0m\n\u001b[0;31m    nx, wav0, dwav = [hdu.header[k] for k in (\"NAXIS1\", \" COEFF0\", \"COEFF1\"]\u001b[0m\n\u001b[0m                                                                           ^\u001b[0m\n\u001b[0;31mSyntaxError\u001b[0m\u001b[0;31m:\u001b[0m invalid syntax\n"
     ]
    }
   ],
   "source": [
    "hdu = hdulist[0]\n",
    "nx, wav0, dwav = [hdu.header[k] for k in (\"NAXIS1\", \" COEFF0\", \"COEFF1\"]\n",
    "wavs = wav0 + (np.arange(nx)  - 1))*dwav"
   ]
  },
  {
   "cell_type": "code",
   "execution_count": 12,
   "metadata": {},
   "outputs": [
    {
     "data": {
      "text/plain": [
       "array([ 3.5682,  3.5683,  3.5684, ...,  3.9581,  3.9582,  3.9583])"
      ]
     },
     "execution_count": 12,
     "metadata": {},
     "output_type": "execute_result"
    }
   ],
   "source": [
    "wavs"
   ]
  },
  {
   "cell_type": "code",
   "execution_count": null,
   "metadata": {
    "collapsed": true
   },
   "outputs": [],
   "source": []
  }
 ],
 "metadata": {
  "kernelspec": {
   "display_name": "Python 3",
   "language": "python",
   "name": "python3"
  },
  "language_info": {
   "codemirror_mode": {
    "name": "ipython",
    "version": 3
   },
   "file_extension": ".py",
   "mimetype": "text/x-python",
   "name": "python",
   "nbconvert_exporter": "python",
   "pygments_lexer": "ipython3",
   "version": "3.6.5"
  }
 },
 "nbformat": 4,
 "nbformat_minor": 2
}
