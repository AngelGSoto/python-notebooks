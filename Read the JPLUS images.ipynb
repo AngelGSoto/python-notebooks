{
 "cells": [
  {
   "cell_type": "code",
   "execution_count": 1,
   "metadata": {
    "collapsed": true
   },
   "outputs": [],
   "source": [
    "import scipy\n",
    "import numpy as np\n",
    "from astropy.io import fits\n",
    "import os \n",
    "import matplotlib.pyplot as plt\n",
    "from astropy.wcs import WCS\n",
    "%matplotlib inline"
   ]
  },
  {
   "cell_type": "code",
   "execution_count": 2,
   "metadata": {
    "collapsed": false
   },
   "outputs": [
    {
     "name": "stderr",
     "output_type": "stream",
     "text": [
      "WARNING: AstropyDeprecationWarning: Config parameter 'enabled_record_valued_keyword_cards' in section [io.fits] of the file '/home/angel/.astropy/config/astropy.cfg' is deprecated. Use 'enable_record_valued_keyword_cards' in section [io.fits] instead. [astropy.config.configuration]\n",
      "WARNING:astropy:AstropyDeprecationWarning: Config parameter 'enabled_record_valued_keyword_cards' in section [io.fits] of the file '/home/angel/.astropy/config/astropy.cfg' is deprecated. Use 'enable_record_valued_keyword_cards' in section [io.fits] instead.\n"
     ]
    }
   ],
   "source": [
    "from astropy.io import fits"
   ]
  },
  {
   "cell_type": "code",
   "execution_count": 3,
   "metadata": {
    "collapsed": false
   },
   "outputs": [
    {
     "name": "stdout",
     "output_type": "stream",
     "text": [
      "Filename: ../../../S-PLUS_IAG_Nov16/NGC2242/1500054-NGC2242_iSDSS_swp.fits\n",
      "No.    Name         Type      Cards   Dimensions   Format\n",
      "0    PRIMARY     PrimaryHDU      80   (9500, 9500)   float32   \n"
     ]
    }
   ],
   "source": [
    "hdu_list.info()\n"
   ]
  },
  {
   "cell_type": "code",
   "execution_count": 4,
   "metadata": {
    "collapsed": false
   },
   "outputs": [
    {
     "data": {
      "text/plain": [
       "SIMPLE  =                    T / This is a FITS file                            \n",
       "BITPIX  =                  -32 /                                                \n",
       "NAXIS   =                    2 /                                                \n",
       "NAXIS1  =                 9500 / NUMBER OF ELEMENTS ALONG THIS AXIS             \n",
       "NAXIS2  =                 9500 / NUMBER OF ELEMENTS ALONG THIS AXIS             \n",
       "EXTEND  =                    T / This file may contain FITS extensions          \n",
       "EQUINOX =        2000.00000000 / Mean equinox                                   \n",
       "MJD-OBS =   5.747400000000E+04 / Modified Julian date at start                  \n",
       "RADESYS = 'ICRS    '           / Astrometric system                             \n",
       "CTYPE1  = 'RA---TAN'           / WCS projection type for this axis              \n",
       "CUNIT1  = 'deg     '           / Axis unit                                      \n",
       "CRVAL1  =   9.853066666670E+01 / World coordinate on this axis                  \n",
       "CRPIX1  =   4.750500000000E+03 / Reference pixel on this axis                   \n",
       "CD1_1   =  -1.543333333333E-04 / Linear projection matrix                       \n",
       "CD1_2   =   0.000000000000E+00 / Linear projection matrix                       \n",
       "CTYPE2  = 'DEC--TAN'           / WCS projection type for this axis              \n",
       "CUNIT2  = 'deg     '           / Axis unit                                      \n",
       "CRVAL2  =   4.477722222220E+01 / World coordinate on this axis                  \n",
       "CRPIX2  =   4.750500000000E+03 / Reference pixel on this axis                   \n",
       "CD2_1   =   0.000000000000E+00 / Linear projection matrix                       \n",
       "CD2_2   =   1.543333333333E-04 / Linear projection matrix                       \n",
       "EXPTIME =                  1.0 / Normalized exposure time                       \n",
       "GAIN    =   7.403245829510E+01 / Maximum equivalent gain (e-/ADU)               \n",
       "SATURATE=   2.256497535088E+03 / Saturation Level (ADU)                         \n",
       "COMMENT                                                                         \n",
       "SOFTNAME= 'SWarp   '           / The software that processed those data         \n",
       "SOFTVERS= '2.38.0  '           / Version of the software                        \n",
       "SOFTDATE= '2015-09-25'         / Release date of the software                   \n",
       "SOFTAUTH= '2010-2012 IAP/CNRS/UPMC' / Maintainer of the software                \n",
       "SOFTINST= 'IAP  http://www.iap.fr' / Institute                                  \n",
       "COMMENT                                                                         \n",
       "AUTHOR  = 'reduc   '           / Who ran the software                           \n",
       "ORIGIN  = 'upad27.upad.lan'    / Where it was done                              \n",
       "DATE    = '2016-04-15T08:11:52' / When it was started (GMT)                     \n",
       "COMBINET= 'WEIGHTED'           / COMBINE_TYPE config parameter for SWarp        \n",
       "COMMENT                                                                         \n",
       "COMMENT  Propagated FITS keywords                                               \n",
       "TELESCOP= 'OAJ-T80 '                                                            \n",
       "INSTRUME= 'T80Cam  '                                                            \n",
       "FILTER  = 'iSDSS   '                                                            \n",
       "PRJ_ID  = '1500054 '                                                            \n",
       "PRJ_VER = '1       '                                                            \n",
       "COMMENT                                                                         \n",
       "COMMENT  Axis-dependent config parameters                                       \n",
       "RESAMPT1= 'LANCZOS3'           / RESAMPLING_TYPE config parameter               \n",
       "CENTERT1= 'MANUAL  '           / CENTER_TYPE config parameter                   \n",
       "PSCALET1= 'MANUAL  '           / PIXELSCALE_TYPE config parameter               \n",
       "RESAMPT2= 'LANCZOS3'           / RESAMPLING_TYPE config parameter               \n",
       "CENTERT2= 'MANUAL  '           / CENTER_TYPE config parameter                   \n",
       "PSCALET2= 'MANUAL  '           / PIXELSCALE_TYPE config parameter               \n",
       "        STATS 2016-04-15T10:11:59.106957                                        \n",
       "HIERARCH OAJ QC NCMODE = 0.0 / Mode (ADU)                                       \n",
       "HIERARCH OAJ QC NCMIDPT = -0.0 / Level estim (ADU)                              \n",
       "HIERARCH OAJ QC NCMIDRMS = 0.02 / rms level (ADU)                               \n",
       "HIERARCH OAJ QC NCNOISE = 0.23 / Noise estim (ADU)                              \n",
       "HIERARCH OAJ QC NCNOIRMS = 0.02 / rms noise estim (ADU)                         \n",
       "CHECKSUM= 'Za4ffX4eZa4efU4e'   / HDU checksum updated 2016-04-15T10:14:09       \n",
       "DATASUM = '139045203'          / data unit checksum updated 2016-04-15T10:14:09 \n",
       "        FWHM ESTIM 2016-04-15T10:12:03.430443                                   \n",
       "HIERARCH OAJ PRO FWHMSEXT = 2.025 / FWHM arcsec estimated with SE               \n",
       "HIERARCH OAJ PRO FWHMSRMS = 0.118 / rms in FWHM with SE                         \n",
       "HIERARCH OAJ INS PIXSCALE = 0.5556                                              \n",
       "FILENAME= '1500054-NGC2242_iSDSS_swp.fits'                                      \n",
       "NCOMBINE=                    3                                                  \n",
       "TEXPOSED=                 78.0                                                  \n",
       "EFECTIME=    77.70037833263697                                                  \n",
       "TEXPSUM =                 78.0 / Maximum equivalent exposure time (s)           \n",
       "HIERARCH OAJ PRO PIPVERS = '0.8.10  '                                           \n",
       "HIERARCH OAJ PRO REFIMAGE = 'j02-20160327T201821-01_prepro' / Reference image fo\n",
       "HIERARCH OAJ PRO REFAIRMASS = 1.08519 / Reference image airmass                 \n",
       "HIERARCH OAJ PRO REFDATEOBS = '2016-03-27T20:18:21.107' / Reference image dateob\n",
       "HIERARCH OAJ PRO SWCMB1 = 'j02-20160327T201821-01_prepro'                       \n",
       "HIERARCH OAJ PRO SWSCALE1 = 0.03845796084969                                    \n",
       "HIERARCH OAJ PRO SWCMB2 = 'j02-20160327T201916-01_prepro'                       \n",
       "HIERARCH OAJ PRO SWSCALE2 = 0.0379389094652                                     \n",
       "HIERARCH OAJ PRO SWCMB3 = 'j02-20160327T202010-01_prepro'                       \n",
       "HIERARCH OAJ PRO SWSCALE3 = 0.03787887384704                                    \n",
       "SNOIFIT =      0.2408387064934 / s*sqrt(Area)*(a+b*sqrt(Area) fit               \n",
       "ANOIFIT =    1.333326341358703 / s*sqrt(Area)*(a+b*sqrt(Area) fit               \n",
       "BNOIFIT =   0.0103817865948618 / s*sqrt(Area)*(a+b*sqrt(Area) fit               "
      ]
     },
     "execution_count": 4,
     "metadata": {},
     "output_type": "execute_result"
    }
   ],
   "source": [
    "hdulist[0].header"
   ]
  },
  {
   "cell_type": "code",
   "execution_count": 9,
   "metadata": {
    "collapsed": false
   },
   "outputs": [],
   "source": [
    "hdu = hdulist[0]"
   ]
  },
  {
   "cell_type": "code",
   "execution_count": 10,
   "metadata": {
    "collapsed": false
   },
   "outputs": [
    {
     "data": {
      "text/plain": [
       "array([[ 0.,  0.,  0., ...,  0.,  0.,  0.],\n",
       "       [ 0.,  0.,  0., ...,  0.,  0.,  0.],\n",
       "       [ 0.,  0.,  0., ...,  0.,  0.,  0.],\n",
       "       ..., \n",
       "       [ 0.,  0.,  0., ...,  0.,  0.,  0.],\n",
       "       [ 0.,  0.,  0., ...,  0.,  0.,  0.],\n",
       "       [ 0.,  0.,  0., ...,  0.,  0.,  0.]], dtype=float32)"
      ]
     },
     "execution_count": 10,
     "metadata": {},
     "output_type": "execute_result"
    }
   ],
   "source": [
    "hdu.data"
   ]
  },
  {
   "cell_type": "code",
   "execution_count": 8,
   "metadata": {
    "collapsed": false
   },
   "outputs": [],
   "source": [
    "datadir = \"../../../S-PLUS_IAG_Nov16/NGC2242/\"\n",
    "fitsfile = \"1500054-NGC2242_iSDSS_single.catalog\"\n",
    "hdulist= fits.open(os.path.join(datadir, fitsfile))"
   ]
  },
  {
   "cell_type": "code",
   "execution_count": 9,
   "metadata": {
    "collapsed": false
   },
   "outputs": [
    {
     "name": "stdout",
     "output_type": "stream",
     "text": [
      "Filename: ../../../S-PLUS_IAG_Nov16/NGC2242/1500054-NGC2242_iSDSS_single.catalog\n",
      "No.    Name         Type      Cards   Dimensions   Format\n",
      "0    PRIMARY     PrimaryHDU       4   ()              \n",
      "1    LDAC_IMHEAD  BinTableHDU     12   1R x 1C      [9920A]   \n",
      "2    LDAC_OBJECTS  BinTableHDU    119   34454R x 54C   [J, E, E, E, E, E, E, E, E, E, D, D, D, D, E, E, E, E, E, E, I, E, E, E, E, E, E, E, E, J, E, 8E, 8E, 8E, 8E, E, E, E, E, E, E, E, E, E, E, E, E, E, E, E, E, E, E, E]   \n"
     ]
    }
   ],
   "source": [
    "hdulist.info()"
   ]
  },
  {
   "cell_type": "code",
   "execution_count": 10,
   "metadata": {
    "collapsed": false
   },
   "outputs": [
    {
     "data": {
      "text/plain": [
       "SIMPLE  =                    T / This is a FITS file                            \n",
       "BITPIX  =                    8 /                                                \n",
       "NAXIS   =                    0 /                                                \n",
       "EXTEND  =                    T / This file may contain FITS extensions          "
      ]
     },
     "execution_count": 10,
     "metadata": {},
     "output_type": "execute_result"
    }
   ],
   "source": [
    "hdulist[0].header"
   ]
  },
  {
   "cell_type": "code",
   "execution_count": 14,
   "metadata": {
    "collapsed": false
   },
   "outputs": [
    {
     "data": {
      "text/plain": [
       "FITS_rec([ (1, 2583.575, 101.0, -0.32339519, -0.32339719, 0.25515011, 0.042539608, 0.0, 54.265961, 4.5127988, 98.995999052808713, 44.058742592845455, 98.995999052808713, 44.058742592845455, 20.663681, 20.663681, 0.090312593, 0.090312593, 2.0450459, 4.1687641, 0, 0.83196718, 24.107098, 0.63567072, -0.057211764, 0.0, 1.7179682, 0.28867507, 3.60446, 4, 0.55123281, array([ 25.14485359,  24.57935333,  24.11986351,  23.52665138,\n",
       "        22.78717422,  21.76472282,  21.31173515,  20.72228432], dtype=float32), array([ 0.82233053,  0.57620555,  0.47425959,  0.32665947,  0.22103709,\n",
       "        0.12644295,  0.10800793,  0.09162062], dtype=float32), array([  0.87510127,   1.47318959,   2.2493391 ,   3.88453579,\n",
       "         7.67592382,  19.68390083,  29.87486267,  51.41460037], dtype=float32), array([ 0.6626358 ,  0.7816391 ,  0.98229337,  1.16843498,  1.56230557,\n",
       "        2.29179621,  2.97119904,  4.33760357], dtype=float32), 0.00064337923, 22.947054, 0.00026510993, 4.4544442e-05, 3.9373739e-05, 6.5641384e-06, 7.8740716, 5.7002168, 1.135838, 10.70511, 2.3712745, 9.5275105e-08, 11.702605, 1.8162332, 3.5, 21.202549, 33.035458, 0.6626358, 0.30814311),\n",
       "       (2, 4195.7007, 101.24725, 0.79986715, 0.28499702, 0.15872599, 0.037940346, -0.36773163, 95.003883, 7.2129574, 98.649808601476863, 44.059663151245395, 98.649808601476863, 44.059663151245395, 20.055647, 21.432232, 0.082452118, 0.15907095, 1.4053431, 5.350338, 1, 0.77064943, 24.129728, 0.6340847, -0.034674846, -0.88262123, 1.876996, 0.43049011, 3.911309, 8, 0.48787907, array([ 24.45265007,  23.98881531,  23.5724659 ,  22.93899918,\n",
       "        22.29425621,  21.2927227 ,  20.84685135,  20.40972328], dtype=float32), array([ 0.42800224,  0.39589834,  0.30942154,  0.2089466 ,  0.15235043,\n",
       "        0.0868438 ,  0.07372853,  0.07030652], dtype=float32), array([  1.65554154,   2.5378983 ,   3.72403145,   6.67422056,\n",
       "        12.08641434,  30.40261459,  45.84159851,  68.56625366], dtype=float32), array([ 0.65246361,  0.92518395,  1.06104553,  1.28412127,  1.69555271,\n",
       "        2.4311955 ,  3.11218548,  4.43890905], dtype=float32), 0.00082573545, 23.354355, 0.00028965669, 6.6441775e-05, 2.449463e-05, 5.8549826e-06, 10.13751, 9.4303122, 1.586507, 26.736677, 3.9162326, 1.9055021e-07, 95.212662, 7.451807, 10.56, 20.730549, 51.024658, 0.65246361, 0.30348337),\n",
       "       (3, 3140.2222, 101.45517, 0.085117564, 0.2408409, 0.083518386, 0.025495615, -0.48093337, 197.2336, 7.7536721, 98.876466693007401, 44.059235661636393, 98.876466693007401, 44.059235661636393, 19.262548, 20.910404, 0.04269297, 0.10385862, 3.4383056, 7.0245523, 1, 0.71096861, 24.186869, 0.62923169, -0.012638419, -0.32524642, 2.2252595, 0.64316988, 2.8325429, 19, 0.74051118, array([ 23.56102371,  23.12804222,  22.64863586,  22.10071945,\n",
       "        21.36795235,  20.14508438,  19.62119484,  19.39364624], dtype=float32), array([ 0.22715321,  0.18527374,  0.16928089,  0.12311696,  0.07497739,\n",
       "        0.03909114,  0.02878828,  0.03060673], dtype=float32), array([   3.76348472,    5.60768318,    8.72059059,   14.44482994,\n",
       "         28.36735725,   87.49155426,  141.7495575 ,  174.79997253], dtype=float32), array([ 0.78718936,  0.95668179,  1.3593272 ,  1.63757241,  1.95848107,\n",
       "        3.14930415,  3.75757408,  4.92638636], dtype=float32), 0.0010841226, 22.38295, 0.00034339464, 9.9258992e-05, 1.2888216e-05, 3.934842e-06, 7.9215751, 29.402351, 2.3659217, 43.235294, 4.134768, 4.5255675e-07, 206.37517, 8.9202328, 9.2399998, 19.582912, 146.83693, 0.78718936, 0.31148022),\n",
       "       ...,\n",
       "       (34452, 542.05945, 8115.3809, 14.10857, 13.606851, 0.10386299, 0.084581494, -14.200037, 36.031918, 2.7197082, 99.453875110162343, 45.292802360619042, 99.453875110162343, 45.292802360619042, 21.108282, 21.108282, 0.081971854, 0.081971854, 2.6128008, 4.2615414, 0, 0.17141855, 24.757694, 0.3667717, -0.012459474, -14.697803, 1.5820026, 1.3108181, 1.906474, 26, 0.9075861, array([ 23.54214668,  23.08966255,  22.73139954,  22.36057281,\n",
       "        21.91302681,  21.45521736,  21.24493217,  21.09404755], dtype=float32), array([ 0.14841618,  0.11034364,  0.08996352,  0.07448395,  0.06164752,\n",
       "        0.05575377,  0.05848143,  0.07327995], dtype=float32), array([  3.82949424,   5.80944681,   8.08053398,  11.37027454,\n",
       "        17.17073631,  26.17659378,  31.77070618,  36.50738144], dtype=float32), array([ 0.52335072,  0.59027207,  0.66938603,  0.77983707,  0.97470832,\n",
       "        1.34387088,  1.71086216,  2.46340585], dtype=float32), 0.00065769785, 22.681046, 0.00024401472, 0.00020239248, 1.601996e-05, 1.3060162e-05, 4.1717629, 31.09528, 1.5712014, 38.842743, 2.3746529, 6.1928819e-07, 39.805847, 3.4035609, 5.2799997, 20.893044, 43.932133, 0.52335072, 0.91322601),\n",
       "       (34453, 1697.3076, 8108.2212, 53.101856, 51.556145, 0.16857041, 0.11595367, -51.804886, 21.085905, 2.3638434, 99.200462067371689, 45.293458975279535, 99.200462067371689, 45.293458975279535, 21.69002, 21.69002, 0.12174644, 0.12174644, 1.852525, 5.4172058, 0, 0.30639994, 24.83219, 0.36334482, 0.016106501, -53.356625, 1.5144489, 1.0504218, 2.1579165, 14, 0.54717213, array([ 24.47595978,  24.05369949,  23.61445808,  23.17429352,\n",
       "        22.72212601,  22.18998337,  21.86203575,  21.66589928], dtype=float32), array([ 0.26732564,  0.22221707,  0.17023213,  0.13935257,  0.11684065,\n",
       "        0.10225661,  0.09904165,  0.1212384 ], dtype=float32), array([  1.62037683,   2.39067149,   3.58275151,   5.37381172,\n",
       "         8.14985561,  13.30475044,  17.99640083,  21.55956841], dtype=float32), array([ 0.39886579,  0.48917866,  0.56160164,  0.6895529 ,  0.87682724,\n",
       "        1.25276124,  1.64124608,  2.40685773], dtype=float32), 0.00083605543, 23.054401, 0.00023376253, 0.00016200892, 2.6018439e-05, 1.7885406e-05, 4.2566357, 13.953438, 1.2180662, 21.76405, 2.2959125, 3.3346288e-07, 21.275225, 3.2909982, 5.9399996, 21.627811, 22.32934, 0.39886579, 0.93196744),\n",
       "       (34454, 129.63731, 8100.7437, 43.624111, 58.466373, 0.048975963, 0.04619981, -58.858784, 132.45869, 3.3946946, 99.544290395433634, 45.289779426741461, 99.544290395433634, 45.289779426741461, 19.694799, 19.694799, 0.027832361, 0.027832361, 8.1284399, 3.391732, 0, 0.061517775, 24.769779, 0.37070021, 0.0010247678, -43.967941, 1.9079188, 1.7905478, 2.1116292, 59, 0.9805789, array([ 22.31086731,  21.82725143,  21.47403145,  21.10068893,\n",
       "        20.65551186,  20.17717171,  19.95922661,  19.79544258], dtype=float32), array([ 0.06518243,  0.05307896,  0.03995199,  0.03429655,  0.02596607,\n",
       "        0.02135618,  0.02113931,  0.02450353], dtype=float32), array([  11.90291691,   18.58230782,   25.72689247,   36.28475189,\n",
       "         54.67578125,   84.94372559,  103.82684326,  120.73225403], dtype=float32), array([ 0.7144208 ,  0.90822244,  0.94644618,  1.14589465,  1.30728865,\n",
       "        1.67041755,  2.0210197 ,  2.72409463], dtype=float32), 0.0005234573, 21.448793, 0.00029438129, 0.00027631459, 7.5580219e-06, 7.1281106e-06, 3.8023167, 117.81041, 2.451684, 128.23647, 2.9756298, 1.4053078e-06, 137.58499, 4.0319018, 4.6199999, 19.614998, 142.56091, 0.7144208, 0.89844906)], \n",
       "      dtype=[('NUMBER', '>i4'), ('X_IMAGE', '>f4'), ('Y_IMAGE', '>f4'), ('THETA_WORLD', '>f4'), ('ERRTHETA_WORLD', '>f4'), ('ERRA_IMAGE', '>f4'), ('ERRB_IMAGE', '>f4'), ('ERRTHETA_IMAGE', '>f4'), ('FLUX_AUTO', '>f4'), ('FLUXERR_AUTO', '>f4'), ('ALPHA_J2000', '>f8'), ('DELTA_J2000', '>f8'), ('X_WORLD', '>f8'), ('Y_WORLD', '>f8'), ('MAG_AUTO', '>f4'), ('MAG_BEST', '>f4'), ('MAGERR_AUTO', '>f4'), ('MAGERR_BEST', '>f4'), ('FLUX_MAX', '>f4'), ('FWHM_IMAGE', '>f4'), ('FLAGS', '>i2'), ('ELLIPTICITY', '>f4'), ('MU_THRESHOLD', '>f4'), ('THRESHOLD', '>f4'), ('BACKGROUND', '>f4'), ('THETA_IMAGE', '>f4'), ('A_IMAGE', '>f4'), ('B_IMAGE', '>f4'), ('FLUX_RADIUS', '>f4'), ('ISOAREA_IMAGE', '>i4'), ('CLASS_STAR', '>f4'), ('MAG_APER', '>f4', (8,)), ('MAGERR_APER', '>f4', (8,)), ('FLUX_APER', '>f4', (8,)), ('FLUXERR_APER', '>f4', (8,)), ('FWHM_WORLD', '>f4'), ('MU_MAX', '>f4'), ('A_WORLD', '>f4'), ('B_WORLD', '>f4'), ('ERRA_WORLD', '>f4'), ('ERRB_WORLD', '>f4'), ('KRON_RADIUS', '>f4'), ('FLUX_ISO', '>f4'), ('FLUXERR_ISO', '>f4'), ('FLUX_ISOCOR', '>f4'), ('FLUXERR_ISOCOR', '>f4'), ('ISOAREA_WORLD', '>f4'), ('FLUX_PETRO', '>f4'), ('FLUXERR_PETRO', '>f4'), ('PETRO_RADIUS', '>f4'), ('MAGAPERCOR', '>f4'), ('FLUXAPERCOR', '>f4'), ('FLUXERR_APERCOR', '>f4'), ('PercW', '>f4')])"
      ]
     },
     "execution_count": 14,
     "metadata": {},
     "output_type": "execute_result"
    }
   ],
   "source": [
    "hdu = hdulist[2]\n",
    "hdu.data"
   ]
  },
  {
   "cell_type": "code",
   "execution_count": null,
   "metadata": {
    "collapsed": true
   },
   "outputs": [],
   "source": []
  }
 ],
 "metadata": {
  "kernelspec": {
   "display_name": "Python 2",
   "language": "python",
   "name": "python2"
  },
  "language_info": {
   "codemirror_mode": {
    "name": "ipython",
    "version": 2
   },
   "file_extension": ".py",
   "mimetype": "text/x-python",
   "name": "python",
   "nbconvert_exporter": "python",
   "pygments_lexer": "ipython2",
   "version": "2.7.10"
  }
 },
 "nbformat": 4,
 "nbformat_minor": 0
}
