{
 "cells": [
  {
   "cell_type": "code",
   "execution_count": 1,
   "metadata": {},
   "outputs": [],
   "source": [
    "from __future__ import print_function\n",
    "import numpy as np\n",
    "import os\n",
    "import glob\n",
    "import json\n",
    "import matplotlib.pyplot as plt\n",
    "from astropy.io import fits\n",
    "from astropy.table import Table"
   ]
  },
  {
   "cell_type": "code",
   "execution_count": 2,
   "metadata": {},
   "outputs": [],
   "source": [
    "datadir = \"../WD_SPLUS_dr2/\"\n",
    "fitsfile = \"interesante-objeto_gaia.fits\""
   ]
  },
  {
   "cell_type": "code",
   "execution_count": 3,
   "metadata": {},
   "outputs": [
    {
     "name": "stderr",
     "output_type": "stream",
     "text": [
      "WARNING: AstropyDeprecationWarning: Config parameter 'enabled_record_valued_keyword_cards' in section [io.fits] of the file '/home/angel/.astropy/config/astropy.cfg' is deprecated. Use 'enable_record_valued_keyword_cards' in section [io.fits] instead. [astropy.config.configuration]\n"
     ]
    }
   ],
   "source": [
    "hdu = fits.open(os.path.join(datadir, fitsfile))"
   ]
  },
  {
   "cell_type": "code",
   "execution_count": 4,
   "metadata": {},
   "outputs": [],
   "source": [
    "f1 = hdu[1].data['ujava_auto'] != 99.0\n",
    "f2 = hdu[1].data['f378_auto'] != 99.0\n",
    "f3 =  hdu[1].data['f395_auto'] != 99.0\n",
    "f4 =  hdu[1].data['f410_auto'] != 99.0\n",
    "f5 =  hdu[1].data['f430_auto'] != 99.0\n",
    "f6 =  hdu[1].data['g_auto'] != 99.0\n",
    "f7 =  hdu[1].data['f515_auto'] != 99.0\n",
    "f8 =  hdu[1].data['r_auto'] != 99.0\n",
    "f9 =  hdu[1].data['f660_auto'] != 99.0\n",
    "f10 =  hdu[1].data['i_auto'] != 99.0\n",
    "f11 =  hdu[1].data['f861_auto'] != 99.0\n",
    "f12 =  hdu[1].data['z_auto'] != 99.0\n",
    "mask = f1 & f2 & f3 & f4 & f5 & f6 & f7 & f8 & f9 & f10 & f11 & f12"
   ]
  },
  {
   "cell_type": "code",
   "execution_count": 5,
   "metadata": {},
   "outputs": [],
   "source": [
    "data = Table(hdu[1].data)"
   ]
  },
  {
   "cell_type": "code",
   "execution_count": 6,
   "metadata": {},
   "outputs": [],
   "source": [
    "data.write(os.path.join(datadir, \"interesante-objeto_gaia.tab\"), format='ascii.tab', overwrite=True)"
   ]
  },
  {
   "cell_type": "code",
   "execution_count": null,
   "metadata": {
    "collapsed": true
   },
   "outputs": [],
   "source": []
  }
 ],
 "metadata": {
  "kernelspec": {
   "display_name": "Python 3",
   "language": "python",
   "name": "python3"
  },
  "language_info": {
   "codemirror_mode": {
    "name": "ipython",
    "version": 3
   },
   "file_extension": ".py",
   "mimetype": "text/x-python",
   "name": "python",
   "nbconvert_exporter": "python",
   "pygments_lexer": "ipython3",
   "version": "3.7.4"
  }
 },
 "nbformat": 4,
 "nbformat_minor": 2
}
