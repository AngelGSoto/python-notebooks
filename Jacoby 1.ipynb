{
 "cells": [
  {
   "cell_type": "code",
   "execution_count": 1,
   "metadata": {},
   "outputs": [
    {
     "name": "stdout",
     "output_type": "stream",
     "text": [
      "Populating the interactive namespace from numpy and matplotlib\n"
     ]
    }
   ],
   "source": [
    "%pylab inline"
   ]
  },
  {
   "cell_type": "code",
   "execution_count": 2,
   "metadata": {
    "collapsed": true
   },
   "outputs": [],
   "source": [
    "from __future__ import print_function\n",
    "import numpy as np\n",
    "from astropy.io import fits\n",
    "import os\n",
    "import glob\n",
    "import json\n",
    "import matplotlib.pyplot as plt\n",
    "from astropy.table import Table\n",
    "from collections import OrderedDict"
   ]
  },
  {
   "cell_type": "code",
   "execution_count": 4,
   "metadata": {},
   "outputs": [
    {
     "name": "stderr",
     "output_type": "stream",
     "text": [
      "WARNING: AstropyDeprecationWarning: Config parameter 'enabled_record_valued_keyword_cards' in section [io.fits] of the file '/home/angel/.astropy/config/astropy.cfg' is deprecated. Use 'enable_record_valued_keyword_cards' in section [io.fits] instead. [astropy.config.configuration]\n"
     ]
    }
   ],
   "source": [
    "datadir = \"../HASH/\"\n",
    "fitsfile = \"DSHWIYN_DSH_Pg1520_WY070610_id570.fits\"\n",
    "hdulist= fits.open(os.path.join(datadir, fitsfile))"
   ]
  },
  {
   "cell_type": "code",
   "execution_count": 5,
   "metadata": {},
   "outputs": [
    {
     "name": "stdout",
     "output_type": "stream",
     "text": [
      "Filename: ../HASH/DSHWIYN_DSH_Pg1520_WY070610_id570.fits\n",
      "No.    Name      Ver    Type      Cards   Dimensions   Format\n",
      "  0  PRIMARY       1 PrimaryHDU     143   (1269,)   float32   \n"
     ]
    }
   ],
   "source": [
    "hdulist.info()"
   ]
  },
  {
   "cell_type": "code",
   "execution_count": 6,
   "metadata": {},
   "outputs": [
    {
     "name": "stdout",
     "output_type": "stream",
     "text": [
      "Filename: ../HASH/DSHWIYN_DSH_Pg1520_WY070610_id570.fits\n",
      "No.    Name      Ver    Type      Cards   Dimensions   Format\n",
      "  0  PRIMARY       1 PrimaryHDU     143   (1269,)   float32   \n"
     ]
    }
   ],
   "source": [
    "hdulist.info()"
   ]
  },
  {
   "cell_type": "code",
   "execution_count": 7,
   "metadata": {},
   "outputs": [
    {
     "data": {
      "text/plain": [
       "SIMPLE  =                    T / Fits standard                                  \n",
       "BITPIX  =                  -32 / Bits per pixel                                 \n",
       "NAXIS   =                    1 / Number of axes                                 \n",
       "NAXIS1  =                 1269 / Axis length                                    \n",
       "EXTEND  =                    T / File may contain extensions                    \n",
       "ORIGIN  = 'NOAO-IRAF FITS Image Kernel July 2003' / FITS file originator        \n",
       "OBJECT  = 'PG1520 6/7 June 2010' / Name of the object observed                  \n",
       "DATE    = '2013-10-23T09:25:46' / Date FITS file was generated                  \n",
       "IRAF-TLM= '2013-10-23T09:25:46' / Time of last modification                     \n",
       "COMMENT   FITS (Flexible Image Transport System) format defined in Astronomy and\n",
       "COMMENT   Astrophysics Supplement Series v44/p363, v44/p371, v73/p359, v73/p365.\n",
       "COMMENT   Contact the NASA Science Office of Standards and Technology for the   \n",
       "COMMENT   FITS Definition document #100 and other FITS information.             \n",
       "CREATOR = 'Linux generic CCD control' / Data-taking program                     \n",
       "OBSERVAT= 'KPNO              ' / Originating Observatory                        \n",
       "TELESCOP= 'WIYN              ' / Specific system                                \n",
       "LATITUDE= '31:57:11.78'        / [deg] Observatory Latitude                     \n",
       "LONGITUD= '07:26:27.97'        / [deg west] Observatory Longtiude               \n",
       "INSTRUME= 'Bench Spectrograph' / Instrument                                     \n",
       "DETECTOR= 'STA1    '           / CCD Detector ID                                \n",
       "INSTID  = 'bench   '           / Instrument ID Code                             \n",
       "OBSERVER= 'G Jacoby          ' / observers                                      \n",
       "IMGTYPE = 'object  '           / Image type code                                \n",
       "EXPTIME =                600.0 / actual integration time, seconds               \n",
       "TIMESYS = 'UTC     '           / Time System is UTC                             \n",
       "DATE-OBS= '2010-06-07T04:14:39.0' / Date of start of observation in UTC         \n",
       "TIME-OBS= '21:14:39'           / Time of start of observation                   \n",
       "CCDTEMP =                  0.0 / [C] CCD temperature at readout                 \n",
       "CCDXBIN =                    4 / Column Binning on detector                     \n",
       "CCDYBIN =                    3 / Row Binning on detector                        \n",
       "HDR_REV = '3.00 18-Feb-2008  ' / Header-Rev                                     \n",
       "MJDHDR  =  2.4553546841790E+06 / MJD                                            \n",
       "LSTHDR  = '14:00:42.197      ' / local sidereal time                            \n",
       "ELMAP   = '64:51:04.953      ' / mapper elevation                               \n",
       "AZMAP   = '30:00:49.965      ' / mapper azimuth                                 \n",
       "TRACK   = 'Tracking          ' / tracking                                       \n",
       "COORDS  = ' Helio. mean FK5  ' / coordinate system                              \n",
       "EPOCH   =             2010.430 / of telescope coords                            \n",
       "TARGRA  = '15:21:46.581      ' / Telescope target RA                            \n",
       "TARGDEC = '52:22:04.180      ' / Telescope target DEC                           \n",
       "EQUINOX =             2000.000 / equinox of target coords                       \n",
       "RA      = '+15:21:46.575     ' / Telescope RA                                   \n",
       "DEC     = '+52:22:04.598     ' / Telescope DEC                                  \n",
       "RAOFFST = '-24:00:00.05      ' / Telescope RA offset                            \n",
       "DECOFFST= '+00:00:00.498     ' / Telescope DEC offset                           \n",
       "ZD      = '25:09:43.461      ' / zenith distance                                \n",
       "AIRMASS =                1.116 / airmass at start of exposure                   \n",
       "ROTANGLE=                0.000 / MNIR rotator angle, degrees CW from N          \n",
       "ROTOFF  =                0.000 / MNIR rotator angle offset                      \n",
       "FOCUS   = -9.9990000000000E+04 / Telescope focus (microns)                      \n",
       "ROTPORT = 'wnir              ' / Tertiary fold position                         \n",
       "FOLDPOS = 'wnir              ' / Tertiary port selection                        \n",
       "FFINTEN1=                    0 / Flatfield lamps intensity bank1                \n",
       "FFPOWER1=                    0 / Flatfield lamps power bank1                    \n",
       "FFINTEN2=                 1200 / Flatfield lamps intensity bank2                \n",
       "FFPOWER2=                    0 / Flatfield lamps power bank2                    \n",
       "GRATNAME= '600@10.1          ' / grating name                                   \n",
       "GRATANGL=               45.005 / grating angle (degrees)                        \n",
       "GRATORD =                    1 / grating order                                  \n",
       "WAVELEN =  1.6100948242000E+04 / grating wavelength                             \n",
       "TURTANGL=                0.004 / turret angle (degrees)                         \n",
       "DEWARANG=                0.700 / dewar azimuth (degrees)                        \n",
       "CAMANGLE=               30.000 / camera-collimator angle (degrees)              \n",
       "FIBFOCUS=                0.090 / fiber focus (inches)                           \n",
       "FIBRNAME= 'SparsePak         ' / fiber name                                     \n",
       "CAMFOCUS=               -0.003 / camera focus (inches)                          \n",
       "CAMNAME = 'Bench Spect (Red) Camera' / camera name                              \n",
       "FILTNAMA= 'None              ' / bench filter a (in beam)                       \n",
       "FILTNAMB= 'None              ' / bench filter b (in beam)                       \n",
       "FILTNAMC= 'G3_GG-375         ' / bench filter c (in beam)                       \n",
       "FILTNAMD= 'none              ' / bench filter d (in beam)                       \n",
       "FILTPOSA=                    0 / bench filter a position                        \n",
       "FILTPOSB=                    0 / bench filter b position                        \n",
       "FILTPOSC=                    1 / bench filter c position                        \n",
       "FILTPOSD=                    0 / bench filter d position                        \n",
       "CAMTEMP = '152.0             ' / CCD Temperature                                \n",
       "DEWTEMP = '0.0               ' / Tank cold-plate                                \n",
       "FIBCABLE= 'BLUE              ' / Hydra Fiber Cable Name                         \n",
       "OBSTIME =                600.0 / active observing time (sec)                    \n",
       "IMAGETYP= 'object            ' / Type of picture (object, dark, etc.)           \n",
       "RECID   = 'bench.100607.042513' / archive ID for observation                    \n",
       "MJD-OBS = '+2455354.8802567287348211' / Julian data at start of exposure        \n",
       "CCDSUM  = '4,3               ' / On chip summation (X,Y)                        \n",
       "OBSID   = 'wiyn.SparsePak.20100607T042513' / Observation-ID                     \n",
       "MOPSEQ  =                  306 / MOPINFO-sequence                               \n",
       "MOPDATE = 'Jun 6 21:25:13    ' / MOPINFO-timestamp                              \n",
       "FILENAME= 'n7.032.fits       ' / File name                                      \n",
       "PROPID  = '10A-0205          ' / observing proopsal ID                          \n",
       "TITLE   = 'PG1520 6/7 June 2010' / Title                                        \n",
       "DARKTIME=                600.0 / total elapsed time, seconds                    \n",
       "UT      = '04:14:41.25       ' / universal time (start of exposure)             \n",
       "UTSHUT  = '04:24:40.89       ' / UT of shutter close                            \n",
       "ENDTIME =       2455354.892471 / msd end of exposure                            \n",
       "JD      = '2455354.6803125'    / julian date of observation                     \n",
       "READTIME=                 29.0 / CCD readout time (sec)                         \n",
       "PREFLASH=                    0 / preflash time, seconds                         \n",
       "GAIN    =                0.219 / gain, electrons per adu                        \n",
       "DWELL   =                    8 / sample integration time, microseconds          \n",
       "RDNOISE =                3.400 / read noise, electrons                          \n",
       "INITTIME=                  2.0 / software/hardware initialization (sec)         \n",
       "PREPTIME=                  0.1 / CCD preparation time (sec)                     \n",
       "TOTTIME =                633.1 / total time spent in task (sec)                 \n",
       "ORIGSEC = '[1:650,1:1333]    ' / original size full frame                       \n",
       "CCDSEC  = '[1:650,1:1333]'     / orientation to full frame                      \n",
       "WCSDIM  =                    1                                                  \n",
       "LTM1_1  =    0.999680806935523                                                  \n",
       "WAT0_001= 'system=equispec'                                                     \n",
       "WAT1_001= 'wtype=linear label=Wavelength units=angstroms units_display=Angstrom'\n",
       "TRIM    = 'Jun 16 14:49 Trim data section is [1:650,1:1333]'                    \n",
       "OVERSCAN= 'Jun 16 14:49 Overscan section is [660:700,6:1333] with mean=30532.73'\n",
       "ZEROCOR = 'Jun 16 14:49 Zero level correction image is Zero'                    \n",
       "DARKCOR = 'Jun 16 14:49 Dark count correction image is Dark with scale=0.666666'\n",
       "CCDPROC = 'Jun 16 14:49 CCD processing done'                                    \n",
       "PROCID  = 'wiyn.SparsePak.20100607T042513V1'                                    \n",
       "PROCID01= 'wiyn.SparsePak.20100607T042513'                                      \n",
       "PROCID02= 'wiyn.SparsePak.20100607T043547'                                      \n",
       "IMCMB001= 'pg1520a '                                                            \n",
       "IMCMB002= 'pg1520b '                                                            \n",
       "NCOMBINE=                   81                                                  \n",
       "LJD     =             2455354.                                                  \n",
       "APNUM1  = '1 1 606.15 611.43'                                                   \n",
       "CTYPE1  = 'LINEAR  '                                                            \n",
       "CRVAL1  =     4113.67198213763                                                  \n",
       "CRPIX1  =    -63.4259394030319                                                  \n",
       "CDELT1  =     2.11604237556458                                                  \n",
       "CD1_1   =     2.11604237556458                                                  \n",
       "DC-FLAG =                    0                                                  \n",
       "DCLOG1  = 'REFSPEC1 = Comp.ms'                                                  \n",
       "WAT1_002= 's       '                                                            \n",
       "EX-FLAG =                    0                                                  \n",
       "CA-FLAG =                    0                                                  \n",
       "BUNIT   = 'erg/cm2/s/A'                                                         \n",
       "BANDID1 = 'spectrum - background none, weights none, clean no'                  \n",
       "LTV1    =    -64.4256202099674                                                  \n",
       "                                                                                \n",
       "                                                                                \n",
       "                                                                                \n",
       "                                                                                \n",
       "                                                                                \n",
       "                                                                                \n",
       "                                                                                \n",
       "                                                                                \n",
       "                                                                                "
      ]
     },
     "execution_count": 7,
     "metadata": {},
     "output_type": "execute_result"
    }
   ],
   "source": [
    "hdulist[0].header"
   ]
  },
  {
   "cell_type": "code",
   "execution_count": 8,
   "metadata": {
    "collapsed": true
   },
   "outputs": [],
   "source": [
    "hdu = hdulist[0]"
   ]
  },
  {
   "cell_type": "code",
   "execution_count": 9,
   "metadata": {},
   "outputs": [
    {
     "data": {
      "text/plain": [
       "array([  1.62619457e-17,   1.63444272e-17,   1.40155663e-17, ...,\n",
       "        -8.27890540e-19,   1.17252097e-18,   3.06114186e-19], dtype=float32)"
      ]
     },
     "execution_count": 9,
     "metadata": {},
     "output_type": "execute_result"
    }
   ],
   "source": [
    "hdu.data"
   ]
  },
  {
   "cell_type": "code",
   "execution_count": 10,
   "metadata": {},
   "outputs": [
    {
     "name": "stderr",
     "output_type": "stream",
     "text": [
      "WARNING: AstropyDeprecationWarning: Config parameter 'enabled_record_valued_keyword_cards' in section [io.fits] of the file '/home/angel/.astropy/config/astropy.cfg' is deprecated. Use 'enable_record_valued_keyword_cards' in section [io.fits] instead. [astropy.config.configuration]\n"
     ]
    }
   ],
   "source": [
    "nx, wav0, i0, dwav = [hdu.header[k] for k in (\"NAXIS1\", \"CRVAL1\", \"CRPIX1\", \"CD1_1\")]\n",
    "wavs = wav0 + (np.arange(nx) - (i0 - 1))*dwav "
   ]
  },
  {
   "cell_type": "code",
   "execution_count": 11,
   "metadata": {},
   "outputs": [
    {
     "data": {
      "text/plain": [
       "array([ 4250.        ,  4252.11604238,  4254.23208475, ...,  6928.90964746,\n",
       "        6931.02568984,  6933.14173222])"
      ]
     },
     "execution_count": 11,
     "metadata": {},
     "output_type": "execute_result"
    }
   ],
   "source": [
    "wavs"
   ]
  },
  {
   "cell_type": "code",
   "execution_count": 12,
   "metadata": {
    "collapsed": true
   },
   "outputs": [],
   "source": [
    "Flux = hdulist[0].data"
   ]
  },
  {
   "cell_type": "code",
   "execution_count": 15,
   "metadata": {},
   "outputs": [
    {
     "data": {
      "image/png": "[encoded data removed]",
      "text/plain": [
       "<matplotlib.figure.Figure at 0x7f7e9551e518>"
      ]
     },
     "metadata": {},
     "output_type": "display_data"
    }
   ],
   "source": [
    "#plt.xlim(xmin=4090,xmax=5010)\n",
    "#plt.ylim(ymin=-1e-17,ymax=1e-16)\n",
    "xlabel(\"Wavelength, Angstrom\")\n",
    "ylabel(\"Flux, erg/cm^2/s/A\")\n",
    "plt.plot(wavs, Flux)\n",
    "gcf().set_size_inches(12,8)\n",
    "grid()"
   ]
  },
  {
   "cell_type": "code",
   "execution_count": null,
   "metadata": {
    "collapsed": true
   },
   "outputs": [],
   "source": []
  }
 ],
 "metadata": {
  "kernelspec": {
   "display_name": "Python 3",
   "language": "python",
   "name": "python3"
  },
  "language_info": {
   "codemirror_mode": {
    "name": "ipython",
    "version": 3
   },
   "file_extension": ".py",
   "mimetype": "text/x-python",
   "name": "python",
   "nbconvert_exporter": "python",
   "pygments_lexer": "ipython3",
   "version": "3.6.3"
  }
 },
 "nbformat": 4,
 "nbformat_minor": 2
}
