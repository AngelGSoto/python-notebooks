{
 "cells": [
  {
   "cell_type": "markdown",
   "metadata": {},
   "source": [
    "# Taken from: https://github.com/will-henney/orion-bowshock-catalog/blob/master/luis-angel-ll.org"
   ]
  },
  {
   "cell_type": "code",
   "execution_count": 24,
   "metadata": {},
   "outputs": [],
   "source": [
    "from astropy.table import Table\n",
    "from catalog_utils import region_lines_from_table\n",
    "from pathlib import Path"
   ]
  },
  {
   "cell_type": "code",
   "execution_count": 25,
   "metadata": {},
   "outputs": [],
   "source": [
    "table = Table.read('ll-stars-arcs-simbad-047.csv', format=\"ascii.csv\")\n",
    "regionfile = 'll-stars-arcs-simbad-047.reg'\n",
    "with open(regionfile, 'w') as f:\n",
    "    f.write('\\n'.join(region_lines_from_table(table, name='MAIN_ID',\n",
    "                                              ra='RA_d', dec='DEC_d',\n",
    "                                              color='red')))"
   ]
  },
  {
   "cell_type": "code",
   "execution_count": 26,
   "metadata": {},
   "outputs": [],
   "source": [
    "table1 = Table.read('arcs-summary-unique.ecsv', format=\"ascii.ecsv\")\n",
    "regionfile1 = 'arcs-summary-unique.reg'\n",
    "with open(regionfile1, 'w') as f1:\n",
    "    f1.write('\\n'.join(region_lines_from_table(table1, name='Object',\n",
    "                                              ra='RA', dec='Dec',\n",
    "                                              color='#1f77b4')))"
   ]
  },
  {
   "cell_type": "code",
   "execution_count": 27,
   "metadata": {},
   "outputs": [],
   "source": [
    "ROOT_PATH = Path(\"..\") # necessary since we are in the `notebooks/` sub-folder"
   ]
  },
  {
   "cell_type": "code",
   "execution_count": 28,
   "metadata": {},
   "outputs": [],
   "source": [
    "table2 = Table.read(ROOT_PATH / \"Dropbox/LuisBowshocks/Robberto2010/arc-stellar-RSS2010.csv\", format=\"ascii.csv\")\n",
    "regionfile2 = ROOT_PATH / \"Dropbox/LuisBowshocks/Robberto2010/arc-stellar-RSS2010.reg\"\n",
    "with open(regionfile2, 'w') as f2:\n",
    "    f2.write('\\n'.join(region_lines_from_table(table2, name='ID',\n",
    "                                              ra='RAJ2000', dec='DEJ2000',\n",
    "                                              color='#44cc66')))"
   ]
  },
  {
   "cell_type": "code",
   "execution_count": 29,
   "metadata": {},
   "outputs": [],
   "source": [
    "table3 = Table.read(ROOT_PATH / \"Dropbox/LuisBowshocks/COUP/Getman2005/arc-stellar-getman2005.csv\", format=\"ascii.csv\")\n",
    "regionfile3 = ROOT_PATH / \"Dropbox/LuisBowshocks/COUP/Getman2005/arc-stellar-getman2005.reg\"\n",
    "with open(regionfile3, 'w') as f3:\n",
    "    f3.write('\\n'.join(region_lines_from_table(table3, name='COUP',\n",
    "                                              ra='RAJ2000', dec='DEJ2000',\n",
    "                                              color='#ff44aa')))"
   ]
  },
  {
   "cell_type": "code",
   "execution_count": 45,
   "metadata": {},
   "outputs": [],
   "source": [
    "table4 = Table.read(ROOT_PATH / \"Dropbox/LuisBowshocks/Robberto2005/arc-stellar-robberto.csv\", format=\"ascii.csv\")\n",
    "regionfile4 = ROOT_PATH / \"Dropbox/LuisBowshocks/Robberto2005/arc-stellar-robberto.reg\"\n",
    "with open(regionfile4, 'w') as f4:\n",
    "    f4.write('\\n'.join(region_lines_from_table(table4, name='MAX',\n",
    "                                              ra='RAJ2000', dec='DEJ2000',\n",
    "                                              color='#2ecc71')))"
   ]
  },
  {
   "cell_type": "code",
   "execution_count": 35,
   "metadata": {},
   "outputs": [],
   "source": [
    "table5 = Table.read(ROOT_PATH / \"Dropbox/LuisBowshocks/Smith2005/arc-stellar-smith2005.csv\", format=\"ascii.csv\")\n",
    "regionfile5 = ROOT_PATH / \"Dropbox/LuisBowshocks/Smith2005/arc-stellar-smith2005.reg\"\n",
    "with open(regionfile5, 'w') as f5:\n",
    "    f5.write('\\n'.join(region_lines_from_table(table5, name='recno',\n",
    "                                              ra='RAJ2000', dec='DEJ2000',\n",
    "                                              color='#44cc44')))"
   ]
  },
  {
   "cell_type": "code",
   "execution_count": 40,
   "metadata": {},
   "outputs": [],
   "source": [
    "table6 = Table.read(ROOT_PATH / \"Dropbox/LuisBowshocks/Hillenbrand2000/arc-stellar-hillenbrand2000.csv\", format=\"ascii.csv\")\n",
    "regionfile6 = ROOT_PATH / \"Dropbox/LuisBowshocks/Hillenbrand2000/arc-stellar-hillenbrand2000.reg\"\n",
    "with open(regionfile6, 'w') as f6:\n",
    "    f6.write('\\n'.join(region_lines_from_table(table6, name='__HC2000_',\n",
    "                                              ra='RAJ2000', dec='DEJ2000',\n",
    "                                              color='#aa22aa')))"
   ]
  },
  {
   "cell_type": "code",
   "execution_count": 41,
   "metadata": {},
   "outputs": [],
   "source": [
    "table7 = Table.read(ROOT_PATH / \"Dropbox/LuisBowshocks/Morales-Calderon2011/arc-stellar-morales2011.csv\", format=\"ascii.csv\")\n",
    "regionfile7 = ROOT_PATH / \"Dropbox/LuisBowshocks/Morales-Calderon2011/arc-stellar-morales2011.reg\"\n",
    "with open(regionfile7, 'w') as f7:\n",
    "    f7.write('\\n'.join(region_lines_from_table(table7, name='ISOY',\n",
    "                                              ra='RAJ2000', dec='DEJ2000',\n",
    "                                              color='navy')))"
   ]
  },
  {
   "cell_type": "code",
   "execution_count": 46,
   "metadata": {},
   "outputs": [],
   "source": [
    "table8 = Table.read(ROOT_PATH / \"Dropbox/LuisBowshocks/Robberto2013/arc-stellar-robberto2013.csv\", format=\"ascii.csv\")\n",
    "regionfile8 = ROOT_PATH / \"Dropbox/LuisBowshocks/Robberto2013/arc-stellar-robberto2013.reg\"\n",
    "with open(regionfile8, 'w') as f8:\n",
    "    f8.write('\\n'.join(region_lines_from_table(table8, name='ONCacs',\n",
    "                                              ra='RAJ2000', dec='DEJ2000',\n",
    "                                              color='#9b59b6')))"
   ]
  },
  {
   "cell_type": "code",
   "execution_count": null,
   "metadata": {},
   "outputs": [],
   "source": []
  },
  {
   "cell_type": "code",
   "execution_count": null,
   "metadata": {},
   "outputs": [],
   "source": []
  }
 ],
 "metadata": {
  "kernelspec": {
   "display_name": "Python 3",
   "language": "python",
   "name": "python3"
  },
  "language_info": {
   "codemirror_mode": {
    "name": "ipython",
    "version": 3
   },
   "file_extension": ".py",
   "mimetype": "text/x-python",
   "name": "python",
   "nbconvert_exporter": "python",
   "pygments_lexer": "ipython3",
   "version": "3.7.3"
  }
 },
 "nbformat": 4,
 "nbformat_minor": 2
}
