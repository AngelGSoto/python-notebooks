{
 "cells": [
  {
   "cell_type": "markdown",
   "metadata": {},
   "source": [
    "# Code to implement astroquery on simbad and Vizier"
   ]
  },
  {
   "cell_type": "code",
   "execution_count": 1,
   "metadata": {},
   "outputs": [],
   "source": [
    "from astroquery.simbad import Simbad\n",
    "import astropy.coordinates as coord\n",
    "import astropy.units as u\n",
    "from astropy.io import ascii\n",
    "from astropy.table import Table\n",
    "from astropy.coordinates import SkyCoord \n",
    "from astroquery.sdss import SDSS\n",
    "import numpy as np"
   ]
  },
  {
   "cell_type": "code",
   "execution_count": 2,
   "metadata": {},
   "outputs": [
    {
     "data": {
      "text/plain": [
       "<Table length=181>\n",
       "  name   dtype \n",
       "------- -------\n",
       "  recno   int64\n",
       "    Seq   int64\n",
       "RAJ2000 float64\n",
       "DEJ2000 float64\n",
       "  Plate   int64\n",
       "    MJD   int64\n",
       "  Fiber   int64\n",
       " [OII]1 float64\n",
       "[OIII]1 float64\n",
       "[OIII]2 float64\n",
       " [SII]1 float64\n",
       " [SII]2 float64\n",
       " [OII]2 float64\n",
       "   t3,O float64\n",
       "   t2,O float64"
      ]
     },
     "execution_count": 2,
     "metadata": {},
     "output_type": "execute_result"
    }
   ],
   "source": [
    "# Read the table\n",
    "tab = Table.read(\"../SDSS/J_MNRAS_403_896_tablea1.dat\", format=\"ascii\")\n",
    "tab.info"
   ]
  },
  {
   "cell_type": "code",
   "execution_count": 8,
   "metadata": {},
   "outputs": [
    {
     "data": {
      "text/html": [
       "&lt;Column name=&apos;DEJ2000&apos; dtype=&apos;float64&apos; length=181&gt;\n",
       "<table>\n",
       "<tr><td>0.8572222222222221</td></tr>\n",
       "<tr><td>-0.7184166666666666</td></tr>\n",
       "<tr><td>0.5493611111111111</td></tr>\n",
       "<tr><td>0.5493611111111111</td></tr>\n",
       "<tr><td>0.5493611111111111</td></tr>\n",
       "<tr><td>0.3312777777777777</td></tr>\n",
       "<tr><td>0.3312777777777777</td></tr>\n",
       "<tr><td>0.3312777777777777</td></tr>\n",
       "<tr><td>-8.893833333333331</td></tr>\n",
       "<tr><td>1.2174444444444443</td></tr>\n",
       "<tr><td>-0.23238888888888887</td></tr>\n",
       "<tr><td>-0.20299999999999996</td></tr>\n",
       "<tr><td>...</td></tr>\n",
       "<tr><td>56.47713888888888</td></tr>\n",
       "<tr><td>56.47713888888888</td></tr>\n",
       "<tr><td>-6.088138888888888</td></tr>\n",
       "<tr><td>-7.99761111111111</td></tr>\n",
       "<tr><td>0.3226944444444444</td></tr>\n",
       "<tr><td>0.002472222222222222</td></tr>\n",
       "<tr><td>1.1608333333333332</td></tr>\n",
       "<tr><td>1.1608333333333332</td></tr>\n",
       "<tr><td>1.1608333333333332</td></tr>\n",
       "<tr><td>13.453694444444443</td></tr>\n",
       "<tr><td>-1.1824722222222221</td></tr>\n",
       "<tr><td>-1.1824722222222221</td></tr>\n",
       "</table>"
      ],
      "text/plain": [
       "<Column name='DEJ2000' dtype='float64' length=181>\n",
       "  0.8572222222222221\n",
       " -0.7184166666666666\n",
       "  0.5493611111111111\n",
       "  0.5493611111111111\n",
       "  0.5493611111111111\n",
       "  0.3312777777777777\n",
       "  0.3312777777777777\n",
       "  0.3312777777777777\n",
       "  -8.893833333333331\n",
       "  1.2174444444444443\n",
       "-0.23238888888888887\n",
       "-0.20299999999999996\n",
       "                 ...\n",
       "   56.47713888888888\n",
       "   56.47713888888888\n",
       "  -6.088138888888888\n",
       "   -7.99761111111111\n",
       "  0.3226944444444444\n",
       "0.002472222222222222\n",
       "  1.1608333333333332\n",
       "  1.1608333333333332\n",
       "  1.1608333333333332\n",
       "  13.453694444444443\n",
       " -1.1824722222222221\n",
       " -1.1824722222222221"
      ]
     },
     "execution_count": 8,
     "metadata": {},
     "output_type": "execute_result"
    }
   ],
   "source": [
    "Seq = tab[\"Seq\"]\n",
    "ra = tab[\"RAJ2000\"]\n",
    "dec = tab[\"DEJ2000\"]\n",
    "table = Table([Seq, ra, dec], names=('Seq', 'RA', 'DEC'), meta={'name': 'first table'}) \n",
    "dec"
   ]
  },
  {
   "cell_type": "code",
   "execution_count": 9,
   "metadata": {},
   "outputs": [],
   "source": [
    "asciifile = \"../SDSS/J_MNRAS_403_896_tablea1_coor.dat\" \n",
    "table.write(asciifile, format=\"ascii\") "
   ]
  },
  {
   "cell_type": "code",
   "execution_count": null,
   "metadata": {},
   "outputs": [],
   "source": []
  },
  {
   "cell_type": "code",
   "execution_count": null,
   "metadata": {},
   "outputs": [],
   "source": []
  }
 ],
 "metadata": {
  "kernelspec": {
   "display_name": "Python 3",
   "language": "python",
   "name": "python3"
  },
  "language_info": {
   "codemirror_mode": {
    "name": "ipython",
    "version": 3
   },
   "file_extension": ".py",
   "mimetype": "text/x-python",
   "name": "python",
   "nbconvert_exporter": "python",
   "pygments_lexer": "ipython3",
   "version": "3.7.4"
  }
 },
 "nbformat": 4,
 "nbformat_minor": 2
}
