{
 "cells": [
  {
   "cell_type": "markdown",
   "metadata": {},
   "source": [
    "# Simple code to unmatch two tables"
   ]
  },
  {
   "cell_type": "code",
   "execution_count": 1,
   "metadata": {},
   "outputs": [],
   "source": [
    "from __future__ import print_function\n",
    "import numpy as np\n",
    "import os\n",
    "import glob\n",
    "import json\n",
    "import matplotlib.pyplot as plt\n",
    "import pandas as pd\n",
    "from astropy.table import Table"
   ]
  },
  {
   "cell_type": "code",
   "execution_count": 4,
   "metadata": {},
   "outputs": [],
   "source": [
    "#datadir = \"../SPLUS-DR1/haemiiter-08\"\n",
    "#file_ = \"splus-dr1-rhalpha_08_onlyerror_3filters-editado.tab\"\n",
    "datadir1 = \"../JPLUS-DR2/aper6_mag_idr\"\n",
    "datadir2 = \"../JPLUS-DR2\"\n",
    "file_1 = \"PN-pc-Halpha_emitters_threeerror-cleaning-limfilter-limcolor-flags-mask-broad-prob.tab\"\n",
    "file_2 = \"PN_HASH-JPLUS-DR2-v2.tab\""
   ]
  },
  {
   "cell_type": "code",
   "execution_count": 5,
   "metadata": {},
   "outputs": [],
   "source": [
    "data1 = Table.read(os.path.join(datadir1, file_1), format=\"ascii.tab\")\n",
    "data2 = Table.read(os.path.join(datadir2, file_2), format=\"ascii.tab\")"
   ]
  },
  {
   "cell_type": "code",
   "execution_count": 11,
   "metadata": {},
   "outputs": [
    {
     "name": "stdout",
     "output_type": "stream",
     "text": [
      "<Table length=54>\n",
      "         name           dtype \n",
      "---------------------- -------\n",
      "                  Tile   int64\n",
      "                Number   int64\n",
      "                    RA float64\n",
      "                   Dec float64\n",
      "            rSDSS_auto float64\n",
      "            gSDSS_auto float64\n",
      "            iSDSS_auto float64\n",
      "            zSDSS_auto float64\n",
      "            uJAVA_auto float64\n",
      "            J0378_auto float64\n",
      "            J0395_auto float64\n",
      "            J0410_auto float64\n",
      "            J0430_auto float64\n",
      "            J0515_auto float64\n",
      "            J0660_auto float64\n",
      "            J0861_auto float64\n",
      "           rSDSS_PETRO float64\n",
      "           gSDSS_PETRO float64\n",
      "           iSDSS_PETRO float64\n",
      "           zSDSS_PETRO float64\n",
      "           uJAVA_PETRO float64\n",
      "           J0378_PETRO float64\n",
      "           J0395_PETRO float64\n",
      "           J0410_PETRO float64\n",
      "           J0430_PETRO float64\n",
      "           J0515_PETRO float64\n",
      "           J0660_PETRO float64\n",
      "           J0861_PETRO float64\n",
      "    rSDSS_MAG_APER_6_0 float64\n",
      "    gSDSS_MAG_APER_6_0 float64\n",
      "    iSDSS_MAG_APER_6_0 float64\n",
      "    zSDSS_MAG_APER_6_0 float64\n",
      "    uJAVA_MAG_APER_6_0 float64\n",
      "    J0378_MAG_APER_6_0 float64\n",
      "    J0395_MAG_APER_6_0 float64\n",
      "    J0410_MAG_APER_6_0 float64\n",
      "    J0430_MAG_APER_6_0 float64\n",
      "    J0515_MAG_APER_6_0 float64\n",
      "    J0660_MAG_APER_6_0 float64\n",
      "    J0861_MAG_APER_6_0 float64\n",
      "        rSDSS_auto_err float64\n",
      "        gSDSS_auto_err float64\n",
      "        iSDSS_auto_err float64\n",
      "        zSDSS_auto_err float64\n",
      "        uJAVA_auto_err float64\n",
      "        J0378_auto_err float64\n",
      "        J0395_auto_err float64\n",
      "        J0410_auto_err float64\n",
      "        J0430_auto_err float64\n",
      "        J0515_auto_err float64\n",
      "        J0660_auto_err float64\n",
      "        J0861_auto_err float64\n",
      "       rSDSS_PETRO_err float64\n",
      "       gSDSS_PETRO_err float64\n",
      "       iSDSS_PETRO_err float64\n",
      "       zSDSS_PETRO_err float64\n",
      "       uJAVA_PETRO_err float64\n",
      "       J0378_PETRO_err float64\n",
      "       J0395_PETRO_err float64\n",
      "       J0410_PETRO_err float64\n",
      "       J0430_PETRO_err float64\n",
      "       J0515_PETRO_err float64\n",
      "       J0660_PETRO_err float64\n",
      "       J0861_PETRO_err float64\n",
      "rSDSS_MAG_APER_6_0_err float64\n",
      "gSDSS_MAG_APER_6_0_err float64\n",
      "iSDSS_MAG_APER_6_0_err float64\n",
      "zSDSS_MAG_APER_6_0_err float64\n",
      "uJAVA_MAG_APER_6_0_err float64\n",
      "J0378_MAG_APER_6_0_err float64\n",
      "J0395_MAG_APER_6_0_err float64\n",
      "J0410_MAG_APER_6_0_err float64\n",
      "J0430_MAG_APER_6_0_err float64\n",
      "J0515_MAG_APER_6_0_err float64\n",
      "J0660_MAG_APER_6_0_err float64\n",
      "J0861_MAG_APER_6_0_err float64\n",
      "           rSDSS_FLAGS   int64\n",
      "           gSDSS_FLAGS   int64\n",
      "           iSDSS_FLAGS   int64\n",
      "           zSDSS_FLAGS   int64\n",
      "           uJAVA_FLAGS   int64\n",
      "           J0378_FLAGS   int64\n",
      "           J0395_FLAGS   int64\n",
      "           J0410_FLAGS   int64\n",
      "           J0430_FLAGS   int64\n",
      "           J0515_FLAGS   int64\n",
      "           J0660_FLAGS   int64\n",
      "           J0861_FLAGS   int64\n",
      "      rSDSS_MASK_FLAGS   int64\n",
      "      gSDSS_MASK_FLAGS   int64\n",
      "      iSDSS_MASK_FLAGS   int64\n",
      "      zSDSS_MASK_FLAGS   int64\n",
      "      uJAVA_MASK_FLAGS   int64\n",
      "      J0378_MASK_FLAGS   int64\n",
      "      J0395_MASK_FLAGS   int64\n",
      "      J0410_MASK_FLAGS   int64\n",
      "      J0430_MASK_FLAGS   int64\n",
      "      J0515_MASK_FLAGS   int64\n",
      "      J0660_MASK_FLAGS   int64\n",
      "      J0861_MASK_FLAGS   int64\n",
      "                 P(PN) float64\n",
      "               P(SySt) float64\n",
      "           P(all else) float64\n"
     ]
    }
   ],
   "source": [
    "data1.info()"
   ]
  },
  {
   "cell_type": "code",
   "execution_count": 26,
   "metadata": {},
   "outputs": [],
   "source": [
    "id1 = data1[\"Number\"]\n",
    "id2 = data2[\"Number\"]\n",
    "m = np.array([not source in id2 for source in id1])"
   ]
  },
  {
   "cell_type": "code",
   "execution_count": 31,
   "metadata": {},
   "outputs": [
    {
     "data": {
      "text/html": [
       "&lt;Column name=&apos;Number&apos; dtype=&apos;int64&apos; length=12&gt;\n",
       "<table>\n",
       "<tr><td>9746</td></tr>\n",
       "<tr><td>47481</td></tr>\n",
       "<tr><td>23821</td></tr>\n",
       "<tr><td>73697</td></tr>\n",
       "<tr><td>18195</td></tr>\n",
       "<tr><td>25070</td></tr>\n",
       "<tr><td>18193</td></tr>\n",
       "<tr><td>5786</td></tr>\n",
       "<tr><td>19210</td></tr>\n",
       "<tr><td>45492</td></tr>\n",
       "<tr><td>2992</td></tr>\n",
       "<tr><td>69243</td></tr>\n",
       "</table>"
      ],
      "text/plain": [
       "<Column name='Number' dtype='int64' length=12>\n",
       " 9746\n",
       "47481\n",
       "23821\n",
       "73697\n",
       "18195\n",
       "25070\n",
       "18193\n",
       " 5786\n",
       "19210\n",
       "45492\n",
       " 2992\n",
       "69243"
      ]
     },
     "execution_count": 31,
     "metadata": {},
     "output_type": "execute_result"
    }
   ],
   "source": [
    "id2"
   ]
  },
  {
   "cell_type": "code",
   "execution_count": 30,
   "metadata": {},
   "outputs": [
    {
     "data": {
      "text/html": [
       "<i>Table length=49</i>\n",
       "<table id=\"table140056147573776\" class=\"table-striped table-bordered table-condensed\">\n",
       "<thead><tr><th>Tile</th><th>Number</th><th>RA</th><th>Dec</th><th>rSDSS_auto</th><th>gSDSS_auto</th><th>iSDSS_auto</th><th>zSDSS_auto</th><th>uJAVA_auto</th><th>J0378_auto</th><th>J0395_auto</th><th>J0410_auto</th><th>J0430_auto</th><th>J0515_auto</th><th>J0660_auto</th><th>J0861_auto</th><th>rSDSS_PETRO</th><th>gSDSS_PETRO</th><th>iSDSS_PETRO</th><th>zSDSS_PETRO</th><th>uJAVA_PETRO</th><th>J0378_PETRO</th><th>J0395_PETRO</th><th>J0410_PETRO</th><th>J0430_PETRO</th><th>J0515_PETRO</th><th>J0660_PETRO</th><th>J0861_PETRO</th><th>rSDSS_MAG_APER_6_0</th><th>gSDSS_MAG_APER_6_0</th><th>iSDSS_MAG_APER_6_0</th><th>zSDSS_MAG_APER_6_0</th><th>uJAVA_MAG_APER_6_0</th><th>J0378_MAG_APER_6_0</th><th>J0395_MAG_APER_6_0</th><th>J0410_MAG_APER_6_0</th><th>J0430_MAG_APER_6_0</th><th>J0515_MAG_APER_6_0</th><th>J0660_MAG_APER_6_0</th><th>J0861_MAG_APER_6_0</th><th>rSDSS_auto_err</th><th>gSDSS_auto_err</th><th>iSDSS_auto_err</th><th>zSDSS_auto_err</th><th>uJAVA_auto_err</th><th>J0378_auto_err</th><th>J0395_auto_err</th><th>J0410_auto_err</th><th>J0430_auto_err</th><th>J0515_auto_err</th><th>J0660_auto_err</th><th>J0861_auto_err</th><th>rSDSS_PETRO_err</th><th>gSDSS_PETRO_err</th><th>iSDSS_PETRO_err</th><th>zSDSS_PETRO_err</th><th>uJAVA_PETRO_err</th><th>J0378_PETRO_err</th><th>J0395_PETRO_err</th><th>J0410_PETRO_err</th><th>J0430_PETRO_err</th><th>J0515_PETRO_err</th><th>J0660_PETRO_err</th><th>J0861_PETRO_err</th><th>rSDSS_MAG_APER_6_0_err</th><th>gSDSS_MAG_APER_6_0_err</th><th>iSDSS_MAG_APER_6_0_err</th><th>zSDSS_MAG_APER_6_0_err</th><th>uJAVA_MAG_APER_6_0_err</th><th>J0378_MAG_APER_6_0_err</th><th>J0395_MAG_APER_6_0_err</th><th>J0410_MAG_APER_6_0_err</th><th>J0430_MAG_APER_6_0_err</th><th>J0515_MAG_APER_6_0_err</th><th>J0660_MAG_APER_6_0_err</th><th>J0861_MAG_APER_6_0_err</th><th>rSDSS_FLAGS</th><th>gSDSS_FLAGS</th><th>iSDSS_FLAGS</th><th>zSDSS_FLAGS</th><th>uJAVA_FLAGS</th><th>J0378_FLAGS</th><th>J0395_FLAGS</th><th>J0410_FLAGS</th><th>J0430_FLAGS</th><th>J0515_FLAGS</th><th>J0660_FLAGS</th><th>J0861_FLAGS</th><th>rSDSS_MASK_FLAGS</th><th>gSDSS_MASK_FLAGS</th><th>iSDSS_MASK_FLAGS</th><th>zSDSS_MASK_FLAGS</th><th>uJAVA_MASK_FLAGS</th><th>J0378_MASK_FLAGS</th><th>J0395_MASK_FLAGS</th><th>J0410_MASK_FLAGS</th><th>J0430_MASK_FLAGS</th><th>J0515_MASK_FLAGS</th><th>J0660_MASK_FLAGS</th><th>J0861_MASK_FLAGS</th><th>P(PN)</th><th>P(SySt)</th><th>P(all else)</th></tr></thead>\n",
       "<thead><tr><th>int64</th><th>int64</th><th>float64</th><th>float64</th><th>float64</th><th>float64</th><th>float64</th><th>float64</th><th>float64</th><th>float64</th><th>float64</th><th>float64</th><th>float64</th><th>float64</th><th>float64</th><th>float64</th><th>float64</th><th>float64</th><th>float64</th><th>float64</th><th>float64</th><th>float64</th><th>float64</th><th>float64</th><th>float64</th><th>float64</th><th>float64</th><th>float64</th><th>float64</th><th>float64</th><th>float64</th><th>float64</th><th>float64</th><th>float64</th><th>float64</th><th>float64</th><th>float64</th><th>float64</th><th>float64</th><th>float64</th><th>float64</th><th>float64</th><th>float64</th><th>float64</th><th>float64</th><th>float64</th><th>float64</th><th>float64</th><th>float64</th><th>float64</th><th>float64</th><th>float64</th><th>float64</th><th>float64</th><th>float64</th><th>float64</th><th>float64</th><th>float64</th><th>float64</th><th>float64</th><th>float64</th><th>float64</th><th>float64</th><th>float64</th><th>float64</th><th>float64</th><th>float64</th><th>float64</th><th>float64</th><th>float64</th><th>float64</th><th>float64</th><th>float64</th><th>float64</th><th>float64</th><th>float64</th><th>int64</th><th>int64</th><th>int64</th><th>int64</th><th>int64</th><th>int64</th><th>int64</th><th>int64</th><th>int64</th><th>int64</th><th>int64</th><th>int64</th><th>int64</th><th>int64</th><th>int64</th><th>int64</th><th>int64</th><th>int64</th><th>int64</th><th>int64</th><th>int64</th><th>int64</th><th>int64</th><th>int64</th><th>float64</th><th>float64</th><th>float64</th></tr></thead>\n",
       "<tr><td>71690</td><td>17355</td><td>16.2730098396</td><td>2.15494073647</td><td>16.677</td><td>16.647</td><td>16.904</td><td>16.682</td><td>17.222</td><td>17.411</td><td>16.611</td><td>16.767</td><td>16.424</td><td>16.277</td><td>15.757</td><td>17.481</td><td>99.0</td><td>19.566</td><td>18.006</td><td>16.834</td><td>99.0</td><td>99.0</td><td>18.274</td><td>99.0</td><td>18.402</td><td>16.54</td><td>99.0</td><td>99.0</td><td>19.232</td><td>19.797</td><td>19.659</td><td>19.217</td><td>19.04</td><td>18.884</td><td>20.212</td><td>19.765</td><td>19.677</td><td>20.054</td><td>17.752</td><td>19.689</td><td>0.093</td><td>0.089</td><td>0.166</td><td>0.265</td><td>0.313</td><td>0.407</td><td>0.192</td><td>0.171</td><td>0.131</td><td>0.105</td><td>0.072</td><td>0.676</td><td>99.0</td><td>2.062</td><td>0.749</td><td>0.499</td><td>99.0</td><td>99.0</td><td>1.377</td><td>99.0</td><td>1.281</td><td>0.205</td><td>99.0</td><td>99.0</td><td>0.059</td><td>0.101</td><td>0.116</td><td>0.15</td><td>0.116</td><td>0.104</td><td>0.334</td><td>0.18</td><td>0.161</td><td>0.218</td><td>0.032</td><td>0.286</td><td>3</td><td>3</td><td>3</td><td>3</td><td>3</td><td>3</td><td>3</td><td>3</td><td>3</td><td>3</td><td>3</td><td>3</td><td>0</td><td>0</td><td>0</td><td>0</td><td>0</td><td>0</td><td>0</td><td>0</td><td>0</td><td>0</td><td>0</td><td>0</td><td>0.8000012219187547</td><td>0.19574758490856595</td><td>0.004251193172679516</td></tr>\n",
       "<tr><td>71690</td><td>18758</td><td>16.2599953258</td><td>2.14481960376</td><td>17.587</td><td>18.574</td><td>18.644</td><td>18.524</td><td>18.403</td><td>17.702</td><td>18.45</td><td>19.033</td><td>18.137</td><td>19.18</td><td>15.795</td><td>18.597</td><td>17.655</td><td>18.888</td><td>18.761</td><td>18.814</td><td>18.587</td><td>17.866</td><td>18.504</td><td>19.606</td><td>18.353</td><td>19.447</td><td>15.822</td><td>18.488</td><td>17.794</td><td>18.816</td><td>18.924</td><td>19.067</td><td>18.495</td><td>18.032</td><td>18.552</td><td>18.906</td><td>18.626</td><td>19.342</td><td>15.929</td><td>18.806</td><td>0.024</td><td>0.06</td><td>0.084</td><td>0.146</td><td>0.115</td><td>0.063</td><td>0.122</td><td>0.165</td><td>0.072</td><td>0.178</td><td>0.011</td><td>0.194</td><td>0.033</td><td>0.104</td><td>0.125</td><td>0.255</td><td>0.177</td><td>0.095</td><td>0.168</td><td>0.366</td><td>0.115</td><td>0.299</td><td>0.013</td><td>0.233</td><td>0.018</td><td>0.044</td><td>0.06</td><td>0.131</td><td>0.073</td><td>0.051</td><td>0.078</td><td>0.085</td><td>0.066</td><td>0.117</td><td>0.009</td><td>0.128</td><td>3</td><td>3</td><td>3</td><td>3</td><td>3</td><td>3</td><td>3</td><td>3</td><td>3</td><td>3</td><td>3</td><td>3</td><td>0</td><td>0</td><td>0</td><td>0</td><td>0</td><td>0</td><td>0</td><td>0</td><td>0</td><td>0</td><td>0</td><td>0</td><td>0.9905304665671423</td><td>0.009464419603947569</td><td>5.113828910136492e-06</td></tr>\n",
       "<tr><td>70063</td><td>24151</td><td>114.205796131</td><td>65.6878349645</td><td>18.416</td><td>18.201</td><td>18.821</td><td>18.726</td><td>17.839</td><td>17.563</td><td>18.344</td><td>18.299</td><td>18.388</td><td>18.721</td><td>16.691</td><td>19.0</td><td>18.335</td><td>18.141</td><td>18.716</td><td>19.068</td><td>17.897</td><td>17.498</td><td>18.124</td><td>18.23</td><td>18.288</td><td>18.74</td><td>16.623</td><td>19.044</td><td>18.866</td><td>18.768</td><td>19.547</td><td>19.403</td><td>18.725</td><td>18.352</td><td>19.012</td><td>19.043</td><td>19.085</td><td>19.434</td><td>17.095</td><td>19.878</td><td>0.066</td><td>0.061</td><td>0.11</td><td>0.246</td><td>0.09</td><td>0.075</td><td>0.151</td><td>0.114</td><td>0.118</td><td>0.167</td><td>0.026</td><td>0.367</td><td>0.078</td><td>0.073</td><td>0.128</td><td>0.43</td><td>0.119</td><td>0.088</td><td>0.154</td><td>0.134</td><td>0.135</td><td>0.213</td><td>0.031</td><td>0.485</td><td>0.033</td><td>0.036</td><td>0.064</td><td>0.138</td><td>0.07</td><td>0.056</td><td>0.094</td><td>0.077</td><td>0.075</td><td>0.104</td><td>0.016</td><td>0.253</td><td>3</td><td>3</td><td>3</td><td>3</td><td>3</td><td>3</td><td>3</td><td>3</td><td>3</td><td>3</td><td>3</td><td>3</td><td>0</td><td>0</td><td>0</td><td>0</td><td>0</td><td>0</td><td>0</td><td>0</td><td>0</td><td>0</td><td>0</td><td>0</td><td>0.9950930176688998</td><td>0.004862089398604775</td><td>4.489293249546275e-05</td></tr>\n",
       "<tr><td>70063</td><td>26451</td><td>113.965152896</td><td>65.5832793812</td><td>17.74</td><td>17.912</td><td>18.274</td><td>17.531</td><td>17.604</td><td>17.239</td><td>18.278</td><td>17.91</td><td>17.82</td><td>18.874</td><td>16.841</td><td>19.155</td><td>17.448</td><td>17.772</td><td>17.805</td><td>17.2</td><td>17.019</td><td>17.002</td><td>18.896</td><td>17.722</td><td>17.66</td><td>18.722</td><td>16.863</td><td>99.0</td><td>19.165</td><td>19.185</td><td>19.694</td><td>19.737</td><td>18.854</td><td>18.633</td><td>19.094</td><td>19.125</td><td>19.087</td><td>19.471</td><td>17.969</td><td>20.276</td><td>0.072</td><td>0.092</td><td>0.139</td><td>0.168</td><td>0.14</td><td>0.105</td><td>0.271</td><td>0.153</td><td>0.137</td><td>0.377</td><td>0.059</td><td>0.853</td><td>0.092</td><td>0.13</td><td>0.152</td><td>0.205</td><td>0.128</td><td>0.129</td><td>0.737</td><td>0.199</td><td>0.186</td><td>0.52</td><td>0.098</td><td>99.0</td><td>0.042</td><td>0.049</td><td>0.072</td><td>0.186</td><td>0.077</td><td>0.069</td><td>0.101</td><td>0.081</td><td>0.074</td><td>0.108</td><td>0.03</td><td>0.361</td><td>2</td><td>2</td><td>2</td><td>2</td><td>2</td><td>2</td><td>2</td><td>2</td><td>2</td><td>2</td><td>2</td><td>2</td><td>0</td><td>0</td><td>0</td><td>0</td><td>0</td><td>0</td><td>0</td><td>0</td><td>0</td><td>0</td><td>0</td><td>0</td><td>0.988502339486529</td><td>0.009587145205249671</td><td>0.0019105153082214178</td></tr>\n",
       "<tr><td>70455</td><td>1485</td><td>149.076360434</td><td>68.8286145796</td><td>18.478</td><td>18.453</td><td>19.333</td><td>19.069</td><td>18.951</td><td>18.36</td><td>18.819</td><td>19.42</td><td>18.706</td><td>19.32</td><td>16.622</td><td>18.656</td><td>18.46</td><td>18.365</td><td>19.26</td><td>19.037</td><td>18.438</td><td>18.358</td><td>18.735</td><td>19.808</td><td>18.439</td><td>19.346</td><td>16.572</td><td>18.556</td><td>18.765</td><td>18.721</td><td>19.643</td><td>19.247</td><td>19.23</td><td>18.663</td><td>19.169</td><td>19.553</td><td>19.242</td><td>19.385</td><td>16.928</td><td>19.463</td><td>0.051</td><td>0.055</td><td>0.121</td><td>0.216</td><td>0.212</td><td>0.122</td><td>0.177</td><td>0.272</td><td>0.13</td><td>0.229</td><td>0.019</td><td>0.18</td><td>0.079</td><td>0.078</td><td>0.181</td><td>0.331</td><td>0.204</td><td>0.188</td><td>0.254</td><td>0.605</td><td>0.157</td><td>0.363</td><td>0.026</td><td>0.258</td><td>0.033</td><td>0.036</td><td>0.076</td><td>0.12</td><td>0.135</td><td>0.081</td><td>0.121</td><td>0.149</td><td>0.105</td><td>0.119</td><td>0.015</td><td>0.179</td><td>0</td><td>0</td><td>0</td><td>0</td><td>0</td><td>0</td><td>0</td><td>0</td><td>0</td><td>0</td><td>0</td><td>0</td><td>0</td><td>0</td><td>0</td><td>0</td><td>0</td><td>0</td><td>0</td><td>0</td><td>0</td><td>0</td><td>0</td><td>0</td><td>0.9733038672950391</td><td>0.02661521209972814</td><td>8.092060523254204e-05</td></tr>\n",
       "<tr><td>70466</td><td>9220</td><td>184.043068903</td><td>69.5575174471</td><td>17.841</td><td>17.482</td><td>18.046</td><td>17.325</td><td>17.034</td><td>17.237</td><td>17.252</td><td>17.185</td><td>16.949</td><td>17.945</td><td>16.019</td><td>17.507</td><td>18.344</td><td>17.596</td><td>18.21</td><td>17.064</td><td>16.809</td><td>17.166</td><td>16.653</td><td>17.328</td><td>16.683</td><td>18.506</td><td>16.127</td><td>17.148</td><td>18.609</td><td>18.427</td><td>18.872</td><td>18.992</td><td>18.731</td><td>18.454</td><td>18.704</td><td>18.851</td><td>18.77</td><td>18.925</td><td>17.212</td><td>18.83</td><td>0.192</td><td>0.146</td><td>0.276</td><td>0.307</td><td>0.195</td><td>0.27</td><td>0.255</td><td>0.214</td><td>0.157</td><td>0.455</td><td>0.064</td><td>0.481</td><td>0.414</td><td>0.214</td><td>0.438</td><td>0.322</td><td>0.202</td><td>0.334</td><td>0.191</td><td>0.319</td><td>0.162</td><td>0.995</td><td>0.095</td><td>0.463</td><td>0.031</td><td>0.031</td><td>0.044</td><td>0.112</td><td>0.089</td><td>0.072</td><td>0.089</td><td>0.089</td><td>0.074</td><td>0.1</td><td>0.019</td><td>0.117</td><td>3</td><td>3</td><td>3</td><td>3</td><td>3</td><td>3</td><td>3</td><td>3</td><td>3</td><td>3</td><td>3</td><td>3</td><td>0</td><td>0</td><td>0</td><td>0</td><td>0</td><td>0</td><td>0</td><td>0</td><td>0</td><td>0</td><td>0</td><td>0</td><td>0.779763645859664</td><td>0.1871367530413858</td><td>0.03309960109895029</td></tr>\n",
       "<tr><td>70466</td><td>18549</td><td>184.115994969</td><td>69.4120038902</td><td>18.925</td><td>18.788</td><td>19.974</td><td>19.661</td><td>19.065</td><td>18.506</td><td>18.979</td><td>19.326</td><td>19.379</td><td>20.352</td><td>16.973</td><td>20.026</td><td>19.045</td><td>19.119</td><td>20.155</td><td>19.929</td><td>18.978</td><td>18.693</td><td>19.292</td><td>19.445</td><td>19.93</td><td>20.403</td><td>16.982</td><td>19.656</td><td>18.717</td><td>18.632</td><td>19.448</td><td>19.232</td><td>18.889</td><td>18.504</td><td>18.934</td><td>19.083</td><td>19.174</td><td>19.693</td><td>16.981</td><td>19.481</td><td>0.047</td><td>0.049</td><td>0.138</td><td>0.238</td><td>0.136</td><td>0.086</td><td>0.129</td><td>0.155</td><td>0.145</td><td>0.356</td><td>0.018</td><td>0.404</td><td>0.085</td><td>0.106</td><td>0.272</td><td>0.509</td><td>0.203</td><td>0.164</td><td>0.278</td><td>0.282</td><td>0.395</td><td>0.618</td><td>0.026</td><td>0.481</td><td>0.031</td><td>0.034</td><td>0.067</td><td>0.127</td><td>0.095</td><td>0.07</td><td>0.101</td><td>0.1</td><td>0.097</td><td>0.156</td><td>0.015</td><td>0.194</td><td>3</td><td>3</td><td>3</td><td>3</td><td>3</td><td>3</td><td>3</td><td>3</td><td>3</td><td>3</td><td>3</td><td>3</td><td>0</td><td>0</td><td>0</td><td>0</td><td>0</td><td>0</td><td>0</td><td>0</td><td>0</td><td>0</td><td>0</td><td>0</td><td>0.9878493814311692</td><td>0.01210884543372106</td><td>4.177313510980547e-05</td></tr>\n",
       "<tr><td>69221</td><td>9002</td><td>106.20610262</td><td>56.5146615822</td><td>18.212</td><td>18.323</td><td>18.835</td><td>18.681</td><td>20.441</td><td>18.297</td><td>19.19</td><td>18.471</td><td>18.83</td><td>18.443</td><td>16.719</td><td>18.881</td><td>99.0</td><td>21.791</td><td>99.0</td><td>99.0</td><td>99.0</td><td>19.589</td><td>99.0</td><td>20.403</td><td>99.0</td><td>99.0</td><td>17.373</td><td>99.0</td><td>18.642</td><td>18.644</td><td>19.192</td><td>19.053</td><td>19.498</td><td>18.46</td><td>19.264</td><td>19.101</td><td>19.191</td><td>18.533</td><td>16.893</td><td>19.353</td><td>0.038</td><td>0.044</td><td>0.082</td><td>0.173</td><td>0.667</td><td>0.099</td><td>0.227</td><td>0.094</td><td>0.129</td><td>0.089</td><td>0.02</td><td>0.253</td><td>99.0</td><td>1.26</td><td>99.0</td><td>99.0</td><td>99.0</td><td>0.364</td><td>99.0</td><td>0.633</td><td>99.0</td><td>99.0</td><td>0.043</td><td>99.0</td><td>0.03</td><td>0.034</td><td>0.057</td><td>0.122</td><td>0.15</td><td>0.064</td><td>0.129</td><td>0.09</td><td>0.096</td><td>0.053</td><td>0.015</td><td>0.197</td><td>3</td><td>3</td><td>3</td><td>3</td><td>3</td><td>3</td><td>3</td><td>3</td><td>3</td><td>3</td><td>3</td><td>3</td><td>0</td><td>0</td><td>0</td><td>0</td><td>0</td><td>0</td><td>0</td><td>0</td><td>0</td><td>0</td><td>0</td><td>0</td><td>0.8551700739442176</td><td>0.14064151601606406</td><td>0.004188410039718324</td></tr>\n",
       "<tr><td>70525</td><td>9777</td><td>124.70775403</td><td>70.7471772852</td><td>17.236</td><td>17.265</td><td>17.958</td><td>18.147</td><td>17.769</td><td>17.367</td><td>18.081</td><td>17.914</td><td>17.425</td><td>17.889</td><td>15.485</td><td>17.787</td><td>17.261</td><td>17.307</td><td>17.903</td><td>18.091</td><td>17.86</td><td>17.35</td><td>17.859</td><td>17.912</td><td>17.512</td><td>17.867</td><td>15.515</td><td>17.932</td><td>17.822</td><td>17.754</td><td>18.774</td><td>18.755</td><td>18.195</td><td>17.988</td><td>18.214</td><td>18.567</td><td>18.225</td><td>18.671</td><td>15.934</td><td>18.681</td><td>0.04</td><td>0.043</td><td>0.104</td><td>0.261</td><td>0.152</td><td>0.108</td><td>0.206</td><td>0.157</td><td>0.088</td><td>0.141</td><td>0.016</td><td>0.228</td><td>0.035</td><td>0.039</td><td>0.084</td><td>0.21</td><td>0.142</td><td>0.092</td><td>0.145</td><td>0.135</td><td>0.083</td><td>0.119</td><td>0.014</td><td>0.223</td><td>0.017</td><td>0.018</td><td>0.052</td><td>0.104</td><td>0.06</td><td>0.052</td><td>0.063</td><td>0.073</td><td>0.048</td><td>0.073</td><td>0.008</td><td>0.127</td><td>2</td><td>2</td><td>2</td><td>2</td><td>2</td><td>2</td><td>2</td><td>2</td><td>2</td><td>2</td><td>2</td><td>2</td><td>0</td><td>0</td><td>0</td><td>0</td><td>0</td><td>0</td><td>0</td><td>0</td><td>0</td><td>0</td><td>0</td><td>0</td><td>0.9917036174181496</td><td>0.008278142563106931</td><td>1.8240018743296413e-05</td></tr>\n",
       "<tr><td>64235</td><td>10908</td><td>183.758085621</td><td>35.9653876467</td><td>16.809</td><td>16.752</td><td>17.051</td><td>17.023</td><td>16.941</td><td>16.404</td><td>16.854</td><td>17.001</td><td>17.02</td><td>16.935</td><td>15.439</td><td>17.115</td><td>16.732</td><td>16.677</td><td>16.999</td><td>16.828</td><td>17.091</td><td>16.346</td><td>16.785</td><td>16.911</td><td>16.939</td><td>16.864</td><td>15.384</td><td>17.007</td><td>17.413</td><td>17.29</td><td>17.76</td><td>17.728</td><td>17.425</td><td>17.084</td><td>17.411</td><td>17.562</td><td>17.469</td><td>17.456</td><td>16.07</td><td>17.827</td><td>0.017</td><td>0.016</td><td>0.026</td><td>0.054</td><td>0.051</td><td>0.03</td><td>0.043</td><td>0.045</td><td>0.043</td><td>0.041</td><td>0.01</td><td>0.072</td><td>0.023</td><td>0.022</td><td>0.037</td><td>0.068</td><td>0.085</td><td>0.041</td><td>0.059</td><td>0.061</td><td>0.059</td><td>0.056</td><td>0.013</td><td>0.097</td><td>0.011</td><td>0.011</td><td>0.018</td><td>0.036</td><td>0.031</td><td>0.024</td><td>0.029</td><td>0.029</td><td>0.026</td><td>0.026</td><td>0.009</td><td>0.048</td><td>3</td><td>3</td><td>3</td><td>3</td><td>3</td><td>3</td><td>3</td><td>3</td><td>3</td><td>3</td><td>3</td><td>3</td><td>0</td><td>0</td><td>0</td><td>0</td><td>0</td><td>0</td><td>0</td><td>0</td><td>0</td><td>0</td><td>0</td><td>0</td><td>0.8582947343944904</td><td>0.10907639113778882</td><td>0.03262887446772067</td></tr>\n",
       "<tr><td>...</td><td>...</td><td>...</td><td>...</td><td>...</td><td>...</td><td>...</td><td>...</td><td>...</td><td>...</td><td>...</td><td>...</td><td>...</td><td>...</td><td>...</td><td>...</td><td>...</td><td>...</td><td>...</td><td>...</td><td>...</td><td>...</td><td>...</td><td>...</td><td>...</td><td>...</td><td>...</td><td>...</td><td>...</td><td>...</td><td>...</td><td>...</td><td>...</td><td>...</td><td>...</td><td>...</td><td>...</td><td>...</td><td>...</td><td>...</td><td>...</td><td>...</td><td>...</td><td>...</td><td>...</td><td>...</td><td>...</td><td>...</td><td>...</td><td>...</td><td>...</td><td>...</td><td>...</td><td>...</td><td>...</td><td>...</td><td>...</td><td>...</td><td>...</td><td>...</td><td>...</td><td>...</td><td>...</td><td>...</td><td>...</td><td>...</td><td>...</td><td>...</td><td>...</td><td>...</td><td>...</td><td>...</td><td>...</td><td>...</td><td>...</td><td>...</td><td>...</td><td>...</td><td>...</td><td>...</td><td>...</td><td>...</td><td>...</td><td>...</td><td>...</td><td>...</td><td>...</td><td>...</td><td>...</td><td>...</td><td>...</td><td>...</td><td>...</td><td>...</td><td>...</td><td>...</td><td>...</td><td>...</td><td>...</td><td>...</td><td>...</td><td>...</td><td>...</td></tr>\n",
       "<tr><td>67646</td><td>12452</td><td>244.09796422</td><td>47.0340736834</td><td>16.912</td><td>16.556</td><td>17.682</td><td>17.601</td><td>16.895</td><td>16.686</td><td>17.052</td><td>17.394</td><td>17.166</td><td>17.555</td><td>15.186</td><td>17.393</td><td>16.834</td><td>16.517</td><td>17.64</td><td>17.619</td><td>16.811</td><td>16.58</td><td>17.009</td><td>17.324</td><td>17.222</td><td>17.459</td><td>15.147</td><td>17.173</td><td>17.428</td><td>17.046</td><td>18.078</td><td>18.166</td><td>17.371</td><td>17.23</td><td>17.421</td><td>17.637</td><td>17.457</td><td>17.931</td><td>15.809</td><td>18.185</td><td>0.023</td><td>0.019</td><td>0.074</td><td>0.137</td><td>0.061</td><td>0.052</td><td>0.075</td><td>0.078</td><td>0.063</td><td>0.084</td><td>0.01</td><td>0.135</td><td>0.029</td><td>0.024</td><td>0.097</td><td>0.191</td><td>0.074</td><td>0.063</td><td>0.097</td><td>0.097</td><td>0.087</td><td>0.102</td><td>0.013</td><td>0.149</td><td>0.013</td><td>0.012</td><td>0.032</td><td>0.059</td><td>0.035</td><td>0.029</td><td>0.033</td><td>0.032</td><td>0.03</td><td>0.04</td><td>0.009</td><td>0.078</td><td>0</td><td>0</td><td>0</td><td>0</td><td>0</td><td>0</td><td>0</td><td>0</td><td>0</td><td>0</td><td>0</td><td>0</td><td>0</td><td>0</td><td>0</td><td>0</td><td>0</td><td>0</td><td>0</td><td>0</td><td>0</td><td>0</td><td>0</td><td>0</td><td>0.9912581550686494</td><td>0.008526610977952829</td><td>0.00021523395339763079</td></tr>\n",
       "<tr><td>70362</td><td>24746</td><td>157.337720658</td><td>68.4771055461</td><td>17.753</td><td>17.57</td><td>18.051</td><td>18.642</td><td>17.876</td><td>17.704</td><td>17.671</td><td>18.044</td><td>18.297</td><td>18.041</td><td>16.065</td><td>18.565</td><td>17.783</td><td>17.509</td><td>17.875</td><td>99.0</td><td>17.997</td><td>17.217</td><td>17.61</td><td>18.433</td><td>19.739</td><td>17.94</td><td>16.044</td><td>18.311</td><td>18.703</td><td>18.563</td><td>19.316</td><td>19.364</td><td>18.711</td><td>18.714</td><td>18.798</td><td>18.917</td><td>18.883</td><td>18.908</td><td>17.156</td><td>19.41</td><td>0.06</td><td>0.046</td><td>0.106</td><td>0.444</td><td>0.182</td><td>0.156</td><td>0.155</td><td>0.164</td><td>0.196</td><td>0.161</td><td>0.027</td><td>0.489</td><td>0.114</td><td>0.077</td><td>0.172</td><td>99.0</td><td>0.35</td><td>0.17</td><td>0.255</td><td>0.412</td><td>1.305</td><td>0.257</td><td>0.048</td><td>0.693</td><td>0.027</td><td>0.025</td><td>0.055</td><td>0.145</td><td>0.079</td><td>0.081</td><td>0.086</td><td>0.072</td><td>0.066</td><td>0.07</td><td>0.019</td><td>0.185</td><td>2</td><td>2</td><td>2</td><td>2</td><td>2</td><td>2</td><td>2</td><td>2</td><td>2</td><td>2</td><td>2</td><td>2</td><td>0</td><td>0</td><td>0</td><td>0</td><td>0</td><td>0</td><td>0</td><td>0</td><td>0</td><td>0</td><td>0</td><td>0</td><td>0.9629357026583387</td><td>0.03375865034775281</td><td>0.00330564699390842</td></tr>\n",
       "<tr><td>70362</td><td>24916</td><td>157.183847409</td><td>68.4739821886</td><td>14.729</td><td>14.667</td><td>15.127</td><td>15.019</td><td>15.075</td><td>14.973</td><td>14.989</td><td>14.973</td><td>15.024</td><td>15.249</td><td>13.519</td><td>15.183</td><td>14.928</td><td>14.831</td><td>16.017</td><td>15.728</td><td>15.29</td><td>15.46</td><td>15.275</td><td>15.256</td><td>15.516</td><td>16.219</td><td>13.786</td><td>16.939</td><td>16.678</td><td>16.434</td><td>17.031</td><td>17.124</td><td>16.666</td><td>16.56</td><td>16.638</td><td>16.645</td><td>16.603</td><td>16.882</td><td>15.57</td><td>17.174</td><td>0.007</td><td>0.006</td><td>0.014</td><td>0.028</td><td>0.024</td><td>0.022</td><td>0.023</td><td>0.017</td><td>0.018</td><td>0.023</td><td>0.005</td><td>0.038</td><td>0.024</td><td>0.018</td><td>0.099</td><td>0.157</td><td>0.068</td><td>0.077</td><td>0.073</td><td>0.056</td><td>0.069</td><td>0.136</td><td>0.017</td><td>0.518</td><td>0.007</td><td>0.007</td><td>0.009</td><td>0.02</td><td>0.019</td><td>0.018</td><td>0.019</td><td>0.015</td><td>0.014</td><td>0.017</td><td>0.008</td><td>0.027</td><td>3</td><td>3</td><td>3</td><td>3</td><td>3</td><td>3</td><td>3</td><td>3</td><td>3</td><td>3</td><td>3</td><td>3</td><td>0</td><td>0</td><td>0</td><td>0</td><td>0</td><td>0</td><td>0</td><td>0</td><td>0</td><td>0</td><td>0</td><td>0</td><td>0.8708704114384461</td><td>0.08500825380852368</td><td>0.04412133475303024</td></tr>\n",
       "<tr><td>70431</td><td>16825</td><td>112.179163033</td><td>69.1893505811</td><td>13.01</td><td>12.767</td><td>13.061</td><td>12.973</td><td>13.204</td><td>13.256</td><td>13.278</td><td>13.147</td><td>13.183</td><td>13.158</td><td>11.649</td><td>12.932</td><td>13.421</td><td>13.121</td><td>13.68</td><td>13.584</td><td>13.744</td><td>13.661</td><td>13.726</td><td>13.755</td><td>13.674</td><td>13.849</td><td>11.788</td><td>13.638</td><td>14.89</td><td>14.476</td><td>15.771</td><td>15.787</td><td>15.346</td><td>15.258</td><td>15.309</td><td>15.582</td><td>15.229</td><td>15.926</td><td>12.998</td><td>15.941</td><td>0.013</td><td>0.011</td><td>0.02</td><td>0.04</td><td>0.025</td><td>0.028</td><td>0.033</td><td>0.021</td><td>0.018</td><td>0.025</td><td>0.008</td><td>0.036</td><td>0.008</td><td>0.007</td><td>0.014</td><td>0.028</td><td>0.02</td><td>0.02</td><td>0.023</td><td>0.018</td><td>0.014</td><td>0.022</td><td>0.004</td><td>0.03</td><td>0.002</td><td>0.002</td><td>0.004</td><td>0.007</td><td>0.008</td><td>0.008</td><td>0.008</td><td>0.008</td><td>0.006</td><td>0.009</td><td>0.002</td><td>0.011</td><td>3</td><td>3</td><td>3</td><td>3</td><td>3</td><td>3</td><td>3</td><td>3</td><td>3</td><td>3</td><td>3</td><td>3</td><td>0</td><td>0</td><td>0</td><td>0</td><td>0</td><td>0</td><td>0</td><td>0</td><td>0</td><td>0</td><td>0</td><td>0</td><td>0.9962632991758267</td><td>0.003734222504849262</td><td>2.4783193240305955e-06</td></tr>\n",
       "<tr><td>75572</td><td>15626</td><td>154.679463255</td><td>46.0505559068</td><td>15.372</td><td>15.635</td><td>15.323</td><td>15.363</td><td>16.278</td><td>16.073</td><td>15.793</td><td>15.841</td><td>15.58</td><td>15.606</td><td>14.74</td><td>15.202</td><td>15.571</td><td>15.976</td><td>15.562</td><td>15.813</td><td>15.949</td><td>16.46</td><td>15.672</td><td>16.106</td><td>15.476</td><td>15.664</td><td>14.769</td><td>15.283</td><td>17.625</td><td>17.542</td><td>18.086</td><td>18.041</td><td>18.02</td><td>17.668</td><td>17.854</td><td>18.099</td><td>17.934</td><td>18.152</td><td>16.102</td><td>18.096</td><td>0.018</td><td>0.022</td><td>0.02</td><td>0.052</td><td>0.076</td><td>0.067</td><td>0.055</td><td>0.042</td><td>0.033</td><td>0.037</td><td>0.018</td><td>0.051</td><td>0.046</td><td>0.063</td><td>0.055</td><td>0.172</td><td>0.106</td><td>0.187</td><td>0.099</td><td>0.104</td><td>0.059</td><td>0.081</td><td>0.04</td><td>0.117</td><td>0.013</td><td>0.014</td><td>0.021</td><td>0.045</td><td>0.039</td><td>0.031</td><td>0.035</td><td>0.034</td><td>0.029</td><td>0.035</td><td>0.009</td><td>0.056</td><td>3</td><td>3</td><td>3</td><td>3</td><td>3</td><td>3</td><td>3</td><td>3</td><td>3</td><td>3</td><td>3</td><td>3</td><td>0</td><td>0</td><td>0</td><td>0</td><td>0</td><td>0</td><td>0</td><td>0</td><td>0</td><td>0</td><td>0</td><td>0</td><td>0.8901726475605337</td><td>0.10673594800914703</td><td>0.0030914044303192215</td></tr>\n",
       "<tr><td>66536</td><td>12008</td><td>187.20049073</td><td>43.230197756</td><td>18.15</td><td>18.724</td><td>18.652</td><td>17.714</td><td>17.904</td><td>17.328</td><td>17.694</td><td>19.597</td><td>17.982</td><td>20.379</td><td>16.638</td><td>18.135</td><td>99.0</td><td>99.0</td><td>99.0</td><td>18.047</td><td>17.198</td><td>16.785</td><td>17.23</td><td>99.0</td><td>17.843</td><td>99.0</td><td>17.064</td><td>18.638</td><td>18.738</td><td>18.686</td><td>19.515</td><td>19.588</td><td>18.956</td><td>18.645</td><td>19.109</td><td>19.311</td><td>19.132</td><td>19.573</td><td>16.907</td><td>20.136</td><td>0.126</td><td>0.217</td><td>0.229</td><td>0.206</td><td>0.21</td><td>0.142</td><td>0.191</td><td>0.917</td><td>0.188</td><td>1.854</td><td>0.055</td><td>0.38</td><td>99.0</td><td>99.0</td><td>99.0</td><td>0.488</td><td>0.183</td><td>0.146</td><td>0.204</td><td>99.0</td><td>0.278</td><td>99.0</td><td>0.14</td><td>1.056</td><td>0.031</td><td>0.032</td><td>0.065</td><td>0.157</td><td>0.086</td><td>0.073</td><td>0.11</td><td>0.104</td><td>0.083</td><td>0.129</td><td>0.015</td><td>0.323</td><td>3</td><td>3</td><td>3</td><td>3</td><td>3</td><td>3</td><td>3</td><td>3</td><td>3</td><td>3</td><td>3</td><td>3</td><td>0</td><td>0</td><td>0</td><td>0</td><td>0</td><td>0</td><td>0</td><td>0</td><td>0</td><td>0</td><td>0</td><td>0</td><td>0.9973550975774266</td><td>0.0026404017273573724</td><td>4.500695215890298e-06</td></tr>\n",
       "<tr><td>66536</td><td>12037</td><td>187.194444923</td><td>43.2291950512</td><td>19.294</td><td>20.485</td><td>99.0</td><td>99.0</td><td>18.373</td><td>18.91</td><td>19.13</td><td>19.588</td><td>19.968</td><td>19.342</td><td>17.482</td><td>99.0</td><td>99.0</td><td>99.0</td><td>99.0</td><td>99.0</td><td>18.107</td><td>19.649</td><td>19.228</td><td>99.0</td><td>99.0</td><td>99.0</td><td>18.277</td><td>99.0</td><td>19.143</td><td>19.21</td><td>19.863</td><td>19.728</td><td>19.255</td><td>19.105</td><td>19.574</td><td>19.697</td><td>19.428</td><td>19.61</td><td>17.526</td><td>20.136</td><td>0.145</td><td>0.455</td><td>99.0</td><td>99.0</td><td>0.136</td><td>0.252</td><td>0.307</td><td>0.379</td><td>0.495</td><td>0.298</td><td>0.05</td><td>99.0</td><td>99.0</td><td>99.0</td><td>99.0</td><td>99.0</td><td>0.162</td><td>0.781</td><td>0.509</td><td>99.0</td><td>99.0</td><td>99.0</td><td>0.16</td><td>99.0</td><td>0.044</td><td>0.05</td><td>0.09</td><td>0.179</td><td>0.11</td><td>0.108</td><td>0.165</td><td>0.145</td><td>0.108</td><td>0.134</td><td>0.022</td><td>0.323</td><td>3</td><td>3</td><td>3</td><td>3</td><td>3</td><td>3</td><td>3</td><td>3</td><td>3</td><td>3</td><td>3</td><td>3</td><td>0</td><td>0</td><td>0</td><td>0</td><td>0</td><td>0</td><td>0</td><td>0</td><td>0</td><td>0</td><td>0</td><td>0</td><td>0.9791614763444164</td><td>0.02051257031446898</td><td>0.00032595334111458013</td></tr>\n",
       "<tr><td>66536</td><td>15026</td><td>187.179275606</td><td>43.2424874012</td><td>18.064</td><td>17.86</td><td>18.681</td><td>18.824</td><td>18.548</td><td>18.266</td><td>17.979</td><td>18.777</td><td>18.166</td><td>19.241</td><td>16.17</td><td>18.26</td><td>17.974</td><td>17.82</td><td>18.517</td><td>18.717</td><td>18.294</td><td>18.18</td><td>18.152</td><td>18.958</td><td>18.133</td><td>19.43</td><td>16.116</td><td>18.2</td><td>18.606</td><td>18.212</td><td>19.386</td><td>19.454</td><td>18.873</td><td>18.573</td><td>18.575</td><td>19.055</td><td>18.748</td><td>19.409</td><td>16.61</td><td>19.509</td><td>0.059</td><td>0.051</td><td>0.115</td><td>0.295</td><td>0.203</td><td>0.178</td><td>0.136</td><td>0.227</td><td>0.119</td><td>0.342</td><td>0.019</td><td>0.218</td><td>0.067</td><td>0.061</td><td>0.124</td><td>0.333</td><td>0.199</td><td>0.203</td><td>0.195</td><td>0.332</td><td>0.142</td><td>0.505</td><td>0.022</td><td>0.258</td><td>0.027</td><td>0.022</td><td>0.058</td><td>0.139</td><td>0.08</td><td>0.069</td><td>0.07</td><td>0.083</td><td>0.06</td><td>0.111</td><td>0.012</td><td>0.181</td><td>0</td><td>0</td><td>0</td><td>0</td><td>0</td><td>0</td><td>0</td><td>0</td><td>0</td><td>0</td><td>0</td><td>0</td><td>0</td><td>0</td><td>0</td><td>0</td><td>0</td><td>0</td><td>0</td><td>0</td><td>0</td><td>0</td><td>0</td><td>0</td><td>0.9964898832238639</td><td>0.0035025947967294727</td><td>7.52197940660131e-06</td></tr>\n",
       "<tr><td>64138</td><td>3942</td><td>126.48124639</td><td>35.5422314816</td><td>17.899</td><td>17.832</td><td>18.178</td><td>18.205</td><td>18.402</td><td>18.311</td><td>18.139</td><td>18.292</td><td>18.115</td><td>18.451</td><td>16.348</td><td>18.377</td><td>17.875</td><td>17.752</td><td>17.972</td><td>18.449</td><td>18.224</td><td>18.212</td><td>17.968</td><td>18.097</td><td>17.993</td><td>18.412</td><td>16.228</td><td>17.723</td><td>18.222</td><td>18.131</td><td>18.714</td><td>18.978</td><td>18.694</td><td>18.637</td><td>18.497</td><td>18.647</td><td>18.522</td><td>18.84</td><td>16.51</td><td>19.022</td><td>0.032</td><td>0.028</td><td>0.061</td><td>0.114</td><td>0.098</td><td>0.092</td><td>0.08</td><td>0.077</td><td>0.065</td><td>0.088</td><td>0.015</td><td>0.183</td><td>0.057</td><td>0.046</td><td>0.096</td><td>0.271</td><td>0.151</td><td>0.152</td><td>0.123</td><td>0.116</td><td>0.104</td><td>0.155</td><td>0.023</td><td>0.189</td><td>0.024</td><td>0.022</td><td>0.052</td><td>0.118</td><td>0.071</td><td>0.069</td><td>0.063</td><td>0.059</td><td>0.053</td><td>0.068</td><td>0.012</td><td>0.169</td><td>0</td><td>0</td><td>0</td><td>0</td><td>0</td><td>0</td><td>0</td><td>0</td><td>0</td><td>0</td><td>0</td><td>0</td><td>0</td><td>0</td><td>0</td><td>0</td><td>0</td><td>0</td><td>0</td><td>0</td><td>0</td><td>0</td><td>0</td><td>0</td><td>0.9569377640249241</td><td>0.04242833902413856</td><td>0.0006338969509372439</td></tr>\n",
       "<tr><td>66608</td><td>6957</td><td>221.047622585</td><td>42.6265792238</td><td>15.908</td><td>15.949</td><td>16.063</td><td>15.849</td><td>16.679</td><td>16.435</td><td>16.227</td><td>16.139</td><td>16.108</td><td>16.014</td><td>15.207</td><td>16.081</td><td>15.867</td><td>15.926</td><td>16.05</td><td>15.735</td><td>16.645</td><td>16.495</td><td>16.209</td><td>16.143</td><td>16.1</td><td>15.96</td><td>15.175</td><td>16.161</td><td>17.758</td><td>17.57</td><td>18.137</td><td>18.082</td><td>18.184</td><td>17.974</td><td>17.897</td><td>18.007</td><td>17.861</td><td>18.083</td><td>16.396</td><td>18.279</td><td>0.017</td><td>0.018</td><td>0.03</td><td>0.052</td><td>0.084</td><td>0.069</td><td>0.058</td><td>0.04</td><td>0.036</td><td>0.035</td><td>0.018</td><td>0.069</td><td>0.021</td><td>0.021</td><td>0.038</td><td>0.06</td><td>0.101</td><td>0.09</td><td>0.071</td><td>0.051</td><td>0.045</td><td>0.042</td><td>0.022</td><td>0.093</td><td>0.015</td><td>0.015</td><td>0.027</td><td>0.05</td><td>0.051</td><td>0.045</td><td>0.043</td><td>0.036</td><td>0.031</td><td>0.036</td><td>0.011</td><td>0.069</td><td>3</td><td>3</td><td>3</td><td>3</td><td>3</td><td>3</td><td>3</td><td>3</td><td>3</td><td>3</td><td>3</td><td>3</td><td>0</td><td>0</td><td>0</td><td>0</td><td>0</td><td>0</td><td>0</td><td>0</td><td>0</td><td>0</td><td>0</td><td>0</td><td>0.8306565357687886</td><td>0.1541518953582888</td><td>0.015191568872922617</td></tr>\n",
       "</table>"
      ],
      "text/plain": [
       "<Table length=49>\n",
       " Tile Number       RA      ...        P(SySt)             P(all else)      \n",
       "int64 int64     float64    ...        float64               float64        \n",
       "----- ------ ------------- ... --------------------- ----------------------\n",
       "71690  17355 16.2730098396 ...   0.19574758490856595   0.004251193172679516\n",
       "71690  18758 16.2599953258 ...  0.009464419603947569  5.113828910136492e-06\n",
       "70063  24151 114.205796131 ...  0.004862089398604775  4.489293249546275e-05\n",
       "70063  26451 113.965152896 ...  0.009587145205249671  0.0019105153082214178\n",
       "70455   1485 149.076360434 ...   0.02661521209972814  8.092060523254204e-05\n",
       "70466   9220 184.043068903 ...    0.1871367530413858    0.03309960109895029\n",
       "70466  18549 184.115994969 ...   0.01210884543372106  4.177313510980547e-05\n",
       "69221   9002  106.20610262 ...   0.14064151601606406   0.004188410039718324\n",
       "70525   9777  124.70775403 ...  0.008278142563106931 1.8240018743296413e-05\n",
       "64235  10908 183.758085621 ...   0.10907639113778882    0.03262887446772067\n",
       "  ...    ...           ... ...                   ...                    ...\n",
       "67646  12452  244.09796422 ...  0.008526610977952829 0.00021523395339763079\n",
       "70362  24746 157.337720658 ...   0.03375865034775281    0.00330564699390842\n",
       "70362  24916 157.183847409 ...   0.08500825380852368    0.04412133475303024\n",
       "70431  16825 112.179163033 ...  0.003734222504849262 2.4783193240305955e-06\n",
       "75572  15626 154.679463255 ...   0.10673594800914703  0.0030914044303192215\n",
       "66536  12008  187.20049073 ... 0.0026404017273573724  4.500695215890298e-06\n",
       "66536  12037 187.194444923 ...   0.02051257031446898 0.00032595334111458013\n",
       "66536  15026 187.179275606 ... 0.0035025947967294727   7.52197940660131e-06\n",
       "64138   3942  126.48124639 ...   0.04242833902413856  0.0006338969509372439\n",
       "66608   6957 221.047622585 ...    0.1541518953582888   0.015191568872922617"
      ]
     },
     "execution_count": 30,
     "metadata": {},
     "output_type": "execute_result"
    }
   ],
   "source": [
    "data1[m]"
   ]
  },
  {
   "cell_type": "code",
   "execution_count": 29,
   "metadata": {},
   "outputs": [],
   "source": [
    "# Save the table result WISE\n",
    "asciifile = \"../JPLUS-DR2/aper6_mag_idr/PN-pc-Halpha_emitters_threeerror-cleaning-limfilter-limcolor-flags-mask-broad-prob-withoutknownPNe.dat\" \n",
    "data1[m].write(asciifile, format=\"ascii\")  "
   ]
  },
  {
   "cell_type": "code",
   "execution_count": null,
   "metadata": {},
   "outputs": [],
   "source": []
  }
 ],
 "metadata": {
  "kernelspec": {
   "display_name": "Python 3",
   "language": "python",
   "name": "python3"
  },
  "language_info": {
   "codemirror_mode": {
    "name": "ipython",
    "version": 3
   },
   "file_extension": ".py",
   "mimetype": "text/x-python",
   "name": "python",
   "nbconvert_exporter": "python",
   "pygments_lexer": "ipython3",
   "version": "3.7.4"
  }
 },
 "nbformat": 4,
 "nbformat_minor": 2
}
