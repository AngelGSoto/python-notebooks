{
 "cells": [
  {
   "cell_type": "markdown",
   "metadata": {},
   "source": [
    "# Code to implement astroquery on simbad"
   ]
  },
  {
   "cell_type": "code",
   "execution_count": 75,
   "metadata": {},
   "outputs": [],
   "source": [
    "from astroquery.simbad import Simbad\n",
    "import astropy.coordinates as coord\n",
    "import astropy.units as u\n",
    "from astropy.io import ascii\n",
    "from astropy.table import Table\n",
    "from astropy.coordinates import SkyCoord \n",
    "import numpy as np"
   ]
  },
  {
   "cell_type": "code",
   "execution_count": 76,
   "metadata": {},
   "outputs": [
    {
     "name": "stderr",
     "output_type": "stream",
     "text": [
      "/home/angel/anaconda3/lib/python3.7/site-packages/astroquery/simbad/core.py:138: UserWarning: Warning: The script line number 53 raised an error (recorded in the `errors` attribute of the result table): '5:35:20.402 -5:23:30.01': No astronomical object found :  \n",
      "  (error.line, error.msg))\n",
      "WARNING: AstropyDeprecationWarning: Config parameter 'name_resolve_timeout' in section [coordinates.name_resolve] of the file '/home/angel/.astropy/config/astropy.cfg' is deprecated. Use 'remote_timeout' in section [utils.data] instead. [astropy.config.configuration]\n",
      "WARNING: AstropyDeprecationWarning: Config parameter 'remote_timeout' in section [utils.data] of the file '/home/angel/.astropy/config/astropy.cfg' is given by more than one alias (astropy.utils.data.remote_timeout, coordinates.name_resolve.name_resolve_timeout). Using the first. [astropy.config.configuration]\n"
     ]
    }
   ],
   "source": [
    "obj = ascii.read(\"..ll-boxes-new-unique.dat\")\n",
    "customSimbad = Simbad()\n",
    "customSimbad.get_votable_fields()\n",
    "#customSimbad.list_votable_fields()\n",
    "customSimbad.add_votable_fields('sptype', 'otype','distance', \"velocity\", \"otypes\")\n",
    "customSimbad.add_votable_fields(\"uvby\")\n",
    "customSimbad.add_votable_fields('ra(d)', 'dec(d)')\n",
    "customSimbad.add_votable_fields('bibcodelist(1990-2020)')#, 'biblio')\n",
    "result_table = customSimbad.query_region(coord.SkyCoord(obj[\"col1\"], obj[\"col2\"], \n",
    "                                                 unit=(u.deg, u.deg)), radius = 0.47 * u.arcsec) "
   ]
  },
  {
   "cell_type": "code",
   "execution_count": 77,
   "metadata": {},
   "outputs": [
    {
     "name": "stderr",
     "output_type": "stream",
     "text": [
      "WARNING: AstropyDeprecationWarning: Config parameter 'max_lines' in section [table.pprint] of the file '/home/angel/.astropy/config/astropy.cfg' is deprecated. Use 'max_lines' at the top-level instead. [astropy.config.configuration]\n",
      "WARNING: AstropyDeprecationWarning: Config parameter 'max_width' in section [table.pprint] of the file '/home/angel/.astropy/config/astropy.cfg' is deprecated. Use 'max_width' at the top-level instead. [astropy.config.configuration]\n"
     ]
    },
    {
     "data": {
      "text/html": [
       "<i>Table length=99</i>\n",
       "<table id=\"table139988126068864\" class=\"table-striped table-bordered table-condensed\">\n",
       "<thead><tr><th>MAIN_ID</th><th>RA</th><th>DEC</th><th>RA_PREC</th><th>DEC_PREC</th><th>COO_ERR_MAJA</th><th>COO_ERR_MINA</th><th>COO_ERR_ANGLE</th><th>COO_QUAL</th><th>COO_WAVELENGTH</th><th>COO_BIBCODE</th><th>SP_TYPE</th><th>SP_QUAL</th><th>SP_BIBCODE</th><th>OTYPE</th><th>Distance_distance</th><th>Distance_Q</th><th>Distance_unit</th><th>Distance_merr</th><th>Distance_perr</th><th>Distance_method</th><th>Distance_bibcode</th><th>RVZ_TYPE</th><th>RVZ_RADVEL</th><th>RVZ_ERROR</th><th>RVZ_QUAL</th><th>RVZ_WAVELENGTH</th><th>RVZ_BIBCODE</th><th>OTYPES</th><th>RA_d</th><th>DEC_d</th><th>BIBLIST_1990_2020</th></tr></thead>\n",
       "<thead><tr><th></th><th>&quot;h:m:s&quot;</th><th>&quot;d:m:s&quot;</th><th></th><th></th><th>mas</th><th>mas</th><th>deg</th><th></th><th></th><th></th><th></th><th></th><th></th><th></th><th></th><th></th><th></th><th></th><th></th><th></th><th></th><th></th><th>km / s</th><th>km / s</th><th></th><th></th><th></th><th></th><th>deg</th><th>deg</th><th></th></tr></thead>\n",
       "<thead><tr><th>object</th><th>str13</th><th>str13</th><th>int16</th><th>int16</th><th>float32</th><th>float32</th><th>int16</th><th>str1</th><th>str1</th><th>object</th><th>object</th><th>str1</th><th>object</th><th>object</th><th>float64</th><th>str1</th><th>str4</th><th>float64</th><th>float64</th><th>str8</th><th>str19</th><th>str1</th><th>float64</th><th>float32</th><th>str1</th><th>str1</th><th>object</th><th>object</th><th>float64</th><th>float64</th><th>int32</th></tr></thead>\n",
       "<tr><td>[H97b] 10351</td><td>05 35 02.2022</td><td>-05 26 35.433</td><td>14</td><td>14</td><td>0.545</td><td>0.495</td><td>90</td><td>C</td><td>O</td><td>2018yCat.1345....0G</td><td></td><td></td><td></td><td>Irregular_V*</td><td>--</td><td></td><td></td><td>--</td><td>--</td><td></td><td></td><td></td><td>--</td><td>--</td><td></td><td></td><td></td><td>*|*|*|Ir*</td><td>83.75917587</td><td>-5.44317610</td><td>3</td></tr>\n",
       "<tr><td>V* V1482 Ori</td><td>05 35 04.0666</td><td>-05 26 37.196</td><td>14</td><td>14</td><td>0.099</td><td>0.095</td><td>90</td><td>A</td><td>O</td><td>2018yCat.1345....0G</td><td>M2</td><td>D</td><td>2009MNRAS.400..603P</td><td>Orion_V*</td><td>--</td><td></td><td></td><td>--</td><td>--</td><td></td><td></td><td>v</td><td>24.700</td><td>0.600</td><td>A</td><td>O</td><td>2009ApJ...697.1103T</td><td>Y*?|*|*|*|*|*iC|Y*O|Em*|pr*|V*|Or*|Rad|IR|X</td><td>83.76694437</td><td>-5.44366564</td><td>42</td></tr>\n",
       "<tr><td>V* V1322 Ori</td><td>05 35 04.1934</td><td>-05 26 27.860</td><td>14</td><td>14</td><td>0.066</td><td>0.060</td><td>90</td><td>A</td><td>O</td><td>2018yCat.1345....0G</td><td>M2e</td><td>D</td><td>2009MNRAS.400..603P</td><td>BYDra</td><td>398.4540</td><td></td><td>pc</td><td>-15.9877</td><td>15.9877</td><td>paral</td><td>2018yCat.1345....0G</td><td>v</td><td>27.168</td><td>0.276</td><td>A</td><td>N</td><td>2018AJ....156...84K</td><td>Y*?|TT?|*|*|*|*|Y*O|Em*|Em*|pr*|V*|BY*|Rad|IR|X</td><td>83.76747288</td><td>-5.44107242</td><td>37</td></tr>\n",
       "<tr><td>[RRS2008] 049-143</td><td>05 35 04.940</td><td>-05 21 42.99</td><td>7</td><td>7</td><td>--</td><td>--</td><td>0</td><td>C</td><td>R</td><td>2016ApJ...831..155S</td><td></td><td></td><td></td><td>YSO</td><td>--</td><td></td><td></td><td>--</td><td>--</td><td></td><td></td><td></td><td>--</td><td>--</td><td></td><td></td><td></td><td>Y*O|Rad</td><td>83.77058300</td><td>-5.36194200</td><td>2</td></tr>\n",
       "<tr><td>[RRL2007] 050-143</td><td>05 35 04.95</td><td>-05 21 42.8</td><td>6</td><td>6</td><td>150.000</td><td>150.000</td><td>90</td><td>C</td><td>O</td><td>2009A&amp;A...502..883R</td><td>M</td><td></td><td>2007MNRAS.381.1077R</td><td>Star</td><td>--</td><td></td><td></td><td>--</td><td>--</td><td></td><td></td><td></td><td>--</td><td>--</td><td></td><td></td><td></td><td>*|*</td><td>83.77062000</td><td>-5.36189000</td><td>3</td></tr>\n",
       "<tr><td>V* V479 Ori</td><td>05 35 05.1354</td><td>-05 20 24.413</td><td>14</td><td>14</td><td>0.051</td><td>0.052</td><td>90</td><td>A</td><td>O</td><td>2018yCat.1345....0G</td><td>M2.4e</td><td>D</td><td>2009ApJS..183..261D</td><td>Orion_V*</td><td>390.0460</td><td></td><td>pc</td><td>-10.6343</td><td>10.6343</td><td>paral</td><td>2018yCat.1345....0G</td><td>v</td><td>25.700</td><td>0.200</td><td>A</td><td>O</td><td>2009ApJ...697.1103T</td><td>X|Y*?|*|*|*|*|*|*|*|Y*O|Em*|V*|Or*|IR</td><td>83.77139789</td><td>-5.34011475</td><td>24</td></tr>\n",
       "<tr><td>V* V2167 Ori</td><td>05 35 06.5439</td><td>-05 25 01.566</td><td>14</td><td>14</td><td>0.303</td><td>0.307</td><td>90</td><td>A</td><td>O</td><td>2018yCat.1345....0G</td><td>M4</td><td>D</td><td>1997AJ....113.1733H</td><td>Orion_V*</td><td>--</td><td></td><td></td><td>--</td><td>--</td><td></td><td></td><td></td><td>--</td><td>--</td><td></td><td></td><td></td><td>*|*|*iC|Y*O|Em*|V*|V*|Or*|Rad|IR|X</td><td>83.77726650</td><td>-5.41710168</td><td>27</td></tr>\n",
       "<tr><td>V* V2168 Ori</td><td>05 35 06.5678</td><td>-05 32 51.573</td><td>14</td><td>14</td><td>0.269</td><td>0.265</td><td>90</td><td>A</td><td>O</td><td>2018yCat.1345....0G</td><td>M3:,M6-M9</td><td>E</td><td>2013AJ....146...85H</td><td>Orion_V*</td><td>--</td><td></td><td></td><td>--</td><td>--</td><td></td><td></td><td></td><td>--</td><td>--</td><td></td><td></td><td></td><td>G?|*|*|Y*O|Y*O|Em*|V*|Ir*|Or*|IR|X</td><td>83.77736621</td><td>-5.54765931</td><td>22</td></tr>\n",
       "<tr><td>[DRH2012] 347</td><td>05 35 06.58</td><td>-05 26 52.0</td><td>6</td><td>6</td><td>--</td><td>--</td><td>0</td><td>C</td><td>O</td><td>2012ApJ...748...14D</td><td></td><td></td><td></td><td>Star</td><td>--</td><td></td><td></td><td>--</td><td>--</td><td></td><td></td><td></td><td>--</td><td>--</td><td></td><td></td><td></td><td>*|Y*O|Rad</td><td>83.77742000</td><td>-5.44778000</td><td>3</td></tr>\n",
       "<tr><td>...</td><td>...</td><td>...</td><td>...</td><td>...</td><td>...</td><td>...</td><td>...</td><td>...</td><td>...</td><td>...</td><td>...</td><td>...</td><td>...</td><td>...</td><td>...</td><td>...</td><td>...</td><td>...</td><td>...</td><td>...</td><td>...</td><td>...</td><td>...</td><td>...</td><td>...</td><td>...</td><td>...</td><td>...</td><td>...</td><td>...</td><td>...</td></tr>\n",
       "<tr><td>Brun 471</td><td>05 35 01.1784</td><td>-05 24 06.807</td><td>14</td><td>14</td><td>0.369</td><td>0.363</td><td>90</td><td>A</td><td>O</td><td>2018yCat.1345....0G</td><td>M1</td><td>D</td><td>2013AJ....146...85H</td><td>YSO</td><td>--</td><td></td><td></td><td>--</td><td>--</td><td></td><td></td><td>v</td><td>25.443</td><td>0.150</td><td>A</td><td>N</td><td>2018AJ....156...84K</td><td>Y*?|TT?|*|*|*|*|*|*|*|*iC|*iN|Y*O|Y*O|Em*|Em*|Em*|G|Rad|IR|X</td><td>83.75491041</td><td>-5.40189087</td><td>31</td></tr>\n",
       "<tr><td>[OW94] 014-413</td><td>05 35 01.3635</td><td>-05 24 13.324</td><td>14</td><td>14</td><td>2.949</td><td>1.929</td><td>90</td><td>C</td><td>O</td><td>2018yCat.1345....0G</td><td>M6.5</td><td>D</td><td>2007MNRAS.381.1077R</td><td>Irregular_V*</td><td>--</td><td></td><td></td><td>--</td><td>--</td><td></td><td></td><td></td><td>--</td><td>--</td><td></td><td></td><td></td><td>*|Ir*|IR</td><td>83.75568128</td><td>-5.40370125</td><td>15</td></tr>\n",
       "<tr><td>[LRT2005] 030-524</td><td>05 35 02.996</td><td>-05 25 24.26</td><td>7</td><td>7</td><td>--</td><td>--</td><td>0</td><td>D</td><td></td><td>2005MNRAS.361..211L</td><td>M7.5</td><td>D</td><td>2007MNRAS.381.1077R</td><td>Star</td><td>--</td><td></td><td></td><td>--</td><td>--</td><td></td><td></td><td></td><td>--</td><td>--</td><td></td><td></td><td></td><td>*|IR</td><td>83.76248300</td><td>-5.42340600</td><td>5</td></tr>\n",
       "<tr><td>[BOM2000] w030-524</td><td>05 35 03.0</td><td>-05 25 24</td><td>5</td><td>5</td><td>--</td><td>--</td><td>0</td><td>D</td><td></td><td>2000RMxAC...9..194O</td><td></td><td></td><td></td><td>ISM</td><td>--</td><td></td><td></td><td>--</td><td>--</td><td></td><td></td><td></td><td>--</td><td>--</td><td></td><td></td><td></td><td>ISM</td><td>83.76250000</td><td>-5.42330000</td><td>3</td></tr>\n",
       "<tr><td>[BOM2000] w069-601</td><td>05 35 06.91</td><td>-05 26 00.6</td><td>6</td><td>6</td><td>--</td><td>--</td><td>0</td><td>D</td><td></td><td>2000AJ....119.2919B</td><td></td><td></td><td></td><td>ISM</td><td>--</td><td></td><td></td><td>--</td><td>--</td><td></td><td></td><td></td><td>--</td><td>--</td><td></td><td></td><td></td><td>ISM|?</td><td>83.77879000</td><td>-5.43350000</td><td>2</td></tr>\n",
       "<tr><td>V* V2170 Ori</td><td>05 35 06.9118</td><td>-05 26 00.637</td><td>14</td><td>14</td><td>0.206</td><td>0.197</td><td>90</td><td>A</td><td>O</td><td>2018yCat.1345....0G</td><td>M4.7e</td><td>D</td><td>2009ApJS..183..261D</td><td>Orion_V*</td><td>352.0879</td><td></td><td>pc</td><td>-33.1485</td><td>33.1485</td><td>paral</td><td>2018yCat.1345....0G</td><td></td><td>--</td><td>--</td><td></td><td></td><td></td><td>*|*|*iC|Y*O|Em*|V*|Ir*|Or*|Rad|IR|X</td><td>83.77879934</td><td>-5.43351036</td><td>33</td></tr>\n",
       "<tr><td>[BOM2000] w073-227</td><td>05 35 07.27</td><td>-05 22 26.6</td><td>6</td><td>6</td><td>--</td><td>--</td><td>0</td><td>D</td><td></td><td>2000AJ....119.2919B</td><td></td><td></td><td></td><td>ISM</td><td>--</td><td></td><td></td><td>--</td><td>--</td><td></td><td></td><td></td><td>--</td><td>--</td><td></td><td></td><td></td><td>ISM|?</td><td>83.78029000</td><td>-5.37406000</td><td>2</td></tr>\n",
       "<tr><td>2MASS J05350727-0522266</td><td>05 35 07.277</td><td>-05 22 26.64</td><td>7</td><td>7</td><td>60.000</td><td>60.000</td><td>0</td><td>C</td><td>N</td><td>2003yCat.2246....0C</td><td>M3:</td><td>D</td><td>2005ApJS..160..511K</td><td>YSO</td><td>--</td><td></td><td></td><td>--</td><td>--</td><td></td><td></td><td>v</td><td>26.475</td><td>0.727</td><td>A</td><td>N</td><td>2018AJ....156...84K</td><td>X|*|*|*|*|*|*|*iC|Y*O|Y*O|Em*|Rad|Rad|IR|NIR</td><td>83.78032100</td><td>-5.37406700</td><td>38</td></tr>\n",
       "<tr><td>[BOM2000] w266-558</td><td>05 35 26.62</td><td>-05 25 58.4</td><td>6</td><td>6</td><td>--</td><td>--</td><td>0</td><td>D</td><td></td><td>2000AJ....119.2919B</td><td></td><td></td><td></td><td>Unknown</td><td>--</td><td></td><td></td><td>--</td><td>--</td><td></td><td></td><td></td><td>--</td><td>--</td><td></td><td></td><td></td><td></td><td>83.86092000</td><td>-5.43289000</td><td>1</td></tr>\n",
       "<tr><td>[RRS2008] 266-558</td><td>05 35 26.620</td><td>-05 25 57.84</td><td>7</td><td>7</td><td>--</td><td>--</td><td>0</td><td>C</td><td>R</td><td>2016ApJ...831..155S</td><td></td><td></td><td></td><td>Star</td><td>--</td><td></td><td></td><td>--</td><td>--</td><td></td><td></td><td></td><td>--</td><td>--</td><td></td><td></td><td></td><td>*|Y*O|Rad</td><td>83.86091700</td><td>-5.43273300</td><td>2</td></tr>\n",
       "</table>"
      ],
      "text/plain": [
       "<Table length=99>\n",
       "        MAIN_ID               RA      ...    DEC_d     BIBLIST_1990_2020\n",
       "                           \"h:m:s\"    ...     deg                       \n",
       "         object             str13     ...   float64          int32      \n",
       "----------------------- ------------- ... ------------ -----------------\n",
       "           [H97b] 10351 05 35 02.2022 ...  -5.44317610                 3\n",
       "           V* V1482 Ori 05 35 04.0666 ...  -5.44366564                42\n",
       "           V* V1322 Ori 05 35 04.1934 ...  -5.44107242                37\n",
       "      [RRS2008] 049-143  05 35 04.940 ...  -5.36194200                 2\n",
       "      [RRL2007] 050-143   05 35 04.95 ...  -5.36189000                 3\n",
       "            V* V479 Ori 05 35 05.1354 ...  -5.34011475                24\n",
       "           V* V2167 Ori 05 35 06.5439 ...  -5.41710168                27\n",
       "           V* V2168 Ori 05 35 06.5678 ...  -5.54765931                22\n",
       "          [DRH2012] 347   05 35 06.58 ...  -5.44778000                 3\n",
       "                    ...           ... ...          ...               ...\n",
       "               Brun 471 05 35 01.1784 ...  -5.40189087                31\n",
       "         [OW94] 014-413 05 35 01.3635 ...  -5.40370125                15\n",
       "      [LRT2005] 030-524  05 35 02.996 ...  -5.42340600                 5\n",
       "     [BOM2000] w030-524    05 35 03.0 ...  -5.42330000                 3\n",
       "     [BOM2000] w069-601   05 35 06.91 ...  -5.43350000                 2\n",
       "           V* V2170 Ori 05 35 06.9118 ...  -5.43351036                33\n",
       "     [BOM2000] w073-227   05 35 07.27 ...  -5.37406000                 2\n",
       "2MASS J05350727-0522266  05 35 07.277 ...  -5.37406700                38\n",
       "     [BOM2000] w266-558   05 35 26.62 ...  -5.43289000                 1\n",
       "      [RRS2008] 266-558  05 35 26.620 ...  -5.43273300                 2"
      ]
     },
     "execution_count": 77,
     "metadata": {},
     "output_type": "execute_result"
    }
   ],
   "source": [
    "result_table"
   ]
  },
  {
   "cell_type": "code",
   "execution_count": 81,
   "metadata": {},
   "outputs": [
    {
     "name": "stderr",
     "output_type": "stream",
     "text": [
      "WARNING: AstropyDeprecationWarning: ll-stars-arcs-simbad-047.ecsv already exists. Automatically overwriting ASCII files is deprecated. Use the argument 'overwrite=True' in the future. [astropy.io.ascii.ui]\n"
     ]
    }
   ],
   "source": [
    "asciifile = \"ll-stars-arcs-simbad-047.ecsv\" \n",
    "result_table.write(asciifile, format=\"ascii.ecsv\")  "
   ]
  },
  {
   "cell_type": "code",
   "execution_count": 79,
   "metadata": {},
   "outputs": [],
   "source": [
    "tab = Table.read(\"ll-stars-arcs-simbad-047.csv\", format=\"ascii.csv\")"
   ]
  },
  {
   "cell_type": "code",
   "execution_count": 80,
   "metadata": {},
   "outputs": [
    {
     "data": {
      "text/plain": [
       "99"
      ]
     },
     "execution_count": 80,
     "metadata": {},
     "output_type": "execute_result"
    }
   ],
   "source": [
    "len(tab)"
   ]
  },
  {
   "cell_type": "code",
   "execution_count": null,
   "metadata": {},
   "outputs": [],
   "source": []
  },
  {
   "cell_type": "code",
   "execution_count": null,
   "metadata": {},
   "outputs": [],
   "source": []
  },
  {
   "cell_type": "code",
   "execution_count": null,
   "metadata": {},
   "outputs": [],
   "source": []
  }
 ],
 "metadata": {
  "kernelspec": {
   "display_name": "Python 3",
   "language": "python",
   "name": "python3"
  },
  "language_info": {
   "codemirror_mode": {
    "name": "ipython",
    "version": 3
   },
   "file_extension": ".py",
   "mimetype": "text/x-python",
   "name": "python",
   "nbconvert_exporter": "python",
   "pygments_lexer": "ipython3",
   "version": "3.7.4"
  }
 },
 "nbformat": 4,
 "nbformat_minor": 2
}
