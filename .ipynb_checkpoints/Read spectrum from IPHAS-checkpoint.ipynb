{
 "cells": [
  {
   "cell_type": "code",
   "execution_count": 1,
   "metadata": {
    "collapsed": true
   },
   "outputs": [],
   "source": [
    "import scipy\n",
    "import numpy as np\n",
    "from astropy.io import fits\n",
    "import os \n",
    "import matplotlib.pyplot as plt\n",
    "from astropy.wcs import WCS\n",
    "%matplotlib inline"
   ]
  },
  {
   "cell_type": "code",
   "execution_count": 2,
   "metadata": {
    "collapsed": false
   },
   "outputs": [
    {
     "name": "stderr",
     "output_type": "stream",
     "text": [
      "WARNING: AstropyDeprecationWarning: Config parameter 'enabled_record_valued_keyword_cards' in section [io.fits] of the file '/home/angel/.astropy/config/astropy.cfg' is deprecated. Use 'enable_record_valued_keyword_cards' in section [io.fits] instead. [astropy.config.configuration]\n",
      "WARNING:astropy:AstropyDeprecationWarning: Config parameter 'enabled_record_valued_keyword_cards' in section [io.fits] of the file '/home/angel/.astropy/config/astropy.cfg' is deprecated. Use 'enable_record_valued_keyword_cards' in section [io.fits] instead.\n"
     ]
    }
   ],
   "source": [
    "datadir = \"../symbiotic-IPHAS-spectros/\"\n",
    "fitsfile = \"S18290608_0034572.fits\"\n",
    "hdulist= fits.open(os.path.join(datadir, fitsfile))"
   ]
  },
  {
   "cell_type": "code",
   "execution_count": 3,
   "metadata": {
    "collapsed": false
   },
   "outputs": [
    {
     "name": "stdout",
     "output_type": "stream",
     "text": [
      "Filename: ../symbiotic-IPHAS-spectros/S18290608_0034572.fits\n",
      "No.    Name         Type      Cards   Dimensions   Format\n",
      "0    PRIMARY     PrimaryHDU     143   (1628, 1, 4)   float32   \n"
     ]
    }
   ],
   "source": [
    "hdulist.info()"
   ]
  },
  {
   "cell_type": "code",
   "execution_count": 4,
   "metadata": {
    "collapsed": false
   },
   "outputs": [
    {
     "data": {
      "text/plain": [
       "SIMPLE  =                    T / Fits standard                                  \n",
       "BITPIX  =                  -32 / Bits per pixel                                 \n",
       "NAXIS   =                    3 / Number of axes                                 \n",
       "NAXIS1  =                 1628 / Axis length                                    \n",
       "NAXIS2  =                    1 / Axis length                                    \n",
       "NAXIS3  =                    4 / Axis length                                    \n",
       "EXTEND  =                    F / File may contain extensions                    \n",
       "ORIGIN  = 'NOAO-IRAF FITS Image Kernel July 2003' / FITS file originator        \n",
       "DATE    = '2008-02-18T17:48:58' / Date FITS file was generated                  \n",
       "IRAF-TLM= '17:48:58 (18/02/2008)' / Time of last modification                   \n",
       "OBJECT  = 'I182906 gr4'        / Name of the object observed                    \n",
       "OBSERVAT= 'LaPalma        '                                                     \n",
       "TELESCOP= 'NOT            '                                                     \n",
       "INSTRUME= 'ALFOSC_FASU    '                                                     \n",
       "DETNAME = 'EEV 2k x 2k    '                                                     \n",
       "DATE-OBS= '2007-09-05T21:34:14' / Start of observation                          \n",
       "FILENAME= 'ALqi050041.fits'                                                     \n",
       "OBSERVER= '        '                                                            \n",
       "IMAGETYP= '        '                                                            \n",
       "EQUINOX =               2000.0 / Equinox of RA and DEC                          \n",
       "EXPTIME =             1200.000                                                  \n",
       "TM_START=                77654 / 21:34:14           UT start time               \n",
       "TM_END  =                78935 / 21:55:35           UT end time                 \n",
       "GAINM   = 'HIGH    '           / High or Low                                    \n",
       "AMPLMODE= 'A                '  / A / B or AB                                    \n",
       "CCDTEMP =               -120.1                                                  \n",
       "LN2TEMP =               -190.3                                                  \n",
       "MPP     =                    0                                                  \n",
       "CHIPID  = 'EEV42-40, 2Kx2K '                                                    \n",
       "XOVERSC =                   50                                                  \n",
       "YOVERSC =                    0                                                  \n",
       "P_DEWAR = 'Not available '                                                      \n",
       "TM-START=                77654 / 21:34:14           UT start time               \n",
       "SHSTAT  = 'OPEN          '                                                      \n",
       "DETXBIN =                    1                                                  \n",
       "DETYBIN =                    1                                                  \n",
       "NWINDOWS=                    1                                                  \n",
       "DETWIN1 = '[   1:2198,   1:2052]'                                               \n",
       "ALAPRTNM= 'Slit_0.5\"'          / ALFOSC aperture wheel. Name                    \n",
       "ALAPRTID=                   42 / ALFOSC aperture wheel. ID                      \n",
       "ALAPRPOS=                    6 / ALFOSC aperture wheel. Slot Position           \n",
       "ALAPRSTP=               238902 / ALFOSC aperture wheel. Step Position           \n",
       "ALFLTNM = 'Open    '           / ALFOSC filter wheel. Name                      \n",
       "ALFLTID =                    0 / ALFOSC filter wheel. NOT filter number         \n",
       "ALFLTPOS=                    7 / ALFOSC filter wheel. Slot Position             \n",
       "ALFLTSTP=               281250 / ALFOSC filter wheel. Step Position             \n",
       "ALGRNM  = 'Grism_#4'           / ALFOSC grism wheel. Name                       \n",
       "ALGRID  =                   42 / ALFOSC grism wheel. ID                         \n",
       "ALGRPOS =                    4 / ALFOSC grism wheel. Slot Position              \n",
       "ALGRSTP =               159570 / ALFOSC grism wheel. Step Position              \n",
       "ALFOCUS =                 1810 / ALFOSC camera focus position                   \n",
       "ALCENWAV= 'N/A     '           / ALFOSC spectroscopy center wavelength          \n",
       "FAFLTNM = 'Open    '           / FASU filter wheel 1/A Name                     \n",
       "FAFLTID =                    0 / FASU filter wheel 1/A NOT filter number        \n",
       "FAFLTPOS=                    0 / FASU filter wheel 1/A Slot position            \n",
       "FBFLTNM = 'Open    '           / FASU filter wheel 2/B Name                     \n",
       "FBFLTID =                    0 / FASU filter wheel 2/B NOT filter number        \n",
       "FBFLTPOS=                    0 / FASU filter wheel 2/B Slot position            \n",
       "CLAMP1  =                    0 / FASU calibration lamp #1 is off                \n",
       "CLAMPNM1= ' He     '           / FASU calibration lamp #1 name                  \n",
       "CLAMPID1= 'OSRAM He/10 inst. 13-11-2006' / FASU calibration lamp #1 id          \n",
       "CLAMP2  =                    0 / FASU calibration lamp #2 is off                \n",
       "CLAMPNM2= ' Ne     '           / FASU calibration lamp #2 name                  \n",
       "CLAMPID2= 'OSRAM Ne/10 c9 Germany' / FASU calibration lamp #2 id                \n",
       "CLAMP3  =                    0 / FASU calibration lamp #3 is off                \n",
       "CLAMPNM3= ' Halogen'           / FASU calibration lamp #3 name                  \n",
       "CLAMPID3= 'OSRAM 64415 w448 10W 12V' / FASU calibration lamp #3 id              \n",
       "CLAMP4  =                    0 / FASU calibration lamp #4 is off                \n",
       "CLAMPNM4= ' ThAr Hollow Cathode' / FASU calibration lamp #4 name                \n",
       "CLAMPID4= 'Cathodeon 3UAXTh S/N B77779' / FASU calibration lamp #4 id           \n",
       "CMIRROR =                    0 / FASU calibration mirror is out                 \n",
       "POLARIZA= 'N/A     '           / FAPO not in light path                         \n",
       "UT      =        21.5708333333 / TCS UTC at start (21h:34m:15.0s)               \n",
       "ST      =        19.3527777778 / Sidereal time at start (19h:21m:10.0s)         \n",
       "RA      =       277.2720387555 / Right ascention at start ( 18h:29m:5.29s)      \n",
       "DEC     =        -0.5842278750 / Declination at start (  0d:35m:3.2s)           \n",
       "RADECSYS= 'FK5     '                                                            \n",
       "TELALT  =                58.29 / Telescope altitude                             \n",
       "AZIMUTH =                25.03 / Telescope azimuth                              \n",
       "AIRMASS =              1.17551 / Airmass at start (sec(z))                      \n",
       "FIELD   =                19.11 / Field rotation at start                        \n",
       "ROTPOS  =                -2.65 / Rotator angle at start                         \n",
       "CCDPROBE= 'park    '           / CCD probe                                      \n",
       "AUXPOS  =                36635 / Autoguider probe X position                    \n",
       "AUYPOS  =               126586 / Autoguider probe Y position                    \n",
       "AUBXXPOS=                  255 / Autoguider box X position                      \n",
       "AUBXYPOS=                  255 / Autoguider box Y position                      \n",
       "AUSTATUS= 'on      '           / Autoguider status                              \n",
       "TELFOCUS=                23389 / Telescope focus at start                       \n",
       "TCSTGT  = 'I182906 '           / TCS Catalogue Entry                            \n",
       "OBJRA   =         18.485200000 / Catalogue RA in decimal deg.                   \n",
       "OBJDEC  =         -0.582556000 / Catalogue DEC in decimal deg.                  \n",
       "OBJPMRA =         0.0000000000 / Catalogue proper motion in RA                  \n",
       "OBJPMDEC=         0.0000000000 / Catalogue proper motion in DEC                 \n",
       "OBJEQUIN=               2000.0 / Catalogue equinox for coordinates              \n",
       "CREATOR = 'NOT2MEF V1.5'       / rev. date: 2006-06-29, CFITSIO V2.51           \n",
       "OBSGEO-X=         5327395.9638 / Cartesian Coordinate X                         \n",
       "OBSGEO-Y=        -1719170.4876 / Cartesian Coordinate Y                         \n",
       "OBSGEO-Z=          3051490.766 / Cartesian Coordinate Z                         \n",
       "OBS_MODE= 'Spectroscopy'                                                        \n",
       "DATE-AVG= '2007-09-05T21:44:14.0' / Midpoint of observation                     \n",
       "BUNIT   = 'erg/cm2/s/A'        / Physical unit of data array                    \n",
       "CTYPE1  = 'LINEAR  '           / Coordinate type of 1st axis                    \n",
       "CTYPE2  = 'LINEAR  '           / Coordinate type of 2nd axis                    \n",
       "CUNIT1  = 'pixel   '           / Unit of 1st axis                               \n",
       "CUNIT2  = 'pixel   '           / Unit of 2nd axis                               \n",
       "IMAGEID =                    1                                                  \n",
       "CCDNAME = 'CCD8    '                                                            \n",
       "CCDSUM  = '1 1     '           / On-chip binning factors                        \n",
       "DARK    =                   0. / [e-/hr/pix]                                    \n",
       "QCDDATE = 'UNDEFINED'          / Detector characteristics reference date        \n",
       "RDNOISE =                  5.3 / [e-]                                           \n",
       "GAIN    =                0.736 / [e-/ADU]                                       \n",
       "WCSDIM  =                    3                                                  \n",
       "CD1_1   =     3.13460350036621                                                  \n",
       "CD2_2   =                   1.                                                  \n",
       "LTM1_1  =    -0.99983165333845                                                  \n",
       "LTM2_2  =                   1.                                                  \n",
       "WAT0_001= 'system=equispec'                                                     \n",
       "WAT1_001= 'wtype=linear label=Wavelength units=angstroms'                       \n",
       "WAT2_001= 'wtype=linear'                                                        \n",
       "TRIM    = 'Feb  6 11:38 Trim data section is [55:2042,1:2052]'                  \n",
       "OVERSCAN= 'Feb  6 11:38 Overscan section is [3:52,1:2052] with mean=353.1871'   \n",
       "CCDSEC  = '[55:2042,1:2052]'                                                    \n",
       "CCDMEANT=            886765162                                                  \n",
       "CCDPROC = 'Feb  6 11:39 CCD processing done'                                    \n",
       "CTYPE3  = 'LINEAR  '                                                            \n",
       "CD3_3   =                   1.                                                  \n",
       "LTM3_3  =                   1.                                                  \n",
       "WAT3_001= 'wtype=linear'                                                        \n",
       "DCLOG1  = 'REFSPEC1 = ALqi050042_tb.ms'                                         \n",
       "EX-FLAG =                    0                                                  \n",
       "CA-FLAG =                    0                                                  \n",
       "BANDID1 = 'spectrum - background median, weights variance, clean no'            \n",
       "BANDID2 = 'raw - background median, weights none, clean no'                     \n",
       "BANDID3 = 'background - background median'                                      \n",
       "BANDID4 = 'sigma - background median, weights variance, clean no'               \n",
       "APNUM1  = '1 1 989.80 1001.18'                                                  \n",
       "DC-FLAG =                    0                                                  \n",
       "CRVAL1  =     9050.96125561886                                                  \n",
       "CRPIX1  =     1644.25767358362                                                  \n",
       "LTV1    =     1645.25750523696                                                  \n",
       "                                                                                "
      ]
     },
     "execution_count": 4,
     "metadata": {},
     "output_type": "execute_result"
    }
   ],
   "source": [
    "hdulist[0].header"
   ]
  },
  {
   "cell_type": "code",
   "execution_count": 5,
   "metadata": {
    "collapsed": false
   },
   "outputs": [],
   "source": [
    "hdu = hdulist[0]"
   ]
  },
  {
   "cell_type": "code",
   "execution_count": 6,
   "metadata": {
    "collapsed": false
   },
   "outputs": [
    {
     "data": {
      "text/plain": [
       "array([[[ -6.07111568e-18,   2.23832294e-17,   4.16657227e-17, ...,\n",
       "           1.55101643e-15,   1.61360761e-15,   1.58283977e-15]],\n",
       "\n",
       "       [[ -8.24773517e-18,   1.24632006e-17,   2.12551867e-17, ...,\n",
       "           1.55402488e-15,   1.61544228e-15,   1.58716081e-15]],\n",
       "\n",
       "       [[  5.22131755e-17,   4.38525964e-17,   5.09160207e-17, ...,\n",
       "           2.76515643e-17,   4.23633338e-17,   6.75501099e-17]],\n",
       "\n",
       "       [[  8.76564949e-18,   8.83086111e-18,   1.06091307e-17, ...,\n",
       "           1.68847498e-17,   1.82008769e-17,   1.91308645e-17]]], dtype=float32)"
      ]
     },
     "execution_count": 6,
     "metadata": {},
     "output_type": "execute_result"
    }
   ],
   "source": [
    "hdu.data"
   ]
  },
  {
   "cell_type": "code",
   "execution_count": 7,
   "metadata": {
    "collapsed": false
   },
   "outputs": [
    {
     "data": {
      "text/plain": [
       "array([[ -6.07111568e-18,   2.23832294e-17,   4.16657227e-17, ...,\n",
       "          1.55101643e-15,   1.61360761e-15,   1.58283977e-15]], dtype=float32)"
      ]
     },
     "execution_count": 7,
     "metadata": {},
     "output_type": "execute_result"
    }
   ],
   "source": [
    "hdu.data[0]"
   ]
  },
  {
   "cell_type": "code",
   "execution_count": 8,
   "metadata": {
    "collapsed": true
   },
   "outputs": [],
   "source": [
    "data = hdulist[0].data"
   ]
  },
  {
   "cell_type": "code",
   "execution_count": 9,
   "metadata": {
    "collapsed": false
   },
   "outputs": [],
   "source": [
    "nx, wav0, i0, dwav = [hdu.header[k] for k in (\"NAXIS1\", \"CRVAL1\", \"CRPIX1\", \"CD1_1\")]\n",
    "wavs = wav0 + (np.arange(nx) - (i0 - 1))*dwav "
   ]
  },
  {
   "cell_type": "code",
   "execution_count": 10,
   "metadata": {
    "collapsed": false
   },
   "outputs": [
    {
     "data": {
      "text/plain": [
       "array([ 3900.       ,  3903.1346035,  3906.269207 , ...,  8993.7306881,\n",
       "        8996.8652916,  8999.9998951])"
      ]
     },
     "execution_count": 10,
     "metadata": {},
     "output_type": "execute_result"
    }
   ],
   "source": [
    "wavs"
   ]
  },
  {
   "cell_type": "code",
   "execution_count": 11,
   "metadata": {
    "collapsed": true
   },
   "outputs": [],
   "source": [
    "Flux = hdulist[0].data.mean(axis=0)"
   ]
  },
  {
   "cell_type": "code",
   "execution_count": 12,
   "metadata": {
    "collapsed": false
   },
   "outputs": [
    {
     "data": {
      "text/plain": [
       "array([[  1.16649936e-17,   2.18824708e-17,   3.11115135e-17, ...,\n",
       "          7.87394416e-16,   8.22403506e-16,   8.14170345e-16]], dtype=float32)"
      ]
     },
     "execution_count": 12,
     "metadata": {},
     "output_type": "execute_result"
    }
   ],
   "source": [
    "Flux"
   ]
  },
  {
   "cell_type": "code",
   "execution_count": 32,
   "metadata": {
    "collapsed": false
   },
   "outputs": [
    {
     "data": {
      "text/plain": [
       "array([[ -6.07111568e-18,   2.23832294e-17,   4.16657227e-17, ...,\n",
       "          1.55101643e-15,   1.61360761e-15,   1.58283977e-15]], dtype=float32)"
      ]
     },
     "execution_count": 32,
     "metadata": {},
     "output_type": "execute_result"
    }
   ],
   "source": [
    "Flux0 = hdulist[0].data[0]\n",
    "Flux0"
   ]
  },
  {
   "cell_type": "code",
   "execution_count": 26,
   "metadata": {
    "collapsed": false
   },
   "outputs": [],
   "source": [
    "W = [np.array(wave) for wave in wavs]"
   ]
  },
  {
   "cell_type": "code",
   "execution_count": 27,
   "metadata": {
    "collapsed": false
   },
   "outputs": [],
   "source": [
    "F = [flux for flux in Flux]"
   ]
  },
  {
   "cell_type": "code",
   "execution_count": 28,
   "metadata": {
    "collapsed": false
   },
   "outputs": [
    {
     "data": {
      "text/plain": [
       "array([ 3900.       ,  3903.1346035,  3906.269207 , ...,  8993.7306881,\n",
       "        8996.8652916,  8999.9998951])"
      ]
     },
     "execution_count": 28,
     "metadata": {},
     "output_type": "execute_result"
    }
   ],
   "source": [
    "wavs\n"
   ]
  },
  {
   "cell_type": "code",
   "execution_count": 29,
   "metadata": {
    "collapsed": false
   },
   "outputs": [
    {
     "data": {
      "text/plain": [
       "[array([  1.16649936e-17,   2.18824708e-17,   3.11115135e-17, ...,\n",
       "          7.87394416e-16,   8.22403506e-16,   8.14170345e-16], dtype=float32)]"
      ]
     },
     "execution_count": 29,
     "metadata": {},
     "output_type": "execute_result"
    }
   ],
   "source": [
    "F"
   ]
  },
  {
   "cell_type": "code",
   "execution_count": 30,
   "metadata": {
    "collapsed": false
   },
   "outputs": [
    {
     "name": "stdout",
     "output_type": "stream",
     "text": [
      "3900.0 [  1.16649936e-17   2.18824708e-17   3.11115135e-17 ...,   7.87394416e-16\n",
      "   8.22403506e-16   8.14170345e-16]\n"
     ]
    }
   ],
   "source": [
    "for a, b in zip(wavs, F):\n",
    "    print a , b"
   ]
  },
  {
   "cell_type": "code",
   "execution_count": null,
   "metadata": {
    "collapsed": true
   },
   "outputs": [],
   "source": [
    "\n"
   ]
  }
 ],
 "metadata": {
  "kernelspec": {
   "display_name": "Python 2",
   "language": "python",
   "name": "python2"
  },
  "language_info": {
   "codemirror_mode": {
    "name": "ipython",
    "version": 2
   },
   "file_extension": ".py",
   "mimetype": "text/x-python",
   "name": "python",
   "nbconvert_exporter": "python",
   "pygments_lexer": "ipython2",
   "version": "2.7.10"
  }
 },
 "nbformat": 4,
 "nbformat_minor": 0
}
