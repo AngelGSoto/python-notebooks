{
 "cells": [
  {
   "cell_type": "code",
   "execution_count": 2,
   "metadata": {
    "collapsed": false
   },
   "outputs": [],
   "source": [
    "from astropy.io import fits\n",
    "import os\n",
    "import numpy as np\n",
    "import glob\n",
    "import matplotlib.pyplot as plt\n",
    "from astropy.wcs import WCS\n",
    "%matplotlib inline"
   ]
  },
  {
   "cell_type": "code",
   "execution_count": 3,
   "metadata": {
    "collapsed": false
   },
   "outputs": [
    {
     "ename": "IOError",
     "evalue": "[Errno 2] No such file or directory: '../SFGs/spec-0615-52347-0016.fits'",
     "output_type": "error",
     "traceback": [
      "\u001b[1;31m---------------------------------------------------------------------------\u001b[0m",
      "\u001b[1;31mIOError\u001b[0m                                   Traceback (most recent call last)",
      "\u001b[1;32m<ipython-input-3-d52aab74bfc0>\u001b[0m in \u001b[0;36m<module>\u001b[1;34m()\u001b[0m\n\u001b[0;32m      1\u001b[0m \u001b[0mdatadir\u001b[0m \u001b[1;33m=\u001b[0m \u001b[1;34m\"../SFGs/\"\u001b[0m\u001b[1;33m\u001b[0m\u001b[0m\n\u001b[0;32m      2\u001b[0m \u001b[0mfitsfile\u001b[0m \u001b[1;33m=\u001b[0m \u001b[1;34m\"spec-0615-52347-0016.fits\"\u001b[0m\u001b[1;33m\u001b[0m\u001b[0m\n\u001b[1;32m----> 3\u001b[1;33m \u001b[0mhdulist\u001b[0m \u001b[1;33m=\u001b[0m \u001b[0mfits\u001b[0m\u001b[1;33m.\u001b[0m\u001b[0mopen\u001b[0m\u001b[1;33m(\u001b[0m\u001b[0mos\u001b[0m\u001b[1;33m.\u001b[0m\u001b[0mpath\u001b[0m\u001b[1;33m.\u001b[0m\u001b[0mjoin\u001b[0m\u001b[1;33m(\u001b[0m\u001b[0mdatadir\u001b[0m\u001b[1;33m,\u001b[0m \u001b[0mfitsfile\u001b[0m\u001b[1;33m)\u001b[0m\u001b[1;33m)\u001b[0m\u001b[1;33m\u001b[0m\u001b[0m\n\u001b[0m",
      "\u001b[1;32m/home/angel/anaconda/lib/python2.7/site-packages/astropy/io/fits/hdu/hdulist.pyc\u001b[0m in \u001b[0;36mfitsopen\u001b[1;34m(name, mode, memmap, save_backup, cache, **kwargs)\u001b[0m\n\u001b[0;32m    127\u001b[0m         \u001b[1;32mraise\u001b[0m \u001b[0mValueError\u001b[0m\u001b[1;33m(\u001b[0m\u001b[1;34m'Empty filename: %s'\u001b[0m \u001b[1;33m%\u001b[0m \u001b[0mrepr\u001b[0m\u001b[1;33m(\u001b[0m\u001b[0mname\u001b[0m\u001b[1;33m)\u001b[0m\u001b[1;33m)\u001b[0m\u001b[1;33m\u001b[0m\u001b[0m\n\u001b[0;32m    128\u001b[0m \u001b[1;33m\u001b[0m\u001b[0m\n\u001b[1;32m--> 129\u001b[1;33m     \u001b[1;32mreturn\u001b[0m \u001b[0mHDUList\u001b[0m\u001b[1;33m.\u001b[0m\u001b[0mfromfile\u001b[0m\u001b[1;33m(\u001b[0m\u001b[0mname\u001b[0m\u001b[1;33m,\u001b[0m \u001b[0mmode\u001b[0m\u001b[1;33m,\u001b[0m \u001b[0mmemmap\u001b[0m\u001b[1;33m,\u001b[0m \u001b[0msave_backup\u001b[0m\u001b[1;33m,\u001b[0m \u001b[0mcache\u001b[0m\u001b[1;33m,\u001b[0m \u001b[1;33m**\u001b[0m\u001b[0mkwargs\u001b[0m\u001b[1;33m)\u001b[0m\u001b[1;33m\u001b[0m\u001b[0m\n\u001b[0m\u001b[0;32m    130\u001b[0m \u001b[1;33m\u001b[0m\u001b[0m\n\u001b[0;32m    131\u001b[0m \u001b[1;33m\u001b[0m\u001b[0m\n",
      "\u001b[1;32m/home/angel/anaconda/lib/python2.7/site-packages/astropy/io/fits/hdu/hdulist.pyc\u001b[0m in \u001b[0;36mfromfile\u001b[1;34m(cls, fileobj, mode, memmap, save_backup, cache, **kwargs)\u001b[0m\n\u001b[0;32m    269\u001b[0m \u001b[1;33m\u001b[0m\u001b[0m\n\u001b[0;32m    270\u001b[0m         return cls._readfrom(fileobj=fileobj, mode=mode, memmap=memmap,\n\u001b[1;32m--> 271\u001b[1;33m                              save_backup=save_backup, cache=cache, **kwargs)\n\u001b[0m\u001b[0;32m    272\u001b[0m \u001b[1;33m\u001b[0m\u001b[0m\n\u001b[0;32m    273\u001b[0m     \u001b[1;33m@\u001b[0m\u001b[0mclassmethod\u001b[0m\u001b[1;33m\u001b[0m\u001b[0m\n",
      "\u001b[1;32m/home/angel/anaconda/lib/python2.7/site-packages/astropy/io/fits/hdu/hdulist.pyc\u001b[0m in \u001b[0;36m_readfrom\u001b[1;34m(cls, fileobj, data, mode, memmap, save_backup, cache, **kwargs)\u001b[0m\n\u001b[0;32m    790\u001b[0m             \u001b[1;32mif\u001b[0m \u001b[1;32mnot\u001b[0m \u001b[0misinstance\u001b[0m\u001b[1;33m(\u001b[0m\u001b[0mfileobj\u001b[0m\u001b[1;33m,\u001b[0m \u001b[0m_File\u001b[0m\u001b[1;33m)\u001b[0m\u001b[1;33m:\u001b[0m\u001b[1;33m\u001b[0m\u001b[0m\n\u001b[0;32m    791\u001b[0m                 \u001b[1;31m# instantiate a FITS file object (ffo)\u001b[0m\u001b[1;33m\u001b[0m\u001b[1;33m\u001b[0m\u001b[0m\n\u001b[1;32m--> 792\u001b[1;33m                 \u001b[0mffo\u001b[0m \u001b[1;33m=\u001b[0m \u001b[0m_File\u001b[0m\u001b[1;33m(\u001b[0m\u001b[0mfileobj\u001b[0m\u001b[1;33m,\u001b[0m \u001b[0mmode\u001b[0m\u001b[1;33m=\u001b[0m\u001b[0mmode\u001b[0m\u001b[1;33m,\u001b[0m \u001b[0mmemmap\u001b[0m\u001b[1;33m=\u001b[0m\u001b[0mmemmap\u001b[0m\u001b[1;33m,\u001b[0m \u001b[0mcache\u001b[0m\u001b[1;33m=\u001b[0m\u001b[0mcache\u001b[0m\u001b[1;33m)\u001b[0m\u001b[1;33m\u001b[0m\u001b[0m\n\u001b[0m\u001b[0;32m    793\u001b[0m             \u001b[1;32melse\u001b[0m\u001b[1;33m:\u001b[0m\u001b[1;33m\u001b[0m\u001b[0m\n\u001b[0;32m    794\u001b[0m                 \u001b[0mffo\u001b[0m \u001b[1;33m=\u001b[0m \u001b[0mfileobj\u001b[0m\u001b[1;33m\u001b[0m\u001b[0m\n",
      "\u001b[1;32m/home/angel/anaconda/lib/python2.7/site-packages/astropy/io/fits/file.pyc\u001b[0m in \u001b[0;36m__init__\u001b[1;34m(self, fileobj, mode, memmap, clobber, cache)\u001b[0m\n\u001b[0;32m    135\u001b[0m             \u001b[0mself\u001b[0m\u001b[1;33m.\u001b[0m\u001b[0m_open_fileobj\u001b[0m\u001b[1;33m(\u001b[0m\u001b[0mfileobj\u001b[0m\u001b[1;33m,\u001b[0m \u001b[0mmode\u001b[0m\u001b[1;33m,\u001b[0m \u001b[0mclobber\u001b[0m\u001b[1;33m)\u001b[0m\u001b[1;33m\u001b[0m\u001b[0m\n\u001b[0;32m    136\u001b[0m         \u001b[1;32melif\u001b[0m \u001b[0misinstance\u001b[0m\u001b[1;33m(\u001b[0m\u001b[0mfileobj\u001b[0m\u001b[1;33m,\u001b[0m \u001b[0mstring_types\u001b[0m\u001b[1;33m)\u001b[0m\u001b[1;33m:\u001b[0m\u001b[1;33m\u001b[0m\u001b[0m\n\u001b[1;32m--> 137\u001b[1;33m             \u001b[0mself\u001b[0m\u001b[1;33m.\u001b[0m\u001b[0m_open_filename\u001b[0m\u001b[1;33m(\u001b[0m\u001b[0mfileobj\u001b[0m\u001b[1;33m,\u001b[0m \u001b[0mmode\u001b[0m\u001b[1;33m,\u001b[0m \u001b[0mclobber\u001b[0m\u001b[1;33m)\u001b[0m\u001b[1;33m\u001b[0m\u001b[0m\n\u001b[0m\u001b[0;32m    138\u001b[0m         \u001b[1;32melse\u001b[0m\u001b[1;33m:\u001b[0m\u001b[1;33m\u001b[0m\u001b[0m\n\u001b[0;32m    139\u001b[0m             \u001b[0mself\u001b[0m\u001b[1;33m.\u001b[0m\u001b[0m_open_filelike\u001b[0m\u001b[1;33m(\u001b[0m\u001b[0mfileobj\u001b[0m\u001b[1;33m,\u001b[0m \u001b[0mmode\u001b[0m\u001b[1;33m,\u001b[0m \u001b[0mclobber\u001b[0m\u001b[1;33m)\u001b[0m\u001b[1;33m\u001b[0m\u001b[0m\n",
      "\u001b[1;32m/home/angel/anaconda/lib/python2.7/site-packages/astropy/io/fits/file.pyc\u001b[0m in \u001b[0;36m_open_filename\u001b[1;34m(self, filename, mode, clobber)\u001b[0m\n\u001b[0;32m    438\u001b[0m             \u001b[0mself\u001b[0m\u001b[1;33m.\u001b[0m\u001b[0m_open_zipfile\u001b[0m\u001b[1;33m(\u001b[0m\u001b[0mself\u001b[0m\u001b[1;33m.\u001b[0m\u001b[0mname\u001b[0m\u001b[1;33m,\u001b[0m \u001b[0mmode\u001b[0m\u001b[1;33m)\u001b[0m\u001b[1;33m\u001b[0m\u001b[0m\n\u001b[0;32m    439\u001b[0m         \u001b[1;32melse\u001b[0m\u001b[1;33m:\u001b[0m\u001b[1;33m\u001b[0m\u001b[0m\n\u001b[1;32m--> 440\u001b[1;33m             \u001b[0mself\u001b[0m\u001b[1;33m.\u001b[0m\u001b[0m_file\u001b[0m \u001b[1;33m=\u001b[0m \u001b[0mfileobj_open\u001b[0m\u001b[1;33m(\u001b[0m\u001b[0mself\u001b[0m\u001b[1;33m.\u001b[0m\u001b[0mname\u001b[0m\u001b[1;33m,\u001b[0m \u001b[0mPYFITS_MODES\u001b[0m\u001b[1;33m[\u001b[0m\u001b[0mmode\u001b[0m\u001b[1;33m]\u001b[0m\u001b[1;33m)\u001b[0m\u001b[1;33m\u001b[0m\u001b[0m\n\u001b[0m\u001b[0;32m    441\u001b[0m             \u001b[1;31m# Make certain we're back at the beginning of the file\u001b[0m\u001b[1;33m\u001b[0m\u001b[1;33m\u001b[0m\u001b[0m\n\u001b[0;32m    442\u001b[0m         \u001b[0mself\u001b[0m\u001b[1;33m.\u001b[0m\u001b[0m_file\u001b[0m\u001b[1;33m.\u001b[0m\u001b[0mseek\u001b[0m\u001b[1;33m(\u001b[0m\u001b[1;36m0\u001b[0m\u001b[1;33m)\u001b[0m\u001b[1;33m\u001b[0m\u001b[0m\n",
      "\u001b[1;32m/home/angel/anaconda/lib/python2.7/site-packages/astropy/io/fits/util.pyc\u001b[0m in \u001b[0;36mfileobj_open\u001b[1;34m(filename, mode)\u001b[0m\n\u001b[0;32m    417\u001b[0m         \"\"\"\n\u001b[0;32m    418\u001b[0m \u001b[1;33m\u001b[0m\u001b[0m\n\u001b[1;32m--> 419\u001b[1;33m         \u001b[1;32mreturn\u001b[0m \u001b[0mopen\u001b[0m\u001b[1;33m(\u001b[0m\u001b[0mfilename\u001b[0m\u001b[1;33m,\u001b[0m \u001b[0mmode\u001b[0m\u001b[1;33m)\u001b[0m\u001b[1;33m\u001b[0m\u001b[0m\n\u001b[0m\u001b[0;32m    420\u001b[0m \u001b[1;33m\u001b[0m\u001b[0m\n\u001b[0;32m    421\u001b[0m \u001b[1;33m\u001b[0m\u001b[0m\n",
      "\u001b[1;31mIOError\u001b[0m: [Errno 2] No such file or directory: '../SFGs/spec-0615-52347-0016.fits'"
     ]
    }
   ],
   "source": [
    "datadir = \"../SFGs/\"\n",
    "fitsfile = \"spec-0615-52347-0016.fits\"\n",
    "hdulist = fits.open(os.path.join(datadir, fitsfile))"
   ]
  },
  {
   "cell_type": "code",
   "execution_count": 3,
   "metadata": {
    "collapsed": false
   },
   "outputs": [
    {
     "name": "stdout",
     "output_type": "stream",
     "text": [
      "Filename: ../SFGs/spec-0615-52347-0016.fits\n",
      "No.    Name         Type      Cards   Dimensions   Format\n",
      "0    PRIMARY     PrimaryHDU     139   ()              \n",
      "1    COADD       BinTableHDU     26   3827R x 8C   [E, E, E, J, J, E, E, E]   \n",
      "2    SPECOBJ     BinTableHDU    262   1R x 126C    [6A, 4A, 16A, 23A, 16A, 8A, E, E, E, J, E, E, J, B, B, B, B, B, B, J, 22A, 19A, 19A, 22A, 19A, I, 3A, 3A, 1A, J, D, D, D, E, E, 19A, 8A, J, J, J, J, K, K, J, J, J, J, J, J, K, K, K, K, I, J, J, J, J, 5J, D, D, 6A, 21A, E, E, E, J, E, 24A, 10J, J, 10E, E, E, E, E, E, E, J, E, E, E, J, E, 5E, E, 10E, 10E, 10E, 5E, 5E, 5E, 5E, 5E, J, J, E, E, E, E, E, E, 25A, 21A, 10A, E, E, E, E, E, E, E, E, J, E, E, J, 1A, 1A, E, E, J, J, 1A, 5E, 5E]   \n",
      "3    SPZLINE     BinTableHDU     48   29R x 19C    [J, J, J, 13A, D, E, E, E, E, E, E, E, E, E, E, J, J, E, E]   \n",
      "4    B1-00013847-00013845-00013846  BinTableHDU    146   2044R x 7C   [E, E, E, J, E, E, E]   \n",
      "5    B1-00013848-00013845-00013846  BinTableHDU    146   2044R x 7C   [E, E, E, J, E, E, E]   \n",
      "6    B1-00013849-00013845-00013846  BinTableHDU    146   2044R x 7C   [E, E, E, J, E, E, E]   \n",
      "7    R1-00013847-00013845-00013846  BinTableHDU    146   2037R x 7C   [E, E, E, J, E, E, E]   \n",
      "8    R1-00013848-00013845-00013846  BinTableHDU    146   2037R x 7C   [E, E, E, J, E, E, E]   \n",
      "9    R1-00013849-00013845-00013846  BinTableHDU    146   2037R x 7C   [E, E, E, J, E, E, E]   \n"
     ]
    }
   ],
   "source": [
    "hdulist.info()"
   ]
  },
  {
   "cell_type": "code",
   "execution_count": 4,
   "metadata": {
    "collapsed": false
   },
   "outputs": [
    {
     "data": {
      "text/plain": [
       "SIMPLE  =                    T / conforms to FITS standard                      \n",
       "BITPIX  =                    8 / array data type                                \n",
       "NAXIS   =                    0 / number of array dimensions                     \n",
       "EXTEND  =                    T                                                  \n",
       "TAI     =        4522822654.79 / 1st row - Number of seconds since Nov 17 1858  \n",
       "RA      =            233.07848 / 1st row - Right ascension of telescope boresigh\n",
       "DEC     =            58.416852 / 1st row - Declination of telescope boresight (d\n",
       "EQUINOX =              2000.00 /                                                \n",
       "RADECSYS= 'FK5     '           /                                                \n",
       "TAIHMS  = '11:08:03.40'        / 1st row - TAI time (HH:MM:SS.SS) (TAI-UT = appr\n",
       "TIMESYS = 'tai     '           / TAI, not UTC                                   \n",
       "MJD     =                52347 / MJD of observation                             \n",
       "MJDLIST = '52347   '           /                                                \n",
       "VERSION = 'NOCVS:v3_71_2:/p/iop/v3_71_2' / version of IOP                       \n",
       "CAMVER  = 'SPEC1 v4_7'         / Camera code version                            \n",
       "OBSERVER= 'ank     '                                                            \n",
       "OBSCOMM = 'science '                                                            \n",
       "TELESCOP= 'SDSS 2.5-M'         / Sloan Digital Sky Survey                       \n",
       "BESTEXP =                13848 /                                                \n",
       "NEXP_B1 =                    3 / b1 camera number of exposures                  \n",
       "NEXP_R1 =                    3 / r1 camera number of exposures                  \n",
       "EXPT_B1 =              3904.00 / b1 camera exposure time (seconds)              \n",
       "EXPT_R1 =              3904.00 / r1 camera exposure time (seconds)              \n",
       "EXPTIME =              3904.00 / Minimum of exposure times for all cameras      \n",
       "SPCOADD = 'Tue Feb 26 09:56:01 2008' / SPCOADD finished                         \n",
       "FLAVOR  = 'science '           / Flavor of this sequence (e.g., dome f          \n",
       "QUALITY = 'excellent'          / night/image quality                            \n",
       "RADEG   = 2.33078800000000E+02 / Right Ascension. (degrees)                     \n",
       "DECDEG  = 5.84150400000000E+01 / Declination. (degrees)                         \n",
       "PLATEID =                  615 / Plate Id                                       \n",
       "TILEID  =                  400 / Tile Id                                        \n",
       "CARTID  =                    2 /Cartridge used in this plugging                 \n",
       "REDDEN  = '0.0420 0.0309 0.0224 0.0170 0.0120' / Median reddening vector for pla\n",
       "MAPID   =              5234701 / Map Id                                         \n",
       "NAME    = '0615-52347-01'      / Name of target; PlateId-MJD-Mapper Re          \n",
       "COLBIN  =                    1 / Binning factor perpendicular to the c          \n",
       "ROWBIN  =                    1 / Binning factor perpendicular to the r          \n",
       "PROGRAM = 'binning 1   1 '     / Identifying name for CCD program               \n",
       "SECFOCUS= 1.50000000000000E+02 / Secondary Mirror Position as reported          \n",
       "GUIDEIMG= '/data/spectro/guider/gimg0543.fits' / Last archived guider image     \n",
       "WTIME   =        1016105664.67 / weatherData(timeStamp)                         \n",
       "AIRTEMP =        2.46666666667 / weatherData(airtemp)                           \n",
       "DEWPOINT=       -7.73333333333 / weatherData(dewpoint)                          \n",
       "DEWDEP  =        10.2000000000 / weatherData(dewpointDep)                       \n",
       "DUSTA   =        11647.3333333 / weatherData(dusta)                             \n",
       "DUSTB   =        1242.33333333 / weatherData(dustb)                             \n",
       "DUSTC   =        15401.6666667 / weatherData(dustc)                             \n",
       "DUSTD   =        2629.66666667 / weatherData(dustd)                             \n",
       "GUSTD   = 2.52100000000000E+02 / weatherData(gustd)                             \n",
       "GUSTS   =        32.8000000000 / weatherData(gusts)                             \n",
       "HUMIDITY=        46.8666666667 / weatherData(humidity)                          \n",
       "HUMIDOUT=        46.6666666667 / weatherData(humidout)                          \n",
       "PRESSURE=        21.1900000000 / weatherData(pressure)                          \n",
       "WINDD   =        264.466666667 / weatherData(windd)                             \n",
       "WINDS   =        25.0000000000 / weatherData(winds)                             \n",
       "TEMP01  =       -93.8800000000 / CCD 01 Temperature                             \n",
       "TEMP02  =       -93.6200000000 / CCD 02 Temperature                             \n",
       "TEMP03  =       -92.9700000000 / CCD 03 Temperature                             \n",
       "TEMP04  =       -93.1000000000 / CCD 04 Temperature                             \n",
       "VERSIDL = '6.3     '           / Version of IDL                                 \n",
       "VERSUTIL= 'v5_3_0  '           / Version of idlutils                            \n",
       "VERSREAD= 'v5_3_12 '           / Version of idlspec2d for pre-processing raw dat\n",
       "VERS2D  = 'v5_3_12 '           / Version of idlspec2d for 2D reduction          \n",
       "VERSCOMB= 'v5_3_12 '           / Version of idlspec2d for combining multiple spe\n",
       "VERSLOG = 'fermi-CVS 02/26/08' / Version of SPECLOG product                     \n",
       "VERSFLAT= 'v1_7    '           / Version of SPECFLAT product                    \n",
       "OPBC    = 'opBC-51813.par'     /                                                \n",
       "OPCONFIG= 'opConfig-50000.par' /                                                \n",
       "OPECALIB= 'opECalib-51577.par' /                                                \n",
       "PLUGFILE= 'plPlugMapM-0615-52347-01.par' /                                      \n",
       "HELIO_RV=       -2.56527081193 / Heliocentric correction (added to velocities)  \n",
       "VACUUM  =                    T / Wavelengths are in vacuum                      \n",
       "SFLATTEN=                    T / Superflat has been applied                     \n",
       "PSFSKY  =                    3 / Order of PSF skysubtraction                    \n",
       "SKYCHI2 =        1.15002667480 / Mean chi^2 of sky-subtraction                  \n",
       "SCHI2MIN=        1.10687166504 /                                                \n",
       "SCHI2MAX=        1.28811755236 /                                                \n",
       "PREJECT =             0.200000 / Profile area rejection threshold               \n",
       "SPEC1_G =              18.7631 /(S/N)^2 for spec  1 at mag 20.20                \n",
       "SPEC1_R =              21.2516 /(S/N)^2 for spec  1 at mag 20.25                \n",
       "SPEC1_I =              15.9304 /(S/N)^2 for spec  1 at mag 19.90                \n",
       "SPEC2_G =              21.2226 /(S/N)^2 for spec  2 at mag 20.20                \n",
       "SPEC2_R =              22.7455 /(S/N)^2 for spec  2 at mag 20.25                \n",
       "SPEC2_I =              18.9085 /(S/N)^2 for spec  2 at mag 19.90                \n",
       "NSTD    =                   16 / Number of (good) std stars                     \n",
       "GOFFSTD =             0.177132 / Spectrophoto offset for std stars in G-band    \n",
       "GRMSSTD =            0.0884365 / Spectrophoto RMS for std stars in G-band       \n",
       "ROFFSTD =             0.109152 / Spectrophoto offset for std stars in R-band    \n",
       "RRMSSTD =            0.0675879 / Spectrophoto RMS for std stars in R-band       \n",
       "IOFFSTD =            0.0888519 / Spectrophoto offset for std stars in I-band    \n",
       "IRMSSTD =            0.0625977 / Spectrophoto RMS for std stars in I-band       \n",
       "GROFFSTD=            0.0542269 / Spectrophoto offset for std stars in (GR)      \n",
       "GRRMSSTD=            0.0668832 / Spectrophoto RMS for std stars in (GR)         \n",
       "RIOFFSTD=            0.0292263 / Spectrophoto offset for std stars in (RI)      \n",
       "RIRMSSTD=            0.0274087 / Spectrophoto RMS for std stars in (RI)         \n",
       "NGAL    =                  336 / Number of (good) main galaxies                 \n",
       "GOFFGAL =          -0.00157166 / Spectrophoto offset for main galaxies in G-band\n",
       "GRMSGAL =            0.0954963 / Spectrophoto RMS for main galaxies in G-band   \n",
       "ROFFGAL =          -0.00225353 / Spectrophoto offset for main galaxies in R-band\n",
       "RRMSGAL =            0.0705912 / Spectrophoto RMS for main galaxies in R-band   \n",
       "IOFFGAL =           0.00555038 / Spectrophoto offset for main galaxies in I-band\n",
       "IRMSGAL =            0.0734484 / Spectrophoto RMS for main galaxies in I-band   \n",
       "GROFFGAL=          -0.00154877 / Spectrophoto offset for main galaxies in (GR)  \n",
       "GRRMSGAL=            0.0431142 / Spectrophoto RMS for main galaxies in (GR)     \n",
       "RIOFFGAL=          -0.00607777 / Spectrophoto offset for main galaxies in (RI)  \n",
       "RIRMSGAL=            0.0242889 / Spectrophoto RMS for main galaxies in (RI)     \n",
       "LOWREJ  =                    5 / Extraction: low rejection                      \n",
       "HIGHREJ =                    8 / Extraction: high rejection                     \n",
       "SCATPOLY=                    0 / Extraction: Order of scattered light polynomial\n",
       "PROFTYPE=                    3 / Extraction profile: 1=Gaussian                 \n",
       "NFITPOLY=                    1 / Extraction: Number of parameters in each profil\n",
       "XCHI2   =              1.41733 / Extraction: Mean chi^2                         \n",
       "XCHI2MIN=              1.19388 /                                                \n",
       "XCHI2MAX=              1.72543 /                                                \n",
       "SHIFTGUE=   -0.000812781513105 /                                                \n",
       "SHIFT   =       0.435318201661 /Angstroms, at 4000AA                            \n",
       "SHIFTERR=       0.969811531590 /                                                \n",
       "NWORDER =                    2 / Linear-log10 coefficients                      \n",
       "WFITTYPE= 'LOG-LINEAR'         / Linear-log10 dispersion                        \n",
       "COEFF0  =        3.57950000000 / Central wavelength (log10) of first pixel      \n",
       "COEFF1  =    0.000100000000000 / Log10 dispersion per pixel                     \n",
       "FBADPIX =            0.0258074 / Fraction of bad pixels                         \n",
       "FBADPIX1=            0.0270377 / Fraction of bad pixels on spectro-1            \n",
       "FBADPIX2=            0.0245733 / Fraction of bad pixels on spectro-2            \n",
       "WAT0_001= 'system=linear'      /                                                \n",
       "WAT1_001= 'wtype=linear label=Wavelength units=Angstroms' /                     \n",
       "DC-FLAG =                    1 / Log-linear flag                                \n",
       "BUNIT   = '1E-17 erg/cm^2/s/Ang' /                                              \n",
       "PLUG_RA =            235.29005 / RA of object [deg]                             \n",
       "PLUG_DEC=            57.531397 / dec of object [deg]                            \n",
       "SPEC_ID = '    692432880130877440' / Unique object identifier                   \n",
       "FIBERID =                   16 / Fiber number (1-640)                           \n",
       "NEXP    =                    6 / Number of individual exposures                 \n",
       "EXPID01 = 'b1-00013847-00013845-00013846'                                       \n",
       "EXPID02 = 'b1-00013848-00013845-00013846'                                       \n",
       "EXPID03 = 'b1-00013849-00013845-00013846'                                       \n",
       "EXPID04 = 'r1-00013847-00013845-00013846'                                       \n",
       "EXPID05 = 'r1-00013848-00013845-00013846'                                       \n",
       "EXPID06 = 'r1-00013849-00013845-00013846'                                       "
      ]
     },
     "execution_count": 4,
     "metadata": {},
     "output_type": "execute_result"
    }
   ],
   "source": [
    "hdulist[0].header"
   ]
  },
  {
   "cell_type": "code",
   "execution_count": 7,
   "metadata": {
    "collapsed": false
   },
   "outputs": [
    {
     "data": {
      "text/plain": [
       "FITS_rec([ (10.040874, 3.5811, 0.060188469, 0, 1048576, 1.5235547, 6.1071539, 13.141625),\n",
       "       (10.516845, 3.5811999, 0.06168475, 0, 0, 1.523358, 6.4632907, 12.876761),\n",
       "       (13.509511, 3.5813, 0.057431385, 0, 0, 1.5231583, 7.1221108, 13.226313),\n",
       "       ...,\n",
       "       (9.0939436, 3.9635, 0.77474189, 0, 0, 0.93892294, 2.9249012, 7.9422779),\n",
       "       (5.0696082, 3.9635999, 0.82741737, 0, 0, 0.93887025, 2.9389138, 7.9413238),\n",
       "       (7.5609026, 3.9637001, 0.78021157, 0, 0, 0.9388172, 2.9014869, 7.9403687)], \n",
       "      dtype=(numpy.record, [('flux', '>f4'), ('loglam', '>f4'), ('ivar', '>f4'), ('and_mask', '>i4'), ('or_mask', '>i4'), ('wdisp', '>f4'), ('sky', '>f4'), ('model', '>f4')]))"
      ]
     },
     "execution_count": 7,
     "metadata": {},
     "output_type": "execute_result"
    }
   ],
   "source": [
    "hdulist[1].data"
   ]
  },
  {
   "cell_type": "code",
   "execution_count": 1,
   "metadata": {
    "collapsed": false
   },
   "outputs": [
    {
     "ename": "NameError",
     "evalue": "name 'hdulist' is not defined",
     "output_type": "error",
     "traceback": [
      "\u001b[1;31m---------------------------------------------------------------------------\u001b[0m",
      "\u001b[1;31mNameError\u001b[0m                                 Traceback (most recent call last)",
      "\u001b[1;32m<ipython-input-1-c549f49eabf6>\u001b[0m in \u001b[0;36m<module>\u001b[1;34m()\u001b[0m\n\u001b[1;32m----> 1\u001b[1;33m \u001b[0mdata\u001b[0m \u001b[1;33m=\u001b[0m \u001b[0mhdulist\u001b[0m\u001b[1;33m[\u001b[0m\u001b[1;36m1\u001b[0m\u001b[1;33m]\u001b[0m\u001b[1;33m.\u001b[0m\u001b[0mdata\u001b[0m\u001b[1;33m.\u001b[0m\u001b[0mfield\u001b[0m\u001b[1;33m[\u001b[0m\u001b[1;34m'flux'\u001b[0m\u001b[1;33m]\u001b[0m\u001b[1;33m\u001b[0m\u001b[0m\n\u001b[0m",
      "\u001b[1;31mNameError\u001b[0m: name 'hdulist' is not defined"
     ]
    }
   ],
   "source": [
    "data = hdulist[1].data.field['flux']\n"
   ]
  },
  {
   "cell_type": "code",
   "execution_count": null,
   "metadata": {
    "collapsed": true
   },
   "outputs": [],
   "source": []
  }
 ],
 "metadata": {
  "kernelspec": {
   "display_name": "Python 2",
   "language": "python",
   "name": "python2"
  },
  "language_info": {
   "codemirror_mode": {
    "name": "ipython",
    "version": 2
   },
   "file_extension": ".py",
   "mimetype": "text/x-python",
   "name": "python",
   "nbconvert_exporter": "python",
   "pygments_lexer": "ipython2",
   "version": "2.7.10"
  }
 },
 "nbformat": 4,
 "nbformat_minor": 0
}
