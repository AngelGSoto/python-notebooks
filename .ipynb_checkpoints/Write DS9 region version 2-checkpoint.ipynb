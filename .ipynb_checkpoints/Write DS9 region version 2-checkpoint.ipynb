{
 "cells": [
  {
   "cell_type": "markdown",
   "metadata": {},
   "source": [
    "Writing DS9 region based on the Prof Will program. I made this other version to no re-writte the other "
   ]
  },
  {
   "cell_type": "code",
   "execution_count": 1,
   "metadata": {},
   "outputs": [],
   "source": [
    "from astropy.table import Table\n",
    "from astropy.io import ascii\n",
    "from catalog_utils import region_lines_from_table\n",
    "from catalog_utils_v2 import region_lines_from_table as region_lines_from_table_v2\n",
    "from pathlib import Path\n",
    "import numpy as np\n",
    "import os\n",
    "import sys"
   ]
  },
  {
   "cell_type": "code",
   "execution_count": 2,
   "metadata": {},
   "outputs": [],
   "source": [
    "ROOT_PATH = Path(\"..\") # necessary since we are in the `notebooks/` sub-folder"
   ]
  },
  {
   "cell_type": "code",
   "execution_count": 4,
   "metadata": {},
   "outputs": [
    {
     "name": "stdout",
     "output_type": "stream",
     "text": [
      "../SMC/MC0094/MC0094-318227-position.reg\n",
      "../SMC/MC0095/MC0095-257970-position.reg\n",
      "../SMC/MC0095/MC0095-265990-position.reg\n",
      "../SMC/MC0114/MC0114-222322-position.reg\n",
      "../SMC/MC0114/MC0114-327430-position.reg\n",
      "../SMC/MC0115/MC0115-152415-position.reg\n",
      "../SMC/MC0115/MC0115-287587-position.reg\n",
      "../SMC/MC0115/MC0115-397126-position.reg\n",
      "../SMC/MC0116/MC0116-158507-position.reg\n",
      "../SMC/MC0116/MC0116-168236-position.reg\n",
      "../SMC/MC0116/MC0116-170015-position.reg\n",
      "../SMC/MC0116/MC0116-191358-position.reg\n"
     ]
    }
   ],
   "source": [
    "table4 = ascii.read(ROOT_PATH / \"SMC/compat-HIIRegions-smc-match-splus.dat\")#, format=\"ascii\")\n",
    "n4 = len(table4)\n",
    "for i in range(n4):\n",
    "    phat4 = \"../SMC/\" + str(table4[i][\"Field\"]) \n",
    "    regionfile4 = str(table4[i][\"ID\"].split(\"S.\")[-1].split(\".g\")[0]).replace(\".\", \"-\")+\"-position.reg\"\n",
    "    #print(phat4, regionfile4)\n",
    "    if phat4.split(\"C/\")[-1] == regionfile4.split(\"-\")[0]:\n",
    "        regionfile_path4 = phat4 + \"/\" + regionfile4\n",
    "        print(regionfile_path4)\n",
    "        with open(regionfile_path4, 'w') as f4:\n",
    "            f4.write('\\n'.join(region_lines_from_table_v2(table4[i:22], name='ID',\n",
    "                                                        ra='RA_1', dec='DEC_1',\n",
    "                                                            color='cyan')))"
   ]
  },
  {
   "cell_type": "code",
   "execution_count": null,
   "metadata": {},
   "outputs": [],
   "source": []
  },
  {
   "cell_type": "code",
   "execution_count": null,
   "metadata": {},
   "outputs": [],
   "source": []
  },
  {
   "cell_type": "code",
   "execution_count": null,
   "metadata": {},
   "outputs": [],
   "source": []
  },
  {
   "cell_type": "code",
   "execution_count": null,
   "metadata": {},
   "outputs": [],
   "source": []
  },
  {
   "cell_type": "code",
   "execution_count": null,
   "metadata": {},
   "outputs": [],
   "source": []
  },
  {
   "cell_type": "code",
   "execution_count": null,
   "metadata": {
    "collapsed": true
   },
   "outputs": [],
   "source": []
  }
 ],
 "metadata": {
  "kernelspec": {
   "display_name": "Python 3",
   "language": "python",
   "name": "python3"
  },
  "language_info": {
   "codemirror_mode": {
    "name": "ipython",
    "version": 3
   },
   "file_extension": ".py",
   "mimetype": "text/x-python",
   "name": "python",
   "nbconvert_exporter": "python",
   "pygments_lexer": "ipython3",
   "version": "3.7.4"
  }
 },
 "nbformat": 4,
 "nbformat_minor": 1
}
