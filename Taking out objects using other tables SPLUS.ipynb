{
 "cells": [
  {
   "cell_type": "markdown",
   "metadata": {},
   "source": [
    "# Discard objects using different tables"
   ]
  },
  {
   "cell_type": "markdown",
   "metadata": {},
   "source": [
    "With this code I taking out objects in a determined table"
   ]
  },
  {
   "cell_type": "code",
   "execution_count": 28,
   "metadata": {},
   "outputs": [],
   "source": [
    "from __future__ import print_function\n",
    "import numpy as np\n",
    "import os\n",
    "import glob\n",
    "import json\n",
    "import matplotlib.pyplot as plt\n",
    "import pandas as pd\n",
    "from astropy.table import Table, join"
   ]
  },
  {
   "cell_type": "code",
   "execution_count": 29,
   "metadata": {},
   "outputs": [],
   "source": [
    "datadir1 = \"../DR3-SPLUS/\"\n",
    "datadir2 = \"..//DR3-SPLUS/HYDRA/\"\n",
    "file_1 = \"SySt-pc-halphaemitter-allmain-99-prob.tab\"\n",
    "file_2 = \"SySt-pc-HalphaEmit_hydra_3error_pstotal-99-prob.tab\"\n",
    "file_1wise = \"Allwise_SySt-pc-halphaemitter-allmain-99-prob.dat\"\n",
    "file_2wise = \"Allwise_SySt-pc-HalphaEmit_hydra_3error_pstotal-99-prob.dat\""
   ]
  },
  {
   "cell_type": "code",
   "execution_count": 30,
   "metadata": {},
   "outputs": [],
   "source": [
    "data1 = Table.read(os.path.join(datadir1, file_1), format=\"ascii.tab\")\n",
    "data2 = Table.read(os.path.join(datadir2, file_2), format=\"ascii.tab\")"
   ]
  },
  {
   "cell_type": "code",
   "execution_count": 31,
   "metadata": {},
   "outputs": [],
   "source": [
    "data1_wise = Table.read(os.path.join(datadir1, file_1wise), format=\"ascii\")\n",
    "data2_wise = Table.read(os.path.join(datadir2, file_2wise), format=\"ascii\")"
   ]
  },
  {
   "cell_type": "code",
   "execution_count": 32,
   "metadata": {},
   "outputs": [],
   "source": [
    "id1 = data1[\"ID\"]\n",
    "id1_wise = data1_wise[\"ID\"]\n",
    "m1 = np.array([not source in id1_wise for source in id1])"
   ]
  },
  {
   "cell_type": "code",
   "execution_count": 33,
   "metadata": {
    "scrolled": false
   },
   "outputs": [],
   "source": [
    "table1_result = Table([data1[m1]['Field'], data1[m1]['ID'], data1[m1]['RA'], data1[m1]['DEC']], names=(\"FIELD\", \"ID\", \"RA\", \"DEC\"), meta={'name': 'first table'})"
   ]
  },
  {
   "cell_type": "code",
   "execution_count": 34,
   "metadata": {},
   "outputs": [],
   "source": [
    "id2 = data2[\"ID\"]\n",
    "id2_wise = data2_wise[\"ID\"]\n",
    "m2 = np.array([not source in id2_wise for source in id2])"
   ]
  },
  {
   "cell_type": "code",
   "execution_count": 35,
   "metadata": {},
   "outputs": [],
   "source": [
    "table2_result = Table([data2[m2]['Field'], data2[m2]['ID'], data2[m2]['RA'], data2[m2]['DEC']], names=(\"FIELD\", \"ID\", \"RA\", \"DEC\"), meta={'name': 'first table'})"
   ]
  },
  {
   "cell_type": "code",
   "execution_count": 42,
   "metadata": {},
   "outputs": [
    {
     "data": {
      "text/html": [
       "<i>Table length=284</i>\n",
       "<table id=\"table139888043674640\" class=\"table-striped table-bordered table-condensed\">\n",
       "<thead><tr><th>FIELD</th><th>ID</th><th>RA</th><th>DEC</th></tr></thead>\n",
       "<thead><tr><th>str12</th><th>str24</th><th>float64</th><th>float64</th></tr></thead>\n",
       "<tr><td>HYDRA-0014</td><td>iDR3.HYDRA-0014.067698</td><td>154.79903488785746</td><td>-23.336842746968273</td></tr>\n",
       "<tr><td>HYDRA-0026</td><td>iDR3.HYDRA-0026.053905</td><td>158.56935543917942</td><td>-24.789269453980616</td></tr>\n",
       "<tr><td>HYDRA-0027</td><td>iDR3.HYDRA-0027.013022</td><td>159.99116767563658</td><td>-25.71705088322159</td></tr>\n",
       "<tr><td>HYDRA-0030</td><td>iDR3.HYDRA-0030.056772</td><td>150.67259735342748</td><td>-26.509517097536605</td></tr>\n",
       "<tr><td>HYDRA-0032</td><td>iDR3.HYDRA-0032.059053</td><td>153.52309312392578</td><td>-26.455560303357167</td></tr>\n",
       "<tr><td>HYDRA-0033</td><td>iDR3.HYDRA-0033.041008</td><td>154.9871043594248</td><td>-26.716498674754625</td></tr>\n",
       "<tr><td>HYDRA-0033</td><td>iDR3.HYDRA-0033.054699</td><td>154.60886952514295</td><td>-26.49148368874366</td></tr>\n",
       "<tr><td>HYDRA-0040</td><td>iDR3.HYDRA-0040.065741</td><td>150.9110570634915</td><td>-27.554002785137584</td></tr>\n",
       "<tr><td>HYDRA-0041</td><td>iDR3.HYDRA-0041.051863</td><td>153.34144986000263</td><td>-27.69241211388132</td></tr>\n",
       "<tr><td>HYDRA-0043</td><td>iDR3.HYDRA-0043.030493</td><td>156.71794221734686</td><td>-28.139549007538125</td></tr>\n",
       "<tr><td>...</td><td>...</td><td>...</td><td>...</td></tr>\n",
       "<tr><td>SPLUS-s31s45</td><td>iDR3.SPLUS-s31s45.020223</td><td>318.743380842896</td><td>-40.5065149179066</td></tr>\n",
       "<tr><td>SPLUS-s32s45</td><td>iDR3.SPLUS-s32s45.028057</td><td>318.020337032205</td><td>-41.6008770513724</td></tr>\n",
       "<tr><td>SPLUS-s33s40</td><td>iDR3.SPLUS-s33s40.019190</td><td>71.2063630497776</td><td>-43.0212767972462</td></tr>\n",
       "<tr><td>SPLUS-s34s41</td><td>iDR3.SPLUS-s34s41.027669</td><td>73.9179260617125</td><td>-44.205240347193</td></tr>\n",
       "<tr><td>SPLUS-s35s41</td><td>iDR3.SPLUS-s35s41.000011</td><td>315.349131202932</td><td>-46.0830821318659</td></tr>\n",
       "<tr><td>SPLUS-s36s41</td><td>iDR3.SPLUS-s36s41.059469</td><td>316.813061329441</td><td>-45.9738850007596</td></tr>\n",
       "<tr><td>SPLUS-s37s44</td><td>iDR3.SPLUS-s37s44.001133</td><td>325.158659167342</td><td>-48.6557049375726</td></tr>\n",
       "<tr><td>SPLUS-s43s46</td><td>iDR3.SPLUS-s43s46.001335</td><td>344.465491368516</td><td>-56.4067579081706</td></tr>\n",
       "<tr><td>SPLUS-s43s46</td><td>iDR3.SPLUS-s43s46.015832</td><td>345.080059856897</td><td>-56.1687081881455</td></tr>\n",
       "<tr><td>SPLUS-s46s32</td><td>iDR3.SPLUS-s46s32.012920</td><td>320.591157184531</td><td>-59.8555389820807</td></tr>\n",
       "</table>"
      ],
      "text/plain": [
       "<Table length=284>\n",
       "   FIELD                ID                    RA                 DEC        \n",
       "   str12              str24                float64             float64      \n",
       "------------ ------------------------ ------------------ -------------------\n",
       "  HYDRA-0014   iDR3.HYDRA-0014.067698 154.79903488785746 -23.336842746968273\n",
       "  HYDRA-0026   iDR3.HYDRA-0026.053905 158.56935543917942 -24.789269453980616\n",
       "  HYDRA-0027   iDR3.HYDRA-0027.013022 159.99116767563658  -25.71705088322159\n",
       "  HYDRA-0030   iDR3.HYDRA-0030.056772 150.67259735342748 -26.509517097536605\n",
       "  HYDRA-0032   iDR3.HYDRA-0032.059053 153.52309312392578 -26.455560303357167\n",
       "  HYDRA-0033   iDR3.HYDRA-0033.041008  154.9871043594248 -26.716498674754625\n",
       "  HYDRA-0033   iDR3.HYDRA-0033.054699 154.60886952514295  -26.49148368874366\n",
       "  HYDRA-0040   iDR3.HYDRA-0040.065741  150.9110570634915 -27.554002785137584\n",
       "  HYDRA-0041   iDR3.HYDRA-0041.051863 153.34144986000263  -27.69241211388132\n",
       "  HYDRA-0043   iDR3.HYDRA-0043.030493 156.71794221734686 -28.139549007538125\n",
       "         ...                      ...                ...                 ...\n",
       "SPLUS-s31s45 iDR3.SPLUS-s31s45.020223   318.743380842896   -40.5065149179066\n",
       "SPLUS-s32s45 iDR3.SPLUS-s32s45.028057   318.020337032205   -41.6008770513724\n",
       "SPLUS-s33s40 iDR3.SPLUS-s33s40.019190   71.2063630497776   -43.0212767972462\n",
       "SPLUS-s34s41 iDR3.SPLUS-s34s41.027669   73.9179260617125    -44.205240347193\n",
       "SPLUS-s35s41 iDR3.SPLUS-s35s41.000011   315.349131202932   -46.0830821318659\n",
       "SPLUS-s36s41 iDR3.SPLUS-s36s41.059469   316.813061329441   -45.9738850007596\n",
       "SPLUS-s37s44 iDR3.SPLUS-s37s44.001133   325.158659167342   -48.6557049375726\n",
       "SPLUS-s43s46 iDR3.SPLUS-s43s46.001335   344.465491368516   -56.4067579081706\n",
       "SPLUS-s43s46 iDR3.SPLUS-s43s46.015832   345.080059856897   -56.1687081881455\n",
       "SPLUS-s46s32 iDR3.SPLUS-s46s32.012920   320.591157184531   -59.8555389820807"
      ]
     },
     "execution_count": 42,
     "metadata": {},
     "output_type": "execute_result"
    }
   ],
   "source": [
    "table_total = join(table1_result, table2_result, join_type='outer')\n",
    "table_total"
   ]
  },
  {
   "cell_type": "code",
   "execution_count": 41,
   "metadata": {},
   "outputs": [],
   "source": [
    "asciifile = \"../DR3-SPLUS/SySt-SplusCandidate.dat\" \n",
    "table_total.write(asciifile, format=\"ascii.commented_header\")  "
   ]
  },
  {
   "cell_type": "code",
   "execution_count": 48,
   "metadata": {},
   "outputs": [],
   "source": [
    "asciifile_nowise = \"../DR3-SPLUS/Nowise_SySt-pc-halphaemitter-allmain-99-prob.dat\" \n",
    "data1[m1].write(asciifile_nowise, format=\"ascii.commented_header\")"
   ]
  },
  {
   "cell_type": "code",
   "execution_count": 49,
   "metadata": {},
   "outputs": [],
   "source": [
    "asciifile_nowise_hydra = \"../DR3-SPLUS/HYDRA/Nowise_SySt-pc-HalphaEmit_hydra_3error_pstotal-99-prob.dat\" \n",
    "data2[m2].write(asciifile_nowise_hydra, format=\"ascii.commented_header\")"
   ]
  },
  {
   "cell_type": "code",
   "execution_count": null,
   "metadata": {},
   "outputs": [],
   "source": []
  }
 ],
 "metadata": {
  "kernelspec": {
   "display_name": "Python 3",
   "language": "python",
   "name": "python3"
  },
  "language_info": {
   "codemirror_mode": {
    "name": "ipython",
    "version": 3
   },
   "file_extension": ".py",
   "mimetype": "text/x-python",
   "name": "python",
   "nbconvert_exporter": "python",
   "pygments_lexer": "ipython3",
   "version": "3.7.4"
  }
 },
 "nbformat": 4,
 "nbformat_minor": 2
}
