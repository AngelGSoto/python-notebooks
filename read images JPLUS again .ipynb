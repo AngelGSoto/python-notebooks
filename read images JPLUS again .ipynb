{
 "cells": [
  {
   "cell_type": "code",
   "execution_count": 2,
   "metadata": {},
   "outputs": [],
   "source": [
    "import numpy as np\n",
    "\n",
    "# Set up matplotlib and use a nicer set of plot parameters\n",
    "%config InlineBackend.rc = {}\n",
    "import matplotlib\n",
    "import os \n",
    "import matplotlib.pyplot as plt\n",
    "%matplotlib inline\n",
    "from astropy.io import fits"
   ]
  },
  {
   "cell_type": "code",
   "execution_count": 8,
   "metadata": {},
   "outputs": [],
   "source": [
    "datadir = \"../../../S-PLUS_IAG_Nov16/PNG135coadded/\"\n",
    "fitsfile = \"1500054-PNG135p9+55p9_gSDSS_swp.fits\"\n",
    "hdulist= fits.open(os.path.join(datadir, fitsfile))"
   ]
  },
  {
   "cell_type": "code",
   "execution_count": 9,
   "metadata": {},
   "outputs": [
    {
     "name": "stdout",
     "output_type": "stream",
     "text": [
      "Filename: ../../../S-PLUS_IAG_Nov16/PNG135coadded/1500054-PNG135p9+55p9_gSDSS_swp.fits\n",
      "No.    Name         Type      Cards   Dimensions   Format\n",
      "0    PRIMARY     PrimaryHDU     104   (9500, 9500)   float32   \n"
     ]
    }
   ],
   "source": [
    "hdulist.info()"
   ]
  },
  {
   "cell_type": "code",
   "execution_count": 10,
   "metadata": {},
   "outputs": [
    {
     "data": {
      "text/plain": [
       "SIMPLE  =                    T / This is a FITS file                            \n",
       "BITPIX  =                  -32 /                                                \n",
       "NAXIS   =                    2 /                                                \n",
       "NAXIS1  =                 9500 / NUMBER OF ELEMENTS ALONG THIS AXIS             \n",
       "NAXIS2  =                 9500 / NUMBER OF ELEMENTS ALONG THIS AXIS             \n",
       "EXTEND  =                    T / This file may contain FITS extensions          \n",
       "EQUINOX =        2000.00000000 / Mean equinox                                   \n",
       "MJD-OBS =   5.747300000000E+04 / Modified Julian date at start                  \n",
       "RADESYS = 'ICRS    '           / Astrometric system                             \n",
       "CTYPE1  = 'RA---TAN'           / WCS projection type for this axis              \n",
       "CUNIT1  = 'deg     '           / Axis unit                                      \n",
       "CRVAL1  =   1.783532375000E+02 / World coordinate on this axis                  \n",
       "CRPIX1  =   4.750500000000E+03 / Reference pixel on this axis                   \n",
       "CD1_1   =  -1.543333333333E-04 / Linear projection matrix                       \n",
       "CD1_2   =   0.000000000000E+00 / Linear projection matrix                       \n",
       "CTYPE2  = 'DEC--TAN'           / WCS projection type for this axis              \n",
       "CUNIT2  = 'deg     '           / Axis unit                                      \n",
       "CRVAL2  =   5.966589444440E+01 / World coordinate on this axis                  \n",
       "CRPIX2  =   4.750500000000E+03 / Reference pixel on this axis                   \n",
       "CD2_1   =   0.000000000000E+00 / Linear projection matrix                       \n",
       "CD2_2   =   1.543333333333E-04 / Linear projection matrix                       \n",
       "EXPTIME =                  1.0 / Normalized exposure time                       \n",
       "GAIN    =   1.423106849399E+02 / Maximum equivalent gain (e-/ADU)               \n",
       "SATURATE=   3.719821674875E+03 / Saturation Level (ADU)                         \n",
       "COMMENT                                                                         \n",
       "SOFTNAME= 'SWarp   '           / The software that processed those data         \n",
       "SOFTVERS= '2.38.0  '           / Version of the software                        \n",
       "SOFTDATE= '2015-09-25'         / Release date of the software                   \n",
       "SOFTAUTH= '2010-2012 IAP/CNRS/UPMC' / Maintainer of the software                \n",
       "SOFTINST= 'IAP  http://www.iap.fr' / Institute                                  \n",
       "COMMENT                                                                         \n",
       "AUTHOR  = 'reduc   '           / Who ran the software                           \n",
       "ORIGIN  = 'upad27.upad.lan'    / Where it was done                              \n",
       "DATE    = '2016-06-21T07:36:13' / When it was started (GMT)                     \n",
       "COMBINET= 'WEIGHTED'           / COMBINE_TYPE config parameter for SWarp        \n",
       "COMMENT                                                                         \n",
       "COMMENT  Propagated FITS keywords                                               \n",
       "OBJECT  = 'PNG135.9+55.9'                                                       \n",
       "PI-COI  = '        '                                                            \n",
       "TELESCOP= 'OAJ-T80 '                                                            \n",
       "INSTRUME= 'T80Cam  '                                                            \n",
       "FILTER  = 'gSDSS   '                                                            \n",
       "PRJ_ID  = '1500054 '                                                            \n",
       "PRJ_VER = '1       '                                                            \n",
       "COMMENT                                                                         \n",
       "COMMENT  Axis-dependent config parameters                                       \n",
       "RESAMPT1= 'LANCZOS3'           / RESAMPLING_TYPE config parameter               \n",
       "CENTERT1= 'MANUAL  '           / CENTER_TYPE config parameter                   \n",
       "PSCALET1= 'MANUAL  '           / PIXELSCALE_TYPE config parameter               \n",
       "RESAMPT2= 'LANCZOS3'           / RESAMPLING_TYPE config parameter               \n",
       "CENTERT2= 'MANUAL  '           / CENTER_TYPE config parameter                   \n",
       "PSCALET2= 'MANUAL  '           / PIXELSCALE_TYPE config parameter               \n",
       "        STATS 2016-06-21T09:36:38.022639                                        \n",
       "HIERARCH OAJ QC NCMODE = 0.03 / Mode (ADU)                                      \n",
       "HIERARCH OAJ QC NCMIDPT = 0.03 / Level estim (ADU)                              \n",
       "HIERARCH OAJ QC NCMIDRMS = 0.03 / rms level (ADU)                               \n",
       "HIERARCH OAJ QC NCNOISE = 0.35 / Noise estim (ADU)                              \n",
       "HIERARCH OAJ QC NCNOIRMS = 0.01 / rms noise estim (ADU)                         \n",
       "CHECKSUM= 'gaOdiXLZgaLbgULZ'   / HDU checksum updated 2016-06-21T09:38:22       \n",
       "DATASUM = '2635106348'         / data unit checksum updated 2016-06-21T09:38:22 \n",
       "        FWHM ESTIM 2016-06-21T09:36:49.181018                                   \n",
       "HIERARCH OAJ PRO FWHMSEXT = 1.437 / FWHM arcsec estimated with SE               \n",
       "HIERARCH OAJ PRO FWHMSRMS = 0.04 / rms in FWHM with SE                          \n",
       "HIERARCH OAJ PRO FWHMMEAN = 1.399673131656647 / PSFex FWHM                      \n",
       "HIERARCH OAJ PRO FWHMBETA = 2.439800024032593 / PSFex beta                      \n",
       "HIERARCH OAJ PRO FWHMnstars = 246 / PSFex nstars                                \n",
       "HIERARCH OAJ PRO Ellipmean = 0.04245270043611526 / PSFex Ellip                  \n",
       "HIERARCH OAJ INS PIXSCALE = 0.5556                                              \n",
       "FILENAME= '1500054-PNG135p9+55p9_gSDSS_swp.fits'                                \n",
       "NCOMBINE=                   12                                                  \n",
       "TEXPOSED=                156.0                                                  \n",
       "EFECTIME=    126.1024382745262                                                  \n",
       "TEXPSUM =                156.0 / Maximum equivalent exposure time (s)           \n",
       "HIERARCH OAJ PRO PIPVERS = '0.8.14sp'                                           \n",
       "HIERARCH OAJ PRO REFIMAGE = 'j02-20160326T040708-01_prepro' / Reference image fo\n",
       "HIERARCH OAJ PRO REFAIRMASS = 1.40641 / Reference image airmass                 \n",
       "HIERARCH OAJ PRO REFDATEOBS = '2016-03-26T04:07:08.594' / Reference image dateob\n",
       "HIERARCH OAJ PRO SWCMB1 = 'j02-20160326T040708-01_prepro'                       \n",
       "HIERARCH OAJ PRO SWSCALE1 = 0.07692261127189                                    \n",
       "HIERARCH OAJ PRO SWCMB2 = 'j02-20160326T040749-01_prepro'                       \n",
       "HIERARCH OAJ PRO SWSCALE2 = 0.07687802526169001                                 \n",
       "HIERARCH OAJ PRO SWCMB3 = 'j02-20160326T040830-01_prepro'                       \n",
       "HIERARCH OAJ PRO SWSCALE3 = 0.07687484676026                                    \n",
       "HIERARCH OAJ PRO SWCMB4 = 'j02-20160522T233615-01_prepro'                       \n",
       "HIERARCH OAJ PRO SWSCALE4 = 0.06863424951965                                    \n",
       "HIERARCH OAJ PRO SWCMB5 = 'j02-20160522T233657-01_prepro'                       \n",
       "HIERARCH OAJ PRO SWSCALE5 = 0.06895155800565                                    \n",
       "HIERARCH OAJ PRO SWCMB6 = 'j02-20160522T233737-01_prepro'                       \n",
       "HIERARCH OAJ PRO SWSCALE6 = 0.06909925488689                                    \n",
       "HIERARCH OAJ PRO SWCMB7 = 'j02-20160612T221536-01_prepro'                       \n",
       "HIERARCH OAJ PRO SWSCALE7 = 0.1321097041823                                     \n",
       "HIERARCH OAJ PRO SWCMB8 = 'j02-20160612T221618-01_prepro'                       \n",
       "HIERARCH OAJ PRO SWSCALE8 = 0.1053431716306                                     \n",
       "HIERARCH OAJ PRO SWCMB9 = 'j02-20160612T221700-01_prepro'                       \n",
       "HIERARCH OAJ PRO SWSCALE9 = 0.1256811605738                                     \n",
       "HIERARCH OAJ PRO SWCMB10 = 'j02-20160620T220225-01_prepro'                      \n",
       "HIERARCH OAJ PRO SWSCALE10 = 0.06276649807994999                                \n",
       "HIERARCH OAJ PRO SWCMB11 = 'j02-20160620T220310-01_prepro'                      \n",
       "HIERARCH OAJ PRO SWSCALE11 = 0.06277162256266999                                \n",
       "HIERARCH OAJ PRO SWCMB12 = 'j02-20160620T220356-01_prepro'                      \n",
       "HIERARCH OAJ PRO SWSCALE12 = 0.0627501775081                                    \n",
       "SNOIFIT =      0.3455232381821 / s*sqrt(Area)*(a+b*sqrt(Area) fit               \n",
       "ANOIFIT =    1.083983977633804 / s*sqrt(Area)*(a+b*sqrt(Area) fit               \n",
       "BNOIFIT = 0.002023074954451565 / s*sqrt(Area)*(a+b*sqrt(Area) fit               "
      ]
     },
     "execution_count": 10,
     "metadata": {},
     "output_type": "execute_result"
    }
   ],
   "source": [
    "hdulist[0].header"
   ]
  },
  {
   "cell_type": "code",
   "execution_count": 6,
   "metadata": {
    "collapsed": true
   },
   "outputs": [],
   "source": [
    "image_data = hdulist[0].data"
   ]
  },
  {
   "cell_type": "code",
   "execution_count": 7,
   "metadata": {},
   "outputs": [
    {
     "name": "stdout",
     "output_type": "stream",
     "text": [
      "<type 'numpy.ndarray'>\n",
      "(9500, 9500)\n"
     ]
    }
   ],
   "source": [
    "print(type(image_data))\n",
    "print(image_data.shape)"
   ]
  },
  {
   "cell_type": "code",
   "execution_count": 8,
   "metadata": {},
   "outputs": [],
   "source": [
    "hdulist.close()"
   ]
  },
  {
   "cell_type": "code",
   "execution_count": 38,
   "metadata": {},
   "outputs": [
    {
     "name": "stdout",
     "output_type": "stream",
     "text": [
      "<type 'numpy.ndarray'>\n",
      "(9500, 9500)\n",
      "<type 'numpy.flatiter'>\n"
     ]
    }
   ],
   "source": [
    "datadir = \"../../../S-PLUS_IAG_Nov16/NGC2242/\"\n",
    "fitsfile = \"1500054-NGC2242_iSDSS_swp.fits\"\n",
    "image_data= fits.getdata(os.path.join(datadir, fitsfile))\n",
    "print(type(image_data))\n",
    "print(image_data.shape)\n",
    "print(type(image_data.flat))"
   ]
  },
  {
   "cell_type": "code",
   "execution_count": 41,
   "metadata": {},
   "outputs": [
    {
     "data": {
      "image/png": "[encoded data removed]",
      "text/plain": [
       "<matplotlib.figure.Figure at 0x7f52d12d0950>"
      ]
     },
     "metadata": {},
     "output_type": "display_data"
    }
   ],
   "source": [
    "NBINS = 100\n",
    "histogram = plt.hist(image_data.flat, NBINS)"
   ]
  },
  {
   "cell_type": "code",
   "execution_count": 34,
   "metadata": {},
   "outputs": [
    {
     "name": "stdout",
     "output_type": "stream",
     "text": [
      "('Min:', -455.95816)\n",
      "('Max:', 3377.2991)\n",
      "('Mean:', 0.46426415)\n",
      "('Stdev:', 20.849369)\n"
     ]
    }
   ],
   "source": [
    "print('Min:', np.min(image_data))\n",
    "print('Max:', np.max(image_data))\n",
    "print('Mean:', np.mean(image_data))\n",
    "print('Stdev:', np.std(image_data))"
   ]
  },
  {
   "cell_type": "code",
   "execution_count": 42,
   "metadata": {},
   "outputs": [
    {
     "ename": "NameError",
     "evalue": "name 'final_image' is not defined",
     "output_type": "error",
     "traceback": [
      "\u001b[1;31m---------------------------------------------------------------------------\u001b[0m",
      "\u001b[1;31mNameError\u001b[0m                                 Traceback (most recent call last)",
      "\u001b[1;32m<ipython-input-42-411b8dd3ae72>\u001b[0m in \u001b[0;36m<module>\u001b[1;34m()\u001b[0m\n\u001b[1;32m----> 1\u001b[1;33m \u001b[0mplt\u001b[0m\u001b[1;33m.\u001b[0m\u001b[0mimshow\u001b[0m\u001b[1;33m(\u001b[0m\u001b[0mfinal_image\u001b[0m\u001b[1;33m,\u001b[0m \u001b[0mcmap\u001b[0m\u001b[1;33m=\u001b[0m\u001b[1;34m'gray'\u001b[0m\u001b[1;33m,\u001b[0m \u001b[0mvmin\u001b[0m\u001b[1;33m=\u001b[0m\u001b[1;36m2.e3\u001b[0m\u001b[1;33m,\u001b[0m \u001b[0mvmax\u001b[0m\u001b[1;33m=\u001b[0m\u001b[1;36m3.e3\u001b[0m\u001b[1;33m)\u001b[0m\u001b[1;33m\u001b[0m\u001b[0m\n\u001b[0m\u001b[0;32m      2\u001b[0m \u001b[0mplt\u001b[0m\u001b[1;33m.\u001b[0m\u001b[0mcolorbar\u001b[0m\u001b[1;33m(\u001b[0m\u001b[1;33m)\u001b[0m\u001b[1;33m\u001b[0m\u001b[0m\n",
      "\u001b[1;31mNameError\u001b[0m: name 'final_image' is not defined"
     ]
    }
   ],
   "source": [
    "plt.imshow(final_image, cmap='gray', vmin=2.e3, vmax=3.e3)\n",
    "plt.colorbar()"
   ]
  },
  {
   "cell_type": "code",
   "execution_count": null,
   "metadata": {
    "collapsed": true
   },
   "outputs": [],
   "source": []
  }
 ],
 "metadata": {
  "kernelspec": {
   "display_name": "Python 3",
   "language": "python",
   "name": "python3"
  },
  "language_info": {
   "codemirror_mode": {
    "name": "ipython",
    "version": 3
   },
   "file_extension": ".py",
   "mimetype": "text/x-python",
   "name": "python",
   "nbconvert_exporter": "python",
   "pygments_lexer": "ipython3",
   "version": "3.6.3"
  }
 },
 "nbformat": 4,
 "nbformat_minor": 1
}
