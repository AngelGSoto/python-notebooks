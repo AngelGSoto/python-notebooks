{
 "cells": [
  {
   "cell_type": "markdown",
   "metadata": {},
   "source": [
    "# Code to implement astroquery on simbad and Vizier"
   ]
  },
  {
   "cell_type": "code",
   "execution_count": 132,
   "metadata": {},
   "outputs": [],
   "source": [
    "from astroquery.simbad import Simbad\n",
    "import astropy.coordinates as coord\n",
    "import astropy.units as u\n",
    "from astropy.io import ascii\n",
    "from astropy.table import Table\n",
    "from astropy.coordinates import SkyCoord \n",
    "import numpy as np"
   ]
  },
  {
   "cell_type": "code",
   "execution_count": 133,
   "metadata": {},
   "outputs": [
    {
     "data": {
      "text/plain": [
       "<Table length=80>\n",
       "         name           dtype \n",
       "---------------------- -------\n",
       "                  Tile   int64\n",
       "                Number   int64\n",
       "                    RA float64\n",
       "                   Dec float64\n",
       "            rSDSS_auto float64\n",
       "            gSDSS_auto float64\n",
       "            iSDSS_auto float64\n",
       "            zSDSS_auto float64\n",
       "            uJAVA_auto float64\n",
       "            J0378_auto float64\n",
       "            J0395_auto float64\n",
       "            J0410_auto float64\n",
       "            J0430_auto float64\n",
       "            J0515_auto float64\n",
       "            J0660_auto float64\n",
       "            J0861_auto float64\n",
       "           rSDSS_PETRO float64\n",
       "           gSDSS_PETRO float64\n",
       "           iSDSS_PETRO float64\n",
       "           zSDSS_PETRO float64\n",
       "           uJAVA_PETRO float64\n",
       "           J0378_PETRO float64\n",
       "           J0395_PETRO float64\n",
       "           J0410_PETRO float64\n",
       "           J0430_PETRO float64\n",
       "           J0515_PETRO float64\n",
       "           J0660_PETRO float64\n",
       "           J0861_PETRO float64\n",
       "    rSDSS_MAG_APER_6_0 float64\n",
       "    gSDSS_MAG_APER_6_0 float64\n",
       "    iSDSS_MAG_APER_6_0 float64\n",
       "    zSDSS_MAG_APER_6_0 float64\n",
       "    uJAVA_MAG_APER_6_0 float64\n",
       "    J0378_MAG_APER_6_0 float64\n",
       "    J0395_MAG_APER_6_0 float64\n",
       "    J0410_MAG_APER_6_0 float64\n",
       "    J0430_MAG_APER_6_0 float64\n",
       "    J0515_MAG_APER_6_0 float64\n",
       "    J0660_MAG_APER_6_0 float64\n",
       "    J0861_MAG_APER_6_0 float64\n",
       "        rSDSS_auto_err float64\n",
       "        gSDSS_auto_err float64\n",
       "        iSDSS_auto_err float64\n",
       "        zSDSS_auto_err float64\n",
       "        uJAVA_auto_err float64\n",
       "        J0378_auto_err float64\n",
       "        J0395_auto_err float64\n",
       "        J0410_auto_err float64\n",
       "        J0430_auto_err float64\n",
       "        J0515_auto_err float64\n",
       "        J0660_auto_err float64\n",
       "        J0861_auto_err float64\n",
       "       rSDSS_PETRO_err float64\n",
       "       gSDSS_PETRO_err float64\n",
       "       iSDSS_PETRO_err float64\n",
       "       zSDSS_PETRO_err float64\n",
       "       uJAVA_PETRO_err float64\n",
       "       J0378_PETRO_err float64\n",
       "       J0395_PETRO_err float64\n",
       "       J0410_PETRO_err float64\n",
       "       J0430_PETRO_err float64\n",
       "       J0515_PETRO_err float64\n",
       "       J0660_PETRO_err float64\n",
       "       J0861_PETRO_err float64\n",
       "rSDSS_MAG_APER_6_0_err float64\n",
       "gSDSS_MAG_APER_6_0_err float64\n",
       "iSDSS_MAG_APER_6_0_err float64\n",
       "zSDSS_MAG_APER_6_0_err float64\n",
       "uJAVA_MAG_APER_6_0_err float64\n",
       "J0378_MAG_APER_6_0_err float64\n",
       "J0395_MAG_APER_6_0_err float64\n",
       "J0410_MAG_APER_6_0_err float64\n",
       "J0430_MAG_APER_6_0_err float64\n",
       "J0515_MAG_APER_6_0_err float64\n",
       "J0660_MAG_APER_6_0_err float64\n",
       "J0861_MAG_APER_6_0_err float64\n",
       "           rSDSS_FLAGS   int64\n",
       "           gSDSS_FLAGS   int64\n",
       "           iSDSS_FLAGS   int64\n",
       "           zSDSS_FLAGS   int64\n",
       "           uJAVA_FLAGS   int64\n",
       "           J0378_FLAGS   int64\n",
       "           J0395_FLAGS   int64\n",
       "           J0410_FLAGS   int64\n",
       "           J0430_FLAGS   int64\n",
       "           J0515_FLAGS   int64\n",
       "           J0660_FLAGS   int64\n",
       "           J0861_FLAGS   int64\n",
       "      rSDSS_MASK_FLAGS   int64\n",
       "      gSDSS_MASK_FLAGS   int64\n",
       "      iSDSS_MASK_FLAGS   int64\n",
       "      zSDSS_MASK_FLAGS   int64\n",
       "      uJAVA_MASK_FLAGS   int64\n",
       "      J0378_MASK_FLAGS   int64\n",
       "      J0395_MASK_FLAGS   int64\n",
       "      J0410_MASK_FLAGS   int64\n",
       "      J0430_MASK_FLAGS   int64\n",
       "      J0515_MASK_FLAGS   int64\n",
       "      J0660_MASK_FLAGS   int64\n",
       "      J0861_MASK_FLAGS   int64\n",
       "                 P(PN) float64\n",
       "               P(SySt) float64\n",
       "           P(all else) float64"
      ]
     },
     "execution_count": 133,
     "metadata": {},
     "output_type": "execute_result"
    }
   ],
   "source": [
    "# Read the table\n",
    "tab = Table.read(\"../JPLUS-DR2/aper6_mag_idr/PN-pc-Halpha_emitters_threeerror-cleaning-limfilter-limcolor-flags-mask-broad.tab\", format=\"ascii.tab\")\n",
    "tab.info"
   ]
  },
  {
   "cell_type": "code",
   "execution_count": 151,
   "metadata": {},
   "outputs": [
    {
     "name": "stderr",
     "output_type": "stream",
     "text": [
      "/home/lgutierrez/anaconda3/lib/python3.7/site-packages/astroquery/simbad/core.py:138: UserWarning: Warning: The script line number 4 raised an error (recorded in the `errors` attribute of the result table): '1:05:05.5224 +2:09:17.7867': No astronomical object found :  \n",
      "  (error.line, error.msg))\n",
      "/home/lgutierrez/anaconda3/lib/python3.7/site-packages/astroquery/simbad/core.py:138: UserWarning: Warning: The script line number 9 raised an error (recorded in the `errors` attribute of the result table): '7:36:49.3911 +65:41:16.2059': No astronomical object found :  \n",
      "  (error.line, error.msg))\n",
      "/home/lgutierrez/anaconda3/lib/python3.7/site-packages/astroquery/simbad/core.py:138: UserWarning: Warning: The script line number 11 raised an error (recorded in the `errors` attribute of the result table): '7:35:51.6367 +65:34:59.8058': No astronomical object found :  \n",
      "  (error.line, error.msg))\n",
      "/home/lgutierrez/anaconda3/lib/python3.7/site-packages/astroquery/simbad/core.py:138: UserWarning: Warning: The script line number 15 raised an error (recorded in the `errors` attribute of the result table): '12:16:27.8388 +69:24:43.214': No astronomical object found :  \n",
      "  (error.line, error.msg))\n",
      "/home/lgutierrez/anaconda3/lib/python3.7/site-packages/astroquery/simbad/core.py:138: UserWarning: Warning: The script line number 28 raised an error (recorded in the `errors` attribute of the result table): '15:01:15.2215 +52:35:55.684': No astronomical object found :  \n",
      "  (error.line, error.msg))\n",
      "/home/lgutierrez/anaconda3/lib/python3.7/site-packages/astroquery/simbad/core.py:138: UserWarning: Warning: The script line number 31 raised an error (recorded in the `errors` attribute of the result table): '18:53:36.0389 +33:01:25.7197': No astronomical object found :  \n",
      "  (error.line, error.msg))\n",
      "/home/lgutierrez/anaconda3/lib/python3.7/site-packages/astroquery/simbad/core.py:138: UserWarning: Warning: The script line number 33 raised an error (recorded in the `errors` attribute of the result table): '9:15:26.4327 +31:23:54.9766': No astronomical object found :  \n",
      "  (error.line, error.msg))\n",
      "/home/lgutierrez/anaconda3/lib/python3.7/site-packages/astroquery/simbad/core.py:138: UserWarning: Warning: The script line number 38 raised an error (recorded in the `errors` attribute of the result table): '14:02:40.7976 +54:28:46.6695': No astronomical object found :  \n",
      "  (error.line, error.msg))\n",
      "/home/lgutierrez/anaconda3/lib/python3.7/site-packages/astroquery/simbad/core.py:138: UserWarning: Warning: The script line number 41 raised an error (recorded in the `errors` attribute of the result table): '14:04:50.737 +54:28:07.1487': No astronomical object found :  \n",
      "  (error.line, error.msg))\n",
      "/home/lgutierrez/anaconda3/lib/python3.7/site-packages/astroquery/simbad/core.py:138: UserWarning: Warning: The script line number 57 raised an error (recorded in the `errors` attribute of the result table): '14:02:46.8004 +54:25:09.2789': No astronomical object found :  \n",
      "  (error.line, error.msg))\n",
      "/home/lgutierrez/anaconda3/lib/python3.7/site-packages/astroquery/simbad/core.py:138: UserWarning: Warning: The script line number 62 raised an error (recorded in the `errors` attribute of the result table): '9:50:20.9185 +31:29:11.0171': No astronomical object found :  \n",
      "  (error.line, error.msg))\n",
      "/home/lgutierrez/anaconda3/lib/python3.7/site-packages/astroquery/simbad/core.py:138: UserWarning: Warning: The script line number 65 raised an error (recorded in the `errors` attribute of the result table): '17:53:29.2095 +37:55:45.9971': No astronomical object found :  \n",
      "  (error.line, error.msg))\n",
      "/home/lgutierrez/anaconda3/lib/python3.7/site-packages/astroquery/simbad/core.py:138: UserWarning: Warning: The script line number 75 raised an error (recorded in the `errors` attribute of the result table): '9:16:32.5578 +39:52:03.0939': No astronomical object found :  \n",
      "  (error.line, error.msg))\n",
      "/home/lgutierrez/anaconda3/lib/python3.7/site-packages/astroquery/simbad/core.py:138: UserWarning: Warning: The script line number 78 raised an error (recorded in the `errors` attribute of the result table): '12:28:48.1178 +43:13:48.7119': No astronomical object found :  \n",
      "  (error.line, error.msg))\n",
      "/home/lgutierrez/anaconda3/lib/python3.7/site-packages/astroquery/simbad/core.py:138: UserWarning: Warning: The script line number 80 raised an error (recorded in the `errors` attribute of the result table): '12:28:43.0261 +43:14:32.9546': No astronomical object found :  \n",
      "  (error.line, error.msg))\n"
     ]
    }
   ],
   "source": [
    "#Looking the objects of the table in Simbad and specifying the column wanted of Simbad \n",
    "customSimbad = Simbad()\n",
    "customSimbad.get_votable_fields()\n",
    "#customSimbad.list_votable_fields()\n",
    "customSimbad.add_votable_fields('sptype', 'otype','distance', \"velocity\", \"otypes\")\n",
    "customSimbad.add_votable_fields(\"uvby\")\n",
    "customSimbad.add_votable_fields('ra(d)', 'dec(d)')\n",
    "customSimbad.add_votable_fields('bibcodelist(1990-2020)')#, 'biblio')\n",
    "result_table = customSimbad.query_region(coord.SkyCoord(tab[\"RA\"], tab[\"Dec\"], \n",
    "                                                 unit=(u.deg, u.deg)), radius = 3.0 * u.arcsec) "
   ]
  },
  {
   "cell_type": "code",
   "execution_count": 153,
   "metadata": {},
   "outputs": [
    {
     "data": {
      "text/html": [
       "<i>Table length=135</i>\n",
       "<table id=\"table140103678732496\" class=\"table-striped table-bordered table-condensed\">\n",
       "<thead><tr><th>MAIN_ID</th><th>RA</th><th>DEC</th><th>RA_PREC</th><th>DEC_PREC</th><th>COO_ERR_MAJA</th><th>COO_ERR_MINA</th><th>COO_ERR_ANGLE</th><th>COO_QUAL</th><th>COO_WAVELENGTH</th><th>COO_BIBCODE</th><th>SP_TYPE</th><th>SP_QUAL</th><th>SP_BIBCODE</th><th>OTYPE</th><th>Distance_distance</th><th>Distance_Q</th><th>Distance_unit</th><th>Distance_merr</th><th>Distance_perr</th><th>Distance_method</th><th>Distance_bibcode</th><th>RVZ_TYPE</th><th>RVZ_RADVEL</th><th>RVZ_ERROR</th><th>RVZ_QUAL</th><th>RVZ_WAVELENGTH</th><th>RVZ_BIBCODE</th><th>OTYPES</th><th>RA_d</th><th>DEC_d</th><th>BIBLIST_1990_2020</th></tr></thead>\n",
       "<thead><tr><th></th><th>&quot;h:m:s&quot;</th><th>&quot;d:m:s&quot;</th><th></th><th></th><th>mas</th><th>mas</th><th>deg</th><th></th><th></th><th></th><th></th><th></th><th></th><th></th><th></th><th></th><th></th><th></th><th></th><th></th><th></th><th></th><th>km / s</th><th>km / s</th><th></th><th></th><th></th><th></th><th>deg</th><th>deg</th><th></th></tr></thead>\n",
       "<thead><tr><th>object</th><th>str13</th><th>str13</th><th>int16</th><th>int16</th><th>float32</th><th>float32</th><th>int16</th><th>str1</th><th>str1</th><th>object</th><th>object</th><th>str1</th><th>object</th><th>object</th><th>float64</th><th>str1</th><th>str4</th><th>float64</th><th>float64</th><th>str8</th><th>str19</th><th>str1</th><th>float64</th><th>float32</th><th>str1</th><th>str1</th><th>object</th><th>object</th><th>float64</th><th>float64</th><th>int32</th></tr></thead>\n",
       "<tr><td>[BKG2004] G44</td><td>01 05 01.78</td><td>+02 06 19.1</td><td>6</td><td>6</td><td>--</td><td>--</td><td>0</td><td>D</td><td></td><td>2004A&amp;A...413..889B</td><td></td><td></td><td></td><td>Assoc*</td><td>--</td><td></td><td></td><td>--</td><td>--</td><td></td><td></td><td></td><td>--</td><td>--</td><td></td><td></td><td></td><td>As*</td><td>16.25742000</td><td>2.10531000</td><td>3</td></tr>\n",
       "<tr><td>[SK76] J 46</td><td>01 05 01.72</td><td>+02 06 20.7</td><td>6</td><td>6</td><td>--</td><td>--</td><td>0</td><td>D</td><td></td><td>2007ApJ...671.2028B</td><td></td><td></td><td></td><td>Star</td><td>--</td><td></td><td></td><td>--</td><td>--</td><td></td><td></td><td></td><td>--</td><td>--</td><td></td><td></td><td></td><td>*</td><td>16.25717000</td><td>2.10575000</td><td>2</td></tr>\n",
       "<tr><td>[HLG90] 47</td><td>01 05 02</td><td>+02 08.9</td><td>4</td><td>4</td><td>--</td><td>--</td><td>0</td><td>E</td><td></td><td>1990PASP..102.1245H</td><td></td><td></td><td></td><td>HII</td><td>--</td><td></td><td></td><td>--</td><td>--</td><td></td><td></td><td></td><td>--</td><td>--</td><td></td><td></td><td></td><td>HII</td><td>16.25800000</td><td>2.14800000</td><td>2</td></tr>\n",
       "<tr><td>[HLG90] 40b</td><td>01 05 02</td><td>+02 08.9</td><td>4</td><td>4</td><td>--</td><td>--</td><td>0</td><td>E</td><td></td><td>1990PASP..102.1245H</td><td></td><td></td><td></td><td>HII</td><td>--</td><td></td><td></td><td>--</td><td>--</td><td></td><td></td><td></td><td>--</td><td>--</td><td></td><td></td><td></td><td>HII</td><td>16.25800000</td><td>2.14800000</td><td>2</td></tr>\n",
       "<tr><td>[AM85] IC 1613 8</td><td>01 05 02.5</td><td>+02 08 43</td><td>5</td><td>5</td><td>--</td><td>--</td><td>0</td><td>D</td><td></td><td></td><td>WN</td><td>D</td><td></td><td>WR*</td><td>--</td><td></td><td></td><td>--</td><td>--</td><td></td><td></td><td></td><td>--</td><td>--</td><td></td><td></td><td></td><td>Pe*|WR*</td><td>16.26040000</td><td>2.14530000</td><td>1</td></tr>\n",
       "<tr><td>[BKG2004] G10</td><td>01 05 00.59</td><td>+02 10 42.8</td><td>6</td><td>6</td><td>--</td><td>--</td><td>0</td><td>D</td><td></td><td>2004A&amp;A...413..889B</td><td></td><td></td><td></td><td>Assoc*</td><td>--</td><td></td><td></td><td>--</td><td>--</td><td></td><td></td><td></td><td>--</td><td>--</td><td></td><td></td><td></td><td>As*</td><td>16.25246000</td><td>2.17856000</td><td>5</td></tr>\n",
       "<tr><td>[GTK91b] 63</td><td>09 56 18.29</td><td>+68 49 41.4</td><td>6</td><td>6</td><td>--</td><td>--</td><td>0</td><td>D</td><td></td><td></td><td></td><td></td><td></td><td>GlCl?</td><td>--</td><td></td><td></td><td>--</td><td>--</td><td></td><td></td><td></td><td>--</td><td>--</td><td></td><td></td><td></td><td>Gl?</td><td>149.07621000</td><td>68.82817000</td><td>1</td></tr>\n",
       "<tr><td>RASSCALS SRGb013.052</td><td>22 53 42.3</td><td>+11 16 31</td><td>5</td><td>5</td><td>5000.000</td><td>5000.000</td><td>90</td><td>D</td><td></td><td>1990PNAOJ...1..181T</td><td></td><td></td><td></td><td>Galaxy</td><td>--</td><td></td><td></td><td>--</td><td>--</td><td></td><td></td><td>c</td><td>2242.000</td><td>17.000</td><td>D</td><td></td><td>2004ApJ...607..202M</td><td>GrG|G</td><td>343.42620000</td><td>11.27530000</td><td>3</td></tr>\n",
       "<tr><td>NGC  6742</td><td>18 59 20.030</td><td>+48 27 55.24</td><td>7</td><td>7</td><td>--</td><td>--</td><td>0</td><td>D</td><td></td><td>2003A&amp;A...408.1029K</td><td>O(H)III-V</td><td>E</td><td>2018A&amp;A...614A.135W</td><td>PN</td><td>5091.0000</td><td></td><td>pc</td><td>--</td><td>--</td><td></td><td>2008ApJ...689..194S</td><td>v</td><td>-159.000</td><td>--</td><td>D</td><td></td><td></td><td>PN|*</td><td>284.83345800</td><td>48.46534400</td><td>33</td></tr>\n",
       "<tr><td>...</td><td>...</td><td>...</td><td>...</td><td>...</td><td>...</td><td>...</td><td>...</td><td>...</td><td>...</td><td>...</td><td>...</td><td>...</td><td>...</td><td>...</td><td>...</td><td>...</td><td>...</td><td>...</td><td>...</td><td>...</td><td>...</td><td>...</td><td>...</td><td>...</td><td>...</td><td>...</td><td>...</td><td>...</td><td>...</td><td>...</td><td>...</td></tr>\n",
       "<tr><td>NGC  2363A</td><td>07 28 42.8</td><td>+69 11 21</td><td>5</td><td>5</td><td>--</td><td>--</td><td>0</td><td>D</td><td></td><td>2006ApJS..164...81M</td><td></td><td></td><td></td><td>HII</td><td>5.3000</td><td></td><td>Mpc</td><td>--</td><td>--</td><td></td><td>2000ApJ...529..786M</td><td></td><td>--</td><td>--</td><td></td><td></td><td></td><td>HII|G</td><td>112.17830000</td><td>69.18920000</td><td>430</td></tr>\n",
       "<tr><td>[CW2009] N2366-10</td><td>07 28 42.58</td><td>+69 11 22.0</td><td>6</td><td>6</td><td>--</td><td>--</td><td>0</td><td>D</td><td>R</td><td>2009AJ....137.3869C</td><td></td><td></td><td></td><td>HII</td><td>--</td><td></td><td></td><td>--</td><td>--</td><td></td><td></td><td></td><td>--</td><td>--</td><td></td><td></td><td></td><td>Cl*|HII|Rad</td><td>112.17742000</td><td>69.18944000</td><td>3</td></tr>\n",
       "<tr><td>[DRR2000] Cluster B</td><td>07 28 43.47</td><td>+69 11 22.7</td><td>6</td><td>6</td><td>--</td><td>--</td><td>0</td><td>D</td><td></td><td>2002AJ....123.1454B</td><td></td><td></td><td></td><td>Cl*</td><td>--</td><td></td><td></td><td>--</td><td>--</td><td></td><td></td><td></td><td>--</td><td>--</td><td></td><td></td><td></td><td>Cl*</td><td>112.18113000</td><td>69.18964000</td><td>8</td></tr>\n",
       "<tr><td>[DRR96] NGC 2363 V1</td><td>07 28 43.37</td><td>+69 11 23.9</td><td>6</td><td>6</td><td>--</td><td>--</td><td>0</td><td>D</td><td></td><td>1997ApJ...474L..35D</td><td></td><td></td><td></td><td>V*</td><td>--</td><td></td><td></td><td>--</td><td>--</td><td></td><td></td><td></td><td>--</td><td>--</td><td></td><td></td><td></td><td>V*</td><td>112.18071000</td><td>69.18997000</td><td>33</td></tr>\n",
       "<tr><td>[VH2006] UGC  2023 B -008+025</td><td>02 33 18.0</td><td>+33 29 54</td><td>5</td><td>5</td><td>--</td><td>--</td><td>0</td><td>D</td><td>O</td><td>2006ApJ...636..214V</td><td></td><td></td><td></td><td>HII</td><td>--</td><td></td><td></td><td>--</td><td>--</td><td></td><td></td><td></td><td>--</td><td>--</td><td></td><td></td><td></td><td>HII|HII</td><td>38.32500000</td><td>33.49830000</td><td>2</td></tr>\n",
       "<tr><td>UGC   993</td><td>01 25 34.1909</td><td>+07 59 24.711</td><td>14</td><td>14</td><td>3.109</td><td>3.300</td><td>90</td><td>C</td><td>O</td><td>2018yCat.1345....0G</td><td></td><td></td><td></td><td>HII_G</td><td>--</td><td></td><td></td><td>--</td><td>--</td><td></td><td></td><td>z</td><td>0.010</td><td>0.000</td><td>C</td><td>O</td><td>2011yCat.2306....0A</td><td>*|G|GiC|GiC|H2G</td><td>21.39246230</td><td>7.99019771</td><td>35</td></tr>\n",
       "<tr><td>SDSSCGB 222.4</td><td>14 09 02.5796</td><td>+48 00 46.734</td><td>14</td><td>14</td><td>2.038</td><td>2.263</td><td>90</td><td>C</td><td>O</td><td>2018yCat.1345....0G</td><td></td><td></td><td></td><td>Galaxy</td><td>--</td><td></td><td></td><td>--</td><td>--</td><td></td><td></td><td></td><td>--</td><td>--</td><td></td><td></td><td></td><td>*|G|GiG</td><td>212.26074842</td><td>48.01298178</td><td>1</td></tr>\n",
       "<tr><td>2MFGC 14518</td><td>18 39 31.340</td><td>+73 34 58.99</td><td>7</td><td>7</td><td>--</td><td>--</td><td>0</td><td>C</td><td>I</td><td>2006AJ....131.1163S</td><td></td><td></td><td></td><td>Galaxy</td><td>--</td><td></td><td></td><td>--</td><td>--</td><td></td><td></td><td></td><td>--</td><td>--</td><td></td><td></td><td></td><td>G</td><td>279.88058300</td><td>73.58305300</td><td>0</td></tr>\n",
       "<tr><td>MCG+08-19-016a</td><td>10 18 43.1</td><td>+46 03 01</td><td>5</td><td>5</td><td>3000.000</td><td>3000.000</td><td>90</td><td>D</td><td></td><td>1997NEDR....1....1P</td><td></td><td></td><td></td><td>PairG</td><td>--</td><td></td><td></td><td>--</td><td>--</td><td></td><td></td><td></td><td>--</td><td>--</td><td></td><td></td><td></td><td>PaG|IG|G</td><td>154.67960000</td><td>46.05030000</td><td>6</td></tr>\n",
       "<tr><td>LEDA 2790884</td><td>08 25 55.521</td><td>+35 32 31.96</td><td>7</td><td>7</td><td>7.000</td><td>7.000</td><td>90</td><td>C</td><td>O</td><td>2012ApJS..203...21A</td><td></td><td></td><td></td><td>BlueCompG</td><td>10.0000</td><td></td><td>Mpc</td><td>--</td><td>--</td><td></td><td>2007ApJS..173..185G</td><td>z</td><td>0.003</td><td>0.001</td><td>C</td><td>O</td><td>2009yCat.2294....0A</td><td>G|G|G|EmG|bCG</td><td>126.48133600</td><td>35.54221100</td><td>105</td></tr>\n",
       "</table>"
      ],
      "text/plain": [
       "<Table length=135>\n",
       "           MAIN_ID                  RA      ...    DEC_d     BIBLIST_1990_2020\n",
       "                                 \"h:m:s\"    ...     deg                       \n",
       "            object                str13     ...   float64          int32      \n",
       "----------------------------- ------------- ... ------------ -----------------\n",
       "                [BKG2004] G44   01 05 01.78 ...   2.10531000                 3\n",
       "                  [SK76] J 46   01 05 01.72 ...   2.10575000                 2\n",
       "                   [HLG90] 47      01 05 02 ...   2.14800000                 2\n",
       "                  [HLG90] 40b      01 05 02 ...   2.14800000                 2\n",
       "             [AM85] IC 1613 8    01 05 02.5 ...   2.14530000                 1\n",
       "                [BKG2004] G10   01 05 00.59 ...   2.17856000                 5\n",
       "                  [GTK91b] 63   09 56 18.29 ...  68.82817000                 1\n",
       "         RASSCALS SRGb013.052    22 53 42.3 ...  11.27530000                 3\n",
       "                    NGC  6742  18 59 20.030 ...  48.46534400                33\n",
       "                          ...           ... ...          ...               ...\n",
       "                   NGC  2363A    07 28 42.8 ...  69.18920000               430\n",
       "            [CW2009] N2366-10   07 28 42.58 ...  69.18944000                 3\n",
       "          [DRR2000] Cluster B   07 28 43.47 ...  69.18964000                 8\n",
       "          [DRR96] NGC 2363 V1   07 28 43.37 ...  69.18997000                33\n",
       "[VH2006] UGC  2023 B -008+025    02 33 18.0 ...  33.49830000                 2\n",
       "                    UGC   993 01 25 34.1909 ...   7.99019771                35\n",
       "                SDSSCGB 222.4 14 09 02.5796 ...  48.01298178                 1\n",
       "                  2MFGC 14518  18 39 31.340 ...  73.58305300                 0\n",
       "               MCG+08-19-016a    10 18 43.1 ...  46.05030000                 6\n",
       "                 LEDA 2790884  08 25 55.521 ...  35.54221100               105"
      ]
     },
     "execution_count": 153,
     "metadata": {},
     "output_type": "execute_result"
    }
   ],
   "source": [
    "result_table"
   ]
  },
  {
   "cell_type": "code",
   "execution_count": 154,
   "metadata": {},
   "outputs": [
    {
     "name": "stderr",
     "output_type": "stream",
     "text": [
      "WARNING: AstropyDeprecationWarning: ../JPLUS-DR2/aper6_mag_idr/Simbad-PN-pc-Halpha_emitters_threeerror-cleaning-limfilter-limcolor-flags-mask-broad.dat already exists. Automatically overwriting ASCII files is deprecated. Use the argument 'overwrite=True' in the future. [astropy.io.ascii.ui]\n"
     ]
    }
   ],
   "source": [
    "# Save the table result Simbad\n",
    "asciifile = \"../JPLUS-DR2/aper6_mag_idr/Simbad-PN-pc-Halpha_emitters_threeerror-cleaning-limfilter-limcolor-flags-mask-broad.dat\" \n",
    "result_table.write(asciifile, format=\"ascii\")  "
   ]
  },
  {
   "cell_type": "code",
   "execution_count": 155,
   "metadata": {},
   "outputs": [],
   "source": [
    "from astroquery.vizier import Vizier"
   ]
  },
  {
   "cell_type": "code",
   "execution_count": 156,
   "metadata": {},
   "outputs": [
    {
     "name": "stderr",
     "output_type": "stream",
     "text": [
      "WARNING: MergeConflictWarning: Cannot merge meta key 'null' types <class 'float'> and <class 'float'>, choosing null=nan [astropy.utils.metadata]\n"
     ]
    }
   ],
   "source": [
    "# Looking for the objects of tab in 2MASS through ViZier\n",
    "result_vizier_2mass = Vizier.query_region(coord.SkyCoord(ra=tab[\"RA\"], dec=tab[\"Dec\"],\n",
    "                                                        unit=(u.deg, u.deg),\n",
    "                                                                       frame='icrs'),\n",
    "                                                                           radius=5.0*u.arcsec,\n",
    "                                                                              catalog=[\"2MASS\"])"
   ]
  },
  {
   "cell_type": "code",
   "execution_count": 157,
   "metadata": {},
   "outputs": [
    {
     "data": {
      "text/plain": [
       "TableList with 3 tables:\n",
       "\t'0:II/246/out' with 16 column(s) and 13 row(s) \n",
       "\t'1:VII/233/xsc' with 14 column(s) and 4 row(s) \n",
       "\t'2:II/281/2mass6x' with 16 column(s) and 3 row(s) "
      ]
     },
     "execution_count": 157,
     "metadata": {},
     "output_type": "execute_result"
    }
   ],
   "source": [
    "# print the tables of 2mass that have the objects\n",
    "result_vizier_2mass"
   ]
  },
  {
   "cell_type": "code",
   "execution_count": 158,
   "metadata": {},
   "outputs": [
    {
     "data": {
      "text/html": [
       "<i>Table length=13</i>\n",
       "<table id=\"table140103676190416\" class=\"table-striped table-bordered table-condensed\">\n",
       "<thead><tr><th>_q</th><th>RAJ2000</th><th>DEJ2000</th><th>_2MASS</th><th>Jmag</th><th>e_Jmag</th><th>Hmag</th><th>e_Hmag</th><th>Kmag</th><th>e_Kmag</th><th>Qflg</th><th>Rflg</th><th>Bflg</th><th>Cflg</th><th>Xflg</th><th>Aflg</th></tr></thead>\n",
       "<thead><tr><th></th><th>deg</th><th>deg</th><th></th><th>mag</th><th>mag</th><th>mag</th><th>mag</th><th>mag</th><th>mag</th><th></th><th></th><th></th><th></th><th></th><th></th></tr></thead>\n",
       "<thead><tr><th>int32</th><th>float64</th><th>float64</th><th>bytes17</th><th>float32</th><th>float32</th><th>float32</th><th>float32</th><th>float32</th><th>float32</th><th>bytes3</th><th>bytes3</th><th>bytes3</th><th>bytes3</th><th>uint8</th><th>uint8</th></tr></thead>\n",
       "<tr><td>55</td><td>183.911343</td><td>36.327789</td><td>12153872+3619400</td><td>14.885</td><td>--</td><td>15.362</td><td>0.245</td><td>13.860</td><td>--</td><td>UDU</td><td>020</td><td>010</td><td>000</td><td>2</td><td>0</td></tr>\n",
       "<tr><td>55</td><td>183.913574</td><td>36.326923</td><td>12153925+3619369</td><td>14.337</td><td>--</td><td>13.752</td><td>--</td><td>14.404</td><td>0.147</td><td>UUB</td><td>002</td><td>001</td><td>000</td><td>2</td><td>0</td></tr>\n",
       "<tr><td>73</td><td>194.865700</td><td>27.636242</td><td>12592776+2738104</td><td>16.539</td><td>0.120</td><td>16.232</td><td>--</td><td>15.625</td><td>0.175</td><td>BUC</td><td>202</td><td>101</td><td>000</td><td>0</td><td>0</td></tr>\n",
       "<tr><td>79</td><td>131.065925</td><td>41.718742</td><td>08441582+4143074</td><td>16.278</td><td>0.111</td><td>15.460</td><td>--</td><td>15.206</td><td>--</td><td>BUU</td><td>200</td><td>100</td><td>000</td><td>0</td><td>0</td></tr>\n",
       "<tr><td>85</td><td>283.399962</td><td>33.022461</td><td>18533599+3301208</td><td>14.454</td><td>--</td><td>14.404</td><td>--</td><td>14.332</td><td>0.119</td><td>UUB</td><td>002</td><td>001</td><td>000</td><td>2</td><td>0</td></tr>\n",
       "<tr><td>127</td><td>211.046522</td><td>54.421646</td><td>14041116+5425179</td><td>16.803</td><td>0.175</td><td>15.709</td><td>--</td><td>14.789</td><td>--</td><td>CUU</td><td>200</td><td>100</td><td>000</td><td>0</td><td>0</td></tr>\n",
       "<tr><td>130</td><td>211.046522</td><td>54.421646</td><td>14041116+5425179</td><td>16.803</td><td>0.175</td><td>15.709</td><td>--</td><td>14.789</td><td>--</td><td>CUU</td><td>200</td><td>100</td><td>000</td><td>0</td><td>0</td></tr>\n",
       "<tr><td>145</td><td>211.121501</td><td>54.397858</td><td>14042916+5423522</td><td>16.422</td><td>0.157</td><td>14.944</td><td>--</td><td>14.701</td><td>--</td><td>CUU</td><td>260</td><td>200</td><td>c00</td><td>0</td><td>0</td></tr>\n",
       "<tr><td>145</td><td>211.122557</td><td>54.396355</td><td>14042941+5423468</td><td>15.897</td><td>0.106</td><td>15.703</td><td>0.180</td><td>15.071</td><td>0.144</td><td>ACB</td><td>222</td><td>111</td><td>000</td><td>0</td><td>0</td></tr>\n",
       "<tr><td>148</td><td>211.121501</td><td>54.397858</td><td>14042916+5423522</td><td>16.422</td><td>0.157</td><td>14.944</td><td>--</td><td>14.701</td><td>--</td><td>CUU</td><td>260</td><td>200</td><td>c00</td><td>0</td><td>0</td></tr>\n",
       "<tr><td>184</td><td>190.986095</td><td>32.170502</td><td>12435666+3210138</td><td>15.895</td><td>0.094</td><td>15.726</td><td>0.165</td><td>15.395</td><td>0.168</td><td>ACC</td><td>222</td><td>111</td><td>000</td><td>2</td><td>0</td></tr>\n",
       "<tr><td>199</td><td>112.181225</td><td>69.189766</td><td>07284349+6911231</td><td>15.881</td><td>0.118</td><td>14.880</td><td>--</td><td>14.122</td><td>--</td><td>BUU</td><td>200</td><td>100</td><td>c00</td><td>2</td><td>0</td></tr>\n",
       "<tr><td>199</td><td>112.178005</td><td>69.189308</td><td>07284272+6911215</td><td>15.361</td><td>0.101</td><td>15.245</td><td>0.169</td><td>14.628</td><td>0.125</td><td>ACB</td><td>222</td><td>111</td><td>000</td><td>2</td><td>0</td></tr>\n",
       "</table>"
      ],
      "text/plain": [
       "<Table length=13>\n",
       "  _q   RAJ2000    DEJ2000        _2MASS      ...  Bflg   Cflg   Xflg  Aflg\n",
       "         deg        deg                      ...                          \n",
       "int32  float64    float64       bytes17      ... bytes3 bytes3 uint8 uint8\n",
       "----- ---------- ---------- ---------------- ... ------ ------ ----- -----\n",
       "   55 183.911343  36.327789 12153872+3619400 ...    010    000     2     0\n",
       "   55 183.913574  36.326923 12153925+3619369 ...    001    000     2     0\n",
       "   73 194.865700  27.636242 12592776+2738104 ...    101    000     0     0\n",
       "   79 131.065925  41.718742 08441582+4143074 ...    100    000     0     0\n",
       "   85 283.399962  33.022461 18533599+3301208 ...    001    000     2     0\n",
       "  127 211.046522  54.421646 14041116+5425179 ...    100    000     0     0\n",
       "  130 211.046522  54.421646 14041116+5425179 ...    100    000     0     0\n",
       "  145 211.121501  54.397858 14042916+5423522 ...    200    c00     0     0\n",
       "  145 211.122557  54.396355 14042941+5423468 ...    111    000     0     0\n",
       "  148 211.121501  54.397858 14042916+5423522 ...    200    c00     0     0\n",
       "  184 190.986095  32.170502 12435666+3210138 ...    111    000     2     0\n",
       "  199 112.181225  69.189766 07284349+6911231 ...    100    c00     2     0\n",
       "  199 112.178005  69.189308 07284272+6911215 ...    111    000     2     0"
      ]
     },
     "execution_count": 158,
     "metadata": {},
     "output_type": "execute_result"
    }
   ],
   "source": [
    "result_vizier_2mass['II/246/out']"
   ]
  },
  {
   "cell_type": "code",
   "execution_count": 159,
   "metadata": {},
   "outputs": [
    {
     "name": "stderr",
     "output_type": "stream",
     "text": [
      "WARNING: AstropyDeprecationWarning: ../JPLUS-DR2/aper6_mag_idr/2MASS-PN-pc-Halpha_emitters_threeerror-cleaning-limfilter-limcolor-flags-mask-broad.dat already exists. Automatically overwriting ASCII files is deprecated. Use the argument 'overwrite=True' in the future. [astropy.io.ascii.ui]\n"
     ]
    }
   ],
   "source": [
    "# Save the table result 2MASS\n",
    "asciifile1 = \"../JPLUS-DR2/aper6_mag_idr/2MASS-PN-pc-Halpha_emitters_threeerror-cleaning-limfilter-limcolor-flags-mask-broad.dat\" \n",
    "result_vizier_2mass['II/246/out'].write(asciifile1, format=\"ascii\")  "
   ]
  },
  {
   "cell_type": "code",
   "execution_count": 160,
   "metadata": {},
   "outputs": [],
   "source": [
    "#Looking for the objects of tab in WISE through ViZier\n",
    "result_vizier_wise = Vizier.query_region(coord.SkyCoord(ra=tab[\"RA\"], dec=tab[\"Dec\"],\n",
    "                                                        unit=(u.deg, u.deg),\n",
    "                                                                       frame='icrs'),\n",
    "                                                                           radius=4.0*u.arcsec,\n",
    "                                                                              catalog=[\"allwise\"])"
   ]
  },
  {
   "cell_type": "code",
   "execution_count": 161,
   "metadata": {},
   "outputs": [
    {
     "data": {
      "text/plain": [
       "TableList with 1 tables:\n",
       "\t'0:II/328/allwise' with 29 column(s) and 55 row(s) "
      ]
     },
     "execution_count": 161,
     "metadata": {},
     "output_type": "execute_result"
    }
   ],
   "source": [
    "result_vizier_wise"
   ]
  },
  {
   "cell_type": "code",
   "execution_count": 162,
   "metadata": {},
   "outputs": [
    {
     "data": {
      "text/html": [
       "<i>Table length=55</i>\n",
       "<table id=\"table140103679071632\" class=\"table-striped table-bordered table-condensed\">\n",
       "<thead><tr><th>_q</th><th>AllWISE</th><th>RAJ2000</th><th>DEJ2000</th><th>Im</th><th>W1mag</th><th>e_W1mag</th><th>W2mag</th><th>e_W2mag</th><th>W3mag</th><th>e_W3mag</th><th>W4mag</th><th>e_W4mag</th><th>Jmag</th><th>e_Jmag</th><th>Hmag</th><th>e_Hmag</th><th>Kmag</th><th>e_Kmag</th><th>ccf</th><th>ex</th><th>var</th><th>pmRA</th><th>e_pmRA</th><th>pmDE</th><th>e_pmDE</th><th>qph</th><th>d2M</th><th>_2M</th></tr></thead>\n",
       "<thead><tr><th></th><th></th><th>deg</th><th>deg</th><th></th><th>mag</th><th>mag</th><th>mag</th><th>mag</th><th>mag</th><th>mag</th><th>mag</th><th>mag</th><th>mag</th><th>mag</th><th>mag</th><th>mag</th><th>mag</th><th>mag</th><th></th><th></th><th></th><th>mas / yr</th><th>mas / yr</th><th>mas / yr</th><th>mas / yr</th><th></th><th>arcsec</th><th></th></tr></thead>\n",
       "<thead><tr><th>int32</th><th>bytes19</th><th>float64</th><th>float64</th><th>bytes2</th><th>float32</th><th>float32</th><th>float32</th><th>float32</th><th>float32</th><th>float32</th><th>float32</th><th>float32</th><th>float32</th><th>float32</th><th>float32</th><th>float32</th><th>float32</th><th>float32</th><th>bytes4</th><th>uint8</th><th>bytes4</th><th>int32</th><th>int32</th><th>int32</th><th>int32</th><th>bytes4</th><th>float32</th><th>bytes2</th></tr></thead>\n",
       "<tr><td>2</td><td>J010505.38+020919.8</td><td>16.2724301</td><td>2.1555059</td><td>Im</td><td>17.327</td><td>0.175</td><td>16.260</td><td>0.226</td><td>12.499</td><td>--</td><td>8.914</td><td>--</td><td>--</td><td>--</td><td>--</td><td>--</td><td>--</td><td>--</td><td>0000</td><td>0</td><td>nnnn</td><td>7962</td><td>2067</td><td>-357</td><td>2027</td><td>BBUU</td><td>--</td><td>2M</td></tr>\n",
       "<tr><td>3</td><td>J010501.96+020850.7</td><td>16.2581764</td><td>2.1474324</td><td>Im</td><td>15.938</td><td>0.062</td><td>14.919</td><td>0.076</td><td>10.783</td><td>0.114</td><td>7.151</td><td>0.125</td><td>--</td><td>--</td><td>--</td><td>--</td><td>--</td><td>--</td><td>0000</td><td>0</td><td>0000</td><td>622</td><td>560</td><td>123</td><td>591</td><td>AABB</td><td>--</td><td>2M</td></tr>\n",
       "<tr><td>8</td><td>J073657.03+653950.1</td><td>114.2376269</td><td>65.6639169</td><td>Im</td><td>16.090</td><td>0.056</td><td>16.295</td><td>0.230</td><td>12.494</td><td>--</td><td>8.647</td><td>--</td><td>--</td><td>--</td><td>--</td><td>--</td><td>--</td><td>--</td><td>0000</td><td>2</td><td>0nnn</td><td>-496</td><td>500</td><td>-20</td><td>552</td><td>ABUU</td><td>--</td><td>2M</td></tr>\n",
       "<tr><td>9</td><td>J073551.83+653502.1</td><td>113.9659975</td><td>65.5839310</td><td>Im</td><td>17.547</td><td>0.158</td><td>16.667</td><td>0.249</td><td>11.938</td><td>--</td><td>8.653</td><td>--</td><td>--</td><td>--</td><td>--</td><td>--</td><td>--</td><td>--</td><td>0000</td><td>0</td><td>nnnn</td><td>-451</td><td>1842</td><td>696</td><td>2024</td><td>BBUU</td><td>--</td><td>2M</td></tr>\n",
       "<tr><td>10</td><td>J095618.27+684943.2</td><td>149.0761492</td><td>68.8286722</td><td>Im</td><td>16.277</td><td>0.053</td><td>15.518</td><td>0.083</td><td>10.945</td><td>0.101</td><td>8.593</td><td>0.301</td><td>--</td><td>--</td><td>--</td><td>--</td><td>--</td><td>--</td><td>0000</td><td>2</td><td>0n0n</td><td>27</td><td>493</td><td>-78</td><td>528</td><td>AAAB</td><td>--</td><td>2M</td></tr>\n",
       "<tr><td>11</td><td>J225342.37+111630.2</td><td>343.4265456</td><td>11.2750828</td><td>Im</td><td>14.994</td><td>0.037</td><td>14.144</td><td>0.043</td><td>9.075</td><td>0.030</td><td>5.830</td><td>0.048</td><td>--</td><td>--</td><td>--</td><td>--</td><td>--</td><td>--</td><td>0000</td><td>0</td><td>nnnn</td><td>-2363</td><td>222</td><td>-561</td><td>231</td><td>AAAA</td><td>--</td><td>2M</td></tr>\n",
       "<tr><td>12</td><td>J121610.35+693327.3</td><td>184.0431426</td><td>69.5575983</td><td>Im</td><td>16.520</td><td>0.059</td><td>15.846</td><td>0.101</td><td>12.460</td><td>0.319</td><td>8.670</td><td>0.293</td><td>--</td><td>--</td><td>--</td><td>--</td><td>--</td><td>--</td><td>0000</td><td>0</td><td>0nnn</td><td>611</td><td>598</td><td>1329</td><td>603</td><td>AABB</td><td>--</td><td>2M</td></tr>\n",
       "<tr><td>13</td><td>J121627.59+692443.3</td><td>184.1149591</td><td>69.4120439</td><td>Im</td><td>16.119</td><td>0.052</td><td>15.728</td><td>0.095</td><td>12.110</td><td>0.240</td><td>8.952</td><td>--</td><td>--</td><td>--</td><td>--</td><td>--</td><td>--</td><td>--</td><td>0000</td><td>0</td><td>0nnn</td><td>-107</td><td>462</td><td>-343</td><td>465</td><td>AABU</td><td>--</td><td>2M</td></tr>\n",
       "<tr><td>15</td><td>J185920.03+482756.0</td><td>284.8334861</td><td>48.4655744</td><td>Im</td><td>15.870</td><td>0.061</td><td>14.512</td><td>0.040</td><td>9.859</td><td>0.035</td><td>6.001</td><td>0.039</td><td>--</td><td>--</td><td>--</td><td>--</td><td>--</td><td>--</td><td>0000</td><td>0</td><td>1100</td><td>1650</td><td>200</td><td>1986</td><td>210</td><td>AAAA</td><td>--</td><td>2M</td></tr>\n",
       "<tr><td>...</td><td>...</td><td>...</td><td>...</td><td>...</td><td>...</td><td>...</td><td>...</td><td>...</td><td>...</td><td>...</td><td>...</td><td>...</td><td>...</td><td>...</td><td>...</td><td>...</td><td>...</td><td>...</td><td>...</td><td>...</td><td>...</td><td>...</td><td>...</td><td>...</td><td>...</td><td>...</td><td>...</td><td>...</td></tr>\n",
       "<tr><td>67</td><td>J072842.80+691121.6</td><td>112.1783652</td><td>69.1893514</td><td>Im</td><td>12.722</td><td>0.024</td><td>11.578</td><td>0.022</td><td>6.264</td><td>0.013</td><td>2.950</td><td>0.027</td><td>15.361</td><td>0.101</td><td>15.245</td><td>0.169</td><td>14.628</td><td>0.125</td><td>0000</td><td>3</td><td>00nn</td><td>1067</td><td>42</td><td>-450</td><td>43</td><td>AAAA</td><td>0.486</td><td>2M</td></tr>\n",
       "<tr><td>68</td><td>J023317.94+332953.0</td><td>38.3247762</td><td>33.4980768</td><td>Im</td><td>15.265</td><td>0.040</td><td>14.884</td><td>0.066</td><td>10.664</td><td>0.096</td><td>7.253</td><td>0.138</td><td>--</td><td>--</td><td>--</td><td>--</td><td>--</td><td>--</td><td>0000</td><td>0</td><td>0110</td><td>42</td><td>342</td><td>-36</td><td>341</td><td>AAAB</td><td>--</td><td>2M</td></tr>\n",
       "<tr><td>70</td><td>J012534.23+075922.3</td><td>21.3926605</td><td>7.9895411</td><td>Im</td><td>15.485</td><td>0.042</td><td>14.798</td><td>0.070</td><td>10.254</td><td>0.064</td><td>6.659</td><td>0.070</td><td>--</td><td>--</td><td>--</td><td>--</td><td>--</td><td>--</td><td>0000</td><td>0</td><td>0000</td><td>240</td><td>250</td><td>-1409</td><td>264</td><td>AAAA</td><td>--</td><td>2M</td></tr>\n",
       "<tr><td>72</td><td>J183931.53+733457.3</td><td>279.8813781</td><td>73.5825918</td><td>Im</td><td>13.882</td><td>0.025</td><td>13.382</td><td>0.025</td><td>8.770</td><td>0.021</td><td>5.340</td><td>0.033</td><td>--</td><td>--</td><td>--</td><td>--</td><td>--</td><td>--</td><td>0000</td><td>5</td><td>1100</td><td>0</td><td>41</td><td>0</td><td>43</td><td>AAAA</td><td>--</td><td>2M</td></tr>\n",
       "<tr><td>73</td><td>J091632.65+395202.6</td><td>139.1360449</td><td>39.8673991</td><td>Im</td><td>15.463</td><td>0.051</td><td>14.693</td><td>0.060</td><td>9.960</td><td>0.051</td><td>6.408</td><td>0.065</td><td>--</td><td>--</td><td>--</td><td>--</td><td>--</td><td>--</td><td>0000</td><td>2</td><td>0000</td><td>607</td><td>366</td><td>185</td><td>400</td><td>AAAA</td><td>--</td><td>2M</td></tr>\n",
       "<tr><td>75</td><td>J101843.13+460302.7</td><td>154.6797180</td><td>46.0507632</td><td>Im</td><td>15.192</td><td>0.035</td><td>14.444</td><td>0.048</td><td>10.039</td><td>0.051</td><td>6.541</td><td>0.065</td><td>--</td><td>--</td><td>--</td><td>--</td><td>--</td><td>--</td><td>0000</td><td>0</td><td>0000</td><td>-390</td><td>258</td><td>-350</td><td>270</td><td>AAAA</td><td>--</td><td>2M</td></tr>\n",
       "<tr><td>77</td><td>J122846.57+431346.3</td><td>187.1940758</td><td>43.2295292</td><td>Im</td><td>16.252</td><td>0.060</td><td>15.594</td><td>0.104</td><td>12.099</td><td>0.313</td><td>8.303</td><td>0.252</td><td>--</td><td>--</td><td>--</td><td>--</td><td>--</td><td>--</td><td>0000</td><td>0</td><td>1nnn</td><td>58</td><td>603</td><td>94</td><td>648</td><td>AABB</td><td>--</td><td>2M</td></tr>\n",
       "<tr><td>78</td><td>J122843.03+431433.4</td><td>187.1792955</td><td>43.2426204</td><td>Im</td><td>17.142</td><td>0.120</td><td>16.656</td><td>0.263</td><td>12.208</td><td>--</td><td>8.944</td><td>--</td><td>--</td><td>--</td><td>--</td><td>--</td><td>--</td><td>--</td><td>0000</td><td>0</td><td>nnnn</td><td>1499</td><td>1382</td><td>1343</td><td>1486</td><td>BBUU</td><td>--</td><td>2M</td></tr>\n",
       "<tr><td>79</td><td>J082555.51+353233.0</td><td>126.4813056</td><td>35.5425187</td><td>Im</td><td>16.145</td><td>0.064</td><td>15.738</td><td>0.143</td><td>12.353</td><td>0.470</td><td>8.256</td><td>0.300</td><td>--</td><td>--</td><td>--</td><td>--</td><td>--</td><td>--</td><td>0000</td><td>0</td><td>0nnn</td><td>863</td><td>619</td><td>1789</td><td>690</td><td>ABCB</td><td>--</td><td>2M</td></tr>\n",
       "<tr><td>80</td><td>J144411.57+423735.6</td><td>221.0482407</td><td>42.6265579</td><td>Im</td><td>15.722</td><td>0.040</td><td>15.251</td><td>0.074</td><td>11.604</td><td>0.170</td><td>8.071</td><td>0.166</td><td>--</td><td>--</td><td>--</td><td>--</td><td>--</td><td>--</td><td>0000</td><td>0</td><td>00nn</td><td>0</td><td>268</td><td>0</td><td>281</td><td>AABB</td><td>--</td><td>2M</td></tr>\n",
       "</table>"
      ],
      "text/plain": [
       "<Table length=55>\n",
       "  _q        AllWISE         RAJ2000     DEJ2000   ...  qph     d2M    _2M  \n",
       "                              deg         deg     ...         arcsec       \n",
       "int32       bytes19         float64     float64   ... bytes4 float32 bytes2\n",
       "----- ------------------- ----------- ----------- ... ------ ------- ------\n",
       "    2 J010505.38+020919.8  16.2724301   2.1555059 ...   BBUU      --     2M\n",
       "    3 J010501.96+020850.7  16.2581764   2.1474324 ...   AABB      --     2M\n",
       "    8 J073657.03+653950.1 114.2376269  65.6639169 ...   ABUU      --     2M\n",
       "    9 J073551.83+653502.1 113.9659975  65.5839310 ...   BBUU      --     2M\n",
       "   10 J095618.27+684943.2 149.0761492  68.8286722 ...   AAAB      --     2M\n",
       "   11 J225342.37+111630.2 343.4265456  11.2750828 ...   AAAA      --     2M\n",
       "   12 J121610.35+693327.3 184.0431426  69.5575983 ...   AABB      --     2M\n",
       "   13 J121627.59+692443.3 184.1149591  69.4120439 ...   AABU      --     2M\n",
       "   15 J185920.03+482756.0 284.8334861  48.4655744 ...   AAAA      --     2M\n",
       "  ...                 ...         ...         ... ...    ...     ...    ...\n",
       "   67 J072842.80+691121.6 112.1783652  69.1893514 ...   AAAA   0.486     2M\n",
       "   68 J023317.94+332953.0  38.3247762  33.4980768 ...   AAAB      --     2M\n",
       "   70 J012534.23+075922.3  21.3926605   7.9895411 ...   AAAA      --     2M\n",
       "   72 J183931.53+733457.3 279.8813781  73.5825918 ...   AAAA      --     2M\n",
       "   73 J091632.65+395202.6 139.1360449  39.8673991 ...   AAAA      --     2M\n",
       "   75 J101843.13+460302.7 154.6797180  46.0507632 ...   AAAA      --     2M\n",
       "   77 J122846.57+431346.3 187.1940758  43.2295292 ...   AABB      --     2M\n",
       "   78 J122843.03+431433.4 187.1792955  43.2426204 ...   BBUU      --     2M\n",
       "   79 J082555.51+353233.0 126.4813056  35.5425187 ...   ABCB      --     2M\n",
       "   80 J144411.57+423735.6 221.0482407  42.6265579 ...   AABB      --     2M"
      ]
     },
     "execution_count": 162,
     "metadata": {},
     "output_type": "execute_result"
    }
   ],
   "source": [
    "result_vizier_wise['II/328/allwise']"
   ]
  },
  {
   "cell_type": "code",
   "execution_count": 163,
   "metadata": {},
   "outputs": [
    {
     "name": "stderr",
     "output_type": "stream",
     "text": [
      "WARNING: AstropyDeprecationWarning: ../JPLUS-DR2/aper6_mag_idr/WISE-PN-pc-Halpha_emitters_threeerror-cleaning-limfilter-limcolor-flags-mask-broad.dat already exists. Automatically overwriting ASCII files is deprecated. Use the argument 'overwrite=True' in the future. [astropy.io.ascii.ui]\n"
     ]
    }
   ],
   "source": [
    "# Save the table result WISE\n",
    "asciifile2 = \"../JPLUS-DR2/aper6_mag_idr/WISE-PN-pc-Halpha_emitters_threeerror-cleaning-limfilter-limcolor-flags-mask-broad.dat\" \n",
    "result_vizier_wise['II/328/allwise'].write(asciifile2, format=\"ascii\")  "
   ]
  },
  {
   "cell_type": "code",
   "execution_count": null,
   "metadata": {},
   "outputs": [],
   "source": []
  },
  {
   "cell_type": "code",
   "execution_count": null,
   "metadata": {},
   "outputs": [],
   "source": []
  },
  {
   "cell_type": "code",
   "execution_count": null,
   "metadata": {},
   "outputs": [],
   "source": []
  }
 ],
 "metadata": {
  "kernelspec": {
   "display_name": "Python 3",
   "language": "python",
   "name": "python3"
  },
  "language_info": {
   "codemirror_mode": {
    "name": "ipython",
    "version": 3
   },
   "file_extension": ".py",
   "mimetype": "text/x-python",
   "name": "python",
   "nbconvert_exporter": "python",
   "pygments_lexer": "ipython3",
   "version": "3.7.4"
  }
 },
 "nbformat": 4,
 "nbformat_minor": 2
}
