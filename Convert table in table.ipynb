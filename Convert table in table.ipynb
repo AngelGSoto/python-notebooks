{
 "cells": [
  {
   "cell_type": "code",
   "execution_count": 1,
   "metadata": {},
   "outputs": [],
   "source": [
    "from astroquery.simbad import Simbad\n",
    "import astropy.coordinates as coord\n",
    "import astropy.units as u\n",
    "from astropy.io import ascii\n",
    "from astropy.table import Table\n",
    "from astropy.coordinates import SkyCoord \n",
    "import numpy as np\n",
    "from pathlib import Path\n",
    "from astropy.table import Column"
   ]
  },
  {
   "cell_type": "code",
   "execution_count": 2,
   "metadata": {},
   "outputs": [],
   "source": [
    "ROOT_PATH = Path(\"..\") # necessary since we are in the `notebooks/` sub-folder"
   ]
  },
  {
   "cell_type": "code",
   "execution_count": 3,
   "metadata": {},
   "outputs": [],
   "source": [
    "table = Table.read(ROOT_PATH / \"JPLUS-DR2/aper6_mag_idr/Missing-pne-allinf.tab\", format=\"ascii.tab\")"
   ]
  },
  {
   "cell_type": "code",
   "execution_count": 4,
   "metadata": {},
   "outputs": [
    {
     "data": {
      "text/html": [
       "<i>Table length=4</i>\n",
       "<table id=\"table140354779956368\" class=\"table-striped table-bordered table-condensed\">\n",
       "<thead><tr><th>Tile</th><th>Number</th><th>RA</th><th>Dec</th><th>petro_radius</th><th>kron_radius</th><th>rSDSS_auto</th><th>gSDSS_auto</th><th>iSDSS_auto</th><th>zSDSS_auto</th><th>uJAVA_auto</th><th>J0378_auto</th><th>J0395_auto</th><th>J0410_auto</th><th>J0430_auto</th><th>J0515_auto</th><th>J0660_auto</th><th>J0861_auto</th><th>rSDSS_PETRO</th><th>gSDSS_PETRO</th><th>iSDSS_PETRO</th><th>zSDSS_PETRO</th><th>uJAVA_PETRO</th><th>J0378_PETRO</th><th>J0395_PETRO</th><th>J0410_PETRO</th><th>J0430_PETRO</th><th>J0515_PETRO</th><th>J0660_PETRO</th><th>J0861_PETRO</th><th>rSDSS_MAG_APER_6_0</th><th>gSDSS_MAG_APER_6_0</th><th>iSDSS_MAG_APER_6_0</th><th>zSDSS_MAG_APER_6_0</th><th>uJAVA_MAG_APER_6_0</th><th>J0378_MAG_APER_6_0</th><th>J0395_MAG_APER_6_0</th><th>J0410_MAG_APER_6_0</th><th>J0430_MAG_APER_6_0</th><th>J0515_MAG_APER_6_0</th><th>J0660_MAG_APER_6_0</th><th>J0861_MAG_APER_6_0</th><th>rSDSS_auto_err</th><th>gSDSS_auto_err</th><th>iSDSS_auto_err</th><th>zSDSS_auto_err</th><th>uJAVA_auto_err</th><th>J0378_auto_err</th><th>J0395_auto_err</th><th>J0410_auto_err</th><th>J0430_auto_err</th><th>J0515_auto_err</th><th>J0660_auto_err</th><th>J0861_auto_err</th><th>rSDSS_PETRO_err</th><th>gSDSS_PETRO_err</th><th>iSDSS_PETRO_err</th><th>zSDSS_PETRO_err</th><th>uJAVA_PETRO_err</th><th>J0378_PETRO_err</th><th>J0395_PETRO_err</th><th>J0410_PETRO_err</th><th>J0430_PETRO_err</th><th>J0515_PETRO_err</th><th>J0660_PETRO_err</th><th>J0861_PETRO_err</th><th>rSDSS_MAG_APER_6_0_err</th><th>gSDSS_MAG_APER_6_0_err</th><th>iSDSS_MAG_APER_6_0_err</th><th>zSDSS_MAG_APER_6_0_err</th><th>uJAVA_MAG_APER_6_0_err</th><th>J0378_MAG_APER_6_0_err</th><th>J0395_MAG_APER_6_0_err</th><th>J0410_MAG_APER_6_0_err</th><th>J0430_MAG_APER_6_0_err</th><th>J0515_MAG_APER_6_0_err</th><th>J0660_MAG_APER_6_0_err</th><th>J0861_MAG_APER_6_0_err</th></tr></thead>\n",
       "<thead><tr><th>int64</th><th>int64</th><th>float64</th><th>float64</th><th>float64</th><th>float64</th><th>str10</th><th>float64</th><th>float64</th><th>float64</th><th>float64</th><th>float64</th><th>float64</th><th>float64</th><th>float64</th><th>float64</th><th>float64</th><th>str11</th><th>str10</th><th>float64</th><th>float64</th><th>float64</th><th>float64</th><th>float64</th><th>float64</th><th>float64</th><th>float64</th><th>float64</th><th>float64</th><th>str11</th><th>str10</th><th>float64</th><th>float64</th><th>float64</th><th>float64</th><th>float64</th><th>float64</th><th>float64</th><th>float64</th><th>float64</th><th>float64</th><th>str11</th><th>str13</th><th>float64</th><th>float64</th><th>float64</th><th>float64</th><th>float64</th><th>float64</th><th>float64</th><th>float64</th><th>float64</th><th>float64</th><th>str13</th><th>str13</th><th>float64</th><th>float64</th><th>float64</th><th>float64</th><th>float64</th><th>float64</th><th>float64</th><th>float64</th><th>float64</th><th>float64</th><th>str13</th><th>str13</th><th>float64</th><th>float64</th><th>float64</th><th>float64</th><th>float64</th><th>float64</th><th>float64</th><th>float64</th><th>float64</th><th>float64</th><th>str12</th></tr></thead>\n",
       "<tr><td>64343</td><td>69243</td><td>283.691209073</td><td>36.5033272036</td><td>7.919999</td><td>5.1361165</td><td>(17.926868</td><td>17.733597</td><td>18.568626</td><td>19.014164</td><td>17.622545</td><td>17.605314</td><td>17.71624</td><td>17.667084</td><td>17.894741</td><td>18.19484</td><td>16.135216</td><td>18.462416)</td><td>(17.891119</td><td>17.689835</td><td>18.526302</td><td>20.225199</td><td>17.585571</td><td>17.650843</td><td>17.71001</td><td>17.450022</td><td>17.615435</td><td>18.379433</td><td>16.096375</td><td>18.361412)</td><td>(18.783304</td><td>18.421556</td><td>19.130116</td><td>19.499638</td><td>17.975056</td><td>18.211712</td><td>18.163765</td><td>18.29538</td><td>18.376719</td><td>18.614828</td><td>17.941622</td><td>19.141472)</td><td>(0.074882925</td><td>0.08541955</td><td>0.19416547</td><td>0.83497775</td><td>0.123324886</td><td>0.13114452</td><td>0.15572998</td><td>0.113914825</td><td>0.12842754</td><td>0.17415251</td><td>0.027020808</td><td>0.36686006)</td><td>(0.12471652</td><td>0.13319883</td><td>0.3244485</td><td>4.2899303</td><td>0.18647836</td><td>0.21497364</td><td>0.24201101</td><td>0.14724767</td><td>0.15732041</td><td>0.3369069</td><td>0.042676643</td><td>0.55930257)</td><td>(0.03740833</td><td>0.040721733</td><td>0.069846556</td><td>0.28786853</td><td>0.047878686</td><td>0.061894383</td><td>0.06374989</td><td>0.054273553</td><td>0.053246398</td><td>0.06411436</td><td>0.036381174</td><td>0.15413955)</td></tr>\n",
       "<tr><td>70242</td><td>18193</td><td>269.639259102</td><td>66.6331301651</td><td>3.96</td><td>3.5</td><td>(8.832487</td><td>8.246782</td><td>9.779648</td><td>9.460571</td><td>9.264965</td><td>9.317766</td><td>9.208416</td><td>9.749533</td><td>9.42865</td><td>10.293161</td><td>6.4762363</td><td>10.352276)</td><td>(8.829634</td><td>8.243561</td><td>9.776966</td><td>9.457508</td><td>9.260805</td><td>9.314352</td><td>9.205067</td><td>9.74696</td><td>9.42602</td><td>10.290665</td><td>6.473688</td><td>10.349293)</td><td>(11.013781</td><td>10.43</td><td>11.6696</td><td>11.6012335</td><td>10.664188</td><td>10.769381</td><td>10.714697</td><td>10.929007</td><td>10.880748</td><td>11.293927</td><td>9.172888</td><td>11.863506)</td><td>(1.6178729E-4</td><td>0.00014871488</td><td>0.00022585507</td><td>0.00030726643</td><td>0.00043747283</td><td>0.00046905372</td><td>0.00045067468</td><td>0.00048743276</td><td>0.0004038211</td><td>0.00060158985</td><td>0.00011402769</td><td>6...</td><td>(1.6282273E-4</td><td>0.00014871488</td><td>0.00023129111</td><td>0.00031813854</td><td>0.0004398026</td><td>0.0004711246</td><td>0.00045274556</td><td>0.0004907979</td><td>0.00040615082</td><td>0.0006093557</td><td>0.00011402769</td><td>6.97...</td><td>(4.5818163E-4</td><td>0.00045274556</td><td>0.0005513711</td><td>0.00080246496</td><td>0.00086510903</td><td>0.0009489796</td><td>0.0009422492</td><td>0.0008599318</td><td>0.00082213833</td><td>0.0009489796</td><td>0.00038440662</td><td>0.001...</td></tr>\n",
       "<tr><td>65251</td><td>18195</td><td>285.11059984</td><td>38.3520055081</td><td>3.5</td><td>3.5</td><td>(14.249354</td><td>14.015384</td><td>15.048712</td><td>15.093371</td><td>14.8802</td><td>14.739664</td><td>14.968451</td><td>15.251929</td><td>14.932913</td><td>15.576821</td><td>12.151668</td><td>15.30015)</td><td>(14.249354</td><td>14.015384</td><td>15.048712</td><td>15.093371</td><td>14.8802</td><td>14.739664</td><td>14.968451</td><td>15.251929</td><td>14.932913</td><td>15.576821</td><td>12.151668</td><td>15.30015)</td><td>(14.369451</td><td>14.112315</td><td>15.249701</td><td>15.383348</td><td>14.963175</td><td>14.812332</td><td>15.05442</td><td>15.3593445</td><td>15.020587</td><td>15.715648</td><td>12.232513</td><td>15.597014)</td><td>(0.0020719129</td><td>0.0019466247</td><td>0.010163866</td><td>0.0062540495</td><td>0.00908701</td><td>0.009691706</td><td>0.0113898255</td><td>0.013087945</td><td>0.009766257</td><td>0.01635993</td><td>0.001529343</td><td>0.009136711)</td><td>(0.0020719129</td><td>0.0019466247</td><td>0.010163866</td><td>0.0062540495</td><td>0.00908701</td><td>0.009691706</td><td>0.0113898255</td><td>0.013087945</td><td>0.009766257</td><td>0.01635993</td><td>0.001529343</td><td>0.009136711)</td><td>(0.001536591</td><td>0.0016950131</td><td>0.005810882</td><td>0.0027128493</td><td>0.0065439725</td><td>0.006925014</td><td>0.0077947825</td><td>0.008498881</td><td>0.006792478</td><td>0.0097248405</td><td>0.0014993153</td><td>0.004...</td></tr>\n",
       "<tr><td>65750</td><td>23821</td><td>241.11060562</td><td>40.68301404</td><td>3.5</td><td>3.5</td><td>(13.481384</td><td>12.716546</td><td>14.128983</td><td>14.364841</td><td>12.874739</td><td>13.005023</td><td>12.982017</td><td>13.131762</td><td>13.116795</td><td>13.534744</td><td>12.099852</td><td>14.408803)</td><td>(13.481384</td><td>12.716546</td><td>14.128983</td><td>14.364841</td><td>12.874739</td><td>13.005023</td><td>12.982017</td><td>13.131762</td><td>13.116795</td><td>13.534744</td><td>12.099852</td><td>14.408803)</td><td>(14.092498</td><td>13.56391</td><td>14.520056</td><td>14.850895</td><td>13.109442</td><td>13.245087</td><td>13.32108</td><td>13.33432</td><td>13.437599</td><td>13.765971</td><td>14.022703</td><td>14.793478)</td><td>(0.0016794816</td><td>0.0012735896</td><td>0.0032844115</td><td>0.0088882055</td><td>0.0027853302</td><td>0.0031870804</td><td>0.0032512774</td><td>0.003276128</td><td>0.0026134471</td><td>0.003344467</td><td>0.0012860148</td><td>0....</td><td>(0.0016794816</td><td>0.0012735896</td><td>0.0032844115</td><td>0.0088882055</td><td>0.0027853302</td><td>0.0031870804</td><td>0.0032512774</td><td>0.003276128</td><td>0.0026134471</td><td>0.003344467</td><td>0.0012860148</td><td>0....</td><td>(0.0016608436</td><td>0.0017219345</td><td>0.002001503</td><td>0.0042660073</td><td>0.0026134471</td><td>0.0029427167</td><td>0.0031663715</td><td>0.002888874</td><td>0.0025285413</td><td>0.0028350311</td><td>0.002957213</td><td>0.0...</td></tr>\n",
       "</table>"
      ],
      "text/plain": [
       "<Table length=4>\n",
       " Tile Number       RA      ... J0660_MAG_APER_6_0_err J0861_MAG_APER_6_0_err\n",
       "int64 int64     float64    ...        float64                 str12         \n",
       "----- ------ ------------- ... ---------------------- ----------------------\n",
       "64343  69243 283.691209073 ...            0.036381174            0.15413955)\n",
       "70242  18193 269.639259102 ...          0.00038440662               0.001...\n",
       "65251  18195  285.11059984 ...           0.0014993153               0.004...\n",
       "65750  23821  241.11060562 ...            0.002957213                 0.0..."
      ]
     },
     "execution_count": 4,
     "metadata": {},
     "output_type": "execute_result"
    }
   ],
   "source": [
    "table"
   ]
  },
  {
   "cell_type": "code",
   "execution_count": 5,
   "metadata": {},
   "outputs": [],
   "source": [
    "r_auto = [i.split('(')[1] for i in table['rSDSS_auto']]\n",
    "r_petro = [i.split('(')[1] for i in table['rSDSS_PETRO']]\n",
    "r_MAG_APER_6_0 = [i.split('(')[1] for i in table['rSDSS_MAG_APER_6_0']]\n",
    "r_auto_err = [i.split('(')[1] for i in table['rSDSS_auto_err']]\n",
    "r_petro_err = [i.split('(')[1] for i in table['rSDSS_PETRO_err']]\n",
    "r_MAG_APER_6_0_err = [i.split('(')[1] for i in table['rSDSS_MAG_APER_6_0_err']]\n",
    "J0861_auto = [i.split(')')[0] for i in table['J0861_auto']]\n",
    "J0861_petro = [i.split(')')[0] for i in table['J0861_PETRO']]\n",
    "J0861_MAG_APER_6_0 = [i.split(')')[0] for i in table['J0861_MAG_APER_6_0']]\n",
    "J0861_auto_err = [i.split(')')[0] for i in table['J0861_auto_err']]\n",
    "J0861_petro_err = [i.split(')')[0] for i in table['J0861_PETRO_err']]\n",
    "J0861_MAG_APER_6_0_err = [i.split(')')[0] for i in table['J0861_MAG_APER_6_0_err']]\n",
    "\n"
   ]
  },
  {
   "cell_type": "code",
   "execution_count": 6,
   "metadata": {},
   "outputs": [],
   "source": [
    "r_auto = Column(r_auto, name='rSDSS_auto')\n",
    "r_petro = Column(r_petro, name='rSDSS_PETRO')\n",
    "r_MAG_APER_6_0 = Column(r_MAG_APER_6_0, name='rSDSS_MAG_APER_6_0')\n",
    "r_auto_err = Column(r_auto_err, name='rSDSS_auto_err')\n",
    "r_petro_err = Column(r_petro_err, name='rSDSS_PETRO_err')\n",
    "r_MAG_APER_6_0_err = Column(r_MAG_APER_6_0_err, name='rSDSS_MAG_APER_6_0_err')\n",
    "J0861_auto = Column(J0861_auto, name='J0861_auto')\n",
    "J0861_petro = Column(J0861_petro, name='J0861_PETRO')\n",
    "J0861_MAG_APER_6_0 = Column(J0861_MAG_APER_6_0, name='J0861_MAG_APER_6_0')\n",
    "J0861_auto_err = Column(J0861_auto_err, name='J0861_auto_err')\n",
    "J0861_petro_err = Column(J0861_petro_err, name='J0861_PETRO_err')\n",
    "J0861_MAG_APER_6_0_err = Column(J0861_MAG_APER_6_0_err, name='J0861_MAG_APER_6_0_err')\n"
   ]
  },
  {
   "cell_type": "code",
   "execution_count": 7,
   "metadata": {},
   "outputs": [],
   "source": [
    "table['rSDSS_auto'] = r_auto\n",
    "table['rSDSS_PETRO'] = r_petro\n",
    "table['rSDSS_MAG_APER_6_0'] = r_MAG_APER_6_0\n",
    "table['rSDSS_auto_err'] = r_auto_err\n",
    "table['rSDSS_PETRO_err'] = r_petro_err\n",
    "table['rSDSS_MAG_APER_6_0_err'] = r_MAG_APER_6_0_err\n",
    "table['J0861_auto'] = J0861_auto\n",
    "table['J0861_PETRO'] = J0861_petro\n",
    "table['J0861_MAG_APER_6_0'] = J0861_MAG_APER_6_0\n",
    "table['J0861_auto_err'] = J0861_auto_err\n",
    "table['J0861_PETRO_err'] = J0861_petro_err\n",
    "table['J0861_MAG_APER_6_0_err'] = J0861_MAG_APER_6_0_err"
   ]
  },
  {
   "cell_type": "code",
   "execution_count": 8,
   "metadata": {},
   "outputs": [],
   "source": [
    "asciifile = \"JPLUS-DR2/aper6_mag_idr/Missing-pne-allinf-v2.tab\"\n",
    "table.write(ROOT_PATH / asciifile, format=\"ascii.tab\")"
   ]
  },
  {
   "cell_type": "code",
   "execution_count": null,
   "metadata": {},
   "outputs": [],
   "source": []
  }
 ],
 "metadata": {
  "kernelspec": {
   "display_name": "Python 3",
   "language": "python",
   "name": "python3"
  },
  "language_info": {
   "codemirror_mode": {
    "name": "ipython",
    "version": 3
   },
   "file_extension": ".py",
   "mimetype": "text/x-python",
   "name": "python",
   "nbconvert_exporter": "python",
   "pygments_lexer": "ipython3",
   "version": "3.7.4"
  }
 },
 "nbformat": 4,
 "nbformat_minor": 2
}
