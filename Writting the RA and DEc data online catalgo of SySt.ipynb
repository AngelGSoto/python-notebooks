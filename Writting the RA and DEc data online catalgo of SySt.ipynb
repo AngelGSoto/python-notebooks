{
 "cells": [
  {
   "cell_type": "code",
   "execution_count": 1,
   "metadata": {},
   "outputs": [
    {
     "name": "stdout",
     "output_type": "stream",
     "text": [
      "Populating the interactive namespace from numpy and matplotlib\n"
     ]
    }
   ],
   "source": [
    "%pylab inline"
   ]
  },
  {
   "cell_type": "code",
   "execution_count": 3,
   "metadata": {},
   "outputs": [],
   "source": [
    "from __future__ import print_function\n",
    "import numpy as np\n",
    "import os\n",
    "import glob\n",
    "import json\n",
    "import matplotlib.pyplot as plt\n",
    "import pandas as pd\n",
    "from astropy.io import ascii"
   ]
  },
  {
   "cell_type": "code",
   "execution_count": 4,
   "metadata": {},
   "outputs": [],
   "source": [
    "datadir = \"../\"\n",
    "file_ = \"SySt_Extragalactic_online_database.dat\""
   ]
  },
  {
   "cell_type": "code",
   "execution_count": 5,
   "metadata": {},
   "outputs": [
    {
     "name": "stderr",
     "output_type": "stream",
     "text": [
      "WARNING: AstropyDeprecationWarning: Config parameter 'name_resolve_timeout' in section [coordinates.name_resolve] of the file '/home/angel/.astropy/config/astropy.cfg' is deprecated. Use 'remote_timeout' in section [utils.data] instead. [astropy.config.configuration]\n",
      "WARNING: AstropyDeprecationWarning: Config parameter 'remote_timeout' in section [utils.data] of the file '/home/angel/.astropy/config/astropy.cfg' is given by more than one alias (astropy.utils.data.remote_timeout, coordinates.name_resolve.name_resolve_timeout). Using the first. [astropy.config.configuration]\n"
     ]
    }
   ],
   "source": [
    "data = ascii.read(os.path.join(datadir, file_))"
   ]
  },
  {
   "cell_type": "code",
   "execution_count": 6,
   "metadata": {},
   "outputs": [
    {
     "name": "stderr",
     "output_type": "stream",
     "text": [
      "WARNING: AstropyDeprecationWarning: Config parameter 'max_lines' in section [table.pprint] of the file '/home/angel/.astropy/config/astropy.cfg' is deprecated. Use 'max_lines' at the top-level instead. [astropy.config.configuration]\n",
      "WARNING: AstropyDeprecationWarning: Config parameter 'max_width' in section [table.pprint] of the file '/home/angel/.astropy/config/astropy.cfg' is deprecated. Use 'max_width' at the top-level instead. [astropy.config.configuration]\n"
     ]
    },
    {
     "data": {
      "text/html": [
       "<i>Table masked=True length=158</i>\n",
       "<table id=\"table140126561209984\" class=\"table-striped table-bordered table-condensed\">\n",
       "<thead><tr><th>Star_Name</th><th>Confirmed</th><th>Galaxy</th><th>Ra</th><th>Dec</th><th>B_(mag)</th><th>V_(mag)</th><th>R_(mag)</th><th>I_(mag)</th></tr></thead>\n",
       "<thead><tr><th>str30</th><th>str1</th><th>str11</th><th>float64</th><th>float64</th><th>float64</th><th>float64</th><th>float64</th><th>float64</th></tr></thead>\n",
       "<tr><td>Draco C-1</td><td>✓</td><td>Draco Dwarf</td><td>259.990238</td><td>57.834856</td><td>18.43</td><td>17.0</td><td>16.11</td><td>15.67</td></tr>\n",
       "<tr><td>XMMU J171919.8+575943</td><td>✓</td><td>Draco Dwarf</td><td>259.83331</td><td>57.995308</td><td>19.04</td><td>18.41</td><td>17.73</td><td>17.15</td></tr>\n",
       "<tr><td>XMMU J172005.6+575759</td><td>✓</td><td>Draco Dwarf</td><td>260.023549</td><td>57.966232</td><td>20.2</td><td>19.53</td><td>19.11</td><td>18.59</td></tr>\n",
       "<tr><td>XMMU J172013.3+575051</td><td>✓</td><td>Draco Dwarf</td><td>260.055778</td><td>57.847688</td><td>19.13</td><td>18.18</td><td>--</td><td>16.94</td></tr>\n",
       "<tr><td>IC10 SySt-1</td><td>✓</td><td>IC10</td><td>5.13996</td><td>59.31275</td><td>26.79</td><td>24.62</td><td>21.85</td><td>19.46</td></tr>\n",
       "<tr><td>[RP2006] 490</td><td>✓</td><td>LMC</td><td>84.381322</td><td>-71.179952</td><td>--</td><td>16.98</td><td>15.91</td><td>--</td></tr>\n",
       "<tr><td>LMC N19</td><td>✓</td><td>LMC</td><td>75.84897</td><td>-67.942676</td><td>--</td><td>16.4</td><td>15.34</td><td>14.27</td></tr>\n",
       "<tr><td>LMC N67</td><td>✓</td><td>LMC</td><td>84.031584</td><td>-64.722593</td><td>16.9</td><td>15.9</td><td>14.7</td><td>12.7</td></tr>\n",
       "<tr><td>LMC S147</td><td>✓</td><td>LMC</td><td>73.514465</td><td>-70.992264</td><td>12.8</td><td>15.47</td><td>15.57</td><td>13.9</td></tr>\n",
       "<tr><td>LMC S154</td><td>✓</td><td>LMC</td><td>72.96029</td><td>-75.059813</td><td>12.8</td><td>15.7</td><td>14.2</td><td>13.2</td></tr>\n",
       "<tr><td>...</td><td>...</td><td>...</td><td>...</td><td>...</td><td>...</td><td>...</td><td>...</td><td>...</td></tr>\n",
       "<tr><td>[LDB2002] 769</td><td>✗</td><td>NGC 6822</td><td>296.31088</td><td>-14.73645</td><td>--</td><td>--</td><td>--</td><td>--</td></tr>\n",
       "<tr><td>[LDB2002] 96</td><td>✗</td><td>NGC 6822</td><td>296.12738</td><td>-14.73369</td><td>--</td><td>--</td><td>--</td><td>--</td></tr>\n",
       "<tr><td>2MASS J01032236-7204109</td><td>✗</td><td>SMC</td><td>15.84309</td><td>-72.069692</td><td>17.75</td><td>16.78</td><td>--</td><td>15.74</td></tr>\n",
       "<tr><td>2MASS J01033631-7204041</td><td>✗</td><td>SMC</td><td>15.901259</td><td>-72.067836</td><td>17.04</td><td>16.7</td><td>--</td><td>15.8</td></tr>\n",
       "<tr><td>LIN 183</td><td>✗</td><td>SMC</td><td>12.926032</td><td>-72.841035</td><td>15.88</td><td>15.04</td><td>--</td><td>14.17</td></tr>\n",
       "<tr><td>LIN 250</td><td>✗</td><td>SMC</td><td>13.539757</td><td>-72.695359</td><td>13.48</td><td>13.82</td><td>12.79</td><td>12.55</td></tr>\n",
       "<tr><td>LIN 521</td><td>✗</td><td>SMC</td><td>19.648781</td><td>-72.70595</td><td>16.5</td><td>15.97</td><td>14.9</td><td>14.01</td></tr>\n",
       "<tr><td>SMC V0534</td><td>✗</td><td>SMC</td><td>12.306827</td><td>-72.908015</td><td>17.8</td><td>16.24</td><td>--</td><td>13.65</td></tr>\n",
       "<tr><td>SSTISAGEMA J010442.60-721007.4</td><td>✗</td><td>SMC</td><td>16.17752</td><td>-72.168736</td><td>18.32</td><td>17.66</td><td>--</td><td>16.83</td></tr>\n",
       "<tr><td>SSTISAGEMC J010405.73-720700.5</td><td>✗</td><td>SMC</td><td>16.023892</td><td>-72.116808</td><td>19.23</td><td>19.08</td><td>--</td><td>18.15</td></tr>\n",
       "</table>"
      ],
      "text/plain": [
       "<Table masked=True length=158>\n",
       "          Star_Name            Confirmed    Galaxy   ... V_(mag) R_(mag) I_(mag)\n",
       "            str30                 str1      str11    ... float64 float64 float64\n",
       "------------------------------ --------- ----------- ... ------- ------- -------\n",
       "                     Draco C-1         ✓ Draco Dwarf ...    17.0   16.11   15.67\n",
       "         XMMU J171919.8+575943         ✓ Draco Dwarf ...   18.41   17.73   17.15\n",
       "         XMMU J172005.6+575759         ✓ Draco Dwarf ...   19.53   19.11   18.59\n",
       "         XMMU J172013.3+575051         ✓ Draco Dwarf ...   18.18      --   16.94\n",
       "                   IC10 SySt-1         ✓        IC10 ...   24.62   21.85   19.46\n",
       "                  [RP2006] 490         ✓         LMC ...   16.98   15.91      --\n",
       "                       LMC N19         ✓         LMC ...    16.4   15.34   14.27\n",
       "                       LMC N67         ✓         LMC ...    15.9    14.7    12.7\n",
       "                      LMC S147         ✓         LMC ...   15.47   15.57    13.9\n",
       "                      LMC S154         ✓         LMC ...    15.7    14.2    13.2\n",
       "                           ...       ...         ... ...     ...     ...     ...\n",
       "                 [LDB2002] 769         ✗    NGC 6822 ...      --      --      --\n",
       "                  [LDB2002] 96         ✗    NGC 6822 ...      --      --      --\n",
       "       2MASS J01032236-7204109         ✗         SMC ...   16.78      --   15.74\n",
       "       2MASS J01033631-7204041         ✗         SMC ...    16.7      --    15.8\n",
       "                       LIN 183         ✗         SMC ...   15.04      --   14.17\n",
       "                       LIN 250         ✗         SMC ...   13.82   12.79   12.55\n",
       "                       LIN 521         ✗         SMC ...   15.97    14.9   14.01\n",
       "                     SMC V0534         ✗         SMC ...   16.24      --   13.65\n",
       "SSTISAGEMA J010442.60-721007.4         ✗         SMC ...   17.66      --   16.83\n",
       "SSTISAGEMC J010405.73-720700.5         ✗         SMC ...   19.08      --   18.15"
      ]
     },
     "execution_count": 6,
     "metadata": {},
     "output_type": "execute_result"
    }
   ],
   "source": [
    "data\n"
   ]
  },
  {
   "cell_type": "code",
   "execution_count": 7,
   "metadata": {},
   "outputs": [],
   "source": [
    "idd=data[\"Star_Name\"]\n",
    "ra=data[\"Ra\"]\n",
    "dec=data[\"Dec\"]"
   ]
  },
  {
   "cell_type": "code",
   "execution_count": 9,
   "metadata": {},
   "outputs": [],
   "source": [
    "asciifile = \"SySt_Extragalactic_online_databasen_only_coord.dat\"\n",
    "file=open(os.path.join(datadir, asciifile),'w') #create file  \n",
    "for x,y in zip(ra, dec):  \n",
    "    file.write('%f  %f\\n'%(x,y))     #assume you separate columns by tabs  \n",
    "file.close()     #close file  "
   ]
  },
  {
   "cell_type": "code",
   "execution_count": null,
   "metadata": {},
   "outputs": [],
   "source": []
  }
 ],
 "metadata": {
  "kernelspec": {
   "display_name": "Python 3",
   "language": "python",
   "name": "python3"
  },
  "language_info": {
   "codemirror_mode": {
    "name": "ipython",
    "version": 3
   },
   "file_extension": ".py",
   "mimetype": "text/x-python",
   "name": "python",
   "nbconvert_exporter": "python",
   "pygments_lexer": "ipython3",
   "version": "3.7.4"
  }
 },
 "nbformat": 4,
 "nbformat_minor": 2
}
