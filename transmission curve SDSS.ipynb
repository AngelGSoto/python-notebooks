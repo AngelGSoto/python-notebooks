{
 "cells": [
  {
   "cell_type": "code",
   "execution_count": 1,
   "metadata": {},
   "outputs": [
    {
     "name": "stdout",
     "output_type": "stream",
     "text": [
      "Populating the interactive namespace from numpy and matplotlib\n"
     ]
    }
   ],
   "source": [
    "%pylab inline\n",
    "from __future__ import print_function\n",
    "from astropy.io import fits\n",
    "import os\n",
    "import numpy as np\n",
    "import glob\n",
    "import matplotlib.pyplot as plt\n",
    "from astropy.wcs import WCS\n",
    "%matplotlib inline"
   ]
  },
  {
   "cell_type": "code",
   "execution_count": 4,
   "metadata": {},
   "outputs": [
    {
     "name": "stderr",
     "output_type": "stream",
     "text": [
      "WARNING: AstropyDeprecationWarning: Config parameter 'enabled_record_valued_keyword_cards' in section [io.fits] of the file '/home/angel/.astropy/config/astropy.cfg' is deprecated. Use 'enable_record_valued_keyword_cards' in section [io.fits] instead. [astropy.config.configuration]\n"
     ]
    }
   ],
   "source": [
    "datadir = \"../filters/SDSS/\"\n",
    "fitsfile = \"filter_curves.fits\"\n",
    "hdulist = fits.open(os.path.join(datadir, fitsfile))"
   ]
  },
  {
   "cell_type": "code",
   "execution_count": 5,
   "metadata": {},
   "outputs": [
    {
     "name": "stdout",
     "output_type": "stream",
     "text": [
      "Filename: ../filters/SDSS/filter_curves.fits\n",
      "No.    Name         Type      Cards   Dimensions   Format\n",
      "0    PRIMARY     PrimaryHDU      63   ()              \n",
      "1    U           BinTableHDU     20   47R x 5C     [E, E, E, E, E]   \n",
      "2    G           BinTableHDU     20   89R x 5C     [E, E, E, E, E]   \n",
      "3    R           BinTableHDU     20   75R x 5C     [E, E, E, E, E]   \n",
      "4    I           BinTableHDU     20   89R x 5C     [E, E, E, E, E]   \n",
      "5    Z           BinTableHDU     20   141R x 5C    [E, E, E, E, E]   \n"
     ]
    }
   ],
   "source": [
    "hdulist.info()"
   ]
  },
  {
   "cell_type": "code",
   "execution_count": 6,
   "metadata": {},
   "outputs": [
    {
     "data": {
      "text/plain": [
       "SIMPLE  =                    T / conforms to FITS standard                      \n",
       "BITPIX  =                    8 / array data type                                \n",
       "NAXIS   =                    0 / number of array dimensions                     \n",
       "EXTEND  =                    T                                                  \n",
       "COMMENT The following file is from Jim Gunn, from June 2001.  It should be self-\n",
       "COMMENT explanatory; for most purposes, you will want to use the second column. \n",
       "COMMENT  Consider this file preliminary.                                        \n",
       "COMMENT                                                                         \n",
       "COMMENT These filter curves have been used to calculate the effective wavelength\n",
       "COMMENT s and the qtdl/l (see Chapter 8 of the Black Book) of the filters; the v\n",
       "COMMENT alues are:                                                              \n",
       "COMMENT                                                                         \n",
       "COMMENT u 3551 0.0171                                                           \n",
       "COMMENT g 4686 0.0893                                                           \n",
       "COMMENT r 6166 0.0886                                                           \n",
       "COMMENT i 7480 0.0591                                                           \n",
       "COMMENT z 8932 0.0099                                                           \n",
       "COMMENT                                                                         \n",
       "COMMENT Table Caption For Response Functions                                    \n",
       "COMMENT                                                                         \n",
       "COMMENT The first column is the wavelength in \\AAngstroms.                      \n",
       "COMMENT                                                                         \n",
       "COMMENT The second column (respt) is the quantum efficiency on the sky looking t\n",
       "COMMENT hrough 1.3 airmasses at APO for a point source.                         \n",
       "COMMENT                                                                         \n",
       "COMMENT The third column (resbig) is the QE under these conditions for very larg\n",
       "COMMENT e sources (size greater than about 80 pixels) for which the infrared sca\n",
       "COMMENT ttering is negligible.  The only filters for which the infrared scatteri\n",
       "COMMENT ng has any effect are r and i; the scattering in the bluer chips is negl\n",
       "COMMENT igible, and the z chips are not thinned and the phenomenon does not exis\n",
       "COMMENT t.                                                                      \n",
       "COMMENT                                                                         \n",
       "COMMENT The fourth column (resnoa) is the response of the third column with {\\it\n",
       "COMMENT  no} atmosphere, and the fifth column is the assumed atmospheric transpa\n",
       "COMMENT rency at {\\it one} airmass at APO.                                      \n",
       "COMMENT                                                                         \n",
       "COMMENT The tables were constructed using monochromator illumination of the came\n",
       "COMMENT ra with a bandpass of about 100 \\AA, sampled for the u filter at 50 \\AA \n",
       "COMMENT intervals and for the others at 100 \\AA intervals.  These measurements w\n",
       "COMMENT ere compared with measured responses of the component filters and detect\n",
       "COMMENT ors and three additional points were interpolated using these data, two \n",
       "COMMENT at the extreme toes and one additional (in g, r, and i) at the point of \n",
       "COMMENT the beginning of the sharp cutoff of the shortpass interference filter. \n",
       "COMMENT  These points are necessary in order to make spline interpolation of the\n",
       "COMMENT  response data well-behaved. These spline-interpolated response data wer\n",
       "COMMENT e then multiplied by measured aluminum reflectivities and scaled atmosph\n",
       "COMMENT eric transmission to produce the tables below. The overall normalization\n",
       "COMMENT  is somewhat uncertain, but this uncertainty does not affect the shapes.\n",
       "COMMENT  Note, however, that there has been no attempt to remove the finite reso\n",
       "COMMENT lution of the monochromator measurements. These tables are the {\\it aver\n",
       "COMMENT ages} of the responses for all six of the camera chips with a given filt\n",
       "COMMENT er. The responses are in general very similar except in the z band, wher\n",
       "COMMENT e the nonuniformity of the infrared rolloff, presumably associated with \n",
       "COMMENT varying thickness of the epitaxial layer or perhaps the gate structures \n",
       "COMMENT in these thick devices, introduces variations in the effective wavelengt\n",
       "COMMENT hs of the filters of order 100 \\AA. We are currently working on better r\n",
       "COMMENT esponse functions and will present them when they become available, but \n",
       "COMMENT these will suffice for most applications. In all cases the first point i\n",
       "COMMENT s a measured point, so the grid of wavelengths at which measurements exi\n",
       "COMMENT st is a subset of the wavelength lists here.                            \n",
       "COMMENT                                                                         \n",
       "HISTORY Converted from ASCII, 2013-02-05T18:20:52.137558 +0000.                 \n",
       "HISTORY Converted using convert_filters.py, revision 142849.                    "
      ]
     },
     "execution_count": 6,
     "metadata": {},
     "output_type": "execute_result"
    }
   ],
   "source": [
    "hdulist[0].header"
   ]
  },
  {
   "cell_type": "code",
   "execution_count": 7,
   "metadata": {},
   "outputs": [
    {
     "data": {
      "text/plain": [
       "FITS_rec([(2980.0, 0.0, 0.0, 0.0, 0.072700001),\n",
       "       (3005.0, 9.9999997e-05, 9.9999997e-05, 0.0014, 0.099200003),\n",
       "       (3030.0, 0.00050000002, 0.00050000002, 0.0071, 0.13079999),\n",
       "       (3055.0, 0.0013, 0.0013, 0.0127, 0.1673),\n",
       "       (3080.0, 0.0026, 0.0026, 0.0198, 0.2075),\n",
       "       (3105.0, 0.0052, 0.0052, 0.031399999, 0.24699999),\n",
       "       (3130.0, 0.0093, 0.0093, 0.046399999, 0.28619999),\n",
       "       (3155.0, 0.016100001, 0.016100001, 0.062899999, 0.34439999),\n",
       "       (3180.0, 0.024, 0.024, 0.079400003, 0.39199999),\n",
       "       (3205.0, 0.032299999, 0.032299999, 0.094899997, 0.43000001),\n",
       "       (3230.0, 0.0405, 0.0405, 0.1093, 0.4585),\n",
       "       (3255.0, 0.048500001, 0.048500001, 0.1229, 0.4817),\n",
       "       (3280.0, 0.0561, 0.0561, 0.13519999, 0.5007),\n",
       "       (3305.0, 0.0634, 0.0634, 0.14579999, 0.51889998),\n",
       "       (3330.0, 0.07, 0.07, 0.15449999, 0.53509998),\n",
       "       (3355.0, 0.075599998, 0.075599998, 0.1617, 0.54860002),\n",
       "       (3380.0, 0.080300003, 0.080300003, 0.1679, 0.55809999),\n",
       "       (3405.0, 0.084799998, 0.084799998, 0.1737, 0.56690001),\n",
       "       (3430.0, 0.088299997, 0.088299997, 0.1786, 0.57270002),\n",
       "       (3455.0, 0.091700003, 0.091700003, 0.18189999, 0.5812),\n",
       "       (3480.0, 0.095899999, 0.095899999, 0.1842, 0.5959),\n",
       "       (3505.0, 0.1001, 0.1001, 0.186, 0.61119998),\n",
       "       (3530.0, 0.1029, 0.1029, 0.18700001, 0.6221),\n",
       "       (3555.0, 0.1044, 0.1044, 0.1868, 0.62940001),\n",
       "       (3580.0, 0.1053, 0.1053, 0.18619999, 0.63499999),\n",
       "       (3605.0, 0.1063, 0.1063, 0.1858, 0.64060003),\n",
       "       (3630.0, 0.1075, 0.1075, 0.18529999, 0.6476),\n",
       "       (3655.0, 0.1085, 0.1085, 0.1841, 0.65530002),\n",
       "       (3680.0, 0.1084, 0.1084, 0.1812, 0.6631),\n",
       "       (3705.0, 0.1064, 0.1064, 0.1754, 0.67019999),\n",
       "       (3730.0, 0.1024, 0.1024, 0.16689999, 0.67629999),\n",
       "       (3755.0, 0.096600004, 0.096600004, 0.1558, 0.68150002),\n",
       "       (3780.0, 0.088699996, 0.088699996, 0.1419, 0.68629998),\n",
       "       (3805.0, 0.078699999, 0.078699999, 0.1247, 0.69120002),\n",
       "       (3830.0, 0.067199998, 0.067199998, 0.1054, 0.6965),\n",
       "       (3855.0, 0.054900002, 0.054900002, 0.085100003, 0.70230001),\n",
       "       (3880.0, 0.041299999, 0.041299999, 0.0634, 0.70880002),\n",
       "       (3905.0, 0.026799999, 0.026799999, 0.0405, 0.71579999),\n",
       "       (3930.0, 0.0145, 0.0145, 0.021600001, 0.72350001),\n",
       "       (3955.0, 0.0074999998, 0.0074999998, 0.011, 0.73150003),\n",
       "       (3980.0, 0.0041999999, 0.0041999999, 0.0062000002, 0.73930001),\n",
       "       (4005.0, 0.0022, 0.0022, 0.0031999999, 0.7464),\n",
       "       (4030.0, 0.001, 0.001, 0.0015, 0.75260001),\n",
       "       (4055.0, 0.00060000003, 0.00060000003, 0.00079999998, 0.75809997),\n",
       "       (4080.0, 0.00039999999, 0.00039999999, 0.00060000003, 0.76310003),\n",
       "       (4105.0, 0.00019999999, 0.00019999999, 0.00030000001, 0.76800001),\n",
       "       (4130.0, 0.0, 0.0, 0.0, 0.77270001)], \n",
       "      dtype=(numpy.record, [('wavelength', '>f4'), ('respt', '>f4'), ('resbig', '>f4'), ('resnoa', '>f4'), ('xatm', '>f4')]))"
      ]
     },
     "execution_count": 7,
     "metadata": {},
     "output_type": "execute_result"
    }
   ],
   "source": [
    "hdulist[1].data"
   ]
  },
  {
   "cell_type": "code",
   "execution_count": 8,
   "metadata": {},
   "outputs": [
    {
     "data": {
      "text/plain": [
       "array([  0.00000000e+00,   9.99999975e-05,   5.00000024e-04,\n",
       "         1.30000000e-03,   2.60000001e-03,   5.20000001e-03,\n",
       "         9.30000003e-03,   1.61000006e-02,   2.40000002e-02,\n",
       "         3.22999991e-02,   4.05000001e-02,   4.85000014e-02,\n",
       "         5.60999997e-02,   6.34000003e-02,   7.00000003e-02,\n",
       "         7.55999982e-02,   8.03000033e-02,   8.47999975e-02,\n",
       "         8.82999972e-02,   9.17000026e-02,   9.58999991e-02,\n",
       "         1.00100003e-01,   1.02899998e-01,   1.04400001e-01,\n",
       "         1.05300002e-01,   1.06299996e-01,   1.07500002e-01,\n",
       "         1.08499996e-01,   1.08400002e-01,   1.06399998e-01,\n",
       "         1.02399997e-01,   9.66000035e-02,   8.86999965e-02,\n",
       "         7.86999986e-02,   6.71999976e-02,   5.49000017e-02,\n",
       "         4.12999988e-02,   2.67999992e-02,   1.44999996e-02,\n",
       "         7.49999983e-03,   4.19999985e-03,   2.19999999e-03,\n",
       "         1.00000005e-03,   6.00000028e-04,   3.99999990e-04,\n",
       "         1.99999995e-04,   0.00000000e+00], dtype=float32)"
      ]
     },
     "execution_count": 8,
     "metadata": {},
     "output_type": "execute_result"
    }
   ],
   "source": [
    "hdulist[1].data.field('respt')"
   ]
  },
  {
   "cell_type": "code",
   "execution_count": 9,
   "metadata": {},
   "outputs": [
    {
     "data": {
      "text/plain": [
       "array([ 2980.,  3005.,  3030.,  3055.,  3080.,  3105.,  3130.,  3155.,\n",
       "        3180.,  3205.,  3230.,  3255.,  3280.,  3305.,  3330.,  3355.,\n",
       "        3380.,  3405.,  3430.,  3455.,  3480.,  3505.,  3530.,  3555.,\n",
       "        3580.,  3605.,  3630.,  3655.,  3680.,  3705.,  3730.,  3755.,\n",
       "        3780.,  3805.,  3830.,  3855.,  3880.,  3905.,  3930.,  3955.,\n",
       "        3980.,  4005.,  4030.,  4055.,  4080.,  4105.,  4130.], dtype=float32)"
      ]
     },
     "execution_count": 9,
     "metadata": {},
     "output_type": "execute_result"
    }
   ],
   "source": [
    "hdulist[1].data.field('wavelength')"
   ]
  },
  {
   "cell_type": "code",
   "execution_count": null,
   "metadata": {
    "collapsed": true
   },
   "outputs": [],
   "source": []
  }
 ],
 "metadata": {
  "anaconda-cloud": {},
  "kernelspec": {
   "display_name": "Python 3",
   "language": "python",
   "name": "python3"
  },
  "language_info": {
   "codemirror_mode": {
    "name": "ipython",
    "version": 3
   },
   "file_extension": ".py",
   "mimetype": "text/x-python",
   "name": "python",
   "nbconvert_exporter": "python",
   "pygments_lexer": "ipython3",
   "version": "3.6.3"
  }
 },
 "nbformat": 4,
 "nbformat_minor": 1
}
