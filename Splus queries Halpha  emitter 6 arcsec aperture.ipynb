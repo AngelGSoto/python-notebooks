{
 "cells": [
  {
   "cell_type": "code",
   "execution_count": 1,
   "metadata": {},
   "outputs": [
    {
     "name": "stdout",
     "output_type": "stream",
     "text": [
      "Requirement already up-to-date: splusdata in /home/lgutierrez/anaconda3/lib/python3.7/site-packages (0.81)\n",
      "Requirement already satisfied, skipping upgrade: astropy in /home/lgutierrez/anaconda3/lib/python3.7/site-packages (from splusdata) (4.0)\n",
      "Requirement already satisfied, skipping upgrade: pandas in /home/lgutierrez/anaconda3/lib/python3.7/site-packages (from splusdata) (0.25.1)\n",
      "Requirement already satisfied, skipping upgrade: matplotlib in /home/lgutierrez/anaconda3/lib/python3.7/site-packages (from splusdata) (3.1.1)\n",
      "Requirement already satisfied, skipping upgrade: scipy in /home/lgutierrez/anaconda3/lib/python3.7/site-packages (from splusdata) (1.3.1)\n",
      "Requirement already satisfied, skipping upgrade: psycopg2-binary in /home/lgutierrez/anaconda3/lib/python3.7/site-packages (from splusdata) (2.8.6)\n",
      "Requirement already satisfied, skipping upgrade: numpy in /home/lgutierrez/anaconda3/lib/python3.7/site-packages (from splusdata) (1.17.2)\n",
      "Requirement already satisfied, skipping upgrade: requests in /home/lgutierrez/anaconda3/lib/python3.7/site-packages (from splusdata) (2.22.0)\n",
      "Requirement already satisfied, skipping upgrade: sqlalchemy in /home/lgutierrez/anaconda3/lib/python3.7/site-packages (from splusdata) (1.3.9)\n",
      "Requirement already satisfied, skipping upgrade: pillow in /home/lgutierrez/anaconda3/lib/python3.7/site-packages (from splusdata) (6.2.0)\n",
      "Requirement already satisfied, skipping upgrade: colour in /home/lgutierrez/anaconda3/lib/python3.7/site-packages (from splusdata) (0.1.5)\n",
      "Requirement already satisfied, skipping upgrade: pytz>=2017.2 in /home/lgutierrez/anaconda3/lib/python3.7/site-packages (from pandas->splusdata) (2019.3)\n",
      "Requirement already satisfied, skipping upgrade: python-dateutil>=2.6.1 in /home/lgutierrez/anaconda3/lib/python3.7/site-packages (from pandas->splusdata) (2.8.0)\n",
      "Requirement already satisfied, skipping upgrade: cycler>=0.10 in /home/lgutierrez/anaconda3/lib/python3.7/site-packages (from matplotlib->splusdata) (0.10.0)\n",
      "Requirement already satisfied, skipping upgrade: kiwisolver>=1.0.1 in /home/lgutierrez/anaconda3/lib/python3.7/site-packages (from matplotlib->splusdata) (1.1.0)\n",
      "Requirement already satisfied, skipping upgrade: pyparsing!=2.0.4,!=2.1.2,!=2.1.6,>=2.0.1 in /home/lgutierrez/anaconda3/lib/python3.7/site-packages (from matplotlib->splusdata) (2.4.2)\n",
      "Requirement already satisfied, skipping upgrade: chardet<3.1.0,>=3.0.2 in /home/lgutierrez/anaconda3/lib/python3.7/site-packages (from requests->splusdata) (3.0.4)\n",
      "Requirement already satisfied, skipping upgrade: certifi>=2017.4.17 in /home/lgutierrez/anaconda3/lib/python3.7/site-packages (from requests->splusdata) (2019.9.11)\n",
      "Requirement already satisfied, skipping upgrade: urllib3!=1.25.0,!=1.25.1,<1.26,>=1.21.1 in /home/lgutierrez/anaconda3/lib/python3.7/site-packages (from requests->splusdata) (1.24.2)\n",
      "Requirement already satisfied, skipping upgrade: idna<2.9,>=2.5 in /home/lgutierrez/anaconda3/lib/python3.7/site-packages (from requests->splusdata) (2.8)\n",
      "Requirement already satisfied, skipping upgrade: six>=1.5 in /home/lgutierrez/anaconda3/lib/python3.7/site-packages (from python-dateutil>=2.6.1->pandas->splusdata) (1.12.0)\n",
      "Requirement already satisfied, skipping upgrade: setuptools in /home/lgutierrez/anaconda3/lib/python3.7/site-packages (from kiwisolver>=1.0.1->matplotlib->splusdata) (41.4.0)\n",
      "Note: you may need to restart the kernel to use updated packages.\n"
     ]
    }
   ],
   "source": [
    "pip install splusdata --upgrade"
   ]
  },
  {
   "cell_type": "code",
   "execution_count": 2,
   "metadata": {},
   "outputs": [
    {
     "name": "stdout",
     "output_type": "stream",
     "text": [
      "Populating the interactive namespace from numpy and matplotlib\n"
     ]
    }
   ],
   "source": [
    "%pylab inline"
   ]
  },
  {
   "cell_type": "code",
   "execution_count": 3,
   "metadata": {},
   "outputs": [],
   "source": [
    "import numpy as np\n",
    "import glob\n",
    "import json\n",
    "from pathlib import Path\n",
    "import matplotlib.pyplot as plt\n",
    "import splusdata as sp\n",
    "import seaborn as sn\n",
    "import pandas as pd\n",
    "sn.set_context(\"poster\")"
   ]
  },
  {
   "cell_type": "code",
   "execution_count": 4,
   "metadata": {},
   "outputs": [],
   "source": [
    "ROOT_PATH = Path(\"..\")  # necessary since we are in the sub-folder"
   ]
  },
  {
   "cell_type": "code",
   "execution_count": 5,
   "metadata": {},
   "outputs": [
    {
     "name": "stdout",
     "output_type": "stream",
     "text": [
      "['main3.1', 'main3.2', 'main3.3', 'main3.4', 'main3.5', 'main3.6', 'main3.7', 'main3.8', 'stripe82']\n"
     ]
    }
   ],
   "source": [
    "sp.get_surveys()"
   ]
  },
  {
   "cell_type": "markdown",
   "metadata": {},
   "source": [
    "# Applying color criterion based on synthetic photometry to the data 6 arcsec aperture (color diagram inspired on Viironen's paper)"
   ]
  },
  {
   "cell_type": "code",
   "execution_count": 6,
   "metadata": {},
   "outputs": [
    {
     "name": "stdout",
     "output_type": "stream",
     "text": [
      "input password: idr3splus\n",
      "getting data...\n",
      "\n",
      "it may take a minute\n",
      "\n",
      "Done!\n"
     ]
    }
   ],
   "source": [
    "df_1 = sp.queryidr3('main3.1', conditions = ['R_aper_6 < 20.5', 'e_R_aper_6 < 0.2', 'e_F660_aper_6 < 0.2', 'e_I_aper_6 < 0.2', '(R_aper_6 - F660_aper_6) > 0.15*(R_aper_6 - I_aper_6) + 0.53'], columns='all')"
   ]
  },
  {
   "cell_type": "code",
   "execution_count": null,
   "metadata": {},
   "outputs": [],
   "source": [
    "df_2 = sp.queryidr3('main3.2', conditions = ['R_aper_6 < 20.5', 'e_R_aper_6 < 0.2', 'e_F660_aper_6 < 0.2', 'e_I_aper_6 < 0.2', '(R_aper_6 - F660_aper_6) > 0.15*(R_aper_6 - I_aper_6) + 0.53'], columns='all')"
   ]
  },
  {
   "cell_type": "code",
   "execution_count": null,
   "metadata": {},
   "outputs": [],
   "source": [
    "df_3 = sp.queryidr3('main3.3', conditions = ['R_aper_6 < 20.5', 'e_R_aper_6 < 0.2', 'e_F660_aper_6 < 0.2', 'e_I_aper_6 < 0.2', '(R_aper_6 - F660_aper_6) > 0.15*(R_aper_6 - I_aper_6) + 0.53'], columns='all')"
   ]
  },
  {
   "cell_type": "code",
   "execution_count": null,
   "metadata": {},
   "outputs": [],
   "source": []
  }
 ],
 "metadata": {
  "kernelspec": {
   "display_name": "Python 3",
   "language": "python",
   "name": "python3"
  },
  "language_info": {
   "codemirror_mode": {
    "name": "ipython",
    "version": 3
   },
   "file_extension": ".py",
   "mimetype": "text/x-python",
   "name": "python",
   "nbconvert_exporter": "python",
   "pygments_lexer": "ipython3",
   "version": "3.7.4"
  }
 },
 "nbformat": 4,
 "nbformat_minor": 2
}
