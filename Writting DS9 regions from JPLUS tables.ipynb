{
 "cells": [
  {
   "cell_type": "markdown",
   "metadata": {},
   "source": [
    "Writing DS9 region based on the Prof Will program. I made this other version to no re-writte the other "
   ]
  },
  {
   "cell_type": "code",
   "execution_count": 2,
   "metadata": {},
   "outputs": [],
   "source": [
    "from astropy.table import Table\n",
    "from astropy.io import ascii\n",
    "#from catalog_utils import region_lines_from_table\n",
    "from catalog_utils_v2 import region_lines_from_table \n",
    "import numpy as np\n",
    "import os\n",
    "import sys\n"
   ]
  },
  {
   "cell_type": "code",
   "execution_count": 5,
   "metadata": {},
   "outputs": [],
   "source": [
    "#ROOT_PATH = Path(\"..\") # necessary since we are in the `notebooks/` sub-folder"
   ]
  },
  {
   "cell_type": "code",
   "execution_count": 8,
   "metadata": {},
   "outputs": [
    {
     "name": "stdout",
     "output_type": "stream",
     "text": [
      "../JPLUS-DR2/aper6_mag_idr/Field_71690/71690-16885_position.reg\n",
      "../JPLUS-DR2/aper6_mag_idr/Field_71690/71690-17355_position.reg\n",
      "../JPLUS-DR2/aper6_mag_idr/Field_71690/71690-17943_position.reg\n",
      "../JPLUS-DR2/aper6_mag_idr/Field_71690/71690-18107_position.reg\n",
      "../JPLUS-DR2/aper6_mag_idr/Field_71690/71690-18758_position.reg\n",
      "../JPLUS-DR2/aper6_mag_idr/Field_71690/71690-19796_position.reg\n",
      "../JPLUS-DR2/aper6_mag_idr/Field_70063/70063-24151_position.reg\n",
      "../JPLUS-DR2/aper6_mag_idr/Field_70063/70063-24692_position.reg\n",
      "../JPLUS-DR2/aper6_mag_idr/Field_70063/70063-26451_position.reg\n",
      "../JPLUS-DR2/aper6_mag_idr/Field_70455/70455-1485_position.reg\n",
      "../JPLUS-DR2/aper6_mag_idr/Field_73268/73268-5491_position.reg\n",
      "../JPLUS-DR2/aper6_mag_idr/Field_70466/70466-9220_position.reg\n",
      "../JPLUS-DR2/aper6_mag_idr/Field_70466/70466-18549_position.reg\n",
      "../JPLUS-DR2/aper6_mag_idr/Field_71787/71787-12645_position.reg\n",
      "../JPLUS-DR2/aper6_mag_idr/Field_67905/67905-25070_position.reg\n",
      "../JPLUS-DR2/aper6_mag_idr/Field_69221/69221-9002_position.reg\n",
      "../JPLUS-DR2/aper6_mag_idr/Field_70525/70525-9777_position.reg\n",
      "../JPLUS-DR2/aper6_mag_idr/Field_64235/64235-10908_position.reg\n",
      "../JPLUS-DR2/aper6_mag_idr/Field_64235/64235-12290_position.reg\n",
      "../JPLUS-DR2/aper6_mag_idr/Field_69286/69286-18169_position.reg\n",
      "../JPLUS-DR2/aper6_mag_idr/Field_63728/63728-10889_position.reg\n",
      "../JPLUS-DR2/aper6_mag_idr/Field_63728/63728-15748_position.reg\n",
      "../JPLUS-DR2/aper6_mag_idr/Field_73559/73559-18072_position.reg\n",
      "../JPLUS-DR2/aper6_mag_idr/Field_67002/67002-15821_position.reg\n",
      "../JPLUS-DR2/aper6_mag_idr/Field_62617/62617-9746_position.reg\n",
      "../JPLUS-DR2/aper6_mag_idr/Field_68450/68450-10025_position.reg\n",
      "../JPLUS-DR2/aper6_mag_idr/Field_75211/75211-19498_position.reg\n",
      "../JPLUS-DR2/aper6_mag_idr/Field_63864/63864-47481_position.reg\n"
     ]
    },
    {
     "ename": "TypeError",
     "evalue": "iteration over a 0-d array",
     "output_type": "error",
     "traceback": [
      "\u001b[0;31m---------------------------------------------------------------------------\u001b[0m",
      "\u001b[0;31mTypeError\u001b[0m                                 Traceback (most recent call last)",
      "\u001b[0;32m<ipython-input-8-7e64eb1e94a9>\u001b[0m in \u001b[0;36m<module>\u001b[0;34m\u001b[0m\n\u001b[1;32m     11\u001b[0m             \u001b[0;32mwith\u001b[0m \u001b[0mopen\u001b[0m\u001b[0;34m(\u001b[0m\u001b[0mregionfile_path\u001b[0m\u001b[0;34m,\u001b[0m \u001b[0;34m'w'\u001b[0m\u001b[0;34m)\u001b[0m \u001b[0;32mas\u001b[0m \u001b[0mf\u001b[0m\u001b[0;34m:\u001b[0m\u001b[0;34m\u001b[0m\u001b[0;34m\u001b[0m\u001b[0m\n\u001b[1;32m     12\u001b[0m                 f.write('\\n'.join(region_lines_from_table(np.array(table[i]), ra='RA', dec='Dec', tile='Tile', name='Number',\n\u001b[0;32m---> 13\u001b[0;31m                                                            color='cyan')))\n\u001b[0m\u001b[1;32m     14\u001b[0m         \u001b[0;32mexcept\u001b[0m \u001b[0mFileNotFoundError\u001b[0m\u001b[0;34m:\u001b[0m\u001b[0;34m\u001b[0m\u001b[0;34m\u001b[0m\u001b[0m\n\u001b[1;32m     15\u001b[0m             \u001b[0;32mcontinue\u001b[0m\u001b[0;34m\u001b[0m\u001b[0;34m\u001b[0m\u001b[0m\n",
      "\u001b[0;32m~/SJ-PLUS/ipython/catalog_utils_v2.py\u001b[0m in \u001b[0;36mregion_lines_from_table\u001b[0;34m(table, ra, dec, tile, name, color)\u001b[0m\n\u001b[1;32m     24\u001b[0m \u001b[0;34m\u001b[0m\u001b[0m\n\u001b[1;32m     25\u001b[0m     \u001b[0mregion_lines\u001b[0m \u001b[0;34m=\u001b[0m \u001b[0mregion_hdr_lines\u001b[0m\u001b[0;34m[\u001b[0m\u001b[0;34m:\u001b[0m\u001b[0;34m]\u001b[0m\u001b[0;34m\u001b[0m\u001b[0;34m\u001b[0m\u001b[0m\n\u001b[0;32m---> 26\u001b[0;31m     \u001b[0;32mfor\u001b[0m \u001b[0mrow\u001b[0m \u001b[0;32min\u001b[0m \u001b[0mtable\u001b[0m\u001b[0;34m:\u001b[0m\u001b[0;34m\u001b[0m\u001b[0;34m\u001b[0m\u001b[0m\n\u001b[0m\u001b[1;32m     27\u001b[0m         region_lines.append(region_box_to_string(row[ra], row[dec], row[tile],\n\u001b[1;32m     28\u001b[0m                                               row[name], color))\n",
      "\u001b[0;31mTypeError\u001b[0m: iteration over a 0-d array"
     ]
    }
   ],
   "source": [
    "table = Table.read(\"../JPLUS-DR2/aper6_mag_idr/PN-pc-Halpha_emitters_threeerror-cleaning-limfilter-limcolor-flags-mask-broad.tab\", format=\"ascii.tab\")\n",
    "n = len(table)\n",
    "for i in range(n):\n",
    "    phat = \"../JPLUS-DR2/aper6_mag_idr/Field_\" + str(table[i][\"Tile\"])\n",
    "    regionfile = str(table[i][\"Tile\"])+\"-\"+str(table[i][\"Number\"])+\"_position.reg\"\n",
    "    #print(phat, regionfile)\n",
    "    if phat.split(\"d_\")[-1] == regionfile.split(\"-\")[0]:\n",
    "        regionfile_path = phat + \"/\" + regionfile\n",
    "        print(regionfile_path)\n",
    "        try:\n",
    "            with open(regionfile_path, 'w') as f:\n",
    "                f.write('\\n'.join(region_lines_from_table(table[i], ra='RA', dec='Dec', tile='Tile', name='Number',\n",
    "                                                           color='cyan')))\n",
    "        except FileNotFoundError:\n",
    "            continue\n",
    "           "
   ]
  },
  {
   "cell_type": "code",
   "execution_count": null,
   "metadata": {},
   "outputs": [],
   "source": []
  },
  {
   "cell_type": "code",
   "execution_count": null,
   "metadata": {},
   "outputs": [],
   "source": []
  },
  {
   "cell_type": "code",
   "execution_count": null,
   "metadata": {},
   "outputs": [],
   "source": []
  }
 ],
 "metadata": {
  "kernelspec": {
   "display_name": "Python 3",
   "language": "python",
   "name": "python3"
  },
  "language_info": {
   "codemirror_mode": {
    "name": "ipython",
    "version": 3
   },
   "file_extension": ".py",
   "mimetype": "text/x-python",
   "name": "python",
   "nbconvert_exporter": "python",
   "pygments_lexer": "ipython3",
   "version": "3.7.4"
  }
 },
 "nbformat": 4,
 "nbformat_minor": 2
}
