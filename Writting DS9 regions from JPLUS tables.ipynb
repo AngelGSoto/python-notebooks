{
 "cells": [
  {
   "cell_type": "markdown",
   "metadata": {},
   "source": [
    "Writing DS9 region based on the Prof Will program. I made this other version to no re-writte the other "
   ]
  },
  {
   "cell_type": "code",
   "execution_count": 1,
   "metadata": {},
   "outputs": [],
   "source": [
    "from astropy.table import Table\n",
    "from astropy.io import ascii\n",
    "#from catalog_utils import region_lines_from_table\n",
    "from catalog_utils_v2 import region_lines_from_table \n",
    "import numpy as np\n",
    "from pathlib import Path\n",
    "import os\n",
    "import sys\n"
   ]
  },
  {
   "cell_type": "code",
   "execution_count": 2,
   "metadata": {},
   "outputs": [],
   "source": [
    "ROOT_PATH = Path(\"..\") # necessary since we are in the `notebooks/` sub-folder"
   ]
  },
  {
   "cell_type": "code",
   "execution_count": 5,
   "metadata": {},
   "outputs": [
    {
     "name": "stdout",
     "output_type": "stream",
     "text": [
      "../JPLUS-DR2/aper6_mag_idr/Field_71690/71690-16885_position.reg\n",
      "../JPLUS-DR2/aper6_mag_idr/Field_71690/71690-17355_position.reg\n",
      "../JPLUS-DR2/aper6_mag_idr/Field_71690/71690-17943_position.reg\n",
      "../JPLUS-DR2/aper6_mag_idr/Field_71690/71690-18107_position.reg\n",
      "../JPLUS-DR2/aper6_mag_idr/Field_71690/71690-18758_position.reg\n",
      "../JPLUS-DR2/aper6_mag_idr/Field_71690/71690-19796_position.reg\n",
      "../JPLUS-DR2/aper6_mag_idr/Field_70063/70063-24151_position.reg\n",
      "../JPLUS-DR2/aper6_mag_idr/Field_70063/70063-24692_position.reg\n",
      "../JPLUS-DR2/aper6_mag_idr/Field_70063/70063-26451_position.reg\n",
      "../JPLUS-DR2/aper6_mag_idr/Field_70455/70455-1485_position.reg\n",
      "../JPLUS-DR2/aper6_mag_idr/Field_73268/73268-5491_position.reg\n",
      "../JPLUS-DR2/aper6_mag_idr/Field_70466/70466-9220_position.reg\n",
      "../JPLUS-DR2/aper6_mag_idr/Field_70466/70466-18549_position.reg\n",
      "../JPLUS-DR2/aper6_mag_idr/Field_71787/71787-12645_position.reg\n",
      "../JPLUS-DR2/aper6_mag_idr/Field_67905/67905-25070_position.reg\n",
      "../JPLUS-DR2/aper6_mag_idr/Field_69221/69221-9002_position.reg\n",
      "../JPLUS-DR2/aper6_mag_idr/Field_70525/70525-9777_position.reg\n",
      "../JPLUS-DR2/aper6_mag_idr/Field_64235/64235-10908_position.reg\n",
      "../JPLUS-DR2/aper6_mag_idr/Field_64235/64235-12290_position.reg\n",
      "../JPLUS-DR2/aper6_mag_idr/Field_69286/69286-18169_position.reg\n",
      "../JPLUS-DR2/aper6_mag_idr/Field_63728/63728-10889_position.reg\n",
      "../JPLUS-DR2/aper6_mag_idr/Field_63728/63728-15748_position.reg\n",
      "../JPLUS-DR2/aper6_mag_idr/Field_73559/73559-18072_position.reg\n",
      "../JPLUS-DR2/aper6_mag_idr/Field_67002/67002-15821_position.reg\n",
      "../JPLUS-DR2/aper6_mag_idr/Field_62617/62617-9746_position.reg\n",
      "../JPLUS-DR2/aper6_mag_idr/Field_68450/68450-10025_position.reg\n",
      "../JPLUS-DR2/aper6_mag_idr/Field_75211/75211-19498_position.reg\n",
      "../JPLUS-DR2/aper6_mag_idr/Field_63864/63864-47481_position.reg\n",
      "../JPLUS-DR2/aper6_mag_idr/Field_63864/63864-51786_position.reg\n",
      "../JPLUS-DR2/aper6_mag_idr/Field_72839/72839-2824_position.reg\n",
      "../JPLUS-DR2/aper6_mag_idr/Field_63236/63236-4396_position.reg\n",
      "../JPLUS-DR2/aper6_mag_idr/Field_68634/68634-5210_position.reg\n",
      "../JPLUS-DR2/aper6_mag_idr/Field_68634/68634-14415_position.reg\n",
      "../JPLUS-DR2/aper6_mag_idr/Field_68634/68634-15296_position.reg\n",
      "../JPLUS-DR2/aper6_mag_idr/Field_68634/68634-15793_position.reg\n",
      "../JPLUS-DR2/aper6_mag_idr/Field_68634/68634-15923_position.reg\n",
      "../JPLUS-DR2/aper6_mag_idr/Field_68634/68634-15938_position.reg\n",
      "../JPLUS-DR2/aper6_mag_idr/Field_68634/68634-15940_position.reg\n",
      "../JPLUS-DR2/aper6_mag_idr/Field_68634/68634-15941_position.reg\n",
      "../JPLUS-DR2/aper6_mag_idr/Field_68634/68634-15957_position.reg\n",
      "../JPLUS-DR2/aper6_mag_idr/Field_68634/68634-16015_position.reg\n",
      "../JPLUS-DR2/aper6_mag_idr/Field_68634/68634-16234_position.reg\n",
      "../JPLUS-DR2/aper6_mag_idr/Field_68634/68634-16473_position.reg\n",
      "../JPLUS-DR2/aper6_mag_idr/Field_68634/68634-16481_position.reg\n",
      "../JPLUS-DR2/aper6_mag_idr/Field_68634/68634-16543_position.reg\n",
      "../JPLUS-DR2/aper6_mag_idr/Field_68634/68634-16609_position.reg\n",
      "../JPLUS-DR2/aper6_mag_idr/Field_68634/68634-16616_position.reg\n",
      "../JPLUS-DR2/aper6_mag_idr/Field_68634/68634-16639_position.reg\n",
      "../JPLUS-DR2/aper6_mag_idr/Field_68634/68634-16776_position.reg\n",
      "../JPLUS-DR2/aper6_mag_idr/Field_68634/68634-16755_position.reg\n",
      "../JPLUS-DR2/aper6_mag_idr/Field_68634/68634-16824_position.reg\n",
      "../JPLUS-DR2/aper6_mag_idr/Field_68634/68634-16909_position.reg\n",
      "../JPLUS-DR2/aper6_mag_idr/Field_68634/68634-17965_position.reg\n",
      "../JPLUS-DR2/aper6_mag_idr/Field_68634/68634-18120_position.reg\n",
      "../JPLUS-DR2/aper6_mag_idr/Field_68634/68634-18526_position.reg\n",
      "../JPLUS-DR2/aper6_mag_idr/Field_68634/68634-18964_position.reg\n",
      "../JPLUS-DR2/aper6_mag_idr/Field_68634/68634-22101_position.reg\n",
      "../JPLUS-DR2/aper6_mag_idr/Field_68634/68634-23787_position.reg\n",
      "../JPLUS-DR2/aper6_mag_idr/Field_67346/67346-16270_position.reg\n",
      "../JPLUS-DR2/aper6_mag_idr/Field_63308/63308-6151_position.reg\n",
      "../JPLUS-DR2/aper6_mag_idr/Field_70145/70145-19210_position.reg\n",
      "../JPLUS-DR2/aper6_mag_idr/Field_63391/63391-14288_position.reg\n",
      "../JPLUS-DR2/aper6_mag_idr/Field_64626/64626-37444_position.reg\n",
      "../JPLUS-DR2/aper6_mag_idr/Field_67646/67646-12452_position.reg\n",
      "../JPLUS-DR2/aper6_mag_idr/Field_70362/70362-24746_position.reg\n",
      "../JPLUS-DR2/aper6_mag_idr/Field_70362/70362-24916_position.reg\n",
      "../JPLUS-DR2/aper6_mag_idr/Field_70431/70431-16825_position.reg\n",
      "../JPLUS-DR2/aper6_mag_idr/Field_74823/74823-6352_position.reg\n",
      "../JPLUS-DR2/aper6_mag_idr/Field_64078/64078-73697_position.reg\n",
      "../JPLUS-DR2/aper6_mag_idr/Field_72851/72851-11490_position.reg\n",
      "../JPLUS-DR2/aper6_mag_idr/Field_67752/67752-2740_position.reg\n",
      "../JPLUS-DR2/aper6_mag_idr/Field_75427/75427-11008_position.reg\n",
      "../JPLUS-DR2/aper6_mag_idr/Field_65478/65478-6149_position.reg\n",
      "../JPLUS-DR2/aper6_mag_idr/Field_65478/65478-6156_position.reg\n",
      "../JPLUS-DR2/aper6_mag_idr/Field_75572/75572-15626_position.reg\n",
      "../JPLUS-DR2/aper6_mag_idr/Field_66536/66536-12008_position.reg\n",
      "../JPLUS-DR2/aper6_mag_idr/Field_66536/66536-12037_position.reg\n",
      "../JPLUS-DR2/aper6_mag_idr/Field_66536/66536-15026_position.reg\n",
      "../JPLUS-DR2/aper6_mag_idr/Field_64138/64138-3942_position.reg\n",
      "../JPLUS-DR2/aper6_mag_idr/Field_66608/66608-6957_position.reg\n"
     ]
    }
   ],
   "source": [
    "table = Table.read(ROOT_PATH / \"JPLUS-DR2/aper6_mag_idr/PN-pc-Halpha_emitters_threeerror-cleaning-limfilter-limcolor-flags-mask-broad-macht.tab\", format=\"ascii\")\n",
    "n = len(table)\n",
    "table\n",
    "for i in range(n):\n",
    "    phat = \"../JPLUS-DR2/aper6_mag_idr/Field_\" + str(table[i][\"Tile\"])\n",
    "    regionfile = str(table[i][\"Tile\"])+\"-\"+str(table[i][\"Number\"])+\"_position.reg\"\n",
    "    #print(phat, regionfile)\n",
    "    if phat.split(\"d_\")[-1] == regionfile.split(\"-\")[0]:\n",
    "        regionfile_path = phat + \"/\" + regionfile\n",
    "        print(regionfile_path)\n",
    "        try:\n",
    "            with open(regionfile_path, 'w') as f:\n",
    "                f.write('\\n'.join(region_lines_from_table(Table(table[i]), ra='RA', dec='Dec', radius='petro_radius', tile='Tile', name='Number',\n",
    "                                                           color='cyan')))\n",
    "        except FileNotFoundError:\n",
    "            continue\n",
    "           "
   ]
  },
  {
   "cell_type": "code",
   "execution_count": 4,
   "metadata": {},
   "outputs": [
    {
     "data": {
      "text/html": [
       "<i>Table length=80</i>\n",
       "<table id=\"table139845511562832\" class=\"table-striped table-bordered table-condensed\">\n",
       "<thead><tr><th>Tile</th><th>Number</th><th>RA</th><th>Dec</th><th>petro_radius</th><th>kron_radius</th><th>rSDSS_auto</th><th>gSDSS_auto</th><th>iSDSS_auto</th><th>zSDSS_auto</th><th>uJAVA_auto</th><th>J0378_auto</th><th>J0395_auto</th><th>J0410_auto</th><th>J0430_auto</th><th>J0515_auto</th><th>J0660_auto</th><th>J0861_auto</th><th>rSDSS_PETRO</th><th>gSDSS_PETRO</th><th>iSDSS_PETRO</th><th>zSDSS_PETRO</th><th>uJAVA_PETRO</th><th>J0378_PETRO</th><th>J0395_PETRO</th><th>J0410_PETRO</th><th>J0430_PETRO</th><th>J0515_PETRO</th><th>J0660_PETRO</th><th>J0861_PETRO</th><th>rSDSS_MAG_APER_6_0</th><th>gSDSS_MAG_APER_6_0</th><th>iSDSS_MAG_APER_6_0</th><th>zSDSS_MAG_APER_6_0</th><th>uJAVA_MAG_APER_6_0</th><th>J0378_MAG_APER_6_0</th><th>J0395_MAG_APER_6_0</th><th>J0410_MAG_APER_6_0</th><th>J0430_MAG_APER_6_0</th><th>J0515_MAG_APER_6_0</th><th>J0660_MAG_APER_6_0</th><th>J0861_MAG_APER_6_0</th><th>rSDSS_auto_err</th><th>gSDSS_auto_err</th><th>iSDSS_auto_err</th><th>zSDSS_auto_err</th><th>uJAVA_auto_err</th><th>J0378_auto_err</th><th>J0395_auto_err</th><th>J0410_auto_err</th><th>J0430_auto_err</th><th>J0515_auto_err</th><th>J0660_auto_err</th><th>J0861_auto_err</th><th>rSDSS_PETRO_err</th><th>gSDSS_PETRO_err</th><th>iSDSS_PETRO_err</th><th>zSDSS_PETRO_err</th><th>uJAVA_PETRO_err</th><th>J0378_PETRO_err</th><th>J0395_PETRO_err</th><th>J0410_PETRO_err</th><th>J0430_PETRO_err</th><th>J0515_PETRO_err</th><th>J0660_PETRO_err</th><th>J0861_PETRO_err</th><th>rSDSS_MAG_APER_6_0_err</th><th>gSDSS_MAG_APER_6_0_err</th><th>iSDSS_MAG_APER_6_0_err</th><th>zSDSS_MAG_APER_6_0_err</th><th>uJAVA_MAG_APER_6_0_err</th><th>J0378_MAG_APER_6_0_err</th><th>J0395_MAG_APER_6_0_err</th><th>J0410_MAG_APER_6_0_err</th><th>J0430_MAG_APER_6_0_err</th><th>J0515_MAG_APER_6_0_err</th><th>J0660_MAG_APER_6_0_err</th><th>J0861_MAG_APER_6_0_err</th><th>rSDSS_FLAGS</th><th>gSDSS_FLAGS</th><th>iSDSS_FLAGS</th><th>zSDSS_FLAGS</th><th>uJAVA_FLAGS</th><th>J0378_FLAGS</th><th>J0395_FLAGS</th><th>J0410_FLAGS</th><th>J0430_FLAGS</th><th>J0515_FLAGS</th><th>J0660_FLAGS</th><th>J0861_FLAGS</th><th>rSDSS_MASK_FLAGS</th><th>gSDSS_MASK_FLAGS</th><th>iSDSS_MASK_FLAGS</th><th>zSDSS_MASK_FLAGS</th><th>uJAVA_MASK_FLAGS</th><th>J0378_MASK_FLAGS</th><th>J0395_MASK_FLAGS</th><th>J0410_MASK_FLAGS</th><th>J0430_MASK_FLAGS</th><th>J0515_MASK_FLAGS</th><th>J0660_MASK_FLAGS</th><th>J0861_MASK_FLAGS</th><th>col1</th><th>col2</th><th>col3</th><th>Separation</th></tr></thead>\n",
       "<thead><tr><th>int64</th><th>int64</th><th>float64</th><th>float64</th><th>float64</th><th>float64</th><th>float64</th><th>float64</th><th>float64</th><th>float64</th><th>float64</th><th>float64</th><th>float64</th><th>float64</th><th>float64</th><th>float64</th><th>float64</th><th>float64</th><th>float64</th><th>float64</th><th>float64</th><th>float64</th><th>float64</th><th>float64</th><th>float64</th><th>float64</th><th>float64</th><th>float64</th><th>float64</th><th>float64</th><th>float64</th><th>float64</th><th>float64</th><th>float64</th><th>float64</th><th>float64</th><th>float64</th><th>float64</th><th>float64</th><th>float64</th><th>float64</th><th>float64</th><th>float64</th><th>float64</th><th>float64</th><th>float64</th><th>float64</th><th>float64</th><th>float64</th><th>float64</th><th>float64</th><th>float64</th><th>float64</th><th>float64</th><th>float64</th><th>float64</th><th>float64</th><th>float64</th><th>float64</th><th>float64</th><th>float64</th><th>float64</th><th>float64</th><th>float64</th><th>float64</th><th>float64</th><th>float64</th><th>float64</th><th>float64</th><th>float64</th><th>float64</th><th>float64</th><th>float64</th><th>float64</th><th>float64</th><th>float64</th><th>float64</th><th>float64</th><th>int64</th><th>int64</th><th>int64</th><th>int64</th><th>int64</th><th>int64</th><th>int64</th><th>int64</th><th>int64</th><th>int64</th><th>int64</th><th>int64</th><th>int64</th><th>int64</th><th>int64</th><th>int64</th><th>int64</th><th>int64</th><th>int64</th><th>int64</th><th>int64</th><th>int64</th><th>int64</th><th>int64</th><th>int64</th><th>float64</th><th>float64</th><th>float64</th></tr></thead>\n",
       "<tr><td>71690</td><td>16885</td><td>16.2572506852</td><td>2.10541303211</td><td>3.5</td><td>4.16466331</td><td>18.965</td><td>18.86</td><td>19.266</td><td>19.528</td><td>18.703</td><td>18.642</td><td>18.514</td><td>18.751</td><td>18.744</td><td>18.847</td><td>18.249</td><td>19.957</td><td>18.955</td><td>18.85</td><td>19.15</td><td>19.44</td><td>18.705</td><td>18.732</td><td>18.686</td><td>18.717</td><td>18.739</td><td>18.907</td><td>18.272</td><td>20.086</td><td>19.006</td><td>18.851</td><td>19.177</td><td>19.529</td><td>18.67</td><td>18.815</td><td>18.722</td><td>18.728</td><td>18.77</td><td>18.915</td><td>18.309</td><td>19.924</td><td>0.063</td><td>0.061</td><td>0.114</td><td>0.282</td><td>0.118</td><td>0.113</td><td>0.101</td><td>0.101</td><td>0.098</td><td>0.104</td><td>0.061</td><td>0.52</td><td>0.053</td><td>0.052</td><td>0.087</td><td>0.218</td><td>0.101</td><td>0.105</td><td>0.101</td><td>0.084</td><td>0.083</td><td>0.093</td><td>0.053</td><td>0.492</td><td>0.048</td><td>0.045</td><td>0.075</td><td>0.199</td><td>0.084</td><td>0.097</td><td>0.09</td><td>0.073</td><td>0.074</td><td>0.081</td><td>0.048</td><td>0.356</td><td>3</td><td>3</td><td>3</td><td>3</td><td>3</td><td>3</td><td>3</td><td>3</td><td>3</td><td>3</td><td>3</td><td>3</td><td>0</td><td>0</td><td>0</td><td>0</td><td>0</td><td>0</td><td>0</td><td>0</td><td>0</td><td>0</td><td>0</td><td>0</td><td>16885</td><td>16.257251</td><td>2.105413</td><td>0.0011383991262610717</td></tr>\n",
       "<tr><td>71690</td><td>17355</td><td>16.2730098396</td><td>2.15494073647</td><td>0.0</td><td>7.19795656</td><td>16.677</td><td>16.647</td><td>16.904</td><td>16.682</td><td>17.222</td><td>17.411</td><td>16.611</td><td>16.767</td><td>16.424</td><td>16.277</td><td>15.757</td><td>17.481</td><td>99.0</td><td>19.566</td><td>18.006</td><td>16.834</td><td>99.0</td><td>99.0</td><td>18.274</td><td>99.0</td><td>18.402</td><td>16.54</td><td>99.0</td><td>99.0</td><td>19.232</td><td>19.797</td><td>19.659</td><td>19.217</td><td>19.04</td><td>18.884</td><td>20.212</td><td>19.765</td><td>19.677</td><td>20.054</td><td>17.752</td><td>19.689</td><td>0.093</td><td>0.089</td><td>0.166</td><td>0.265</td><td>0.313</td><td>0.407</td><td>0.192</td><td>0.171</td><td>0.131</td><td>0.105</td><td>0.072</td><td>0.676</td><td>99.0</td><td>2.062</td><td>0.749</td><td>0.499</td><td>99.0</td><td>99.0</td><td>1.377</td><td>99.0</td><td>1.281</td><td>0.205</td><td>99.0</td><td>99.0</td><td>0.059</td><td>0.101</td><td>0.116</td><td>0.15</td><td>0.116</td><td>0.104</td><td>0.334</td><td>0.18</td><td>0.161</td><td>0.218</td><td>0.032</td><td>0.286</td><td>3</td><td>3</td><td>3</td><td>3</td><td>3</td><td>3</td><td>3</td><td>3</td><td>3</td><td>3</td><td>3</td><td>3</td><td>0</td><td>0</td><td>0</td><td>0</td><td>0</td><td>0</td><td>0</td><td>0</td><td>0</td><td>0</td><td>0</td><td>0</td><td>17355</td><td>16.27301</td><td>2.154941</td><td>0.0011104109035553005</td></tr>\n",
       "<tr><td>71690</td><td>17943</td><td>16.258357097</td><td>2.14767972402</td><td>10.5600004</td><td>6.16258764</td><td>17.783</td><td>17.862</td><td>18.134</td><td>17.7</td><td>17.937</td><td>16.939</td><td>17.059</td><td>18.295</td><td>18.493</td><td>18.068</td><td>15.946</td><td>17.147</td><td>20.675</td><td>17.796</td><td>17.941</td><td>17.33</td><td>99.0</td><td>16.61</td><td>16.477</td><td>99.0</td><td>99.0</td><td>17.207</td><td>17.117</td><td>16.338</td><td>18.499</td><td>18.601</td><td>18.876</td><td>18.956</td><td>18.499</td><td>18.25</td><td>18.525</td><td>18.587</td><td>18.555</td><td>18.777</td><td>17.364</td><td>18.778</td><td>0.114</td><td>0.123</td><td>0.223</td><td>0.293</td><td>0.286</td><td>0.12</td><td>0.133</td><td>0.327</td><td>0.398</td><td>0.252</td><td>0.039</td><td>0.216</td><td>3.066</td><td>0.214</td><td>0.358</td><td>0.399</td><td>99.0</td><td>0.163</td><td>0.142</td><td>99.0</td><td>99.0</td><td>0.207</td><td>0.212</td><td>0.195</td><td>0.032</td><td>0.038</td><td>0.058</td><td>0.118</td><td>0.074</td><td>0.062</td><td>0.077</td><td>0.066</td><td>0.063</td><td>0.072</td><td>0.024</td><td>0.125</td><td>3</td><td>3</td><td>3</td><td>3</td><td>3</td><td>3</td><td>3</td><td>3</td><td>3</td><td>3</td><td>3</td><td>3</td><td>0</td><td>0</td><td>0</td><td>0</td><td>0</td><td>0</td><td>0</td><td>0</td><td>0</td><td>0</td><td>0</td><td>0</td><td>17943</td><td>16.258357</td><td>2.14768</td><td>0.0010530276690058197</td></tr>\n",
       "<tr><td>71690</td><td>18107</td><td>16.2602086665</td><td>2.13418797285</td><td>0.0</td><td>7.65174103</td><td>16.984</td><td>16.583</td><td>16.654</td><td>18.05</td><td>16.927</td><td>15.339</td><td>15.708</td><td>16.532</td><td>16.126</td><td>16.433</td><td>99.0</td><td>16.663</td><td>99.0</td><td>17.783</td><td>17.098</td><td>99.0</td><td>18.851</td><td>15.022</td><td>15.361</td><td>17.306</td><td>16.064</td><td>16.617</td><td>99.0</td><td>16.764</td><td>19.071</td><td>19.073</td><td>19.404</td><td>19.461</td><td>19.133</td><td>18.812</td><td>18.979</td><td>18.883</td><td>18.854</td><td>19.173</td><td>18.48</td><td>19.914</td><td>0.14</td><td>0.095</td><td>0.151</td><td>1.072</td><td>0.269</td><td>0.068</td><td>0.094</td><td>0.155</td><td>0.113</td><td>0.137</td><td>99.0</td><td>0.363</td><td>99.0</td><td>0.419</td><td>0.341</td><td>99.0</td><td>2.218</td><td>0.074</td><td>0.098</td><td>0.448</td><td>0.156</td><td>0.231</td><td>99.0</td><td>0.594</td><td>0.052</td><td>0.056</td><td>0.093</td><td>0.188</td><td>0.129</td><td>0.099</td><td>0.116</td><td>0.087</td><td>0.082</td><td>0.103</td><td>0.057</td><td>0.352</td><td>3</td><td>3</td><td>3</td><td>3</td><td>3</td><td>3</td><td>3</td><td>3</td><td>3</td><td>3</td><td>3</td><td>3</td><td>0</td><td>0</td><td>0</td><td>0</td><td>0</td><td>0</td><td>0</td><td>0</td><td>0</td><td>0</td><td>0</td><td>0</td><td>18107</td><td>16.260209</td><td>2.134188</td><td>0.0012037418547811937</td></tr>\n",
       "<tr><td>71690</td><td>18758</td><td>16.2599953258</td><td>2.14481960376</td><td>5.27999973</td><td>3.5</td><td>17.587</td><td>18.574</td><td>18.644</td><td>18.524</td><td>18.403</td><td>17.702</td><td>18.45</td><td>19.033</td><td>18.137</td><td>19.18</td><td>15.795</td><td>18.597</td><td>17.655</td><td>18.888</td><td>18.761</td><td>18.814</td><td>18.587</td><td>17.866</td><td>18.504</td><td>19.606</td><td>18.353</td><td>19.447</td><td>15.822</td><td>18.488</td><td>17.794</td><td>18.816</td><td>18.924</td><td>19.067</td><td>18.495</td><td>18.032</td><td>18.552</td><td>18.906</td><td>18.626</td><td>19.342</td><td>15.929</td><td>18.806</td><td>0.024</td><td>0.06</td><td>0.084</td><td>0.146</td><td>0.115</td><td>0.063</td><td>0.122</td><td>0.165</td><td>0.072</td><td>0.178</td><td>0.011</td><td>0.194</td><td>0.033</td><td>0.104</td><td>0.125</td><td>0.255</td><td>0.177</td><td>0.095</td><td>0.168</td><td>0.366</td><td>0.115</td><td>0.299</td><td>0.013</td><td>0.233</td><td>0.018</td><td>0.044</td><td>0.06</td><td>0.131</td><td>0.073</td><td>0.051</td><td>0.078</td><td>0.085</td><td>0.066</td><td>0.117</td><td>0.009</td><td>0.128</td><td>3</td><td>3</td><td>3</td><td>3</td><td>3</td><td>3</td><td>3</td><td>3</td><td>3</td><td>3</td><td>3</td><td>3</td><td>0</td><td>0</td><td>0</td><td>0</td><td>0</td><td>0</td><td>0</td><td>0</td><td>0</td><td>0</td><td>0</td><td>0</td><td>18758</td><td>16.259995</td><td>2.14482</td><td>0.0018462178103936808</td></tr>\n",
       "<tr><td>71690</td><td>19796</td><td>16.2521709332</td><td>2.17814202988</td><td>5.93999958</td><td>5.22866488</td><td>18.965</td><td>19.035</td><td>19.197</td><td>18.732</td><td>18.371</td><td>19.123</td><td>18.642</td><td>18.999</td><td>19.152</td><td>18.769</td><td>17.836</td><td>23.178</td><td>18.945</td><td>18.923</td><td>19.241</td><td>18.636</td><td>18.228</td><td>19.283</td><td>18.585</td><td>18.976</td><td>19.177</td><td>18.755</td><td>17.827</td><td>99.0</td><td>19.255</td><td>19.318</td><td>19.45</td><td>19.372</td><td>19.143</td><td>19.155</td><td>19.332</td><td>19.467</td><td>19.491</td><td>19.379</td><td>18.125</td><td>19.77</td><td>0.103</td><td>0.112</td><td>0.176</td><td>0.225</td><td>0.137</td><td>0.281</td><td>0.181</td><td>0.199</td><td>0.227</td><td>0.153</td><td>0.067</td><td>16.71</td><td>0.111</td><td>0.111</td><td>0.202</td><td>0.227</td><td>0.132</td><td>0.358</td><td>0.188</td><td>0.214</td><td>0.255</td><td>0.166</td><td>0.073</td><td>99.0</td><td>0.059</td><td>0.066</td><td>0.096</td><td>0.172</td><td>0.125</td><td>0.13</td><td>0.151</td><td>0.138</td><td>0.138</td><td>0.12</td><td>0.041</td><td>0.308</td><td>3</td><td>3</td><td>3</td><td>3</td><td>3</td><td>3</td><td>3</td><td>3</td><td>3</td><td>3</td><td>3</td><td>3</td><td>0</td><td>0</td><td>0</td><td>0</td><td>0</td><td>0</td><td>0</td><td>0</td><td>0</td><td>0</td><td>0</td><td>0</td><td>19796</td><td>16.252171</td><td>2.178142</td><td>0.00026328306008953107</td></tr>\n",
       "<tr><td>70063</td><td>24151</td><td>114.205796131</td><td>65.6878349645</td><td>5.93999958</td><td>4.75463343</td><td>18.416</td><td>18.201</td><td>18.821</td><td>18.726</td><td>17.839</td><td>17.563</td><td>18.344</td><td>18.299</td><td>18.388</td><td>18.721</td><td>16.691</td><td>19.0</td><td>18.335</td><td>18.141</td><td>18.716</td><td>19.068</td><td>17.897</td><td>17.498</td><td>18.124</td><td>18.23</td><td>18.288</td><td>18.74</td><td>16.623</td><td>19.044</td><td>18.866</td><td>18.768</td><td>19.547</td><td>19.403</td><td>18.725</td><td>18.352</td><td>19.012</td><td>19.043</td><td>19.085</td><td>19.434</td><td>17.095</td><td>19.878</td><td>0.066</td><td>0.061</td><td>0.11</td><td>0.246</td><td>0.09</td><td>0.075</td><td>0.151</td><td>0.114</td><td>0.118</td><td>0.167</td><td>0.026</td><td>0.367</td><td>0.078</td><td>0.073</td><td>0.128</td><td>0.43</td><td>0.119</td><td>0.088</td><td>0.154</td><td>0.134</td><td>0.135</td><td>0.213</td><td>0.031</td><td>0.485</td><td>0.033</td><td>0.036</td><td>0.064</td><td>0.138</td><td>0.07</td><td>0.056</td><td>0.094</td><td>0.077</td><td>0.075</td><td>0.104</td><td>0.016</td><td>0.253</td><td>3</td><td>3</td><td>3</td><td>3</td><td>3</td><td>3</td><td>3</td><td>3</td><td>3</td><td>3</td><td>3</td><td>3</td><td>0</td><td>0</td><td>0</td><td>0</td><td>0</td><td>0</td><td>0</td><td>0</td><td>0</td><td>0</td><td>0</td><td>0</td><td>24151</td><td>114.205796</td><td>65.687835</td><td>0.0002324467806069685</td></tr>\n",
       "<tr><td>70063</td><td>24692</td><td>114.236531125</td><td>65.6644227241</td><td>10.5600004</td><td>7.18134356</td><td>17.491</td><td>17.366</td><td>17.975</td><td>19.393</td><td>17.64</td><td>18.021</td><td>17.443</td><td>17.442</td><td>17.826</td><td>18.093</td><td>16.166</td><td>17.537</td><td>17.744</td><td>17.311</td><td>18.361</td><td>99.0</td><td>17.641</td><td>22.247</td><td>17.255</td><td>17.056</td><td>18.471</td><td>18.045</td><td>16.113</td><td>17.375</td><td>18.99</td><td>19.125</td><td>19.244</td><td>19.149</td><td>18.945</td><td>18.811</td><td>18.956</td><td>19.275</td><td>19.091</td><td>19.433</td><td>17.862</td><td>19.203</td><td>0.068</td><td>0.065</td><td>0.125</td><td>1.09</td><td>0.166</td><td>0.246</td><td>0.143</td><td>0.113</td><td>0.158</td><td>0.211</td><td>0.037</td><td>0.222</td><td>0.134</td><td>0.094</td><td>0.286</td><td>99.0</td><td>0.246</td><td>17.507</td><td>0.176</td><td>0.117</td><td>0.429</td><td>0.304</td><td>0.054</td><td>0.295</td><td>0.037</td><td>0.048</td><td>0.05</td><td>0.11</td><td>0.084</td><td>0.083</td><td>0.09</td><td>0.094</td><td>0.076</td><td>0.105</td><td>0.029</td><td>0.137</td><td>3</td><td>3</td><td>3</td><td>3</td><td>3</td><td>3</td><td>3</td><td>3</td><td>3</td><td>3</td><td>3</td><td>3</td><td>0</td><td>0</td><td>0</td><td>0</td><td>0</td><td>0</td><td>0</td><td>0</td><td>0</td><td>0</td><td>0</td><td>0</td><td>24692</td><td>114.236531</td><td>65.664423</td><td>0.001010401981248413</td></tr>\n",
       "<tr><td>70063</td><td>26451</td><td>113.965152896</td><td>65.5832793812</td><td>10.5600004</td><td>6.91200256</td><td>17.74</td><td>17.912</td><td>18.274</td><td>17.531</td><td>17.604</td><td>17.239</td><td>18.278</td><td>17.91</td><td>17.82</td><td>18.874</td><td>16.841</td><td>19.155</td><td>17.448</td><td>17.772</td><td>17.805</td><td>17.2</td><td>17.019</td><td>17.002</td><td>18.896</td><td>17.722</td><td>17.66</td><td>18.722</td><td>16.863</td><td>99.0</td><td>19.165</td><td>19.185</td><td>19.694</td><td>19.737</td><td>18.854</td><td>18.633</td><td>19.094</td><td>19.125</td><td>19.087</td><td>19.471</td><td>17.969</td><td>20.276</td><td>0.072</td><td>0.092</td><td>0.139</td><td>0.168</td><td>0.14</td><td>0.105</td><td>0.271</td><td>0.153</td><td>0.137</td><td>0.377</td><td>0.059</td><td>0.853</td><td>0.092</td><td>0.13</td><td>0.152</td><td>0.205</td><td>0.128</td><td>0.129</td><td>0.737</td><td>0.199</td><td>0.186</td><td>0.52</td><td>0.098</td><td>99.0</td><td>0.042</td><td>0.049</td><td>0.072</td><td>0.186</td><td>0.077</td><td>0.069</td><td>0.101</td><td>0.081</td><td>0.074</td><td>0.108</td><td>0.03</td><td>0.361</td><td>2</td><td>2</td><td>2</td><td>2</td><td>2</td><td>2</td><td>2</td><td>2</td><td>2</td><td>2</td><td>2</td><td>2</td><td>0</td><td>0</td><td>0</td><td>0</td><td>0</td><td>0</td><td>0</td><td>0</td><td>0</td><td>0</td><td>0</td><td>0</td><td>26451</td><td>113.965153</td><td>65.583279</td><td>0.001381019416230524</td></tr>\n",
       "<tr><td>70455</td><td>1485</td><td>149.076360434</td><td>68.8286145796</td><td>6.59999943</td><td>4.2734046</td><td>18.478</td><td>18.453</td><td>19.333</td><td>19.069</td><td>18.951</td><td>18.36</td><td>18.819</td><td>19.42</td><td>18.706</td><td>19.32</td><td>16.622</td><td>18.656</td><td>18.46</td><td>18.365</td><td>19.26</td><td>19.037</td><td>18.438</td><td>18.358</td><td>18.735</td><td>19.808</td><td>18.439</td><td>19.346</td><td>16.572</td><td>18.556</td><td>18.765</td><td>18.721</td><td>19.643</td><td>19.247</td><td>19.23</td><td>18.663</td><td>19.169</td><td>19.553</td><td>19.242</td><td>19.385</td><td>16.928</td><td>19.463</td><td>0.051</td><td>0.055</td><td>0.121</td><td>0.216</td><td>0.212</td><td>0.122</td><td>0.177</td><td>0.272</td><td>0.13</td><td>0.229</td><td>0.019</td><td>0.18</td><td>0.079</td><td>0.078</td><td>0.181</td><td>0.331</td><td>0.204</td><td>0.188</td><td>0.254</td><td>0.605</td><td>0.157</td><td>0.363</td><td>0.026</td><td>0.258</td><td>0.033</td><td>0.036</td><td>0.076</td><td>0.12</td><td>0.135</td><td>0.081</td><td>0.121</td><td>0.149</td><td>0.105</td><td>0.119</td><td>0.015</td><td>0.179</td><td>0</td><td>0</td><td>0</td><td>0</td><td>0</td><td>0</td><td>0</td><td>0</td><td>0</td><td>0</td><td>0</td><td>0</td><td>0</td><td>0</td><td>0</td><td>0</td><td>0</td><td>0</td><td>0</td><td>0</td><td>0</td><td>0</td><td>0</td><td>0</td><td>1485</td><td>149.07636</td><td>68.828615</td><td>0.0016152109720481405</td></tr>\n",
       "<tr><td>...</td><td>...</td><td>...</td><td>...</td><td>...</td><td>...</td><td>...</td><td>...</td><td>...</td><td>...</td><td>...</td><td>...</td><td>...</td><td>...</td><td>...</td><td>...</td><td>...</td><td>...</td><td>...</td><td>...</td><td>...</td><td>...</td><td>...</td><td>...</td><td>...</td><td>...</td><td>...</td><td>...</td><td>...</td><td>...</td><td>...</td><td>...</td><td>...</td><td>...</td><td>...</td><td>...</td><td>...</td><td>...</td><td>...</td><td>...</td><td>...</td><td>...</td><td>...</td><td>...</td><td>...</td><td>...</td><td>...</td><td>...</td><td>...</td><td>...</td><td>...</td><td>...</td><td>...</td><td>...</td><td>...</td><td>...</td><td>...</td><td>...</td><td>...</td><td>...</td><td>...</td><td>...</td><td>...</td><td>...</td><td>...</td><td>...</td><td>...</td><td>...</td><td>...</td><td>...</td><td>...</td><td>...</td><td>...</td><td>...</td><td>...</td><td>...</td><td>...</td><td>...</td><td>...</td><td>...</td><td>...</td><td>...</td><td>...</td><td>...</td><td>...</td><td>...</td><td>...</td><td>...</td><td>...</td><td>...</td><td>...</td><td>...</td><td>...</td><td>...</td><td>...</td><td>...</td><td>...</td><td>...</td><td>...</td><td>...</td><td>...</td><td>...</td><td>...</td><td>...</td><td>...</td><td>...</td></tr>\n",
       "<tr><td>67752</td><td>2740</td><td>212.260672142</td><td>48.0130205965</td><td>5.27999973</td><td>3.98356652</td><td>17.913</td><td>17.85</td><td>18.235</td><td>18.272</td><td>18.416</td><td>18.098</td><td>17.982</td><td>18.209</td><td>17.894</td><td>17.427</td><td>16.569</td><td>18.485</td><td>17.841</td><td>17.855</td><td>18.218</td><td>18.052</td><td>18.372</td><td>18.161</td><td>18.044</td><td>18.227</td><td>17.792</td><td>17.351</td><td>16.564</td><td>18.349</td><td>18.103</td><td>18.003</td><td>18.501</td><td>18.542</td><td>18.51</td><td>18.187</td><td>18.255</td><td>18.355</td><td>18.187</td><td>17.592</td><td>16.7</td><td>18.629</td><td>0.027</td><td>0.026</td><td>0.038</td><td>0.1</td><td>0.101</td><td>0.08</td><td>0.072</td><td>0.068</td><td>0.049</td><td>0.033</td><td>0.016</td><td>0.145</td><td>0.033</td><td>0.034</td><td>0.05</td><td>0.109</td><td>0.127</td><td>0.11</td><td>0.099</td><td>0.09</td><td>0.058</td><td>0.039</td><td>0.02</td><td>0.17</td><td>0.02</td><td>0.02</td><td>0.028</td><td>0.072</td><td>0.065</td><td>0.054</td><td>0.056</td><td>0.048</td><td>0.04</td><td>0.025</td><td>0.013</td><td>0.093</td><td>3</td><td>3</td><td>3</td><td>3</td><td>3</td><td>3</td><td>3</td><td>3</td><td>3</td><td>3</td><td>3</td><td>3</td><td>0</td><td>0</td><td>0</td><td>0</td><td>0</td><td>0</td><td>0</td><td>0</td><td>0</td><td>0</td><td>0</td><td>0</td><td>2740</td><td>212.260672</td><td>48.013021</td><td>0.0014923111045155786</td></tr>\n",
       "<tr><td>75427</td><td>11008</td><td>279.877971942</td><td>73.5828567713</td><td>6.59999943</td><td>4.92310047</td><td>14.262</td><td>14.586</td><td>14.027</td><td>13.785</td><td>15.928</td><td>14.884</td><td>15.204</td><td>14.906</td><td>14.8</td><td>14.374</td><td>13.67</td><td>14.029</td><td>14.289</td><td>14.606</td><td>13.979</td><td>13.712</td><td>16.194</td><td>14.807</td><td>15.376</td><td>15.036</td><td>14.823</td><td>14.344</td><td>13.65</td><td>13.998</td><td>16.854</td><td>16.99</td><td>17.311</td><td>17.187</td><td>17.419</td><td>16.71</td><td>17.336</td><td>17.552</td><td>17.434</td><td>16.666</td><td>15.225</td><td>17.32</td><td>0.015</td><td>0.017</td><td>0.011</td><td>0.027</td><td>0.114</td><td>0.048</td><td>0.052</td><td>0.036</td><td>0.029</td><td>0.015</td><td>0.012</td><td>0.033</td><td>0.023</td><td>0.025</td><td>0.017</td><td>0.037</td><td>0.207</td><td>0.063</td><td>0.085</td><td>0.056</td><td>0.041</td><td>0.021</td><td>0.018</td><td>0.047</td><td>0.012</td><td>0.012</td><td>0.012</td><td>0.029</td><td>0.031</td><td>0.021</td><td>0.028</td><td>0.031</td><td>0.025</td><td>0.011</td><td>0.006</td><td>0.033</td><td>3</td><td>3</td><td>3</td><td>3</td><td>3</td><td>3</td><td>3</td><td>3</td><td>3</td><td>3</td><td>3</td><td>3</td><td>0</td><td>0</td><td>0</td><td>0</td><td>0</td><td>0</td><td>0</td><td>0</td><td>0</td><td>0</td><td>0</td><td>0</td><td>11008</td><td>279.877972</td><td>73.582857</td><td>0.0008254322071403005</td></tr>\n",
       "<tr><td>65478</td><td>6149</td><td>139.135657686</td><td>39.8675260847</td><td>8.57999992</td><td>3.5</td><td>18.763</td><td>19.02</td><td>19.259</td><td>19.163</td><td>19.167</td><td>18.528</td><td>19.086</td><td>19.425</td><td>19.235</td><td>18.517</td><td>17.235</td><td>19.367</td><td>19.387</td><td>19.93</td><td>19.607</td><td>99.0</td><td>19.312</td><td>18.714</td><td>19.06</td><td>20.058</td><td>20.705</td><td>19.202</td><td>17.211</td><td>23.057</td><td>18.742</td><td>18.938</td><td>19.23</td><td>19.057</td><td>19.18</td><td>18.536</td><td>19.137</td><td>19.31</td><td>19.148</td><td>18.468</td><td>17.241</td><td>19.258</td><td>0.036</td><td>0.046</td><td>0.082</td><td>0.149</td><td>0.106</td><td>0.064</td><td>0.105</td><td>0.119</td><td>0.104</td><td>0.057</td><td>0.02</td><td>0.228</td><td>0.128</td><td>0.206</td><td>0.237</td><td>99.0</td><td>0.243</td><td>0.146</td><td>0.205</td><td>0.433</td><td>0.806</td><td>0.204</td><td>0.035</td><td>14.53</td><td>0.034</td><td>0.041</td><td>0.074</td><td>0.126</td><td>0.102</td><td>0.061</td><td>0.104</td><td>0.101</td><td>0.091</td><td>0.051</td><td>0.02</td><td>0.193</td><td>3</td><td>3</td><td>3</td><td>3</td><td>3</td><td>3</td><td>3</td><td>3</td><td>3</td><td>3</td><td>3</td><td>3</td><td>0</td><td>0</td><td>0</td><td>0</td><td>0</td><td>0</td><td>0</td><td>0</td><td>0</td><td>0</td><td>0</td><td>0</td><td>6149</td><td>139.135658</td><td>39.867526</td><td>0.0009196362645558461</td></tr>\n",
       "<tr><td>65478</td><td>6156</td><td>139.136610165</td><td>39.8660987909</td><td>6.59999943</td><td>4.82771206</td><td>17.737</td><td>17.669</td><td>18.255</td><td>18.13</td><td>18.311</td><td>17.532</td><td>17.936</td><td>18.09</td><td>17.848</td><td>17.191</td><td>16.304</td><td>17.909</td><td>17.641</td><td>17.556</td><td>18.162</td><td>17.808</td><td>18.277</td><td>17.551</td><td>17.677</td><td>17.824</td><td>17.7</td><td>17.07</td><td>16.211</td><td>17.753</td><td>18.179</td><td>18.103</td><td>18.679</td><td>18.621</td><td>18.425</td><td>17.852</td><td>18.24</td><td>18.399</td><td>18.367</td><td>17.588</td><td>16.719</td><td>18.647</td><td>0.037</td><td>0.034</td><td>0.089</td><td>0.161</td><td>0.128</td><td>0.065</td><td>0.096</td><td>0.093</td><td>0.076</td><td>0.043</td><td>0.02</td><td>0.166</td><td>0.045</td><td>0.04</td><td>0.11</td><td>0.161</td><td>0.164</td><td>0.087</td><td>0.1</td><td>0.097</td><td>0.088</td><td>0.05</td><td>0.024</td><td>0.193</td><td>0.022</td><td>0.022</td><td>0.048</td><td>0.09</td><td>0.058</td><td>0.038</td><td>0.053</td><td>0.051</td><td>0.05</td><td>0.028</td><td>0.014</td><td>0.118</td><td>3</td><td>3</td><td>3</td><td>3</td><td>3</td><td>3</td><td>3</td><td>3</td><td>3</td><td>3</td><td>3</td><td>3</td><td>0</td><td>0</td><td>0</td><td>0</td><td>0</td><td>0</td><td>0</td><td>0</td><td>0</td><td>0</td><td>0</td><td>0</td><td>6156</td><td>139.13661</td><td>39.866099</td><td>0.0008800636410970943</td></tr>\n",
       "<tr><td>75572</td><td>15626</td><td>154.679463255</td><td>46.0505559068</td><td>10.5600004</td><td>5.70121002</td><td>15.372</td><td>15.635</td><td>15.323</td><td>15.363</td><td>16.278</td><td>16.073</td><td>15.793</td><td>15.841</td><td>15.58</td><td>15.606</td><td>14.74</td><td>15.202</td><td>15.571</td><td>15.976</td><td>15.562</td><td>15.813</td><td>15.949</td><td>16.46</td><td>15.672</td><td>16.106</td><td>15.476</td><td>15.664</td><td>14.769</td><td>15.283</td><td>17.625</td><td>17.542</td><td>18.086</td><td>18.041</td><td>18.02</td><td>17.668</td><td>17.854</td><td>18.099</td><td>17.934</td><td>18.152</td><td>16.102</td><td>18.096</td><td>0.018</td><td>0.022</td><td>0.02</td><td>0.052</td><td>0.076</td><td>0.067</td><td>0.055</td><td>0.042</td><td>0.033</td><td>0.037</td><td>0.018</td><td>0.051</td><td>0.046</td><td>0.063</td><td>0.055</td><td>0.172</td><td>0.106</td><td>0.187</td><td>0.099</td><td>0.104</td><td>0.059</td><td>0.081</td><td>0.04</td><td>0.117</td><td>0.013</td><td>0.014</td><td>0.021</td><td>0.045</td><td>0.039</td><td>0.031</td><td>0.035</td><td>0.034</td><td>0.029</td><td>0.035</td><td>0.009</td><td>0.056</td><td>3</td><td>3</td><td>3</td><td>3</td><td>3</td><td>3</td><td>3</td><td>3</td><td>3</td><td>3</td><td>3</td><td>3</td><td>0</td><td>0</td><td>0</td><td>0</td><td>0</td><td>0</td><td>0</td><td>0</td><td>0</td><td>0</td><td>0</td><td>0</td><td>15626</td><td>154.679463</td><td>46.050556</td><td>0.0007200605921597812</td></tr>\n",
       "<tr><td>66536</td><td>12008</td><td>187.20049073</td><td>43.230197756</td><td>0.0</td><td>6.57369423</td><td>18.15</td><td>18.724</td><td>18.652</td><td>17.714</td><td>17.904</td><td>17.328</td><td>17.694</td><td>19.597</td><td>17.982</td><td>20.379</td><td>16.638</td><td>18.135</td><td>99.0</td><td>99.0</td><td>99.0</td><td>18.047</td><td>17.198</td><td>16.785</td><td>17.23</td><td>99.0</td><td>17.843</td><td>99.0</td><td>17.064</td><td>18.638</td><td>18.738</td><td>18.686</td><td>19.515</td><td>19.588</td><td>18.956</td><td>18.645</td><td>19.109</td><td>19.311</td><td>19.132</td><td>19.573</td><td>16.907</td><td>20.136</td><td>0.126</td><td>0.217</td><td>0.229</td><td>0.206</td><td>0.21</td><td>0.142</td><td>0.191</td><td>0.917</td><td>0.188</td><td>1.854</td><td>0.055</td><td>0.38</td><td>99.0</td><td>99.0</td><td>99.0</td><td>0.488</td><td>0.183</td><td>0.146</td><td>0.204</td><td>99.0</td><td>0.278</td><td>99.0</td><td>0.14</td><td>1.056</td><td>0.031</td><td>0.032</td><td>0.065</td><td>0.157</td><td>0.086</td><td>0.073</td><td>0.11</td><td>0.104</td><td>0.083</td><td>0.129</td><td>0.015</td><td>0.323</td><td>3</td><td>3</td><td>3</td><td>3</td><td>3</td><td>3</td><td>3</td><td>3</td><td>3</td><td>3</td><td>3</td><td>3</td><td>0</td><td>0</td><td>0</td><td>0</td><td>0</td><td>0</td><td>0</td><td>0</td><td>0</td><td>0</td><td>0</td><td>0</td><td>12008</td><td>187.200491</td><td>43.230198</td><td>0.0011283364965543575</td></tr>\n",
       "<tr><td>66536</td><td>12037</td><td>187.194444923</td><td>43.2291950512</td><td>0.0</td><td>4.57801342</td><td>19.294</td><td>20.485</td><td>99.0</td><td>99.0</td><td>18.373</td><td>18.91</td><td>19.13</td><td>19.588</td><td>19.968</td><td>19.342</td><td>17.482</td><td>99.0</td><td>99.0</td><td>99.0</td><td>99.0</td><td>99.0</td><td>18.107</td><td>19.649</td><td>19.228</td><td>99.0</td><td>99.0</td><td>99.0</td><td>18.277</td><td>99.0</td><td>19.143</td><td>19.21</td><td>19.863</td><td>19.728</td><td>19.255</td><td>19.105</td><td>19.574</td><td>19.697</td><td>19.428</td><td>19.61</td><td>17.526</td><td>20.136</td><td>0.145</td><td>0.455</td><td>99.0</td><td>99.0</td><td>0.136</td><td>0.252</td><td>0.307</td><td>0.379</td><td>0.495</td><td>0.298</td><td>0.05</td><td>99.0</td><td>99.0</td><td>99.0</td><td>99.0</td><td>99.0</td><td>0.162</td><td>0.781</td><td>0.509</td><td>99.0</td><td>99.0</td><td>99.0</td><td>0.16</td><td>99.0</td><td>0.044</td><td>0.05</td><td>0.09</td><td>0.179</td><td>0.11</td><td>0.108</td><td>0.165</td><td>0.145</td><td>0.108</td><td>0.134</td><td>0.022</td><td>0.323</td><td>3</td><td>3</td><td>3</td><td>3</td><td>3</td><td>3</td><td>3</td><td>3</td><td>3</td><td>3</td><td>3</td><td>3</td><td>0</td><td>0</td><td>0</td><td>0</td><td>0</td><td>0</td><td>0</td><td>0</td><td>0</td><td>0</td><td>0</td><td>0</td><td>12037</td><td>187.194445</td><td>43.229195</td><td>0.00027343577593479053</td></tr>\n",
       "<tr><td>66536</td><td>15026</td><td>187.179275606</td><td>43.2424874012</td><td>7.25999928</td><td>5.90509176</td><td>18.064</td><td>17.86</td><td>18.681</td><td>18.824</td><td>18.548</td><td>18.266</td><td>17.979</td><td>18.777</td><td>18.166</td><td>19.241</td><td>16.17</td><td>18.26</td><td>17.974</td><td>17.82</td><td>18.517</td><td>18.717</td><td>18.294</td><td>18.18</td><td>18.152</td><td>18.958</td><td>18.133</td><td>19.43</td><td>16.116</td><td>18.2</td><td>18.606</td><td>18.212</td><td>19.386</td><td>19.454</td><td>18.873</td><td>18.573</td><td>18.575</td><td>19.055</td><td>18.748</td><td>19.409</td><td>16.61</td><td>19.509</td><td>0.059</td><td>0.051</td><td>0.115</td><td>0.295</td><td>0.203</td><td>0.178</td><td>0.136</td><td>0.227</td><td>0.119</td><td>0.342</td><td>0.019</td><td>0.218</td><td>0.067</td><td>0.061</td><td>0.124</td><td>0.333</td><td>0.199</td><td>0.203</td><td>0.195</td><td>0.332</td><td>0.142</td><td>0.505</td><td>0.022</td><td>0.258</td><td>0.027</td><td>0.022</td><td>0.058</td><td>0.139</td><td>0.08</td><td>0.069</td><td>0.07</td><td>0.083</td><td>0.06</td><td>0.111</td><td>0.012</td><td>0.181</td><td>0</td><td>0</td><td>0</td><td>0</td><td>0</td><td>0</td><td>0</td><td>0</td><td>0</td><td>0</td><td>0</td><td>0</td><td>0</td><td>0</td><td>0</td><td>0</td><td>0</td><td>0</td><td>0</td><td>0</td><td>0</td><td>0</td><td>0</td><td>0</td><td>15026</td><td>187.179276</td><td>43.242487</td><td>0.0017758556603112133</td></tr>\n",
       "<tr><td>64138</td><td>3942</td><td>126.48124639</td><td>35.5422314816</td><td>6.59999943</td><td>3.56904674</td><td>17.899</td><td>17.832</td><td>18.178</td><td>18.205</td><td>18.402</td><td>18.311</td><td>18.139</td><td>18.292</td><td>18.115</td><td>18.451</td><td>16.348</td><td>18.377</td><td>17.875</td><td>17.752</td><td>17.972</td><td>18.449</td><td>18.224</td><td>18.212</td><td>17.968</td><td>18.097</td><td>17.993</td><td>18.412</td><td>16.228</td><td>17.723</td><td>18.222</td><td>18.131</td><td>18.714</td><td>18.978</td><td>18.694</td><td>18.637</td><td>18.497</td><td>18.647</td><td>18.522</td><td>18.84</td><td>16.51</td><td>19.022</td><td>0.032</td><td>0.028</td><td>0.061</td><td>0.114</td><td>0.098</td><td>0.092</td><td>0.08</td><td>0.077</td><td>0.065</td><td>0.088</td><td>0.015</td><td>0.183</td><td>0.057</td><td>0.046</td><td>0.096</td><td>0.271</td><td>0.151</td><td>0.152</td><td>0.123</td><td>0.116</td><td>0.104</td><td>0.155</td><td>0.023</td><td>0.189</td><td>0.024</td><td>0.022</td><td>0.052</td><td>0.118</td><td>0.071</td><td>0.069</td><td>0.063</td><td>0.059</td><td>0.053</td><td>0.068</td><td>0.012</td><td>0.169</td><td>0</td><td>0</td><td>0</td><td>0</td><td>0</td><td>0</td><td>0</td><td>0</td><td>0</td><td>0</td><td>0</td><td>0</td><td>0</td><td>0</td><td>0</td><td>0</td><td>0</td><td>0</td><td>0</td><td>0</td><td>0</td><td>0</td><td>0</td><td>0</td><td>3942</td><td>126.481246</td><td>35.542231</td><td>0.002076304441221693</td></tr>\n",
       "<tr><td>66608</td><td>6957</td><td>221.047622585</td><td>42.6265792238</td><td>5.93999958</td><td>4.81339741</td><td>15.908</td><td>15.949</td><td>16.063</td><td>15.849</td><td>16.679</td><td>16.435</td><td>16.227</td><td>16.139</td><td>16.108</td><td>16.014</td><td>15.207</td><td>16.081</td><td>15.867</td><td>15.926</td><td>16.05</td><td>15.735</td><td>16.645</td><td>16.495</td><td>16.209</td><td>16.143</td><td>16.1</td><td>15.96</td><td>15.175</td><td>16.161</td><td>17.758</td><td>17.57</td><td>18.137</td><td>18.082</td><td>18.184</td><td>17.974</td><td>17.897</td><td>18.007</td><td>17.861</td><td>18.083</td><td>16.396</td><td>18.279</td><td>0.017</td><td>0.018</td><td>0.03</td><td>0.052</td><td>0.084</td><td>0.069</td><td>0.058</td><td>0.04</td><td>0.036</td><td>0.035</td><td>0.018</td><td>0.069</td><td>0.021</td><td>0.021</td><td>0.038</td><td>0.06</td><td>0.101</td><td>0.09</td><td>0.071</td><td>0.051</td><td>0.045</td><td>0.042</td><td>0.022</td><td>0.093</td><td>0.015</td><td>0.015</td><td>0.027</td><td>0.05</td><td>0.051</td><td>0.045</td><td>0.043</td><td>0.036</td><td>0.031</td><td>0.036</td><td>0.011</td><td>0.069</td><td>3</td><td>3</td><td>3</td><td>3</td><td>3</td><td>3</td><td>3</td><td>3</td><td>3</td><td>3</td><td>3</td><td>3</td><td>0</td><td>0</td><td>0</td><td>0</td><td>0</td><td>0</td><td>0</td><td>0</td><td>0</td><td>0</td><td>0</td><td>0</td><td>6957</td><td>221.047623</td><td>42.626579</td><td>0.0013628984768177474</td></tr>\n",
       "</table>"
      ],
      "text/plain": [
       "<Table length=80>\n",
       " Tile Number       RA      ...    col2       col3         Separation      \n",
       "int64 int64     float64    ...  float64    float64         float64        \n",
       "----- ------ ------------- ... ---------- --------- ----------------------\n",
       "71690  16885 16.2572506852 ...  16.257251  2.105413  0.0011383991262610717\n",
       "71690  17355 16.2730098396 ...   16.27301  2.154941  0.0011104109035553005\n",
       "71690  17943  16.258357097 ...  16.258357   2.14768  0.0010530276690058197\n",
       "71690  18107 16.2602086665 ...  16.260209  2.134188  0.0012037418547811937\n",
       "71690  18758 16.2599953258 ...  16.259995   2.14482  0.0018462178103936808\n",
       "71690  19796 16.2521709332 ...  16.252171  2.178142 0.00026328306008953107\n",
       "70063  24151 114.205796131 ... 114.205796 65.687835  0.0002324467806069685\n",
       "70063  24692 114.236531125 ... 114.236531 65.664423   0.001010401981248413\n",
       "70063  26451 113.965152896 ... 113.965153 65.583279   0.001381019416230524\n",
       "70455   1485 149.076360434 ...  149.07636 68.828615  0.0016152109720481405\n",
       "  ...    ...           ... ...        ...       ...                    ...\n",
       "67752   2740 212.260672142 ... 212.260672 48.013021  0.0014923111045155786\n",
       "75427  11008 279.877971942 ... 279.877972 73.582857  0.0008254322071403005\n",
       "65478   6149 139.135657686 ... 139.135658 39.867526  0.0009196362645558461\n",
       "65478   6156 139.136610165 ...  139.13661 39.866099  0.0008800636410970943\n",
       "75572  15626 154.679463255 ... 154.679463 46.050556  0.0007200605921597812\n",
       "66536  12008  187.20049073 ... 187.200491 43.230198  0.0011283364965543575\n",
       "66536  12037 187.194444923 ... 187.194445 43.229195 0.00027343577593479053\n",
       "66536  15026 187.179275606 ... 187.179276 43.242487  0.0017758556603112133\n",
       "64138   3942  126.48124639 ... 126.481246 35.542231   0.002076304441221693\n",
       "66608   6957 221.047622585 ... 221.047623 42.626579  0.0013628984768177474"
      ]
     },
     "execution_count": 4,
     "metadata": {},
     "output_type": "execute_result"
    }
   ],
   "source": [
    "table"
   ]
  },
  {
   "cell_type": "code",
   "execution_count": null,
   "metadata": {},
   "outputs": [],
   "source": []
  },
  {
   "cell_type": "code",
   "execution_count": null,
   "metadata": {},
   "outputs": [],
   "source": []
  }
 ],
 "metadata": {
  "kernelspec": {
   "display_name": "Python 3",
   "language": "python",
   "name": "python3"
  },
  "language_info": {
   "codemirror_mode": {
    "name": "ipython",
    "version": 3
   },
   "file_extension": ".py",
   "mimetype": "text/x-python",
   "name": "python",
   "nbconvert_exporter": "python",
   "pygments_lexer": "ipython3",
   "version": "3.7.4"
  }
 },
 "nbformat": 4,
 "nbformat_minor": 2
}
