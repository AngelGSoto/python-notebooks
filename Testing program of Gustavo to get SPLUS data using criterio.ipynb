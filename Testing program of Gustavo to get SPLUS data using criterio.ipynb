{
 "cells": [
  {
   "cell_type": "markdown",
   "metadata": {},
   "source": [
    "Applying the program of Gustavo to search for objects"
   ]
  },
  {
   "cell_type": "code",
   "execution_count": 1,
   "metadata": {},
   "outputs": [],
   "source": [
    "import splusdata \n",
    "from astropy.io import ascii\n",
    "import os\n",
    "import csv\n",
    "from astropy.table import Table"
   ]
  },
  {
   "cell_type": "code",
   "execution_count": 2,
   "metadata": {},
   "outputs": [
    {
     "ename": "NameError",
     "evalue": "name 'get_columns' is not defined",
     "output_type": "error",
     "traceback": [
      "\u001b[0;31m---------------------------------------------------------------------------\u001b[0m",
      "\u001b[0;31mNameError\u001b[0m                                 Traceback (most recent call last)",
      "\u001b[0;32m<ipython-input-2-114d98dba87d>\u001b[0m in \u001b[0;36m<module>\u001b[0;34m\u001b[0m\n\u001b[0;32m----> 1\u001b[0;31m \u001b[0mget_columns\u001b[0m\u001b[0;34m(\u001b[0m\u001b[0;34m)\u001b[0m\u001b[0;34m\u001b[0m\u001b[0;34m\u001b[0m\u001b[0m\n\u001b[0m",
      "\u001b[0;31mNameError\u001b[0m: name 'get_columns' is not defined"
     ]
    }
   ],
   "source": [
    "get_columns()"
   ]
  },
  {
   "cell_type": "code",
   "execution_count": null,
   "metadata": {},
   "outputs": [],
   "source": [
    "splusdata.get_surveys()"
   ]
  },
  {
   "cell_type": "code",
   "execution_count": null,
   "metadata": {},
   "outputs": [],
   "source": [
    "condit = ['(R_PStotal - F660_PStotal) > 0.6', '(I_PStotal - F660_PStotal) > 0.6', 'R_PStotal > 0', 'R_PStotal < 23', 'F515_PStotal > 0', \n",
    "   'F515_PStotal < 23', 'F861_PStotal > 0', 'F861_PStotal < 23', 'I_PStotal > 0', 'I_PStotal < 23', 'R_PStotal < 20.5'] "
   ]
  },
  {
   "cell_type": "code",
   "execution_count": null,
   "metadata": {},
   "outputs": [],
   "source": [
    "df = queryidr3_complex('main1', condit)"
   ]
  },
  {
   "cell_type": "code",
   "execution_count": null,
   "metadata": {},
   "outputs": [],
   "source": [
    "df"
   ]
  },
  {
   "cell_type": "code",
   "execution_count": null,
   "metadata": {},
   "outputs": [],
   "source": [
    "file_name = '../emission-line-stars.csv'\n",
    "df.to_csv(file_name, index=False)\n"
   ]
  },
  {
   "cell_type": "code",
   "execution_count": null,
   "metadata": {},
   "outputs": [],
   "source": [
    "condit1 = ['R_PStotal < 20', 'R_PStotal != 99.', 'F515_PStotal != 99.', 'F660_PStotal != 99.', 'I_PStotal != 99.', 'F861_PStotal != 99.', '(R_PStotal - F660_PStotal) >= 0.43*(R_PStotal - I_PStotal) + 0.65', 'R_PStotal - F660_PStotal <= -6.8*(R_PStotal - I_PStotal) - 1.3',\n",
    "'(F515_PStotal - F660_PStotal) >= 0.22', '(F515_PStotal - F660_PStotal) >= 2.7*(F515_PStotal - F861_PStotal) + 2.15', '(G_PStotal - F515_PStotal) <= 0.12*(F660_PStotal - R_PStotal) - 0.01', \n",
    "'(G_PStotal - F515_PStotal) <= -1.1*(F660_PStotal - R_PStotal) - 1.07', '(Z_PStotal - F660_PStotal) >= 0.2319*(Z_PStotal - G_PStotal) + 0.85', \n",
    "'(Z_PStotal - F660_PStotal) >= -1.3*(Z_PStotal - G_PStotal) + 1.7', '(F410_PStotal - F660_PStotal) >= 8.0*(G_PStotal - I_PStotal) + 4.5', \n",
    "'(F410_PStotal - F660_PStotal) >= 0.8*(G_PStotal - I_PStotal) + 0.55']"
   ]
  },
  {
   "cell_type": "code",
   "execution_count": null,
   "metadata": {},
   "outputs": [],
   "source": [
    "df1 = queryidr3_complex('main1', condit1)"
   ]
  },
  {
   "cell_type": "code",
   "execution_count": null,
   "metadata": {},
   "outputs": [],
   "source": [
    "file_name1 = '../IDR3-SPLUS/pne-candidate-r20.csv'\n",
    "df1.to_csv(file_name1, index=False)\n"
   ]
  },
  {
   "cell_type": "code",
   "execution_count": null,
   "metadata": {},
   "outputs": [],
   "source": [
    "df1"
   ]
  },
  {
   "cell_type": "code",
   "execution_count": null,
   "metadata": {},
   "outputs": [],
   "source": [
    "condit2 =['R_aper_6 <= 20', 'R_aper_6 != 99.', 'F515_aper_6 != 99.', 'F660_aper_6 != 99.', 'I_aper_6 != 99.', 'F861_aper_6 != 99.', '(R_aper_6 - F660_aper_6) >= 0.43*(R_aper_6 - I_aper_6) + 0.65', 'R_aper_6 - F660_aper_6 <= -6.8*(R_aper_6 - I_aper_6) - 1.3', \n",
    "'(F515_aper_6 - F660_aper_6) >= 0.22', '(F515_aper_6 - F660_aper_6) >= 2.7*(F515_aper_6 - F861_aper_6) + 2.15', '(G_aper_6 - F515_aper_6) <= 0.12*(F660_aper_6 - R_aper_6) - 0.01', \n",
    "'(G_aper_6 - F515_aper_6) <= -1.1*(F660_aper_6 - R_aper_6) - 1.07', '(Z_aper_6 - F660_aper_6) >= 0.2319*(Z_aper_6 - G_aper_6) + 0.85', \n",
    "'(Z_aper_6 - F660_aper_6) >= -1.3*(Z_aper_6 - G_aper_6) + 1.7', '(F410_aper_6 - F660_aper_6) >= 8.0*(G_aper_6 - I_aper_6) + 4.5', \n",
    "'(F410_aper_6 - F660_aper_6) >= 0.8*(G_aper_6 - I_aper_6) + 0.55']"
   ]
  },
  {
   "cell_type": "code",
   "execution_count": null,
   "metadata": {},
   "outputs": [],
   "source": [
    "df2 = queryidr3_complex('main1', condit2)"
   ]
  },
  {
   "cell_type": "code",
   "execution_count": null,
   "metadata": {},
   "outputs": [],
   "source": [
    "df2"
   ]
  },
  {
   "cell_type": "code",
   "execution_count": null,
   "metadata": {},
   "outputs": [],
   "source": [
    "file_name2 = '../IDR3-SPLUS/pne-candidate-aper6-r20.csv'\n",
    "df2.to_csv(file_name2, index=False)\n"
   ]
  },
  {
   "cell_type": "code",
   "execution_count": null,
   "metadata": {},
   "outputs": [],
   "source": []
  }
 ],
 "metadata": {
  "kernelspec": {
   "display_name": "Python 3",
   "language": "python",
   "name": "python3"
  },
  "language_info": {
   "codemirror_mode": {
    "name": "ipython",
    "version": 3
   },
   "file_extension": ".py",
   "mimetype": "text/x-python",
   "name": "python",
   "nbconvert_exporter": "python",
   "pygments_lexer": "ipython3",
   "version": "3.7.4"
  }
 },
 "nbformat": 4,
 "nbformat_minor": 2
}
