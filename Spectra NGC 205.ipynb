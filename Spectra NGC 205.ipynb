{
 "cells": [
  {
   "cell_type": "code",
   "execution_count": 1,
   "metadata": {},
   "outputs": [
    {
     "name": "stdout",
     "output_type": "stream",
     "text": [
      "Populating the interactive namespace from numpy and matplotlib\n"
     ]
    }
   ],
   "source": [
    "%pylab inline\n",
    "from __future__ import print_function\n",
    "from astropy.io import fits\n",
    "import os\n",
    "import numpy as np\n",
    "import glob\n",
    "import matplotlib.pyplot as plt\n",
    "from astropy.wcs import WCS\n",
    "%matplotlib inline"
   ]
  },
  {
   "cell_type": "code",
   "execution_count": 2,
   "metadata": {},
   "outputs": [
    {
     "name": "stderr",
     "output_type": "stream",
     "text": [
      "WARNING: AstropyDeprecationWarning: Config parameter 'enabled_record_valued_keyword_cards' in section [io.fits] of the file '/home/angel/.astropy/config/astropy.cfg' is deprecated. Use 'enable_record_valued_keyword_cards' in section [io.fits] instead. [astropy.config.configuration]\n",
      "WARNING:astropy:AstropyDeprecationWarning: Config parameter 'enabled_record_valued_keyword_cards' in section [io.fits] of the file '/home/angel/.astropy/config/astropy.cfg' is deprecated. Use 'enable_record_valued_keyword_cards' in section [io.fits] instead.\n"
     ]
    }
   ],
   "source": [
    "datadir = \"../NGC205-spectros//\"\n",
    "fitsfile = \"ss205_blue.fits\"\n",
    "hdulist = fits.open(os.path.join(datadir, fitsfile))"
   ]
  },
  {
   "cell_type": "code",
   "execution_count": 3,
   "metadata": {},
   "outputs": [
    {
     "name": "stdout",
     "output_type": "stream",
     "text": [
      "Filename: ../NGC205-spectros//ss205_blue.fits\n",
      "No.    Name         Type      Cards   Dimensions   Format\n",
      "0    PRIMARY     PrimaryHDU      71   (3218,)      float32   \n"
     ]
    }
   ],
   "source": [
    "hdulist.info()"
   ]
  },
  {
   "cell_type": "code",
   "execution_count": 4,
   "metadata": {},
   "outputs": [
    {
     "data": {
      "text/plain": [
       "SIMPLE  =                    T / Fits standard                                  \n",
       "BITPIX  =                  -32 / Bits per pixel                                 \n",
       "NAXIS   =                    1 / Number of axes                                 \n",
       "NAXIS1  =                 3218 / Axis length                                    \n",
       "EXTEND  =                    F / File may contain extensions                    \n",
       "ORIGIN  = 'NOAO-IRAF FITS Image Kernel July 2003' / FITS file originator        \n",
       "OBJECT  = '27      '           / Name of the object observed                    \n",
       "DATE    = '2013-02-12T10:10:10' / Date FITS file was generated                  \n",
       "IRAF-TLM= '2013-02-12T10:10:10' / Time of last modification                     \n",
       "CTYPE1  = 'LINEAR  '           / R.A. in tangent plane projection               \n",
       "CRPIX1  =                   1. / Ref pix of axis 1                              \n",
       "CRVAL1  =      3815.4584960937 / RA at Ref pix in decimal degrees               \n",
       "CD1_1   =    0.908786573282561 / WCS matrix element 1 1                         \n",
       "CCDSUM  = '2 2     '           / CCD sum                                        \n",
       "GAIN    =                   1. / Amplifier gain                                 \n",
       "GAINMULT=                2.337 / Gain multiplication                            \n",
       "RDNOISE =                  3.3 / Readout noise                                  \n",
       "RADECSYS= 'FK5     '           / R.A./DEC. coordinate system reference          \n",
       "EQUINOX =                2000. / Equinox of coordinate system                   \n",
       "MJD-OBS =     55480.3061886182 / MJD of start of obseration                     \n",
       "WCSDIM  =                    1                                                  \n",
       "LTM1_1  =                   1.                                                  \n",
       "WAT0_001= 'system=equispec'    /                                                \n",
       "WAT1_001= 'wtype=linear label=Wavelength units=Angstroms' /                     \n",
       "MDFROW  =                   12 / Corresponding row in MDF                       \n",
       "DETSEC  = '[1:6216,2589:2658]' / Detector section(s)                            \n",
       "DATASEC = '[1:3108,1:35]'      / Data section(s)                                \n",
       "REFPIX1 =                2371. / Pixel of central wavelength                    \n",
       "DCLOG1  = 'Transform'                                                           \n",
       "DC-FLAG =                    0                                                  \n",
       "CDELT1  =    0.908786573282561                                                  \n",
       "WAVTRAN = 'gsN20101008S0227_012' / Name of wavelength transformation            \n",
       "EXPTIME =             2399.971                                                  \n",
       "AIRMASS =                1.208                                                  \n",
       "EX-FLAG =                    0                                                  \n",
       "CA-FLAG =                    0                                                  \n",
       "BUNIT   = 'erg/cm2/s/A'                                                         \n",
       "APNUM1  = '19 0 12.00 27.00'                                                    \n",
       "NCOMBINE=                    2                                                  \n",
       "                                                                                \n",
       "                                                                                \n",
       "                                                                                \n",
       "                                                                                \n",
       "                                                                                \n",
       "                                                                                \n",
       "                                                                                \n",
       "                                                                                \n",
       "                                                                                \n",
       "                                                                                \n",
       "                                                                                \n",
       "                                                                                \n",
       "                                                                                \n",
       "                                                                                \n",
       "                                                                                \n",
       "                                                                                \n",
       "                                                                                \n",
       "                                                                                \n",
       "                                                                                \n",
       "                                                                                \n",
       "                                                                                \n",
       "                                                                                \n",
       "                                                                                \n",
       "                                                                                \n",
       "                                                                                \n",
       "                                                                                \n",
       "                                                                                \n",
       "                                                                                \n",
       "                                                                                \n",
       "                                                                                \n",
       "                                                                                \n",
       "                                                                                "
      ]
     },
     "execution_count": 4,
     "metadata": {},
     "output_type": "execute_result"
    }
   ],
   "source": [
    "hdulist[0].header"
   ]
  },
  {
   "cell_type": "code",
   "execution_count": 5,
   "metadata": {},
   "outputs": [
    {
     "data": {
      "text/plain": [
       "array([ -9.06763163e-18,  -7.45616520e-19,   2.43991087e-18, ...,\n",
       "         5.51354921e-18,   5.54961470e-18,   5.95984872e-18], dtype=float32)"
      ]
     },
     "execution_count": 5,
     "metadata": {},
     "output_type": "execute_result"
    }
   ],
   "source": [
    "hdulist[0].data"
   ]
  },
  {
   "cell_type": "code",
   "execution_count": null,
   "metadata": {
    "collapsed": true
   },
   "outputs": [],
   "source": []
  }
 ],
 "metadata": {
  "kernelspec": {
   "display_name": "Python 3",
   "language": "python",
   "name": "python3"
  },
  "language_info": {
   "codemirror_mode": {
    "name": "ipython",
    "version": 3
   },
   "file_extension": ".py",
   "mimetype": "text/x-python",
   "name": "python",
   "nbconvert_exporter": "python",
   "pygments_lexer": "ipython3",
   "version": "3.6.5"
  }
 },
 "nbformat": 4,
 "nbformat_minor": 1
}
