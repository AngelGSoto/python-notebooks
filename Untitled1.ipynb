{
 "cells": [
  {
   "cell_type": "code",
   "execution_count": 1,
   "metadata": {},
   "outputs": [
    {
     "name": "stderr",
     "output_type": "stream",
     "text": [
      "/home/angel/anaconda2/lib/python2.7/site-packages/matplotlib/font_manager.py:273: UserWarning: Matplotlib is building the font cache using fc-list. This may take a moment.\n",
      "  warnings.warn('Matplotlib is building the font cache using fc-list. This may take a moment.')\n"
     ]
    }
   ],
   "source": [
    "from astropy.io import fits\n",
    "import os\n",
    "import numpy as np\n",
    "import glob\n",
    "import matplotlib.pyplot as plt\n",
    "from astropy.wcs import WCS\n",
    "%matplotlib inline"
   ]
  },
  {
   "cell_type": "code",
   "execution_count": 5,
   "metadata": {},
   "outputs": [],
   "source": [
    "datadir = \"../SFGs/\"\n",
    "fitsfile = \"spec-0856-52339-0599.fits\"\n",
    "hdulist = fits.open(os.path.join(datadir, fitsfile))\n"
   ]
  },
  {
   "cell_type": "code",
   "execution_count": 6,
   "metadata": {},
   "outputs": [
    {
     "name": "stdout",
     "output_type": "stream",
     "text": [
      "Filename: ../SFGs/spec-0856-52339-0599.fits\n",
      "No.    Name         Type      Cards   Dimensions   Format\n",
      "0    PRIMARY     PrimaryHDU     139   ()              \n",
      "1    COADD       BinTableHDU     26   3825R x 8C   [E, E, E, J, J, E, E, E]   \n",
      "2    SPECOBJ     BinTableHDU    262   1R x 126C    [6A, 4A, 16A, 23A, 16A, 8A, E, E, E, J, E, E, J, B, B, B, B, B, B, J, 22A, 19A, 19A, 22A, 19A, I, 3A, 3A, 1A, J, D, D, D, E, E, 19A, 8A, J, J, J, J, K, K, J, J, J, J, J, J, K, K, K, K, I, J, J, J, J, 5J, D, D, 6A, 21A, E, E, E, J, E, 24A, 10J, J, 10E, E, E, E, E, E, E, J, E, E, E, J, E, 5E, E, 10E, 10E, 10E, 5E, 5E, 5E, 5E, 5E, J, J, E, E, E, E, E, E, 25A, 21A, 10A, E, E, E, E, E, E, E, E, J, E, E, J, 1A, 1A, E, E, J, J, 1A, 5E, 5E]   \n",
      "3    SPZLINE     BinTableHDU     48   29R x 19C    [J, J, J, 13A, D, E, E, E, E, E, E, E, E, E, E, J, J, E, E]   \n",
      "4    B2-00013721-00013719-00013720  BinTableHDU    146   2047R x 7C   [E, E, E, J, E, E, E]   \n",
      "5    B2-00013722-00013719-00013720  BinTableHDU    146   2047R x 7C   [E, E, E, J, E, E, E]   \n",
      "6    B2-00013723-00013719-00013720  BinTableHDU    146   2047R x 7C   [E, E, E, J, E, E, E]   \n",
      "7    R2-00013721-00013719-00013720  BinTableHDU    146   2044R x 7C   [E, E, E, J, E, E, E]   \n",
      "8    R2-00013722-00013719-00013720  BinTableHDU    146   2044R x 7C   [E, E, E, J, E, E, E]   \n",
      "9    R2-00013723-00013719-00013720  BinTableHDU    146   2044R x 7C   [E, E, E, J, E, E, E]   \n"
     ]
    }
   ],
   "source": [
    "hdulist.info()"
   ]
  },
  {
   "cell_type": "code",
   "execution_count": 7,
   "metadata": {},
   "outputs": [
    {
     "data": {
      "text/plain": [
       "SIMPLE  =                    T / conforms to FITS standard                      \n",
       "BITPIX  =                    8 / array data type                                \n",
       "NAXIS   =                    0 / number of array dimensions                     \n",
       "EXTEND  =                    T                                                  \n",
       "TAI     =        4522127959.11 / 1st row - Number of seconds since Nov 17 1858  \n",
       "RA      =            209.45578 / 1st row - Right ascension of telescope boresigh\n",
       "DEC     =            4.572294  / 1st row - Declination of telescope boresight (d\n",
       "EQUINOX =              2000.00 /                                                \n",
       "RADECSYS= 'FK5     '           /                                                \n",
       "TAIHMS  = '10:21:46.68'        / 1st row - TAI time (HH:MM:SS.SS) (TAI-UT = appr\n",
       "TIMESYS = 'tai     '           / TAI, not UTC                                   \n",
       "MJD     =                52339 / MJD of observation                             \n",
       "MJDLIST = '52339   '           /                                                \n",
       "VERSION = 'v3_71_1 '           / version of IOP                                 \n",
       "CAMVER  = 'SPEC1 v4_7'         / Camera code version                            \n",
       "OBSERVER= 'long    '                                                            \n",
       "OBSCOMM = 'science '                                                            \n",
       "TELESCOP= 'SDSS 2.5-M'         / Sloan Digital Sky Survey                       \n",
       "BESTEXP =                13721 /                                                \n",
       "NEXP_B1 =                    3 / b1 camera number of exposures                  \n",
       "NEXP_R1 =                    3 / r1 camera number of exposures                  \n",
       "EXPT_B1 =              2701.00 / b1 camera exposure time (seconds)              \n",
       "EXPT_R1 =              2701.00 / r1 camera exposure time (seconds)              \n",
       "EXPTIME =              2701.00 / Minimum of exposure times for all cameras      \n",
       "SPCOADD = 'Sun Feb 24 19:33:02 2008' / SPCOADD finished                         \n",
       "FLAVOR  = 'science '           / Flavor of this sequence (e.g., dome f          \n",
       "QUALITY = 'excellent'          / night/image quality                            \n",
       "RADEG   = 2.09455700000000E+02 / Right Ascension. (degrees)                     \n",
       "DECDEG  = 4.57201600000000E+00 / Declination. (degrees)                         \n",
       "PLATEID =                  856 / Plate Id                                       \n",
       "TILEID  =                  627 / Tile Id                                        \n",
       "CARTID  =                    1 /Cartridge used in this plugging                 \n",
       "REDDEN  = '0.1084 0.0798 0.0578 0.0439 0.0311' / Median reddening vector for pla\n",
       "MAPID   =              5233501 / Map Id                                         \n",
       "NAME    = '0856-52335-01'      / Name of target; PlateId-MJD-Mapper Re          \n",
       "COLBIN  =                    1 / Binning factor perpendicular to the c          \n",
       "ROWBIN  =                    1 / Binning factor perpendicular to the r          \n",
       "PROGRAM = 'binning 1   1 '     / Identifying name for CCD program               \n",
       "SECFOCUS= -1.0000000000000E+02 / Secondary Mirror Position as reported          \n",
       "GUIDEIMG= '/data/spectro/guider/gimg0747.fits' / Last archived guider image     \n",
       "WTIME   =        1015410871.33 / weatherData(timeStamp)                         \n",
       "AIRTEMP =        1.73333333333 / weatherData(airtemp)                           \n",
       "DEWPOINT=       -26.8666666667 / weatherData(dewpoint)                          \n",
       "DEWDEP  =        28.6333333333 / weatherData(dewpointDep)                       \n",
       "DUSTA   =        4888.33333333 / weatherData(dusta)                             \n",
       "DUSTB   =        91.0000000000 / weatherData(dustb)                             \n",
       "DUSTC   =        7164.33333333 / weatherData(dustc)                             \n",
       "DUSTD   =        211.666666667 / weatherData(dustd)                             \n",
       "GUSTD   = 3.03800000000000E+02 / weatherData(gustd)                             \n",
       "GUSTS   =        29.5333333333 / weatherData(gusts)                             \n",
       "HUMIDITY=        9.76666666667 / weatherData(humidity)                          \n",
       "HUMIDOUT=        9.00000000000 / weatherData(humidout)                          \n",
       "PRESSURE=        21.4233333333 / weatherData(pressure)                          \n",
       "WINDD   =        304.000000000 / weatherData(windd)                             \n",
       "WINDS   =        17.5333333333 / weatherData(winds)                             \n",
       "TEMP01  =       -94.1400000000 / CCD 01 Temperature                             \n",
       "TEMP02  =       -93.6200000000 / CCD 02 Temperature                             \n",
       "TEMP03  =       -92.9700000000 / CCD 03 Temperature                             \n",
       "TEMP04  =       -93.3600000000 / CCD 04 Temperature                             \n",
       "VERSIDL = '6.3     '           / Version of IDL                                 \n",
       "VERSUTIL= 'v5_3_0  '           / Version of idlutils                            \n",
       "VERSREAD= 'v5_3_12 '           / Version of idlspec2d for pre-processing raw dat\n",
       "VERS2D  = 'v5_3_12 '           / Version of idlspec2d for 2D reduction          \n",
       "VERSCOMB= 'v5_3_12 '           / Version of idlspec2d for combining multiple spe\n",
       "VERSLOG = 'fermi-CVS 02/24/08' / Version of SPECLOG product                     \n",
       "VERSFLAT= 'v1_7    '           / Version of SPECFLAT product                    \n",
       "OPBC    = 'opBC-51813.par'     /                                                \n",
       "OPCONFIG= 'opConfig-50000.par' /                                                \n",
       "OPECALIB= 'opECalib-51577.par' /                                                \n",
       "PLUGFILE= 'plPlugMapM-0856-52335-01.par' /                                      \n",
       "HELIO_RV=       -18.8688719338 / Heliocentric correction (added to velocities)  \n",
       "VACUUM  =                    T / Wavelengths are in vacuum                      \n",
       "SFLATTEN=                    T / Superflat has been applied                     \n",
       "PSFSKY  =                    3 / Order of PSF skysubtraction                    \n",
       "SKYCHI2 =        1.14190794668 / Mean chi^2 of sky-subtraction                  \n",
       "SCHI2MIN=        1.04511527276 /                                                \n",
       "SCHI2MAX=        1.26913746957 /                                                \n",
       "PREJECT =             0.200000 / Profile area rejection threshold               \n",
       "SPEC1_G =              10.9973 /(S/N)^2 for spec  1 at mag 20.20                \n",
       "SPEC1_R =              13.6712 /(S/N)^2 for spec  1 at mag 20.25                \n",
       "SPEC1_I =              13.3508 /(S/N)^2 for spec  1 at mag 19.90                \n",
       "SPEC2_G =              15.2762 /(S/N)^2 for spec  2 at mag 20.20                \n",
       "SPEC2_R =              18.9705 /(S/N)^2 for spec  2 at mag 20.25                \n",
       "SPEC2_I =              15.7684 /(S/N)^2 for spec  2 at mag 19.90                \n",
       "NSTD    =                   16 / Number of (good) std stars                     \n",
       "GOFFSTD =           -0.0396557 / Spectrophoto offset for std stars in G-band    \n",
       "GRMSSTD =            0.0474809 / Spectrophoto RMS for std stars in G-band       \n",
       "ROFFSTD =           -0.0254860 / Spectrophoto offset for std stars in R-band    \n",
       "RRMSSTD =            0.0400518 / Spectrophoto RMS for std stars in R-band       \n",
       "IOFFSTD =           -0.0220709 / Spectrophoto offset for std stars in I-band    \n",
       "IRMSSTD =            0.0396359 / Spectrophoto RMS for std stars in I-band       \n",
       "GROFFSTD=            0.0121241 / Spectrophoto offset for std stars in (GR)      \n",
       "GRRMSSTD=            0.0235340 / Spectrophoto RMS for std stars in (GR)         \n",
       "RIOFFSTD=           0.00463581 / Spectrophoto offset for std stars in (RI)      \n",
       "RIRMSSTD=            0.0194716 / Spectrophoto RMS for std stars in (RI)         \n",
       "NGAL    =                  469 / Number of (good) main galaxies                 \n",
       "GOFFGAL =           0.00273514 / Spectrophoto offset for main galaxies in G-band\n",
       "GRMSGAL =            0.0453959 / Spectrophoto RMS for main galaxies in G-band   \n",
       "ROFFGAL =           0.00420761 / Spectrophoto offset for main galaxies in R-band\n",
       "RRMSGAL =            0.0399389 / Spectrophoto RMS for main galaxies in R-band   \n",
       "IOFFGAL =           0.00310135 / Spectrophoto offset for main galaxies in I-band\n",
       "IRMSGAL =            0.0413023 / Spectrophoto RMS for main galaxies in I-band   \n",
       "GROFFGAL=           0.00303364 / Spectrophoto offset for main galaxies in (GR)  \n",
       "GRRMSGAL=            0.0329245 / Spectrophoto RMS for main galaxies in (GR)     \n",
       "RIOFFGAL=          -0.00336266 / Spectrophoto offset for main galaxies in (RI)  \n",
       "RIRMSGAL=            0.0219339 / Spectrophoto RMS for main galaxies in (RI)     \n",
       "LOWREJ  =                    5 / Extraction: low rejection                      \n",
       "HIGHREJ =                    8 / Extraction: high rejection                     \n",
       "SCATPOLY=                    0 / Extraction: Order of scattered light polynomial\n",
       "PROFTYPE=                    3 / Extraction profile: 1=Gaussian                 \n",
       "NFITPOLY=                    1 / Extraction: Number of parameters in each profil\n",
       "XCHI2   =              1.27407 / Extraction: Mean chi^2                         \n",
       "XCHI2MIN=              1.17779 /                                                \n",
       "XCHI2MAX=              1.42117 /                                                \n",
       "SHIFTGUE=   -0.000812781513105 /                                                \n",
       "SHIFT   =   -0.000812781513105 /Angstroms, at 4000AA                            \n",
       "SHIFTERR=   -0.000812781513105 /                                                \n",
       "NWORDER =                    2 / Linear-log10 coefficients                      \n",
       "WFITTYPE= 'LOG-LINEAR'         / Linear-log10 dispersion                        \n",
       "COEFF0  =        3.57970000000 / Central wavelength (log10) of first pixel      \n",
       "COEFF1  =    0.000100000000000 / Log10 dispersion per pixel                     \n",
       "FBADPIX =            0.0279257 / Fraction of bad pixels                         \n",
       "FBADPIX1=            0.0176654 / Fraction of bad pixels on spectro-1            \n",
       "FBADPIX2=            0.0382183 / Fraction of bad pixels on spectro-2            \n",
       "WAT0_001= 'system=linear'      /                                                \n",
       "WAT1_001= 'wtype=linear label=Wavelength units=Angstroms' /                     \n",
       "DC-FLAG =                    1 / Log-linear flag                                \n",
       "BUNIT   = '1E-17 erg/cm^2/s/Ang' /                                              \n",
       "PLUG_RA =            209.84474 / RA of object [deg]                             \n",
       "PLUG_DEC=            5.5386718 / dec of object [deg]                            \n",
       "SPEC_ID = '    963935011365480448' / Unique object identifier                   \n",
       "FIBERID =                  599 / Fiber number (1-640)                           \n",
       "NEXP    =                    6 / Number of individual exposures                 \n",
       "EXPID01 = 'b2-00013721-00013719-00013720'                                       \n",
       "EXPID02 = 'b2-00013722-00013719-00013720'                                       \n",
       "EXPID03 = 'b2-00013723-00013719-00013720'                                       \n",
       "EXPID04 = 'r2-00013721-00013719-00013720'                                       \n",
       "EXPID05 = 'r2-00013722-00013719-00013720'                                       \n",
       "EXPID06 = 'r2-00013723-00013719-00013720'                                       "
      ]
     },
     "execution_count": 7,
     "metadata": {},
     "output_type": "execute_result"
    }
   ],
   "source": [
    "hdulist[0].header"
   ]
  },
  {
   "cell_type": "code",
   "execution_count": 8,
   "metadata": {},
   "outputs": [
    {
     "data": {
      "text/plain": [
       "FITS_rec([ (12.514873, 3.5813999, 0.074753061, 0, 0, 1.1655678, 19.624083, 13.845561),\n",
       "       (13.864551, 3.5815001, 0.071233161, 0, 0, 1.1652515, 19.67205, 13.809552),\n",
       "       (17.687508, 3.5816, 0.070178166, 0, 0, 1.1649357, 19.577011, 13.865129),\n",
       "       ...,\n",
       "       (14.789076, 3.9635999, 0.43978158, 65558, 65558, 0.67317712, 4.3785615, 12.328524),\n",
       "       (15.35115, 3.9637001, 0.43565178, 65558, 65558, 0.67308855, 4.3683701, 12.329951),\n",
       "       (15.566163, 3.9638, 0.43433368, 65558, 65558, 0.67300057, 4.3937531, 12.33138)], \n",
       "      dtype=(numpy.record, [('flux', '>f4'), ('loglam', '>f4'), ('ivar', '>f4'), ('and_mask', '>i4'), ('or_mask', '>i4'), ('wdisp', '>f4'), ('sky', '>f4'), ('model', '>f4')]))"
      ]
     },
     "execution_count": 8,
     "metadata": {},
     "output_type": "execute_result"
    }
   ],
   "source": [
    "hdulist[1].data"
   ]
  },
  {
   "cell_type": "code",
   "execution_count": 9,
   "metadata": {},
   "outputs": [
    {
     "data": {
      "text/plain": [
       "array([ 12.51487255,  13.86455059,  17.68750763, ...,  14.78907585,\n",
       "        15.35114956,  15.56616306], dtype=float32)"
      ]
     },
     "execution_count": 9,
     "metadata": {},
     "output_type": "execute_result"
    }
   ],
   "source": [
    "hdulist[1].data.field('flux')"
   ]
  },
  {
   "cell_type": "code",
   "execution_count": 15,
   "metadata": {},
   "outputs": [],
   "source": [
    "a = []\n",
    "b = []\n",
    "for i, e in zip(10**hdulist[1].data.field('loglam'), hdulist[1].data.field('flux')*1e-17 ):\n",
    "    a.append(i)\n",
    "    b.append(e)\n"
   ]
  },
  {
   "cell_type": "code",
   "execution_count": 17,
   "metadata": {},
   "outputs": [
    {
     "data": {
      "text/plain": [
       "[<matplotlib.lines.Line2D at 0x7f0c25aa10d0>]"
      ]
     },
     "execution_count": 17,
     "metadata": {},
     "output_type": "execute_result"
    },
    {
     "data": {
      "image/png": "[encoded data removed]",
      "text/plain": [
       "<matplotlib.figure.Figure at 0x7f0c259b2a90>"
      ]
     },
     "metadata": {},
     "output_type": "display_data"
    }
   ],
   "source": [
    "plt.plot(a, b)"
   ]
  },
  {
   "cell_type": "code",
   "execution_count": null,
   "metadata": {
    "collapsed": true
   },
   "outputs": [],
   "source": []
  }
 ],
 "metadata": {
  "kernelspec": {
   "display_name": "Python 3",
   "language": "python",
   "name": "python3"
  },
  "language_info": {
   "codemirror_mode": {
    "name": "ipython",
    "version": 3
   },
   "file_extension": ".py",
   "mimetype": "text/x-python",
   "name": "python",
   "nbconvert_exporter": "python",
   "pygments_lexer": "ipython3",
   "version": "3.6.3"
  }
 },
 "nbformat": 4,
 "nbformat_minor": 1
}
