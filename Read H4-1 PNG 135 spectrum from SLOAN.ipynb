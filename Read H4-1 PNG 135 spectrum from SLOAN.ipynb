{
 "cells": [
  {
   "cell_type": "code",
   "execution_count": 1,
   "metadata": {},
   "outputs": [
    {
     "name": "stdout",
     "output_type": "stream",
     "text": [
      "Populating the interactive namespace from numpy and matplotlib\n"
     ]
    }
   ],
   "source": [
    "%pylab inline\n",
    "from __future__ import print_function\n",
    "from astropy.io import fits\n",
    "import os\n",
    "import numpy as np\n",
    "import glob\n",
    "import matplotlib.pyplot as plt\n",
    "from astropy.wcs import WCS\n",
    "%matplotlib inline"
   ]
  },
  {
   "cell_type": "code",
   "execution_count": 2,
   "metadata": {},
   "outputs": [
    {
     "name": "stderr",
     "output_type": "stream",
     "text": [
      "WARNING: AstropyDeprecationWarning: Config parameter 'enabled_record_valued_keyword_cards' in section [io.fits] of the file '/home/angel/.astropy/config/astropy.cfg' is deprecated. Use 'enable_record_valued_keyword_cards' in section [io.fits] instead. [astropy.config.configuration]\n"
     ]
    }
   ],
   "source": [
    "datadir = \"../Halo-PNe-spectros/\"\n",
    "fitsfile = \"spec-2241-54156-0108_H41_SLOAN.fits\"\n",
    "hdulist = fits.open(os.path.join(datadir, fitsfile))"
   ]
  },
  {
   "cell_type": "code",
   "execution_count": 3,
   "metadata": {},
   "outputs": [
    {
     "name": "stderr",
     "output_type": "stream",
     "text": [
      "WARNING: AstropyDeprecationWarning: Config parameter 'enabled_record_valued_keyword_cards' in section [io.fits] of the file '/home/angel/.astropy/config/astropy.cfg' is deprecated. Use 'enable_record_valued_keyword_cards' in section [io.fits] instead. [astropy.config.configuration]\n"
     ]
    },
    {
     "name": "stdout",
     "output_type": "stream",
     "text": [
      "Filename: ../Halo-PNe-spectros/spec-2241-54156-0108_H41_SLOAN.fits\n",
      "No.    Name      Ver    Type      Cards   Dimensions   Format\n",
      "  0  PRIMARY       1 PrimaryHDU     149   ()      \n",
      "  1  COADD         1 BinTableHDU     26   3827R x 8C   [E, E, E, J, J, E, E, E]   \n",
      "  2  SPECOBJ       1 BinTableHDU    262   1R x 126C   [6A, 4A, 16A, 23A, 16A, 8A, E, E, E, J, E, E, J, B, B, B, B, B, B, J, 22A, 19A, 19A, 22A, 19A, I, 3A, 3A, 1A, J, D, D, D, E, E, 19A, 8A, J, J, J, J, K, K, J, J, J, J, J, J, K, K, K, K, I, J, J, J, J, 5J, D, D, 6A, 21A, E, E, E, J, E, 24A, 10J, J, 10E, E, E, E, E, E, E, J, E, E, E, J, E, 5E, E, 10E, 10E, 10E, 5E, 5E, 5E, 5E, 5E, J, J, E, E, E, E, E, E, 25A, 21A, 10A, E, E, E, E, E, E, E, E, J, E, E, J, 1A, 1A, E, E, J, J, 1A, 5E, 5E]   \n",
      "  3  SPZLINE       1 BinTableHDU     48   29R x 19C   [J, J, J, 13A, D, E, E, E, E, E, E, E, E, E, E, J, J, E, E]   \n",
      "  4  B1-00043213-00043211-00043212    1 BinTableHDU    162   2041R x 7C   [E, E, E, J, E, E, E]   \n",
      "  5  B1-00043214-00043211-00043212    1 BinTableHDU    162   2041R x 7C   [E, E, E, J, E, E, E]   \n",
      "  6  B1-00043215-00043211-00043212    1 BinTableHDU    162   2038R x 7C   [E, E, E, J, E, E, E]   \n",
      "  7  R1-00043213-00043211-00043212    1 BinTableHDU    162   2047R x 7C   [E, E, E, J, E, E, E]   \n",
      "  8  R1-00043214-00043211-00043212    1 BinTableHDU    162   2047R x 7C   [E, E, E, J, E, E, E]   \n",
      "  9  R1-00043215-00043211-00043212    1 BinTableHDU    162   2047R x 7C   [E, E, E, J, E, E, E]   \n"
     ]
    },
    {
     "name": "stderr",
     "output_type": "stream",
     "text": [
      "WARNING: AstropyDeprecationWarning: Config parameter 'enabled_record_valued_keyword_cards' in section [io.fits] of the file '/home/angel/.astropy/config/astropy.cfg' is deprecated. Use 'enable_record_valued_keyword_cards' in section [io.fits] instead. [astropy.config.configuration]\n"
     ]
    }
   ],
   "source": [
    "hdulist.info()"
   ]
  },
  {
   "cell_type": "code",
   "execution_count": 4,
   "metadata": {},
   "outputs": [
    {
     "data": {
      "text/plain": [
       "SIMPLE  =                    T / conforms to FITS standard                      \n",
       "BITPIX  =                    8 / array data type                                \n",
       "NAXIS   =                    0 / number of array dimensions                     \n",
       "EXTEND  =                    T                                                  \n",
       "TAI     =        4679122585.39 / 1st row Number of seconds since Nov 17 1858    \n",
       "RA      =            194.87779 / 1st row RA of telescope boresight (deg)        \n",
       "DEC     =            27.214030 / 1st row Dec of telescope boresight (degrees)   \n",
       "EQUINOX =              2000.00 /                                                \n",
       "RADECSYS= 'FK5     '           /                                                \n",
       "TAIHMS  = '12:00:11.77'        / 1st row TAI time HH:MM:SS.SS                   \n",
       "TIMESYS = 'tai     '           / TAI, not UTC                                   \n",
       "MJD     =                54156 / MJD of observation                             \n",
       "MJDLIST = '54156   '           /                                                \n",
       "VERSION = 'v4_30_0 '           / version of IOP                                 \n",
       "CAMVER  = 'SPEC1 v4_8'         / Camera code version                            \n",
       "OBSERVER= 'elenam  '                                                            \n",
       "OBSCOMM = 'science '                                                            \n",
       "TELESCOP= 'SDSS 2.5-M'         / Sloan Digital Sky Survey                       \n",
       "BESTEXP =                43213 /                                                \n",
       "NEXP_B1 =                    3 / b1 camera number of exposures                  \n",
       "NEXP_R1 =                    3 / r1 camera number of exposures                  \n",
       "EXPT_B1 =              2700.00 / b1 camera exposure time (seconds)              \n",
       "EXPT_R1 =              2700.00 / r1 camera exposure time (seconds)              \n",
       "EXPTIME =              2700.00 / Minimum of exposure times for all cameras      \n",
       "SPCOADD = 'Sat Feb 16 22:40:32 2008' / SPCOADD finished                         \n",
       "FLAVOR  = 'science '           / Flavor of this sequence (e.g., dome f          \n",
       "QUALITY = 'excellent'          / night/image quality                            \n",
       "RADEG   = 1.94878000000000E+02 / Right Ascension. (degrees)                     \n",
       "DECDEG  = 2.72140500000000E+01 / Declination. (degrees)                         \n",
       "PLATEID =                 2241 / Plate Id                                       \n",
       "TILEID  =                 1612 / Tile Id                                        \n",
       "CARTID  =                    2 /Cartridge used in this plugging                 \n",
       "REDDEN  = '0.0460 0.0338 0.0245 0.0186 0.0132' / Median reddening vector for pla\n",
       "MAPID   =              5415401 / Map Id                                         \n",
       "NAME    = '2241-54154-01'      / Name of target; PlateId-MJD-Mapper Re          \n",
       "COLBIN  =                    1 / Binning factor perpendicular to the c          \n",
       "ROWBIN  =                    1 / Binning factor perpendicular to the r          \n",
       "PROGRAM = 'binning 1   1 '     / Identifying name for CCD program               \n",
       "SECFOCUS= 1.50000000000000E+02 / Secondary Mirror Position as reported          \n",
       "GUIDEIMG= '/data/spectro/guider/gimg1407.fits' / Last archived guider image     \n",
       "WTIME   =        1172405562.00 / weatherData(timeStamp)                         \n",
       "AIRTEMP =       -1.63333333333 / weatherData(airtemp)                           \n",
       "DEWPOINT=       -31.3333333333 / weatherData(dewpoint)                          \n",
       "DEWDEP  =        29.7333333333 / weatherData(dewpointDep)                       \n",
       "DUSTA   =        5431.66666667 / weatherData(dusta)                             \n",
       "DUSTB   =        145.333333333 / weatherData(dustb)                             \n",
       "DUSTC   =        6015.33333333 / weatherData(dustc)                             \n",
       "DUSTD   =        123.666666667 / weatherData(dustd)                             \n",
       "GUSTD   = 1.37000000000000E+01 / weatherData(gustd)                             \n",
       "GUSTS   =        10.7000000000 / weatherData(gusts)                             \n",
       "HUMIDITY=        8.70000000000 / weatherData(humidity)                          \n",
       "HUMIDOUT=        8.66666666667 / weatherData(humidout)                          \n",
       "PRESSURE=        21.3040000000 / weatherData(pressure)                          \n",
       "WINDD   =        110.700000000 / weatherData(windd)                             \n",
       "WINDS   =        3.06666666667 / weatherData(winds)                             \n",
       "MC1HUMID=                   18 / sp1 mech humidity                              \n",
       "MC1THB  =                   -3 / sp1 mech Temp_Hartmann_Bot                     \n",
       "MC2HUMID=                   15 / sp2 mech humidity                              \n",
       "MC2TEMDN=                   -3 / sp2 mech median temp                           \n",
       "MC2THB  =                   -3 / sp2 mech Temp_Hartmann_Bot                     \n",
       "MC2THT  =                   -3 / sp2 mech Temp_Hartmann_Top                     \n",
       "MC2TRCB =                   -3 / sp2 mech Temp_Red_Cam_Bot                      \n",
       "MC2TRCT =                   -3 / sp2 mech Temp_Red_Cam_Top                      \n",
       "MC2TBCB =                   -3 / sp2 mech Temp_Blue_Cam_Bot                     \n",
       "MC2TBCT =                   -3 / sp2 mech Temp_Blue_Cam_Top                     \n",
       "TEMP01  =       -93.8800000000 / CCD 01 Temperature                             \n",
       "TEMP02  =       -93.8800000000 / CCD 02 Temperature                             \n",
       "TEMP03  =       -93.1000000000 / CCD 03 Temperature                             \n",
       "TEMP04  =       -92.8400000000 / CCD 04 Temperature                             \n",
       "VERSIDL = '6.3     '           / Version of IDL                                 \n",
       "VERSUTIL= 'v5_3_0  '           / Version of idlutils                            \n",
       "VERSREAD= 'v5_3_12 '           / Version of idlspec2d for pre-processing raw dat\n",
       "VERS2D  = 'v5_3_12 '           / Version of idlspec2d for 2D reduction          \n",
       "VERSCOMB= 'v5_3_12 '           / Version of idlspec2d for combining multiple spe\n",
       "VERSLOG = 'fermi-CVS 02/16/08' / Version of SPECLOG product                     \n",
       "VERSFLAT= 'v1_7    '           / Version of SPECFLAT product                    \n",
       "OPBC    = 'opBC-51813.par'     /                                                \n",
       "OPCONFIG= 'opConfig-50000.par' /                                                \n",
       "OPECALIB= 'opECalib-51577.par' /                                                \n",
       "PLUGFILE= 'plPlugMapM-2241-54154-01.par' /                                      \n",
       "HELIO_RV=       -11.1449501099 / Heliocentric correction (added to velocities)  \n",
       "VACUUM  =                    T / Wavelengths are in vacuum                      \n",
       "SFLATTEN=                    T / Superflat has been applied                     \n",
       "PSFSKY  =                    3 / Order of PSF skysubtraction                    \n",
       "SKYCHI2 =        1.11840693299 / Mean chi^2 of sky-subtraction                  \n",
       "SCHI2MIN=        1.05962390678 /                                                \n",
       "SCHI2MAX=        1.24391432662 /                                                \n",
       "PREJECT =             0.200000 / Profile area rejection threshold               \n",
       "SPEC1_G =              14.2273 /(S/N)^2 for spec  1 at mag 20.20                \n",
       "SPEC1_R =              12.6690 /(S/N)^2 for spec  1 at mag 20.25                \n",
       "SPEC1_I =              11.3992 /(S/N)^2 for spec  1 at mag 19.90                \n",
       "SPEC2_G =              16.0100 /(S/N)^2 for spec  2 at mag 20.20                \n",
       "SPEC2_R =              17.3871 /(S/N)^2 for spec  2 at mag 20.25                \n",
       "SPEC2_I =              14.7793 /(S/N)^2 for spec  2 at mag 19.90                \n",
       "NSTD    =                   16 / Number of (good) std stars                     \n",
       "GOFFSTD =             0.105316 / Spectrophoto offset for std stars in G-band    \n",
       "GRMSSTD =            0.0458228 / Spectrophoto RMS for std stars in G-band       \n",
       "ROFFSTD =            0.0805593 / Spectrophoto offset for std stars in R-band    \n",
       "RRMSSTD =            0.0450243 / Spectrophoto RMS for std stars in R-band       \n",
       "IOFFSTD =            0.0780897 / Spectrophoto offset for std stars in I-band    \n",
       "IRMSSTD =            0.0524073 / Spectrophoto RMS for std stars in I-band       \n",
       "GROFFSTD=            0.0209866 / Spectrophoto offset for std stars in (GR)      \n",
       "GRRMSSTD=            0.0351301 / Spectrophoto RMS for std stars in (GR)         \n",
       "RIOFFSTD=           0.00301456 / Spectrophoto offset for std stars in (RI)      \n",
       "RIRMSSTD=            0.0250489 / Spectrophoto RMS for std stars in (RI)         \n",
       "NGAL    =                  478 / Number of (good) main galaxies                 \n",
       "GOFFGAL =           0.00238895 / Spectrophoto offset for main galaxies in G-band\n",
       "GRMSGAL =            0.0519085 / Spectrophoto RMS for main galaxies in G-band   \n",
       "ROFFGAL =          -0.00702667 / Spectrophoto offset for main galaxies in R-band\n",
       "RRMSGAL =            0.0468761 / Spectrophoto RMS for main galaxies in R-band   \n",
       "IOFFGAL =          -0.00161552 / Spectrophoto offset for main galaxies in I-band\n",
       "IRMSGAL =            0.0487058 / Spectrophoto RMS for main galaxies in I-band   \n",
       "GROFFGAL=           0.00656891 / Spectrophoto offset for main galaxies in (GR)  \n",
       "GRRMSGAL=            0.0326619 / Spectrophoto RMS for main galaxies in (GR)     \n",
       "RIOFFGAL=          -0.00339317 / Spectrophoto offset for main galaxies in (RI)  \n",
       "RIRMSGAL=            0.0234517 / Spectrophoto RMS for main galaxies in (RI)     \n",
       "LOWREJ  =                    5 / Extraction: low rejection                      \n",
       "HIGHREJ =                    8 / Extraction: high rejection                     \n",
       "SCATPOLY=                    0 / Extraction: Order of scattered light polynomial\n",
       "PROFTYPE=                    3 / Extraction profile: 1=Gaussian                 \n",
       "NFITPOLY=                    1 / Extraction: Number of parameters in each profil\n",
       "XCHI2   =              1.26510 / Extraction: Mean chi^2                         \n",
       "XCHI2MIN=              1.09282 /                                                \n",
       "XCHI2MAX=              1.51464 /                                                \n",
       "SHIFTGUE=   -0.000812781513105 /                                                \n",
       "SHIFT   =   -0.000812781513105 /Angstroms, at 4000AA                            \n",
       "SHIFTERR=   -0.000812781513105 /                                                \n",
       "NWORDER =                    2 / Linear-log10 coefficients                      \n",
       "WFITTYPE= 'LOG-LINEAR'         / Linear-log10 dispersion                        \n",
       "COEFF0  =        3.58010000000 / Central wavelength (log10) of first pixel      \n",
       "COEFF1  =    0.000100000000000 / Log10 dispersion per pixel                     \n",
       "FBADPIX =            0.0274562 / Fraction of bad pixels                         \n",
       "FBADPIX1=            0.0360859 / Fraction of bad pixels on spectro-1            \n",
       "FBADPIX2=            0.0188536 / Fraction of bad pixels on spectro-2            \n",
       "WAT0_001= 'system=linear'      /                                                \n",
       "WAT1_001= 'wtype=linear label=Wavelength units=Angstroms' /                     \n",
       "DC-FLAG =                    1 / Log-linear flag                                \n",
       "BUNIT   = '1E-17 erg/cm^2/s/Ang' /                                              \n",
       "PLUG_RA =            194.86576 / RA of object [deg]                             \n",
       "PLUG_DEC=            27.636312 / dec of object [deg]                            \n",
       "SPEC_ID = '   2523171447774406656' / Unique object identifier                   \n",
       "FIBERID =                  108 / Fiber number (1-640)                           \n",
       "NEXP    =                    6 / Number of individual exposures                 \n",
       "EXPID01 = 'b1-00043213-00043211-00043212'                                       \n",
       "EXPID02 = 'b1-00043214-00043211-00043212'                                       \n",
       "EXPID03 = 'b1-00043215-00043211-00043212'                                       \n",
       "EXPID04 = 'r1-00043213-00043211-00043212'                                       \n",
       "EXPID05 = 'r1-00043214-00043211-00043212'                                       \n",
       "EXPID06 = 'r1-00043215-00043211-00043212'                                       "
      ]
     },
     "execution_count": 4,
     "metadata": {},
     "output_type": "execute_result"
    }
   ],
   "source": [
    "hdulist[0].header"
   ]
  },
  {
   "cell_type": "code",
   "execution_count": 5,
   "metadata": {},
   "outputs": [
    {
     "name": "stderr",
     "output_type": "stream",
     "text": [
      "WARNING: AstropyDeprecationWarning: Config parameter 'enabled_record_valued_keyword_cards' in section [io.fits] of the file '/home/angel/.astropy/config/astropy.cfg' is deprecated. Use 'enable_record_valued_keyword_cards' in section [io.fits] instead. [astropy.config.configuration]\n"
     ]
    },
    {
     "data": {
      "text/plain": [
       "FITS_rec([(31.025366 , 3.5809, 0.03533246, 0, 67108864, 1.2739199 , 8.653283 , 59.79445  ),\n",
       "          (31.923887 , 3.581 , 0.03521156, 0, 67108864, 1.2735965 , 8.285672 , 62.632793 ),\n",
       "          (29.404562 , 3.5811, 0.03564236, 0, 67108864, 1.2732759 , 7.9596896, 49.435524 ),\n",
       "          ...,\n",
       "          ( 4.9038467, 3.9633, 0.65495825, 0,        0, 0.67759687, 5.49347  ,  7.685909 ),\n",
       "          ( 3.6376767, 3.9634, 0.68468   , 0,        0, 0.67778206, 5.6998763,  7.6756563),\n",
       "          ( 3.7546887, 3.9635, 0.66713095, 0,        0, 0.67796737, 5.7070413,  8.702733 )],\n",
       "         dtype=(numpy.record, [('flux', '>f4'), ('loglam', '>f4'), ('ivar', '>f4'), ('and_mask', '>i4'), ('or_mask', '>i4'), ('wdisp', '>f4'), ('sky', '>f4'), ('model', '>f4')]))"
      ]
     },
     "execution_count": 5,
     "metadata": {},
     "output_type": "execute_result"
    }
   ],
   "source": [
    "hdulist[1].data"
   ]
  },
  {
   "cell_type": "code",
   "execution_count": 6,
   "metadata": {},
   "outputs": [
    {
     "data": {
      "text/plain": [
       "array([3.1025366e-16, 3.1923886e-16, 2.9404561e-16, ..., 4.9038466e-17,\n",
       "       3.6376766e-17, 3.7546886e-17], dtype=float32)"
      ]
     },
     "execution_count": 6,
     "metadata": {},
     "output_type": "execute_result"
    }
   ],
   "source": [
    "flux = 1E-17*hdulist[1].data.field('flux')\n",
    "flux"
   ]
  },
  {
   "cell_type": "code",
   "execution_count": 7,
   "metadata": {},
   "outputs": [
    {
     "data": {
      "text/plain": [
       "array([3809.7805, 3810.659 , 3811.5356, ..., 9189.672 , 9191.785 ,\n",
       "       9193.905 ], dtype=float32)"
      ]
     },
     "execution_count": 7,
     "metadata": {},
     "output_type": "execute_result"
    }
   ],
   "source": [
    "wl = (10**hdulist[1].data.field('loglam'))\n",
    "wl"
   ]
  },
  {
   "cell_type": "code",
   "execution_count": 13,
   "metadata": {},
   "outputs": [
    {
     "data": {
      "image/png": "[encoded data removed]",
      "text/plain": [
       "<Figure size 1152x792 with 1 Axes>"
      ]
     },
     "metadata": {},
     "output_type": "display_data"
    }
   ],
   "source": [
    "plt.plot(wl, flux)\n",
    "#plt.xlim(6500,6600)\n",
    "gcf().set_size_inches(16,11)"
   ]
  },
  {
   "cell_type": "code",
   "execution_count": 14,
   "metadata": {},
   "outputs": [
    {
     "name": "stderr",
     "output_type": "stream",
     "text": [
      "WARNING: AstropyDeprecationWarning: Config parameter 'enabled_record_valued_keyword_cards' in section [io.fits] of the file '/home/angel/.astropy/config/astropy.cfg' is deprecated. Use 'enable_record_valued_keyword_cards' in section [io.fits] instead. [astropy.config.configuration]\n"
     ]
    }
   ],
   "source": [
    "datadir = \"../Halo-PNe-spectros/\"\n",
    "fitsfile = \"spec-0953-52411-0160_PNG_1359559.fits\"\n",
    "hdulist = fits.open(os.path.join(datadir, fitsfile))"
   ]
  },
  {
   "cell_type": "code",
   "execution_count": 15,
   "metadata": {},
   "outputs": [
    {
     "name": "stderr",
     "output_type": "stream",
     "text": [
      "WARNING: AstropyDeprecationWarning: Config parameter 'enabled_record_valued_keyword_cards' in section [io.fits] of the file '/home/angel/.astropy/config/astropy.cfg' is deprecated. Use 'enable_record_valued_keyword_cards' in section [io.fits] instead. [astropy.config.configuration]\n"
     ]
    },
    {
     "data": {
      "text/plain": [
       "array([7.9085560e-16, 7.2572052e-16, 7.9944515e-16, ..., 3.5239330e-17,\n",
       "       3.7957482e-17, 3.1064778e-17], dtype=float32)"
      ]
     },
     "execution_count": 15,
     "metadata": {},
     "output_type": "execute_result"
    }
   ],
   "source": [
    "flux = 1E-17*hdulist[1].data.field('flux')\n",
    "flux"
   ]
  },
  {
   "cell_type": "code",
   "execution_count": 16,
   "metadata": {},
   "outputs": [
    {
     "data": {
      "text/plain": [
       "array([3801.8933, 3802.77  , 3803.6448, ..., 9193.905 , 9196.0205,\n",
       "       9198.141 ], dtype=float32)"
      ]
     },
     "execution_count": 16,
     "metadata": {},
     "output_type": "execute_result"
    }
   ],
   "source": [
    "wl = (10**hdulist[1].data.field('loglam'))\n",
    "wl"
   ]
  },
  {
   "cell_type": "code",
   "execution_count": 17,
   "metadata": {},
   "outputs": [
    {
     "data": {
      "image/png": "[encoded data removed]",
      "text/plain": [
       "<Figure size 1152x792 with 1 Axes>"
      ]
     },
     "metadata": {},
     "output_type": "display_data"
    }
   ],
   "source": [
    "plt.plot(wl, flux)\n",
    "#plt.xlim(4684,4690)\n",
    "gcf().set_size_inches(16,11)"
   ]
  },
  {
   "cell_type": "code",
   "execution_count": null,
   "metadata": {
    "collapsed": true
   },
   "outputs": [],
   "source": []
  },
  {
   "cell_type": "code",
   "execution_count": null,
   "metadata": {
    "collapsed": true
   },
   "outputs": [],
   "source": []
  }
 ],
 "metadata": {
  "anaconda-cloud": {},
  "kernelspec": {
   "display_name": "Python 3",
   "language": "python",
   "name": "python3"
  },
  "language_info": {
   "codemirror_mode": {
    "name": "ipython",
    "version": 3
   },
   "file_extension": ".py",
   "mimetype": "text/x-python",
   "name": "python",
   "nbconvert_exporter": "python",
   "pygments_lexer": "ipython3",
   "version": "3.6.5"
  }
 },
 "nbformat": 4,
 "nbformat_minor": 1
}
